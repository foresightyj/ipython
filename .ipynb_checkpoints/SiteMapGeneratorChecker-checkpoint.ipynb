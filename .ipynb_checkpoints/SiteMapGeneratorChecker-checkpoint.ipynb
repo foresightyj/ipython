{
 "metadata": {
  "name": "",
  "signature": "sha256:bf5550050668ea97e29e0066e8564999d98671f5afceabf48c327a4396497665"
 },
 "nbformat": 3,
 "nbformat_minor": 0,
 "worksheets": [
  {
   "cells": [
    {
     "cell_type": "heading",
     "level": 2,
     "metadata": {},
     "source": [
      "Intelligently parse routing rules I noted a few months ago and turn then into regex matches"
     ]
    },
    {
     "cell_type": "code",
     "collapsed": false,
     "input": [
      "routing_rules_path = \"E:/OneDrive/Notes/fht360_study/routing_rules.cs\"\n",
      "\n",
      "def _get_rules():\n",
      "    with open(routing_rules_path) as f:\n",
      "        for line in f:\n",
      "            if '{' in line and '}' in line and 'currpage' in line.lower():\n",
      "                yield line.strip().lower().strip(\",\").strip('\"')\n",
      "                \n",
      "def _get_parse_rules():\n",
      "    controller_patt = r'(product|company)'\n",
      "    integer_patt = r'(?P<{kw}>\\d+)'\n",
      "\n",
      "    keyword_patterns = {kw: integer_patt.format(kw=kw) for kw in [\"realcategoryid\", \"categoryid\", \"currpage\", \"industryid\", \"region\", \"tagid\"]}\n",
      "\n",
      "    for rule in _get_rules():\n",
      "        try:\n",
      "            rule = rule.format(controller=controller_patt, **keyword_patterns)\n",
      "            yield rule\n",
      "        except KeyError as e:\n",
      "            print 'Don\\'t care about this token %s yet' % e\n",
      "            pass\n",
      "\n",
      "parse_rules = list(_get_parse_rules())\n",
      "\n",
      "for parse_rule in parse_rules:\n",
      "    print parse_rule"
     ],
     "language": "python",
     "metadata": {},
     "outputs": [
      {
       "output_type": "stream",
       "stream": "stdout",
       "text": [
        "Don't care about this token 'tradeid' yet\n",
        "(product|company)list/(?P<categoryid>\\d+)-(?P<currpage>\\d+)-(?P<region>\\d+).html\n",
        "(product|company)list/(?P<categoryid>\\d+)-(?P<currpage>\\d+).html\n",
        "(product|company)list/(?P<categoryid>\\d+)/(?P<realcategoryid>\\d+)-(?P<currpage>\\d+)-(?P<region>\\d+).html\n",
        "(product|company)list/(?P<categoryid>\\d+)/(?P<realcategoryid>\\d+)-(?P<currpage>\\d+).html\n",
        "newslist/(?P<industryid>\\d+)-(?P<tagid>\\d+)-(?P<currpage>\\d+).html\n",
        "newslist/(?P<industryid>\\d+)-(?P<currpage>\\d+).html\n"
       ]
      }
     ],
     "prompt_number": 22
    },
    {
     "cell_type": "heading",
     "level": 2,
     "metadata": {},
     "source": [
      "Group all matches by some kind of hash of all other fields except for currpage"
     ]
    },
    {
     "cell_type": "code",
     "collapsed": false,
     "input": [
      "!wc -l C://Users//yj//Desktop//fht360urls//urls//*currpage*.url"
     ],
     "language": "python",
     "metadata": {},
     "outputs": [
      {
       "output_type": "stream",
       "stream": "stdout",
       "text": [
        "   1908 C://Users//yj//Desktop//fht360urls//urls//generate_companylist_categoryid_currpage.url\n",
        "  20153 C://Users//yj//Desktop//fht360urls//urls//generate_companylist_categoryid_currpage_region.url\n",
        "   2719 C://Users//yj//Desktop//fht360urls//urls//generate_companylist_categoryid_realcategoryid_currpage.url\n",
        "  31511 C://Users//yj//Desktop//fht360urls//urls//generate_companylist_categoryid_realcategoryid_currpage_region.url\n",
        "    291 C://Users//yj//Desktop//fht360urls//urls//generate_newslist_industryid_currpage.url\n",
        "   4649 C://Users//yj//Desktop//fht360urls//urls//generate_newslist_industryid_tagid_currpage.url\n",
        "   8821 C://Users//yj//Desktop//fht360urls//urls//generate_productlist_categoryid_currpage.url\n",
        "   9932 C://Users//yj//Desktop//fht360urls//urls//generate_productlist_categoryid_currpage_region.url\n",
        "  10672 C://Users//yj//Desktop//fht360urls//urls//generate_productlist_categoryid_realcategoryid_currpage.url\n",
        "  16650 C://Users//yj//Desktop//fht360urls//urls//generate_productlist_categoryid_realcategoryid_currpage_region.url\n",
        " 107306 total\n"
       ]
      }
     ],
     "prompt_number": 23
    },
    {
     "cell_type": "code",
     "collapsed": false,
     "input": [
      "currpage_stats = !wc -l C://Users//yj//Desktop//fht360urls//urls//*currpage*.url\n",
      "currpage_total = int(currpage_stats[-1].split()[0])\n",
      "print 'There are', currpage_total, 'links which contains currpage in total'"
     ],
     "language": "python",
     "metadata": {},
     "outputs": [
      {
       "output_type": "stream",
       "stream": "stdout",
       "text": [
        "There are 107306 links which contains currpage in total\n"
       ]
      }
     ],
     "prompt_number": 24
    },
    {
     "cell_type": "code",
     "collapsed": false,
     "input": [
      "import os\n",
      "import re\n",
      "import requests\n",
      "import itertools\n",
      "from collections import defaultdict\n",
      "\n",
      "url_folder = u\"C:/Users/yj/Desktop/fht360urls/urls\"\n",
      "\n",
      "urls_files =  os.listdir(url_folder)\n",
      "\n",
      "def all_links_from_files(*files):\n",
      "    for fn in files:\n",
      "        full_path = os.path.join(url_folder, fn)\n",
      "        with open(full_path) as f:\n",
      "            for line in f:\n",
      "                line = line.strip()\n",
      "                if line:\n",
      "                    yield line\n",
      "\n",
      "url_group_matches = defaultdict(list)\n",
      "\n",
      "def try_parse_by_all_rules(url):\n",
      "    url = url.lower()\n",
      "    for rule in parse_rules:\n",
      "        m = re.search(rule, url)\n",
      "        if m:\n",
      "            return m\n",
      "\n",
      "success = 0\n",
      "ignored = 0\n",
      "\n",
      "for url in all_links_from_files(*urls_files):\n",
      "    m = try_parse_by_all_rules(url)\n",
      "    if m:\n",
      "        groups = m.groupdict()\n",
      "        currpage = groups.pop(\"currpage\") # get rid of currpage and group the rest of keys and values into some kind of url_group\n",
      "        url_group_identifier = ';'.join(sorted([str(k)+'='+v for k, v in groups.items()]))\n",
      "        url_group_matches[url_group_identifier].append(m)\n",
      "        success+=1\n",
      "    else:\n",
      "        assert 'companylist' not in url and 'productlist' not in url, \"we should not miss any productlist or companylist links\"\n",
      "        assert 'newsinfo' in url or 'productinfo' in url or 'more' in url, \"we can ignore newsinfo or productinfo or more pages for now\"\n",
      "        ignored += 1\n",
      "\n",
      "print 'success', success, 'ignored', ignored\n",
      "\n",
      "assert success >= currpage_total, \"You must have missed some links that contains currpage\""
     ],
     "language": "python",
     "metadata": {},
     "outputs": [
      {
       "output_type": "stream",
       "stream": "stdout",
       "text": [
        "success 107310 ignored 343196\n"
       ]
      }
     ],
     "prompt_number": 25
    },
    {
     "cell_type": "code",
     "collapsed": false,
     "input": [
      "from operator import itemgetter\n",
      "\n",
      "last_page_matches = []\n",
      "total = 0\n",
      "no_of_multipages = 0\n",
      "for url_group, matches in url_group_matches.items():\n",
      "    total+=1\n",
      "    if len(matches) > 1:\n",
      "        no_of_multipages += 1\n",
      "        # find the url with largest page no\n",
      "        last_page_matche = sorted(matches, key=lambda match: int(match.groupdict()[\"currpage\"]))[-1]\n",
      "        #print len(matches), last_page_url\n",
      "        last_page_matches.append(last_page_matche)\n",
      "\n",
      "print \"%d of %d pages are multipages\" %(no_of_multipages, total)"
     ],
     "language": "python",
     "metadata": {},
     "outputs": [
      {
       "output_type": "stream",
       "stream": "stdout",
       "text": [
        "5360 of 71032 pages are multipages\n"
       ]
      }
     ],
     "prompt_number": 26
    },
    {
     "cell_type": "code",
     "collapsed": false,
     "input": [
      "import requests"
     ],
     "language": "python",
     "metadata": {},
     "outputs": [],
     "prompt_number": 27
    },
    {
     "cell_type": "code",
     "collapsed": false,
     "input": [
      "from contextlib import contextmanager\n",
      "\n",
      "import time\n",
      "\n",
      "@contextmanager\n",
      "def timed_context(work_description, outfile):\n",
      "    start = time.time()\n",
      "    yield\n",
      "    delta = time.time() - start\n",
      "    print>>outfile, '%.2f' % delta, ':', work_description\n",
      "    print  '%.2f' % delta, ':', work_description\n",
      "    "
     ],
     "language": "python",
     "metadata": {},
     "outputs": [],
     "prompt_number": 28
    },
    {
     "cell_type": "heading",
     "level": 2,
     "metadata": {},
     "source": [
      "Assert all last pages we found return 200 OK"
     ]
    },
    {
     "cell_type": "code",
     "collapsed": false,
     "input": [
      "page_div_pattern = re.compile(r'<</a><span><em>(\\d+)</em>/(\\d+)</span>')\n",
      "\n",
      "def should_have_been_404(html):\n",
      "    \"\"\"They made all links return 200 even if it corresponds to a resource shouldn't exist\n",
      "    The only workaround now is to parse htmls to assert if a url should be non-existent\n",
      "    \"\"\"\n",
      "    # here are the rules\n",
      "    # 1. if \u6682\u65e0\u65b0\u95fb shows up in the news pages, then it is not found\n",
      "    # 2. if \u6ca1\u6709\u627e\u5230\u6ee1\u8db3\u6761\u4ef6\u7684\u6570\u636e shows up in company pages, then it is not found\n",
      "    # 3. if <</a><span><em>412</em>/2</span> where 412 is a particular page no while 2 is the total number of pages\n",
      "    if u\"\u6682\u65e0\u65b0\u95fb\" in html:\n",
      "        return True\n",
      "    elif u\"\u6ca1\u6709\u627e\u5230\u6ee1\u8db3\u6761\u4ef6\u7684\u6570\u636e\" in html:\n",
      "        return True\n",
      "    else:\n",
      "        found = page_div_pattern.search(html)\n",
      "        if found:\n",
      "            page, total = map(int, found.groups())\n",
      "            if page > total:\n",
      "                return True\n",
      "    return False"
     ],
     "language": "python",
     "metadata": {},
     "outputs": [],
     "prompt_number": 29
    },
    {
     "cell_type": "code",
     "collapsed": false,
     "input": [
      "print '%d of urls in total' % len(last_page_matches)"
     ],
     "language": "python",
     "metadata": {},
     "outputs": [
      {
       "output_type": "stream",
       "stream": "stdout",
       "text": [
        "5360 of urls in total\n"
       ]
      }
     ],
     "prompt_number": 30
    },
    {
     "cell_type": "code",
     "collapsed": false,
     "input": [
      "raw_urls_times = !cat urls_tested.log\n",
      "\n",
      "urls_times = {}\n",
      "for line in raw_urls_times:\n",
      "    _time, url = line.split(\":\", 1)\n",
      "    _time = float(_time)\n",
      "    url = url.strip()\n",
      "    urls_times[url] = _time\n",
      "\n",
      "failed = []\n",
      "\n",
      "# this is rather long, so we need to \n",
      "with open(\"urls_tested.log\", \"a\") as outfile:\n",
      "    for match in last_page_matches:\n",
      "        url = match.string\n",
      "        if url in urls_times:\n",
      "            continue # skip this\n",
      "        with timed_context(url, outfile):\n",
      "            req = requests.get(url)\n",
      "            try:\n",
      "                assert req.status_code == 200\n",
      "                assert not should_have_been_404(req.text), req.url + \" is practically 404, which it shouldn't be.\"\n",
      "            except AssertionError as e:\n",
      "                failed.append(e)\n",
      "\n",
      "if failed:\n",
      "    print \"*\"*50\n",
      "    print \"There were %d failed asserts:\" % len(failed)\n",
      "    \n",
      "for f in failed:\n",
      "    print f"
     ],
     "language": "python",
     "metadata": {},
     "outputs": [
      {
       "output_type": "stream",
       "stream": "stdout",
       "text": [
        "2.73 : http://www.fht360.com/productlist/239/390-2-1487.html\n",
        "1.25"
       ]
      },
      {
       "output_type": "stream",
       "stream": "stdout",
       "text": [
        " : http://www.fht360.com/productlist/324/11483-2-1009.html\n",
        "2.03"
       ]
      },
      {
       "output_type": "stream",
       "stream": "stdout",
       "text": [
        " : http://www.fht360.com/companylist/189/10308-2.html\n",
        "0.62"
       ]
      },
      {
       "output_type": "stream",
       "stream": "stdout",
       "text": [
        " : http://www.fht360.com/productlist/368-2-1122.html\n",
        "0.46"
       ]
      },
      {
       "output_type": "stream",
       "stream": "stdout",
       "text": [
        " : http://www.fht360.com/productlist/260/654-9.html\n",
        "0.72"
       ]
      },
      {
       "output_type": "stream",
       "stream": "stdout",
       "text": [
        " : http://www.fht360.com/companylist/165-5-1663.html\n",
        "0.48"
       ]
      },
      {
       "output_type": "stream",
       "stream": "stdout",
       "text": [
        " : http://www.fht360.com/companylist/165-10-1662.html\n",
        "0.53"
       ]
      },
      {
       "output_type": "stream",
       "stream": "stdout",
       "text": [
        " : http://www.fht360.com/productlist/410/1411-2.html\n",
        "0.52"
       ]
      },
      {
       "output_type": "stream",
       "stream": "stdout",
       "text": [
        " : http://www.fht360.com/companylist/165-2-1668.html\n",
        "0.65"
       ]
      },
      {
       "output_type": "stream",
       "stream": "stdout",
       "text": [
        " : http://www.fht360.com/productlist/341/12620-3-2137.html\n",
        "0.53"
       ]
      },
      {
       "output_type": "stream",
       "stream": "stdout",
       "text": [
        " : http://www.fht360.com/companylist/177/10312-2.html\n",
        "0.84"
       ]
      },
      {
       "output_type": "stream",
       "stream": "stdout",
       "text": [
        " : http://www.fht360.com/productlist/363-3-1487.html\n",
        "0.46"
       ]
      },
      {
       "output_type": "stream",
       "stream": "stdout",
       "text": [
        " : http://www.fht360.com/productlist/233/16888-2.html\n",
        "0.64"
       ]
      },
      {
       "output_type": "stream",
       "stream": "stdout",
       "text": [
        " : http://www.fht360.com/productlist/247-1-1.html\n",
        "0.70"
       ]
      },
      {
       "output_type": "stream",
       "stream": "stdout",
       "text": [
        " : http://www.fht360.com/productlist/264/390-2-2137.html\n",
        "0.50"
       ]
      },
      {
       "output_type": "stream",
       "stream": "stdout",
       "text": [
        " : http://www.fht360.com/productlist/299-4.html\n",
        "0.19"
       ]
      },
      {
       "output_type": "stream",
       "stream": "stdout",
       "text": [
        " : http://www.fht360.com/productlist/292-22.html\n",
        "0.67"
       ]
      },
      {
       "output_type": "stream",
       "stream": "stdout",
       "text": [
        " : http://www.fht360.com/companylist/141/10070-2.html\n",
        "0.67"
       ]
      },
      {
       "output_type": "stream",
       "stream": "stdout",
       "text": [
        " : http://www.fht360.com/productlist/242/14608-3-1487.html\n",
        "0.48"
       ]
      },
      {
       "output_type": "stream",
       "stream": "stdout",
       "text": [
        " : http://www.fht360.com/companylist/48/3-4-1567.html\n",
        "0.48"
       ]
      },
      {
       "output_type": "stream",
       "stream": "stdout",
       "text": [
        " : http://www.fht360.com/productlist/375/14925-3.html\n",
        "0.54"
       ]
      },
      {
       "output_type": "stream",
       "stream": "stdout",
       "text": [
        " : http://www.fht360.com/companylist/164/3-3-918.html\n",
        "0.47"
       ]
      },
      {
       "output_type": "stream",
       "stream": "stdout",
       "text": [
        " : http://www.fht360.com/companylist/167/3-12-2164.html\n",
        "0.29"
       ]
      },
      {
       "output_type": "stream",
       "stream": "stdout",
       "text": [
        " : http://www.fht360.com/productlist/250-17-1662.html\n",
        "1.13"
       ]
      },
      {
       "output_type": "stream",
       "stream": "stdout",
       "text": [
        " : http://www.fht360.com/productlist/317-3-1122.html\n",
        "0.88"
       ]
      },
      {
       "output_type": "stream",
       "stream": "stdout",
       "text": [
        " : http://www.fht360.com/productlist/337-4-1260.html\n",
        "0.46"
       ]
      },
      {
       "output_type": "stream",
       "stream": "stdout",
       "text": [
        " : http://www.fht360.com/companylist/59/10832-2.html\n",
        "0.47"
       ]
      },
      {
       "output_type": "stream",
       "stream": "stdout",
       "text": [
        " : http://www.fht360.com/companylist/167-2-873.html\n",
        "0.46"
       ]
      },
      {
       "output_type": "stream",
       "stream": "stdout",
       "text": [
        " : http://www.fht360.com/productlist/314/17354-3.html\n",
        "0.47"
       ]
      },
      {
       "output_type": "stream",
       "stream": "stdout",
       "text": [
        " : http://www.fht360.com/companylist/188/10785-2-2137.html\n",
        "0.32"
       ]
      },
      {
       "output_type": "stream",
       "stream": "stdout",
       "text": [
        " : http://www.fht360.com/productlist/228-5-1987.html\n",
        "0.58"
       ]
      },
      {
       "output_type": "stream",
       "stream": "stdout",
       "text": [
        " : http://www.fht360.com/productlist/424-14-1987.html\n",
        "0.68"
       ]
      },
      {
       "output_type": "stream",
       "stream": "stdout",
       "text": [
        " : http://www.fht360.com/productlist/283/17261-13.html\n",
        "1.25"
       ]
      },
      {
       "output_type": "stream",
       "stream": "stdout",
       "text": [
        " : http://www.fht360.com/productlist/432/14833-2-706.html\n",
        "0.55"
       ]
      },
      {
       "output_type": "stream",
       "stream": "stdout",
       "text": [
        " : http://www.fht360.com/productlist/241/471-3.html\n",
        "0.51"
       ]
      },
      {
       "output_type": "stream",
       "stream": "stdout",
       "text": [
        " : http://www.fht360.com/productlist/241/477-10.html\n",
        "0.48"
       ]
      },
      {
       "output_type": "stream",
       "stream": "stdout",
       "text": [
        " : http://www.fht360.com/companylist/48/3-2-936.html\n",
        "0.58"
       ]
      },
      {
       "output_type": "stream",
       "stream": "stdout",
       "text": [
        " : http://www.fht360.com/productlist/433/11462-2.html\n",
        "0.45"
       ]
      },
      {
       "output_type": "stream",
       "stream": "stdout",
       "text": [
        " : http://www.fht360.com/productlist/433/11460-2.html\n",
        "0.52"
       ]
      },
      {
       "output_type": "stream",
       "stream": "stdout",
       "text": [
        " : http://www.fht360.com/companylist/48/3-2-938.html\n",
        "0.82"
       ]
      },
      {
       "output_type": "stream",
       "stream": "stdout",
       "text": [
        " : http://www.fht360.com/productlist/234/15613-2-39.html\n",
        "0.98"
       ]
      },
      {
       "output_type": "stream",
       "stream": "stdout",
       "text": [
        " : http://www.fht360.com/productlist/235/3588-2-1487.html\n",
        "0.91"
       ]
      },
      {
       "output_type": "stream",
       "stream": "stdout",
       "text": [
        " : http://www.fht360.com/companylist/164-2-2143.html\n",
        "0.58"
       ]
      },
      {
       "output_type": "stream",
       "stream": "stdout",
       "text": [
        " : http://www.fht360.com/companylist/164-2-2147.html\n",
        "1.34"
       ]
      },
      {
       "output_type": "stream",
       "stream": "stdout",
       "text": [
        " : http://www.fht360.com/companylist/164-3-2144.html\n",
        "0.61"
       ]
      },
      {
       "output_type": "stream",
       "stream": "stdout",
       "text": [
        " : http://www.fht360.com/companylist/39-3-1050.html\n",
        "0.69"
       ]
      },
      {
       "output_type": "stream",
       "stream": "stdout",
       "text": [
        " : http://www.fht360.com/productlist/304/7251-2.html\n",
        "1.01"
       ]
      },
      {
       "output_type": "stream",
       "stream": "stdout",
       "text": [
        " : http://www.fht360.com/productlist/233/15916-6-880.html\n",
        "0.66"
       ]
      },
      {
       "output_type": "stream",
       "stream": "stdout",
       "text": [
        " : http://www.fht360.com/productlist/314-5-1009.html\n",
        "0.47"
       ]
      },
      {
       "output_type": "stream",
       "stream": "stdout",
       "text": [
        " : http://www.fht360.com/companylist/176/10035-2-2137.html\n",
        "0.55"
       ]
      },
      {
       "output_type": "stream",
       "stream": "stdout",
       "text": [
        " : http://www.fht360.com/companylist/144/10397-2.html\n",
        "0.67"
       ]
      },
      {
       "output_type": "stream",
       "stream": "stdout",
       "text": [
        " : http://www.fht360.com/productlist/245-3-860.html\n",
        "0.72"
       ]
      },
      {
       "output_type": "stream",
       "stream": "stdout",
       "text": [
        " : http://www.fht360.com/productlist/256-2-880.html\n",
        "0.44"
       ]
      },
      {
       "output_type": "stream",
       "stream": "stdout",
       "text": [
        " : http://www.fht360.com/productlist/260/17010-6.html\n",
        "0.63"
       ]
      },
      {
       "output_type": "stream",
       "stream": "stdout",
       "text": [
        " : http://www.fht360.com/productlist/313/11104-7-2137.html\n",
        "0.51"
       ]
      },
      {
       "output_type": "stream",
       "stream": "stdout",
       "text": [
        " : http://www.fht360.com/productlist/236/17871-2.html\n",
        "0.57"
       ]
      },
      {
       "output_type": "stream",
       "stream": "stdout",
       "text": [
        " : http://www.fht360.com/productlist/261/302-2-1487.html\n",
        "1.25"
       ]
      },
      {
       "output_type": "stream",
       "stream": "stdout",
       "text": [
        " : http://www.fht360.com/companylist/145/10004-2.html\n",
        "0.54"
       ]
      },
      {
       "output_type": "stream",
       "stream": "stdout",
       "text": [
        " : http://www.fht360.com/companylist/45/10720-2.html\n",
        "0.64"
       ]
      },
      {
       "output_type": "stream",
       "stream": "stdout",
       "text": [
        " : http://www.fht360.com/productlist/250/17-6-1009.html\n",
        "0.66"
       ]
      },
      {
       "output_type": "stream",
       "stream": "stdout",
       "text": [
        " : http://www.fht360.com/productlist/246/13457-3-2137.html\n",
        "0.69"
       ]
      },
      {
       "output_type": "stream",
       "stream": "stdout",
       "text": [
        " : http://www.fht360.com/productlist/280/95-10.html\n",
        "0.54"
       ]
      },
      {
       "output_type": "stream",
       "stream": "stdout",
       "text": [
        " : http://www.fht360.com/companylist/46/10259-2.html\n",
        "0.74"
       ]
      },
      {
       "output_type": "stream",
       "stream": "stdout",
       "text": [
        " : http://www.fht360.com/productlist/337/12182-2-880.html\n",
        "0.67"
       ]
      },
      {
       "output_type": "stream",
       "stream": "stdout",
       "text": [
        " : http://www.fht360.com/productlist/428/14747-2-2137.html\n",
        "1.30"
       ]
      },
      {
       "output_type": "stream",
       "stream": "stdout",
       "text": [
        " : http://www.fht360.com/productlist/251/8-5-2137.html\n",
        "0.97"
       ]
      },
      {
       "output_type": "stream",
       "stream": "stdout",
       "text": [
        " : http://www.fht360.com/companylist/86/8-2-991.html\n",
        "0.57"
       ]
      },
      {
       "output_type": "stream",
       "stream": "stdout",
       "text": [
        " : http://www.fht360.com/productlist/279/18784-2-1.html\n",
        "0.82"
       ]
      },
      {
       "output_type": "stream",
       "stream": "stdout",
       "text": [
        " : http://www.fht360.com/productlist/237-4-1122.html\n",
        "0.53"
       ]
      },
      {
       "output_type": "stream",
       "stream": "stdout",
       "text": [
        " : http://www.fht360.com/companylist/167-2-1025.html\n",
        "0.54"
       ]
      },
      {
       "output_type": "stream",
       "stream": "stdout",
       "text": [
        " : http://www.fht360.com/companylist/165-2-706.html\n",
        "0.88"
       ]
      },
      {
       "output_type": "stream",
       "stream": "stdout",
       "text": [
        " : http://www.fht360.com/productlist/325/12595-4-2137.html\n",
        "0.57"
       ]
      },
      {
       "output_type": "stream",
       "stream": "stdout",
       "text": [
        " : http://www.fht360.com/companylist/164/3-3-896.html\n",
        "0.47"
       ]
      },
      {
       "output_type": "stream",
       "stream": "stdout",
       "text": [
        " : http://www.fht360.com/companylist/165-2-1491.html\n",
        "0.61"
       ]
      },
      {
       "output_type": "stream",
       "stream": "stdout",
       "text": [
        " : http://www.fht360.com/productlist/297-2-1009.html\n",
        "0.79"
       ]
      },
      {
       "output_type": "stream",
       "stream": "stdout",
       "text": [
        " : http://www.fht360.com/productlist/264/390-2-1487.html\n",
        "0.53"
       ]
      },
      {
       "output_type": "stream",
       "stream": "stdout",
       "text": [
        " : http://www.fht360.com/productlist/368-9.html\n",
        "0.13"
       ]
      },
      {
       "output_type": "stream",
       "stream": "stdout",
       "text": [
        " : http://www.fht360.com/productlist/363-9.html\n",
        "0.51"
       ]
      },
      {
       "output_type": "stream",
       "stream": "stdout",
       "text": [
        " : http://www.fht360.com/productlist/360-31.html\n",
        "0.49"
       ]
      },
      {
       "output_type": "stream",
       "stream": "stdout",
       "text": [
        " : http://www.fht360.com/productlist/366-7.html\n",
        "0.13"
       ]
      },
      {
       "output_type": "stream",
       "stream": "stdout",
       "text": [
        " : http://www.fht360.com/productlist/365-9.html\n",
        "0.13"
       ]
      },
      {
       "output_type": "stream",
       "stream": "stdout",
       "text": [
        " : http://www.fht360.com/productlist/364-6.html\n",
        "0.48"
       ]
      },
      {
       "output_type": "stream",
       "stream": "stdout",
       "text": [
        " : http://www.fht360.com/companylist/212/10882-2.html\n",
        "0.47"
       ]
      },
      {
       "output_type": "stream",
       "stream": "stdout",
       "text": [
        " : http://www.fht360.com/companylist/167-4-1567.html\n",
        "4.51"
       ]
      },
      {
       "output_type": "stream",
       "stream": "stdout",
       "text": [
        " : http://www.fht360.com/companylist/54-2-880.html\n",
        "1.52"
       ]
      },
      {
       "output_type": "stream",
       "stream": "stdout",
       "text": [
        " : http://www.fht360.com/productlist/312/10684-5-1487.html\n",
        "0.68"
       ]
      },
      {
       "output_type": "stream",
       "stream": "stdout",
       "text": [
        " : http://www.fht360.com/productlist/331/10011-2-39.html\n",
        "0.52"
       ]
      },
      {
       "output_type": "stream",
       "stream": "stdout",
       "text": [
        " : http://www.fht360.com/productlist/328/12422-13.html\n",
        "0.46"
       ]
      },
      {
       "output_type": "stream",
       "stream": "stdout",
       "text": [
        " : http://www.fht360.com/productlist/442/14924-2.html\n",
        "0.66"
       ]
      },
      {
       "output_type": "stream",
       "stream": "stdout",
       "text": [
        " : http://www.fht360.com/productlist/401-3-860.html\n",
        "0.62"
       ]
      },
      {
       "output_type": "stream",
       "stream": "stdout",
       "text": [
        " : http://www.fht360.com/productlist/428-5-1009.html\n",
        "0.62"
       ]
      },
      {
       "output_type": "stream",
       "stream": "stdout",
       "text": [
        " : http://www.fht360.com/productlist/309/12210-4-880.html\n",
        "0.32"
       ]
      },
      {
       "output_type": "stream",
       "stream": "stdout",
       "text": [
        " : http://www.fht360.com/productlist/239/703-4-39.html\n",
        "0.78"
       ]
      },
      {
       "output_type": "stream",
       "stream": "stdout",
       "text": [
        " : http://www.fht360.com/productlist/247-3-1487.html\n",
        "0.66"
       ]
      },
      {
       "output_type": "stream",
       "stream": "stdout",
       "text": [
        " : http://www.fht360.com/productlist/328/12439-4-2137.html\n",
        "0.66"
       ]
      },
      {
       "output_type": "stream",
       "stream": "stdout",
       "text": [
        " : http://www.fht360.com/productlist/233/8-27-880.html\n",
        "0.48"
       ]
      },
      {
       "output_type": "stream",
       "stream": "stdout",
       "text": [
        " : http://www.fht360.com/companylist/164/3-3-1067.html\n",
        "1.44"
       ]
      },
      {
       "output_type": "stream",
       "stream": "stdout",
       "text": [
        " : http://www.fht360.com/companylist/162/3-2-2189.html\n",
        "0.82"
       ]
      },
      {
       "output_type": "stream",
       "stream": "stdout",
       "text": [
        " : http://www.fht360.com/productlist/283-7-1009.html\n",
        "0.71"
       ]
      },
      {
       "output_type": "stream",
       "stream": "stdout",
       "text": [
        " : http://www.fht360.com/productlist/345/29-2-1662.html\n",
        "0.57"
       ]
      },
      {
       "output_type": "stream",
       "stream": "stdout",
       "text": [
        " : http://www.fht360.com/companylist/47/10074-2.html\n",
        "0.61"
       ]
      },
      {
       "output_type": "stream",
       "stream": "stdout",
       "text": [
        " : http://www.fht360.com/companylist/47/10075-2.html\n",
        "0.65"
       ]
      },
      {
       "output_type": "stream",
       "stream": "stdout",
       "text": [
        " : http://www.fht360.com/productlist/231/16292-3-1487.html\n",
        "0.47"
       ]
      },
      {
       "output_type": "stream",
       "stream": "stdout",
       "text": [
        " : http://www.fht360.com/productlist/327/10365-2.html\n",
        "0.45"
       ]
      },
      {
       "output_type": "stream",
       "stream": "stdout",
       "text": [
        " : http://www.fht360.com/companylist/153/10263-2.html\n",
        "0.80"
       ]
      },
      {
       "output_type": "stream",
       "stream": "stdout",
       "text": [
        " : http://www.fht360.com/productlist/386-4.html\n",
        "0.78"
       ]
      },
      {
       "output_type": "stream",
       "stream": "stdout",
       "text": [
        " : http://www.fht360.com/productlist/348/10774-8.html\n",
        "0.57"
       ]
      },
      {
       "output_type": "stream",
       "stream": "stdout",
       "text": [
        " : http://www.fht360.com/companylist/40-2-2278.html\n",
        "0.51"
       ]
      },
      {
       "output_type": "stream",
       "stream": "stdout",
       "text": [
        " : http://www.fht360.com/companylist/142/10147-2.html\n",
        "0.13"
       ]
      },
      {
       "output_type": "stream",
       "stream": "stdout",
       "text": [
        " : http://www.fht360.com/productlist/383-3.html\n",
        "0.62"
       ]
      },
      {
       "output_type": "stream",
       "stream": "stdout",
       "text": [
        " : http://www.fht360.com/productlist/254/15933-2-1662.html\n",
        "0.54"
       ]
      },
      {
       "output_type": "stream",
       "stream": "stdout",
       "text": [
        " : http://www.fht360.com/productlist/382-2.html\n",
        "0.72"
       ]
      },
      {
       "output_type": "stream",
       "stream": "stdout",
       "text": [
        " : http://www.fht360.com/companylist/168-2.html\n",
        "0.60"
       ]
      },
      {
       "output_type": "stream",
       "stream": "stdout",
       "text": [
        " : http://www.fht360.com/companylist/161-2.html\n",
        "0.49"
       ]
      },
      {
       "output_type": "stream",
       "stream": "stdout",
       "text": [
        " : http://www.fht360.com/companylist/160-2.html\n",
        "0.47"
       ]
      },
      {
       "output_type": "stream",
       "stream": "stdout",
       "text": [
        " : http://www.fht360.com/companylist/162-166.html\n",
        "0.92"
       ]
      },
      {
       "output_type": "stream",
       "stream": "stdout",
       "text": [
        " : http://www.fht360.com/companylist/165-166.html\n",
        "1.44"
       ]
      },
      {
       "output_type": "stream",
       "stream": "stdout",
       "text": [
        " : http://www.fht360.com/companylist/164-167.html\n",
        "0.51"
       ]
      },
      {
       "output_type": "stream",
       "stream": "stdout",
       "text": [
        " : http://www.fht360.com/companylist/167-166.html\n",
        "0.64"
       ]
      },
      {
       "output_type": "stream",
       "stream": "stdout",
       "text": [
        " : http://www.fht360.com/companylist/166-3.html\n",
        "0.63"
       ]
      },
      {
       "output_type": "stream",
       "stream": "stdout",
       "text": [
        " : http://www.fht360.com/productlist/270/343-12-880.html\n",
        "0.50"
       ]
      },
      {
       "output_type": "stream",
       "stream": "stdout",
       "text": [
        " : http://www.fht360.com/productlist/372/14200-4.html\n",
        "0.51"
       ]
      },
      {
       "output_type": "stream",
       "stream": "stdout",
       "text": [
        " : http://www.fht360.com/productlist/233/661-10.html\n",
        "0.52"
       ]
      },
      {
       "output_type": "stream",
       "stream": "stdout",
       "text": [
        " : http://www.fht360.com/companylist/48/3-4-1.html\n",
        "0.52"
       ]
      },
      {
       "output_type": "stream",
       "stream": "stdout",
       "text": [
        " : http://www.fht360.com/companylist/199-2-1364.html\n",
        "0.58"
       ]
      },
      {
       "output_type": "stream",
       "stream": "stdout",
       "text": [
        " : http://www.fht360.com/productlist/424/14897-2.html\n",
        "0.45"
       ]
      },
      {
       "output_type": "stream",
       "stream": "stdout",
       "text": [
        " : http://www.fht360.com/productlist/228/14820-5.html\n",
        "0.50"
       ]
      },
      {
       "output_type": "stream",
       "stream": "stdout",
       "text": [
        " : http://www.fht360.com/companylist/164/3-4-2170.html\n",
        "0.65"
       ]
      },
      {
       "output_type": "stream",
       "stream": "stdout",
       "text": [
        " : http://www.fht360.com/productlist/336-2-1857.html\n",
        "0.50"
       ]
      },
      {
       "output_type": "stream",
       "stream": "stdout",
       "text": [
        " : http://www.fht360.com/companylist/60/128-2.html\n",
        "0.66"
       ]
      },
      {
       "output_type": "stream",
       "stream": "stdout",
       "text": [
        " : http://www.fht360.com/productlist/234/390-2-1487.html\n",
        "0.49"
       ]
      },
      {
       "output_type": "stream",
       "stream": "stdout",
       "text": [
        " : http://www.fht360.com/companylist/48/3-2-2189.html\n",
        "0.50"
       ]
      },
      {
       "output_type": "stream",
       "stream": "stdout",
       "text": [
        " : http://www.fht360.com/companylist/48/3-2-2509.html\n",
        "0.65"
       ]
      },
      {
       "output_type": "stream",
       "stream": "stdout",
       "text": [
        " : http://www.fht360.com/productlist/424/14896-2-2137.html\n",
        "0.85"
       ]
      },
      {
       "output_type": "stream",
       "stream": "stdout",
       "text": [
        " : http://www.fht360.com/productlist/375/32-10-1487.html\n",
        "0.86"
       ]
      },
      {
       "output_type": "stream",
       "stream": "stdout",
       "text": [
        " : http://www.fht360.com/productlist/274/11137-4-2137.html\n",
        "0.13"
       ]
      },
      {
       "output_type": "stream",
       "stream": "stdout",
       "text": [
        " : http://www.fht360.com/productlist/446-18.html\n",
        "0.54"
       ]
      },
      {
       "output_type": "stream",
       "stream": "stdout",
       "text": [
        " : http://www.fht360.com/productlist/444-22.html\n",
        "0.50"
       ]
      },
      {
       "output_type": "stream",
       "stream": "stdout",
       "text": [
        " : http://www.fht360.com/productlist/442-9.html\n",
        "0.49"
       ]
      },
      {
       "output_type": "stream",
       "stream": "stdout",
       "text": [
        " : http://www.fht360.com/productlist/440-7.html\n",
        "0.58"
       ]
      },
      {
       "output_type": "stream",
       "stream": "stdout",
       "text": [
        " : http://www.fht360.com/productlist/441-3.html\n",
        "0.46"
       ]
      },
      {
       "output_type": "stream",
       "stream": "stdout",
       "text": [
        " : http://www.fht360.com/productlist/231/11994-8.html\n",
        "0.52"
       ]
      },
      {
       "output_type": "stream",
       "stream": "stdout",
       "text": [
        " : http://www.fht360.com/productlist/231/11995-16.html\n",
        "0.57"
       ]
      },
      {
       "output_type": "stream",
       "stream": "stdout",
       "text": [
        " : http://www.fht360.com/productlist/351/13043-4.html\n",
        "0.62"
       ]
      },
      {
       "output_type": "stream",
       "stream": "stdout",
       "text": [
        " : http://www.fht360.com/productlist/301/7857-2-1487.html\n",
        "0.47"
       ]
      },
      {
       "output_type": "stream",
       "stream": "stdout",
       "text": [
        " : http://www.fht360.com/companylist/167/3-2-924.html\n",
        "0.47"
       ]
      },
      {
       "output_type": "stream",
       "stream": "stdout",
       "text": [
        " : http://www.fht360.com/companylist/167/3-7-927.html\n",
        "0.51"
       ]
      },
      {
       "output_type": "stream",
       "stream": "stdout",
       "text": [
        " : http://www.fht360.com/companylist/48/3-2-1051.html\n",
        "0.91"
       ]
      },
      {
       "output_type": "stream",
       "stream": "stdout",
       "text": [
        " : http://www.fht360.com/productlist/352-4-1009.html\n",
        "0.46"
       ]
      },
      {
       "output_type": "stream",
       "stream": "stdout",
       "text": [
        " : http://www.fht360.com/companylist/39-6-860.html\n",
        "0.57"
       ]
      },
      {
       "output_type": "stream",
       "stream": "stdout",
       "text": [
        " : http://www.fht360.com/productlist/351/13617-2-2137.html\n",
        "0.50"
       ]
      },
      {
       "output_type": "stream",
       "stream": "stdout",
       "text": [
        " : http://www.fht360.com/companylist/44/10030-2-2137.html\n",
        "0.50"
       ]
      },
      {
       "output_type": "stream",
       "stream": "stdout",
       "text": [
        " : http://www.fht360.com/productlist/370/8460-2.html\n",
        "0.50"
       ]
      },
      {
       "output_type": "stream",
       "stream": "stdout",
       "text": [
        " : http://www.fht360.com/productlist/262/3548-2.html\n",
        "0.46"
       ]
      },
      {
       "output_type": "stream",
       "stream": "stdout",
       "text": [
        " : http://www.fht360.com/productlist/227/10882-2.html\n",
        "1.13"
       ]
      },
      {
       "output_type": "stream",
       "stream": "stdout",
       "text": [
        " : http://www.fht360.com/companylist/225-2-880.html\n",
        "1.96"
       ]
      },
      {
       "output_type": "stream",
       "stream": "stdout",
       "text": [
        " : http://www.fht360.com/productlist/227-10-39.html\n",
        "0.66"
       ]
      },
      {
       "output_type": "stream",
       "stream": "stdout",
       "text": [
        " : http://www.fht360.com/productlist/415/2019-5-2137.html\n",
        "0.97"
       ]
      },
      {
       "output_type": "stream",
       "stream": "stdout",
       "text": [
        " : http://www.fht360.com/companylist/162/3-2-1051.html\n",
        "0.72"
       ]
      },
      {
       "output_type": "stream",
       "stream": "stdout",
       "text": [
        " : http://www.fht360.com/productlist/237/948-2.html\n",
        "0.85"
       ]
      },
      {
       "output_type": "stream",
       "stream": "stdout",
       "text": [
        " : http://www.fht360.com/companylist/141-2-2137.html\n",
        "0.60"
       ]
      },
      {
       "output_type": "stream",
       "stream": "stdout",
       "text": [
        " : http://www.fht360.com/productlist/356/13329-6.html\n",
        "1.70"
       ]
      },
      {
       "output_type": "stream",
       "stream": "stdout",
       "text": [
        " : http://www.fht360.com/productlist/424/2-75-1009.html\n",
        "0.47"
       ]
      },
      {
       "output_type": "stream",
       "stream": "stdout",
       "text": [
        " : http://www.fht360.com/companylist/162-2-1276.html\n",
        "0.86"
       ]
      },
      {
       "output_type": "stream",
       "stream": "stdout",
       "text": [
        " : http://www.fht360.com/productlist/239/267-6.html\n",
        "2.14"
       ]
      },
      {
       "output_type": "stream",
       "stream": "stdout",
       "text": [
        " : http://www.fht360.com/productlist/424/2-1032.html\n",
        "0.79"
       ]
      },
      {
       "output_type": "stream",
       "stream": "stdout",
       "text": [
        " : http://www.fht360.com/productlist/235/2036-2.html\n",
        "7.17"
       ]
      },
      {
       "output_type": "stream",
       "stream": "stdout",
       "text": [
        " : http://www.fht360.com/productlist/254/15933-3-880.html\n",
        "1.33"
       ]
      },
      {
       "output_type": "stream",
       "stream": "stdout",
       "text": [
        " : http://www.fht360.com/productlist/280/1985-4.html\n",
        "0.27"
       ]
      },
      {
       "output_type": "stream",
       "stream": "stdout",
       "text": [
        " : http://www.fht360.com/productlist/367/13510-5.html\n",
        "0.31"
       ]
      },
      {
       "output_type": "stream",
       "stream": "stdout",
       "text": [
        " : http://www.fht360.com/productlist/367/13511-6.html\n",
        "0.73"
       ]
      },
      {
       "output_type": "stream",
       "stream": "stdout",
       "text": [
        " : http://www.fht360.com/productlist/424/2-2-2729.html\n",
        "1.41"
       ]
      },
      {
       "output_type": "stream",
       "stream": "stdout",
       "text": [
        " : http://www.fht360.com/companylist/52/10911-2-2137.html\n",
        "0.94"
       ]
      },
      {
       "output_type": "stream",
       "stream": "stdout",
       "text": [
        " : http://www.fht360.com/companylist/52-3-39.html\n",
        "2.51"
       ]
      },
      {
       "output_type": "stream",
       "stream": "stdout",
       "text": [
        " : http://www.fht360.com/companylist/164/3-2-991.html\n",
        "0.52"
       ]
      },
      {
       "output_type": "stream",
       "stream": "stdout",
       "text": [
        " : http://www.fht360.com/productlist/287/10402-2-860.html\n",
        "0.35"
       ]
      },
      {
       "output_type": "stream",
       "stream": "stdout",
       "text": [
        " : http://www.fht360.com/productlist/351/13511-6.html\n",
        "0.32"
       ]
      },
      {
       "output_type": "stream",
       "stream": "stdout",
       "text": [
        " : http://www.fht360.com/productlist/351/13510-5.html\n",
        "0.53"
       ]
      },
      {
       "output_type": "stream",
       "stream": "stdout",
       "text": [
        " : http://www.fht360.com/productlist/351/13027-2-2137.html\n",
        "0.72"
       ]
      },
      {
       "output_type": "stream",
       "stream": "stdout",
       "text": [
        " : http://www.fht360.com/productlist/424/9475-4.html\n",
        "1.09"
       ]
      },
      {
       "output_type": "stream",
       "stream": "stdout",
       "text": [
        " : http://www.fht360.com/productlist/246/11342-2-1662.html\n",
        "1.16"
       ]
      },
      {
       "output_type": "stream",
       "stream": "stdout",
       "text": [
        " : http://www.fht360.com/companylist/49/10927-2-2137.html\n",
        "0.34"
       ]
      },
      {
       "output_type": "stream",
       "stream": "stdout",
       "text": [
        " : http://www.fht360.com/productlist/288-3.html\n",
        "0.31"
       ]
      },
      {
       "output_type": "stream",
       "stream": "stdout",
       "text": [
        " : http://www.fht360.com/productlist/284-11.html\n",
        "0.22"
       ]
      },
      {
       "output_type": "stream",
       "stream": "stdout",
       "text": [
        " : http://www.fht360.com/productlist/285-13.html\n",
        "0.31"
       ]
      },
      {
       "output_type": "stream",
       "stream": "stdout",
       "text": [
        " : http://www.fht360.com/productlist/287-8.html\n",
        "1.10"
       ]
      },
      {
       "output_type": "stream",
       "stream": "stdout",
       "text": [
        " : http://www.fht360.com/productlist/280-41.html\n",
        "0.54"
       ]
      },
      {
       "output_type": "stream",
       "stream": "stdout",
       "text": [
        " : http://www.fht360.com/productlist/286-23.html\n",
        "1.89"
       ]
      },
      {
       "output_type": "stream",
       "stream": "stdout",
       "text": [
        " : http://www.fht360.com/productlist/283-2-706.html\n",
        "0.80"
       ]
      },
      {
       "output_type": "stream",
       "stream": "stdout",
       "text": [
        " : http://www.fht360.com/productlist/239/16110-2-1487.html\n",
        "0.45"
       ]
      },
      {
       "output_type": "stream",
       "stream": "stdout",
       "text": [
        " : http://www.fht360.com/productlist/242/14608-2-1.html\n",
        "0.43"
       ]
      },
      {
       "output_type": "stream",
       "stream": "stdout",
       "text": [
        " : http://www.fht360.com/productlist/349-2-2137.html\n",
        "0.30"
       ]
      },
      {
       "output_type": "stream",
       "stream": "stdout",
       "text": [
        " : http://www.fht360.com/productlist/234-22-1662.html\n",
        "0.53"
       ]
      },
      {
       "output_type": "stream",
       "stream": "stdout",
       "text": [
        " : http://www.fht360.com/companylist/164-2-991.html\n",
        "0.35"
       ]
      },
      {
       "output_type": "stream",
       "stream": "stdout",
       "text": [
        " : http://www.fht360.com/productlist/285/394-3-1662.html\n",
        "0.46"
       ]
      },
      {
       "output_type": "stream",
       "stream": "stdout",
       "text": [
        " : http://www.fht360.com/productlist/351/13582-9-2137.html\n",
        "0.58"
       ]
      },
      {
       "output_type": "stream",
       "stream": "stdout",
       "text": [
        " : http://www.fht360.com/companylist/86/8-2-986.html\n",
        "0.35"
       ]
      },
      {
       "output_type": "stream",
       "stream": "stdout",
       "text": [
        " : http://www.fht360.com/productlist/432/14813-14.html\n",
        "0.29"
       ]
      },
      {
       "output_type": "stream",
       "stream": "stdout",
       "text": [
        " : http://www.fht360.com/productlist/297/10448-2.html\n",
        "0.61"
       ]
      },
      {
       "output_type": "stream",
       "stream": "stdout",
       "text": [
        " : http://www.fht360.com/productlist/335/3408-4-1662.html\n",
        "0.44"
       ]
      },
      {
       "output_type": "stream",
       "stream": "stdout",
       "text": [
        " : http://www.fht360.com/productlist/335/12534-2-860.html\n",
        "0.29"
       ]
      },
      {
       "output_type": "stream",
       "stream": "stdout",
       "text": [
        " : http://www.fht360.com/productlist/367/13637-3.html\n",
        "0.47"
       ]
      },
      {
       "output_type": "stream",
       "stream": "stdout",
       "text": [
        " : http://www.fht360.com/companylist/165/3-2-873.html\n",
        "0.36"
       ]
      },
      {
       "output_type": "stream",
       "stream": "stdout",
       "text": [
        " : http://www.fht360.com/productlist/245/11590-2-860.html\n",
        "0.45"
       ]
      },
      {
       "output_type": "stream",
       "stream": "stdout",
       "text": [
        " : http://www.fht360.com/productlist/410/15945-5-2137.html\n",
        "0.24"
       ]
      },
      {
       "output_type": "stream",
       "stream": "stdout",
       "text": [
        " : http://www.fht360.com/productlist/233/17274-2.html\n",
        "0.34"
       ]
      },
      {
       "output_type": "stream",
       "stream": "stdout",
       "text": [
        " : http://www.fht360.com/productlist/424/14885-2.html\n",
        "0.47"
       ]
      },
      {
       "output_type": "stream",
       "stream": "stdout",
       "text": [
        " : http://www.fht360.com/companylist/164/3-6-2169.html\n",
        "0.58"
       ]
      },
      {
       "output_type": "stream",
       "stream": "stdout",
       "text": [
        " : http://www.fht360.com/companylist/81/10411-2.html\n",
        "0.46"
       ]
      },
      {
       "output_type": "stream",
       "stream": "stdout",
       "text": [
        " : http://www.fht360.com/productlist/424/14747-2-1009.html\n",
        "0.50"
       ]
      },
      {
       "output_type": "stream",
       "stream": "stdout",
       "text": [
        " : http://www.fht360.com/companylist/167/3-4-1260.html\n",
        "0.30"
       ]
      },
      {
       "output_type": "stream",
       "stream": "stdout",
       "text": [
        " : http://www.fht360.com/productlist/385/37-2.html\n",
        "0.34"
       ]
      },
      {
       "output_type": "stream",
       "stream": "stdout",
       "text": [
        " : http://www.fht360.com/productlist/343/17694-2.html\n",
        "0.36"
       ]
      },
      {
       "output_type": "stream",
       "stream": "stdout",
       "text": [
        " : http://www.fht360.com/productlist/366/13127-2-2137.html\n",
        "0.35"
       ]
      },
      {
       "output_type": "stream",
       "stream": "stdout",
       "text": [
        " : http://www.fht360.com/productlist/231/13-7.html\n",
        "0.31"
       ]
      },
      {
       "output_type": "stream",
       "stream": "stdout",
       "text": [
        " : http://www.fht360.com/productlist/335/3432-2.html\n",
        "0.45"
       ]
      },
      {
       "output_type": "stream",
       "stream": "stdout",
       "text": [
        " : http://www.fht360.com/productlist/249/13324-6-2137.html\n",
        "0.55"
       ]
      },
      {
       "output_type": "stream",
       "stream": "stdout",
       "text": [
        " : http://www.fht360.com/companylist/34/7-2-1487.html\n",
        "0.48"
       ]
      },
      {
       "output_type": "stream",
       "stream": "stdout",
       "text": [
        " : http://www.fht360.com/companylist/148/10261-2.html\n",
        "0.26"
       ]
      },
      {
       "output_type": "stream",
       "stream": "stdout",
       "text": [
        " : http://www.fht360.com/productlist/356/13429-3.html\n",
        "0.47"
       ]
      },
      {
       "output_type": "stream",
       "stream": "stdout",
       "text": [
        " : http://www.fht360.com/companylist/128/10047-2.html\n",
        "0.85"
       ]
      },
      {
       "output_type": "stream",
       "stream": "stdout",
       "text": [
        " : http://www.fht360.com/productlist/385/6-464.html\n",
        "1.08"
       ]
      },
      {
       "output_type": "stream",
       "stream": "stdout",
       "text": [
        " : http://www.fht360.com/productlist/379-5-1662.html\n",
        "1.45"
       ]
      },
      {
       "output_type": "stream",
       "stream": "stdout",
       "text": [
        " : http://www.fht360.com/companylist/76/10529-2.html\n",
        "0.92"
       ]
      },
      {
       "output_type": "stream",
       "stream": "stdout",
       "text": [
        " : http://www.fht360.com/companylist/49-25-2137.html\n",
        "0.36"
       ]
      },
      {
       "output_type": "stream",
       "stream": "stdout",
       "text": [
        " : http://www.fht360.com/productlist/280/19-18.html\n",
        "0.44"
       ]
      },
      {
       "output_type": "stream",
       "stream": "stdout",
       "text": [
        " : http://www.fht360.com/productlist/231/15773-4-1487.html\n",
        "2.29"
       ]
      },
      {
       "output_type": "stream",
       "stream": "stdout",
       "text": [
        " : http://www.fht360.com/productlist/226-42-1487.html\n",
        "1.23"
       ]
      },
      {
       "output_type": "stream",
       "stream": "stdout",
       "text": [
        " : http://www.fht360.com/productlist/248/168-2-39.html\n",
        "0.59"
       ]
      },
      {
       "output_type": "stream",
       "stream": "stdout",
       "text": [
        " : http://www.fht360.com/companylist/67-5.html\n",
        "0.48"
       ]
      },
      {
       "output_type": "stream",
       "stream": "stdout",
       "text": [
        " : http://www.fht360.com/companylist/66-6.html\n",
        "0.56"
       ]
      },
      {
       "output_type": "stream",
       "stream": "stdout",
       "text": [
        " : http://www.fht360.com/companylist/65-3.html\n",
        "0.77"
       ]
      },
      {
       "output_type": "stream",
       "stream": "stdout",
       "text": [
        " : http://www.fht360.com/companylist/64-2.html\n",
        "0.43"
       ]
      },
      {
       "output_type": "stream",
       "stream": "stdout",
       "text": [
        " : http://www.fht360.com/companylist/63-10.html\n",
        "0.51"
       ]
      },
      {
       "output_type": "stream",
       "stream": "stdout",
       "text": [
        " : http://www.fht360.com/companylist/62-2.html\n",
        "0.87"
       ]
      },
      {
       "output_type": "stream",
       "stream": "stdout",
       "text": [
        " : http://www.fht360.com/companylist/61-7.html\n",
        "1.06"
       ]
      },
      {
       "output_type": "stream",
       "stream": "stdout",
       "text": [
        " : http://www.fht360.com/companylist/60-2.html\n",
        "1.09"
       ]
      },
      {
       "output_type": "stream",
       "stream": "stdout",
       "text": [
        " : http://www.fht360.com/companylist/69-2.html\n",
        "0.85"
       ]
      },
      {
       "output_type": "stream",
       "stream": "stdout",
       "text": [
        " : http://www.fht360.com/companylist/68-7.html\n",
        "0.51"
       ]
      },
      {
       "output_type": "stream",
       "stream": "stdout",
       "text": [
        " : http://www.fht360.com/productlist/246/12329-4-1009.html\n",
        "0.51"
       ]
      },
      {
       "output_type": "stream",
       "stream": "stdout",
       "text": [
        " : http://www.fht360.com/productlist/433/14344-2-880.html\n",
        "0.61"
       ]
      },
      {
       "output_type": "stream",
       "stream": "stdout",
       "text": [
        " : http://www.fht360.com/companylist/162/3-2-1987.html\n",
        "0.58"
       ]
      },
      {
       "output_type": "stream",
       "stream": "stdout",
       "text": [
        " : http://www.fht360.com/productlist/293/226-2-39.html\n",
        "0.30"
       ]
      },
      {
       "output_type": "stream",
       "stream": "stdout",
       "text": [
        " : http://www.fht360.com/productlist/290/981-2.html\n",
        "0.27"
       ]
      },
      {
       "output_type": "stream",
       "stream": "stdout",
       "text": [
        " : http://www.fht360.com/productlist/352/14206-3.html\n",
        "0.25"
       ]
      },
      {
       "output_type": "stream",
       "stream": "stdout",
       "text": [
        " : http://www.fht360.com/productlist/326/11712-2.html\n",
        "0.36"
       ]
      },
      {
       "output_type": "stream",
       "stream": "stdout",
       "text": [
        " : http://www.fht360.com/productlist/239/12098-2-880.html\n",
        "0.70"
       ]
      },
      {
       "output_type": "stream",
       "stream": "stdout",
       "text": [
        " : http://www.fht360.com/companylist/154/10887-2.html\n",
        "0.27"
       ]
      },
      {
       "output_type": "stream",
       "stream": "stdout",
       "text": [
        " : http://www.fht360.com/productlist/343-5-880.html\n",
        "3.32"
       ]
      },
      {
       "output_type": "stream",
       "stream": "stdout",
       "text": [
        " : http://www.fht360.com/productlist/357/11330-4-880.html\n",
        "3.86"
       ]
      },
      {
       "output_type": "stream",
       "stream": "stdout",
       "text": [
        " : http://www.fht360.com/productlist/430/14769-4.html\n",
        "0.53"
       ]
      },
      {
       "output_type": "stream",
       "stream": "stdout",
       "text": [
        " : http://www.fht360.com/productlist/356-5-1260.html\n",
        "0.38"
       ]
      },
      {
       "output_type": "stream",
       "stream": "stdout",
       "text": [
        " : http://www.fht360.com/productlist/244/266-2-880.html\n",
        "1.39"
       ]
      },
      {
       "output_type": "stream",
       "stream": "stdout",
       "text": [
        " : http://www.fht360.com/companylist/243/10808-2.html\n",
        "0.51"
       ]
      },
      {
       "output_type": "stream",
       "stream": "stdout",
       "text": [
        " : http://www.fht360.com/companylist/80/10400-2.html\n",
        "1.01"
       ]
      },
      {
       "output_type": "stream",
       "stream": "stdout",
       "text": [
        " : http://www.fht360.com/productlist/233-43-2137.html\n",
        "2.10"
       ]
      },
      {
       "output_type": "stream",
       "stream": "stdout",
       "text": [
        " : http://www.fht360.com/productlist/337/12182-3-2137.html\n",
        "0.58"
       ]
      },
      {
       "output_type": "stream",
       "stream": "stdout",
       "text": [
        " : http://www.fht360.com/companylist/164-2-1025.html\n",
        "0.24"
       ]
      },
      {
       "output_type": "stream",
       "stream": "stdout",
       "text": [
        " : http://www.fht360.com/productlist/348/10783-3.html\n",
        "0.54"
       ]
      },
      {
       "output_type": "stream",
       "stream": "stdout",
       "text": [
        " : http://www.fht360.com/productlist/352-10-860.html\n",
        "0.55"
       ]
      },
      {
       "output_type": "stream",
       "stream": "stdout",
       "text": [
        " : http://www.fht360.com/companylist/48-4-40.html\n",
        "0.25"
       ]
      },
      {
       "output_type": "stream",
       "stream": "stdout",
       "text": [
        " : http://www.fht360.com/productlist/275/15186-4.html\n",
        "0.26"
       ]
      },
      {
       "output_type": "stream",
       "stream": "stdout",
       "text": [
        " : http://www.fht360.com/productlist/446/6230-8-1662.html\n",
        "0.45"
       ]
      },
      {
       "output_type": "stream",
       "stream": "stdout",
       "text": [
        " : http://www.fht360.com/productlist/433/14014-6-2137.html\n",
        "0.48"
       ]
      },
      {
       "output_type": "stream",
       "stream": "stdout",
       "text": [
        " : http://www.fht360.com/companylist/48-2-1858.html\n",
        "0.62"
       ]
      },
      {
       "output_type": "stream",
       "stream": "stdout",
       "text": [
        " : http://www.fht360.com/companylist/48-3-1857.html\n",
        "3.61"
       ]
      },
      {
       "output_type": "stream",
       "stream": "stdout",
       "text": [
        " : http://www.fht360.com/companylist/52-3-860.html\n",
        "0.26"
       ]
      },
      {
       "output_type": "stream",
       "stream": "stdout",
       "text": [
        " : http://www.fht360.com/productlist/331/10012-2.html\n",
        "0.57"
       ]
      },
      {
       "output_type": "stream",
       "stream": "stdout",
       "text": [
        " : http://www.fht360.com/productlist/234/10346-3-880.html\n",
        "0.58"
       ]
      },
      {
       "output_type": "stream",
       "stream": "stdout",
       "text": [
        " : http://www.fht360.com/companylist/46/10260-2-228.html\n",
        "3.64"
       ]
      },
      {
       "output_type": "stream",
       "stream": "stdout",
       "text": [
        " : http://www.fht360.com/companylist/46/10260-2-221.html\n",
        "0.82"
       ]
      },
      {
       "output_type": "stream",
       "stream": "stdout",
       "text": [
        " : http://www.fht360.com/productlist/233/677-7-880.html\n",
        "0.35"
       ]
      },
      {
       "output_type": "stream",
       "stream": "stdout",
       "text": [
        " : http://www.fht360.com/productlist/277-5-1122.html\n",
        "0.90"
       ]
      },
      {
       "output_type": "stream",
       "stream": "stdout",
       "text": [
        " : http://www.fht360.com/productlist/331/10010-3.html\n",
        "0.78"
       ]
      },
      {
       "output_type": "stream",
       "stream": "stdout",
       "text": [
        " : http://www.fht360.com/productlist/304-5-2137.html\n",
        "1.12"
       ]
      },
      {
       "output_type": "stream",
       "stream": "stdout",
       "text": [
        " : http://www.fht360.com/productlist/424/2-4-2830.html\n",
        "0.77"
       ]
      },
      {
       "output_type": "stream",
       "stream": "stdout",
       "text": [
        " : http://www.fht360.com/productlist/233/639-2-880.html\n",
        "1.43"
       ]
      },
      {
       "output_type": "stream",
       "stream": "stdout",
       "text": [
        " : http://www.fht360.com/companylist/47-3-1487.html\n",
        "0.41"
       ]
      },
      {
       "output_type": "stream",
       "stream": "stdout",
       "text": [
        " : http://www.fht360.com/productlist/234-17-2137.html\n",
        "0.79"
       ]
      },
      {
       "output_type": "stream",
       "stream": "stdout",
       "text": [
        " : http://www.fht360.com/companylist/165-2-2509.html\n",
        "1.02"
       ]
      },
      {
       "output_type": "stream",
       "stream": "stdout",
       "text": [
        " : http://www.fht360.com/companylist/165-2-2508.html\n",
        "1.46"
       ]
      },
      {
       "output_type": "stream",
       "stream": "stdout",
       "text": [
        " : http://www.fht360.com/productlist/335/7717-2.html\n",
        "1.07"
       ]
      },
      {
       "output_type": "stream",
       "stream": "stdout",
       "text": [
        " : http://www.fht360.com/companylist/95/10365-2.html\n",
        "0.80"
       ]
      },
      {
       "output_type": "stream",
       "stream": "stdout",
       "text": [
        " : http://www.fht360.com/productlist/249/12353-5-2137.html\n",
        "0.77"
       ]
      },
      {
       "output_type": "stream",
       "stream": "stdout",
       "text": [
        " : http://www.fht360.com/companylist/128-2-880.html\n",
        "0.85"
       ]
      },
      {
       "output_type": "stream",
       "stream": "stdout",
       "text": [
        " : http://www.fht360.com/companylist/48-51-2137.html\n",
        "0.66"
       ]
      },
      {
       "output_type": "stream",
       "stream": "stdout",
       "text": [
        " : http://www.fht360.com/companylist/48-10-2138.html\n",
        "1.54"
       ]
      },
      {
       "output_type": "stream",
       "stream": "stdout",
       "text": [
        " : http://www.fht360.com/companylist/167-2-938.html\n",
        "1.71"
       ]
      },
      {
       "output_type": "stream",
       "stream": "stdout",
       "text": [
        " : http://www.fht360.com/productlist/237-2-1.html\n",
        "0.78"
       ]
      },
      {
       "output_type": "stream",
       "stream": "stdout",
       "text": [
        " : http://www.fht360.com/companylist/167-2-936.html\n",
        "0.30"
       ]
      },
      {
       "output_type": "stream",
       "stream": "stdout",
       "text": [
        " : http://www.fht360.com/productlist/239/310-3-880.html\n",
        "0.94"
       ]
      },
      {
       "output_type": "stream",
       "stream": "stdout",
       "text": [
        " : http://www.fht360.com/companylist/165-4-1260.html\n",
        "0.66"
       ]
      },
      {
       "output_type": "stream",
       "stream": "stdout",
       "text": [
        " : http://www.fht360.com/productlist/337/13448-2-1009.html\n",
        "0.69"
       ]
      },
      {
       "output_type": "stream",
       "stream": "stdout",
       "text": [
        " : http://www.fht360.com/productlist/234/188-7.html\n",
        "1.15"
       ]
      },
      {
       "output_type": "stream",
       "stream": "stdout",
       "text": [
        " : http://www.fht360.com/companylist/77/10524-2.html\n",
        "0.84"
       ]
      },
      {
       "output_type": "stream",
       "stream": "stdout",
       "text": [
        " : http://www.fht360.com/productlist/351/13679-6.html\n",
        "0.90"
       ]
      },
      {
       "output_type": "stream",
       "stream": "stdout",
       "text": [
        " : http://www.fht360.com/productlist/231/13416-4.html\n",
        "1.48"
       ]
      },
      {
       "output_type": "stream",
       "stream": "stdout",
       "text": [
        " : http://www.fht360.com/productlist/377/83-5-1487.html\n",
        "2.57"
       ]
      },
      {
       "output_type": "stream",
       "stream": "stdout",
       "text": [
        " : http://www.fht360.com/companylist/48/10505-2.html\n",
        "2.33"
       ]
      },
      {
       "output_type": "stream",
       "stream": "stdout",
       "text": [
        " : http://www.fht360.com/productlist/433-26-1662.html\n",
        "1.69"
       ]
      },
      {
       "output_type": "stream",
       "stream": "stdout",
       "text": [
        " : http://www.fht360.com/productlist/239/757-2.html\n",
        "1.09"
       ]
      },
      {
       "output_type": "stream",
       "stream": "stdout",
       "text": [
        " : http://www.fht360.com/productlist/227/12210-2-1487.html\n",
        "4.79"
       ]
      },
      {
       "output_type": "stream",
       "stream": "stdout",
       "text": [
        " : http://www.fht360.com/productlist/310-4-2137.html\n",
        "4.21"
       ]
      },
      {
       "output_type": "stream",
       "stream": "stdout",
       "text": [
        " : http://www.fht360.com/productlist/385/6-5-1009.html\n",
        "1.28"
       ]
      },
      {
       "output_type": "stream",
       "stream": "stdout",
       "text": [
        " : http://www.fht360.com/productlist/231/14608-3-2137.html\n",
        "1.16"
       ]
      },
      {
       "output_type": "stream",
       "stream": "stdout",
       "text": [
        " : http://www.fht360.com/productlist/424-5-499.html\n",
        "1.56"
       ]
      },
      {
       "output_type": "stream",
       "stream": "stdout",
       "text": [
        " : http://www.fht360.com/productlist/360/46-4-1487.html\n",
        "0.70"
       ]
      },
      {
       "output_type": "stream",
       "stream": "stdout",
       "text": [
        " : http://www.fht360.com/productlist/277/3606-3-1487.html\n",
        "0.88"
       ]
      },
      {
       "output_type": "stream",
       "stream": "stdout",
       "text": [
        " : http://www.fht360.com/companylist/156/10308-2.html\n",
        "0.66"
       ]
      },
      {
       "output_type": "stream",
       "stream": "stdout",
       "text": [
        " : http://www.fht360.com/productlist/235-2-1987.html\n",
        "0.53"
       ]
      },
      {
       "output_type": "stream",
       "stream": "stdout",
       "text": [
        " : http://www.fht360.com/productlist/245/7869-2.html\n",
        "0.86"
       ]
      },
      {
       "output_type": "stream",
       "stream": "stdout",
       "text": [
        " : http://www.fht360.com/productlist/423-4-1487.html\n",
        "0.82"
       ]
      },
      {
       "output_type": "stream",
       "stream": "stdout",
       "text": [
        " : http://www.fht360.com/productlist/415-102.html\n",
        "1.10"
       ]
      },
      {
       "output_type": "stream",
       "stream": "stdout",
       "text": [
        " : http://www.fht360.com/productlist/226/7250-7.html\n",
        "0.57"
       ]
      },
      {
       "output_type": "stream",
       "stream": "stdout",
       "text": [
        " : http://www.fht360.com/companylist/39/10535-2-2137.html\n",
        "0.49"
       ]
      },
      {
       "output_type": "stream",
       "stream": "stdout",
       "text": [
        " : http://www.fht360.com/productlist/324/12421-4-1.html\n",
        "0.39"
       ]
      },
      {
       "output_type": "stream",
       "stream": "stdout",
       "text": [
        " : http://www.fht360.com/productlist/228/8069-2.html\n",
        "0.14"
       ]
      },
      {
       "output_type": "stream",
       "stream": "stdout",
       "text": [
        " : http://www.fht360.com/productlist/239/310-5.html\n",
        "0.49"
       ]
      },
      {
       "output_type": "stream",
       "stream": "stdout",
       "text": [
        " : http://www.fht360.com/companylist/167/3-10-1662.html\n",
        "0.23"
       ]
      },
      {
       "output_type": "stream",
       "stream": "stdout",
       "text": [
        " : http://www.fht360.com/productlist/253/16957-3.html\n",
        "0.30"
       ]
      },
      {
       "output_type": "stream",
       "stream": "stdout",
       "text": [
        " : http://www.fht360.com/productlist/253/16954-4.html\n",
        "0.39"
       ]
      },
      {
       "output_type": "stream",
       "stream": "stdout",
       "text": [
        " : http://www.fht360.com/productlist/231/15792-14-2137.html\n",
        "0.36"
       ]
      },
      {
       "output_type": "stream",
       "stream": "stdout",
       "text": [
        " : http://www.fht360.com/productlist/260/654-8-880.html\n",
        "0.35"
       ]
      },
      {
       "output_type": "stream",
       "stream": "stdout",
       "text": [
        " : http://www.fht360.com/productlist/362/13540-2-2137.html\n",
        "2.45"
       ]
      },
      {
       "output_type": "stream",
       "stream": "stdout",
       "text": [
        " : http://www.fht360.com/productlist/387-17-1487.html\n",
        "0.59"
       ]
      },
      {
       "output_type": "stream",
       "stream": "stdout",
       "text": [
        " : http://www.fht360.com/productlist/270/343-15.html\n",
        "0.60"
       ]
      },
      {
       "output_type": "stream",
       "stream": "stdout",
       "text": [
        " : http://www.fht360.com/companylist/40/10364-2.html\n",
        "1.40"
       ]
      },
      {
       "output_type": "stream",
       "stream": "stdout",
       "text": [
        " : http://www.fht360.com/companylist/40/10361-2.html\n",
        "1.14"
       ]
      },
      {
       "output_type": "stream",
       "stream": "stdout",
       "text": [
        " : http://www.fht360.com/productlist/234/2125-2-1487.html\n",
        "0.55"
       ]
      },
      {
       "output_type": "stream",
       "stream": "stdout",
       "text": [
        " : http://www.fht360.com/companylist/50-2-860.html\n",
        "0.56"
       ]
      },
      {
       "output_type": "stream",
       "stream": "stdout",
       "text": [
        " : http://www.fht360.com/companylist/198-2-2137.html\n",
        "0.49"
       ]
      },
      {
       "output_type": "stream",
       "stream": "stdout",
       "text": [
        " : http://www.fht360.com/productlist/246-16-1487.html\n",
        "0.85"
       ]
      },
      {
       "output_type": "stream",
       "stream": "stdout",
       "text": [
        " : http://www.fht360.com/productlist/429/11342-4-1487.html\n",
        "0.40"
       ]
      },
      {
       "output_type": "stream",
       "stream": "stdout",
       "text": [
        " : http://www.fht360.com/productlist/248-15-1662.html\n",
        "0.29"
       ]
      },
      {
       "output_type": "stream",
       "stream": "stdout",
       "text": [
        " : http://www.fht360.com/productlist/334-8-1009.html\n",
        "0.38"
       ]
      },
      {
       "output_type": "stream",
       "stream": "stdout",
       "text": [
        " : http://www.fht360.com/productlist/233/17010-3-39.html\n",
        "0.42"
       ]
      },
      {
       "output_type": "stream",
       "stream": "stdout",
       "text": [
        " : http://www.fht360.com/productlist/352/14200-3-2137.html\n",
        "0.48"
       ]
      },
      {
       "output_type": "stream",
       "stream": "stdout",
       "text": [
        " : http://www.fht360.com/companylist/165-3-1067.html\n",
        "1.34"
       ]
      },
      {
       "output_type": "stream",
       "stream": "stdout",
       "text": [
        " : http://www.fht360.com/productlist/241/16019-2-1487.html\n",
        "0.25"
       ]
      },
      {
       "output_type": "stream",
       "stream": "stdout",
       "text": [
        " : http://www.fht360.com/productlist/244-2-1122.html\n",
        "0.65"
       ]
      },
      {
       "output_type": "stream",
       "stream": "stdout",
       "text": [
        " : http://www.fht360.com/companylist/40-4-2137.html\n",
        "0.25"
       ]
      },
      {
       "output_type": "stream",
       "stream": "stdout",
       "text": [
        " : http://www.fht360.com/productlist/268/287-3.html\n",
        "0.49"
       ]
      },
      {
       "output_type": "stream",
       "stream": "stdout",
       "text": [
        " : http://www.fht360.com/companylist/137-2-1500.html\n",
        "0.30"
       ]
      },
      {
       "output_type": "stream",
       "stream": "stdout",
       "text": [
        " : http://www.fht360.com/productlist/247/12198-16.html\n",
        "0.27"
       ]
      },
      {
       "output_type": "stream",
       "stream": "stdout",
       "text": [
        " : http://www.fht360.com/productlist/236-5-1260.html\n",
        "0.36"
       ]
      },
      {
       "output_type": "stream",
       "stream": "stdout",
       "text": [
        " : http://www.fht360.com/productlist/260/17010-3-39.html\n",
        "0.37"
       ]
      },
      {
       "output_type": "stream",
       "stream": "stdout",
       "text": [
        " : http://www.fht360.com/productlist/246/13448-2-1009.html\n",
        "0.29"
       ]
      },
      {
       "output_type": "stream",
       "stream": "stdout",
       "text": [
        " : http://www.fht360.com/productlist/308-16.html\n",
        "0.46"
       ]
      },
      {
       "output_type": "stream",
       "stream": "stdout",
       "text": [
        " : http://www.fht360.com/companylist/155/10020-2-2137.html\n",
        "0.69"
       ]
      },
      {
       "output_type": "stream",
       "stream": "stdout",
       "text": [
        " : http://www.fht360.com/companylist/39-2-2170.html\n",
        "0.83"
       ]
      },
      {
       "output_type": "stream",
       "stream": "stdout",
       "text": [
        " : http://www.fht360.com/companylist/167-24-1487.html\n",
        "1.47"
       ]
      },
      {
       "output_type": "stream",
       "stream": "stdout",
       "text": [
        " : http://www.fht360.com/companylist/39/10536-2.html\n",
        "1.00"
       ]
      },
      {
       "output_type": "stream",
       "stream": "stdout",
       "text": [
        " : http://www.fht360.com/productlist/241/3643-2.html\n",
        "0.89"
       ]
      },
      {
       "output_type": "stream",
       "stream": "stdout",
       "text": [
        " : http://www.fht360.com/companylist/54/10720-2.html\n",
        "3.58"
       ]
      },
      {
       "output_type": "stream",
       "stream": "stdout",
       "text": [
        " : http://www.fht360.com/companylist/54/10723-2.html\n",
        "0.25"
       ]
      },
      {
       "output_type": "stream",
       "stream": "stdout",
       "text": [
        " : http://www.fht360.com/productlist/334/12780-2.html\n",
        "0.13"
       ]
      },
      {
       "output_type": "stream",
       "stream": "stdout",
       "text": [
        " : http://www.fht360.com/productlist/307-24.html\n",
        "0.32"
       ]
      },
      {
       "output_type": "stream",
       "stream": "stdout",
       "text": [
        " : http://www.fht360.com/productlist/365/10944-3.html\n",
        "0.57"
       ]
      },
      {
       "output_type": "stream",
       "stream": "stdout",
       "text": [
        " : http://www.fht360.com/productlist/234/341-2.html\n",
        "0.55"
       ]
      },
      {
       "output_type": "stream",
       "stream": "stdout",
       "text": [
        " : http://www.fht360.com/companylist/167/3-2-3065.html\n",
        "0.13"
       ]
      },
      {
       "output_type": "stream",
       "stream": "stdout",
       "text": [
        " : http://www.fht360.com/productlist/303-6.html\n",
        "0.32"
       ]
      },
      {
       "output_type": "stream",
       "stream": "stdout",
       "text": [
        " : http://www.fht360.com/productlist/231/15560-2.html\n",
        "0.43"
       ]
      },
      {
       "output_type": "stream",
       "stream": "stdout",
       "text": [
        " : http://www.fht360.com/productlist/341/12818-2-2137.html\n",
        "0.57"
       ]
      },
      {
       "output_type": "stream",
       "stream": "stdout",
       "text": [
        " : http://www.fht360.com/companylist/164/3-2-1100.html\n",
        "0.59"
       ]
      },
      {
       "output_type": "stream",
       "stream": "stdout",
       "text": [
        " : http://www.fht360.com/companylist/142-3-1487.html\n",
        "0.39"
       ]
      },
      {
       "output_type": "stream",
       "stream": "stdout",
       "text": [
        " : http://www.fht360.com/productlist/301/11514-2-2137.html\n",
        "0.72"
       ]
      },
      {
       "output_type": "stream",
       "stream": "stdout",
       "text": [
        " : http://www.fht360.com/productlist/332-3-1487.html\n",
        "0.27"
       ]
      },
      {
       "output_type": "stream",
       "stream": "stdout",
       "text": [
        " : http://www.fht360.com/productlist/234/15106-2.html\n",
        "0.72"
       ]
      },
      {
       "output_type": "stream",
       "stream": "stdout",
       "text": [
        " : http://www.fht360.com/productlist/234-12-860.html\n",
        "1.92"
       ]
      },
      {
       "output_type": "stream",
       "stream": "stdout",
       "text": [
        " : http://www.fht360.com/companylist/46-3-39.html\n",
        "1.05"
       ]
      },
      {
       "output_type": "stream",
       "stream": "stdout",
       "text": [
        " : http://www.fht360.com/productlist/233/16954-3-2137.html\n",
        "0.90"
       ]
      },
      {
       "output_type": "stream",
       "stream": "stdout",
       "text": [
        " : http://www.fht360.com/productlist/351/13637-3.html\n",
        "0.96"
       ]
      },
      {
       "output_type": "stream",
       "stream": "stdout",
       "text": [
        " : http://www.fht360.com/productlist/293/10425-6-860.html\n",
        "0.47"
       ]
      },
      {
       "output_type": "stream",
       "stream": "stdout",
       "text": [
        " : http://www.fht360.com/productlist/240-1-880.html\n",
        "0.30"
       ]
      },
      {
       "output_type": "stream",
       "stream": "stdout",
       "text": [
        " : http://www.fht360.com/productlist/428/14738-7.html\n",
        "0.39"
       ]
      },
      {
       "output_type": "stream",
       "stream": "stdout",
       "text": [
        " : http://www.fht360.com/productlist/431/3728-4-1487.html\n",
        "0.44"
       ]
      },
      {
       "output_type": "stream",
       "stream": "stdout",
       "text": [
        " : http://www.fht360.com/productlist/387/15552-5-2137.html\n",
        "0.39"
       ]
      },
      {
       "output_type": "stream",
       "stream": "stdout",
       "text": [
        " : http://www.fht360.com/productlist/231/452-3-1487.html\n",
        "0.58"
       ]
      },
      {
       "output_type": "stream",
       "stream": "stdout",
       "text": [
        " : http://www.fht360.com/productlist/424/14738-3-1009.html\n",
        "0.48"
       ]
      },
      {
       "output_type": "stream",
       "stream": "stdout",
       "text": [
        " : http://www.fht360.com/productlist/277/3588-2-1487.html\n",
        "0.40"
       ]
      },
      {
       "output_type": "stream",
       "stream": "stdout",
       "text": [
        " : http://www.fht360.com/productlist/334/12421-12-880.html\n",
        "0.47"
       ]
      },
      {
       "output_type": "stream",
       "stream": "stdout",
       "text": [
        " : http://www.fht360.com/companylist/43-5-1487.html\n",
        "0.32"
       ]
      },
      {
       "output_type": "stream",
       "stream": "stdout",
       "text": [
        " : http://www.fht360.com/productlist/369/13810-5.html\n",
        "0.48"
       ]
      },
      {
       "output_type": "stream",
       "stream": "stdout",
       "text": [
        " : http://www.fht360.com/companylist/162-10-1662.html\n",
        "0.52"
       ]
      },
      {
       "output_type": "stream",
       "stream": "stdout",
       "text": [
        " : http://www.fht360.com/companylist/162-5-1663.html\n",
        "0.47"
       ]
      },
      {
       "output_type": "stream",
       "stream": "stdout",
       "text": [
        " : http://www.fht360.com/companylist/162-2-1668.html\n",
        "0.32"
       ]
      },
      {
       "output_type": "stream",
       "stream": "stdout",
       "text": [
        " : http://www.fht360.com/productlist/324/12465-10.html\n",
        "0.37"
       ]
      },
      {
       "output_type": "stream",
       "stream": "stdout",
       "text": [
        " : http://www.fht360.com/productlist/241/523-2-39.html\n",
        "4.07"
       ]
      },
      {
       "output_type": "stream",
       "stream": "stdout",
       "text": [
        " : http://www.fht360.com/companylist/204-3.html\n",
        "0.63"
       ]
      },
      {
       "output_type": "stream",
       "stream": "stdout",
       "text": [
        " : http://www.fht360.com/companylist/205-3.html\n",
        "0.61"
       ]
      },
      {
       "output_type": "stream",
       "stream": "stdout",
       "text": [
        " : http://www.fht360.com/companylist/206-4.html\n",
        "0.62"
       ]
      },
      {
       "output_type": "stream",
       "stream": "stdout",
       "text": [
        " : http://www.fht360.com/companylist/200-2.html\n",
        "0.60"
       ]
      },
      {
       "output_type": "stream",
       "stream": "stdout",
       "text": [
        " : http://www.fht360.com/companylist/201-2.html\n",
        "0.49"
       ]
      },
      {
       "output_type": "stream",
       "stream": "stdout",
       "text": [
        " : http://www.fht360.com/companylist/202-4.html\n",
        "0.77"
       ]
      },
      {
       "output_type": "stream",
       "stream": "stdout",
       "text": [
        " : http://www.fht360.com/companylist/203-4.html\n",
        "0.47"
       ]
      },
      {
       "output_type": "stream",
       "stream": "stdout",
       "text": [
        " : http://www.fht360.com/companylist/208-2.html\n",
        "0.49"
       ]
      },
      {
       "output_type": "stream",
       "stream": "stdout",
       "text": [
        " : http://www.fht360.com/companylist/209-2.html\n",
        "1.05"
       ]
      },
      {
       "output_type": "stream",
       "stream": "stdout",
       "text": [
        " : http://www.fht360.com/productlist/231/170-4.html\n",
        "0.54"
       ]
      },
      {
       "output_type": "stream",
       "stream": "stdout",
       "text": [
        " : http://www.fht360.com/productlist/231/171-2.html\n",
        "0.44"
       ]
      },
      {
       "output_type": "stream",
       "stream": "stdout",
       "text": [
        " : http://www.fht360.com/productlist/351/13755-2-2137.html\n",
        "1.37"
       ]
      },
      {
       "output_type": "stream",
       "stream": "stdout",
       "text": [
        " : http://www.fht360.com/productlist/424-93-1009.html\n",
        "0.48"
       ]
      },
      {
       "output_type": "stream",
       "stream": "stdout",
       "text": [
        " : http://www.fht360.com/companylist/164-3-918.html\n",
        "0.94"
       ]
      },
      {
       "output_type": "stream",
       "stream": "stdout",
       "text": [
        " : http://www.fht360.com/productlist/239/7967-2.html\n",
        "0.29"
       ]
      },
      {
       "output_type": "stream",
       "stream": "stdout",
       "text": [
        " : http://www.fht360.com/productlist/228-2-20.html\n",
        "0.61"
       ]
      },
      {
       "output_type": "stream",
       "stream": "stdout",
       "text": [
        " : http://www.fht360.com/productlist/432/14896-3.html\n",
        "0.71"
       ]
      },
      {
       "output_type": "stream",
       "stream": "stdout",
       "text": [
        " : http://www.fht360.com/productlist/301/11514-4.html\n",
        "0.48"
       ]
      },
      {
       "output_type": "stream",
       "stream": "stdout",
       "text": [
        " : http://www.fht360.com/productlist/354-7-2137.html\n",
        "3.09"
       ]
      },
      {
       "output_type": "stream",
       "stream": "stdout",
       "text": [
        " : http://www.fht360.com/companylist/37/10524-2-2137.html\n",
        "0.69"
       ]
      },
      {
       "output_type": "stream",
       "stream": "stdout",
       "text": [
        " : http://www.fht360.com/productlist/248/12007-6-1487.html\n",
        "0.72"
       ]
      },
      {
       "output_type": "stream",
       "stream": "stdout",
       "text": [
        " : http://www.fht360.com/productlist/338/5158-4.html\n",
        "2.36"
       ]
      },
      {
       "output_type": "stream",
       "stream": "stdout",
       "text": [
        " : http://www.fht360.com/companylist/225-2-1487.html\n",
        "0.59"
       ]
      },
      {
       "output_type": "stream",
       "stream": "stdout",
       "text": [
        " : http://www.fht360.com/productlist/340/1954-2.html\n",
        "0.46"
       ]
      },
      {
       "output_type": "stream",
       "stream": "stdout",
       "text": [
        " : http://www.fht360.com/productlist/228/12016-2-880.html\n",
        "0.32"
       ]
      },
      {
       "output_type": "stream",
       "stream": "stdout",
       "text": [
        " : http://www.fht360.com/productlist/377/9024-3.html\n",
        "0.63"
       ]
      },
      {
       "output_type": "stream",
       "stream": "stdout",
       "text": [
        " : http://www.fht360.com/companylist/34/9-5.html\n",
        "0.47"
       ]
      },
      {
       "output_type": "stream",
       "stream": "stdout",
       "text": [
        " : http://www.fht360.com/companylist/165-4-1567.html\n",
        "0.41"
       ]
      },
      {
       "output_type": "stream",
       "stream": "stdout",
       "text": [
        " : http://www.fht360.com/productlist/354-2-860.html\n",
        "0.60"
       ]
      },
      {
       "output_type": "stream",
       "stream": "stdout",
       "text": [
        " : http://www.fht360.com/productlist/433-10-880.html\n",
        "0.36"
       ]
      },
      {
       "output_type": "stream",
       "stream": "stdout",
       "text": [
        " : http://www.fht360.com/productlist/307/11590-5-2137.html\n",
        "0.29"
       ]
      },
      {
       "output_type": "stream",
       "stream": "stdout",
       "text": [
        " : http://www.fht360.com/productlist/226/16102-4.html\n",
        "0.44"
       ]
      },
      {
       "output_type": "stream",
       "stream": "stdout",
       "text": [
        " : http://www.fht360.com/productlist/254/15967-3-2137.html\n",
        "0.48"
       ]
      },
      {
       "output_type": "stream",
       "stream": "stdout",
       "text": [
        " : http://www.fht360.com/productlist/387-2-860.html\n",
        "0.49"
       ]
      },
      {
       "output_type": "stream",
       "stream": "stdout",
       "text": [
        " : http://www.fht360.com/companylist/48/3-2-2508.html\n",
        "0.39"
       ]
      },
      {
       "output_type": "stream",
       "stream": "stdout",
       "text": [
        " : http://www.fht360.com/productlist/231/11994-3-1662.html\n",
        "0.70"
       ]
      },
      {
       "output_type": "stream",
       "stream": "stdout",
       "text": [
        " : http://www.fht360.com/companylist/162/3-3-20.html\n",
        "0.54"
       ]
      },
      {
       "output_type": "stream",
       "stream": "stdout",
       "text": [
        " : http://www.fht360.com/productlist/246/12198-3-1009.html\n",
        "0.55"
       ]
      },
      {
       "output_type": "stream",
       "stream": "stdout",
       "text": [
        " : http://www.fht360.com/productlist/433/11350-2-1487.html\n",
        "0.25"
       ]
      },
      {
       "output_type": "stream",
       "stream": "stdout",
       "text": [
        " : http://www.fht360.com/productlist/234/10286-3.html\n",
        "0.44"
       ]
      },
      {
       "output_type": "stream",
       "stream": "stdout",
       "text": [
        " : http://www.fht360.com/productlist/385/6-4-1.html\n",
        "0.28"
       ]
      },
      {
       "output_type": "stream",
       "stream": "stdout",
       "text": [
        " : http://www.fht360.com/productlist/351/13192-2.html\n",
        "0.51"
       ]
      },
      {
       "output_type": "stream",
       "stream": "stdout",
       "text": [
        " : http://www.fht360.com/companylist/44-2-1567.html\n",
        "0.18"
       ]
      },
      {
       "output_type": "stream",
       "stream": "stdout",
       "text": [
        " : http://www.fht360.com/productlist/237/820-7.html\n",
        "0.37"
       ]
      },
      {
       "output_type": "stream",
       "stream": "stdout",
       "text": [
        " : http://www.fht360.com/productlist/356/13329-4-2137.html\n",
        "0.47"
       ]
      },
      {
       "output_type": "stream",
       "stream": "stdout",
       "text": [
        " : http://www.fht360.com/companylist/167/3-2-230.html\n",
        "1.10"
       ]
      },
      {
       "output_type": "stream",
       "stream": "stdout",
       "text": [
        " : http://www.fht360.com/productlist/290/904-2.html\n",
        "1.00"
       ]
      },
      {
       "output_type": "stream",
       "stream": "stdout",
       "text": [
        " : http://www.fht360.com/productlist/424/2-21-1122.html\n",
        "0.70"
       ]
      },
      {
       "output_type": "stream",
       "stream": "stdout",
       "text": [
        " : http://www.fht360.com/companylist/164-2-1858.html\n",
        "0.90"
       ]
      },
      {
       "output_type": "stream",
       "stream": "stdout",
       "text": [
        " : http://www.fht360.com/companylist/164-3-1857.html\n",
        "0.43"
       ]
      },
      {
       "output_type": "stream",
       "stream": "stdout",
       "text": [
        " : http://www.fht360.com/productlist/246/12198-9-2137.html\n",
        "0.44"
       ]
      },
      {
       "output_type": "stream",
       "stream": "stdout",
       "text": [
        " : http://www.fht360.com/productlist/234/390-2-2137.html\n",
        "0.45"
       ]
      },
      {
       "output_type": "stream",
       "stream": "stdout",
       "text": [
        " : http://www.fht360.com/productlist/324/11675-2-39.html\n",
        "1.67"
       ]
      },
      {
       "output_type": "stream",
       "stream": "stdout",
       "text": [
        " : http://www.fht360.com/productlist/357-7-1122.html\n",
        "0.41"
       ]
      },
      {
       "output_type": "stream",
       "stream": "stdout",
       "text": [
        " : http://www.fht360.com/productlist/231/13324-7.html\n",
        "0.61"
       ]
      },
      {
       "output_type": "stream",
       "stream": "stdout",
       "text": [
        " : http://www.fht360.com/productlist/432-2-2508.html\n",
        "0.69"
       ]
      },
      {
       "output_type": "stream",
       "stream": "stdout",
       "text": [
        " : http://www.fht360.com/productlist/233/7239-18-1487.html\n",
        "0.28"
       ]
      },
      {
       "output_type": "stream",
       "stream": "stdout",
       "text": [
        " : http://www.fht360.com/productlist/352-5-880.html\n",
        "0.49"
       ]
      },
      {
       "output_type": "stream",
       "stream": "stdout",
       "text": [
        " : http://www.fht360.com/productlist/351/13711-2-880.html\n",
        "0.27"
       ]
      },
      {
       "output_type": "stream",
       "stream": "stdout",
       "text": [
        " : http://www.fht360.com/productlist/284/2005-2.html\n",
        "1.28"
       ]
      },
      {
       "output_type": "stream",
       "stream": "stdout",
       "text": [
        " : http://www.fht360.com/productlist/249-6-1487.html\n",
        "0.20"
       ]
      },
      {
       "output_type": "stream",
       "stream": "stdout",
       "text": [
        " : http://www.fht360.com/productlist/239/266-8-1487.html\n",
        "1.13"
       ]
      },
      {
       "output_type": "stream",
       "stream": "stdout",
       "text": [
        " : http://www.fht360.com/productlist/424/14826-8.html\n",
        "0.53"
       ]
      },
      {
       "output_type": "stream",
       "stream": "stdout",
       "text": [
        " : http://www.fht360.com/productlist/227/2704-2-880.html\n",
        "0.61"
       ]
      },
      {
       "output_type": "stream",
       "stream": "stdout",
       "text": [
        " : http://www.fht360.com/companylist/39/10516-2.html\n",
        "0.52"
       ]
      },
      {
       "output_type": "stream",
       "stream": "stdout",
       "text": [
        " : http://www.fht360.com/companylist/39/10515-2.html\n",
        "0.50"
       ]
      },
      {
       "output_type": "stream",
       "stream": "stdout",
       "text": [
        " : http://www.fht360.com/companylist/39/10518-2.html\n",
        "0.46"
       ]
      },
      {
       "output_type": "stream",
       "stream": "stdout",
       "text": [
        " : http://www.fht360.com/productlist/340/1861-2-1122.html\n",
        "0.65"
       ]
      },
      {
       "output_type": "stream",
       "stream": "stdout",
       "text": [
        " : http://www.fht360.com/productlist/425-2-1122.html\n",
        "0.29"
       ]
      },
      {
       "output_type": "stream",
       "stream": "stdout",
       "text": [
        " : http://www.fht360.com/productlist/233/16667-5.html\n",
        "0.32"
       ]
      },
      {
       "output_type": "stream",
       "stream": "stdout",
       "text": [
        " : http://www.fht360.com/productlist/233/17108-9.html\n",
        "0.47"
       ]
      },
      {
       "output_type": "stream",
       "stream": "stdout",
       "text": [
        " : http://www.fht360.com/productlist/246/12329-2-1487.html\n",
        "0.42"
       ]
      },
      {
       "output_type": "stream",
       "stream": "stdout",
       "text": [
        " : http://www.fht360.com/productlist/332/2995-2-880.html\n",
        "0.41"
       ]
      },
      {
       "output_type": "stream",
       "stream": "stdout",
       "text": [
        " : http://www.fht360.com/productlist/231/168-2-39.html\n",
        "0.68"
       ]
      },
      {
       "output_type": "stream",
       "stream": "stdout",
       "text": [
        " : http://www.fht360.com/productlist/226-13-39.html\n",
        "1.10"
       ]
      },
      {
       "output_type": "stream",
       "stream": "stdout",
       "text": [
        " : http://www.fht360.com/productlist/324/10010-2-1487.html\n",
        "1.07"
       ]
      },
      {
       "output_type": "stream",
       "stream": "stdout",
       "text": [
        " : http://www.fht360.com/companylist/237/10835-2.html\n",
        "0.85"
       ]
      },
      {
       "output_type": "stream",
       "stream": "stdout",
       "text": [
        " : http://www.fht360.com/productlist/426/14862-2-1487.html\n",
        "0.68"
       ]
      },
      {
       "output_type": "stream",
       "stream": "stdout",
       "text": [
        " : http://www.fht360.com/productlist/227/10511-4-1662.html\n",
        "0.47"
       ]
      },
      {
       "output_type": "stream",
       "stream": "stdout",
       "text": [
        " : http://www.fht360.com/companylist/164-3-896.html\n",
        "0.62"
       ]
      },
      {
       "output_type": "stream",
       "stream": "stdout",
       "text": [
        " : http://www.fht360.com/productlist/235/15161-2-880.html\n",
        "1.85"
       ]
      },
      {
       "output_type": "stream",
       "stream": "stdout",
       "text": [
        " : http://www.fht360.com/companylist/38/10580-2.html\n",
        "0.80"
       ]
      },
      {
       "output_type": "stream",
       "stream": "stdout",
       "text": [
        " : http://www.fht360.com/companylist/38/10586-2.html\n",
        "0.32"
       ]
      },
      {
       "output_type": "stream",
       "stream": "stdout",
       "text": [
        " : http://www.fht360.com/productlist/346/12032-2.html\n",
        "1.89"
       ]
      },
      {
       "output_type": "stream",
       "stream": "stdout",
       "text": [
        " : http://www.fht360.com/companylist/45/10081-2.html\n",
        "4.83"
       ]
      },
      {
       "output_type": "stream",
       "stream": "stdout",
       "text": [
        " : http://www.fht360.com/productlist/324-3-1122.html\n",
        "0.58"
       ]
      },
      {
       "output_type": "stream",
       "stream": "stdout",
       "text": [
        " : http://www.fht360.com/productlist/337/12148-2-880.html\n",
        "0.25"
       ]
      },
      {
       "output_type": "stream",
       "stream": "stdout",
       "text": [
        " : http://www.fht360.com/productlist/234/306-2-1487.html\n",
        "0.82"
       ]
      },
      {
       "output_type": "stream",
       "stream": "stdout",
       "text": [
        " : http://www.fht360.com/productlist/424/2-2-376.html\n",
        "0.47"
       ]
      },
      {
       "output_type": "stream",
       "stream": "stdout",
       "text": [
        " : http://www.fht360.com/productlist/262-2-880.html\n",
        "0.50"
       ]
      },
      {
       "output_type": "stream",
       "stream": "stdout",
       "text": [
        " : http://www.fht360.com/productlist/387/28-3-880.html\n",
        "0.86"
       ]
      },
      {
       "output_type": "stream",
       "stream": "stdout",
       "text": [
        " : http://www.fht360.com/productlist/279-33.html\n",
        "0.95"
       ]
      },
      {
       "output_type": "stream",
       "stream": "stdout",
       "text": [
        " : http://www.fht360.com/productlist/433/14927-3.html\n",
        "0.86"
       ]
      },
      {
       "output_type": "stream",
       "stream": "stdout",
       "text": [
        " : http://www.fht360.com/productlist/444/79-8-1487.html\n",
        "0.73"
       ]
      },
      {
       "output_type": "stream",
       "stream": "stdout",
       "text": [
        " : http://www.fht360.com/companylist/164/3-2-1276.html\n",
        "0.43"
       ]
      },
      {
       "output_type": "stream",
       "stream": "stdout",
       "text": [
        " : http://www.fht360.com/productlist/237/904-2.html\n",
        "0.29"
       ]
      },
      {
       "output_type": "stream",
       "stream": "stdout",
       "text": [
        " : http://www.fht360.com/productlist/402/9419-4.html\n",
        "0.39"
       ]
      },
      {
       "output_type": "stream",
       "stream": "stdout",
       "text": [
        " : http://www.fht360.com/productlist/334/12703-2.html\n",
        "0.83"
       ]
      },
      {
       "output_type": "stream",
       "stream": "stdout",
       "text": [
        " : http://www.fht360.com/companylist/137-2-927.html\n",
        "0.37"
       ]
      },
      {
       "output_type": "stream",
       "stream": "stdout",
       "text": [
        " : http://www.fht360.com/productlist/231/15805-2.html\n",
        "1.02"
       ]
      },
      {
       "output_type": "stream",
       "stream": "stdout",
       "text": [
        " : http://www.fht360.com/companylist/167/3-2-1100.html\n",
        "0.22"
       ]
      },
      {
       "output_type": "stream",
       "stream": "stdout",
       "text": [
        " : http://www.fht360.com/productlist/239/799-2-1662.html\n",
        "0.32"
       ]
      },
      {
       "output_type": "stream",
       "stream": "stdout",
       "text": [
        " : http://www.fht360.com/productlist/231-4-499.html\n",
        "0.97"
       ]
      },
      {
       "output_type": "stream",
       "stream": "stdout",
       "text": [
        " : http://www.fht360.com/productlist/233/16649-4-2137.html\n",
        "0.73"
       ]
      },
      {
       "output_type": "stream",
       "stream": "stdout",
       "text": [
        " : http://www.fht360.com/companylist/48/10321-2.html\n",
        "0.41"
       ]
      },
      {
       "output_type": "stream",
       "stream": "stdout",
       "text": [
        " : http://www.fht360.com/productlist/423/10811-2-1487.html\n",
        "0.52"
       ]
      },
      {
       "output_type": "stream",
       "stream": "stdout",
       "text": [
        " : http://www.fht360.com/productlist/285/394-6.html\n",
        "0.51"
       ]
      },
      {
       "output_type": "stream",
       "stream": "stdout",
       "text": [
        " : http://www.fht360.com/productlist/379-5-880.html\n",
        "0.49"
       ]
      },
      {
       "output_type": "stream",
       "stream": "stdout",
       "text": [
        " : http://www.fht360.com/productlist/234/10288-2-1487.html\n",
        "0.24"
       ]
      },
      {
       "output_type": "stream",
       "stream": "stdout",
       "text": [
        " : http://www.fht360.com/productlist/415/93-2-880.html\n",
        "0.25"
       ]
      },
      {
       "output_type": "stream",
       "stream": "stdout",
       "text": [
        " : http://www.fht360.com/productlist/226/10885-4.html\n",
        "0.58"
       ]
      },
      {
       "output_type": "stream",
       "stream": "stdout",
       "text": [
        " : http://www.fht360.com/companylist/165/3-2-1581.html\n",
        "0.30"
       ]
      },
      {
       "output_type": "stream",
       "stream": "stdout",
       "text": [
        " : http://www.fht360.com/productlist/362-12.html\n",
        "0.53"
       ]
      },
      {
       "output_type": "stream",
       "stream": "stdout",
       "text": [
        " : http://www.fht360.com/productlist/286-2-1009.html\n",
        "0.30"
       ]
      },
      {
       "output_type": "stream",
       "stream": "stdout",
       "text": [
        " : http://www.fht360.com/productlist/226/10884-3.html\n",
        "0.34"
       ]
      },
      {
       "output_type": "stream",
       "stream": "stdout",
       "text": [
        " : http://www.fht360.com/productlist/361-6.html\n",
        "0.33"
       ]
      },
      {
       "output_type": "stream",
       "stream": "stdout",
       "text": [
        " : http://www.fht360.com/productlist/433/14267-3.html\n",
        "0.30"
       ]
      },
      {
       "output_type": "stream",
       "stream": "stdout",
       "text": [
        " : http://www.fht360.com/productlist/433/14263-9.html\n",
        "0.52"
       ]
      },
      {
       "output_type": "stream",
       "stream": "stdout",
       "text": [
        " : http://www.fht360.com/productlist/248/12038-12.html\n",
        "1.26"
       ]
      },
      {
       "output_type": "stream",
       "stream": "stdout",
       "text": [
        " : http://www.fht360.com/productlist/367-44.html\n",
        "1.20"
       ]
      },
      {
       "output_type": "stream",
       "stream": "stdout",
       "text": [
        " : http://www.fht360.com/productlist/324/12492-2-2137.html\n",
        "0.39"
       ]
      },
      {
       "output_type": "stream",
       "stream": "stdout",
       "text": [
        " : http://www.fht360.com/productlist/415/36-4-880.html\n",
        "1.37"
       ]
      },
      {
       "output_type": "stream",
       "stream": "stdout",
       "text": [
        " : http://www.fht360.com/companylist/165/3-2-1051.html\n",
        "1.42"
       ]
      },
      {
       "output_type": "stream",
       "stream": "stdout",
       "text": [
        " : http://www.fht360.com/productlist/226/7439-2.html\n",
        "0.54"
       ]
      },
      {
       "output_type": "stream",
       "stream": "stdout",
       "text": [
        " : http://www.fht360.com/productlist/424/14775-4.html\n",
        "0.48"
       ]
      },
      {
       "output_type": "stream",
       "stream": "stdout",
       "text": [
        " : http://www.fht360.com/productlist/246/11343-2-1487.html\n",
        "0.79"
       ]
      },
      {
       "output_type": "stream",
       "stream": "stdout",
       "text": [
        " : http://www.fht360.com/companylist/52-4-2138.html\n",
        "0.55"
       ]
      },
      {
       "output_type": "stream",
       "stream": "stdout",
       "text": [
        " : http://www.fht360.com/productlist/309-4-1487.html\n",
        "1.09"
       ]
      },
      {
       "output_type": "stream",
       "stream": "stdout",
       "text": [
        " : http://www.fht360.com/companylist/50/10820-2.html\n",
        "1.59"
       ]
      },
      {
       "output_type": "stream",
       "stream": "stdout",
       "text": [
        " : http://www.fht360.com/companylist/165-4-1.html\n",
        "0.43"
       ]
      },
      {
       "output_type": "stream",
       "stream": "stdout",
       "text": [
        " : http://www.fht360.com/productlist/228/10072-2.html\n",
        "0.33"
       ]
      },
      {
       "output_type": "stream",
       "stream": "stdout",
       "text": [
        " : http://www.fht360.com/productlist/246/13319-13.html\n",
        "0.49"
       ]
      },
      {
       "output_type": "stream",
       "stream": "stdout",
       "text": [
        " : http://www.fht360.com/productlist/266/10320-2-39.html\n",
        "0.78"
       ]
      },
      {
       "output_type": "stream",
       "stream": "stdout",
       "text": [
        " : http://www.fht360.com/companylist/179/10311-2.html\n",
        "0.41"
       ]
      },
      {
       "output_type": "stream",
       "stream": "stdout",
       "text": [
        " : http://www.fht360.com/productlist/227/10511-5-1260.html\n",
        "1.08"
       ]
      },
      {
       "output_type": "stream",
       "stream": "stdout",
       "text": [
        " : http://www.fht360.com/productlist/324-47-1487.html\n",
        "1.01"
       ]
      },
      {
       "output_type": "stream",
       "stream": "stdout",
       "text": [
        " : http://www.fht360.com/productlist/239/267-2-860.html\n",
        "0.24"
       ]
      },
      {
       "output_type": "stream",
       "stream": "stdout",
       "text": [
        " : http://www.fht360.com/productlist/239/391-3.html\n",
        "0.32"
       ]
      },
      {
       "output_type": "stream",
       "stream": "stdout",
       "text": [
        " : http://www.fht360.com/productlist/341/11665-4.html\n",
        "0.27"
       ]
      },
      {
       "output_type": "stream",
       "stream": "stdout",
       "text": [
        " : http://www.fht360.com/productlist/239/392-2.html\n",
        "0.66"
       ]
      },
      {
       "output_type": "stream",
       "stream": "stdout",
       "text": [
        " : http://www.fht360.com/companylist/164-2-1100.html\n",
        "0.47"
       ]
      },
      {
       "output_type": "stream",
       "stream": "stdout",
       "text": [
        " : http://www.fht360.com/productlist/431-2-1260.html\n",
        "1.36"
       ]
      },
      {
       "output_type": "stream",
       "stream": "stdout",
       "text": [
        " : http://www.fht360.com/productlist/385-74-39.html\n",
        "1.09"
       ]
      },
      {
       "output_type": "stream",
       "stream": "stdout",
       "text": [
        " : http://www.fht360.com/productlist/248/769-6.html\n",
        "0.25"
       ]
      },
      {
       "output_type": "stream",
       "stream": "stdout",
       "text": [
        " : http://www.fht360.com/productlist/344/10771-2.html\n",
        "0.49"
       ]
      },
      {
       "output_type": "stream",
       "stream": "stdout",
       "text": [
        " : http://www.fht360.com/companylist/137-4-39.html\n",
        "0.46"
       ]
      },
      {
       "output_type": "stream",
       "stream": "stdout",
       "text": [
        " : http://www.fht360.com/productlist/235-1-628.html\n",
        "0.37"
       ]
      },
      {
       "output_type": "stream",
       "stream": "stdout",
       "text": [
        " : http://www.fht360.com/productlist/239/12094-2-880.html\n",
        "0.08"
       ]
      },
      {
       "output_type": "stream",
       "stream": "stdout",
       "text": [
        " : http://www.fht360.com/productlist/234/298-3.html\n",
        "0.67"
       ]
      },
      {
       "output_type": "stream",
       "stream": "stdout",
       "text": [
        " : http://www.fht360.com/companylist/198-6.html\n",
        "1.59"
       ]
      },
      {
       "output_type": "stream",
       "stream": "stdout",
       "text": [
        " : http://www.fht360.com/companylist/199-7.html\n",
        "0.26"
       ]
      },
      {
       "output_type": "stream",
       "stream": "stdout",
       "text": [
        " : http://www.fht360.com/productlist/352/5158-4.html\n",
        "0.73"
       ]
      },
      {
       "output_type": "stream",
       "stream": "stdout",
       "text": [
        " : http://www.fht360.com/companylist/193-5.html\n",
        "0.49"
       ]
      },
      {
       "output_type": "stream",
       "stream": "stdout",
       "text": [
        " : http://www.fht360.com/companylist/194-5.html\n",
        "0.74"
       ]
      },
      {
       "output_type": "stream",
       "stream": "stdout",
       "text": [
        " : http://www.fht360.com/companylist/195-3.html\n",
        "0.61"
       ]
      },
      {
       "output_type": "stream",
       "stream": "stdout",
       "text": [
        " : http://www.fht360.com/companylist/196-2.html\n",
        "0.59"
       ]
      },
      {
       "output_type": "stream",
       "stream": "stdout",
       "text": [
        " : http://www.fht360.com/companylist/197-5.html\n",
        "0.43"
       ]
      },
      {
       "output_type": "stream",
       "stream": "stdout",
       "text": [
        " : http://www.fht360.com/productlist/274-2-1857.html\n",
        "0.25"
       ]
      },
      {
       "output_type": "stream",
       "stream": "stdout",
       "text": [
        " : http://www.fht360.com/productlist/276/15186-4.html\n",
        "0.81"
       ]
      },
      {
       "output_type": "stream",
       "stream": "stdout",
       "text": [
        " : http://www.fht360.com/productlist/435/4418-2.html\n",
        "1.07"
       ]
      },
      {
       "output_type": "stream",
       "stream": "stdout",
       "text": [
        " : http://www.fht360.com/companylist/38-2-1488.html\n",
        "0.82"
       ]
      },
      {
       "output_type": "stream",
       "stream": "stdout",
       "text": [
        " : http://www.fht360.com/productlist/337-7-1487.html\n",
        "1.05"
       ]
      },
      {
       "output_type": "stream",
       "stream": "stdout",
       "text": [
        " : http://www.fht360.com/companylist/38-2-1487.html\n",
        "0.38"
       ]
      },
      {
       "output_type": "stream",
       "stream": "stdout",
       "text": [
        " : http://www.fht360.com/productlist/357/11349-2-1487.html\n",
        "0.47"
       ]
      },
      {
       "output_type": "stream",
       "stream": "stdout",
       "text": [
        " : http://www.fht360.com/companylist/167-2-2190.html\n",
        "0.39"
       ]
      },
      {
       "output_type": "stream",
       "stream": "stdout",
       "text": [
        " : http://www.fht360.com/productlist/280/95-4-39.html\n",
        "0.44"
       ]
      },
      {
       "output_type": "stream",
       "stream": "stdout",
       "text": [
        " : http://www.fht360.com/productlist/316-2-2137.html\n",
        "0.42"
       ]
      },
      {
       "output_type": "stream",
       "stream": "stdout",
       "text": [
        " : http://www.fht360.com/productlist/228/12016-2-2137.html\n",
        "0.46"
       ]
      },
      {
       "output_type": "stream",
       "stream": "stdout",
       "text": [
        " : http://www.fht360.com/productlist/334/12421-5-1260.html\n",
        "0.44"
       ]
      },
      {
       "output_type": "stream",
       "stream": "stdout",
       "text": [
        " : http://www.fht360.com/productlist/252/661-2-2137.html\n",
        "0.25"
       ]
      },
      {
       "output_type": "stream",
       "stream": "stdout",
       "text": [
        " : http://www.fht360.com/productlist/346/17490-2.html\n",
        "0.14"
       ]
      },
      {
       "output_type": "stream",
       "stream": "stdout",
       "text": [
        " : http://www.fht360.com/productlist/365/974-3.html\n",
        "0.36"
       ]
      },
      {
       "output_type": "stream",
       "stream": "stdout",
       "text": [
        " : http://www.fht360.com/productlist/317/10810-6-1487.html\n",
        "0.51"
       ]
      },
      {
       "output_type": "stream",
       "stream": "stdout",
       "text": [
        " : http://www.fht360.com/companylist/77/661-2.html\n",
        "0.25"
       ]
      },
      {
       "output_type": "stream",
       "stream": "stdout",
       "text": [
        " : http://www.fht360.com/productlist/248/684-3.html\n",
        "0.74"
       ]
      },
      {
       "output_type": "stream",
       "stream": "stdout",
       "text": [
        " : http://www.fht360.com/productlist/274/92-6-39.html\n",
        "1.32"
       ]
      },
      {
       "output_type": "stream",
       "stream": "stdout",
       "text": [
        " : http://www.fht360.com/productlist/227/3498-3-1009.html\n",
        "4.38"
       ]
      },
      {
       "output_type": "stream",
       "stream": "stdout",
       "text": [
        " : http://www.fht360.com/companylist/89/10252-2.html\n",
        "1.74"
       ]
      },
      {
       "output_type": "stream",
       "stream": "stdout",
       "text": [
        " : http://www.fht360.com/productlist/314/17354-2-1009.html\n",
        "1.05"
       ]
      },
      {
       "output_type": "stream",
       "stream": "stdout",
       "text": [
        " : http://www.fht360.com/productlist/279-3-880.html\n",
        "0.52"
       ]
      },
      {
       "output_type": "stream",
       "stream": "stdout",
       "text": [
        " : http://www.fht360.com/productlist/337-2-3065.html\n",
        "0.35"
       ]
      },
      {
       "output_type": "stream",
       "stream": "stdout",
       "text": [
        " : http://www.fht360.com/productlist/337/8480-2.html\n",
        "0.47"
       ]
      },
      {
       "output_type": "stream",
       "stream": "stdout",
       "text": [
        " : http://www.fht360.com/productlist/235/15161-5-2137.html\n",
        "0.44"
       ]
      },
      {
       "output_type": "stream",
       "stream": "stdout",
       "text": [
        " : http://www.fht360.com/productlist/324/7693-2-1487.html\n",
        "0.68"
       ]
      },
      {
       "output_type": "stream",
       "stream": "stdout",
       "text": [
        " : http://www.fht360.com/productlist/283-16-39.html\n",
        "0.26"
       ]
      },
      {
       "output_type": "stream",
       "stream": "stdout",
       "text": [
        " : http://www.fht360.com/productlist/279/18784-6.html\n",
        "0.44"
       ]
      },
      {
       "output_type": "stream",
       "stream": "stdout",
       "text": [
        " : http://www.fht360.com/productlist/379/363-4.html\n",
        "0.27"
       ]
      },
      {
       "output_type": "stream",
       "stream": "stdout",
       "text": [
        " : http://www.fht360.com/productlist/431/3728-6.html\n",
        "0.66"
       ]
      },
      {
       "output_type": "stream",
       "stream": "stdout",
       "text": [
        " : http://www.fht360.com/companylist/66/10177-2.html\n",
        "0.43"
       ]
      },
      {
       "output_type": "stream",
       "stream": "stdout",
       "text": [
        " : http://www.fht360.com/productlist/252/661-8-880.html\n",
        "0.39"
       ]
      },
      {
       "output_type": "stream",
       "stream": "stdout",
       "text": [
        " : http://www.fht360.com/productlist/234/188-7-880.html\n",
        "0.82"
       ]
      },
      {
       "output_type": "stream",
       "stream": "stdout",
       "text": [
        " : http://www.fht360.com/productlist/250-84.html\n",
        "1.03"
       ]
      },
      {
       "output_type": "stream",
       "stream": "stdout",
       "text": [
        " : http://www.fht360.com/productlist/231/159-4-1487.html\n",
        "0.92"
       ]
      },
      {
       "output_type": "stream",
       "stream": "stdout",
       "text": [
        " : http://www.fht360.com/productlist/337/12207-4.html\n",
        "0.35"
       ]
      },
      {
       "output_type": "stream",
       "stream": "stdout",
       "text": [
        " : http://www.fht360.com/productlist/337/12202-2.html\n",
        "1.68"
       ]
      },
      {
       "output_type": "stream",
       "stream": "stdout",
       "text": [
        " : http://www.fht360.com/productlist/357-43-1487.html\n",
        "1.70"
       ]
      },
      {
       "output_type": "stream",
       "stream": "stdout",
       "text": [
        " : http://www.fht360.com/productlist/337/12200-2.html\n",
        "0.97"
       ]
      },
      {
       "output_type": "stream",
       "stream": "stdout",
       "text": [
        " : http://www.fht360.com/productlist/433/14030-3.html\n",
        "0.30"
       ]
      },
      {
       "output_type": "stream",
       "stream": "stdout",
       "text": [
        " : http://www.fht360.com/productlist/274/97-10.html\n",
        "0.36"
       ]
      },
      {
       "output_type": "stream",
       "stream": "stdout",
       "text": [
        " : http://www.fht360.com/productlist/241/517-2-39.html\n",
        "0.44"
       ]
      },
      {
       "output_type": "stream",
       "stream": "stdout",
       "text": [
        " : http://www.fht360.com/productlist/433/14927-2-2137.html\n",
        "0.08"
       ]
      },
      {
       "output_type": "stream",
       "stream": "stdout",
       "text": [
        " : http://www.fht360.com/productlist/274/92-18.html\n",
        "0.48"
       ]
      },
      {
       "output_type": "stream",
       "stream": "stdout",
       "text": [
        " : http://www.fht360.com/companylist/162/3-10-2138.html\n",
        "0.45"
       ]
      },
      {
       "output_type": "stream",
       "stream": "stdout",
       "text": [
        " : http://www.fht360.com/productlist/264-9-2137.html\n",
        "0.46"
       ]
      },
      {
       "output_type": "stream",
       "stream": "stdout",
       "text": [
        " : http://www.fht360.com/companylist/74-2-1050.html\n",
        "0.44"
       ]
      },
      {
       "output_type": "stream",
       "stream": "stdout",
       "text": [
        " : http://www.fht360.com/productlist/231/9-6-1662.html\n",
        "0.71"
       ]
      },
      {
       "output_type": "stream",
       "stream": "stdout",
       "text": [
        " : http://www.fht360.com/productlist/367/13582-10.html\n",
        "0.32"
       ]
      },
      {
       "output_type": "stream",
       "stream": "stdout",
       "text": [
        " : http://www.fht360.com/productlist/351/13072-2.html\n",
        "0.53"
       ]
      },
      {
       "output_type": "stream",
       "stream": "stdout",
       "text": [
        " : http://www.fht360.com/companylist/137-13-2137.html\n",
        "0.55"
       ]
      },
      {
       "output_type": "stream",
       "stream": "stdout",
       "text": [
        " : http://www.fht360.com/productlist/264/10508-2.html\n",
        "0.53"
       ]
      },
      {
       "output_type": "stream",
       "stream": "stdout",
       "text": [
        " : http://www.fht360.com/companylist/50/10783-2.html\n",
        "0.44"
       ]
      },
      {
       "output_type": "stream",
       "stream": "stdout",
       "text": [
        " : http://www.fht360.com/productlist/337/12176-6-880.html\n",
        "0.45"
       ]
      },
      {
       "output_type": "stream",
       "stream": "stdout",
       "text": [
        " : http://www.fht360.com/companylist/100/10605-2.html\n",
        "0.70"
       ]
      },
      {
       "output_type": "stream",
       "stream": "stdout",
       "text": [
        " : http://www.fht360.com/productlist/424/2-15-706.html\n",
        "0.28"
       ]
      },
      {
       "output_type": "stream",
       "stream": "stdout",
       "text": [
        " : http://www.fht360.com/productlist/233-4-1857.html\n",
        "0.39"
       ]
      },
      {
       "output_type": "stream",
       "stream": "stdout",
       "text": [
        " : http://www.fht360.com/productlist/231/15894-3-1487.html\n",
        "0.49"
       ]
      },
      {
       "output_type": "stream",
       "stream": "stdout",
       "text": [
        " : http://www.fht360.com/productlist/357-3-39.html\n",
        "0.61"
       ]
      },
      {
       "output_type": "stream",
       "stream": "stdout",
       "text": [
        " : http://www.fht360.com/productlist/423-2-1009.html\n",
        "0.73"
       ]
      },
      {
       "output_type": "stream",
       "stream": "stdout",
       "text": [
        " : http://www.fht360.com/companylist/164/3-7-927.html\n",
        "0.56"
       ]
      },
      {
       "output_type": "stream",
       "stream": "stdout",
       "text": [
        " : http://www.fht360.com/companylist/164/3-2-924.html\n",
        "0.54"
       ]
      },
      {
       "output_type": "stream",
       "stream": "stdout",
       "text": [
        " : http://www.fht360.com/companylist/59/10808-2.html\n",
        "0.68"
       ]
      },
      {
       "output_type": "stream",
       "stream": "stdout",
       "text": [
        " : http://www.fht360.com/companylist/45-2-880.html\n",
        "0.99"
       ]
      },
      {
       "output_type": "stream",
       "stream": "stdout",
       "text": [
        " : http://www.fht360.com/productlist/324-35-880.html\n",
        "0.94"
       ]
      },
      {
       "output_type": "stream",
       "stream": "stdout",
       "text": [
        " : http://www.fht360.com/productlist/240-1-1009.html\n",
        "0.43"
       ]
      },
      {
       "output_type": "stream",
       "stream": "stdout",
       "text": [
        " : http://www.fht360.com/companylist/77-4-880.html\n",
        "0.83"
       ]
      },
      {
       "output_type": "stream",
       "stream": "stdout",
       "text": [
        " : http://www.fht360.com/productlist/424/14900-3.html\n",
        "0.44"
       ]
      },
      {
       "output_type": "stream",
       "stream": "stdout",
       "text": [
        " : http://www.fht360.com/productlist/254/258-2-1122.html\n",
        "0.30"
       ]
      },
      {
       "output_type": "stream",
       "stream": "stdout",
       "text": [
        " : http://www.fht360.com/productlist/335/12781-3.html\n",
        "0.26"
       ]
      },
      {
       "output_type": "stream",
       "stream": "stdout",
       "text": [
        " : http://www.fht360.com/productlist/335/12780-2.html\n",
        "0.68"
       ]
      },
      {
       "output_type": "stream",
       "stream": "stdout",
       "text": [
        " : http://www.fht360.com/companylist/45/10176-2.html\n",
        "0.45"
       ]
      },
      {
       "output_type": "stream",
       "stream": "stdout",
       "text": [
        " : http://www.fht360.com/productlist/234/390-5-880.html\n",
        "0.33"
       ]
      },
      {
       "output_type": "stream",
       "stream": "stdout",
       "text": [
        " : http://www.fht360.com/productlist/234/3373-2.html\n",
        "0.49"
       ]
      },
      {
       "output_type": "stream",
       "stream": "stdout",
       "text": [
        " : http://www.fht360.com/companylist/48/3-2-1491.html\n",
        "0.38"
       ]
      },
      {
       "output_type": "stream",
       "stream": "stdout",
       "text": [
        " : http://www.fht360.com/productlist/424/14897-2-1009.html\n",
        "0.59"
       ]
      },
      {
       "output_type": "stream",
       "stream": "stdout",
       "text": [
        " : http://www.fht360.com/productlist/285-3-1662.html\n",
        "0.55"
       ]
      },
      {
       "output_type": "stream",
       "stream": "stdout",
       "text": [
        " : http://www.fht360.com/companylist/242/10539-2.html\n",
        "0.47"
       ]
      },
      {
       "output_type": "stream",
       "stream": "stdout",
       "text": [
        " : http://www.fht360.com/companylist/242/10531-2.html\n",
        "0.42"
       ]
      },
      {
       "output_type": "stream",
       "stream": "stdout",
       "text": [
        " : http://www.fht360.com/productlist/254-3-1009.html\n",
        "0.55"
       ]
      },
      {
       "output_type": "stream",
       "stream": "stdout",
       "text": [
        " : http://www.fht360.com/companylist/106/10617-2.html\n",
        "0.46"
       ]
      },
      {
       "output_type": "stream",
       "stream": "stdout",
       "text": [
        " : http://www.fht360.com/productlist/236/8287-2-2137.html\n",
        "0.53"
       ]
      },
      {
       "output_type": "stream",
       "stream": "stdout",
       "text": [
        " : http://www.fht360.com/productlist/424-5-2830.html\n",
        "1.01"
       ]
      },
      {
       "output_type": "stream",
       "stream": "stdout",
       "text": [
        " : http://www.fht360.com/productlist/241/452-2-39.html\n",
        "0.65"
       ]
      },
      {
       "output_type": "stream",
       "stream": "stdout",
       "text": [
        " : http://www.fht360.com/productlist/235-5-1.html\n",
        "0.33"
       ]
      },
      {
       "output_type": "stream",
       "stream": "stdout",
       "text": [
        " : http://www.fht360.com/productlist/234/15895-2.html\n",
        "0.76"
       ]
      },
      {
       "output_type": "stream",
       "stream": "stdout",
       "text": [
        " : http://www.fht360.com/companylist/241/10720-2.html\n",
        "0.26"
       ]
      },
      {
       "output_type": "stream",
       "stream": "stdout",
       "text": [
        " : http://www.fht360.com/productlist/237/16015-2.html\n",
        "0.43"
       ]
      },
      {
       "output_type": "stream",
       "stream": "stdout",
       "text": [
        " : http://www.fht360.com/productlist/255/635-2-880.html\n",
        "0.48"
       ]
      },
      {
       "output_type": "stream",
       "stream": "stdout",
       "text": [
        " : http://www.fht360.com/companylist/48-3-1067.html\n",
        "0.45"
       ]
      },
      {
       "output_type": "stream",
       "stream": "stdout",
       "text": [
        " : http://www.fht360.com/productlist/369-2-39.html\n",
        "0.29"
       ]
      },
      {
       "output_type": "stream",
       "stream": "stdout",
       "text": [
        " : http://www.fht360.com/productlist/241/489-2.html\n",
        "0.33"
       ]
      },
      {
       "output_type": "stream",
       "stream": "stdout",
       "text": [
        " : http://www.fht360.com/productlist/241/488-4.html\n",
        "0.28"
       ]
      },
      {
       "output_type": "stream",
       "stream": "stdout",
       "text": [
        " : http://www.fht360.com/productlist/236/187-2.html\n",
        "0.35"
       ]
      },
      {
       "output_type": "stream",
       "stream": "stdout",
       "text": [
        " : http://www.fht360.com/productlist/305/16102-2-39.html\n",
        "0.46"
       ]
      },
      {
       "output_type": "stream",
       "stream": "stdout",
       "text": [
        " : http://www.fht360.com/productlist/270-4-1487.html\n",
        "0.81"
       ]
      },
      {
       "output_type": "stream",
       "stream": "stdout",
       "text": [
        " : http://www.fht360.com/productlist/283/17261-8-2137.html\n",
        "0.53"
       ]
      },
      {
       "output_type": "stream",
       "stream": "stdout",
       "text": [
        " : http://www.fht360.com/productlist/233/16011-2-860.html\n",
        "0.73"
       ]
      },
      {
       "output_type": "stream",
       "stream": "stdout",
       "text": [
        " : http://www.fht360.com/productlist/360-2-1009.html\n",
        "0.27"
       ]
      },
      {
       "output_type": "stream",
       "stream": "stdout",
       "text": [
        " : http://www.fht360.com/productlist/433/11451-3.html\n",
        "0.74"
       ]
      },
      {
       "output_type": "stream",
       "stream": "stdout",
       "text": [
        " : http://www.fht360.com/productlist/432/14872-2-234.html\n",
        "0.57"
       ]
      },
      {
       "output_type": "stream",
       "stream": "stdout",
       "text": [
        " : http://www.fht360.com/productlist/377/19067-3-860.html\n",
        "0.91"
       ]
      },
      {
       "output_type": "stream",
       "stream": "stdout",
       "text": [
        " : http://www.fht360.com/productlist/424/14715-2-2137.html\n",
        "1.60"
       ]
      },
      {
       "output_type": "stream",
       "stream": "stdout",
       "text": [
        " : http://www.fht360.com/productlist/333/71-3-860.html\n",
        "1.43"
       ]
      },
      {
       "output_type": "stream",
       "stream": "stdout",
       "text": [
        " : http://www.fht360.com/companylist/167-3-40.html\n",
        "0.51"
       ]
      },
      {
       "output_type": "stream",
       "stream": "stdout",
       "text": [
        " : http://www.fht360.com/productlist/226/10823-12.html\n",
        "0.34"
       ]
      },
      {
       "output_type": "stream",
       "stream": "stdout",
       "text": [
        " : http://www.fht360.com/productlist/233/7229-2.html\n",
        "0.42"
       ]
      },
      {
       "output_type": "stream",
       "stream": "stdout",
       "text": [
        " : http://www.fht360.com/productlist/275-2-2137.html\n",
        "0.58"
       ]
      },
      {
       "output_type": "stream",
       "stream": "stdout",
       "text": [
        " : http://www.fht360.com/companylist/37/10415-2.html\n",
        "0.55"
       ]
      },
      {
       "output_type": "stream",
       "stream": "stdout",
       "text": [
        " : http://www.fht360.com/companylist/37/10416-2.html\n",
        "0.58"
       ]
      },
      {
       "output_type": "stream",
       "stream": "stdout",
       "text": [
        " : http://www.fht360.com/companylist/37/10411-2.html\n",
        "0.53"
       ]
      },
      {
       "output_type": "stream",
       "stream": "stdout",
       "text": [
        " : http://www.fht360.com/companylist/37/10410-2.html\n",
        "0.73"
       ]
      },
      {
       "output_type": "stream",
       "stream": "stdout",
       "text": [
        " : http://www.fht360.com/companylist/37/10413-2.html\n",
        "0.49"
       ]
      },
      {
       "output_type": "stream",
       "stream": "stdout",
       "text": [
        " : http://www.fht360.com/productlist/235-2-499.html\n",
        "0.48"
       ]
      },
      {
       "output_type": "stream",
       "stream": "stdout",
       "text": [
        " : http://www.fht360.com/productlist/233-3-1260.html\n",
        "4.57"
       ]
      },
      {
       "output_type": "stream",
       "stream": "stdout",
       "text": [
        " : http://www.fht360.com/productlist/307-7-2137.html\n",
        "1.41"
       ]
      },
      {
       "output_type": "stream",
       "stream": "stdout",
       "text": [
        " : http://www.fht360.com/companylist/48-24-880.html\n",
        "0.60"
       ]
      },
      {
       "output_type": "stream",
       "stream": "stdout",
       "text": [
        " : http://www.fht360.com/companylist/48-2-881.html\n"
       ]
      },
      {
       "ename": "ConnectionError",
       "evalue": "('Connection aborted.', error(10060, ''))",
       "output_type": "pyerr",
       "traceback": [
        "\u001b[1;31m---------------------------------------------------------------------------\u001b[0m\n\u001b[1;31mConnectionError\u001b[0m                           Traceback (most recent call last)",
        "\u001b[1;32m<ipython-input-33-1edeb4ee59a1>\u001b[0m in \u001b[0;36m<module>\u001b[1;34m()\u001b[0m\n\u001b[0;32m     17\u001b[0m             \u001b[1;32mcontinue\u001b[0m \u001b[1;31m# skip this\u001b[0m\u001b[1;33m\u001b[0m\u001b[0m\n\u001b[0;32m     18\u001b[0m         \u001b[1;32mwith\u001b[0m \u001b[0mtimed_context\u001b[0m\u001b[1;33m(\u001b[0m\u001b[0murl\u001b[0m\u001b[1;33m,\u001b[0m \u001b[0moutfile\u001b[0m\u001b[1;33m)\u001b[0m\u001b[1;33m:\u001b[0m\u001b[1;33m\u001b[0m\u001b[0m\n\u001b[1;32m---> 19\u001b[1;33m             \u001b[0mreq\u001b[0m \u001b[1;33m=\u001b[0m \u001b[0mrequests\u001b[0m\u001b[1;33m.\u001b[0m\u001b[0mget\u001b[0m\u001b[1;33m(\u001b[0m\u001b[0murl\u001b[0m\u001b[1;33m)\u001b[0m\u001b[1;33m\u001b[0m\u001b[0m\n\u001b[0m\u001b[0;32m     20\u001b[0m             \u001b[1;32mtry\u001b[0m\u001b[1;33m:\u001b[0m\u001b[1;33m\u001b[0m\u001b[0m\n\u001b[0;32m     21\u001b[0m                 \u001b[1;32massert\u001b[0m \u001b[0mreq\u001b[0m\u001b[1;33m.\u001b[0m\u001b[0mstatus_code\u001b[0m \u001b[1;33m==\u001b[0m \u001b[1;36m200\u001b[0m\u001b[1;33m\u001b[0m\u001b[0m\n",
        "\u001b[1;32mC:\\Users\\yj\\Anaconda\\lib\\site-packages\\requests\\api.pyc\u001b[0m in \u001b[0;36mget\u001b[1;34m(url, **kwargs)\u001b[0m\n\u001b[0;32m     57\u001b[0m \u001b[1;33m\u001b[0m\u001b[0m\n\u001b[0;32m     58\u001b[0m     \u001b[0mkwargs\u001b[0m\u001b[1;33m.\u001b[0m\u001b[0msetdefault\u001b[0m\u001b[1;33m(\u001b[0m\u001b[1;34m'allow_redirects'\u001b[0m\u001b[1;33m,\u001b[0m \u001b[0mTrue\u001b[0m\u001b[1;33m)\u001b[0m\u001b[1;33m\u001b[0m\u001b[0m\n\u001b[1;32m---> 59\u001b[1;33m     \u001b[1;32mreturn\u001b[0m \u001b[0mrequest\u001b[0m\u001b[1;33m(\u001b[0m\u001b[1;34m'get'\u001b[0m\u001b[1;33m,\u001b[0m \u001b[0murl\u001b[0m\u001b[1;33m,\u001b[0m \u001b[1;33m**\u001b[0m\u001b[0mkwargs\u001b[0m\u001b[1;33m)\u001b[0m\u001b[1;33m\u001b[0m\u001b[0m\n\u001b[0m\u001b[0;32m     60\u001b[0m \u001b[1;33m\u001b[0m\u001b[0m\n\u001b[0;32m     61\u001b[0m \u001b[1;33m\u001b[0m\u001b[0m\n",
        "\u001b[1;32mC:\\Users\\yj\\Anaconda\\lib\\site-packages\\requests\\api.pyc\u001b[0m in \u001b[0;36mrequest\u001b[1;34m(method, url, **kwargs)\u001b[0m\n\u001b[0;32m     46\u001b[0m \u001b[1;33m\u001b[0m\u001b[0m\n\u001b[0;32m     47\u001b[0m     \u001b[0msession\u001b[0m \u001b[1;33m=\u001b[0m \u001b[0msessions\u001b[0m\u001b[1;33m.\u001b[0m\u001b[0mSession\u001b[0m\u001b[1;33m(\u001b[0m\u001b[1;33m)\u001b[0m\u001b[1;33m\u001b[0m\u001b[0m\n\u001b[1;32m---> 48\u001b[1;33m     \u001b[1;32mreturn\u001b[0m \u001b[0msession\u001b[0m\u001b[1;33m.\u001b[0m\u001b[0mrequest\u001b[0m\u001b[1;33m(\u001b[0m\u001b[0mmethod\u001b[0m\u001b[1;33m=\u001b[0m\u001b[0mmethod\u001b[0m\u001b[1;33m,\u001b[0m \u001b[0murl\u001b[0m\u001b[1;33m=\u001b[0m\u001b[0murl\u001b[0m\u001b[1;33m,\u001b[0m \u001b[1;33m**\u001b[0m\u001b[0mkwargs\u001b[0m\u001b[1;33m)\u001b[0m\u001b[1;33m\u001b[0m\u001b[0m\n\u001b[0m\u001b[0;32m     49\u001b[0m \u001b[1;33m\u001b[0m\u001b[0m\n\u001b[0;32m     50\u001b[0m \u001b[1;33m\u001b[0m\u001b[0m\n",
        "\u001b[1;32mC:\\Users\\yj\\Anaconda\\lib\\site-packages\\requests\\sessions.pyc\u001b[0m in \u001b[0;36mrequest\u001b[1;34m(self, method, url, params, data, headers, cookies, files, auth, timeout, allow_redirects, proxies, hooks, stream, verify, cert)\u001b[0m\n\u001b[0;32m    449\u001b[0m         }\n\u001b[0;32m    450\u001b[0m         \u001b[0msend_kwargs\u001b[0m\u001b[1;33m.\u001b[0m\u001b[0mupdate\u001b[0m\u001b[1;33m(\u001b[0m\u001b[0msettings\u001b[0m\u001b[1;33m)\u001b[0m\u001b[1;33m\u001b[0m\u001b[0m\n\u001b[1;32m--> 451\u001b[1;33m         \u001b[0mresp\u001b[0m \u001b[1;33m=\u001b[0m \u001b[0mself\u001b[0m\u001b[1;33m.\u001b[0m\u001b[0msend\u001b[0m\u001b[1;33m(\u001b[0m\u001b[0mprep\u001b[0m\u001b[1;33m,\u001b[0m \u001b[1;33m**\u001b[0m\u001b[0msend_kwargs\u001b[0m\u001b[1;33m)\u001b[0m\u001b[1;33m\u001b[0m\u001b[0m\n\u001b[0m\u001b[0;32m    452\u001b[0m \u001b[1;33m\u001b[0m\u001b[0m\n\u001b[0;32m    453\u001b[0m         \u001b[1;32mreturn\u001b[0m \u001b[0mresp\u001b[0m\u001b[1;33m\u001b[0m\u001b[0m\n",
        "\u001b[1;32mC:\\Users\\yj\\Anaconda\\lib\\site-packages\\requests\\sessions.pyc\u001b[0m in \u001b[0;36msend\u001b[1;34m(self, request, **kwargs)\u001b[0m\n\u001b[0;32m    555\u001b[0m \u001b[1;33m\u001b[0m\u001b[0m\n\u001b[0;32m    556\u001b[0m         \u001b[1;31m# Send the request\u001b[0m\u001b[1;33m\u001b[0m\u001b[1;33m\u001b[0m\u001b[0m\n\u001b[1;32m--> 557\u001b[1;33m         \u001b[0mr\u001b[0m \u001b[1;33m=\u001b[0m \u001b[0madapter\u001b[0m\u001b[1;33m.\u001b[0m\u001b[0msend\u001b[0m\u001b[1;33m(\u001b[0m\u001b[0mrequest\u001b[0m\u001b[1;33m,\u001b[0m \u001b[1;33m**\u001b[0m\u001b[0mkwargs\u001b[0m\u001b[1;33m)\u001b[0m\u001b[1;33m\u001b[0m\u001b[0m\n\u001b[0m\u001b[0;32m    558\u001b[0m \u001b[1;33m\u001b[0m\u001b[0m\n\u001b[0;32m    559\u001b[0m         \u001b[1;31m# Total elapsed time of the request (approximately)\u001b[0m\u001b[1;33m\u001b[0m\u001b[1;33m\u001b[0m\u001b[0m\n",
        "\u001b[1;32mC:\\Users\\yj\\Anaconda\\lib\\site-packages\\requests\\adapters.pyc\u001b[0m in \u001b[0;36msend\u001b[1;34m(self, request, stream, timeout, verify, cert, proxies)\u001b[0m\n\u001b[0;32m    405\u001b[0m \u001b[1;33m\u001b[0m\u001b[0m\n\u001b[0;32m    406\u001b[0m         \u001b[1;32mexcept\u001b[0m \u001b[1;33m(\u001b[0m\u001b[0mProtocolError\u001b[0m\u001b[1;33m,\u001b[0m \u001b[0msocket\u001b[0m\u001b[1;33m.\u001b[0m\u001b[0merror\u001b[0m\u001b[1;33m)\u001b[0m \u001b[1;32mas\u001b[0m \u001b[0merr\u001b[0m\u001b[1;33m:\u001b[0m\u001b[1;33m\u001b[0m\u001b[0m\n\u001b[1;32m--> 407\u001b[1;33m             \u001b[1;32mraise\u001b[0m \u001b[0mConnectionError\u001b[0m\u001b[1;33m(\u001b[0m\u001b[0merr\u001b[0m\u001b[1;33m,\u001b[0m \u001b[0mrequest\u001b[0m\u001b[1;33m=\u001b[0m\u001b[0mrequest\u001b[0m\u001b[1;33m)\u001b[0m\u001b[1;33m\u001b[0m\u001b[0m\n\u001b[0m\u001b[0;32m    408\u001b[0m \u001b[1;33m\u001b[0m\u001b[0m\n\u001b[0;32m    409\u001b[0m         \u001b[1;32mexcept\u001b[0m \u001b[0mMaxRetryError\u001b[0m \u001b[1;32mas\u001b[0m \u001b[0me\u001b[0m\u001b[1;33m:\u001b[0m\u001b[1;33m\u001b[0m\u001b[0m\n",
        "\u001b[1;31mConnectionError\u001b[0m: ('Connection aborted.', error(10060, ''))"
       ]
      }
     ],
     "prompt_number": 33
    },
    {
     "cell_type": "heading",
     "level": 2,
     "metadata": {},
     "source": [
      "#Assert that next page will not be found on server"
     ]
    },
    {
     "cell_type": "code",
     "collapsed": false,
     "input": [
      "def next_page_of_matched_url(match):\n",
      "    url = match.string\n",
      "    start, end = match.span('currpage')\n",
      "    return url[0:start]+str(int(url[start:end])+1)+url[end:]\n",
      "    \n",
      "for match in last_page_matches:\n",
      "    # find next page of matched url\n",
      "    next_page = next_page_of_matched_url(match)\n",
      "    req = requests.get(next_page)\n",
      "    print req.status_code, next_page\n",
      "    assert should_have_been_404(req.text)"
     ],
     "language": "python",
     "metadata": {},
     "outputs": []
    }
   ],
   "metadata": {}
  }
 ]
}