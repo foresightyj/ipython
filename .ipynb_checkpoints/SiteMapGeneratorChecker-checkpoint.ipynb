{
 "metadata": {
  "name": "",
  "signature": "sha256:2ee78ce868e75dabefe7f80fdc46e991e56ea5ede4594d7003d0000883d46c1f"
 },
 "nbformat": 3,
 "nbformat_minor": 0,
 "worksheets": [
  {
   "cells": [
    {
     "cell_type": "heading",
     "level": 2,
     "metadata": {},
     "source": [
      "Intelligently parse routing rules I noted a few months ago and turn then into regex matches"
     ]
    },
    {
     "cell_type": "code",
     "collapsed": false,
     "input": [
      "routing_rules_path = \"E:/OneDrive/Notes/fht360_study/routing_rules.cs\"\n",
      "\n",
      "def _get_rules():\n",
      "    with open(routing_rules_path) as f:\n",
      "        for line in f:\n",
      "            if '{' in line and '}' in line and 'currpage' in line.lower():\n",
      "                yield line.strip().lower().strip(\",\").strip('\"')\n",
      "                \n",
      "def _get_parse_rules():\n",
      "    controller_patt = r'(product|company)'\n",
      "    integer_patt = r'(?P<{kw}>\\d+)'\n",
      "\n",
      "    keyword_patterns = {kw: integer_patt.format(kw=kw) for kw in [\"realcategoryid\", \"categoryid\", \"currpage\", \"industryid\", \"region\", \"tagid\"]}\n",
      "\n",
      "    for rule in _get_rules():\n",
      "        try:\n",
      "            rule = rule.format(controller=controller_patt, **keyword_patterns)\n",
      "            yield rule\n",
      "        except KeyError as e:\n",
      "            print 'Don\\'t care about this token %s yet' % e\n",
      "            pass\n",
      "\n",
      "parse_rules = list(_get_parse_rules())\n",
      "\n",
      "for parse_rule in parse_rules:\n",
      "    print parse_rule"
     ],
     "language": "python",
     "metadata": {},
     "outputs": [
      {
       "output_type": "stream",
       "stream": "stdout",
       "text": [
        "Don't care about this token 'tradeid' yet\n",
        "(product|company)list/(?P<categoryid>\\d+)-(?P<currpage>\\d+)-(?P<region>\\d+).html\n",
        "(product|company)list/(?P<categoryid>\\d+)-(?P<currpage>\\d+).html\n",
        "(product|company)list/(?P<categoryid>\\d+)/(?P<realcategoryid>\\d+)-(?P<currpage>\\d+)-(?P<region>\\d+).html\n",
        "(product|company)list/(?P<categoryid>\\d+)/(?P<realcategoryid>\\d+)-(?P<currpage>\\d+).html\n",
        "newslist/(?P<industryid>\\d+)-(?P<tagid>\\d+)-(?P<currpage>\\d+).html\n",
        "newslist/(?P<industryid>\\d+)-(?P<currpage>\\d+).html\n"
       ]
      }
     ],
     "prompt_number": 1
    },
    {
     "cell_type": "heading",
     "level": 2,
     "metadata": {},
     "source": [
      "Group all matches by some kind of hash of all other fields except for currpage"
     ]
    },
    {
     "cell_type": "code",
     "collapsed": false,
     "input": [
      "!wc -l C://Users//yj//Desktop//fht360urls//urls//*currpage*.url"
     ],
     "language": "python",
     "metadata": {},
     "outputs": [
      {
       "output_type": "stream",
       "stream": "stdout",
       "text": [
        "    19 C://Users//yj//Desktop//fht360urls//urls//generate_companylist_categoryid_currpage.url\n",
        "   206 C://Users//yj//Desktop//fht360urls//urls//generate_companylist_categoryid_currpage_region.url\n",
        "    83 C://Users//yj//Desktop//fht360urls//urls//generate_companylist_categoryid_realcategoryid_currpage.url\n",
        "   283 C://Users//yj//Desktop//fht360urls//urls//generate_companylist_categoryid_realcategoryid_currpage_region.url\n",
        "   316 C://Users//yj//Desktop//fht360urls//urls//generate_newslist_industryid_currpage.url\n",
        "  1020 C://Users//yj//Desktop//fht360urls//urls//generate_newslist_industryid_tagid_currpage.url\n",
        "    96 C://Users//yj//Desktop//fht360urls//urls//generate_productlist_categoryid_currpage.url\n",
        "   137 C://Users//yj//Desktop//fht360urls//urls//generate_productlist_categoryid_currpage_region.url\n",
        "   186 C://Users//yj//Desktop//fht360urls//urls//generate_productlist_categoryid_realcategoryid_currpage.url\n",
        "   234 C://Users//yj//Desktop//fht360urls//urls//generate_productlist_categoryid_realcategoryid_currpage_region.url\n",
        "  2580 total\n"
       ]
      }
     ],
     "prompt_number": 18
    },
    {
     "cell_type": "code",
     "collapsed": false,
     "input": [
      "currpage_stats = !wc -l C://Users//yj//Desktop//fht360urls//urls//*currpage*.url\n",
      "currpage_total = int(currpage_stats[-1].split()[0])\n",
      "print 'There are', currpage, 'links which contains currpage in total'"
     ],
     "language": "python",
     "metadata": {},
     "outputs": [
      {
       "output_type": "stream",
       "stream": "stdout",
       "text": [
        "There are 1 links which contains currpage in total\n"
       ]
      }
     ],
     "prompt_number": 26
    },
    {
     "cell_type": "code",
     "collapsed": false,
     "input": [
      "import os\n",
      "import re\n",
      "import requests\n",
      "import itertools\n",
      "from collections import defaultdict\n",
      "\n",
      "url_folder = u\"C:/Users/yj/Desktop/fht360urls/urls\"\n",
      "\n",
      "urls_files =  os.listdir(url_folder)\n",
      "\n",
      "def all_links_from_files(*files):\n",
      "    for fn in files:\n",
      "        full_path = os.path.join(url_folder, fn)\n",
      "        with open(full_path) as f:\n",
      "            for line in f:\n",
      "                line = line.strip()\n",
      "                if line:\n",
      "                    yield line\n",
      "\n",
      "url_group_matches = defaultdict(list)\n",
      "\n",
      "def try_parse_by_all_rules(url):\n",
      "    url = url.lower()\n",
      "    for rule in parse_rules:\n",
      "        m = re.search(rule, url)\n",
      "        if m:\n",
      "            return m\n",
      "\n",
      "success = 0\n",
      "ignored = 0\n",
      "\n",
      "for url in all_links_from_files(*urls_files):\n",
      "    m = try_parse_by_all_rules(url)\n",
      "    if m:\n",
      "        groups = m.groupdict()\n",
      "        currpage = groups.pop(\"currpage\") # get rid of currpage and group the rest of keys and values into some kind of url_group\n",
      "        url_group_identifier = ';'.join(sorted([str(k)+'='+v for k, v in groups.items()]))\n",
      "        url_group_matches[url_group_identifier].append(m)\n",
      "        success+=1\n",
      "    else:\n",
      "        assert 'companylist' not in url and 'productlist' not in url, \"we should not miss any productlist or companylist links\"\n",
      "        assert 'newsinfo' in url or 'productinfo' in url or 'more' in url, \"we can ignore newsinfo or productinfo or more pages for now\"\n",
      "        ignored += 1\n",
      "\n",
      "print 'success', success, 'ignored', ignored\n",
      "\n",
      "assert success >= currpage_total, \"You must have missed some links that contains currpage\""
     ],
     "language": "python",
     "metadata": {},
     "outputs": [
      {
       "output_type": "stream",
       "stream": "stdout",
       "text": [
        "success 2584 ignored 87273\n"
       ]
      }
     ],
     "prompt_number": 27
    },
    {
     "cell_type": "code",
     "collapsed": false,
     "input": [
      "from operator import itemgetter\n",
      "\n",
      "last_page_matches = []\n",
      "total = 0\n",
      "no_of_multipages = 0\n",
      "for url_group, matches in url_group_matches.items():\n",
      "    total+=1\n",
      "    if len(matches) > 1:\n",
      "        no_of_multipages += 1\n",
      "        # find the url with largest page no\n",
      "        last_page_matche = sorted(matches, key=lambda match: int(match.groupdict()[\"currpage\"]))[-1]\n",
      "        #print len(matches), last_page_url\n",
      "        last_page_matches.append(last_page_matche)\n",
      "\n",
      "print \"%d of %d pages are multipages\" %(no_of_multipages, total)"
     ],
     "language": "python",
     "metadata": {},
     "outputs": [
      {
       "output_type": "stream",
       "stream": "stdout",
       "text": [
        "50 of 2209 pages are multipages\n"
       ]
      }
     ],
     "prompt_number": 5
    },
    {
     "cell_type": "code",
     "collapsed": false,
     "input": [
      "import requests"
     ],
     "language": "python",
     "metadata": {},
     "outputs": [],
     "prompt_number": 6
    },
    {
     "cell_type": "code",
     "collapsed": false,
     "input": [
      "from contextlib import contextmanager\n",
      "\n",
      "import time\n",
      "\n",
      "@contextmanager\n",
      "def timed_context(work_description):\n",
      "    start = time.time()\n",
      "    yield\n",
      "    delta = time.time() - start\n",
      "    print '%.2f' % delta, ':', work_description\n",
      "    "
     ],
     "language": "python",
     "metadata": {},
     "outputs": [],
     "prompt_number": 49
    },
    {
     "cell_type": "code",
     "collapsed": false,
     "input": [
      "for match in last_page_matches:\n",
      "    print match.string"
     ],
     "language": "python",
     "metadata": {},
     "outputs": [
      {
       "output_type": "stream",
       "stream": "stdout",
       "text": [
        "http://www.fht360.com/productlist/13/466-2-1487.html\n",
        "http://www.fht360.com/productlist/2/185-2.html\n",
        "http://www.fht360.com/productlist/2-3-860.html\n",
        "http://www.fht360.com/productlist/13/466-2.html\n",
        "http://www.fht360.com/productlist/2-3-1009.html\n",
        "http://www.fht360.com/productlist/2-3-2137.html\n",
        "http://www.fht360.com/productlist/2-3-1487.html\n",
        "http://www.fht360.com/productlist/31-5-1487.html\n",
        "http://www.fht360.com/productlist/13-2-39.html\n",
        "http://www.fht360.com/productlist/24-3-2137.html\n",
        "http://www.fht360.com/productlist/13-3-880.html\n",
        "http://www.fht360.com/productlist/31-2-2137.html\n",
        "http://www.fht360.com/newslist/268-8.html\n",
        "http://www.fht360.com/newslist/269-5.html\n",
        "http://www.fht360.com/productlist/31-3-880.html\n",
        "http://www.fht360.com/productlist/13-10.html\n",
        "http://www.fht360.com/newslist/273-16.html\n",
        "http://www.fht360.com/newslist/272-96.html\n",
        "http://www.fht360.com/newslist/271-4.html\n",
        "http://www.fht360.com/newslist/270-2.html\n",
        "http://www.fht360.com/newslist/276-4.html\n",
        "http://www.fht360.com/newslist/275-2.html\n",
        "http://www.fht360.com/newslist/274-5.html\n",
        "http://www.fht360.com/productlist/24-5.html\n",
        "http://www.fht360.com/productlist/2/89-3.html\n",
        "http://www.fht360.com/companylist/621-2.html\n",
        "http://www.fht360.com/productlist/2/185-2-1009.html\n",
        "http://www.fht360.com/newslist/1075-72.html\n",
        "http://www.fht360.com/productlist/2-7-880.html\n",
        "http://www.fht360.com/productlist/13/597-2.html\n",
        "http://www.fht360.com/productlist/8-2-1009.html\n",
        "http://www.fht360.com/productlist/31-12.html\n",
        "http://www.fht360.com/productlist/2/390-2-880.html\n",
        "http://www.fht360.com/productlist/2-19.html\n",
        "http://www.fht360.com/productlist/3-2.html\n",
        "http://www.fht360.com/productlist/8-2.html\n",
        "http://www.fht360.com/newslist/1060-2.html\n",
        "http://www.fht360.com/newslist/1061-2.html\n",
        "http://www.fht360.com/newslist/1062-4.html\n",
        "http://www.fht360.com/newslist/1063-2.html\n",
        "http://www.fht360.com/newslist/1064-4.html\n",
        "http://www.fht360.com/newslist/1065-2.html\n",
        "http://www.fht360.com/newslist/1054-73.html\n",
        "http://www.fht360.com/productlist/13-3-1487.html\n",
        "http://www.fht360.com/productlist/2-2-1662.html\n",
        "http://www.fht360.com/newslist/315-2.html\n",
        "http://www.fht360.com/productlist/31-2-860.html\n",
        "http://www.fht360.com/productlist/2/390-2.html\n",
        "http://www.fht360.com/productlist/13-3-2137.html\n",
        "http://www.fht360.com/companylist/650-2.html\n"
       ]
      }
     ],
     "prompt_number": 8
    },
    {
     "cell_type": "heading",
     "level": 2,
     "metadata": {},
     "source": [
      "Assert all last pages we found return 200 OK"
     ]
    },
    {
     "cell_type": "code",
     "collapsed": false,
     "input": [
      "page_div_pattern = re.compile(r'<</a><span><em>(\\d+)</em>/(\\d+)</span>')\n",
      "\n",
      "def should_have_been_404(html):\n",
      "    \"\"\"They made all links return 200 even if it corresponds to a resource shouldn't exist\n",
      "    The only workaround now is to parse htmls to assert if a url should be non-existent\n",
      "    \"\"\"\n",
      "    # here are the rules\n",
      "    # 1. if \u6682\u65e0\u65b0\u95fb shows up in the news pages, then it is not found\n",
      "    # 2. if \u6ca1\u6709\u627e\u5230\u6ee1\u8db3\u6761\u4ef6\u7684\u6570\u636e shows up in company pages, then it is not found\n",
      "    # 3. if <</a><span><em>412</em>/2</span> where 412 is a particular page no while 2 is the total number of pages\n",
      "    if u\"\u6682\u65e0\u65b0\u95fb\" in html:\n",
      "        return True\n",
      "    elif u\"\u6ca1\u6709\u627e\u5230\u6ee1\u8db3\u6761\u4ef6\u7684\u6570\u636e\" in html:\n",
      "        return True\n",
      "    else:\n",
      "        found = page_div_pattern.search(html)\n",
      "        if found:\n",
      "            page, total = map(int, found.groups())\n",
      "            if page > total:\n",
      "                return True\n",
      "    return False"
     ],
     "language": "python",
     "metadata": {},
     "outputs": [],
     "prompt_number": 45
    },
    {
     "cell_type": "code",
     "collapsed": false,
     "input": [
      "for match in last_page_matches:\n",
      "    url = match.string\n",
      "    with timed_context(url):\n",
      "        req = requests.get(url)\n",
      "        assert req.status_code == 200\n",
      "        assert not should_have_been_404(req.text), req.url + \" is practically 404, which it shouldn't be.\""
     ],
     "language": "python",
     "metadata": {},
     "outputs": [
      {
       "output_type": "stream",
       "stream": "stdout",
       "text": [
        "0.34 : http://www.fht360.com/productlist/13/466-2-1487.html\n",
        "0.22"
       ]
      },
      {
       "output_type": "stream",
       "stream": "stdout",
       "text": [
        " : http://www.fht360.com/productlist/2/185-2.html\n",
        "0.52"
       ]
      },
      {
       "output_type": "stream",
       "stream": "stdout",
       "text": [
        " : http://www.fht360.com/productlist/2-3-860.html\n",
        "0.15"
       ]
      },
      {
       "output_type": "stream",
       "stream": "stdout",
       "text": [
        " : http://www.fht360.com/productlist/13/466-2.html\n",
        "0.46"
       ]
      },
      {
       "output_type": "stream",
       "stream": "stdout",
       "text": [
        " : http://www.fht360.com/productlist/2-3-1009.html\n",
        "1.32"
       ]
      },
      {
       "output_type": "stream",
       "stream": "stdout",
       "text": [
        " : http://www.fht360.com/productlist/2-3-2137.html\n",
        "0.52"
       ]
      },
      {
       "output_type": "stream",
       "stream": "stdout",
       "text": [
        " : http://www.fht360.com/productlist/2-3-1487.html\n",
        "0.37"
       ]
      },
      {
       "output_type": "stream",
       "stream": "stdout",
       "text": [
        " : http://www.fht360.com/productlist/31-5-1487.html\n",
        "0.35"
       ]
      },
      {
       "output_type": "stream",
       "stream": "stdout",
       "text": [
        " : http://www.fht360.com/productlist/13-2-39.html\n",
        "0.40"
       ]
      },
      {
       "output_type": "stream",
       "stream": "stdout",
       "text": [
        " : http://www.fht360.com/productlist/24-3-2137.html\n",
        "0.39"
       ]
      },
      {
       "output_type": "stream",
       "stream": "stdout",
       "text": [
        " : http://www.fht360.com/productlist/13-3-880.html\n",
        "0.73"
       ]
      },
      {
       "output_type": "stream",
       "stream": "stdout",
       "text": [
        " : http://www.fht360.com/productlist/31-2-2137.html\n",
        "0.13"
       ]
      },
      {
       "output_type": "stream",
       "stream": "stdout",
       "text": [
        " : http://www.fht360.com/newslist/268-8.html\n",
        "0.14"
       ]
      },
      {
       "output_type": "stream",
       "stream": "stdout",
       "text": [
        " : http://www.fht360.com/newslist/269-5.html\n",
        "0.36"
       ]
      },
      {
       "output_type": "stream",
       "stream": "stdout",
       "text": [
        " : http://www.fht360.com/productlist/31-3-880.html\n",
        "0.19"
       ]
      },
      {
       "output_type": "stream",
       "stream": "stdout",
       "text": [
        " : http://www.fht360.com/productlist/13-10.html\n"
       ]
      },
      {
       "ename": "AssertionError",
       "evalue": "http://www.fht360.com/newslist/273-16.htmlis practically 404, which it shouldn't",
       "output_type": "pyerr",
       "traceback": [
        "\u001b[1;31m---------------------------------------------------------------------------\u001b[0m\n\u001b[1;31mAssertionError\u001b[0m                            Traceback (most recent call last)",
        "\u001b[1;32m<ipython-input-50-9a081f838c03>\u001b[0m in \u001b[0;36m<module>\u001b[1;34m()\u001b[0m\n\u001b[0;32m      4\u001b[0m         \u001b[0mreq\u001b[0m \u001b[1;33m=\u001b[0m \u001b[0mrequests\u001b[0m\u001b[1;33m.\u001b[0m\u001b[0mget\u001b[0m\u001b[1;33m(\u001b[0m\u001b[0murl\u001b[0m\u001b[1;33m)\u001b[0m\u001b[1;33m\u001b[0m\u001b[0m\n\u001b[0;32m      5\u001b[0m         \u001b[1;32massert\u001b[0m \u001b[0mreq\u001b[0m\u001b[1;33m.\u001b[0m\u001b[0mstatus_code\u001b[0m \u001b[1;33m==\u001b[0m \u001b[1;36m200\u001b[0m\u001b[1;33m\u001b[0m\u001b[0m\n\u001b[1;32m----> 6\u001b[1;33m         \u001b[1;32massert\u001b[0m \u001b[1;32mnot\u001b[0m \u001b[0mshould_have_been_404\u001b[0m\u001b[1;33m(\u001b[0m\u001b[0mreq\u001b[0m\u001b[1;33m.\u001b[0m\u001b[0mtext\u001b[0m\u001b[1;33m)\u001b[0m\u001b[1;33m,\u001b[0m \u001b[0mreq\u001b[0m\u001b[1;33m.\u001b[0m\u001b[0murl\u001b[0m \u001b[1;33m+\u001b[0m \u001b[1;34m\"is practically 404, which it shouldn't\"\u001b[0m\u001b[1;33m\u001b[0m\u001b[0m\n\u001b[0m",
        "\u001b[1;31mAssertionError\u001b[0m: http://www.fht360.com/newslist/273-16.htmlis practically 404, which it shouldn't"
       ]
      }
     ],
     "prompt_number": 50
    },
    {
     "cell_type": "heading",
     "level": 2,
     "metadata": {},
     "source": [
      "Assert that next page will not be found on server"
     ]
    },
    {
     "cell_type": "code",
     "collapsed": false,
     "input": [
      "def next_page_of_matched_url(match):\n",
      "    url = match.string\n",
      "    start, end = match.span('currpage')\n",
      "    return url[0:start]+str(int(url[start:end])+1)+url[end:]\n",
      "    \n",
      "for match in last_page_matches:\n",
      "    # find next page of matched url\n",
      "    next_page = next_page_of_matched_url(match)\n",
      "    req = requests.get(next_page)\n",
      "    print req.status_code, next_page\n",
      "    print should_have_been_404(req.text), next_page\n",
      "    "
     ],
     "language": "python",
     "metadata": {},
     "outputs": [
      {
       "output_type": "stream",
       "stream": "stdout",
       "text": [
        "200 http://www.fht360.com/productlist/13/466-3-1487.html\n",
        "200"
       ]
      },
      {
       "output_type": "stream",
       "stream": "stdout",
       "text": [
        " http://www.fht360.com/productlist/2/185-3.html\n",
        "200"
       ]
      },
      {
       "output_type": "stream",
       "stream": "stdout",
       "text": [
        " http://www.fht360.com/productlist/2-4-860.html\n",
        "200"
       ]
      },
      {
       "output_type": "stream",
       "stream": "stdout",
       "text": [
        " http://www.fht360.com/productlist/13/466-3.html\n",
        "200"
       ]
      },
      {
       "output_type": "stream",
       "stream": "stdout",
       "text": [
        " http://www.fht360.com/productlist/2-4-1009.html\n",
        "200"
       ]
      },
      {
       "output_type": "stream",
       "stream": "stdout",
       "text": [
        " http://www.fht360.com/productlist/2-4-2137.html\n",
        "200"
       ]
      },
      {
       "output_type": "stream",
       "stream": "stdout",
       "text": [
        " http://www.fht360.com/productlist/2-4-1487.html\n",
        "200"
       ]
      },
      {
       "output_type": "stream",
       "stream": "stdout",
       "text": [
        " http://www.fht360.com/productlist/31-6-1487.html\n",
        "200"
       ]
      },
      {
       "output_type": "stream",
       "stream": "stdout",
       "text": [
        " http://www.fht360.com/productlist/13-3-39.html\n",
        "200"
       ]
      },
      {
       "output_type": "stream",
       "stream": "stdout",
       "text": [
        " http://www.fht360.com/productlist/24-4-2137.html\n",
        "200"
       ]
      },
      {
       "output_type": "stream",
       "stream": "stdout",
       "text": [
        " http://www.fht360.com/productlist/13-4-880.html\n",
        "200"
       ]
      },
      {
       "output_type": "stream",
       "stream": "stdout",
       "text": [
        " http://www.fht360.com/productlist/31-3-2137.html\n",
        "200"
       ]
      },
      {
       "output_type": "stream",
       "stream": "stdout",
       "text": [
        " http://www.fht360.com/newslist/268-9.html\n",
        "200"
       ]
      },
      {
       "output_type": "stream",
       "stream": "stdout",
       "text": [
        " http://www.fht360.com/newslist/269-6.html\n",
        "200"
       ]
      },
      {
       "output_type": "stream",
       "stream": "stdout",
       "text": [
        " http://www.fht360.com/productlist/31-4-880.html\n",
        "200"
       ]
      },
      {
       "output_type": "stream",
       "stream": "stdout",
       "text": [
        " http://www.fht360.com/productlist/13-11.html\n",
        "200"
       ]
      },
      {
       "output_type": "stream",
       "stream": "stdout",
       "text": [
        " http://www.fht360.com/newslist/273-17.html\n",
        "200"
       ]
      },
      {
       "output_type": "stream",
       "stream": "stdout",
       "text": [
        " http://www.fht360.com/newslist/272-97.html\n",
        "200"
       ]
      },
      {
       "output_type": "stream",
       "stream": "stdout",
       "text": [
        " http://www.fht360.com/newslist/271-5.html\n",
        "200"
       ]
      },
      {
       "output_type": "stream",
       "stream": "stdout",
       "text": [
        " http://www.fht360.com/newslist/270-3.html\n",
        "200"
       ]
      },
      {
       "output_type": "stream",
       "stream": "stdout",
       "text": [
        " http://www.fht360.com/newslist/276-5.html\n",
        "200"
       ]
      },
      {
       "output_type": "stream",
       "stream": "stdout",
       "text": [
        " http://www.fht360.com/newslist/275-3.html\n",
        "200"
       ]
      },
      {
       "output_type": "stream",
       "stream": "stdout",
       "text": [
        " http://www.fht360.com/newslist/274-6.html\n",
        "200"
       ]
      },
      {
       "output_type": "stream",
       "stream": "stdout",
       "text": [
        " http://www.fht360.com/productlist/24-6.html\n",
        "200"
       ]
      },
      {
       "output_type": "stream",
       "stream": "stdout",
       "text": [
        " http://www.fht360.com/productlist/2/89-4.html\n",
        "200"
       ]
      },
      {
       "output_type": "stream",
       "stream": "stdout",
       "text": [
        " http://www.fht360.com/companylist/621-3.html\n",
        "200"
       ]
      },
      {
       "output_type": "stream",
       "stream": "stdout",
       "text": [
        " http://www.fht360.com/productlist/2/185-3-1009.html\n",
        "200"
       ]
      },
      {
       "output_type": "stream",
       "stream": "stdout",
       "text": [
        " http://www.fht360.com/newslist/1075-73.html\n",
        "200"
       ]
      },
      {
       "output_type": "stream",
       "stream": "stdout",
       "text": [
        " http://www.fht360.com/productlist/2-8-880.html\n",
        "200"
       ]
      },
      {
       "output_type": "stream",
       "stream": "stdout",
       "text": [
        " http://www.fht360.com/productlist/13/597-3.html\n",
        "200"
       ]
      },
      {
       "output_type": "stream",
       "stream": "stdout",
       "text": [
        " http://www.fht360.com/productlist/8-3-1009.html\n",
        "200"
       ]
      },
      {
       "output_type": "stream",
       "stream": "stdout",
       "text": [
        " http://www.fht360.com/productlist/31-13.html\n",
        "200"
       ]
      },
      {
       "output_type": "stream",
       "stream": "stdout",
       "text": [
        " http://www.fht360.com/productlist/2/390-3-880.html\n",
        "200"
       ]
      },
      {
       "output_type": "stream",
       "stream": "stdout",
       "text": [
        " http://www.fht360.com/productlist/2-20.html\n",
        "200"
       ]
      },
      {
       "output_type": "stream",
       "stream": "stdout",
       "text": [
        " http://www.fht360.com/productlist/3-3.html\n",
        "200"
       ]
      },
      {
       "output_type": "stream",
       "stream": "stdout",
       "text": [
        " http://www.fht360.com/productlist/8-3.html\n",
        "200"
       ]
      },
      {
       "output_type": "stream",
       "stream": "stdout",
       "text": [
        " http://www.fht360.com/newslist/1060-3.html\n",
        "200"
       ]
      },
      {
       "output_type": "stream",
       "stream": "stdout",
       "text": [
        " http://www.fht360.com/newslist/1061-3.html\n",
        "200"
       ]
      },
      {
       "output_type": "stream",
       "stream": "stdout",
       "text": [
        " http://www.fht360.com/newslist/1062-5.html\n",
        "200"
       ]
      },
      {
       "output_type": "stream",
       "stream": "stdout",
       "text": [
        " http://www.fht360.com/newslist/1063-3.html\n",
        "200"
       ]
      },
      {
       "output_type": "stream",
       "stream": "stdout",
       "text": [
        " http://www.fht360.com/newslist/1064-5.html\n",
        "200"
       ]
      },
      {
       "output_type": "stream",
       "stream": "stdout",
       "text": [
        " http://www.fht360.com/newslist/1065-3.html\n",
        "200"
       ]
      },
      {
       "output_type": "stream",
       "stream": "stdout",
       "text": [
        " http://www.fht360.com/newslist/1054-74.html\n",
        "200"
       ]
      },
      {
       "output_type": "stream",
       "stream": "stdout",
       "text": [
        " http://www.fht360.com/productlist/13-4-1487.html\n",
        "200"
       ]
      },
      {
       "output_type": "stream",
       "stream": "stdout",
       "text": [
        " http://www.fht360.com/productlist/2-3-1662.html\n",
        "200"
       ]
      },
      {
       "output_type": "stream",
       "stream": "stdout",
       "text": [
        " http://www.fht360.com/newslist/315-3.html\n",
        "200"
       ]
      },
      {
       "output_type": "stream",
       "stream": "stdout",
       "text": [
        " http://www.fht360.com/productlist/31-3-860.html\n",
        "200"
       ]
      },
      {
       "output_type": "stream",
       "stream": "stdout",
       "text": [
        " http://www.fht360.com/productlist/2/390-3.html\n",
        "200"
       ]
      },
      {
       "output_type": "stream",
       "stream": "stdout",
       "text": [
        " http://www.fht360.com/productlist/13-4-2137.html\n",
        "200"
       ]
      },
      {
       "output_type": "stream",
       "stream": "stdout",
       "text": [
        " http://www.fht360.com/companylist/650-3.html\n"
       ]
      }
     ],
     "prompt_number": 10
    },
    {
     "cell_type": "markdown",
     "metadata": {},
     "source": [
      "match"
     ]
    },
    {
     "cell_type": "code",
     "collapsed": false,
     "input": [
      "\n",
      "    \n",
      "for match in last_page_matches:\n",
      "    # find next page of matched url\n",
      "    next_page = next_page_of_matched_url(match)\n",
      "    req = requests.get(next_page)\n",
      "    "
     ],
     "language": "python",
     "metadata": {},
     "outputs": [
      {
       "output_type": "stream",
       "stream": "stdout",
       "text": [
        "True http://www.fht360.com/productlist/13/466-3-1487.html\n",
        "True"
       ]
      },
      {
       "output_type": "stream",
       "stream": "stdout",
       "text": [
        " http://www.fht360.com/productlist/2/185-3.html\n",
        "True"
       ]
      },
      {
       "output_type": "stream",
       "stream": "stdout",
       "text": [
        " http://www.fht360.com/productlist/2-4-860.html\n",
        "True"
       ]
      },
      {
       "output_type": "stream",
       "stream": "stdout",
       "text": [
        " http://www.fht360.com/productlist/13/466-3.html\n",
        "True"
       ]
      },
      {
       "output_type": "stream",
       "stream": "stdout",
       "text": [
        " http://www.fht360.com/productlist/2-4-1009.html\n",
        "True"
       ]
      },
      {
       "output_type": "stream",
       "stream": "stdout",
       "text": [
        " http://www.fht360.com/productlist/2-4-2137.html\n",
        "True"
       ]
      },
      {
       "output_type": "stream",
       "stream": "stdout",
       "text": [
        " http://www.fht360.com/productlist/2-4-1487.html\n",
        "True"
       ]
      },
      {
       "output_type": "stream",
       "stream": "stdout",
       "text": [
        " http://www.fht360.com/productlist/31-6-1487.html\n",
        "True"
       ]
      },
      {
       "output_type": "stream",
       "stream": "stdout",
       "text": [
        " http://www.fht360.com/productlist/13-3-39.html\n",
        "True"
       ]
      },
      {
       "output_type": "stream",
       "stream": "stdout",
       "text": [
        " http://www.fht360.com/productlist/24-4-2137.html\n",
        "True"
       ]
      },
      {
       "output_type": "stream",
       "stream": "stdout",
       "text": [
        " http://www.fht360.com/productlist/13-4-880.html\n",
        "True"
       ]
      },
      {
       "output_type": "stream",
       "stream": "stdout",
       "text": [
        " http://www.fht360.com/productlist/31-3-2137.html\n",
        "True"
       ]
      },
      {
       "output_type": "stream",
       "stream": "stdout",
       "text": [
        " http://www.fht360.com/newslist/268-9.html\n",
        "True"
       ]
      },
      {
       "output_type": "stream",
       "stream": "stdout",
       "text": [
        " http://www.fht360.com/newslist/269-6.html\n",
        "True"
       ]
      },
      {
       "output_type": "stream",
       "stream": "stdout",
       "text": [
        " http://www.fht360.com/productlist/31-4-880.html\n",
        "True"
       ]
      },
      {
       "output_type": "stream",
       "stream": "stdout",
       "text": [
        " http://www.fht360.com/productlist/13-11.html\n",
        "True"
       ]
      },
      {
       "output_type": "stream",
       "stream": "stdout",
       "text": [
        " http://www.fht360.com/newslist/273-17.html\n",
        "True"
       ]
      },
      {
       "output_type": "stream",
       "stream": "stdout",
       "text": [
        " http://www.fht360.com/newslist/272-97.html\n",
        "True"
       ]
      },
      {
       "output_type": "stream",
       "stream": "stdout",
       "text": [
        " http://www.fht360.com/newslist/271-5.html\n",
        "True"
       ]
      },
      {
       "output_type": "stream",
       "stream": "stdout",
       "text": [
        " http://www.fht360.com/newslist/270-3.html\n",
        "True"
       ]
      },
      {
       "output_type": "stream",
       "stream": "stdout",
       "text": [
        " http://www.fht360.com/newslist/276-5.html\n",
        "True"
       ]
      },
      {
       "output_type": "stream",
       "stream": "stdout",
       "text": [
        " http://www.fht360.com/newslist/275-3.html\n",
        "True"
       ]
      },
      {
       "output_type": "stream",
       "stream": "stdout",
       "text": [
        " http://www.fht360.com/newslist/274-6.html\n",
        "True"
       ]
      },
      {
       "output_type": "stream",
       "stream": "stdout",
       "text": [
        " http://www.fht360.com/productlist/24-6.html\n",
        "True"
       ]
      },
      {
       "output_type": "stream",
       "stream": "stdout",
       "text": [
        " http://www.fht360.com/productlist/2/89-4.html\n",
        "True"
       ]
      },
      {
       "output_type": "stream",
       "stream": "stdout",
       "text": [
        " http://www.fht360.com/companylist/621-3.html\n",
        "True"
       ]
      },
      {
       "output_type": "stream",
       "stream": "stdout",
       "text": [
        " http://www.fht360.com/productlist/2/185-3-1009.html\n",
        "True"
       ]
      },
      {
       "output_type": "stream",
       "stream": "stdout",
       "text": [
        " http://www.fht360.com/newslist/1075-73.html\n",
        "True"
       ]
      },
      {
       "output_type": "stream",
       "stream": "stdout",
       "text": [
        " http://www.fht360.com/productlist/2-8-880.html\n",
        "True"
       ]
      },
      {
       "output_type": "stream",
       "stream": "stdout",
       "text": [
        " http://www.fht360.com/productlist/13/597-3.html\n",
        "True"
       ]
      },
      {
       "output_type": "stream",
       "stream": "stdout",
       "text": [
        " http://www.fht360.com/productlist/8-3-1009.html\n",
        "True"
       ]
      },
      {
       "output_type": "stream",
       "stream": "stdout",
       "text": [
        " http://www.fht360.com/productlist/31-13.html\n",
        "True"
       ]
      },
      {
       "output_type": "stream",
       "stream": "stdout",
       "text": [
        " http://www.fht360.com/productlist/2/390-3-880.html\n",
        "True"
       ]
      },
      {
       "output_type": "stream",
       "stream": "stdout",
       "text": [
        " http://www.fht360.com/productlist/2-20.html\n",
        "True"
       ]
      },
      {
       "output_type": "stream",
       "stream": "stdout",
       "text": [
        " http://www.fht360.com/productlist/3-3.html\n",
        "True"
       ]
      },
      {
       "output_type": "stream",
       "stream": "stdout",
       "text": [
        " http://www.fht360.com/productlist/8-3.html\n",
        "True"
       ]
      },
      {
       "output_type": "stream",
       "stream": "stdout",
       "text": [
        " http://www.fht360.com/newslist/1060-3.html\n",
        "True"
       ]
      },
      {
       "output_type": "stream",
       "stream": "stdout",
       "text": [
        " http://www.fht360.com/newslist/1061-3.html\n",
        "True"
       ]
      },
      {
       "output_type": "stream",
       "stream": "stdout",
       "text": [
        " http://www.fht360.com/newslist/1062-5.html\n",
        "True"
       ]
      },
      {
       "output_type": "stream",
       "stream": "stdout",
       "text": [
        " http://www.fht360.com/newslist/1063-3.html\n",
        "True"
       ]
      },
      {
       "output_type": "stream",
       "stream": "stdout",
       "text": [
        " http://www.fht360.com/newslist/1064-5.html\n",
        "True"
       ]
      },
      {
       "output_type": "stream",
       "stream": "stdout",
       "text": [
        " http://www.fht360.com/newslist/1065-3.html\n",
        "True"
       ]
      },
      {
       "output_type": "stream",
       "stream": "stdout",
       "text": [
        " http://www.fht360.com/newslist/1054-74.html\n",
        "True"
       ]
      },
      {
       "output_type": "stream",
       "stream": "stdout",
       "text": [
        " http://www.fht360.com/productlist/13-4-1487.html\n",
        "True"
       ]
      },
      {
       "output_type": "stream",
       "stream": "stdout",
       "text": [
        " http://www.fht360.com/productlist/2-3-1662.html\n",
        "True"
       ]
      },
      {
       "output_type": "stream",
       "stream": "stdout",
       "text": [
        " http://www.fht360.com/newslist/315-3.html\n",
        "True"
       ]
      },
      {
       "output_type": "stream",
       "stream": "stdout",
       "text": [
        " http://www.fht360.com/productlist/31-3-860.html\n",
        "True"
       ]
      },
      {
       "output_type": "stream",
       "stream": "stdout",
       "text": [
        " http://www.fht360.com/productlist/2/390-3.html\n",
        "True"
       ]
      },
      {
       "output_type": "stream",
       "stream": "stdout",
       "text": [
        " http://www.fht360.com/productlist/13-4-2137.html\n",
        "True"
       ]
      },
      {
       "output_type": "stream",
       "stream": "stdout",
       "text": [
        " http://www.fht360.com/companylist/650-3.html\n"
       ]
      }
     ],
     "prompt_number": 44
    }
   ],
   "metadata": {}
  }
 ]
}