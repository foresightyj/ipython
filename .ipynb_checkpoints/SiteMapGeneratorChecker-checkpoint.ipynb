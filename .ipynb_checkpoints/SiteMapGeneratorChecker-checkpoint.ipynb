{
 "metadata": {
  "name": "",
  "signature": "sha256:211d077ccd3e067f4c72bca1701a980e4477afe58f268449e17ff464f10d9b20"
 },
 "nbformat": 3,
 "nbformat_minor": 0,
 "worksheets": [
  {
   "cells": [
    {
     "cell_type": "heading",
     "level": 2,
     "metadata": {},
     "source": [
      "Intelligently parse routing rules I noted a few months ago and turn then into regex matches"
     ]
    },
    {
     "cell_type": "code",
     "collapsed": false,
     "input": [
      "routing_rules_path = \"E:/OneDrive/Notes/fht360_study/routing_rules.cs\"\n",
      "\n",
      "def _get_rules():\n",
      "    with open(routing_rules_path) as f:\n",
      "        for line in f:\n",
      "            if '{' in line and '}' in line and 'currpage' in line.lower():\n",
      "                yield line.strip().lower().strip(\",\").strip('\"')\n",
      "                \n",
      "def _get_parse_rules():\n",
      "    controller_patt = r'(product|company)'\n",
      "    integer_patt = r'(?P<{kw}>\\d+)'\n",
      "\n",
      "    keyword_patterns = {kw: integer_patt.format(kw=kw) for kw in [\"realcategoryid\", \"categoryid\", \"currpage\", \"industryid\", \"region\", \"tagid\"]}\n",
      "\n",
      "    for rule in _get_rules():\n",
      "        try:\n",
      "            rule = rule.format(controller=controller_patt, **keyword_patterns)\n",
      "            yield rule\n",
      "        except KeyError as e:\n",
      "            print 'Don\\'t care about this token %s yet' % e\n",
      "            pass\n",
      "\n",
      "parse_rules = list(_get_parse_rules())\n",
      "\n",
      "for parse_rule in parse_rules:\n",
      "    print parse_rule"
     ],
     "language": "python",
     "metadata": {},
     "outputs": [
      {
       "output_type": "stream",
       "stream": "stdout",
       "text": [
        "Don't care about this token 'tradeid' yet\n",
        "(product|company)list/(?P<categoryid>\\d+)-(?P<currpage>\\d+)-(?P<region>\\d+).html\n",
        "(product|company)list/(?P<categoryid>\\d+)-(?P<currpage>\\d+).html\n",
        "(product|company)list/(?P<categoryid>\\d+)/(?P<realcategoryid>\\d+)-(?P<currpage>\\d+)-(?P<region>\\d+).html\n",
        "(product|company)list/(?P<categoryid>\\d+)/(?P<realcategoryid>\\d+)-(?P<currpage>\\d+).html\n",
        "newslist/(?P<industryid>\\d+)-(?P<tagid>\\d+)-(?P<currpage>\\d+).html\n",
        "newslist/(?P<industryid>\\d+)-(?P<currpage>\\d+).html\n"
       ]
      }
     ],
     "prompt_number": 1
    },
    {
     "cell_type": "heading",
     "level": 2,
     "metadata": {},
     "source": [
      "Group all matches by some kind of hash of all other fields except for currpage"
     ]
    },
    {
     "cell_type": "code",
     "collapsed": false,
     "input": [
      "!wc -l C://Users//yj//Desktop//fht360urls//urls//*currpage*.url"
     ],
     "language": "python",
     "metadata": {},
     "outputs": [
      {
       "output_type": "stream",
       "stream": "stdout",
       "text": [
        "   1908 C://Users//yj//Desktop//fht360urls//urls//generate_companylist_categoryid_currpage.url\n",
        "  20153 C://Users//yj//Desktop//fht360urls//urls//generate_companylist_categoryid_currpage_region.url\n",
        "   2719 C://Users//yj//Desktop//fht360urls//urls//generate_companylist_categoryid_realcategoryid_currpage.url\n",
        "  31511 C://Users//yj//Desktop//fht360urls//urls//generate_companylist_categoryid_realcategoryid_currpage_region.url\n",
        "    291 C://Users//yj//Desktop//fht360urls//urls//generate_newslist_industryid_currpage.url\n",
        "   4649 C://Users//yj//Desktop//fht360urls//urls//generate_newslist_industryid_tagid_currpage.url\n",
        "   8821 C://Users//yj//Desktop//fht360urls//urls//generate_productlist_categoryid_currpage.url\n",
        "   9932 C://Users//yj//Desktop//fht360urls//urls//generate_productlist_categoryid_currpage_region.url\n",
        "  10672 C://Users//yj//Desktop//fht360urls//urls//generate_productlist_categoryid_realcategoryid_currpage.url\n",
        "  16650 C://Users//yj//Desktop//fht360urls//urls//generate_productlist_categoryid_realcategoryid_currpage_region.url\n",
        " 107306 total\n"
       ]
      }
     ],
     "prompt_number": 2
    },
    {
     "cell_type": "code",
     "collapsed": false,
     "input": [
      "currpage_stats = !wc -l C://Users//yj//Desktop//fht360urls//urls//*currpage*.url\n",
      "currpage_total = int(currpage_stats[-1].split()[0])\n",
      "print 'There are', currpage_total, 'links which contains currpage in total'"
     ],
     "language": "python",
     "metadata": {},
     "outputs": []
    },
    {
     "cell_type": "code",
     "collapsed": false,
     "input": [
      "import os\n",
      "import re\n",
      "import requests\n",
      "import itertools\n",
      "from collections import defaultdict\n",
      "\n",
      "url_folder = u\"C:/Users/yj/Desktop/fht360urls/urls\"\n",
      "\n",
      "urls_files =  os.listdir(url_folder)\n",
      "\n",
      "def all_links_from_files(*files):\n",
      "    for fn in files:\n",
      "        full_path = os.path.join(url_folder, fn)\n",
      "        with open(full_path) as f:\n",
      "            for line in f:\n",
      "                line = line.strip()\n",
      "                if line:\n",
      "                    yield line\n",
      "\n",
      "url_group_matches = defaultdict(list)\n",
      "\n",
      "def try_parse_by_all_rules(url):\n",
      "    url = url.lower()\n",
      "    for rule in parse_rules:\n",
      "        m = re.search(rule, url)\n",
      "        if m:\n",
      "            return m\n",
      "\n",
      "success = 0\n",
      "ignored = 0\n",
      "\n",
      "for url in all_links_from_files(*urls_files):\n",
      "    m = try_parse_by_all_rules(url)\n",
      "    if m:\n",
      "        groups = m.groupdict()\n",
      "        currpage = groups.pop(\"currpage\") # get rid of currpage and group the rest of keys and values into some kind of url_group\n",
      "        url_group_identifier = ';'.join(sorted([str(k)+'='+v for k, v in groups.items()]))\n",
      "        url_group_matches[url_group_identifier].append(m)\n",
      "        success+=1\n",
      "    else:\n",
      "        assert 'companylist' not in url and 'productlist' not in url, \"we should not miss any productlist or companylist links\"\n",
      "        assert 'newsinfo' in url or 'productinfo' in url or 'more' in url, \"we can ignore newsinfo or productinfo or more pages for now\"\n",
      "        ignored += 1\n",
      "\n",
      "print 'success', success, 'ignored', ignored\n",
      "\n",
      "assert success >= currpage_total, \"You must have missed some links that contains currpage\""
     ],
     "language": "python",
     "metadata": {},
     "outputs": [
      {
       "output_type": "stream",
       "stream": "stdout",
       "text": [
        " success 107310 ignored 343196\n"
       ]
      }
     ],
     "prompt_number": 4
    },
    {
     "cell_type": "code",
     "collapsed": false,
     "input": [
      "from operator import itemgetter\n",
      "\n",
      "last_page_matches = []\n",
      "total = 0\n",
      "no_of_multipages = 0\n",
      "for url_group, matches in url_group_matches.items():\n",
      "    total+=1\n",
      "    if len(matches) > 1:\n",
      "        no_of_multipages += 1\n",
      "        # find the url with largest page no\n",
      "        last_page_matche = sorted(matches, key=lambda match: int(match.groupdict()[\"currpage\"]))[-1]\n",
      "        #print len(matches), last_page_url\n",
      "        last_page_matches.append(last_page_matche)\n",
      "\n",
      "print \"%d of %d pages are multipages\" %(no_of_multipages, total)"
     ],
     "language": "python",
     "metadata": {},
     "outputs": [
      {
       "output_type": "stream",
       "stream": "stdout",
       "text": [
        "5360 of 71032 pages are multipages\n"
       ]
      }
     ],
     "prompt_number": 5
    },
    {
     "cell_type": "code",
     "collapsed": false,
     "input": [
      "import requests"
     ],
     "language": "python",
     "metadata": {},
     "outputs": [],
     "prompt_number": 6
    },
    {
     "cell_type": "code",
     "collapsed": false,
     "input": [
      "from contextlib import contextmanager\n",
      "\n",
      "import time\n",
      "\n",
      "@contextmanager\n",
      "def timed_context(work_description, outfile):\n",
      "    start = time.time()\n",
      "    yield\n",
      "    delta = time.time() - start\n",
      "    print>>outfile, '%.2f' % delta, ':', work_description\n",
      "    print  '%.2f' % delta, ':', work_description\n",
      "    "
     ],
     "language": "python",
     "metadata": {},
     "outputs": [],
     "prompt_number": 17
    },
    {
     "cell_type": "heading",
     "level": 2,
     "metadata": {},
     "source": [
      "Assert all last pages we found return 200 OK"
     ]
    },
    {
     "cell_type": "code",
     "collapsed": false,
     "input": [
      "page_div_pattern = re.compile(r'<</a><span><em>(\\d+)</em>/(\\d+)</span>')\n",
      "\n",
      "def should_have_been_404(html):\n",
      "    \"\"\"They made all links return 200 even if it corresponds to a resource shouldn't exist\n",
      "    The only workaround now is to parse htmls to assert if a url should be non-existent\n",
      "    \"\"\"\n",
      "    # here are the rules\n",
      "    # 1. if \u6682\u65e0\u65b0\u95fb shows up in the news pages, then it is not found\n",
      "    # 2. if \u6ca1\u6709\u627e\u5230\u6ee1\u8db3\u6761\u4ef6\u7684\u6570\u636e shows up in company pages, then it is not found\n",
      "    # 3. if <</a><span><em>412</em>/2</span> where 412 is a particular page no while 2 is the total number of pages\n",
      "    if u\"\u6682\u65e0\u65b0\u95fb\" in html:\n",
      "        return True\n",
      "    elif u\"\u6ca1\u6709\u627e\u5230\u6ee1\u8db3\u6761\u4ef6\u7684\u6570\u636e\" in html:\n",
      "        return True\n",
      "    else:\n",
      "        found = page_div_pattern.search(html)\n",
      "        if found:\n",
      "            page, total = map(int, found.groups())\n",
      "            if page > total:\n",
      "                return True\n",
      "    return False"
     ],
     "language": "python",
     "metadata": {},
     "outputs": [],
     "prompt_number": 18
    },
    {
     "cell_type": "code",
     "collapsed": false,
     "input": [
      "print '%d of urls in total' % len(last_page_matches)"
     ],
     "language": "python",
     "metadata": {},
     "outputs": [
      {
       "output_type": "stream",
       "stream": "stdout",
       "text": [
        "5360 of urls in total\n"
       ]
      }
     ],
     "prompt_number": 19
    },
    {
     "cell_type": "code",
     "collapsed": false,
     "input": [
      "raw_urls_times = !cat urls_tested.log\n",
      "\n",
      "urls_times = {}\n",
      "for line in raw_urls_times:\n",
      "    time, url = line.split(\":\", 1)\n",
      "    time = float(time)\n",
      "    url = url.strip()\n",
      "    urls_times[url] = time\n",
      "\n",
      "failed = []\n",
      "\n",
      "# this is rather long, so we need to \n",
      "with open(\"urls_tested.log\", \"w\") as outfile:\n",
      "    for match in last_page_matches:\n",
      "        url = match.string\n",
      "        if url in urls_times:\n",
      "            continue # skip this\n",
      "        with timed_context(url, outfile):\n",
      "            req = requests.get(url)\n",
      "            try:\n",
      "                assert req.status_code == 200\n",
      "                assert not should_have_been_404(req.text), req.url + \" is practically 404, which it shouldn't be.\"\n",
      "            except AssertionError as e:\n",
      "                failed.append(e)\n",
      "\n",
      "if failed:\n",
      "    print \"*\"*50\n",
      "    print \"There were %d failed asserts:\" % len(failed)\n",
      "    \n",
      "for f in failed:\n",
      "    print f"
     ],
     "language": "python",
     "metadata": {},
     "outputs": [
      {
       "output_type": "stream",
       "stream": "stdout",
       "text": [
        "1.36 : http://www.fht360.com/productlist/248-3-1122.html\n",
        "2.86"
       ]
      },
      {
       "output_type": "stream",
       "stream": "stdout",
       "text": [
        " : http://www.fht360.com/productlist/239/390-2-1487.html\n",
        "0.95"
       ]
      },
      {
       "output_type": "stream",
       "stream": "stdout",
       "text": [
        " : http://www.fht360.com/productlist/324/11483-2-1009.html\n",
        "1.95"
       ]
      },
      {
       "output_type": "stream",
       "stream": "stdout",
       "text": [
        " : http://www.fht360.com/companylist/189/10308-2.html\n",
        "0.44"
       ]
      },
      {
       "output_type": "stream",
       "stream": "stdout",
       "text": [
        " : http://www.fht360.com/productlist/368-2-1122.html\n",
        "0.25"
       ]
      },
      {
       "output_type": "stream",
       "stream": "stdout",
       "text": [
        " : http://www.fht360.com/productlist/260/654-9.html\n",
        "0.47"
       ]
      },
      {
       "output_type": "stream",
       "stream": "stdout",
       "text": [
        " : http://www.fht360.com/companylist/165-5-1663.html\n",
        "0.54"
       ]
      },
      {
       "output_type": "stream",
       "stream": "stdout",
       "text": [
        " : http://www.fht360.com/companylist/165-10-1662.html\n",
        "0.32"
       ]
      },
      {
       "output_type": "stream",
       "stream": "stdout",
       "text": [
        " : http://www.fht360.com/productlist/410/1411-2.html\n",
        "0.47"
       ]
      },
      {
       "output_type": "stream",
       "stream": "stdout",
       "text": [
        " : http://www.fht360.com/companylist/165-2-1668.html\n",
        "0.50"
       ]
      },
      {
       "output_type": "stream",
       "stream": "stdout",
       "text": [
        " : http://www.fht360.com/productlist/341/12620-3-2137.html\n",
        "0.53"
       ]
      },
      {
       "output_type": "stream",
       "stream": "stdout",
       "text": [
        " : http://www.fht360.com/companylist/177/10312-2.html\n",
        "0.41"
       ]
      },
      {
       "output_type": "stream",
       "stream": "stdout",
       "text": [
        " : http://www.fht360.com/productlist/363-3-1487.html\n",
        "0.27"
       ]
      },
      {
       "output_type": "stream",
       "stream": "stdout",
       "text": [
        " : http://www.fht360.com/productlist/233/16888-2.html\n",
        "0.44"
       ]
      },
      {
       "output_type": "stream",
       "stream": "stdout",
       "text": [
        " : http://www.fht360.com/productlist/247-1-1.html\n",
        "0.49"
       ]
      },
      {
       "output_type": "stream",
       "stream": "stdout",
       "text": [
        " : http://www.fht360.com/productlist/264/390-2-2137.html\n",
        "3.84"
       ]
      },
      {
       "output_type": "stream",
       "stream": "stdout",
       "text": [
        " : http://www.fht360.com/productlist/299-4.html\n",
        "0.22"
       ]
      },
      {
       "output_type": "stream",
       "stream": "stdout",
       "text": [
        " : http://www.fht360.com/productlist/292-22.html\n",
        "1.56"
       ]
      },
      {
       "output_type": "stream",
       "stream": "stdout",
       "text": [
        " : http://www.fht360.com/companylist/141/10070-2.html\n",
        "0.75"
       ]
      },
      {
       "output_type": "stream",
       "stream": "stdout",
       "text": [
        " : http://www.fht360.com/productlist/242/14608-3-1487.html\n",
        "0.52"
       ]
      },
      {
       "output_type": "stream",
       "stream": "stdout",
       "text": [
        " : http://www.fht360.com/companylist/48/3-4-1567.html\n",
        "0.35"
       ]
      },
      {
       "output_type": "stream",
       "stream": "stdout",
       "text": [
        " : http://www.fht360.com/productlist/375/14925-3.html\n",
        "0.70"
       ]
      },
      {
       "output_type": "stream",
       "stream": "stdout",
       "text": [
        " : http://www.fht360.com/companylist/164/3-3-918.html\n",
        "0.50"
       ]
      },
      {
       "output_type": "stream",
       "stream": "stdout",
       "text": [
        " : http://www.fht360.com/companylist/167/3-12-2164.html\n",
        "0.33"
       ]
      },
      {
       "output_type": "stream",
       "stream": "stdout",
       "text": [
        " : http://www.fht360.com/productlist/250-17-1662.html\n",
        "0.49"
       ]
      },
      {
       "output_type": "stream",
       "stream": "stdout",
       "text": [
        " : http://www.fht360.com/productlist/317-3-1122.html\n",
        "0.43"
       ]
      },
      {
       "output_type": "stream",
       "stream": "stdout",
       "text": [
        " : http://www.fht360.com/productlist/337-4-1260.html\n",
        "0.57"
       ]
      },
      {
       "output_type": "stream",
       "stream": "stdout",
       "text": [
        " : http://www.fht360.com/companylist/59/10832-2.html\n",
        "0.73"
       ]
      },
      {
       "output_type": "stream",
       "stream": "stdout",
       "text": [
        " : http://www.fht360.com/companylist/167-2-873.html\n",
        "0.57"
       ]
      },
      {
       "output_type": "stream",
       "stream": "stdout",
       "text": [
        " : http://www.fht360.com/productlist/314/17354-3.html\n",
        "0.51"
       ]
      },
      {
       "output_type": "stream",
       "stream": "stdout",
       "text": [
        " : http://www.fht360.com/companylist/188/10785-2-2137.html\n",
        "0.26"
       ]
      },
      {
       "output_type": "stream",
       "stream": "stdout",
       "text": [
        " : http://www.fht360.com/productlist/228-5-1987.html\n",
        "0.54"
       ]
      },
      {
       "output_type": "stream",
       "stream": "stdout",
       "text": [
        " : http://www.fht360.com/productlist/424-14-1987.html\n",
        "0.49"
       ]
      },
      {
       "output_type": "stream",
       "stream": "stdout",
       "text": [
        " : http://www.fht360.com/productlist/283/17261-13.html\n",
        "0.60"
       ]
      },
      {
       "output_type": "stream",
       "stream": "stdout",
       "text": [
        " : http://www.fht360.com/productlist/432/14833-2-706.html\n",
        "0.49"
       ]
      },
      {
       "output_type": "stream",
       "stream": "stdout",
       "text": [
        " : http://www.fht360.com/productlist/241/471-3.html\n",
        "0.54"
       ]
      },
      {
       "output_type": "stream",
       "stream": "stdout",
       "text": [
        " : http://www.fht360.com/productlist/241/477-10.html\n",
        "0.55"
       ]
      },
      {
       "output_type": "stream",
       "stream": "stdout",
       "text": [
        " : http://www.fht360.com/companylist/48/3-2-936.html\n",
        "0.29"
       ]
      },
      {
       "output_type": "stream",
       "stream": "stdout",
       "text": [
        " : http://www.fht360.com/productlist/433/11462-2.html\n",
        "0.27"
       ]
      },
      {
       "output_type": "stream",
       "stream": "stdout",
       "text": [
        " : http://www.fht360.com/productlist/433/11460-2.html\n",
        "1.42"
       ]
      },
      {
       "output_type": "stream",
       "stream": "stdout",
       "text": [
        " : http://www.fht360.com/companylist/48/3-2-938.html\n",
        "0.57"
       ]
      },
      {
       "output_type": "stream",
       "stream": "stdout",
       "text": [
        " : http://www.fht360.com/productlist/234/15613-2-39.html\n",
        "0.48"
       ]
      },
      {
       "output_type": "stream",
       "stream": "stdout",
       "text": [
        " : http://www.fht360.com/productlist/235/3588-2-1487.html\n",
        "0.58"
       ]
      },
      {
       "output_type": "stream",
       "stream": "stdout",
       "text": [
        " : http://www.fht360.com/companylist/164-2-2143.html\n",
        "0.52"
       ]
      },
      {
       "output_type": "stream",
       "stream": "stdout",
       "text": [
        " : http://www.fht360.com/companylist/164-2-2147.html\n",
        "0.48"
       ]
      },
      {
       "output_type": "stream",
       "stream": "stdout",
       "text": [
        " : http://www.fht360.com/companylist/164-3-2144.html\n",
        "0.74"
       ]
      },
      {
       "output_type": "stream",
       "stream": "stdout",
       "text": [
        " : http://www.fht360.com/companylist/39-3-1050.html\n",
        "0.28"
       ]
      },
      {
       "output_type": "stream",
       "stream": "stdout",
       "text": [
        " : http://www.fht360.com/productlist/304/7251-2.html\n",
        "0.46"
       ]
      },
      {
       "output_type": "stream",
       "stream": "stdout",
       "text": [
        " : http://www.fht360.com/productlist/233/15916-6-880.html\n",
        "0.68"
       ]
      },
      {
       "output_type": "stream",
       "stream": "stdout",
       "text": [
        " : http://www.fht360.com/productlist/314-5-1009.html\n",
        "0.46"
       ]
      },
      {
       "output_type": "stream",
       "stream": "stdout",
       "text": [
        " : http://www.fht360.com/companylist/176/10035-2-2137.html\n",
        "0.48"
       ]
      },
      {
       "output_type": "stream",
       "stream": "stdout",
       "text": [
        " : http://www.fht360.com/companylist/144/10397-2.html\n",
        "0.47"
       ]
      },
      {
       "output_type": "stream",
       "stream": "stdout",
       "text": [
        " : http://www.fht360.com/productlist/245-3-860.html\n",
        "0.48"
       ]
      },
      {
       "output_type": "stream",
       "stream": "stdout",
       "text": [
        " : http://www.fht360.com/productlist/256-2-880.html\n",
        "0.26"
       ]
      },
      {
       "output_type": "stream",
       "stream": "stdout",
       "text": [
        " : http://www.fht360.com/productlist/260/17010-6.html\n",
        "0.43"
       ]
      },
      {
       "output_type": "stream",
       "stream": "stdout",
       "text": [
        " : http://www.fht360.com/productlist/313/11104-7-2137.html\n",
        "0.30"
       ]
      },
      {
       "output_type": "stream",
       "stream": "stdout",
       "text": [
        " : http://www.fht360.com/productlist/236/17871-2.html\n",
        "0.37"
       ]
      },
      {
       "output_type": "stream",
       "stream": "stdout",
       "text": [
        " : http://www.fht360.com/productlist/261/302-2-1487.html\n",
        "0.67"
       ]
      },
      {
       "output_type": "stream",
       "stream": "stdout",
       "text": [
        " : http://www.fht360.com/companylist/145/10004-2.html\n",
        "0.80"
       ]
      },
      {
       "output_type": "stream",
       "stream": "stdout",
       "text": [
        " : http://www.fht360.com/companylist/45/10720-2.html\n",
        "1.10"
       ]
      },
      {
       "output_type": "stream",
       "stream": "stdout",
       "text": [
        " : http://www.fht360.com/productlist/250/17-6-1009.html\n",
        "1.19"
       ]
      },
      {
       "output_type": "stream",
       "stream": "stdout",
       "text": [
        " : http://www.fht360.com/productlist/246/13457-3-2137.html\n",
        "0.30"
       ]
      },
      {
       "output_type": "stream",
       "stream": "stdout",
       "text": [
        " : http://www.fht360.com/productlist/280/95-10.html\n",
        "0.49"
       ]
      },
      {
       "output_type": "stream",
       "stream": "stdout",
       "text": [
        " : http://www.fht360.com/companylist/46/10259-2.html\n",
        "0.62"
       ]
      },
      {
       "output_type": "stream",
       "stream": "stdout",
       "text": [
        " : http://www.fht360.com/productlist/337/12182-2-880.html\n",
        "0.46"
       ]
      },
      {
       "output_type": "stream",
       "stream": "stdout",
       "text": [
        " : http://www.fht360.com/productlist/428/14747-2-2137.html\n",
        "0.95"
       ]
      },
      {
       "output_type": "stream",
       "stream": "stdout",
       "text": [
        " : http://www.fht360.com/productlist/251/8-5-2137.html\n",
        "0.50"
       ]
      },
      {
       "output_type": "stream",
       "stream": "stdout",
       "text": [
        " : http://www.fht360.com/companylist/86/8-2-991.html\n",
        "0.37"
       ]
      },
      {
       "output_type": "stream",
       "stream": "stdout",
       "text": [
        " : http://www.fht360.com/productlist/279/18784-2-1.html\n",
        "0.46"
       ]
      },
      {
       "output_type": "stream",
       "stream": "stdout",
       "text": [
        " : http://www.fht360.com/productlist/237-4-1122.html\n",
        "0.48"
       ]
      },
      {
       "output_type": "stream",
       "stream": "stdout",
       "text": [
        " : http://www.fht360.com/companylist/167-2-1025.html\n",
        "0.47"
       ]
      },
      {
       "output_type": "stream",
       "stream": "stdout",
       "text": [
        " : http://www.fht360.com/companylist/165-2-706.html\n",
        "0.65"
       ]
      },
      {
       "output_type": "stream",
       "stream": "stdout",
       "text": [
        " : http://www.fht360.com/productlist/325/12595-4-2137.html\n",
        "0.50"
       ]
      },
      {
       "output_type": "stream",
       "stream": "stdout",
       "text": [
        " : http://www.fht360.com/companylist/164/3-3-896.html\n",
        "0.51"
       ]
      },
      {
       "output_type": "stream",
       "stream": "stdout",
       "text": [
        " : http://www.fht360.com/companylist/165-2-1491.html\n",
        "0.43"
       ]
      },
      {
       "output_type": "stream",
       "stream": "stdout",
       "text": [
        " : http://www.fht360.com/productlist/297-2-1009.html\n",
        "0.43"
       ]
      },
      {
       "output_type": "stream",
       "stream": "stdout",
       "text": [
        " : http://www.fht360.com/productlist/264/390-2-1487.html\n",
        "0.37"
       ]
      },
      {
       "output_type": "stream",
       "stream": "stdout",
       "text": [
        " : http://www.fht360.com/productlist/368-9.html\n",
        "0.13"
       ]
      },
      {
       "output_type": "stream",
       "stream": "stdout",
       "text": [
        " : http://www.fht360.com/productlist/363-9.html\n",
        "1.12"
       ]
      },
      {
       "output_type": "stream",
       "stream": "stdout",
       "text": [
        " : http://www.fht360.com/productlist/360-31.html\n",
        "4.29"
       ]
      },
      {
       "output_type": "stream",
       "stream": "stdout",
       "text": [
        " : http://www.fht360.com/productlist/366-7.html\n",
        "0.13"
       ]
      },
      {
       "output_type": "stream",
       "stream": "stdout",
       "text": [
        " : http://www.fht360.com/productlist/365-9.html\n",
        "0.13"
       ]
      },
      {
       "output_type": "stream",
       "stream": "stdout",
       "text": [
        " : http://www.fht360.com/productlist/364-6.html\n",
        "0.60"
       ]
      },
      {
       "output_type": "stream",
       "stream": "stdout",
       "text": [
        " : http://www.fht360.com/companylist/212/10882-2.html\n",
        "0.50"
       ]
      },
      {
       "output_type": "stream",
       "stream": "stdout",
       "text": [
        " : http://www.fht360.com/companylist/167-4-1567.html\n",
        "0.83"
       ]
      },
      {
       "output_type": "stream",
       "stream": "stdout",
       "text": [
        " : http://www.fht360.com/companylist/54-2-880.html\n",
        "1.32"
       ]
      },
      {
       "output_type": "stream",
       "stream": "stdout",
       "text": [
        " : http://www.fht360.com/productlist/312/10684-5-1487.html\n",
        "1.04"
       ]
      },
      {
       "output_type": "stream",
       "stream": "stdout",
       "text": [
        " : http://www.fht360.com/productlist/331/10011-2-39.html\n",
        "0.87"
       ]
      },
      {
       "output_type": "stream",
       "stream": "stdout",
       "text": [
        " : http://www.fht360.com/productlist/328/12422-13.html\n",
        "0.40"
       ]
      },
      {
       "output_type": "stream",
       "stream": "stdout",
       "text": [
        " : http://www.fht360.com/productlist/442/14924-2.html\n",
        "0.49"
       ]
      },
      {
       "output_type": "stream",
       "stream": "stdout",
       "text": [
        " : http://www.fht360.com/productlist/401-3-860.html\n",
        "0.42"
       ]
      },
      {
       "output_type": "stream",
       "stream": "stdout",
       "text": [
        " : http://www.fht360.com/productlist/428-5-1009.html\n",
        "0.43"
       ]
      },
      {
       "output_type": "stream",
       "stream": "stdout",
       "text": [
        " : http://www.fht360.com/productlist/309/12210-4-880.html\n",
        "0.26"
       ]
      },
      {
       "output_type": "stream",
       "stream": "stdout",
       "text": [
        " : http://www.fht360.com/productlist/239/703-4-39.html\n",
        "0.57"
       ]
      },
      {
       "output_type": "stream",
       "stream": "stdout",
       "text": [
        " : http://www.fht360.com/productlist/247-3-1487.html\n",
        "0.46"
       ]
      },
      {
       "output_type": "stream",
       "stream": "stdout",
       "text": [
        " : http://www.fht360.com/productlist/328/12439-4-2137.html\n",
        "1.70"
       ]
      },
      {
       "output_type": "stream",
       "stream": "stdout",
       "text": [
        " : http://www.fht360.com/productlist/233/8-27-880.html\n",
        "0.55"
       ]
      },
      {
       "output_type": "stream",
       "stream": "stdout",
       "text": [
        " : http://www.fht360.com/companylist/164/3-3-1067.html\n",
        "1.60"
       ]
      },
      {
       "output_type": "stream",
       "stream": "stdout",
       "text": [
        " : http://www.fht360.com/companylist/162/3-2-2189.html\n",
        "1.19"
       ]
      },
      {
       "output_type": "stream",
       "stream": "stdout",
       "text": [
        " : http://www.fht360.com/productlist/283-7-1009.html\n",
        "0.87"
       ]
      },
      {
       "output_type": "stream",
       "stream": "stdout",
       "text": [
        " : http://www.fht360.com/productlist/345/29-2-1662.html\n",
        "0.62"
       ]
      },
      {
       "output_type": "stream",
       "stream": "stdout",
       "text": [
        " : http://www.fht360.com/companylist/47/10074-2.html\n",
        "0.94"
       ]
      },
      {
       "output_type": "stream",
       "stream": "stdout",
       "text": [
        " : http://www.fht360.com/companylist/47/10075-2.html\n",
        "1.00"
       ]
      },
      {
       "output_type": "stream",
       "stream": "stdout",
       "text": [
        " : http://www.fht360.com/productlist/231/16292-3-1487.html\n",
        "0.60"
       ]
      },
      {
       "output_type": "stream",
       "stream": "stdout",
       "text": [
        " : http://www.fht360.com/productlist/327/10365-2.html\n",
        "4.05"
       ]
      },
      {
       "output_type": "stream",
       "stream": "stdout",
       "text": [
        " : http://www.fht360.com/companylist/153/10263-2.html\n",
        "0.65"
       ]
      },
      {
       "output_type": "stream",
       "stream": "stdout",
       "text": [
        " : http://www.fht360.com/productlist/386-4.html\n",
        "0.30"
       ]
      },
      {
       "output_type": "stream",
       "stream": "stdout",
       "text": [
        " : http://www.fht360.com/productlist/348/10774-8.html\n",
        "0.59"
       ]
      },
      {
       "output_type": "stream",
       "stream": "stdout",
       "text": [
        " : http://www.fht360.com/companylist/40-2-2278.html\n",
        "0.50"
       ]
      },
      {
       "output_type": "stream",
       "stream": "stdout",
       "text": [
        " : http://www.fht360.com/companylist/142/10147-2.html\n",
        "0.21"
       ]
      },
      {
       "output_type": "stream",
       "stream": "stdout",
       "text": [
        " : http://www.fht360.com/productlist/383-3.html\n",
        "0.45"
       ]
      },
      {
       "output_type": "stream",
       "stream": "stdout",
       "text": [
        " : http://www.fht360.com/productlist/254/15933-2-1662.html\n",
        "0.33"
       ]
      },
      {
       "output_type": "stream",
       "stream": "stdout",
       "text": [
        " : http://www.fht360.com/productlist/382-2.html\n",
        "0.56"
       ]
      },
      {
       "output_type": "stream",
       "stream": "stdout",
       "text": [
        " : http://www.fht360.com/companylist/168-2.html\n",
        "0.58"
       ]
      },
      {
       "output_type": "stream",
       "stream": "stdout",
       "text": [
        " : http://www.fht360.com/companylist/161-2.html\n",
        "0.50"
       ]
      },
      {
       "output_type": "stream",
       "stream": "stdout",
       "text": [
        " : http://www.fht360.com/companylist/160-2.html\n",
        "0.48"
       ]
      },
      {
       "output_type": "stream",
       "stream": "stdout",
       "text": [
        " : http://www.fht360.com/companylist/162-166.html\n",
        "0.47"
       ]
      },
      {
       "output_type": "stream",
       "stream": "stdout",
       "text": [
        " : http://www.fht360.com/companylist/165-166.html\n",
        "1.35"
       ]
      },
      {
       "output_type": "stream",
       "stream": "stdout",
       "text": [
        " : http://www.fht360.com/companylist/164-167.html\n",
        "0.60"
       ]
      },
      {
       "output_type": "stream",
       "stream": "stdout",
       "text": [
        " : http://www.fht360.com/companylist/167-166.html\n",
        "0.63"
       ]
      },
      {
       "output_type": "stream",
       "stream": "stdout",
       "text": [
        " : http://www.fht360.com/companylist/166-3.html\n",
        "0.36"
       ]
      },
      {
       "output_type": "stream",
       "stream": "stdout",
       "text": [
        " : http://www.fht360.com/productlist/270/343-12-880.html\n",
        "0.32"
       ]
      },
      {
       "output_type": "stream",
       "stream": "stdout",
       "text": [
        " : http://www.fht360.com/productlist/372/14200-4.html\n",
        "0.32"
       ]
      },
      {
       "output_type": "stream",
       "stream": "stdout",
       "text": [
        " : http://www.fht360.com/productlist/233/661-10.html\n",
        "0.48"
       ]
      },
      {
       "output_type": "stream",
       "stream": "stdout",
       "text": [
        " : http://www.fht360.com/companylist/48/3-4-1.html\n",
        "0.49"
       ]
      },
      {
       "output_type": "stream",
       "stream": "stdout",
       "text": [
        " : http://www.fht360.com/companylist/199-2-1364.html\n",
        "0.29"
       ]
      },
      {
       "output_type": "stream",
       "stream": "stdout",
       "text": [
        " : http://www.fht360.com/productlist/424/14897-2.html\n",
        "0.27"
       ]
      },
      {
       "output_type": "stream",
       "stream": "stdout",
       "text": [
        " : http://www.fht360.com/productlist/228/14820-5.html\n",
        "0.80"
       ]
      },
      {
       "output_type": "stream",
       "stream": "stdout",
       "text": [
        " : http://www.fht360.com/companylist/164/3-4-2170.html\n",
        "0.72"
       ]
      },
      {
       "output_type": "stream",
       "stream": "stdout",
       "text": [
        " : http://www.fht360.com/productlist/336-2-1857.html\n",
        "0.94"
       ]
      },
      {
       "output_type": "stream",
       "stream": "stdout",
       "text": [
        " : http://www.fht360.com/companylist/60/128-2.html\n",
        "0.55"
       ]
      },
      {
       "output_type": "stream",
       "stream": "stdout",
       "text": [
        " : http://www.fht360.com/productlist/234/390-2-1487.html\n",
        "0.51"
       ]
      },
      {
       "output_type": "stream",
       "stream": "stdout",
       "text": [
        " : http://www.fht360.com/companylist/48/3-2-2189.html\n",
        "0.53"
       ]
      },
      {
       "output_type": "stream",
       "stream": "stdout",
       "text": [
        " : http://www.fht360.com/companylist/48/3-2-2509.html\n",
        "0.61"
       ]
      },
      {
       "output_type": "stream",
       "stream": "stdout",
       "text": [
        " : http://www.fht360.com/productlist/424/14896-2-2137.html\n",
        "1.16"
       ]
      },
      {
       "output_type": "stream",
       "stream": "stdout",
       "text": [
        " : http://www.fht360.com/productlist/375/32-10-1487.html\n",
        "1.96"
       ]
      },
      {
       "output_type": "stream",
       "stream": "stdout",
       "text": [
        " : http://www.fht360.com/productlist/274/11137-4-2137.html\n",
        "0.34"
       ]
      },
      {
       "output_type": "stream",
       "stream": "stdout",
       "text": [
        " : http://www.fht360.com/productlist/446-18.html\n",
        "0.77"
       ]
      },
      {
       "output_type": "stream",
       "stream": "stdout",
       "text": [
        " : http://www.fht360.com/productlist/444-22.html\n",
        "0.52"
       ]
      },
      {
       "output_type": "stream",
       "stream": "stdout",
       "text": [
        " : http://www.fht360.com/productlist/442-9.html\n",
        "0.49"
       ]
      },
      {
       "output_type": "stream",
       "stream": "stdout",
       "text": [
        " : http://www.fht360.com/productlist/440-7.html\n",
        "0.55"
       ]
      },
      {
       "output_type": "stream",
       "stream": "stdout",
       "text": [
        " : http://www.fht360.com/productlist/441-3.html\n",
        "0.53"
       ]
      },
      {
       "output_type": "stream",
       "stream": "stdout",
       "text": [
        " : http://www.fht360.com/productlist/231/11994-8.html\n",
        "0.69"
       ]
      },
      {
       "output_type": "stream",
       "stream": "stdout",
       "text": [
        " : http://www.fht360.com/productlist/231/11995-16.html\n",
        "0.52"
       ]
      },
      {
       "output_type": "stream",
       "stream": "stdout",
       "text": [
        " : http://www.fht360.com/productlist/351/13043-4.html\n",
        "0.81"
       ]
      },
      {
       "output_type": "stream",
       "stream": "stdout",
       "text": [
        " : http://www.fht360.com/productlist/301/7857-2-1487.html\n",
        "0.74"
       ]
      },
      {
       "output_type": "stream",
       "stream": "stdout",
       "text": [
        " : http://www.fht360.com/companylist/167/3-2-924.html\n",
        "0.68"
       ]
      },
      {
       "output_type": "stream",
       "stream": "stdout",
       "text": [
        " : http://www.fht360.com/companylist/167/3-7-927.html\n",
        "0.50"
       ]
      },
      {
       "output_type": "stream",
       "stream": "stdout",
       "text": [
        " : http://www.fht360.com/companylist/48/3-2-1051.html\n",
        "0.77"
       ]
      },
      {
       "output_type": "stream",
       "stream": "stdout",
       "text": [
        " : http://www.fht360.com/productlist/352-4-1009.html\n",
        "1.60"
       ]
      },
      {
       "output_type": "stream",
       "stream": "stdout",
       "text": [
        " : http://www.fht360.com/companylist/39-6-860.html\n",
        "0.88"
       ]
      },
      {
       "output_type": "stream",
       "stream": "stdout",
       "text": [
        " : http://www.fht360.com/productlist/351/13617-2-2137.html\n",
        "0.49"
       ]
      },
      {
       "output_type": "stream",
       "stream": "stdout",
       "text": [
        " : http://www.fht360.com/companylist/44/10030-2-2137.html\n",
        "0.38"
       ]
      },
      {
       "output_type": "stream",
       "stream": "stdout",
       "text": [
        " : http://www.fht360.com/productlist/370/8460-2.html\n",
        "0.48"
       ]
      },
      {
       "output_type": "stream",
       "stream": "stdout",
       "text": [
        " : http://www.fht360.com/productlist/262/3548-2.html\n",
        "0.51"
       ]
      },
      {
       "output_type": "stream",
       "stream": "stdout",
       "text": [
        " : http://www.fht360.com/productlist/227/10882-2.html\n",
        "0.53"
       ]
      },
      {
       "output_type": "stream",
       "stream": "stdout",
       "text": [
        " : http://www.fht360.com/companylist/225-2-880.html\n",
        "2.92"
       ]
      },
      {
       "output_type": "stream",
       "stream": "stdout",
       "text": [
        " : http://www.fht360.com/productlist/227-10-39.html\n",
        "0.54"
       ]
      },
      {
       "output_type": "stream",
       "stream": "stdout",
       "text": [
        " : http://www.fht360.com/productlist/415/2019-5-2137.html\n",
        "0.49"
       ]
      },
      {
       "output_type": "stream",
       "stream": "stdout",
       "text": [
        " : http://www.fht360.com/companylist/162/3-2-1051.html\n",
        "0.31"
       ]
      },
      {
       "output_type": "stream",
       "stream": "stdout",
       "text": [
        " : http://www.fht360.com/productlist/237/948-2.html\n",
        "0.60"
       ]
      },
      {
       "output_type": "stream",
       "stream": "stdout",
       "text": [
        " : http://www.fht360.com/companylist/141-2-2137.html\n",
        "0.29"
       ]
      },
      {
       "output_type": "stream",
       "stream": "stdout",
       "text": [
        " : http://www.fht360.com/productlist/356/13329-6.html\n",
        "1.54"
       ]
      },
      {
       "output_type": "stream",
       "stream": "stdout",
       "text": [
        " : http://www.fht360.com/productlist/424/2-75-1009.html\n",
        "0.48"
       ]
      },
      {
       "output_type": "stream",
       "stream": "stdout",
       "text": [
        " : http://www.fht360.com/companylist/162-2-1276.html\n",
        "0.88"
       ]
      },
      {
       "output_type": "stream",
       "stream": "stdout",
       "text": [
        " : http://www.fht360.com/productlist/239/267-6.html\n",
        "1.92"
       ]
      },
      {
       "output_type": "stream",
       "stream": "stdout",
       "text": [
        " : http://www.fht360.com/productlist/424/2-1032.html\n",
        "1.13"
       ]
      },
      {
       "output_type": "stream",
       "stream": "stdout",
       "text": [
        " : http://www.fht360.com/productlist/235/2036-2.html\n",
        "0.43"
       ]
      },
      {
       "output_type": "stream",
       "stream": "stdout",
       "text": [
        " : http://www.fht360.com/productlist/254/15933-3-880.html\n",
        "0.45"
       ]
      },
      {
       "output_type": "stream",
       "stream": "stdout",
       "text": [
        " : http://www.fht360.com/productlist/280/1985-4.html\n",
        "0.32"
       ]
      },
      {
       "output_type": "stream",
       "stream": "stdout",
       "text": [
        " : http://www.fht360.com/productlist/367/13510-5.html\n",
        "0.31"
       ]
      },
      {
       "output_type": "stream",
       "stream": "stdout",
       "text": [
        " : http://www.fht360.com/productlist/367/13511-6.html\n",
        "0.73"
       ]
      },
      {
       "output_type": "stream",
       "stream": "stdout",
       "text": [
        " : http://www.fht360.com/productlist/424/2-2-2729.html\n",
        "0.51"
       ]
      },
      {
       "output_type": "stream",
       "stream": "stdout",
       "text": [
        " : http://www.fht360.com/companylist/52/10911-2-2137.html\n",
        "0.48"
       ]
      },
      {
       "output_type": "stream",
       "stream": "stdout",
       "text": [
        " : http://www.fht360.com/companylist/52-3-39.html\n",
        "0.48"
       ]
      },
      {
       "output_type": "stream",
       "stream": "stdout",
       "text": [
        " : http://www.fht360.com/companylist/164/3-2-991.html\n",
        "0.38"
       ]
      },
      {
       "output_type": "stream",
       "stream": "stdout",
       "text": [
        " : http://www.fht360.com/productlist/287/10402-2-860.html\n",
        "0.33"
       ]
      },
      {
       "output_type": "stream",
       "stream": "stdout",
       "text": [
        " : http://www.fht360.com/productlist/351/13511-6.html\n",
        "0.33"
       ]
      },
      {
       "output_type": "stream",
       "stream": "stdout",
       "text": [
        " : http://www.fht360.com/productlist/351/13510-5.html\n",
        "0.46"
       ]
      },
      {
       "output_type": "stream",
       "stream": "stdout",
       "text": [
        " : http://www.fht360.com/productlist/351/13027-2-2137.html\n",
        "0.51"
       ]
      },
      {
       "output_type": "stream",
       "stream": "stdout",
       "text": [
        " : http://www.fht360.com/productlist/424/9475-4.html\n",
        "0.78"
       ]
      },
      {
       "output_type": "stream",
       "stream": "stdout",
       "text": [
        " : http://www.fht360.com/productlist/246/11342-2-1662.html\n",
        "1.47"
       ]
      },
      {
       "output_type": "stream",
       "stream": "stdout",
       "text": [
        " : http://www.fht360.com/companylist/49/10927-2-2137.html\n",
        "1.16"
       ]
      },
      {
       "output_type": "stream",
       "stream": "stdout",
       "text": [
        " : http://www.fht360.com/productlist/288-3.html\n",
        "0.67"
       ]
      },
      {
       "output_type": "stream",
       "stream": "stdout",
       "text": [
        " : http://www.fht360.com/productlist/284-11.html\n",
        "0.31"
       ]
      },
      {
       "output_type": "stream",
       "stream": "stdout",
       "text": [
        " : http://www.fht360.com/productlist/285-13.html\n",
        "0.47"
       ]
      },
      {
       "output_type": "stream",
       "stream": "stdout",
       "text": [
        " : http://www.fht360.com/productlist/287-8.html\n",
        "1.11"
       ]
      },
      {
       "output_type": "stream",
       "stream": "stdout",
       "text": [
        " : http://www.fht360.com/productlist/280-41.html\n",
        "0.50"
       ]
      },
      {
       "output_type": "stream",
       "stream": "stdout",
       "text": [
        " : http://www.fht360.com/productlist/286-23.html\n",
        "1.07"
       ]
      },
      {
       "output_type": "stream",
       "stream": "stdout",
       "text": [
        " : http://www.fht360.com/productlist/283-2-706.html\n",
        "5.30"
       ]
      },
      {
       "output_type": "stream",
       "stream": "stdout",
       "text": [
        " : http://www.fht360.com/productlist/239/16110-2-1487.html\n",
        "0.47"
       ]
      },
      {
       "output_type": "stream",
       "stream": "stdout",
       "text": [
        " : http://www.fht360.com/productlist/242/14608-2-1.html\n",
        "0.46"
       ]
      },
      {
       "output_type": "stream",
       "stream": "stdout",
       "text": [
        " : http://www.fht360.com/productlist/349-2-2137.html\n",
        "0.30"
       ]
      },
      {
       "output_type": "stream",
       "stream": "stdout",
       "text": [
        " : http://www.fht360.com/productlist/234-22-1662.html\n",
        "1.48"
       ]
      },
      {
       "output_type": "stream",
       "stream": "stdout",
       "text": [
        " : http://www.fht360.com/companylist/164-2-991.html\n",
        "0.52"
       ]
      },
      {
       "output_type": "stream",
       "stream": "stdout",
       "text": [
        " : http://www.fht360.com/productlist/285/394-3-1662.html\n",
        "0.65"
       ]
      },
      {
       "output_type": "stream",
       "stream": "stdout",
       "text": [
        " : http://www.fht360.com/productlist/351/13582-9-2137.html\n",
        "0.73"
       ]
      },
      {
       "output_type": "stream",
       "stream": "stdout",
       "text": [
        " : http://www.fht360.com/companylist/86/8-2-986.html\n",
        "1.20"
       ]
      },
      {
       "output_type": "stream",
       "stream": "stdout",
       "text": [
        " : http://www.fht360.com/productlist/432/14813-14.html\n",
        "0.29"
       ]
      },
      {
       "output_type": "stream",
       "stream": "stdout",
       "text": [
        " : http://www.fht360.com/productlist/297/10448-2.html\n",
        "0.48"
       ]
      },
      {
       "output_type": "stream",
       "stream": "stdout",
       "text": [
        " : http://www.fht360.com/productlist/335/3408-4-1662.html\n",
        "4.07"
       ]
      },
      {
       "output_type": "stream",
       "stream": "stdout",
       "text": [
        " : http://www.fht360.com/productlist/335/12534-2-860.html\n",
        "0.55"
       ]
      },
      {
       "output_type": "stream",
       "stream": "stdout",
       "text": [
        " : http://www.fht360.com/productlist/367/13637-3.html\n",
        "0.87"
       ]
      },
      {
       "output_type": "stream",
       "stream": "stdout",
       "text": [
        " : http://www.fht360.com/companylist/165/3-2-873.html\n",
        "1.32"
       ]
      },
      {
       "output_type": "stream",
       "stream": "stdout",
       "text": [
        " : http://www.fht360.com/productlist/245/11590-2-860.html\n",
        "1.17"
       ]
      },
      {
       "output_type": "stream",
       "stream": "stdout",
       "text": [
        " : http://www.fht360.com/productlist/410/15945-5-2137.html\n",
        "0.29"
       ]
      },
      {
       "output_type": "stream",
       "stream": "stdout",
       "text": [
        " : http://www.fht360.com/productlist/233/17274-2.html\n",
        "0.54"
       ]
      },
      {
       "output_type": "stream",
       "stream": "stdout",
       "text": [
        " : http://www.fht360.com/productlist/424/14885-2.html\n",
        "0.55"
       ]
      },
      {
       "output_type": "stream",
       "stream": "stdout",
       "text": [
        " : http://www.fht360.com/companylist/164/3-6-2169.html\n",
        "0.59"
       ]
      },
      {
       "output_type": "stream",
       "stream": "stdout",
       "text": [
        " : http://www.fht360.com/companylist/81/10411-2.html\n",
        "0.54"
       ]
      },
      {
       "output_type": "stream",
       "stream": "stdout",
       "text": [
        " : http://www.fht360.com/productlist/424/14747-2-1009.html\n",
        "0.49"
       ]
      },
      {
       "output_type": "stream",
       "stream": "stdout",
       "text": [
        " : http://www.fht360.com/companylist/167/3-4-1260.html\n",
        "0.31"
       ]
      },
      {
       "output_type": "stream",
       "stream": "stdout",
       "text": [
        " : http://www.fht360.com/productlist/385/37-2.html\n",
        "0.45"
       ]
      },
      {
       "output_type": "stream",
       "stream": "stdout",
       "text": [
        " : http://www.fht360.com/productlist/343/17694-2.html\n",
        "0.37"
       ]
      },
      {
       "output_type": "stream",
       "stream": "stdout",
       "text": [
        " : http://www.fht360.com/productlist/366/13127-2-2137.html\n",
        "0.34"
       ]
      },
      {
       "output_type": "stream",
       "stream": "stdout",
       "text": [
        " : http://www.fht360.com/productlist/231/13-7.html\n",
        "0.95"
       ]
      },
      {
       "output_type": "stream",
       "stream": "stdout",
       "text": [
        " : http://www.fht360.com/productlist/335/3432-2.html\n",
        "0.38"
       ]
      },
      {
       "output_type": "stream",
       "stream": "stdout",
       "text": [
        " : http://www.fht360.com/productlist/249/13324-6-2137.html\n",
        "0.52"
       ]
      },
      {
       "output_type": "stream",
       "stream": "stdout",
       "text": [
        " : http://www.fht360.com/companylist/34/7-2-1487.html\n",
        "0.51"
       ]
      },
      {
       "output_type": "stream",
       "stream": "stdout",
       "text": [
        " : http://www.fht360.com/companylist/148/10261-2.html\n",
        "0.37"
       ]
      },
      {
       "output_type": "stream",
       "stream": "stdout",
       "text": [
        " : http://www.fht360.com/productlist/356/13429-3.html\n",
        "0.60"
       ]
      },
      {
       "output_type": "stream",
       "stream": "stdout",
       "text": [
        " : http://www.fht360.com/companylist/128/10047-2.html\n",
        "0.90"
       ]
      },
      {
       "output_type": "stream",
       "stream": "stdout",
       "text": [
        " : http://www.fht360.com/productlist/385/6-464.html\n",
        "1.21"
       ]
      },
      {
       "output_type": "stream",
       "stream": "stdout",
       "text": [
        " : http://www.fht360.com/productlist/379-5-1662.html\n",
        "0.49"
       ]
      },
      {
       "output_type": "stream",
       "stream": "stdout",
       "text": [
        " : http://www.fht360.com/companylist/76/10529-2.html\n",
        "0.48"
       ]
      },
      {
       "output_type": "stream",
       "stream": "stdout",
       "text": [
        " : http://www.fht360.com/companylist/49-25-2137.html\n",
        "0.32"
       ]
      },
      {
       "output_type": "stream",
       "stream": "stdout",
       "text": [
        " : http://www.fht360.com/productlist/280/19-18.html\n",
        "0.46"
       ]
      },
      {
       "output_type": "stream",
       "stream": "stdout",
       "text": [
        " : http://www.fht360.com/productlist/231/15773-4-1487.html\n",
        "1.90"
       ]
      },
      {
       "output_type": "stream",
       "stream": "stdout",
       "text": [
        " : http://www.fht360.com/productlist/226-42-1487.html\n",
        "0.98"
       ]
      },
      {
       "output_type": "stream",
       "stream": "stdout",
       "text": [
        " : http://www.fht360.com/productlist/248/168-2-39.html\n",
        "0.81"
       ]
      },
      {
       "output_type": "stream",
       "stream": "stdout",
       "text": [
        " : http://www.fht360.com/companylist/67-5.html\n",
        "2.48"
       ]
      },
      {
       "output_type": "stream",
       "stream": "stdout",
       "text": [
        " : http://www.fht360.com/companylist/66-6.html\n",
        "2.71"
       ]
      },
      {
       "output_type": "stream",
       "stream": "stdout",
       "text": [
        " : http://www.fht360.com/companylist/65-3.html\n",
        "0.85"
       ]
      },
      {
       "output_type": "stream",
       "stream": "stdout",
       "text": [
        " : http://www.fht360.com/companylist/64-2.html\n",
        "0.44"
       ]
      },
      {
       "output_type": "stream",
       "stream": "stdout",
       "text": [
        " : http://www.fht360.com/companylist/63-10.html\n",
        "0.56"
       ]
      },
      {
       "output_type": "stream",
       "stream": "stdout",
       "text": [
        " : http://www.fht360.com/companylist/62-2.html\n",
        "3.81"
       ]
      },
      {
       "output_type": "stream",
       "stream": "stdout",
       "text": [
        " : http://www.fht360.com/companylist/61-7.html\n",
        "6.68"
       ]
      },
      {
       "output_type": "stream",
       "stream": "stdout",
       "text": [
        " : http://www.fht360.com/companylist/60-2.html\n",
        "2.82"
       ]
      },
      {
       "output_type": "stream",
       "stream": "stdout",
       "text": [
        " : http://www.fht360.com/companylist/69-2.html\n",
        "5.55"
       ]
      },
      {
       "output_type": "stream",
       "stream": "stdout",
       "text": [
        " : http://www.fht360.com/companylist/68-7.html\n",
        "3.96"
       ]
      },
      {
       "output_type": "stream",
       "stream": "stdout",
       "text": [
        " : http://www.fht360.com/productlist/246/12329-4-1009.html\n",
        "0.84"
       ]
      },
      {
       "output_type": "stream",
       "stream": "stdout",
       "text": [
        " : http://www.fht360.com/productlist/433/14344-2-880.html\n",
        "1.04"
       ]
      },
      {
       "output_type": "stream",
       "stream": "stdout",
       "text": [
        " : http://www.fht360.com/companylist/162/3-2-1987.html\n",
        "0.79"
       ]
      },
      {
       "output_type": "stream",
       "stream": "stdout",
       "text": [
        " : http://www.fht360.com/productlist/293/226-2-39.html\n",
        "0.47"
       ]
      },
      {
       "output_type": "stream",
       "stream": "stdout",
       "text": [
        " : http://www.fht360.com/productlist/290/981-2.html\n",
        "0.28"
       ]
      },
      {
       "output_type": "stream",
       "stream": "stdout",
       "text": [
        " : http://www.fht360.com/productlist/352/14206-3.html\n",
        "0.27"
       ]
      },
      {
       "output_type": "stream",
       "stream": "stdout",
       "text": [
        " : http://www.fht360.com/productlist/326/11712-2.html\n",
        "0.50"
       ]
      },
      {
       "output_type": "stream",
       "stream": "stdout",
       "text": [
        " : http://www.fht360.com/productlist/239/12098-2-880.html\n",
        "2.08"
       ]
      },
      {
       "output_type": "stream",
       "stream": "stdout",
       "text": [
        " : http://www.fht360.com/companylist/154/10887-2.html\n",
        "3.66"
       ]
      },
      {
       "output_type": "stream",
       "stream": "stdout",
       "text": [
        " : http://www.fht360.com/productlist/343-5-880.html\n",
        "0.60"
       ]
      },
      {
       "output_type": "stream",
       "stream": "stdout",
       "text": [
        " : http://www.fht360.com/productlist/357/11330-4-880.html\n",
        "0.31"
       ]
      },
      {
       "output_type": "stream",
       "stream": "stdout",
       "text": [
        " : http://www.fht360.com/productlist/430/14769-4.html\n",
        "0.46"
       ]
      },
      {
       "output_type": "stream",
       "stream": "stdout",
       "text": [
        " : http://www.fht360.com/productlist/356-5-1260.html\n",
        "0.35"
       ]
      },
      {
       "output_type": "stream",
       "stream": "stdout",
       "text": [
        " : http://www.fht360.com/productlist/244/266-2-880.html\n",
        "0.54"
       ]
      },
      {
       "output_type": "stream",
       "stream": "stdout",
       "text": [
        " : http://www.fht360.com/companylist/243/10808-2.html\n",
        "0.55"
       ]
      },
      {
       "output_type": "stream",
       "stream": "stdout",
       "text": [
        " : http://www.fht360.com/companylist/80/10400-2.html\n",
        "0.91"
       ]
      },
      {
       "output_type": "stream",
       "stream": "stdout",
       "text": [
        " : http://www.fht360.com/productlist/233-43-2137.html\n",
        "1.12"
       ]
      },
      {
       "output_type": "stream",
       "stream": "stdout",
       "text": [
        " : http://www.fht360.com/productlist/337/12182-3-2137.html\n",
        "0.53"
       ]
      },
      {
       "output_type": "stream",
       "stream": "stdout",
       "text": [
        " : http://www.fht360.com/companylist/164-2-1025.html\n",
        "0.25"
       ]
      },
      {
       "output_type": "stream",
       "stream": "stdout",
       "text": [
        " : http://www.fht360.com/productlist/348/10783-3.html\n",
        "0.54"
       ]
      },
      {
       "output_type": "stream",
       "stream": "stdout",
       "text": [
        " : http://www.fht360.com/productlist/352-10-860.html\n",
        "0.56"
       ]
      },
      {
       "output_type": "stream",
       "stream": "stdout",
       "text": [
        " : http://www.fht360.com/companylist/48-4-40.html\n",
        "0.88"
       ]
      },
      {
       "output_type": "stream",
       "stream": "stdout",
       "text": [
        " : http://www.fht360.com/productlist/275/15186-4.html\n",
        "0.36"
       ]
      },
      {
       "output_type": "stream",
       "stream": "stdout",
       "text": [
        " : http://www.fht360.com/productlist/446/6230-8-1662.html\n",
        "1.88"
       ]
      },
      {
       "output_type": "stream",
       "stream": "stdout",
       "text": [
        " : http://www.fht360.com/productlist/433/14014-6-2137.html\n",
        "1.17"
       ]
      },
      {
       "output_type": "stream",
       "stream": "stdout",
       "text": [
        " : http://www.fht360.com/companylist/48-2-1858.html\n",
        "0.50"
       ]
      },
      {
       "output_type": "stream",
       "stream": "stdout",
       "text": [
        " : http://www.fht360.com/companylist/48-3-1857.html\n",
        "0.71"
       ]
      },
      {
       "output_type": "stream",
       "stream": "stdout",
       "text": [
        " : http://www.fht360.com/companylist/52-3-860.html\n",
        "0.39"
       ]
      },
      {
       "output_type": "stream",
       "stream": "stdout",
       "text": [
        " : http://www.fht360.com/productlist/331/10012-2.html\n",
        "0.43"
       ]
      },
      {
       "output_type": "stream",
       "stream": "stdout",
       "text": [
        " : http://www.fht360.com/productlist/234/10346-3-880.html\n",
        "2.64"
       ]
      },
      {
       "output_type": "stream",
       "stream": "stdout",
       "text": [
        " : http://www.fht360.com/companylist/46/10260-2-228.html\n",
        "1.01"
       ]
      },
      {
       "output_type": "stream",
       "stream": "stdout",
       "text": [
        " : http://www.fht360.com/companylist/46/10260-2-221.html\n",
        "0.43"
       ]
      },
      {
       "output_type": "stream",
       "stream": "stdout",
       "text": [
        " : http://www.fht360.com/productlist/233/677-7-880.html\n",
        "0.32"
       ]
      },
      {
       "output_type": "stream",
       "stream": "stdout",
       "text": [
        " : http://www.fht360.com/productlist/277-5-1122.html\n",
        "0.36"
       ]
      },
      {
       "output_type": "stream",
       "stream": "stdout",
       "text": [
        " : http://www.fht360.com/productlist/331/10010-3.html\n",
        "0.47"
       ]
      },
      {
       "output_type": "stream",
       "stream": "stdout",
       "text": [
        " : http://www.fht360.com/productlist/304-5-2137.html\n",
        "0.75"
       ]
      },
      {
       "output_type": "stream",
       "stream": "stdout",
       "text": [
        " : http://www.fht360.com/productlist/424/2-4-2830.html\n",
        "0.38"
       ]
      },
      {
       "output_type": "stream",
       "stream": "stdout",
       "text": [
        " : http://www.fht360.com/productlist/233/639-2-880.html\n",
        "0.62"
       ]
      },
      {
       "output_type": "stream",
       "stream": "stdout",
       "text": [
        " : http://www.fht360.com/companylist/47-3-1487.html\n",
        "0.71"
       ]
      },
      {
       "output_type": "stream",
       "stream": "stdout",
       "text": [
        " : http://www.fht360.com/productlist/234-17-2137.html\n",
        "0.64"
       ]
      },
      {
       "output_type": "stream",
       "stream": "stdout",
       "text": [
        " : http://www.fht360.com/companylist/165-2-2509.html\n",
        "0.54"
       ]
      },
      {
       "output_type": "stream",
       "stream": "stdout",
       "text": [
        " : http://www.fht360.com/companylist/165-2-2508.html\n",
        "0.50"
       ]
      },
      {
       "output_type": "stream",
       "stream": "stdout",
       "text": [
        " : http://www.fht360.com/productlist/335/7717-2.html\n",
        "0.49"
       ]
      },
      {
       "output_type": "stream",
       "stream": "stdout",
       "text": [
        " : http://www.fht360.com/companylist/95/10365-2.html\n",
        "0.67"
       ]
      },
      {
       "output_type": "stream",
       "stream": "stdout",
       "text": [
        " : http://www.fht360.com/productlist/249/12353-5-2137.html\n",
        "0.73"
       ]
      },
      {
       "output_type": "stream",
       "stream": "stdout",
       "text": [
        " : http://www.fht360.com/companylist/128-2-880.html\n",
        "0.76"
       ]
      },
      {
       "output_type": "stream",
       "stream": "stdout",
       "text": [
        " : http://www.fht360.com/companylist/48-51-2137.html\n",
        "1.09"
       ]
      },
      {
       "output_type": "stream",
       "stream": "stdout",
       "text": [
        " : http://www.fht360.com/companylist/48-10-2138.html\n",
        "0.51"
       ]
      },
      {
       "output_type": "stream",
       "stream": "stdout",
       "text": [
        " : http://www.fht360.com/companylist/167-2-938.html\n",
        "0.58"
       ]
      },
      {
       "output_type": "stream",
       "stream": "stdout",
       "text": [
        " : http://www.fht360.com/productlist/237-2-1.html\n",
        "1.41"
       ]
      },
      {
       "output_type": "stream",
       "stream": "stdout",
       "text": [
        " : http://www.fht360.com/companylist/167-2-936.html\n",
        "0.27"
       ]
      },
      {
       "output_type": "stream",
       "stream": "stdout",
       "text": [
        " : http://www.fht360.com/productlist/239/310-3-880.html\n",
        "0.56"
       ]
      },
      {
       "output_type": "stream",
       "stream": "stdout",
       "text": [
        " : http://www.fht360.com/companylist/165-4-1260.html\n",
        "2.05"
       ]
      },
      {
       "output_type": "stream",
       "stream": "stdout",
       "text": [
        " : http://www.fht360.com/productlist/337/13448-2-1009.html\n",
        "0.49"
       ]
      },
      {
       "output_type": "stream",
       "stream": "stdout",
       "text": [
        " : http://www.fht360.com/productlist/234/188-7.html\n",
        "0.62"
       ]
      },
      {
       "output_type": "stream",
       "stream": "stdout",
       "text": [
        " : http://www.fht360.com/companylist/77/10524-2.html\n",
        "0.48"
       ]
      },
      {
       "output_type": "stream",
       "stream": "stdout",
       "text": [
        " : http://www.fht360.com/productlist/351/13679-6.html\n",
        "0.45"
       ]
      },
      {
       "output_type": "stream",
       "stream": "stdout",
       "text": [
        " : http://www.fht360.com/productlist/231/13416-4.html\n",
        "2.64"
       ]
      },
      {
       "output_type": "stream",
       "stream": "stdout",
       "text": [
        " : http://www.fht360.com/productlist/377/83-5-1487.html\n",
        "2.09"
       ]
      },
      {
       "output_type": "stream",
       "stream": "stdout",
       "text": [
        " : http://www.fht360.com/companylist/48/10505-2.html\n",
        "1.04"
       ]
      },
      {
       "output_type": "stream",
       "stream": "stdout",
       "text": [
        " : http://www.fht360.com/productlist/433-26-1662.html\n",
        "0.90"
       ]
      },
      {
       "output_type": "stream",
       "stream": "stdout",
       "text": [
        " : http://www.fht360.com/productlist/239/757-2.html\n",
        "1.33"
       ]
      },
      {
       "output_type": "stream",
       "stream": "stdout",
       "text": [
        " : http://www.fht360.com/productlist/227/12210-2-1487.html\n",
        "0.91"
       ]
      },
      {
       "output_type": "stream",
       "stream": "stdout",
       "text": [
        " : http://www.fht360.com/productlist/310-4-2137.html\n",
        "1.09"
       ]
      },
      {
       "output_type": "stream",
       "stream": "stdout",
       "text": [
        " : http://www.fht360.com/productlist/385/6-5-1009.html\n",
        "0.97"
       ]
      },
      {
       "output_type": "stream",
       "stream": "stdout",
       "text": [
        " : http://www.fht360.com/productlist/231/14608-3-2137.html\n",
        "0.92"
       ]
      },
      {
       "output_type": "stream",
       "stream": "stdout",
       "text": [
        " : http://www.fht360.com/productlist/424-5-499.html\n",
        "4.82"
       ]
      },
      {
       "output_type": "stream",
       "stream": "stdout",
       "text": [
        " : http://www.fht360.com/productlist/360/46-4-1487.html\n",
        "0.90"
       ]
      },
      {
       "output_type": "stream",
       "stream": "stdout",
       "text": [
        " : http://www.fht360.com/productlist/277/3606-3-1487.html\n",
        "1.64"
       ]
      },
      {
       "output_type": "stream",
       "stream": "stdout",
       "text": [
        " : http://www.fht360.com/companylist/156/10308-2.html\n",
        "0.67"
       ]
      },
      {
       "output_type": "stream",
       "stream": "stdout",
       "text": [
        " : http://www.fht360.com/productlist/235-2-1987.html\n",
        "0.58"
       ]
      },
      {
       "output_type": "stream",
       "stream": "stdout",
       "text": [
        " : http://www.fht360.com/productlist/245/7869-2.html\n",
        "0.94"
       ]
      },
      {
       "output_type": "stream",
       "stream": "stdout",
       "text": [
        " : http://www.fht360.com/productlist/423-4-1487.html\n",
        "0.82"
       ]
      },
      {
       "output_type": "stream",
       "stream": "stdout",
       "text": [
        " : http://www.fht360.com/productlist/415-102.html\n",
        "1.05"
       ]
      },
      {
       "output_type": "stream",
       "stream": "stdout",
       "text": [
        " : http://www.fht360.com/productlist/226/7250-7.html\n",
        "0.97"
       ]
      },
      {
       "output_type": "stream",
       "stream": "stdout",
       "text": [
        " : http://www.fht360.com/companylist/39/10535-2-2137.html\n",
        "0.85"
       ]
      },
      {
       "output_type": "stream",
       "stream": "stdout",
       "text": [
        " : http://www.fht360.com/productlist/324/12421-4-1.html\n",
        "0.38"
       ]
      },
      {
       "output_type": "stream",
       "stream": "stdout",
       "text": [
        " : http://www.fht360.com/productlist/228/8069-2.html\n",
        "0.14"
       ]
      },
      {
       "output_type": "stream",
       "stream": "stdout",
       "text": [
        " : http://www.fht360.com/productlist/239/310-5.html\n",
        "0.47"
       ]
      },
      {
       "output_type": "stream",
       "stream": "stdout",
       "text": [
        " : http://www.fht360.com/companylist/167/3-10-1662.html\n",
        "0.25"
       ]
      },
      {
       "output_type": "stream",
       "stream": "stdout",
       "text": [
        " : http://www.fht360.com/productlist/253/16957-3.html\n",
        "0.29"
       ]
      },
      {
       "output_type": "stream",
       "stream": "stdout",
       "text": [
        " : http://www.fht360.com/productlist/253/16954-4.html\n",
        "0.38"
       ]
      },
      {
       "output_type": "stream",
       "stream": "stdout",
       "text": [
        " : http://www.fht360.com/productlist/231/15792-14-2137.html\n",
        "0.37"
       ]
      },
      {
       "output_type": "stream",
       "stream": "stdout",
       "text": [
        " : http://www.fht360.com/productlist/260/654-8-880.html\n",
        "0.38"
       ]
      },
      {
       "output_type": "stream",
       "stream": "stdout",
       "text": [
        " : http://www.fht360.com/productlist/362/13540-2-2137.html\n",
        "2.21"
       ]
      },
      {
       "output_type": "stream",
       "stream": "stdout",
       "text": [
        " : http://www.fht360.com/productlist/387-17-1487.html\n",
        "0.27"
       ]
      },
      {
       "output_type": "stream",
       "stream": "stdout",
       "text": [
        " : http://www.fht360.com/productlist/270/343-15.html\n",
        "0.61"
       ]
      },
      {
       "output_type": "stream",
       "stream": "stdout",
       "text": [
        " : http://www.fht360.com/companylist/40/10364-2.html\n",
        "0.60"
       ]
      },
      {
       "output_type": "stream",
       "stream": "stdout",
       "text": [
        " : http://www.fht360.com/companylist/40/10361-2.html\n",
        "0.36"
       ]
      },
      {
       "output_type": "stream",
       "stream": "stdout",
       "text": [
        " : http://www.fht360.com/productlist/234/2125-2-1487.html\n",
        "0.57"
       ]
      },
      {
       "output_type": "stream",
       "stream": "stdout",
       "text": [
        " : http://www.fht360.com/companylist/50-2-860.html\n",
        "0.60"
       ]
      },
      {
       "output_type": "stream",
       "stream": "stdout",
       "text": [
        " : http://www.fht360.com/companylist/198-2-2137.html\n",
        "0.48"
       ]
      },
      {
       "output_type": "stream",
       "stream": "stdout",
       "text": [
        " : http://www.fht360.com/productlist/246-16-1487.html\n",
        "0.97"
       ]
      },
      {
       "output_type": "stream",
       "stream": "stdout",
       "text": [
        " : http://www.fht360.com/productlist/429/11342-4-1487.html\n",
        "0.79"
       ]
      },
      {
       "output_type": "stream",
       "stream": "stdout",
       "text": [
        " : http://www.fht360.com/productlist/248-15-1662.html\n",
        "0.35"
       ]
      },
      {
       "output_type": "stream",
       "stream": "stdout",
       "text": [
        " : http://www.fht360.com/productlist/334-8-1009.html\n",
        "0.69"
       ]
      },
      {
       "output_type": "stream",
       "stream": "stdout",
       "text": [
        " : http://www.fht360.com/productlist/233/17010-3-39.html\n",
        "0.72"
       ]
      },
      {
       "output_type": "stream",
       "stream": "stdout",
       "text": [
        " : http://www.fht360.com/productlist/352/14200-3-2137.html\n",
        "0.81"
       ]
      },
      {
       "output_type": "stream",
       "stream": "stdout",
       "text": [
        " : http://www.fht360.com/companylist/165-3-1067.html\n",
        "1.18"
       ]
      },
      {
       "output_type": "stream",
       "stream": "stdout",
       "text": [
        " : http://www.fht360.com/productlist/241/16019-2-1487.html\n",
        "0.29"
       ]
      },
      {
       "output_type": "stream",
       "stream": "stdout",
       "text": [
        " : http://www.fht360.com/productlist/244-2-1122.html\n",
        "1.10"
       ]
      },
      {
       "output_type": "stream",
       "stream": "stdout",
       "text": [
        " : http://www.fht360.com/companylist/40-4-2137.html\n",
        "0.67"
       ]
      },
      {
       "output_type": "stream",
       "stream": "stdout",
       "text": [
        " : http://www.fht360.com/productlist/268/287-3.html\n",
        "1.94"
       ]
      },
      {
       "output_type": "stream",
       "stream": "stdout",
       "text": [
        " : http://www.fht360.com/companylist/137-2-1500.html\n",
        "1.46"
       ]
      },
      {
       "output_type": "stream",
       "stream": "stdout",
       "text": [
        " : http://www.fht360.com/productlist/247/12198-16.html\n",
        "0.50"
       ]
      },
      {
       "output_type": "stream",
       "stream": "stdout",
       "text": [
        " : http://www.fht360.com/productlist/236-5-1260.html\n",
        "0.92"
       ]
      },
      {
       "output_type": "stream",
       "stream": "stdout",
       "text": [
        " : http://www.fht360.com/productlist/260/17010-3-39.html\n",
        "0.63"
       ]
      },
      {
       "output_type": "stream",
       "stream": "stdout",
       "text": [
        " : http://www.fht360.com/productlist/246/13448-2-1009.html\n",
        "0.88"
       ]
      },
      {
       "output_type": "stream",
       "stream": "stdout",
       "text": [
        " : http://www.fht360.com/productlist/308-16.html\n",
        "0.75"
       ]
      },
      {
       "output_type": "stream",
       "stream": "stdout",
       "text": [
        " : http://www.fht360.com/companylist/155/10020-2-2137.html\n",
        "1.23"
       ]
      },
      {
       "output_type": "stream",
       "stream": "stdout",
       "text": [
        " : http://www.fht360.com/companylist/39-2-2170.html\n",
        "0.72"
       ]
      },
      {
       "output_type": "stream",
       "stream": "stdout",
       "text": [
        " : http://www.fht360.com/companylist/167-24-1487.html\n",
        "1.19"
       ]
      },
      {
       "output_type": "stream",
       "stream": "stdout",
       "text": [
        " : http://www.fht360.com/companylist/39/10536-2.html\n",
        "0.73"
       ]
      },
      {
       "output_type": "stream",
       "stream": "stdout",
       "text": [
        " : http://www.fht360.com/productlist/241/3643-2.html\n",
        "1.33"
       ]
      },
      {
       "output_type": "stream",
       "stream": "stdout",
       "text": [
        " : http://www.fht360.com/companylist/54/10720-2.html\n",
        "1.58"
       ]
      },
      {
       "output_type": "stream",
       "stream": "stdout",
       "text": [
        " : http://www.fht360.com/companylist/54/10723-2.html\n",
        "0.90"
       ]
      },
      {
       "output_type": "stream",
       "stream": "stdout",
       "text": [
        " : http://www.fht360.com/productlist/334/12780-2.html\n",
        "0.30"
       ]
      },
      {
       "output_type": "stream",
       "stream": "stdout",
       "text": [
        " : http://www.fht360.com/productlist/307-24.html\n",
        "1.93"
       ]
      },
      {
       "output_type": "stream",
       "stream": "stdout",
       "text": [
        " : http://www.fht360.com/productlist/365/10944-3.html\n",
        "1.28"
       ]
      },
      {
       "output_type": "stream",
       "stream": "stdout",
       "text": [
        " : http://www.fht360.com/productlist/234/341-2.html\n",
        "1.43"
       ]
      },
      {
       "output_type": "stream",
       "stream": "stdout",
       "text": [
        " : http://www.fht360.com/companylist/167/3-2-3065.html\n",
        "0.41"
       ]
      },
      {
       "output_type": "stream",
       "stream": "stdout",
       "text": [
        " : http://www.fht360.com/productlist/303-6.html\n",
        "0.68"
       ]
      },
      {
       "output_type": "stream",
       "stream": "stdout",
       "text": [
        " : http://www.fht360.com/productlist/231/15560-2.html\n",
        "0.44"
       ]
      },
      {
       "output_type": "stream",
       "stream": "stdout",
       "text": [
        " : http://www.fht360.com/productlist/341/12818-2-2137.html\n",
        "0.83"
       ]
      },
      {
       "output_type": "stream",
       "stream": "stdout",
       "text": [
        " : http://www.fht360.com/companylist/164/3-2-1100.html\n",
        "2.98"
       ]
      },
      {
       "output_type": "stream",
       "stream": "stdout",
       "text": [
        " : http://www.fht360.com/companylist/142-3-1487.html\n",
        "1.28"
       ]
      },
      {
       "output_type": "stream",
       "stream": "stdout",
       "text": [
        " : http://www.fht360.com/productlist/301/11514-2-2137.html\n",
        "0.90"
       ]
      },
      {
       "output_type": "stream",
       "stream": "stdout",
       "text": [
        " : http://www.fht360.com/productlist/332-3-1487.html\n",
        "1.64"
       ]
      },
      {
       "output_type": "stream",
       "stream": "stdout",
       "text": [
        " : http://www.fht360.com/productlist/234/15106-2.html\n",
        "0.36"
       ]
      },
      {
       "output_type": "stream",
       "stream": "stdout",
       "text": [
        " : http://www.fht360.com/productlist/234-12-860.html\n",
        "1.50"
       ]
      },
      {
       "output_type": "stream",
       "stream": "stdout",
       "text": [
        " : http://www.fht360.com/companylist/46-3-39.html\n",
        "10.22"
       ]
      },
      {
       "output_type": "stream",
       "stream": "stdout",
       "text": [
        " : http://www.fht360.com/productlist/233/16954-3-2137.html\n",
        "6.00"
       ]
      },
      {
       "output_type": "stream",
       "stream": "stdout",
       "text": [
        " : http://www.fht360.com/productlist/351/13637-3.html\n",
        "1.97"
       ]
      },
      {
       "output_type": "stream",
       "stream": "stdout",
       "text": [
        " : http://www.fht360.com/productlist/293/10425-6-860.html\n",
        "1.66"
       ]
      },
      {
       "output_type": "stream",
       "stream": "stdout",
       "text": [
        " : http://www.fht360.com/productlist/240-1-880.html\n",
        "1.70"
       ]
      },
      {
       "output_type": "stream",
       "stream": "stdout",
       "text": [
        " : http://www.fht360.com/productlist/428/14738-7.html\n",
        "0.52"
       ]
      },
      {
       "output_type": "stream",
       "stream": "stdout",
       "text": [
        " : http://www.fht360.com/productlist/431/3728-4-1487.html\n",
        "0.56"
       ]
      },
      {
       "output_type": "stream",
       "stream": "stdout",
       "text": [
        " : http://www.fht360.com/productlist/387/15552-5-2137.html\n",
        "1.74"
       ]
      },
      {
       "output_type": "stream",
       "stream": "stdout",
       "text": [
        " : http://www.fht360.com/productlist/231/452-3-1487.html\n",
        "0.57"
       ]
      },
      {
       "output_type": "stream",
       "stream": "stdout",
       "text": [
        " : http://www.fht360.com/productlist/424/14738-3-1009.html\n",
        "0.48"
       ]
      },
      {
       "output_type": "stream",
       "stream": "stdout",
       "text": [
        " : http://www.fht360.com/productlist/277/3588-2-1487.html\n",
        "0.62"
       ]
      },
      {
       "output_type": "stream",
       "stream": "stdout",
       "text": [
        " : http://www.fht360.com/productlist/334/12421-12-880.html\n",
        "0.49"
       ]
      },
      {
       "output_type": "stream",
       "stream": "stdout",
       "text": [
        " : http://www.fht360.com/companylist/43-5-1487.html\n",
        "0.32"
       ]
      },
      {
       "output_type": "stream",
       "stream": "stdout",
       "text": [
        " : http://www.fht360.com/productlist/369/13810-5.html\n",
        "0.54"
       ]
      },
      {
       "output_type": "stream",
       "stream": "stdout",
       "text": [
        " : http://www.fht360.com/companylist/162-10-1662.html\n",
        "0.94"
       ]
      },
      {
       "output_type": "stream",
       "stream": "stdout",
       "text": [
        " : http://www.fht360.com/companylist/162-5-1663.html\n",
        "0.89"
       ]
      },
      {
       "output_type": "stream",
       "stream": "stdout",
       "text": [
        " : http://www.fht360.com/companylist/162-2-1668.html\n",
        "0.52"
       ]
      },
      {
       "output_type": "stream",
       "stream": "stdout",
       "text": [
        " : http://www.fht360.com/productlist/324/12465-10.html\n",
        "0.45"
       ]
      },
      {
       "output_type": "stream",
       "stream": "stdout",
       "text": [
        " : http://www.fht360.com/productlist/241/523-2-39.html\n",
        "0.65"
       ]
      },
      {
       "output_type": "stream",
       "stream": "stdout",
       "text": [
        " : http://www.fht360.com/companylist/204-3.html\n",
        "0.93"
       ]
      },
      {
       "output_type": "stream",
       "stream": "stdout",
       "text": [
        " : http://www.fht360.com/companylist/205-3.html\n",
        "0.60"
       ]
      },
      {
       "output_type": "stream",
       "stream": "stdout",
       "text": [
        " : http://www.fht360.com/companylist/206-4.html\n",
        "0.92"
       ]
      },
      {
       "output_type": "stream",
       "stream": "stdout",
       "text": [
        " : http://www.fht360.com/companylist/200-2.html\n",
        "1.69"
       ]
      },
      {
       "output_type": "stream",
       "stream": "stdout",
       "text": [
        " : http://www.fht360.com/companylist/201-2.html\n",
        "0.97"
       ]
      },
      {
       "output_type": "stream",
       "stream": "stdout",
       "text": [
        " : http://www.fht360.com/companylist/202-4.html\n",
        "0.70"
       ]
      },
      {
       "output_type": "stream",
       "stream": "stdout",
       "text": [
        " : http://www.fht360.com/companylist/203-4.html\n",
        "0.46"
       ]
      },
      {
       "output_type": "stream",
       "stream": "stdout",
       "text": [
        " : http://www.fht360.com/companylist/208-2.html\n",
        "0.74"
       ]
      },
      {
       "output_type": "stream",
       "stream": "stdout",
       "text": [
        " : http://www.fht360.com/companylist/209-2.html\n",
        "0.45"
       ]
      },
      {
       "output_type": "stream",
       "stream": "stdout",
       "text": [
        " : http://www.fht360.com/productlist/231/170-4.html\n",
        "0.31"
       ]
      },
      {
       "output_type": "stream",
       "stream": "stdout",
       "text": [
        " : http://www.fht360.com/productlist/231/171-2.html\n",
        "0.36"
       ]
      },
      {
       "output_type": "stream",
       "stream": "stdout",
       "text": [
        " : http://www.fht360.com/productlist/351/13755-2-2137.html\n",
        "1.23"
       ]
      },
      {
       "output_type": "stream",
       "stream": "stdout",
       "text": [
        " : http://www.fht360.com/productlist/424-93-1009.html\n",
        "1.00"
       ]
      },
      {
       "output_type": "stream",
       "stream": "stdout",
       "text": [
        " : http://www.fht360.com/companylist/164-3-918.html\n",
        "1.45"
       ]
      },
      {
       "output_type": "stream",
       "stream": "stdout",
       "text": [
        " : http://www.fht360.com/productlist/239/7967-2.html\n",
        "0.25"
       ]
      },
      {
       "output_type": "stream",
       "stream": "stdout",
       "text": [
        " : http://www.fht360.com/productlist/228-2-20.html\n",
        "0.26"
       ]
      },
      {
       "output_type": "stream",
       "stream": "stdout",
       "text": [
        " : http://www.fht360.com/productlist/432/14896-3.html\n",
        "0.41"
       ]
      },
      {
       "output_type": "stream",
       "stream": "stdout",
       "text": [
        " : http://www.fht360.com/productlist/301/11514-4.html\n",
        "0.83"
       ]
      },
      {
       "output_type": "stream",
       "stream": "stdout",
       "text": [
        " : http://www.fht360.com/productlist/354-7-2137.html\n",
        "1.05"
       ]
      },
      {
       "output_type": "stream",
       "stream": "stdout",
       "text": [
        " : http://www.fht360.com/companylist/37/10524-2-2137.html\n",
        "0.45"
       ]
      },
      {
       "output_type": "stream",
       "stream": "stdout",
       "text": [
        " : http://www.fht360.com/productlist/248/12007-6-1487.html\n",
        "0.46"
       ]
      },
      {
       "output_type": "stream",
       "stream": "stdout",
       "text": [
        " : http://www.fht360.com/productlist/338/5158-4.html\n",
        "0.51"
       ]
      },
      {
       "output_type": "stream",
       "stream": "stdout",
       "text": [
        " : http://www.fht360.com/companylist/225-2-1487.html\n",
        "0.49"
       ]
      },
      {
       "output_type": "stream",
       "stream": "stdout",
       "text": [
        " : http://www.fht360.com/productlist/340/1954-2.html\n",
        "1.13"
       ]
      },
      {
       "output_type": "stream",
       "stream": "stdout",
       "text": [
        " : http://www.fht360.com/productlist/228/12016-2-880.html\n",
        "0.48"
       ]
      },
      {
       "output_type": "stream",
       "stream": "stdout",
       "text": [
        " : http://www.fht360.com/productlist/377/9024-3.html\n",
        "0.75"
       ]
      },
      {
       "output_type": "stream",
       "stream": "stdout",
       "text": [
        " : http://www.fht360.com/companylist/34/9-5.html\n",
        "0.50"
       ]
      },
      {
       "output_type": "stream",
       "stream": "stdout",
       "text": [
        " : http://www.fht360.com/companylist/165-4-1567.html\n",
        "0.53"
       ]
      },
      {
       "output_type": "stream",
       "stream": "stdout",
       "text": [
        " : http://www.fht360.com/productlist/354-2-860.html\n",
        "0.74"
       ]
      },
      {
       "output_type": "stream",
       "stream": "stdout",
       "text": [
        " : http://www.fht360.com/productlist/433-10-880.html\n",
        "0.81"
       ]
      },
      {
       "output_type": "stream",
       "stream": "stdout",
       "text": [
        " : http://www.fht360.com/productlist/307/11590-5-2137.html\n",
        "0.58"
       ]
      },
      {
       "output_type": "stream",
       "stream": "stdout",
       "text": [
        " : http://www.fht360.com/productlist/226/16102-4.html\n",
        "0.91"
       ]
      },
      {
       "output_type": "stream",
       "stream": "stdout",
       "text": [
        " : http://www.fht360.com/productlist/254/15967-3-2137.html\n",
        "0.50"
       ]
      },
      {
       "output_type": "stream",
       "stream": "stdout",
       "text": [
        " : http://www.fht360.com/productlist/387-2-860.html\n",
        "0.48"
       ]
      },
      {
       "output_type": "stream",
       "stream": "stdout",
       "text": [
        " : http://www.fht360.com/companylist/48/3-2-2508.html\n",
        "0.38"
       ]
      },
      {
       "output_type": "stream",
       "stream": "stdout",
       "text": [
        " : http://www.fht360.com/productlist/231/11994-3-1662.html\n",
        "0.47"
       ]
      },
      {
       "output_type": "stream",
       "stream": "stdout",
       "text": [
        " : http://www.fht360.com/companylist/162/3-3-20.html\n",
        "0.94"
       ]
      },
      {
       "output_type": "stream",
       "stream": "stdout",
       "text": [
        " : http://www.fht360.com/productlist/246/12198-3-1009.html\n",
        "1.32"
       ]
      },
      {
       "output_type": "stream",
       "stream": "stdout",
       "text": [
        " : http://www.fht360.com/productlist/433/11350-2-1487.html\n",
        "1.66"
       ]
      },
      {
       "output_type": "stream",
       "stream": "stdout",
       "text": [
        " : http://www.fht360.com/productlist/234/10286-3.html\n",
        "4.13"
       ]
      },
      {
       "output_type": "stream",
       "stream": "stdout",
       "text": [
        " : http://www.fht360.com/productlist/385/6-4-1.html\n",
        "0.33"
       ]
      },
      {
       "output_type": "stream",
       "stream": "stdout",
       "text": [
        " : http://www.fht360.com/productlist/351/13192-2.html\n",
        "2.11"
       ]
      },
      {
       "output_type": "stream",
       "stream": "stdout",
       "text": [
        " : http://www.fht360.com/companylist/44-2-1567.html\n",
        "0.56"
       ]
      },
      {
       "output_type": "stream",
       "stream": "stdout",
       "text": [
        " : http://www.fht360.com/productlist/237/820-7.html\n",
        "0.56"
       ]
      },
      {
       "output_type": "stream",
       "stream": "stdout",
       "text": [
        " : http://www.fht360.com/productlist/356/13329-4-2137.html\n",
        "0.49"
       ]
      },
      {
       "output_type": "stream",
       "stream": "stdout",
       "text": [
        " : http://www.fht360.com/companylist/167/3-2-230.html\n",
        "0.48"
       ]
      },
      {
       "output_type": "stream",
       "stream": "stdout",
       "text": [
        " : http://www.fht360.com/productlist/290/904-2.html\n",
        "0.87"
       ]
      },
      {
       "output_type": "stream",
       "stream": "stdout",
       "text": [
        " : http://www.fht360.com/productlist/424/2-21-1122.html\n",
        "0.53"
       ]
      },
      {
       "output_type": "stream",
       "stream": "stdout",
       "text": [
        " : http://www.fht360.com/companylist/164-2-1858.html\n",
        "0.49"
       ]
      },
      {
       "output_type": "stream",
       "stream": "stdout",
       "text": [
        " : http://www.fht360.com/companylist/164-3-1857.html\n",
        "0.44"
       ]
      },
      {
       "output_type": "stream",
       "stream": "stdout",
       "text": [
        " : http://www.fht360.com/productlist/246/12198-9-2137.html\n",
        "1.45"
       ]
      },
      {
       "output_type": "stream",
       "stream": "stdout",
       "text": [
        " : http://www.fht360.com/productlist/234/390-2-2137.html\n",
        "1.86"
       ]
      },
      {
       "output_type": "stream",
       "stream": "stdout",
       "text": [
        " : http://www.fht360.com/productlist/324/11675-2-39.html\n",
        "0.61"
       ]
      },
      {
       "output_type": "stream",
       "stream": "stdout",
       "text": [
        " : http://www.fht360.com/productlist/357-7-1122.html\n",
        "0.61"
       ]
      },
      {
       "output_type": "stream",
       "stream": "stdout",
       "text": [
        " : http://www.fht360.com/productlist/231/13324-7.html\n",
        "0.55"
       ]
      },
      {
       "output_type": "stream",
       "stream": "stdout",
       "text": [
        " : http://www.fht360.com/productlist/432-2-2508.html\n",
        "1.36"
       ]
      },
      {
       "output_type": "stream",
       "stream": "stdout",
       "text": [
        " : http://www.fht360.com/productlist/233/7239-18-1487.html\n",
        "0.31"
       ]
      },
      {
       "output_type": "stream",
       "stream": "stdout",
       "text": [
        " : http://www.fht360.com/productlist/352-5-880.html\n",
        "0.52"
       ]
      },
      {
       "output_type": "stream",
       "stream": "stdout",
       "text": [
        " : http://www.fht360.com/productlist/351/13711-2-880.html\n",
        "0.27"
       ]
      },
      {
       "output_type": "stream",
       "stream": "stdout",
       "text": [
        " : http://www.fht360.com/productlist/284/2005-2.html\n",
        "0.83"
       ]
      },
      {
       "output_type": "stream",
       "stream": "stdout",
       "text": [
        " : http://www.fht360.com/productlist/249-6-1487.html\n",
        "0.20"
       ]
      },
      {
       "output_type": "stream",
       "stream": "stdout",
       "text": [
        " : http://www.fht360.com/productlist/239/266-8-1487.html\n",
        "0.33"
       ]
      },
      {
       "output_type": "stream",
       "stream": "stdout",
       "text": [
        " : http://www.fht360.com/productlist/424/14826-8.html\n",
        "0.37"
       ]
      },
      {
       "output_type": "stream",
       "stream": "stdout",
       "text": [
        " : http://www.fht360.com/productlist/227/2704-2-880.html\n",
        "0.82"
       ]
      },
      {
       "output_type": "stream",
       "stream": "stdout",
       "text": [
        " : http://www.fht360.com/companylist/39/10516-2.html\n",
        "1.77"
       ]
      },
      {
       "output_type": "stream",
       "stream": "stdout",
       "text": [
        " : http://www.fht360.com/companylist/39/10515-2.html\n",
        "0.76"
       ]
      },
      {
       "output_type": "stream",
       "stream": "stdout",
       "text": [
        " : http://www.fht360.com/companylist/39/10518-2.html\n",
        "0.59"
       ]
      },
      {
       "output_type": "stream",
       "stream": "stdout",
       "text": [
        " : http://www.fht360.com/productlist/340/1861-2-1122.html\n",
        "0.80"
       ]
      },
      {
       "output_type": "stream",
       "stream": "stdout",
       "text": [
        " : http://www.fht360.com/productlist/425-2-1122.html\n",
        "0.44"
       ]
      },
      {
       "output_type": "stream",
       "stream": "stdout",
       "text": [
        " : http://www.fht360.com/productlist/233/16667-5.html\n",
        "0.69"
       ]
      },
      {
       "output_type": "stream",
       "stream": "stdout",
       "text": [
        " : http://www.fht360.com/productlist/233/17108-9.html\n",
        "2.36"
       ]
      },
      {
       "output_type": "stream",
       "stream": "stdout",
       "text": [
        " : http://www.fht360.com/productlist/246/12329-2-1487.html\n",
        "0.43"
       ]
      },
      {
       "output_type": "stream",
       "stream": "stdout",
       "text": [
        " : http://www.fht360.com/productlist/332/2995-2-880.html\n",
        "0.39"
       ]
      },
      {
       "output_type": "stream",
       "stream": "stdout",
       "text": [
        " : http://www.fht360.com/productlist/231/168-2-39.html\n",
        "0.34"
       ]
      },
      {
       "output_type": "stream",
       "stream": "stdout",
       "text": [
        " : http://www.fht360.com/productlist/226-13-39.html\n",
        "2.15"
       ]
      },
      {
       "output_type": "stream",
       "stream": "stdout",
       "text": [
        " : http://www.fht360.com/productlist/324/10010-2-1487.html\n",
        "3.73"
       ]
      },
      {
       "output_type": "stream",
       "stream": "stdout",
       "text": [
        " : http://www.fht360.com/companylist/237/10835-2.html\n",
        "0.91"
       ]
      },
      {
       "output_type": "stream",
       "stream": "stdout",
       "text": [
        " : http://www.fht360.com/productlist/426/14862-2-1487.html\n",
        "2.13"
       ]
      },
      {
       "output_type": "stream",
       "stream": "stdout",
       "text": [
        " : http://www.fht360.com/productlist/227/10511-4-1662.html\n",
        "0.48"
       ]
      },
      {
       "output_type": "stream",
       "stream": "stdout",
       "text": [
        " : http://www.fht360.com/companylist/164-3-896.html\n",
        "1.27"
       ]
      },
      {
       "output_type": "stream",
       "stream": "stdout",
       "text": [
        " : http://www.fht360.com/productlist/235/15161-2-880.html\n",
        "1.50"
       ]
      },
      {
       "output_type": "stream",
       "stream": "stdout",
       "text": [
        " : http://www.fht360.com/companylist/38/10580-2.html\n",
        "1.87"
       ]
      },
      {
       "output_type": "stream",
       "stream": "stdout",
       "text": [
        " : http://www.fht360.com/companylist/38/10586-2.html\n",
        "4.17"
       ]
      },
      {
       "output_type": "stream",
       "stream": "stdout",
       "text": [
        " : http://www.fht360.com/productlist/346/12032-2.html\n",
        "0.69"
       ]
      },
      {
       "output_type": "stream",
       "stream": "stdout",
       "text": [
        " : http://www.fht360.com/companylist/45/10081-2.html\n",
        "0.51"
       ]
      },
      {
       "output_type": "stream",
       "stream": "stdout",
       "text": [
        " : http://www.fht360.com/productlist/324-3-1122.html\n",
        "0.50"
       ]
      },
      {
       "output_type": "stream",
       "stream": "stdout",
       "text": [
        " : http://www.fht360.com/productlist/337/12148-2-880.html\n",
        "0.19"
       ]
      },
      {
       "output_type": "stream",
       "stream": "stdout",
       "text": [
        " : http://www.fht360.com/productlist/234/306-2-1487.html\n",
        "0.97"
       ]
      },
      {
       "output_type": "stream",
       "stream": "stdout",
       "text": [
        " : http://www.fht360.com/productlist/424/2-2-376.html\n",
        "0.46"
       ]
      },
      {
       "output_type": "stream",
       "stream": "stdout",
       "text": [
        " : http://www.fht360.com/productlist/262-2-880.html\n",
        "0.69"
       ]
      },
      {
       "output_type": "stream",
       "stream": "stdout",
       "text": [
        " : http://www.fht360.com/productlist/387/28-3-880.html\n",
        "1.56"
       ]
      },
      {
       "output_type": "stream",
       "stream": "stdout",
       "text": [
        " : http://www.fht360.com/productlist/279-33.html\n",
        "2.29"
       ]
      },
      {
       "output_type": "stream",
       "stream": "stdout",
       "text": [
        " : http://www.fht360.com/productlist/433/14927-3.html\n",
        "0.64"
       ]
      },
      {
       "output_type": "stream",
       "stream": "stdout",
       "text": [
        " : http://www.fht360.com/productlist/444/79-8-1487.html\n",
        "0.55"
       ]
      },
      {
       "output_type": "stream",
       "stream": "stdout",
       "text": [
        " : http://www.fht360.com/companylist/164/3-2-1276.html\n",
        "0.41"
       ]
      },
      {
       "output_type": "stream",
       "stream": "stdout",
       "text": [
        " : http://www.fht360.com/productlist/237/904-2.html\n",
        "0.47"
       ]
      },
      {
       "output_type": "stream",
       "stream": "stdout",
       "text": [
        " : http://www.fht360.com/productlist/402/9419-4.html\n",
        "0.44"
       ]
      },
      {
       "output_type": "stream",
       "stream": "stdout",
       "text": [
        " : http://www.fht360.com/productlist/334/12703-2.html\n",
        "0.62"
       ]
      },
      {
       "output_type": "stream",
       "stream": "stdout",
       "text": [
        " : http://www.fht360.com/companylist/137-2-927.html\n",
        "0.74"
       ]
      },
      {
       "output_type": "stream",
       "stream": "stdout",
       "text": [
        " : http://www.fht360.com/productlist/231/15805-2.html\n",
        "4.26"
       ]
      },
      {
       "output_type": "stream",
       "stream": "stdout",
       "text": [
        " : http://www.fht360.com/companylist/167/3-2-1100.html\n",
        "0.72"
       ]
      },
      {
       "output_type": "stream",
       "stream": "stdout",
       "text": [
        " : http://www.fht360.com/productlist/239/799-2-1662.html\n",
        "1.34"
       ]
      },
      {
       "output_type": "stream",
       "stream": "stdout",
       "text": [
        " : http://www.fht360.com/productlist/231-4-499.html\n",
        "3.82"
       ]
      },
      {
       "output_type": "stream",
       "stream": "stdout",
       "text": [
        " : http://www.fht360.com/productlist/233/16649-4-2137.html\n",
        "2.28"
       ]
      },
      {
       "output_type": "stream",
       "stream": "stdout",
       "text": [
        " : http://www.fht360.com/companylist/48/10321-2.html\n",
        "0.93"
       ]
      },
      {
       "output_type": "stream",
       "stream": "stdout",
       "text": [
        " : http://www.fht360.com/productlist/423/10811-2-1487.html\n",
        "0.82"
       ]
      },
      {
       "output_type": "stream",
       "stream": "stdout",
       "text": [
        " : http://www.fht360.com/productlist/285/394-6.html\n",
        "0.48"
       ]
      },
      {
       "output_type": "stream",
       "stream": "stdout",
       "text": [
        " : http://www.fht360.com/productlist/379-5-880.html\n",
        "0.87"
       ]
      },
      {
       "output_type": "stream",
       "stream": "stdout",
       "text": [
        " : http://www.fht360.com/productlist/234/10288-2-1487.html\n",
        "0.19"
       ]
      },
      {
       "output_type": "stream",
       "stream": "stdout",
       "text": [
        " : http://www.fht360.com/productlist/415/93-2-880.html\n",
        "0.27"
       ]
      },
      {
       "output_type": "stream",
       "stream": "stdout",
       "text": [
        " : http://www.fht360.com/productlist/226/10885-4.html\n",
        "0.48"
       ]
      },
      {
       "output_type": "stream",
       "stream": "stdout",
       "text": [
        " : http://www.fht360.com/companylist/165/3-2-1581.html\n",
        "0.34"
       ]
      },
      {
       "output_type": "stream",
       "stream": "stdout",
       "text": [
        " : http://www.fht360.com/productlist/362-12.html\n",
        "1.27"
       ]
      },
      {
       "output_type": "stream",
       "stream": "stdout",
       "text": [
        " : http://www.fht360.com/productlist/286-2-1009.html\n",
        "0.76"
       ]
      },
      {
       "output_type": "stream",
       "stream": "stdout",
       "text": [
        " : http://www.fht360.com/productlist/226/10884-3.html\n",
        "0.34"
       ]
      },
      {
       "output_type": "stream",
       "stream": "stdout",
       "text": [
        " : http://www.fht360.com/productlist/361-6.html\n",
        "0.61"
       ]
      },
      {
       "output_type": "stream",
       "stream": "stdout",
       "text": [
        " : http://www.fht360.com/productlist/433/14267-3.html\n",
        "0.73"
       ]
      },
      {
       "output_type": "stream",
       "stream": "stdout",
       "text": [
        " : http://www.fht360.com/productlist/433/14263-9.html\n",
        "2.49"
       ]
      },
      {
       "output_type": "stream",
       "stream": "stdout",
       "text": [
        " : http://www.fht360.com/productlist/248/12038-12.html\n",
        "2.69"
       ]
      },
      {
       "output_type": "stream",
       "stream": "stdout",
       "text": [
        " : http://www.fht360.com/productlist/367-44.html\n",
        "1.04"
       ]
      },
      {
       "output_type": "stream",
       "stream": "stdout",
       "text": [
        " : http://www.fht360.com/productlist/324/12492-2-2137.html\n",
        "0.39"
       ]
      },
      {
       "output_type": "stream",
       "stream": "stdout",
       "text": [
        " : http://www.fht360.com/productlist/415/36-4-880.html\n",
        "1.34"
       ]
      },
      {
       "output_type": "stream",
       "stream": "stdout",
       "text": [
        " : http://www.fht360.com/companylist/165/3-2-1051.html\n",
        "0.72"
       ]
      },
      {
       "output_type": "stream",
       "stream": "stdout",
       "text": [
        " : http://www.fht360.com/productlist/226/7439-2.html\n",
        "0.49"
       ]
      },
      {
       "output_type": "stream",
       "stream": "stdout",
       "text": [
        " : http://www.fht360.com/productlist/424/14775-4.html\n",
        "0.62"
       ]
      },
      {
       "output_type": "stream",
       "stream": "stdout",
       "text": [
        " : http://www.fht360.com/productlist/246/11343-2-1487.html\n",
        "0.72"
       ]
      },
      {
       "output_type": "stream",
       "stream": "stdout",
       "text": [
        " : http://www.fht360.com/companylist/52-4-2138.html\n",
        "0.46"
       ]
      },
      {
       "output_type": "stream",
       "stream": "stdout",
       "text": [
        " : http://www.fht360.com/productlist/309-4-1487.html\n",
        "0.49"
       ]
      },
      {
       "output_type": "stream",
       "stream": "stdout",
       "text": [
        " : http://www.fht360.com/companylist/50/10820-2.html\n",
        "0.52"
       ]
      },
      {
       "output_type": "stream",
       "stream": "stdout",
       "text": [
        " : http://www.fht360.com/companylist/165-4-1.html\n",
        "0.37"
       ]
      },
      {
       "output_type": "stream",
       "stream": "stdout",
       "text": [
        " : http://www.fht360.com/productlist/228/10072-2.html\n",
        "0.36"
       ]
      },
      {
       "output_type": "stream",
       "stream": "stdout",
       "text": [
        " : http://www.fht360.com/productlist/246/13319-13.html\n",
        "0.56"
       ]
      },
      {
       "output_type": "stream",
       "stream": "stdout",
       "text": [
        " : http://www.fht360.com/productlist/266/10320-2-39.html\n",
        "0.59"
       ]
      },
      {
       "output_type": "stream",
       "stream": "stdout",
       "text": [
        " : http://www.fht360.com/companylist/179/10311-2.html\n",
        "0.37"
       ]
      },
      {
       "output_type": "stream",
       "stream": "stdout",
       "text": [
        " : http://www.fht360.com/productlist/227/10511-5-1260.html\n",
        "1.07"
       ]
      },
      {
       "output_type": "stream",
       "stream": "stdout",
       "text": [
        " : http://www.fht360.com/productlist/324-47-1487.html\n",
        "0.92"
       ]
      },
      {
       "output_type": "stream",
       "stream": "stdout",
       "text": [
        " : http://www.fht360.com/productlist/239/267-2-860.html\n",
        "0.27"
       ]
      },
      {
       "output_type": "stream",
       "stream": "stdout",
       "text": [
        " : http://www.fht360.com/productlist/239/391-3.html\n",
        "0.29"
       ]
      },
      {
       "output_type": "stream",
       "stream": "stdout",
       "text": [
        " : http://www.fht360.com/productlist/341/11665-4.html\n",
        "0.28"
       ]
      },
      {
       "output_type": "stream",
       "stream": "stdout",
       "text": [
        " : http://www.fht360.com/productlist/239/392-2.html\n",
        "0.57"
       ]
      },
      {
       "output_type": "stream",
       "stream": "stdout",
       "text": [
        " : http://www.fht360.com/companylist/164-2-1100.html\n",
        "0.64"
       ]
      },
      {
       "output_type": "stream",
       "stream": "stdout",
       "text": [
        " : http://www.fht360.com/productlist/431-2-1260.html\n",
        "1.23"
       ]
      },
      {
       "output_type": "stream",
       "stream": "stdout",
       "text": [
        " : http://www.fht360.com/productlist/385-74-39.html\n",
        "5.05"
       ]
      },
      {
       "output_type": "stream",
       "stream": "stdout",
       "text": [
        " : http://www.fht360.com/productlist/248/769-6.html\n",
        "0.67"
       ]
      },
      {
       "output_type": "stream",
       "stream": "stdout",
       "text": [
        " : http://www.fht360.com/productlist/344/10771-2.html\n",
        "0.64"
       ]
      },
      {
       "output_type": "stream",
       "stream": "stdout",
       "text": [
        " : http://www.fht360.com/companylist/137-4-39.html\n",
        "0.44"
       ]
      },
      {
       "output_type": "stream",
       "stream": "stdout",
       "text": [
        " : http://www.fht360.com/productlist/235-1-628.html\n",
        "1.03"
       ]
      },
      {
       "output_type": "stream",
       "stream": "stdout",
       "text": [
        " : http://www.fht360.com/productlist/239/12094-2-880.html\n",
        "0.67"
       ]
      },
      {
       "output_type": "stream",
       "stream": "stdout",
       "text": [
        " : http://www.fht360.com/productlist/234/298-3.html\n",
        "2.12"
       ]
      },
      {
       "output_type": "stream",
       "stream": "stdout",
       "text": [
        " : http://www.fht360.com/companylist/198-6.html\n",
        "0.88"
       ]
      },
      {
       "output_type": "stream",
       "stream": "stdout",
       "text": [
        " : http://www.fht360.com/companylist/199-7.html\n",
        "0.58"
       ]
      },
      {
       "output_type": "stream",
       "stream": "stdout",
       "text": [
        " : http://www.fht360.com/productlist/352/5158-4.html\n",
        "1.41"
       ]
      },
      {
       "output_type": "stream",
       "stream": "stdout",
       "text": [
        " : http://www.fht360.com/companylist/193-5.html\n",
        "1.25"
       ]
      },
      {
       "output_type": "stream",
       "stream": "stdout",
       "text": [
        " : http://www.fht360.com/companylist/194-5.html\n",
        "0.66"
       ]
      },
      {
       "output_type": "stream",
       "stream": "stdout",
       "text": [
        " : http://www.fht360.com/companylist/195-3.html\n",
        "0.77"
       ]
      },
      {
       "output_type": "stream",
       "stream": "stdout",
       "text": [
        " : http://www.fht360.com/companylist/196-2.html\n",
        "1.24"
       ]
      },
      {
       "output_type": "stream",
       "stream": "stdout",
       "text": [
        " : http://www.fht360.com/companylist/197-5.html\n",
        "1.98"
       ]
      },
      {
       "output_type": "stream",
       "stream": "stdout",
       "text": [
        " : http://www.fht360.com/productlist/274-2-1857.html\n",
        "1.91"
       ]
      },
      {
       "output_type": "stream",
       "stream": "stdout",
       "text": [
        " : http://www.fht360.com/productlist/276/15186-4.html\n",
        "4.30"
       ]
      },
      {
       "output_type": "stream",
       "stream": "stdout",
       "text": [
        " : http://www.fht360.com/productlist/435/4418-2.html\n",
        "0.45"
       ]
      },
      {
       "output_type": "stream",
       "stream": "stdout",
       "text": [
        " : http://www.fht360.com/companylist/38-2-1488.html\n",
        "0.56"
       ]
      },
      {
       "output_type": "stream",
       "stream": "stdout",
       "text": [
        " : http://www.fht360.com/productlist/337-7-1487.html\n",
        "1.05"
       ]
      },
      {
       "output_type": "stream",
       "stream": "stdout",
       "text": [
        " : http://www.fht360.com/companylist/38-2-1487.html\n",
        "0.64"
       ]
      },
      {
       "output_type": "stream",
       "stream": "stdout",
       "text": [
        " : http://www.fht360.com/productlist/357/11349-2-1487.html\n",
        "0.87"
       ]
      },
      {
       "output_type": "stream",
       "stream": "stdout",
       "text": [
        " : http://www.fht360.com/companylist/167-2-2190.html\n",
        "0.78"
       ]
      },
      {
       "output_type": "stream",
       "stream": "stdout",
       "text": [
        " : http://www.fht360.com/productlist/280/95-4-39.html\n",
        "0.54"
       ]
      },
      {
       "output_type": "stream",
       "stream": "stdout",
       "text": [
        " : http://www.fht360.com/productlist/316-2-2137.html\n",
        "0.45"
       ]
      },
      {
       "output_type": "stream",
       "stream": "stdout",
       "text": [
        " : http://www.fht360.com/productlist/228/12016-2-2137.html\n",
        "0.51"
       ]
      },
      {
       "output_type": "stream",
       "stream": "stdout",
       "text": [
        " : http://www.fht360.com/productlist/334/12421-5-1260.html\n",
        "0.43"
       ]
      },
      {
       "output_type": "stream",
       "stream": "stdout",
       "text": [
        " : http://www.fht360.com/productlist/252/661-2-2137.html\n",
        "0.28"
       ]
      },
      {
       "output_type": "stream",
       "stream": "stdout",
       "text": [
        " : http://www.fht360.com/productlist/346/17490-2.html\n",
        "0.22"
       ]
      },
      {
       "output_type": "stream",
       "stream": "stdout",
       "text": [
        " : http://www.fht360.com/productlist/365/974-3.html\n",
        "0.44"
       ]
      },
      {
       "output_type": "stream",
       "stream": "stdout",
       "text": [
        " : http://www.fht360.com/productlist/317/10810-6-1487.html\n",
        "0.53"
       ]
      },
      {
       "output_type": "stream",
       "stream": "stdout",
       "text": [
        " : http://www.fht360.com/companylist/77/661-2.html\n",
        "0.38"
       ]
      },
      {
       "output_type": "stream",
       "stream": "stdout",
       "text": [
        " : http://www.fht360.com/productlist/248/684-3.html\n",
        "0.64"
       ]
      },
      {
       "output_type": "stream",
       "stream": "stdout",
       "text": [
        " : http://www.fht360.com/productlist/274/92-6-39.html\n",
        "0.68"
       ]
      },
      {
       "output_type": "stream",
       "stream": "stdout",
       "text": [
        " : http://www.fht360.com/productlist/227/3498-3-1009.html\n",
        "0.66"
       ]
      },
      {
       "output_type": "stream",
       "stream": "stdout",
       "text": [
        " : http://www.fht360.com/companylist/89/10252-2.html\n",
        "0.39"
       ]
      },
      {
       "output_type": "stream",
       "stream": "stdout",
       "text": [
        " : http://www.fht360.com/productlist/314/17354-2-1009.html\n",
        "0.46"
       ]
      },
      {
       "output_type": "stream",
       "stream": "stdout",
       "text": [
        " : http://www.fht360.com/productlist/279-3-880.html\n",
        "0.54"
       ]
      },
      {
       "output_type": "stream",
       "stream": "stdout",
       "text": [
        " : http://www.fht360.com/productlist/337-2-3065.html\n",
        "0.32"
       ]
      },
      {
       "output_type": "stream",
       "stream": "stdout",
       "text": [
        " : http://www.fht360.com/productlist/337/8480-2.html\n",
        "0.46"
       ]
      },
      {
       "output_type": "stream",
       "stream": "stdout",
       "text": [
        " : http://www.fht360.com/productlist/235/15161-5-2137.html\n",
        "0.45"
       ]
      },
      {
       "output_type": "stream",
       "stream": "stdout",
       "text": [
        " : http://www.fht360.com/productlist/324/7693-2-1487.html\n",
        "0.84"
       ]
      },
      {
       "output_type": "stream",
       "stream": "stdout",
       "text": [
        " : http://www.fht360.com/productlist/283-16-39.html\n",
        "0.27"
       ]
      },
      {
       "output_type": "stream",
       "stream": "stdout",
       "text": [
        " : http://www.fht360.com/productlist/279/18784-6.html\n",
        "0.32"
       ]
      },
      {
       "output_type": "stream",
       "stream": "stdout",
       "text": [
        " : http://www.fht360.com/productlist/379/363-4.html\n",
        "0.32"
       ]
      },
      {
       "output_type": "stream",
       "stream": "stdout",
       "text": [
        " : http://www.fht360.com/productlist/431/3728-6.html\n",
        "0.88"
       ]
      },
      {
       "output_type": "stream",
       "stream": "stdout",
       "text": [
        " : http://www.fht360.com/companylist/66/10177-2.html\n",
        "0.63"
       ]
      },
      {
       "output_type": "stream",
       "stream": "stdout",
       "text": [
        " : http://www.fht360.com/productlist/252/661-8-880.html\n",
        "0.45"
       ]
      },
      {
       "output_type": "stream",
       "stream": "stdout",
       "text": [
        " : http://www.fht360.com/productlist/234/188-7-880.html\n",
        "0.81"
       ]
      },
      {
       "output_type": "stream",
       "stream": "stdout",
       "text": [
        " : http://www.fht360.com/productlist/250-84.html\n",
        "0.99"
       ]
      },
      {
       "output_type": "stream",
       "stream": "stdout",
       "text": [
        " : http://www.fht360.com/productlist/231/159-4-1487.html\n",
        "0.25"
       ]
      },
      {
       "output_type": "stream",
       "stream": "stdout",
       "text": [
        " : http://www.fht360.com/productlist/337/12207-4.html\n",
        "0.29"
       ]
      },
      {
       "output_type": "stream",
       "stream": "stdout",
       "text": [
        " : http://www.fht360.com/productlist/337/12202-2.html\n",
        "1.59"
       ]
      },
      {
       "output_type": "stream",
       "stream": "stdout",
       "text": [
        " : http://www.fht360.com/productlist/357-43-1487.html\n",
        "0.87"
       ]
      },
      {
       "output_type": "stream",
       "stream": "stdout",
       "text": [
        " : http://www.fht360.com/productlist/337/12200-2.html\n",
        "1.36"
       ]
      },
      {
       "output_type": "stream",
       "stream": "stdout",
       "text": [
        " : http://www.fht360.com/productlist/433/14030-3.html\n",
        "0.57"
       ]
      },
      {
       "output_type": "stream",
       "stream": "stdout",
       "text": [
        " : http://www.fht360.com/productlist/274/97-10.html\n",
        "0.38"
       ]
      },
      {
       "output_type": "stream",
       "stream": "stdout",
       "text": [
        " : http://www.fht360.com/productlist/241/517-2-39.html\n",
        "0.41"
       ]
      },
      {
       "output_type": "stream",
       "stream": "stdout",
       "text": [
        " : http://www.fht360.com/productlist/433/14927-2-2137.html\n",
        "0.08"
       ]
      },
      {
       "output_type": "stream",
       "stream": "stdout",
       "text": [
        " : http://www.fht360.com/productlist/274/92-18.html\n",
        "0.84"
       ]
      },
      {
       "output_type": "stream",
       "stream": "stdout",
       "text": [
        " : http://www.fht360.com/companylist/162/3-10-2138.html\n",
        "0.60"
       ]
      },
      {
       "output_type": "stream",
       "stream": "stdout",
       "text": [
        " : http://www.fht360.com/productlist/264-9-2137.html\n",
        "0.66"
       ]
      },
      {
       "output_type": "stream",
       "stream": "stdout",
       "text": [
        " : http://www.fht360.com/companylist/74-2-1050.html\n",
        "0.49"
       ]
      },
      {
       "output_type": "stream",
       "stream": "stdout",
       "text": [
        " : http://www.fht360.com/productlist/231/9-6-1662.html\n",
        "0.72"
       ]
      },
      {
       "output_type": "stream",
       "stream": "stdout",
       "text": [
        " : http://www.fht360.com/productlist/367/13582-10.html\n",
        "0.32"
       ]
      },
      {
       "output_type": "stream",
       "stream": "stdout",
       "text": [
        " : http://www.fht360.com/productlist/351/13072-2.html\n",
        "0.72"
       ]
      },
      {
       "output_type": "stream",
       "stream": "stdout",
       "text": [
        " : http://www.fht360.com/companylist/137-13-2137.html\n",
        "0.98"
       ]
      },
      {
       "output_type": "stream",
       "stream": "stdout",
       "text": [
        " : http://www.fht360.com/productlist/264/10508-2.html\n",
        "0.72"
       ]
      },
      {
       "output_type": "stream",
       "stream": "stdout",
       "text": [
        " : http://www.fht360.com/companylist/50/10783-2.html\n",
        "0.87"
       ]
      },
      {
       "output_type": "stream",
       "stream": "stdout",
       "text": [
        " : http://www.fht360.com/productlist/337/12176-6-880.html\n",
        "0.59"
       ]
      },
      {
       "output_type": "stream",
       "stream": "stdout",
       "text": [
        " : http://www.fht360.com/companylist/100/10605-2.html\n",
        "1.11"
       ]
      },
      {
       "output_type": "stream",
       "stream": "stdout",
       "text": [
        " : http://www.fht360.com/productlist/424/2-15-706.html\n",
        "0.57"
       ]
      },
      {
       "output_type": "stream",
       "stream": "stdout",
       "text": [
        " : http://www.fht360.com/productlist/233-4-1857.html\n",
        "0.41"
       ]
      },
      {
       "output_type": "stream",
       "stream": "stdout",
       "text": [
        " : http://www.fht360.com/productlist/231/15894-3-1487.html\n",
        "0.45"
       ]
      },
      {
       "output_type": "stream",
       "stream": "stdout",
       "text": [
        " : http://www.fht360.com/productlist/357-3-39.html\n",
        "0.48"
       ]
      },
      {
       "output_type": "stream",
       "stream": "stdout",
       "text": [
        " : http://www.fht360.com/productlist/423-2-1009.html\n",
        "0.47"
       ]
      },
      {
       "output_type": "stream",
       "stream": "stdout",
       "text": [
        " : http://www.fht360.com/companylist/164/3-7-927.html\n",
        "0.47"
       ]
      },
      {
       "output_type": "stream",
       "stream": "stdout",
       "text": [
        " : http://www.fht360.com/companylist/164/3-2-924.html\n",
        "0.53"
       ]
      },
      {
       "output_type": "stream",
       "stream": "stdout",
       "text": [
        " : http://www.fht360.com/companylist/59/10808-2.html\n",
        "0.62"
       ]
      },
      {
       "output_type": "stream",
       "stream": "stdout",
       "text": [
        " : http://www.fht360.com/companylist/45-2-880.html\n",
        "0.98"
       ]
      },
      {
       "output_type": "stream",
       "stream": "stdout",
       "text": [
        " : http://www.fht360.com/productlist/324-35-880.html\n",
        "1.05"
       ]
      },
      {
       "output_type": "stream",
       "stream": "stdout",
       "text": [
        " : http://www.fht360.com/productlist/240-1-1009.html\n",
        "0.56"
       ]
      },
      {
       "output_type": "stream",
       "stream": "stdout",
       "text": [
        " : http://www.fht360.com/companylist/77-4-880.html\n",
        "1.64"
       ]
      },
      {
       "output_type": "stream",
       "stream": "stdout",
       "text": [
        " : http://www.fht360.com/productlist/424/14900-3.html\n",
        "0.75"
       ]
      },
      {
       "output_type": "stream",
       "stream": "stdout",
       "text": [
        " : http://www.fht360.com/productlist/254/258-2-1122.html\n",
        "1.35"
       ]
      },
      {
       "output_type": "stream",
       "stream": "stdout",
       "text": [
        " : http://www.fht360.com/productlist/335/12781-3.html\n",
        "0.41"
       ]
      },
      {
       "output_type": "stream",
       "stream": "stdout",
       "text": [
        " : http://www.fht360.com/productlist/335/12780-2.html\n",
        "0.55"
       ]
      },
      {
       "output_type": "stream",
       "stream": "stdout",
       "text": [
        " : http://www.fht360.com/companylist/45/10176-2.html\n",
        "0.64"
       ]
      },
      {
       "output_type": "stream",
       "stream": "stdout",
       "text": [
        " : http://www.fht360.com/productlist/234/390-5-880.html\n",
        "0.91"
       ]
      },
      {
       "output_type": "stream",
       "stream": "stdout",
       "text": [
        " : http://www.fht360.com/productlist/234/3373-2.html\n",
        "3.46"
       ]
      },
      {
       "output_type": "stream",
       "stream": "stdout",
       "text": [
        " : http://www.fht360.com/companylist/48/3-2-1491.html\n",
        "4.61"
       ]
      },
      {
       "output_type": "stream",
       "stream": "stdout",
       "text": [
        " : http://www.fht360.com/productlist/424/14897-2-1009.html\n",
        "1.19"
       ]
      },
      {
       "output_type": "stream",
       "stream": "stdout",
       "text": [
        " : http://www.fht360.com/productlist/285-3-1662.html\n",
        "4.35"
       ]
      },
      {
       "output_type": "stream",
       "stream": "stdout",
       "text": [
        " : http://www.fht360.com/companylist/242/10539-2.html\n",
        "1.75"
       ]
      },
      {
       "output_type": "stream",
       "stream": "stdout",
       "text": [
        " : http://www.fht360.com/companylist/242/10531-2.html\n",
        "3.94"
       ]
      },
      {
       "output_type": "stream",
       "stream": "stdout",
       "text": [
        " : http://www.fht360.com/productlist/254-3-1009.html\n",
        "3.30"
       ]
      },
      {
       "output_type": "stream",
       "stream": "stdout",
       "text": [
        " : http://www.fht360.com/companylist/106/10617-2.html\n",
        "0.86"
       ]
      },
      {
       "output_type": "stream",
       "stream": "stdout",
       "text": [
        " : http://www.fht360.com/productlist/236/8287-2-2137.html\n",
        "0.70"
       ]
      },
      {
       "output_type": "stream",
       "stream": "stdout",
       "text": [
        " : http://www.fht360.com/productlist/424-5-2830.html\n",
        "0.45"
       ]
      },
      {
       "output_type": "stream",
       "stream": "stdout",
       "text": [
        " : http://www.fht360.com/productlist/241/452-2-39.html\n",
        "0.62"
       ]
      },
      {
       "output_type": "stream",
       "stream": "stdout",
       "text": [
        " : http://www.fht360.com/productlist/235-5-1.html\n",
        "1.01"
       ]
      },
      {
       "output_type": "stream",
       "stream": "stdout",
       "text": [
        " : http://www.fht360.com/productlist/234/15895-2.html\n",
        "1.25"
       ]
      },
      {
       "output_type": "stream",
       "stream": "stdout",
       "text": [
        " : http://www.fht360.com/companylist/241/10720-2.html\n",
        "0.51"
       ]
      },
      {
       "output_type": "stream",
       "stream": "stdout",
       "text": [
        " : http://www.fht360.com/productlist/237/16015-2.html\n",
        "1.22"
       ]
      },
      {
       "output_type": "stream",
       "stream": "stdout",
       "text": [
        " : http://www.fht360.com/productlist/255/635-2-880.html\n",
        "1.38"
       ]
      },
      {
       "output_type": "stream",
       "stream": "stdout",
       "text": [
        " : http://www.fht360.com/companylist/48-3-1067.html\n",
        "0.89"
       ]
      },
      {
       "output_type": "stream",
       "stream": "stdout",
       "text": [
        " : http://www.fht360.com/productlist/369-2-39.html\n",
        "0.29"
       ]
      },
      {
       "output_type": "stream",
       "stream": "stdout",
       "text": [
        " : http://www.fht360.com/productlist/241/489-2.html\n",
        "1.92"
       ]
      },
      {
       "output_type": "stream",
       "stream": "stdout",
       "text": [
        " : http://www.fht360.com/productlist/241/488-4.html\n",
        "0.27"
       ]
      },
      {
       "output_type": "stream",
       "stream": "stdout",
       "text": [
        " : http://www.fht360.com/productlist/236/187-2.html\n",
        "0.66"
       ]
      },
      {
       "output_type": "stream",
       "stream": "stdout",
       "text": [
        " : http://www.fht360.com/productlist/305/16102-2-39.html\n",
        "0.44"
       ]
      },
      {
       "output_type": "stream",
       "stream": "stdout",
       "text": [
        " : http://www.fht360.com/productlist/270-4-1487.html\n",
        "1.27"
       ]
      },
      {
       "output_type": "stream",
       "stream": "stdout",
       "text": [
        " : http://www.fht360.com/productlist/283/17261-8-2137.html\n",
        "1.36"
       ]
      },
      {
       "output_type": "stream",
       "stream": "stdout",
       "text": [
        " : http://www.fht360.com/productlist/233/16011-2-860.html\n",
        "0.75"
       ]
      },
      {
       "output_type": "stream",
       "stream": "stdout",
       "text": [
        " : http://www.fht360.com/productlist/360-2-1009.html\n",
        "0.56"
       ]
      },
      {
       "output_type": "stream",
       "stream": "stdout",
       "text": [
        " : http://www.fht360.com/productlist/433/11451-3.html\n",
        "0.45"
       ]
      },
      {
       "output_type": "stream",
       "stream": "stdout",
       "text": [
        " : http://www.fht360.com/productlist/432/14872-2-234.html\n",
        "0.54"
       ]
      },
      {
       "output_type": "stream",
       "stream": "stdout",
       "text": [
        " : http://www.fht360.com/productlist/377/19067-3-860.html\n",
        "0.63"
       ]
      },
      {
       "output_type": "stream",
       "stream": "stdout",
       "text": [
        " : http://www.fht360.com/productlist/424/14715-2-2137.html\n",
        "0.45"
       ]
      },
      {
       "output_type": "stream",
       "stream": "stdout",
       "text": [
        " : http://www.fht360.com/productlist/333/71-3-860.html\n",
        "0.63"
       ]
      },
      {
       "output_type": "stream",
       "stream": "stdout",
       "text": [
        " : http://www.fht360.com/companylist/167-3-40.html\n",
        "0.33"
       ]
      },
      {
       "output_type": "stream",
       "stream": "stdout",
       "text": [
        " : http://www.fht360.com/productlist/226/10823-12.html\n",
        "0.32"
       ]
      },
      {
       "output_type": "stream",
       "stream": "stdout",
       "text": [
        " : http://www.fht360.com/productlist/233/7229-2.html\n",
        "0.47"
       ]
      },
      {
       "output_type": "stream",
       "stream": "stdout",
       "text": [
        " : http://www.fht360.com/productlist/275-2-2137.html\n",
        "0.59"
       ]
      },
      {
       "output_type": "stream",
       "stream": "stdout",
       "text": [
        " : http://www.fht360.com/companylist/37/10415-2.html\n",
        "0.70"
       ]
      },
      {
       "output_type": "stream",
       "stream": "stdout",
       "text": [
        " : http://www.fht360.com/companylist/37/10416-2.html\n",
        "0.81"
       ]
      },
      {
       "output_type": "stream",
       "stream": "stdout",
       "text": [
        " : http://www.fht360.com/companylist/37/10411-2.html\n",
        "0.52"
       ]
      },
      {
       "output_type": "stream",
       "stream": "stdout",
       "text": [
        " : http://www.fht360.com/companylist/37/10410-2.html\n",
        "0.53"
       ]
      },
      {
       "output_type": "stream",
       "stream": "stdout",
       "text": [
        " : http://www.fht360.com/companylist/37/10413-2.html\n",
        "1.28"
       ]
      },
      {
       "output_type": "stream",
       "stream": "stdout",
       "text": [
        " : http://www.fht360.com/productlist/235-2-499.html\n",
        "1.01"
       ]
      },
      {
       "output_type": "stream",
       "stream": "stdout",
       "text": [
        " : http://www.fht360.com/productlist/233-3-1260.html\n",
        "0.42"
       ]
      },
      {
       "output_type": "stream",
       "stream": "stdout",
       "text": [
        " : http://www.fht360.com/productlist/307-7-2137.html\n",
        "0.48"
       ]
      },
      {
       "output_type": "stream",
       "stream": "stdout",
       "text": [
        " : http://www.fht360.com/companylist/48-24-880.html\n",
        "0.48"
       ]
      },
      {
       "output_type": "stream",
       "stream": "stdout",
       "text": [
        " : http://www.fht360.com/companylist/48-2-881.html\n",
        "0.44"
       ]
      },
      {
       "output_type": "stream",
       "stream": "stdout",
       "text": [
        " : http://www.fht360.com/productlist/425/9475-3-1487.html\n",
        "0.32"
       ]
      },
      {
       "output_type": "stream",
       "stream": "stdout",
       "text": [
        " : http://www.fht360.com/productlist/324/7693-6.html\n",
        "0.36"
       ]
      },
      {
       "output_type": "stream",
       "stream": "stdout",
       "text": [
        " : http://www.fht360.com/productlist/433/14263-3-1487.html\n",
        "0.30"
       ]
      },
      {
       "output_type": "stream",
       "stream": "stdout",
       "text": [
        " : http://www.fht360.com/productlist/424/14724-11.html\n",
        "0.41"
       ]
      },
      {
       "output_type": "stream",
       "stream": "stdout",
       "text": [
        " : http://www.fht360.com/productlist/362-2-1.html\n",
        "0.46"
       ]
      },
      {
       "output_type": "stream",
       "stream": "stdout",
       "text": [
        " : http://www.fht360.com/companylist/199/10928-2-1364.html\n",
        "0.47"
       ]
      },
      {
       "output_type": "stream",
       "stream": "stdout",
       "text": [
        " : http://www.fht360.com/companylist/165/3-2-936.html\n",
        "0.47"
       ]
      },
      {
       "output_type": "stream",
       "stream": "stdout",
       "text": [
        " : http://www.fht360.com/companylist/165/3-2-2509.html\n",
        "0.60"
       ]
      },
      {
       "output_type": "stream",
       "stream": "stdout",
       "text": [
        " : http://www.fht360.com/companylist/165/3-2-938.html\n",
        "0.56"
       ]
      },
      {
       "output_type": "stream",
       "stream": "stdout",
       "text": [
        " : http://www.fht360.com/productlist/231/16951-2-1487.html\n",
        "1.51"
       ]
      },
      {
       "output_type": "stream",
       "stream": "stdout",
       "text": [
        " : http://www.fht360.com/companylist/46/10261-2.html\n",
        "1.18"
       ]
      },
      {
       "output_type": "stream",
       "stream": "stdout",
       "text": [
        " : http://www.fht360.com/companylist/164/3-6-221.html\n",
        "1.53"
       ]
      },
      {
       "output_type": "stream",
       "stream": "stdout",
       "text": [
        " : http://www.fht360.com/companylist/164/3-2-223.html\n",
        "0.68"
       ]
      },
      {
       "output_type": "stream",
       "stream": "stdout",
       "text": [
        " : http://www.fht360.com/companylist/164/3-3-228.html\n",
        "1.31"
       ]
      },
      {
       "output_type": "stream",
       "stream": "stdout",
       "text": [
        " : http://www.fht360.com/companylist/167-2-223.html\n",
        "0.53"
       ]
      },
      {
       "output_type": "stream",
       "stream": "stdout",
       "text": [
        " : http://www.fht360.com/productlist/424/14924-2.html\n",
        "0.33"
       ]
      },
      {
       "output_type": "stream",
       "stream": "stdout",
       "text": [
        " : http://www.fht360.com/productlist/424/14922-4.html\n",
        "1.19"
       ]
      },
      {
       "output_type": "stream",
       "stream": "stdout",
       "text": [
        " : http://www.fht360.com/productlist/424/14923-2.html\n",
        "1.13"
       ]
      },
      {
       "output_type": "stream",
       "stream": "stdout",
       "text": [
        " : http://www.fht360.com/companylist/167-3-1010.html\n",
        "0.78"
       ]
      },
      {
       "output_type": "stream",
       "stream": "stdout",
       "text": [
        " : http://www.fht360.com/companylist/164/3-2-3065.html\n",
        "0.48"
       ]
      },
      {
       "output_type": "stream",
       "stream": "stdout",
       "text": [
        " : http://www.fht360.com/companylist/48-4-1260.html\n",
        "0.42"
       ]
      },
      {
       "output_type": "stream",
       "stream": "stdout",
       "text": [
        " : http://www.fht360.com/productlist/317/12016-2-880.html\n",
        "0.72"
       ]
      },
      {
       "output_type": "stream",
       "stream": "stdout",
       "text": [
        " : http://www.fht360.com/productlist/352-65.html\n",
        "0.86"
       ]
      },
      {
       "output_type": "stream",
       "stream": "stdout",
       "text": [
        " : http://www.fht360.com/productlist/353-6.html\n",
        "0.84"
       ]
      },
      {
       "output_type": "stream",
       "stream": "stdout",
       "text": [
        " : http://www.fht360.com/productlist/351-164.html\n",
        "0.73"
       ]
      },
      {
       "output_type": "stream",
       "stream": "stdout",
       "text": [
        " : http://www.fht360.com/productlist/357-80.html\n",
        "0.92"
       ]
      },
      {
       "output_type": "stream",
       "stream": "stdout",
       "text": [
        " : http://www.fht360.com/productlist/355-4.html\n",
        "2.68"
       ]
      },
      {
       "output_type": "stream",
       "stream": "stdout",
       "text": [
        " : http://www.fht360.com/productlist/358-19.html\n",
        "2.07"
       ]
      },
      {
       "output_type": "stream",
       "stream": "stdout",
       "text": [
        " : http://www.fht360.com/productlist/235/99-3-1487.html\n",
        "1.24"
       ]
      },
      {
       "output_type": "stream",
       "stream": "stdout",
       "text": [
        " : http://www.fht360.com/companylist/164-4-1567.html\n",
        "0.65"
       ]
      },
      {
       "output_type": "stream",
       "stream": "stdout",
       "text": [
        " : http://www.fht360.com/productlist/303-3-1487.html\n",
        "0.45"
       ]
      },
      {
       "output_type": "stream",
       "stream": "stdout",
       "text": [
        " : http://www.fht360.com/productlist/235/3606-3-1487.html\n",
        "0.42"
       ]
      },
      {
       "output_type": "stream",
       "stream": "stdout",
       "text": [
        " : http://www.fht360.com/productlist/259/615-2-880.html\n",
        "0.72"
       ]
      },
      {
       "output_type": "stream",
       "stream": "stdout",
       "text": [
        " : http://www.fht360.com/companylist/54/59-2.html\n",
        "0.50"
       ]
      },
      {
       "output_type": "stream",
       "stream": "stdout",
       "text": [
        " : http://www.fht360.com/productlist/227/12210-2-860.html\n",
        "0.49"
       ]
      },
      {
       "output_type": "stream",
       "stream": "stdout",
       "text": [
        " : http://www.fht360.com/productlist/365-2-1009.html\n",
        "1.64"
       ]
      },
      {
       "output_type": "stream",
       "stream": "stdout",
       "text": [
        " : http://www.fht360.com/companylist/167/3-16-39.html\n",
        "1.28"
       ]
      },
      {
       "output_type": "stream",
       "stream": "stdout",
       "text": [
        " : http://www.fht360.com/productlist/442-5-2137.html\n",
        "1.61"
       ]
      },
      {
       "output_type": "stream",
       "stream": "stdout",
       "text": [
        " : http://www.fht360.com/companylist/165/3-3-1500.html\n",
        "0.67"
       ]
      },
      {
       "output_type": "stream",
       "stream": "stdout",
       "text": [
        " : http://www.fht360.com/productlist/341-4-860.html\n",
        "0.54"
       ]
      },
      {
       "output_type": "stream",
       "stream": "stdout",
       "text": [
        " : http://www.fht360.com/productlist/377-4-860.html\n",
        "0.72"
       ]
      },
      {
       "output_type": "stream",
       "stream": "stdout",
       "text": [
        " : http://www.fht360.com/companylist/44-3-1487.html\n",
        "0.29"
       ]
      },
      {
       "output_type": "stream",
       "stream": "stdout",
       "text": [
        " : http://www.fht360.com/productlist/239/12098-5.html\n",
        "0.60"
       ]
      },
      {
       "output_type": "stream",
       "stream": "stdout",
       "text": [
        " : http://www.fht360.com/companylist/181/10293-2.html\n",
        "1.68"
       ]
      },
      {
       "output_type": "stream",
       "stream": "stdout",
       "text": [
        " : http://www.fht360.com/productlist/242/14608-14.html\n",
        "1.53"
       ]
      },
      {
       "output_type": "stream",
       "stream": "stdout",
       "text": [
        " : http://www.fht360.com/companylist/160/10270-2.html\n",
        "0.31"
       ]
      },
      {
       "output_type": "stream",
       "stream": "stdout",
       "text": [
        " : http://www.fht360.com/productlist/236/8356-2.html\n",
        "0.67"
       ]
      },
      {
       "output_type": "stream",
       "stream": "stdout",
       "text": [
        " : http://www.fht360.com/companylist/47/10020-2.html\n",
        "0.34"
       ]
      },
      {
       "output_type": "stream",
       "stream": "stdout",
       "text": [
        " : http://www.fht360.com/productlist/231/455-4.html\n",
        "1.64"
       ]
      },
      {
       "output_type": "stream",
       "stream": "stdout",
       "text": [
        " : http://www.fht360.com/productlist/331/10010-2-1487.html\n",
        "0.88"
       ]
      },
      {
       "output_type": "stream",
       "stream": "stdout",
       "text": [
        " : http://www.fht360.com/productlist/245/7898-2-880.html\n",
        "0.58"
       ]
      },
      {
       "output_type": "stream",
       "stream": "stdout",
       "text": [
        " : http://www.fht360.com/productlist/312/7239-2-2137.html\n",
        "0.61"
       ]
      },
      {
       "output_type": "stream",
       "stream": "stdout",
       "text": [
        " : http://www.fht360.com/productlist/250/14-2-1662.html\n",
        "0.55"
       ]
      },
      {
       "output_type": "stream",
       "stream": "stdout",
       "text": [
        " : http://www.fht360.com/companylist/183/10723-2.html\n",
        "0.28"
       ]
      },
      {
       "output_type": "stream",
       "stream": "stdout",
       "text": [
        " : http://www.fht360.com/productlist/387/28-13-1487.html\n",
        "0.61"
       ]
      },
      {
       "output_type": "stream",
       "stream": "stdout",
       "text": [
        " : http://www.fht360.com/productlist/401-2-1122.html\n",
        "0.66"
       ]
      },
      {
       "output_type": "stream",
       "stream": "stdout",
       "text": [
        " : http://www.fht360.com/companylist/37-2-927.html\n",
        "0.52"
       ]
      },
      {
       "output_type": "stream",
       "stream": "stdout",
       "text": [
        " : http://www.fht360.com/productlist/351/13755-2.html\n",
        "0.49"
       ]
      },
      {
       "output_type": "stream",
       "stream": "stdout",
       "text": [
        " : http://www.fht360.com/productlist/437/12242-2-880.html\n",
        "0.17"
       ]
      },
      {
       "output_type": "stream",
       "stream": "stdout",
       "text": [
        " : http://www.fht360.com/productlist/433/15417-24.html\n",
        "0.71"
       ]
      },
      {
       "output_type": "stream",
       "stream": "stdout",
       "text": [
        " : http://www.fht360.com/companylist/45-2-39.html\n",
        "0.98"
       ]
      },
      {
       "output_type": "stream",
       "stream": "stdout",
       "text": [
        " : http://www.fht360.com/companylist/90/10364-2.html\n",
        "0.79"
       ]
      },
      {
       "output_type": "stream",
       "stream": "stdout",
       "text": [
        " : http://www.fht360.com/productlist/433/15238-2-1487.html\n",
        "0.46"
       ]
      },
      {
       "output_type": "stream",
       "stream": "stdout",
       "text": [
        " : http://www.fht360.com/productlist/231/15724-2-1487.html\n",
        "0.39"
       ]
      },
      {
       "output_type": "stream",
       "stream": "stdout",
       "text": [
        " : http://www.fht360.com/productlist/362/13755-2-2137.html\n",
        "1.02"
       ]
      },
      {
       "output_type": "stream",
       "stream": "stdout",
       "text": [
        " : http://www.fht360.com/companylist/48-8-927.html\n",
        "1.17"
       ]
      },
      {
       "output_type": "stream",
       "stream": "stdout",
       "text": [
        " : http://www.fht360.com/companylist/111-2.html\n",
        "2.33"
       ]
      },
      {
       "output_type": "stream",
       "stream": "stdout",
       "text": [
        " : http://www.fht360.com/companylist/112-2.html\n",
        "0.77"
       ]
      },
      {
       "output_type": "stream",
       "stream": "stdout",
       "text": [
        " : http://www.fht360.com/companylist/114-4.html\n",
        "2.36"
       ]
      },
      {
       "output_type": "stream",
       "stream": "stdout",
       "text": [
        " : http://www.fht360.com/companylist/117-2.html\n",
        "1.62"
       ]
      },
      {
       "output_type": "stream",
       "stream": "stdout",
       "text": [
        " : http://www.fht360.com/companylist/119-2.html\n",
        "1.35"
       ]
      },
      {
       "output_type": "stream",
       "stream": "stdout",
       "text": [
        " : http://www.fht360.com/productlist/233/7239-2-1122.html\n",
        "1.62"
       ]
      },
      {
       "output_type": "stream",
       "stream": "stdout",
       "text": [
        " : http://www.fht360.com/productlist/234/288-12-880.html\n",
        "0.54"
       ]
      },
      {
       "output_type": "stream",
       "stream": "stdout",
       "text": [
        " : http://www.fht360.com/companylist/201/10635-2.html\n",
        "0.44"
       ]
      },
      {
       "output_type": "stream",
       "stream": "stdout",
       "text": [
        " : http://www.fht360.com/productlist/367/13511-4-2137.html\n",
        "0.58"
       ]
      },
      {
       "output_type": "stream",
       "stream": "stdout",
       "text": [
        " : http://www.fht360.com/companylist/40/10359-2.html\n",
        "0.50"
       ]
      },
      {
       "output_type": "stream",
       "stream": "stdout",
       "text": [
        " : http://www.fht360.com/companylist/128/10079-2.html\n",
        "0.45"
       ]
      },
      {
       "output_type": "stream",
       "stream": "stdout",
       "text": [
        " : http://www.fht360.com/productlist/226/16102-2-39.html\n",
        "0.33"
       ]
      },
      {
       "output_type": "stream",
       "stream": "stdout",
       "text": [
        " : http://www.fht360.com/productlist/266-2-1987.html\n",
        "0.76"
       ]
      },
      {
       "output_type": "stream",
       "stream": "stdout",
       "text": [
        " : http://www.fht360.com/companylist/39/10519-2-2164.html\n",
        "0.57"
       ]
      },
      {
       "output_type": "stream",
       "stream": "stdout",
       "text": [
        " : http://www.fht360.com/productlist/228/8205-3.html\n",
        "0.43"
       ]
      },
      {
       "output_type": "stream",
       "stream": "stdout",
       "text": [
        " : http://www.fht360.com/productlist/328-2-1.html\n",
        "0.48"
       ]
      },
      {
       "output_type": "stream",
       "stream": "stdout",
       "text": [
        " : http://www.fht360.com/companylist/165/3-2-3065.html\n",
        "0.44"
       ]
      },
      {
       "output_type": "stream",
       "stream": "stdout",
       "text": [
        " : http://www.fht360.com/productlist/290-2-2137.html\n",
        "0.35"
       ]
      },
      {
       "output_type": "stream",
       "stream": "stdout",
       "text": [
        " : http://www.fht360.com/productlist/429/14807-2.html\n",
        "0.44"
       ]
      },
      {
       "output_type": "stream",
       "stream": "stdout",
       "text": [
        " : http://www.fht360.com/productlist/424/12292-2-2137.html\n",
        "0.30"
       ]
      },
      {
       "output_type": "stream",
       "stream": "stdout",
       "text": [
        " : http://www.fht360.com/productlist/251/16766-2.html\n",
        "0.60"
       ]
      },
      {
       "output_type": "stream",
       "stream": "stdout",
       "text": [
        " : http://www.fht360.com/companylist/44/10019-2.html\n",
        "0.91"
       ]
      },
      {
       "output_type": "stream",
       "stream": "stdout",
       "text": [
        " : http://www.fht360.com/productlist/424/2-5-499.html\n",
        "3.53"
       ]
      },
      {
       "output_type": "stream",
       "stream": "stdout",
       "text": [
        " : http://www.fht360.com/companylist/44/10012-2.html\n",
        "0.66"
       ]
      },
      {
       "output_type": "stream",
       "stream": "stdout",
       "text": [
        " : http://www.fht360.com/companylist/44/10011-2.html\n",
        "0.56"
       ]
      },
      {
       "output_type": "stream",
       "stream": "stdout",
       "text": [
        " : http://www.fht360.com/companylist/44/10014-2.html\n",
        "0.40"
       ]
      },
      {
       "output_type": "stream",
       "stream": "stdout",
       "text": [
        " : http://www.fht360.com/productlist/274/97-4-39.html\n",
        "0.49"
       ]
      },
      {
       "output_type": "stream",
       "stream": "stdout",
       "text": [
        " : http://www.fht360.com/productlist/260/8-5-2137.html\n",
        "1.50"
       ]
      },
      {
       "output_type": "stream",
       "stream": "stdout",
       "text": [
        " : http://www.fht360.com/productlist/429-2-880.html\n",
        "0.63"
       ]
      },
      {
       "output_type": "stream",
       "stream": "stdout",
       "text": [
        " : http://www.fht360.com/productlist/239/11053-2-1487.html\n",
        "1.07"
       ]
      },
      {
       "output_type": "stream",
       "stream": "stdout",
       "text": [
        " : http://www.fht360.com/productlist/334/33-2-2137.html\n",
        "3.92"
       ]
      },
      {
       "output_type": "stream",
       "stream": "stdout",
       "text": [
        " : http://www.fht360.com/productlist/293/820-2-880.html\n",
        "1.34"
       ]
      },
      {
       "output_type": "stream",
       "stream": "stdout",
       "text": [
        " : http://www.fht360.com/companylist/164/3-2-2279.html\n",
        "0.80"
       ]
      },
      {
       "output_type": "stream",
       "stream": "stdout",
       "text": [
        " : http://www.fht360.com/companylist/164/3-15-2278.html\n",
        "0.49"
       ]
      },
      {
       "output_type": "stream",
       "stream": "stdout",
       "text": [
        " : http://www.fht360.com/productlist/415/93-6-39.html\n",
        "2.28"
       ]
      },
      {
       "output_type": "stream",
       "stream": "stdout",
       "text": [
        " : http://www.fht360.com/productlist/282-2-2137.html\n",
        "1.71"
       ]
      },
      {
       "output_type": "stream",
       "stream": "stdout",
       "text": [
        " : http://www.fht360.com/productlist/239-28-2137.html\n",
        "0.77"
       ]
      },
      {
       "output_type": "stream",
       "stream": "stdout",
       "text": [
        " : http://www.fht360.com/productlist/285-2-860.html\n",
        "0.31"
       ]
      },
      {
       "output_type": "stream",
       "stream": "stdout",
       "text": [
        " : http://www.fht360.com/productlist/334-3-499.html\n",
        "0.81"
       ]
      },
      {
       "output_type": "stream",
       "stream": "stdout",
       "text": [
        " : http://www.fht360.com/productlist/227/10511-17-2137.html\n",
        "0.78"
       ]
      },
      {
       "output_type": "stream",
       "stream": "stdout",
       "text": [
        " : http://www.fht360.com/productlist/427/12187-6.html\n",
        "1.15"
       ]
      },
      {
       "output_type": "stream",
       "stream": "stdout",
       "text": [
        " : http://www.fht360.com/productlist/239/310-2-1487.html\n",
        "2.35"
       ]
      },
      {
       "output_type": "stream",
       "stream": "stdout",
       "text": [
        " : http://www.fht360.com/productlist/226/10823-4-1487.html\n",
        "0.82"
       ]
      },
      {
       "output_type": "stream",
       "stream": "stdout",
       "text": [
        " : http://www.fht360.com/productlist/239/710-3-1487.html\n",
        "0.25"
       ]
      },
      {
       "output_type": "stream",
       "stream": "stdout",
       "text": [
        " : http://www.fht360.com/productlist/364-5-2137.html\n",
        "0.71"
       ]
      },
      {
       "output_type": "stream",
       "stream": "stdout",
       "text": [
        " : http://www.fht360.com/productlist/387/15552-7.html\n",
        "0.68"
       ]
      },
      {
       "output_type": "stream",
       "stream": "stdout",
       "text": [
        " : http://www.fht360.com/productlist/255/656-2.html\n",
        "0.71"
       ]
      },
      {
       "output_type": "stream",
       "stream": "stdout",
       "text": [
        " : http://www.fht360.com/productlist/356/13332-5-2137.html\n",
        "0.77"
       ]
      },
      {
       "output_type": "stream",
       "stream": "stdout",
       "text": [
        " : http://www.fht360.com/productlist/356/13330-2-1260.html\n",
        "0.82"
       ]
      },
      {
       "output_type": "stream",
       "stream": "stdout",
       "text": [
        " : http://www.fht360.com/productlist/231/15883-8-1487.html\n",
        "0.26"
       ]
      },
      {
       "output_type": "stream",
       "stream": "stdout",
       "text": [
        " : http://www.fht360.com/productlist/293-3-1662.html\n",
        "0.68"
       ]
      },
      {
       "output_type": "stream",
       "stream": "stdout",
       "text": [
        " : http://www.fht360.com/productlist/247-5-1009.html\n",
        "0.59"
       ]
      },
      {
       "output_type": "stream",
       "stream": "stdout",
       "text": [
        " : http://www.fht360.com/productlist/303/9392-2-1487.html\n",
        "0.63"
       ]
      },
      {
       "output_type": "stream",
       "stream": "stdout",
       "text": [
        " : http://www.fht360.com/productlist/297-2-860.html\n",
        "0.28"
       ]
      },
      {
       "output_type": "stream",
       "stream": "stdout",
       "text": [
        " : http://www.fht360.com/productlist/226-9-1122.html\n",
        "0.45"
       ]
      },
      {
       "output_type": "stream",
       "stream": "stdout",
       "text": [
        " : http://www.fht360.com/productlist/372/14206-3.html\n",
        "1.10"
       ]
      },
      {
       "output_type": "stream",
       "stream": "stdout",
       "text": [
        " : http://www.fht360.com/productlist/231/15793-3-1122.html\n",
        "0.30"
       ]
      },
      {
       "output_type": "stream",
       "stream": "stdout",
       "text": [
        " : http://www.fht360.com/productlist/226-3-1987.html\n",
        "0.48"
       ]
      },
      {
       "output_type": "stream",
       "stream": "stdout",
       "text": [
        " : http://www.fht360.com/productlist/248/284-3.html\n",
        "0.12"
       ]
      },
      {
       "output_type": "stream",
       "stream": "stdout",
       "text": [
        " : http://www.fht360.com/productlist/248/285-2.html\n",
        "0.78"
       ]
      },
      {
       "output_type": "stream",
       "stream": "stdout",
       "text": [
        " : http://www.fht360.com/productlist/241-10-880.html\n",
        "0.63"
       ]
      },
      {
       "output_type": "stream",
       "stream": "stdout",
       "text": [
        " : http://www.fht360.com/companylist/165/3-45-2137.html\n",
        "0.47"
       ]
      },
      {
       "output_type": "stream",
       "stream": "stdout",
       "text": [
        " : http://www.fht360.com/companylist/165/3-10-2138.html\n",
        "1.24"
       ]
      },
      {
       "output_type": "stream",
       "stream": "stdout",
       "text": [
        " : http://www.fht360.com/productlist/329-2-2137.html\n",
        "0.46"
       ]
      },
      {
       "output_type": "stream",
       "stream": "stdout",
       "text": [
        " : http://www.fht360.com/productlist/227/3498-3.html\n",
        "0.67"
       ]
      },
      {
       "output_type": "stream",
       "stream": "stdout",
       "text": [
        " : http://www.fht360.com/companylist/52/10958-2.html\n",
        "0.54"
       ]
      },
      {
       "output_type": "stream",
       "stream": "stdout",
       "text": [
        " : http://www.fht360.com/companylist/34/10406-2.html\n",
        "0.67"
       ]
      },
      {
       "output_type": "stream",
       "stream": "stdout",
       "text": [
        " : http://www.fht360.com/companylist/34/10404-2.html\n",
        "0.56"
       ]
      },
      {
       "output_type": "stream",
       "stream": "stdout",
       "text": [
        " : http://www.fht360.com/companylist/34/10403-2.html\n",
        "0.50"
       ]
      },
      {
       "output_type": "stream",
       "stream": "stdout",
       "text": [
        " : http://www.fht360.com/companylist/34/10402-2.html\n",
        "0.84"
       ]
      },
      {
       "output_type": "stream",
       "stream": "stdout",
       "text": [
        " : http://www.fht360.com/companylist/162-3-1857.html\n",
        "0.49"
       ]
      },
      {
       "output_type": "stream",
       "stream": "stdout",
       "text": [
        " : http://www.fht360.com/companylist/162-2-1581.html\n",
        "0.71"
       ]
      },
      {
       "output_type": "stream",
       "stream": "stdout",
       "text": [
        " : http://www.fht360.com/productlist/351/13535-2-2137.html\n",
        "0.95"
       ]
      },
      {
       "output_type": "stream",
       "stream": "stdout",
       "text": [
        " : http://www.fht360.com/productlist/435-8-1487.html\n",
        "1.02"
       ]
      },
      {
       "output_type": "stream",
       "stream": "stdout",
       "text": [
        " : http://www.fht360.com/productlist/351/13540-3.html\n",
        "0.86"
       ]
      },
      {
       "output_type": "stream",
       "stream": "stdout",
       "text": [
        " : http://www.fht360.com/productlist/326/69-3-880.html\n",
        "0.60"
       ]
      },
      {
       "output_type": "stream",
       "stream": "stdout",
       "text": [
        " : http://www.fht360.com/productlist/226/11590-5-2137.html\n",
        "0.75"
       ]
      },
      {
       "output_type": "stream",
       "stream": "stdout",
       "text": [
        " : http://www.fht360.com/productlist/235-2-706.html\n",
        "0.47"
       ]
      },
      {
       "output_type": "stream",
       "stream": "stdout",
       "text": [
        " : http://www.fht360.com/companylist/167-2-1364.html\n",
        "0.63"
       ]
      },
      {
       "output_type": "stream",
       "stream": "stdout",
       "text": [
        " : http://www.fht360.com/productlist/263-2-2137.html\n",
        "1.28"
       ]
      },
      {
       "output_type": "stream",
       "stream": "stdout",
       "text": [
        " : http://www.fht360.com/productlist/239/3562-2-1487.html\n",
        "1.64"
       ]
      },
      {
       "output_type": "stream",
       "stream": "stdout",
       "text": [
        " : http://www.fht360.com/companylist/52/10928-2-1376.html\n",
        "1.08"
       ]
      },
      {
       "output_type": "stream",
       "stream": "stdout",
       "text": [
        " : http://www.fht360.com/companylist/164-2-706.html\n",
        "0.72"
       ]
      },
      {
       "output_type": "stream",
       "stream": "stdout",
       "text": [
        " : http://www.fht360.com/productlist/263/308-3.html\n",
        "0.95"
       ]
      },
      {
       "output_type": "stream",
       "stream": "stdout",
       "text": [
        " : http://www.fht360.com/productlist/250/748-2-860.html\n",
        "0.15"
       ]
      },
      {
       "output_type": "stream",
       "stream": "stdout",
       "text": [
        " : http://www.fht360.com/productlist/263/303-29.html\n",
        "0.51"
       ]
      },
      {
       "output_type": "stream",
       "stream": "stdout",
       "text": [
        " : http://www.fht360.com/productlist/335/12703-2.html\n",
        "0.48"
       ]
      },
      {
       "output_type": "stream",
       "stream": "stdout",
       "text": [
        " : http://www.fht360.com/productlist/359-42-2137.html\n",
        "0.97"
       ]
      },
      {
       "output_type": "stream",
       "stream": "stdout",
       "text": [
        " : http://www.fht360.com/productlist/231/159-2-1662.html\n",
        "1.11"
       ]
      },
      {
       "output_type": "stream",
       "stream": "stdout",
       "text": [
        " : http://www.fht360.com/productlist/341/12630-5.html\n",
        "0.57"
       ]
      },
      {
       "output_type": "stream",
       "stream": "stdout",
       "text": [
        " : http://www.fht360.com/productlist/235-6-1009.html\n",
        "0.78"
       ]
      },
      {
       "output_type": "stream",
       "stream": "stdout",
       "text": [
        " : http://www.fht360.com/companylist/81-2-880.html\n",
        "1.38"
       ]
      },
      {
       "output_type": "stream",
       "stream": "stdout",
       "text": [
        " : http://www.fht360.com/productlist/260-12-1487.html\n",
        "0.69"
       ]
      },
      {
       "output_type": "stream",
       "stream": "stdout",
       "text": [
        " : http://www.fht360.com/productlist/442/14694-2.html\n",
        "0.90"
       ]
      },
      {
       "output_type": "stream",
       "stream": "stdout",
       "text": [
        " : http://www.fht360.com/productlist/277/89-92-1487.html\n",
        "1.00"
       ]
      },
      {
       "output_type": "stream",
       "stream": "stdout",
       "text": [
        " : http://www.fht360.com/productlist/324/10003-2-880.html\n",
        "0.73"
       ]
      },
      {
       "output_type": "stream",
       "stream": "stdout",
       "text": [
        " : http://www.fht360.com/productlist/286/12753-2-2137.html\n",
        "0.27"
       ]
      },
      {
       "output_type": "stream",
       "stream": "stdout",
       "text": [
        " : http://www.fht360.com/productlist/337/13504-2.html\n",
        "0.37"
       ]
      },
      {
       "output_type": "stream",
       "stream": "stdout",
       "text": [
        " : http://www.fht360.com/productlist/435/15236-2-1487.html\n",
        "0.34"
       ]
      },
      {
       "output_type": "stream",
       "stream": "stdout",
       "text": [
        " : http://www.fht360.com/productlist/324-24-860.html\n",
        "0.40"
       ]
      },
      {
       "output_type": "stream",
       "stream": "stdout",
       "text": [
        " : http://www.fht360.com/productlist/239/710-4.html\n",
        "0.54"
       ]
      },
      {
       "output_type": "stream",
       "stream": "stdout",
       "text": [
        " : http://www.fht360.com/productlist/239/703-2-1662.html\n",
        "0.50"
       ]
      },
      {
       "output_type": "stream",
       "stream": "stdout",
       "text": [
        " : http://www.fht360.com/companylist/48-2-1570.html\n",
        "1.44"
       ]
      },
      {
       "output_type": "stream",
       "stream": "stdout",
       "text": [
        " : http://www.fht360.com/companylist/51/10785-2-2137.html\n",
        "0.52"
       ]
      },
      {
       "output_type": "stream",
       "stream": "stdout",
       "text": [
        " : http://www.fht360.com/productlist/227/10511-7-1487.html\n",
        "4.03"
       ]
      },
      {
       "output_type": "stream",
       "stream": "stdout",
       "text": [
        " : http://www.fht360.com/companylist/164-2-1276.html\n",
        "1.34"
       ]
      },
      {
       "output_type": "stream",
       "stream": "stdout",
       "text": [
        " : http://www.fht360.com/productlist/234/390-4-1662.html\n",
        "0.52"
       ]
      },
      {
       "output_type": "stream",
       "stream": "stdout",
       "text": [
        " : http://www.fht360.com/productlist/432/39-4-39.html\n",
        "0.79"
       ]
      },
      {
       "output_type": "stream",
       "stream": "stdout",
       "text": [
        " : http://www.fht360.com/productlist/325-8-880.html\n",
        "0.47"
       ]
      },
      {
       "output_type": "stream",
       "stream": "stdout",
       "text": [
        " : http://www.fht360.com/productlist/427/12187-2-2137.html\n",
        "1.02"
       ]
      },
      {
       "output_type": "stream",
       "stream": "stdout",
       "text": [
        " : http://www.fht360.com/companylist/47-2-39.html\n",
        "0.62"
       ]
      },
      {
       "output_type": "stream",
       "stream": "stdout",
       "text": [
        " : http://www.fht360.com/productlist/317-2-860.html\n",
        "1.16"
       ]
      },
      {
       "output_type": "stream",
       "stream": "stdout",
       "text": [
        " : http://www.fht360.com/productlist/334-70-2137.html\n",
        "1.90"
       ]
      },
      {
       "output_type": "stream",
       "stream": "stdout",
       "text": [
        " : http://www.fht360.com/productlist/352-5-1487.html\n",
        "0.25"
       ]
      },
      {
       "output_type": "stream",
       "stream": "stdout",
       "text": [
        " : http://www.fht360.com/productlist/286/16190-2.html\n",
        "0.48"
       ]
      },
      {
       "output_type": "stream",
       "stream": "stdout",
       "text": [
        " : http://www.fht360.com/productlist/334-4-39.html\n",
        "0.52"
       ]
      },
      {
       "output_type": "stream",
       "stream": "stdout",
       "text": [
        " : http://www.fht360.com/productlist/425-2-880.html\n",
        "1.09"
       ]
      },
      {
       "output_type": "stream",
       "stream": "stdout",
       "text": [
        " : http://www.fht360.com/companylist/48/3-2-1276.html\n",
        "0.63"
       ]
      },
      {
       "output_type": "stream",
       "stream": "stdout",
       "text": [
        " : http://www.fht360.com/companylist/39-5-1009.html\n",
        "0.93"
       ]
      },
      {
       "output_type": "stream",
       "stream": "stdout",
       "text": [
        " : http://www.fht360.com/productlist/233/15982-2-880.html\n",
        "1.32"
       ]
      },
      {
       "output_type": "stream",
       "stream": "stdout",
       "text": [
        " : http://www.fht360.com/companylist/38-11.html\n",
        "0.83"
       ]
      },
      {
       "output_type": "stream",
       "stream": "stdout",
       "text": [
        " : http://www.fht360.com/companylist/39-51.html\n",
        "1.81"
       ]
      },
      {
       "output_type": "stream",
       "stream": "stdout",
       "text": [
        " : http://www.fht360.com/companylist/34-53.html\n",
        "2.35"
       ]
      },
      {
       "output_type": "stream",
       "stream": "stdout",
       "text": [
        " : http://www.fht360.com/companylist/37-44.html\n",
        "1.10"
       ]
      },
      {
       "output_type": "stream",
       "stream": "stdout",
       "text": [
        " : http://www.fht360.com/productlist/263/11994-3-1662.html\n",
        "2.46"
       ]
      },
      {
       "output_type": "stream",
       "stream": "stdout",
       "text": [
        " : http://www.fht360.com/productlist/337/12311-2-2137.html\n",
        "0.57"
       ]
      },
      {
       "output_type": "stream",
       "stream": "stdout",
       "text": [
        " : http://www.fht360.com/productlist/246/11343-3.html\n",
        "0.28"
       ]
      },
      {
       "output_type": "stream",
       "stream": "stdout",
       "text": [
        " : http://www.fht360.com/productlist/246/11349-3.html\n",
        "0.46"
       ]
      },
      {
       "output_type": "stream",
       "stream": "stdout",
       "text": [
        " : http://www.fht360.com/productlist/424/14862-3-1260.html\n",
        "0.27"
       ]
      },
      {
       "output_type": "stream",
       "stream": "stdout",
       "text": [
        " : http://www.fht360.com/productlist/361/13198-3.html\n",
        "0.72"
       ]
      },
      {
       "output_type": "stream",
       "stream": "stdout",
       "text": [
        " : http://www.fht360.com/companylist/165/3-3-1122.html\n",
        "0.35"
       ]
      },
      {
       "output_type": "stream",
       "stream": "stdout",
       "text": [
        " : http://www.fht360.com/productlist/351/13508-3.html\n",
        "0.58"
       ]
      },
      {
       "output_type": "stream",
       "stream": "stdout",
       "text": [
        " : http://www.fht360.com/companylist/40/10299-2.html\n",
        "0.71"
       ]
      },
      {
       "output_type": "stream",
       "stream": "stdout",
       "text": [
        " : http://www.fht360.com/companylist/40/10291-2.html\n",
        "0.54"
       ]
      },
      {
       "output_type": "stream",
       "stream": "stdout",
       "text": [
        " : http://www.fht360.com/companylist/40/10290-2.html\n",
        "0.87"
       ]
      },
      {
       "output_type": "stream",
       "stream": "stdout",
       "text": [
        " : http://www.fht360.com/companylist/40/10292-2.html\n",
        "0.35"
       ]
      },
      {
       "output_type": "stream",
       "stream": "stdout",
       "text": [
        " : http://www.fht360.com/productlist/244/266-8-1487.html\n",
        "0.61"
       ]
      },
      {
       "output_type": "stream",
       "stream": "stdout",
       "text": [
        " : http://www.fht360.com/companylist/59-2-860.html\n",
        "0.65"
       ]
      },
      {
       "output_type": "stream",
       "stream": "stdout",
       "text": [
        " : http://www.fht360.com/productlist/248/12007-11.html\n",
        "0.30"
       ]
      },
      {
       "output_type": "stream",
       "stream": "stdout",
       "text": [
        " : http://www.fht360.com/productlist/246/13239-2.html\n",
        "0.55"
       ]
      },
      {
       "output_type": "stream",
       "stream": "stdout",
       "text": [
        " : http://www.fht360.com/companylist/47/10642-2-2137.html\n",
        "0.64"
       ]
      },
      {
       "output_type": "stream",
       "stream": "stdout",
       "text": [
        " : http://www.fht360.com/companylist/166-2-2137.html\n",
        "0.39"
       ]
      },
      {
       "output_type": "stream",
       "stream": "stdout",
       "text": [
        " : http://www.fht360.com/productlist/226/10885-2-1487.html\n",
        "0.81"
       ]
      },
      {
       "output_type": "stream",
       "stream": "stdout",
       "text": [
        " : http://www.fht360.com/companylist/162-22-880.html\n",
        "0.61"
       ]
      },
      {
       "output_type": "stream",
       "stream": "stdout",
       "text": [
        " : http://www.fht360.com/companylist/162-2-881.html\n",
        "0.36"
       ]
      },
      {
       "output_type": "stream",
       "stream": "stdout",
       "text": [
        " : http://www.fht360.com/productlist/276-2-1857.html\n",
        "0.52"
       ]
      },
      {
       "output_type": "stream",
       "stream": "stdout",
       "text": [
        " : http://www.fht360.com/productlist/360-6-2137.html\n",
        "0.49"
       ]
      },
      {
       "output_type": "stream",
       "stream": "stdout",
       "text": [
        " : http://www.fht360.com/productlist/340-4-2137.html\n",
        "0.56"
       ]
      },
      {
       "output_type": "stream",
       "stream": "stdout",
       "text": [
        " : http://www.fht360.com/productlist/345-2-880.html\n",
        "0.29"
       ]
      },
      {
       "output_type": "stream",
       "stream": "stdout",
       "text": [
        " : http://www.fht360.com/productlist/325-10-2137.html\n",
        "0.57"
       ]
      },
      {
       "output_type": "stream",
       "stream": "stdout",
       "text": [
        " : http://www.fht360.com/companylist/164-2-1070.html\n",
        "0.51"
       ]
      },
      {
       "output_type": "stream",
       "stream": "stdout",
       "text": [
        " : http://www.fht360.com/productlist/367-2-706.html\n",
        "0.26"
       ]
      },
      {
       "output_type": "stream",
       "stream": "stdout",
       "text": [
        " : http://www.fht360.com/productlist/337/12176-9.html\n",
        "1.04"
       ]
      },
      {
       "output_type": "stream",
       "stream": "stdout",
       "text": [
        " : http://www.fht360.com/productlist/337/12177-6.html\n",
        "0.74"
       ]
      },
      {
       "output_type": "stream",
       "stream": "stdout",
       "text": [
        " : http://www.fht360.com/companylist/167/3-2-2279.html\n",
        "0.52"
       ]
      },
      {
       "output_type": "stream",
       "stream": "stdout",
       "text": [
        " : http://www.fht360.com/productlist/246/11342-2-880.html\n",
        "0.45"
       ]
      },
      {
       "output_type": "stream",
       "stream": "stdout",
       "text": [
        " : http://www.fht360.com/productlist/446/18914-2-2137.html\n",
        "0.52"
       ]
      },
      {
       "output_type": "stream",
       "stream": "stdout",
       "text": [
        " : http://www.fht360.com/companylist/132-2-2137.html\n",
        "0.72"
       ]
      },
      {
       "output_type": "stream",
       "stream": "stdout",
       "text": [
        " : http://www.fht360.com/productlist/231-10-1009.html\n",
        "0.79"
       ]
      },
      {
       "output_type": "stream",
       "stream": "stdout",
       "text": [
        " : http://www.fht360.com/productlist/362-8-2137.html\n",
        "1.03"
       ]
      },
      {
       "output_type": "stream",
       "stream": "stdout",
       "text": [
        " : http://www.fht360.com/companylist/57-4-880.html\n",
        "2.10"
       ]
      },
      {
       "output_type": "stream",
       "stream": "stdout",
       "text": [
        " : http://www.fht360.com/companylist/57-2-881.html\n",
        "0.27"
       ]
      },
      {
       "output_type": "stream",
       "stream": "stdout",
       "text": [
        " : http://www.fht360.com/productlist/233/655-2-880.html\n",
        "0.93"
       ]
      },
      {
       "output_type": "stream",
       "stream": "stdout",
       "text": [
        " : http://www.fht360.com/productlist/362/13540-3.html\n",
        "0.95"
       ]
      },
      {
       "output_type": "stream",
       "stream": "stdout",
       "text": [
        " : http://www.fht360.com/companylist/137/10178-2.html\n",
        "0.73"
       ]
      },
      {
       "output_type": "stream",
       "stream": "stdout",
       "text": [
        " : http://www.fht360.com/companylist/137/10176-2.html\n",
        "0.60"
       ]
      },
      {
       "output_type": "stream",
       "stream": "stdout",
       "text": [
        " : http://www.fht360.com/productlist/246/14807-2-1.html\n",
        "0.75"
       ]
      },
      {
       "output_type": "stream",
       "stream": "stdout",
       "text": [
        " : http://www.fht360.com/productlist/247-1-1987.html\n",
        "0.90"
       ]
      },
      {
       "output_type": "stream",
       "stream": "stdout",
       "text": [
        " : http://www.fht360.com/productlist/298/864-2-1487.html\n",
        "0.36"
       ]
      },
      {
       "output_type": "stream",
       "stream": "stdout",
       "text": [
        " : http://www.fht360.com/productlist/246-10-860.html\n",
        "1.18"
       ]
      },
      {
       "output_type": "stream",
       "stream": "stdout",
       "text": [
        " : http://www.fht360.com/companylist/48-7-2169.html\n",
        "0.68"
       ]
      },
      {
       "output_type": "stream",
       "stream": "stdout",
       "text": [
        " : http://www.fht360.com/companylist/48-15-2164.html\n",
        "0.66"
       ]
      },
      {
       "output_type": "stream",
       "stream": "stdout",
       "text": [
        " : http://www.fht360.com/productlist/328/12465-4-1260.html\n",
        "1.44"
       ]
      },
      {
       "output_type": "stream",
       "stream": "stdout",
       "text": [
        " : http://www.fht360.com/productlist/337-36-2137.html\n",
        "2.81"
       ]
      },
      {
       "output_type": "stream",
       "stream": "stdout",
       "text": [
        " : http://www.fht360.com/productlist/227/10511-2-1364.html\n",
        "1.05"
       ]
      },
      {
       "output_type": "stream",
       "stream": "stdout",
       "text": [
        " : http://www.fht360.com/companylist/209-2-1662.html\n",
        "4.52"
       ]
      },
      {
       "output_type": "stream",
       "stream": "stdout",
       "text": [
        " : http://www.fht360.com/productlist/352/14157-4.html\n",
        "2.11"
       ]
      },
      {
       "output_type": "stream",
       "stream": "stdout",
       "text": [
        " : http://www.fht360.com/productlist/359/12329-36.html\n",
        "1.73"
       ]
      },
      {
       "output_type": "stream",
       "stream": "stdout",
       "text": [
        " : http://www.fht360.com/productlist/235/16955-7.html\n",
        "2.35"
       ]
      },
      {
       "output_type": "stream",
       "stream": "stdout",
       "text": [
        " : http://www.fht360.com/productlist/236/15627-5.html\n",
        "2.38"
       ]
      },
      {
       "output_type": "stream",
       "stream": "stdout",
       "text": [
        " : http://www.fht360.com/companylist/139/10053-2-2137.html\n",
        "0.65"
       ]
      },
      {
       "output_type": "stream",
       "stream": "stdout",
       "text": [
        " : http://www.fht360.com/productlist/428/14738-2-2137.html\n",
        "2.23"
       ]
      },
      {
       "output_type": "stream",
       "stream": "stdout",
       "text": [
        " : http://www.fht360.com/productlist/424/3786-2-39.html\n",
        "1.17"
       ]
      },
      {
       "output_type": "stream",
       "stream": "stdout",
       "text": [
        " : http://www.fht360.com/productlist/283/16206-2-2137.html\n",
        "0.85"
       ]
      },
      {
       "output_type": "stream",
       "stream": "stdout",
       "text": [
        " : http://www.fht360.com/productlist/324/68-4-1487.html\n",
        "0.51"
       ]
      },
      {
       "output_type": "stream",
       "stream": "stdout",
       "text": [
        " : http://www.fht360.com/productlist/274/11137-16.html\n",
        "0.63"
       ]
      },
      {
       "output_type": "stream",
       "stream": "stdout",
       "text": [
        " : http://www.fht360.com/productlist/236/17417-3-2137.html\n",
        "0.97"
       ]
      },
      {
       "output_type": "stream",
       "stream": "stdout",
       "text": [
        " : http://www.fht360.com/companylist/142/10138-2-1487.html\n",
        "0.46"
       ]
      },
      {
       "output_type": "stream",
       "stream": "stdout",
       "text": [
        " : http://www.fht360.com/productlist/333/12646-3.html\n",
        "0.67"
       ]
      },
      {
       "output_type": "stream",
       "stream": "stdout",
       "text": [
        " : http://www.fht360.com/companylist/167-6-221.html\n",
        "0.67"
       ]
      },
      {
       "output_type": "stream",
       "stream": "stdout",
       "text": [
        " : http://www.fht360.com/productlist/248/12038-10-39.html\n",
        "0.74"
       ]
      },
      {
       "output_type": "stream",
       "stream": "stdout",
       "text": [
        " : http://www.fht360.com/companylist/167-3-228.html\n",
        "0.91"
       ]
      },
      {
       "output_type": "stream",
       "stream": "stdout",
       "text": [
        " : http://www.fht360.com/productlist/336/14661-4.html\n",
        "0.58"
       ]
      },
      {
       "output_type": "stream",
       "stream": "stdout",
       "text": [
        " : http://www.fht360.com/companylist/34-3-1009.html\n",
        "0.29"
       ]
      },
      {
       "output_type": "stream",
       "stream": "stdout",
       "text": [
        " : http://www.fht360.com/productlist/356-8-1009.html\n",
        "0.60"
       ]
      },
      {
       "output_type": "stream",
       "stream": "stdout",
       "text": [
        " : http://www.fht360.com/productlist/260/677-8.html\n",
        "0.57"
       ]
      },
      {
       "output_type": "stream",
       "stream": "stdout",
       "text": [
        " : http://www.fht360.com/productlist/281/400-2.html\n",
        "1.46"
       ]
      },
      {
       "output_type": "stream",
       "stream": "stdout",
       "text": [
        " : http://www.fht360.com/productlist/354-2-1009.html\n",
        "1.11"
       ]
      },
      {
       "output_type": "stream",
       "stream": "stdout",
       "text": [
        " : http://www.fht360.com/productlist/324/11675-12.html\n",
        "1.40"
       ]
      },
      {
       "output_type": "stream",
       "stream": "stdout",
       "text": [
        " : http://www.fht360.com/companylist/49-3-1487.html\n",
        "0.75"
       ]
      },
      {
       "output_type": "stream",
       "stream": "stdout",
       "text": [
        " : http://www.fht360.com/companylist/247/10810-2.html\n",
        "0.63"
       ]
      },
      {
       "output_type": "stream",
       "stream": "stdout",
       "text": [
        " : http://www.fht360.com/companylist/247/10814-2.html\n",
        "1.19"
       ]
      },
      {
       "output_type": "stream",
       "stream": "stdout",
       "text": [
        " : http://www.fht360.com/productlist/341/3104-2.html\n",
        "1.82"
       ]
      },
      {
       "output_type": "stream",
       "stream": "stdout",
       "text": [
        " : http://www.fht360.com/productlist/231/15724-2-880.html\n",
        "3.06"
       ]
      },
      {
       "output_type": "stream",
       "stream": "stdout",
       "text": [
        " : http://www.fht360.com/productlist/245/11631-2.html\n",
        "2.41"
       ]
      },
      {
       "output_type": "stream",
       "stream": "stdout",
       "text": [
        " : http://www.fht360.com/companylist/48/3-2-230.html\n",
        "0.45"
       ]
      },
      {
       "output_type": "stream",
       "stream": "stdout",
       "text": [
        " : http://www.fht360.com/productlist/387-2-1009.html\n",
        "1.03"
       ]
      },
      {
       "output_type": "stream",
       "stream": "stdout",
       "text": [
        " : http://www.fht360.com/productlist/231/16292-3-39.html\n",
        "1.22"
       ]
      },
      {
       "output_type": "stream",
       "stream": "stdout",
       "text": [
        " : http://www.fht360.com/productlist/331/10008-3.html\n",
        "0.72"
       ]
      },
      {
       "output_type": "stream",
       "stream": "stdout",
       "text": [
        " : http://www.fht360.com/productlist/228/8206-2-1662.html\n",
        "1.04"
       ]
      },
      {
       "output_type": "stream",
       "stream": "stdout",
       "text": [
        " : http://www.fht360.com/productlist/234/15613-2-1487.html\n",
        "1.67"
       ]
      },
      {
       "output_type": "stream",
       "stream": "stdout",
       "text": [
        " : http://www.fht360.com/companylist/40-2-2164.html\n",
        "0.54"
       ]
      },
      {
       "output_type": "stream",
       "stream": "stdout",
       "text": [
        " : http://www.fht360.com/companylist/167/3-3-1067.html\n",
        "0.68"
       ]
      },
      {
       "output_type": "stream",
       "stream": "stdout",
       "text": [
        " : http://www.fht360.com/companylist/164-2-230.html\n",
        "0.73"
       ]
      },
      {
       "output_type": "stream",
       "stream": "stdout",
       "text": [
        " : http://www.fht360.com/companylist/48-2-1100.html\n",
        "0.94"
       ]
      },
      {
       "output_type": "stream",
       "stream": "stdout",
       "text": [
        " : http://www.fht360.com/companylist/46/10260-2-39.html\n",
        "1.09"
       ]
      },
      {
       "output_type": "stream",
       "stream": "stdout",
       "text": [
        " : http://www.fht360.com/companylist/137-4-880.html\n",
        "0.56"
       ]
      },
      {
       "output_type": "stream",
       "stream": "stdout",
       "text": [
        " : http://www.fht360.com/productlist/283/17108-2-1857.html\n",
        "0.43"
       ]
      },
      {
       "output_type": "stream",
       "stream": "stdout",
       "text": [
        " : http://www.fht360.com/productlist/410-27.html\n",
        "0.47"
       ]
      },
      {
       "output_type": "stream",
       "stream": "stdout",
       "text": [
        " : http://www.fht360.com/productlist/413-6.html\n",
        "1.34"
       ]
      },
      {
       "output_type": "stream",
       "stream": "stdout",
       "text": [
        " : http://www.fht360.com/productlist/416-2.html\n",
        "1.49"
       ]
      },
      {
       "output_type": "stream",
       "stream": "stdout",
       "text": [
        " : http://www.fht360.com/productlist/313/11104-10.html\n",
        "0.53"
       ]
      },
      {
       "output_type": "stream",
       "stream": "stdout",
       "text": [
        " : http://www.fht360.com/productlist/248-3-860.html\n",
        "1.43"
       ]
      },
      {
       "output_type": "stream",
       "stream": "stdout",
       "text": [
        " : http://www.fht360.com/companylist/164-2-499.html\n",
        "1.69"
       ]
      },
      {
       "output_type": "stream",
       "stream": "stdout",
       "text": [
        " : http://www.fht360.com/productlist/329/7674-3.html\n",
        "3.38"
       ]
      },
      {
       "output_type": "stream",
       "stream": "stdout",
       "text": [
        " : http://www.fht360.com/productlist/228-1-2830.html\n",
        "2.76"
       ]
      },
      {
       "output_type": "stream",
       "stream": "stdout",
       "text": [
        " : http://www.fht360.com/companylist/48/3-13-1009.html\n",
        "0.89"
       ]
      },
      {
       "output_type": "stream",
       "stream": "stdout",
       "text": [
        " : http://www.fht360.com/productlist/231/16045-17.html\n",
        "0.62"
       ]
      },
      {
       "output_type": "stream",
       "stream": "stdout",
       "text": [
        " : http://www.fht360.com/productlist/231/16044-2.html\n",
        "0.63"
       ]
      },
      {
       "output_type": "stream",
       "stream": "stdout",
       "text": [
        " : http://www.fht360.com/productlist/246/13451-5.html\n",
        "1.93"
       ]
      },
      {
       "output_type": "stream",
       "stream": "stdout",
       "text": [
        " : http://www.fht360.com/companylist/123/10925-2.html\n",
        "0.58"
       ]
      },
      {
       "output_type": "stream",
       "stream": "stdout",
       "text": [
        " : http://www.fht360.com/productlist/246/13457-6.html\n",
        "0.63"
       ]
      },
      {
       "output_type": "stream",
       "stream": "stdout",
       "text": [
        " : http://www.fht360.com/companylist/165-5-2186.html\n",
        "0.98"
       ]
      },
      {
       "output_type": "stream",
       "stream": "stdout",
       "text": [
        " : http://www.fht360.com/companylist/165-2-2189.html\n",
        "1.22"
       ]
      },
      {
       "output_type": "stream",
       "stream": "stdout",
       "text": [
        " : http://www.fht360.com/companylist/89-2-1487.html\n",
        "0.71"
       ]
      },
      {
       "output_type": "stream",
       "stream": "stdout",
       "text": [
        " : http://www.fht360.com/companylist/155/10642-2.html\n",
        "0.53"
       ]
      },
      {
       "output_type": "stream",
       "stream": "stdout",
       "text": [
        " : http://www.fht360.com/companylist/66/10202-2.html\n",
        "0.47"
       ]
      },
      {
       "output_type": "stream",
       "stream": "stdout",
       "text": [
        " : http://www.fht360.com/companylist/162/3-2-1025.html\n",
        "0.81"
       ]
      },
      {
       "output_type": "stream",
       "stream": "stdout",
       "text": [
        " : http://www.fht360.com/productlist/341/12818-3.html\n",
        "0.27"
       ]
      },
      {
       "output_type": "stream",
       "stream": "stdout",
       "text": [
        " : http://www.fht360.com/productlist/359/12348-3.html\n",
        "0.24"
       ]
      },
      {
       "output_type": "stream",
       "stream": "stdout",
       "text": [
        " : http://www.fht360.com/productlist/359/12347-12.html\n",
        "0.35"
       ]
      },
      {
       "output_type": "stream",
       "stream": "stdout",
       "text": [
        " : http://www.fht360.com/productlist/359/12343-2.html\n",
        "0.56"
       ]
      },
      {
       "output_type": "stream",
       "stream": "stdout",
       "text": [
        " : http://www.fht360.com/productlist/316-3-1122.html\n",
        "0.34"
       ]
      },
      {
       "output_type": "stream",
       "stream": "stdout",
       "text": [
        " : http://www.fht360.com/productlist/248/11993-4.html\n",
        "0.33"
       ]
      },
      {
       "output_type": "stream",
       "stream": "stdout",
       "text": [
        " : http://www.fht360.com/productlist/274-3-1.html\n",
        "0.57"
       ]
      },
      {
       "output_type": "stream",
       "stream": "stdout",
       "text": [
        " : http://www.fht360.com/companylist/167/3-3-1500.html\n",
        "0.50"
       ]
      },
      {
       "output_type": "stream",
       "stream": "stdout",
       "text": [
        " : http://www.fht360.com/companylist/48-2-1668.html\n",
        "0.48"
       ]
      },
      {
       "output_type": "stream",
       "stream": "stdout",
       "text": [
        " : http://www.fht360.com/companylist/48-11-1662.html\n",
        "0.50"
       ]
      },
      {
       "output_type": "stream",
       "stream": "stdout",
       "text": [
        " : http://www.fht360.com/companylist/48-6-1663.html\n",
        "0.59"
       ]
      },
      {
       "output_type": "stream",
       "stream": "stdout",
       "text": [
        " : http://www.fht360.com/companylist/49-2-1010.html\n",
        "3.48"
       ]
      },
      {
       "output_type": "stream",
       "stream": "stdout",
       "text": [
        " : http://www.fht360.com/productlist/385/6-190-1487.html\n",
        "1.76"
       ]
      },
      {
       "output_type": "stream",
       "stream": "stdout",
       "text": [
        " : http://www.fht360.com/productlist/279-13-2137.html\n",
        "0.95"
       ]
      },
      {
       "output_type": "stream",
       "stream": "stdout",
       "text": [
        " : http://www.fht360.com/companylist/167/3-4-1.html\n",
        "0.77"
       ]
      },
      {
       "output_type": "stream",
       "stream": "stdout",
       "text": [
        " : http://www.fht360.com/productlist/261/298-2-880.html\n",
        "0.89"
       ]
      },
      {
       "output_type": "stream",
       "stream": "stdout",
       "text": [
        " : http://www.fht360.com/productlist/266/10320-12.html\n",
        "1.56"
       ]
      },
      {
       "output_type": "stream",
       "stream": "stdout",
       "text": [
        " : http://www.fht360.com/productlist/293/10425-2-39.html\n",
        "0.99"
       ]
      },
      {
       "output_type": "stream",
       "stream": "stdout",
       "text": [
        " : http://www.fht360.com/productlist/286/17348-2-2137.html\n",
        "0.80"
       ]
      },
      {
       "output_type": "stream",
       "stream": "stdout",
       "text": [
        " : http://www.fht360.com/productlist/343-2-1.html\n",
        "3.34"
       ]
      },
      {
       "output_type": "stream",
       "stream": "stdout",
       "text": [
        " : http://www.fht360.com/companylist/139/10055-2.html\n",
        "1.82"
       ]
      },
      {
       "output_type": "stream",
       "stream": "stdout",
       "text": [
        " : http://www.fht360.com/companylist/139/10051-2.html\n",
        "1.90"
       ]
      },
      {
       "output_type": "stream",
       "stream": "stdout",
       "text": [
        " : http://www.fht360.com/companylist/139/10053-2.html\n",
        "0.92"
       ]
      },
      {
       "output_type": "stream",
       "stream": "stdout",
       "text": [
        " : http://www.fht360.com/productlist/254/258-3-1487.html\n",
        "0.21"
       ]
      },
      {
       "output_type": "stream",
       "stream": "stdout",
       "text": [
        " : http://www.fht360.com/productlist/235/18456-7.html\n",
        "1.22"
       ]
      },
      {
       "output_type": "stream",
       "stream": "stdout",
       "text": [
        " : http://www.fht360.com/productlist/250/15-9-1662.html\n",
        "0.91"
       ]
      },
      {
       "output_type": "stream",
       "stream": "stdout",
       "text": [
        " : http://www.fht360.com/companylist/165/3-2-1987.html\n",
        "0.78"
       ]
      },
      {
       "output_type": "stream",
       "stream": "stdout",
       "text": [
        " : http://www.fht360.com/productlist/235-4-1857.html\n",
        "0.98"
       ]
      },
      {
       "output_type": "stream",
       "stream": "stdout",
       "text": [
        " : http://www.fht360.com/productlist/283-27-1487.html\n",
        "1.75"
       ]
      },
      {
       "output_type": "stream",
       "stream": "stdout",
       "text": [
        " : http://www.fht360.com/productlist/338-5.html\n",
        "1.09"
       ]
      },
      {
       "output_type": "stream",
       "stream": "stdout",
       "text": [
        " : http://www.fht360.com/productlist/248/707-3-1487.html\n",
        "2.04"
       ]
      },
      {
       "output_type": "stream",
       "stream": "stdout",
       "text": [
        " : http://www.fht360.com/productlist/259-7.html\n",
        "1.05"
       ]
      },
      {
       "output_type": "stream",
       "stream": "stdout",
       "text": [
        " : http://www.fht360.com/productlist/257-2.html\n",
        "0.76"
       ]
      },
      {
       "output_type": "stream",
       "stream": "stdout",
       "text": [
        " : http://www.fht360.com/productlist/256-3.html\n",
        "0.71"
       ]
      },
      {
       "output_type": "stream",
       "stream": "stdout",
       "text": [
        " : http://www.fht360.com/productlist/255-14.html\n",
        "0.64"
       ]
      },
      {
       "output_type": "stream",
       "stream": "stdout",
       "text": [
        " : http://www.fht360.com/productlist/254-41.html\n",
        "1.22"
       ]
      },
      {
       "output_type": "stream",
       "stream": "stdout",
       "text": [
        " : http://www.fht360.com/productlist/253-18.html\n",
        "1.66"
       ]
      },
      {
       "output_type": "stream",
       "stream": "stdout",
       "text": [
        " : http://www.fht360.com/productlist/252-16.html\n",
        "4.43"
       ]
      },
      {
       "output_type": "stream",
       "stream": "stdout",
       "text": [
        " : http://www.fht360.com/productlist/251-57.html\n",
        "2.46"
       ]
      },
      {
       "output_type": "stream",
       "stream": "stdout",
       "text": [
        " : http://www.fht360.com/companylist/165-2-873.html\n",
        "8.78"
       ]
      },
      {
       "output_type": "stream",
       "stream": "stdout",
       "text": [
        " : http://www.fht360.com/productlist/330-6.html\n",
        "1.02"
       ]
      },
      {
       "output_type": "stream",
       "stream": "stdout",
       "text": [
        " : http://www.fht360.com/productlist/386-2-2137.html\n",
        "0.83"
       ]
      },
      {
       "output_type": "stream",
       "stream": "stdout",
       "text": [
        " : http://www.fht360.com/productlist/227-5-1.html\n",
        "0.63"
       ]
      },
      {
       "output_type": "stream",
       "stream": "stdout",
       "text": [
        " : http://www.fht360.com/productlist/237/193-5-880.html\n",
        "0.47"
       ]
      },
      {
       "output_type": "stream",
       "stream": "stdout",
       "text": [
        " : http://www.fht360.com/productlist/287/10419-3.html\n",
        "0.58"
       ]
      },
      {
       "output_type": "stream",
       "stream": "stdout",
       "text": [
        " : http://www.fht360.com/productlist/313/17403-2.html\n",
        "0.31"
       ]
      },
      {
       "output_type": "stream",
       "stream": "stdout",
       "text": [
        " : http://www.fht360.com/productlist/246/12347-12.html\n",
        "0.31"
       ]
      },
      {
       "output_type": "stream",
       "stream": "stdout",
       "text": [
        " : http://www.fht360.com/productlist/246/12343-2.html\n",
        "0.93"
       ]
      },
      {
       "output_type": "stream",
       "stream": "stdout",
       "text": [
        " : http://www.fht360.com/companylist/112/10316-2.html\n",
        "1.29"
       ]
      },
      {
       "output_type": "stream",
       "stream": "stdout",
       "text": [
        " : http://www.fht360.com/productlist/233/16649-2-39.html\n",
        "0.72"
       ]
      },
      {
       "output_type": "stream",
       "stream": "stdout",
       "text": [
        " : http://www.fht360.com/companylist/49/10650-2.html\n",
        "0.48"
       ]
      },
      {
       "output_type": "stream",
       "stream": "stdout",
       "text": [
        " : http://www.fht360.com/companylist/164/3-10-2138.html\n",
        "0.38"
       ]
      },
      {
       "output_type": "stream",
       "stream": "stdout",
       "text": [
        " : http://www.fht360.com/productlist/227/10511-8-880.html\n",
        "0.48"
       ]
      },
      {
       "output_type": "stream",
       "stream": "stdout",
       "text": [
        " : http://www.fht360.com/companylist/164/3-45-2137.html\n",
        "1.30"
       ]
      },
      {
       "output_type": "stream",
       "stream": "stdout",
       "text": [
        " : http://www.fht360.com/companylist/167-3-1122.html\n",
        "1.13"
       ]
      },
      {
       "output_type": "stream",
       "stream": "stdout",
       "text": [
        " : http://www.fht360.com/productlist/270-2-39.html\n",
        "2.59"
       ]
      },
      {
       "output_type": "stream",
       "stream": "stdout",
       "text": [
        " : http://www.fht360.com/productlist/361/13198-2-2137.html\n",
        "1.33"
       ]
      },
      {
       "output_type": "stream",
       "stream": "stdout",
       "text": [
        " : http://www.fht360.com/productlist/228-7-1662.html\n",
        "4.62"
       ]
      },
      {
       "output_type": "stream",
       "stream": "stdout",
       "text": [
        " : http://www.fht360.com/productlist/348/10774-5-2137.html\n",
        "2.86"
       ]
      },
      {
       "output_type": "stream",
       "stream": "stdout",
       "text": [
        " : http://www.fht360.com/productlist/424/12187-6.html\n",
        "1.52"
       ]
      },
      {
       "output_type": "stream",
       "stream": "stdout",
       "text": [
        " : http://www.fht360.com/productlist/231-2-706.html\n",
        "5.41"
       ]
      },
      {
       "output_type": "stream",
       "stream": "stdout",
       "text": [
        " : http://www.fht360.com/companylist/142/10138-3.html\n",
        "1.12"
       ]
      },
      {
       "output_type": "stream",
       "stream": "stdout",
       "text": [
        " : http://www.fht360.com/productlist/226/11514-4.html\n",
        "1.45"
       ]
      },
      {
       "output_type": "stream",
       "stream": "stdout",
       "text": [
        " : http://www.fht360.com/productlist/373/14194-2.html\n",
        "1.99"
       ]
      },
      {
       "output_type": "stream",
       "stream": "stdout",
       "text": [
        " : http://www.fht360.com/productlist/354/12426-3-2137.html\n",
        "0.85"
       ]
      },
      {
       "output_type": "stream",
       "stream": "stdout",
       "text": [
        " : http://www.fht360.com/productlist/227-23-1009.html\n",
        "0.86"
       ]
      },
      {
       "output_type": "stream",
       "stream": "stdout",
       "text": [
        " : http://www.fht360.com/productlist/426/14862-2-39.html\n",
        "1.82"
       ]
      },
      {
       "output_type": "stream",
       "stream": "stdout",
       "text": [
        " : http://www.fht360.com/companylist/164-2-2190.html\n",
        "2.21"
       ]
      },
      {
       "output_type": "stream",
       "stream": "stdout",
       "text": [
        " : http://www.fht360.com/productlist/334/12438-2.html\n",
        "0.70"
       ]
      },
      {
       "output_type": "stream",
       "stream": "stdout",
       "text": [
        " : http://www.fht360.com/productlist/401/19067-5.html\n",
        "3.17"
       ]
      },
      {
       "output_type": "stream",
       "stream": "stdout",
       "text": [
        " : http://www.fht360.com/productlist/351-8-1487.html\n",
        "6.01"
       ]
      },
      {
       "output_type": "stream",
       "stream": "stdout",
       "text": [
        " : http://www.fht360.com/productlist/266-4-1662.html\n",
        "6.25"
       ]
      },
      {
       "output_type": "stream",
       "stream": "stdout",
       "text": [
        " : http://www.fht360.com/companylist/167/3-166.html\n",
        "8.82"
       ]
      },
      {
       "output_type": "stream",
       "stream": "stdout",
       "text": [
        " : http://www.fht360.com/productlist/332/2130-2.html\n",
        "6.14"
       ]
      },
      {
       "output_type": "stream",
       "stream": "stdout",
       "text": [
        " : http://www.fht360.com/companylist/164/3-3-20.html\n",
        "5.53"
       ]
      },
      {
       "output_type": "stream",
       "stream": "stdout",
       "text": [
        " : http://www.fht360.com/productlist/412-3-2137.html\n",
        "1.59"
       ]
      },
      {
       "output_type": "stream",
       "stream": "stdout",
       "text": [
        " : http://www.fht360.com/companylist/210/4-2-1662.html\n",
        "1.60"
       ]
      },
      {
       "output_type": "stream",
       "stream": "stdout",
       "text": [
        " : http://www.fht360.com/productlist/231/15786-8.html\n",
        "1.72"
       ]
      },
      {
       "output_type": "stream",
       "stream": "stdout",
       "text": [
        " : http://www.fht360.com/productlist/263/309-4-1487.html\n",
        "0.91"
       ]
      },
      {
       "output_type": "stream",
       "stream": "stdout",
       "text": [
        " : http://www.fht360.com/productlist/426-2-1987.html\n",
        "0.58"
       ]
      },
      {
       "output_type": "stream",
       "stream": "stdout",
       "text": [
        " : http://www.fht360.com/productlist/301/11722-4.html\n",
        "0.38"
       ]
      },
      {
       "output_type": "stream",
       "stream": "stdout",
       "text": [
        " : http://www.fht360.com/productlist/444/17715-2-2137.html\n",
        "0.30"
       ]
      },
      {
       "output_type": "stream",
       "stream": "stdout",
       "text": [
        " : http://www.fht360.com/productlist/311/12300-4.html\n",
        "0.36"
       ]
      },
      {
       "output_type": "stream",
       "stream": "stdout",
       "text": [
        " : http://www.fht360.com/productlist/340/1962-4-860.html\n",
        "0.48"
       ]
      },
      {
       "output_type": "stream",
       "stream": "stdout",
       "text": [
        " : http://www.fht360.com/companylist/48-3-2508.html\n",
        "0.48"
       ]
      },
      {
       "output_type": "stream",
       "stream": "stdout",
       "text": [
        " : http://www.fht360.com/companylist/48-2-2509.html\n",
        "0.26"
       ]
      },
      {
       "output_type": "stream",
       "stream": "stdout",
       "text": [
        " : http://www.fht360.com/productlist/264/392-2.html\n",
        "0.47"
       ]
      },
      {
       "output_type": "stream",
       "stream": "stdout",
       "text": [
        " : http://www.fht360.com/companylist/165-16-39.html\n",
        "0.26"
       ]
      },
      {
       "output_type": "stream",
       "stream": "stdout",
       "text": [
        " : http://www.fht360.com/productlist/286/12753-3.html\n",
        "0.48"
       ]
      },
      {
       "output_type": "stream",
       "stream": "stdout",
       "text": [
        " : http://www.fht360.com/companylist/165-2-223.html\n",
        "0.48"
       ]
      },
      {
       "output_type": "stream",
       "stream": "stdout",
       "text": [
        " : http://www.fht360.com/companylist/165-6-221.html\n",
        "0.48"
       ]
      },
      {
       "output_type": "stream",
       "stream": "stdout",
       "text": [
        " : http://www.fht360.com/companylist/165-3-228.html\n",
        "0.64"
       ]
      },
      {
       "output_type": "stream",
       "stream": "stdout",
       "text": [
        " : http://www.fht360.com/companylist/165/3-15-2278.html\n",
        "0.47"
       ]
      },
      {
       "output_type": "stream",
       "stream": "stdout",
       "text": [
        " : http://www.fht360.com/companylist/165/3-2-2279.html\n",
        "1.65"
       ]
      },
      {
       "output_type": "stream",
       "stream": "stdout",
       "text": [
        " : http://www.fht360.com/productlist/324/12421-3-39.html\n",
        "1.46"
       ]
      },
      {
       "output_type": "stream",
       "stream": "stdout",
       "text": [
        " : http://www.fht360.com/productlist/250/17-2-880.html\n",
        "0.29"
       ]
      },
      {
       "output_type": "stream",
       "stream": "stdout",
       "text": [
        " : http://www.fht360.com/productlist/248/707-2-39.html\n",
        "1.85"
       ]
      },
      {
       "output_type": "stream",
       "stream": "stdout",
       "text": [
        " : http://www.fht360.com/productlist/385/6-7-860.html\n",
        "1.25"
       ]
      },
      {
       "output_type": "stream",
       "stream": "stdout",
       "text": [
        " : http://www.fht360.com/productlist/283/17287-2-1009.html\n",
        "0.85"
       ]
      },
      {
       "output_type": "stream",
       "stream": "stdout",
       "text": [
        " : http://www.fht360.com/companylist/162/3-2-1581.html\n",
        "0.48"
       ]
      },
      {
       "output_type": "stream",
       "stream": "stdout",
       "text": [
        " : http://www.fht360.com/companylist/162-2-111.html\n",
        "0.41"
       ]
      },
      {
       "output_type": "stream",
       "stream": "stdout",
       "text": [
        " : http://www.fht360.com/productlist/244-1-499.html\n",
        "0.37"
       ]
      },
      {
       "output_type": "stream",
       "stream": "stdout",
       "text": [
        " : http://www.fht360.com/productlist/359/12352-2-2137.html\n",
        "0.28"
       ]
      },
      {
       "output_type": "stream",
       "stream": "stdout",
       "text": [
        " : http://www.fht360.com/productlist/228/8152-3-880.html\n",
        "0.55"
       ]
      },
      {
       "output_type": "stream",
       "stream": "stdout",
       "text": [
        " : http://www.fht360.com/productlist/280-11-1487.html\n",
        "0.50"
       ]
      },
      {
       "output_type": "stream",
       "stream": "stdout",
       "text": [
        " : http://www.fht360.com/productlist/270/2132-2-1487.html\n",
        "0.52"
       ]
      },
      {
       "output_type": "stream",
       "stream": "stdout",
       "text": [
        " : http://www.fht360.com/productlist/331/10003-8-1487.html\n",
        "0.32"
       ]
      },
      {
       "output_type": "stream",
       "stream": "stdout",
       "text": [
        " : http://www.fht360.com/productlist/238/1005-2.html\n",
        "1.14"
       ]
      },
      {
       "output_type": "stream",
       "stream": "stdout",
       "text": [
        " : http://www.fht360.com/productlist/258-2-2137.html\n",
        "0.26"
       ]
      },
      {
       "output_type": "stream",
       "stream": "stdout",
       "text": [
        " : http://www.fht360.com/productlist/344/1171-2.html\n",
        "0.31"
       ]
      },
      {
       "output_type": "stream",
       "stream": "stdout",
       "text": [
        " : http://www.fht360.com/productlist/358/4725-3.html\n",
        "0.54"
       ]
      },
      {
       "output_type": "stream",
       "stream": "stdout",
       "text": [
        " : http://www.fht360.com/productlist/284-2-880.html\n",
        "0.33"
       ]
      },
      {
       "output_type": "stream",
       "stream": "stdout",
       "text": [
        " : http://www.fht360.com/productlist/279/18808-8.html\n",
        "0.29"
       ]
      },
      {
       "output_type": "stream",
       "stream": "stdout",
       "text": [
        " : http://www.fht360.com/productlist/326/10814-6.html\n",
        "1.03"
       ]
      },
      {
       "output_type": "stream",
       "stream": "stdout",
       "text": [
        " : http://www.fht360.com/companylist/193-2-2164.html\n",
        "0.74"
       ]
      },
      {
       "output_type": "stream",
       "stream": "stdout",
       "text": [
        " : http://www.fht360.com/productlist/233/258-3-1487.html\n",
        "2.12"
       ]
      },
      {
       "output_type": "stream",
       "stream": "stdout",
       "text": [
        " : http://www.fht360.com/productlist/324/71-3-2137.html\n",
        "0.48"
       ]
      },
      {
       "output_type": "stream",
       "stream": "stdout",
       "text": [
        " : http://www.fht360.com/productlist/248/12007-3-1662.html\n",
        "0.40"
       ]
      },
      {
       "output_type": "stream",
       "stream": "stdout",
       "text": [
        " : http://www.fht360.com/productlist/226/7250-4-1122.html\n",
        "0.71"
       ]
      },
      {
       "output_type": "stream",
       "stream": "stdout",
       "text": [
        " : http://www.fht360.com/productlist/239/390-4-1662.html\n",
        "0.39"
       ]
      },
      {
       "output_type": "stream",
       "stream": "stdout",
       "text": [
        " : http://www.fht360.com/productlist/301/265-2-880.html\n",
        "0.38"
       ]
      },
      {
       "output_type": "stream",
       "stream": "stdout",
       "text": [
        " : http://www.fht360.com/productlist/227/10511-2-1987.html\n",
        "0.53"
       ]
      },
      {
       "output_type": "stream",
       "stream": "stdout",
       "text": [
        " : http://www.fht360.com/productlist/276/15161-2-880.html\n",
        "0.48"
       ]
      },
      {
       "output_type": "stream",
       "stream": "stdout",
       "text": [
        " : http://www.fht360.com/productlist/227-2-20.html\n",
        "0.28"
       ]
      },
      {
       "output_type": "stream",
       "stream": "stdout",
       "text": [
        " : http://www.fht360.com/productlist/237/227-2.html\n",
        "0.60"
       ]
      },
      {
       "output_type": "stream",
       "stream": "stdout",
       "text": [
        " : http://www.fht360.com/companylist/105/10616-2.html\n",
        "0.26"
       ]
      },
      {
       "output_type": "stream",
       "stream": "stdout",
       "text": [
        " : http://www.fht360.com/productlist/237/225-2.html\n",
        "0.43"
       ]
      },
      {
       "output_type": "stream",
       "stream": "stdout",
       "text": [
        " : http://www.fht360.com/productlist/241/346-2-880.html\n",
        "0.67"
       ]
      },
      {
       "output_type": "stream",
       "stream": "stdout",
       "text": [
        " : http://www.fht360.com/productlist/352/13810-2-39.html\n",
        "4.65"
       ]
      },
      {
       "output_type": "stream",
       "stream": "stdout",
       "text": [
        " : http://www.fht360.com/productlist/231/16045-2-2137.html\n",
        "0.43"
       ]
      },
      {
       "output_type": "stream",
       "stream": "stdout",
       "text": [
        " : http://www.fht360.com/productlist/385-25-1662.html\n",
        "1.29"
       ]
      },
      {
       "output_type": "stream",
       "stream": "stdout",
       "text": [
        " : http://www.fht360.com/productlist/276-8-2137.html\n",
        "0.52"
       ]
      },
      {
       "output_type": "stream",
       "stream": "stdout",
       "text": [
        " : http://www.fht360.com/productlist/259-4-1487.html\n",
        "0.75"
       ]
      },
      {
       "output_type": "stream",
       "stream": "stdout",
       "text": [
        " : http://www.fht360.com/productlist/250/1216-2-1662.html\n",
        "0.30"
       ]
      },
      {
       "output_type": "stream",
       "stream": "stdout",
       "text": [
        " : http://www.fht360.com/productlist/424/14728-3.html\n",
        "0.26"
       ]
      },
      {
       "output_type": "stream",
       "stream": "stdout",
       "text": [
        " : http://www.fht360.com/productlist/328/12465-10.html\n",
        "1.19"
       ]
      },
      {
       "output_type": "stream",
       "stream": "stdout",
       "text": [
        " : http://www.fht360.com/companylist/164/3-2-1514.html\n",
        "0.27"
       ]
      },
      {
       "output_type": "stream",
       "stream": "stdout",
       "text": [
        " : http://www.fht360.com/productlist/426/14885-2.html\n",
        "0.41"
       ]
      },
      {
       "output_type": "stream",
       "stream": "stdout",
       "text": [
        " : http://www.fht360.com/productlist/241/466-2-1487.html\n",
        "0.81"
       ]
      },
      {
       "output_type": "stream",
       "stream": "stdout",
       "text": [
        " : http://www.fht360.com/companylist/136/10072-2.html\n",
        "0.27"
       ]
      },
      {
       "output_type": "stream",
       "stream": "stdout",
       "text": [
        " : http://www.fht360.com/productlist/237-14-880.html\n",
        "0.50"
       ]
      },
      {
       "output_type": "stream",
       "stream": "stdout",
       "text": [
        " : http://www.fht360.com/companylist/162/3-2-1514.html\n",
        "0.55"
       ]
      },
      {
       "output_type": "stream",
       "stream": "stdout",
       "text": [
        " : http://www.fht360.com/companylist/162/3-166.html\n",
        "0.46"
       ]
      },
      {
       "output_type": "stream",
       "stream": "stdout",
       "text": [
        " : http://www.fht360.com/companylist/50/10814-2.html\n",
        "1.54"
       ]
      },
      {
       "output_type": "stream",
       "stream": "stdout",
       "text": [
        " : http://www.fht360.com/companylist/50/10810-2.html\n",
        "0.91"
       ]
      },
      {
       "output_type": "stream",
       "stream": "stdout",
       "text": [
        " : http://www.fht360.com/productlist/233/15982-4-2137.html\n",
        "0.52"
       ]
      },
      {
       "output_type": "stream",
       "stream": "stdout",
       "text": [
        " : http://www.fht360.com/productlist/228/8205-2-1662.html\n",
        "0.60"
       ]
      },
      {
       "output_type": "stream",
       "stream": "stdout",
       "text": [
        " : http://www.fht360.com/productlist/374/14131-2-2137.html\n",
        "1.87"
       ]
      },
      {
       "output_type": "stream",
       "stream": "stdout",
       "text": [
        " : http://www.fht360.com/productlist/369-4-2137.html\n",
        "0.94"
       ]
      },
      {
       "output_type": "stream",
       "stream": "stdout",
       "text": [
        " : http://www.fht360.com/companylist/52/10139-2.html\n",
        "0.47"
       ]
      },
      {
       "output_type": "stream",
       "stream": "stdout",
       "text": [
        " : http://www.fht360.com/productlist/395/14724-11.html\n",
        "0.56"
       ]
      },
      {
       "output_type": "stream",
       "stream": "stdout",
       "text": [
        " : http://www.fht360.com/productlist/283/94-4-39.html\n",
        "0.60"
       ]
      },
      {
       "output_type": "stream",
       "stream": "stdout",
       "text": [
        " : http://www.fht360.com/productlist/234/15649-3-880.html\n",
        "0.50"
       ]
      },
      {
       "output_type": "stream",
       "stream": "stdout",
       "text": [
        " : http://www.fht360.com/companylist/93-2-2164.html\n",
        "0.72"
       ]
      },
      {
       "output_type": "stream",
       "stream": "stdout",
       "text": [
        " : http://www.fht360.com/productlist/249-70.html\n",
        "1.55"
       ]
      },
      {
       "output_type": "stream",
       "stream": "stdout",
       "text": [
        " : http://www.fht360.com/productlist/241/346-4-1122.html\n",
        "0.50"
       ]
      },
      {
       "output_type": "stream",
       "stream": "stdout",
       "text": [
        " : http://www.fht360.com/productlist/437/13974-2-2137.html\n",
        "0.58"
       ]
      },
      {
       "output_type": "stream",
       "stream": "stdout",
       "text": [
        " : http://www.fht360.com/productlist/362/13711-6.html\n",
        "1.33"
       ]
      },
      {
       "output_type": "stream",
       "stream": "stdout",
       "text": [
        " : http://www.fht360.com/productlist/264-9-1662.html\n",
        "2.62"
       ]
      },
      {
       "output_type": "stream",
       "stream": "stdout",
       "text": [
        " : http://www.fht360.com/companylist/43-2-1619.html\n",
        "1.14"
       ]
      },
      {
       "output_type": "stream",
       "stream": "stdout",
       "text": [
        " : http://www.fht360.com/productlist/277/89-11-880.html\n",
        "1.59"
       ]
      },
      {
       "output_type": "stream",
       "stream": "stdout",
       "text": [
        " : http://www.fht360.com/productlist/328-3-1009.html\n",
        "0.72"
       ]
      },
      {
       "output_type": "stream",
       "stream": "stdout",
       "text": [
        " : http://www.fht360.com/companylist/37-3-991.html\n",
        "0.55"
       ]
      },
      {
       "output_type": "stream",
       "stream": "stdout",
       "text": [
        " : http://www.fht360.com/companylist/165-3-1010.html\n",
        "0.62"
       ]
      },
      {
       "output_type": "stream",
       "stream": "stdout",
       "text": [
        " : http://www.fht360.com/productlist/433-4-860.html\n",
        "0.35"
       ]
      },
      {
       "output_type": "stream",
       "stream": "stdout",
       "text": [
        " : http://www.fht360.com/productlist/446/18891-2.html\n",
        "0.36"
       ]
      },
      {
       "output_type": "stream",
       "stream": "stdout",
       "text": [
        " : http://www.fht360.com/productlist/402/9419-4-1487.html\n",
        "0.67"
       ]
      },
      {
       "output_type": "stream",
       "stream": "stdout",
       "text": [
        " : http://www.fht360.com/productlist/331/10003-2-1662.html\n",
        "0.56"
       ]
      },
      {
       "output_type": "stream",
       "stream": "stdout",
       "text": [
        " : http://www.fht360.com/companylist/73-2-2137.html\n",
        "0.68"
       ]
      },
      {
       "output_type": "stream",
       "stream": "stdout",
       "text": [
        " : http://www.fht360.com/productlist/248/733-39.html\n",
        "1.18"
       ]
      },
      {
       "output_type": "stream",
       "stream": "stdout",
       "text": [
        " : http://www.fht360.com/productlist/241/457-3.html\n",
        "1.25"
       ]
      },
      {
       "output_type": "stream",
       "stream": "stdout",
       "text": [
        " : http://www.fht360.com/productlist/233/15916-2-20.html\n",
        "0.51"
       ]
      },
      {
       "output_type": "stream",
       "stream": "stdout",
       "text": [
        " : http://www.fht360.com/companylist/162-6-2169.html\n",
        "0.48"
       ]
      },
      {
       "output_type": "stream",
       "stream": "stdout",
       "text": [
        " : http://www.fht360.com/companylist/162-12-2164.html\n",
        "0.30"
       ]
      },
      {
       "output_type": "stream",
       "stream": "stdout",
       "text": [
        " : http://www.fht360.com/productlist/437/13974-4.html\n",
        "0.56"
       ]
      },
      {
       "output_type": "stream",
       "stream": "stdout",
       "text": [
        " : http://www.fht360.com/companylist/213-3.html\n",
        "1.73"
       ]
      },
      {
       "output_type": "stream",
       "stream": "stdout",
       "text": [
        " : http://www.fht360.com/productlist/324/12421-3-20.html\n",
        "0.13"
       ]
      },
      {
       "output_type": "stream",
       "stream": "stdout",
       "text": [
        " : http://www.fht360.com/productlist/332-9.html\n",
        "0.14"
       ]
      },
      {
       "output_type": "stream",
       "stream": "stdout",
       "text": [
        " : http://www.fht360.com/productlist/333-25.html\n",
        "0.41"
       ]
      },
      {
       "output_type": "stream",
       "stream": "stdout",
       "text": [
        " : http://www.fht360.com/productlist/246/14710-3-2137.html\n",
        "0.19"
       ]
      },
      {
       "output_type": "stream",
       "stream": "stdout",
       "text": [
        " : http://www.fht360.com/productlist/261/298-3.html\n",
        "0.07"
       ]
      },
      {
       "output_type": "stream",
       "stream": "stdout",
       "text": [
        " : http://www.fht360.com/productlist/261/291-3.html\n",
        "0.24"
       ]
      },
      {
       "output_type": "stream",
       "stream": "stdout",
       "text": [
        " : http://www.fht360.com/productlist/261/297-2.html\n",
        "0.37"
       ]
      },
      {
       "output_type": "stream",
       "stream": "stdout",
       "text": [
        " : http://www.fht360.com/productlist/427/12292-2-880.html\n",
        "0.30"
       ]
      },
      {
       "output_type": "stream",
       "stream": "stdout",
       "text": [
        " : http://www.fht360.com/productlist/301/8043-2.html\n",
        "2.51"
       ]
      },
      {
       "output_type": "stream",
       "stream": "stdout",
       "text": [
        " : http://www.fht360.com/companylist/167-3-2144.html\n",
        "0.51"
       ]
      },
      {
       "output_type": "stream",
       "stream": "stdout",
       "text": [
        " : http://www.fht360.com/companylist/167-2-2147.html\n",
        "0.48"
       ]
      },
      {
       "output_type": "stream",
       "stream": "stdout",
       "text": [
        " : http://www.fht360.com/companylist/167-2-2143.html\n",
        "0.47"
       ]
      },
      {
       "output_type": "stream",
       "stream": "stdout",
       "text": [
        " : http://www.fht360.com/productlist/411-3-880.html\n",
        "0.59"
       ]
      },
      {
       "output_type": "stream",
       "stream": "stdout",
       "text": [
        " : http://www.fht360.com/productlist/340-3-880.html\n",
        "0.44"
       ]
      },
      {
       "output_type": "stream",
       "stream": "stdout",
       "text": [
        " : http://www.fht360.com/productlist/247-4-1662.html\n",
        "0.43"
       ]
      },
      {
       "output_type": "stream",
       "stream": "stdout",
       "text": [
        " : http://www.fht360.com/productlist/231/159-3-39.html\n",
        "0.49"
       ]
      },
      {
       "output_type": "stream",
       "stream": "stdout",
       "text": [
        " : http://www.fht360.com/companylist/167/3-2-1581.html\n",
        "0.31"
       ]
      },
      {
       "output_type": "stream",
       "stream": "stdout",
       "text": [
        " : http://www.fht360.com/productlist/352/13974-4.html\n",
        "0.39"
       ]
      },
      {
       "output_type": "stream",
       "stream": "stdout",
       "text": [
        " : http://www.fht360.com/productlist/227/17354-2-1009.html\n",
        "0.47"
       ]
      },
      {
       "output_type": "stream",
       "stream": "stdout",
       "text": [
        " : http://www.fht360.com/productlist/253/16956-4-2137.html\n",
        "0.60"
       ]
      },
      {
       "output_type": "stream",
       "stream": "stdout",
       "text": [
        " : http://www.fht360.com/productlist/324/7979-2.html\n",
        "3.37"
       ]
      },
      {
       "output_type": "stream",
       "stream": "stdout",
       "text": [
        " : http://www.fht360.com/productlist/387/56-2-880.html\n",
        "1.06"
       ]
      },
      {
       "output_type": "stream",
       "stream": "stdout",
       "text": [
        " : http://www.fht360.com/productlist/240-1-1.html\n",
        "1.62"
       ]
      },
      {
       "output_type": "stream",
       "stream": "stdout",
       "text": [
        " : http://www.fht360.com/productlist/424/9475-3-1487.html\n",
        "1.39"
       ]
      },
      {
       "output_type": "stream",
       "stream": "stdout",
       "text": [
        " : http://www.fht360.com/productlist/273-2-39.html\n",
        "1.32"
       ]
      },
      {
       "output_type": "stream",
       "stream": "stdout",
       "text": [
        " : http://www.fht360.com/productlist/234/10320-4-1009.html\n",
        "4.97"
       ]
      },
      {
       "output_type": "stream",
       "stream": "stdout",
       "text": [
        " : http://www.fht360.com/productlist/301/8051-2-880.html\n",
        "0.82"
       ]
      },
      {
       "output_type": "stream",
       "stream": "stdout",
       "text": [
        " : http://www.fht360.com/companylist/189/10465-2-2137.html\n",
        "1.24"
       ]
      },
      {
       "output_type": "stream",
       "stream": "stdout",
       "text": [
        " : http://www.fht360.com/productlist/279/18772-2.html\n",
        "0.68"
       ]
      },
      {
       "output_type": "stream",
       "stream": "stdout",
       "text": [
        " : http://www.fht360.com/productlist/432/14826-5-2137.html\n",
        "0.94"
       ]
      },
      {
       "output_type": "stream",
       "stream": "stdout",
       "text": [
        " : http://www.fht360.com/productlist/276/16322-2.html\n",
        "1.62"
       ]
      },
      {
       "output_type": "stream",
       "stream": "stdout",
       "text": [
        " : http://www.fht360.com/companylist/63/7-2-1487.html\n",
        "3.02"
       ]
      },
      {
       "output_type": "stream",
       "stream": "stdout",
       "text": [
        " : http://www.fht360.com/productlist/236/17628-3.html\n",
        "0.84"
       ]
      },
      {
       "output_type": "stream",
       "stream": "stdout",
       "text": [
        " : http://www.fht360.com/productlist/433/14261-4.html\n",
        "0.74"
       ]
      },
      {
       "output_type": "stream",
       "stream": "stdout",
       "text": [
        " : http://www.fht360.com/productlist/283/187-2-1487.html\n",
        "0.65"
       ]
      },
      {
       "output_type": "stream",
       "stream": "stdout",
       "text": [
        " : http://www.fht360.com/productlist/415/91-2-880.html\n",
        "0.67"
       ]
      },
      {
       "output_type": "stream",
       "stream": "stdout",
       "text": [
        " : http://www.fht360.com/productlist/226/11177-2-1487.html\n",
        "0.62"
       ]
      },
      {
       "output_type": "stream",
       "stream": "stdout",
       "text": [
        " : http://www.fht360.com/productlist/362/13711-3-2137.html\n",
        "0.45"
       ]
      },
      {
       "output_type": "stream",
       "stream": "stdout",
       "text": [
        " : http://www.fht360.com/productlist/429/11342-2-1662.html\n",
        "1.64"
       ]
      },
      {
       "output_type": "stream",
       "stream": "stdout",
       "text": [
        " : http://www.fht360.com/productlist/239/12094-2-39.html\n",
        "3.67"
       ]
      },
      {
       "output_type": "stream",
       "stream": "stdout",
       "text": [
        " : http://www.fht360.com/companylist/242/10539-2-2137.html\n",
        "0.42"
       ]
      },
      {
       "output_type": "stream",
       "stream": "stdout",
       "text": [
        " : http://www.fht360.com/productlist/302-4-1487.html\n",
        "0.49"
       ]
      },
      {
       "output_type": "stream",
       "stream": "stdout",
       "text": [
        " : http://www.fht360.com/productlist/326/10814-3-880.html\n",
        "0.43"
       ]
      },
      {
       "output_type": "stream",
       "stream": "stdout",
       "text": [
        " : http://www.fht360.com/productlist/327-2-2137.html\n",
        "0.47"
       ]
      },
      {
       "output_type": "stream",
       "stream": "stdout",
       "text": [
        " : http://www.fht360.com/companylist/165/3-22-880.html\n",
        "0.38"
       ]
      },
      {
       "output_type": "stream",
       "stream": "stdout",
       "text": [
        " : http://www.fht360.com/productlist/337/12309-9-2137.html\n",
        "0.39"
       ]
      },
      {
       "output_type": "stream",
       "stream": "stdout",
       "text": [
        " : http://www.fht360.com/productlist/239/12094-2-2137.html\n",
        "1.14"
       ]
      },
      {
       "output_type": "stream",
       "stream": "stdout",
       "text": [
        " : http://www.fht360.com/productlist/233/260-2.html\n",
        "0.97"
       ]
      },
      {
       "output_type": "stream",
       "stream": "stdout",
       "text": [
        " : http://www.fht360.com/productlist/233/15982-2-1009.html\n",
        "0.60"
       ]
      },
      {
       "output_type": "stream",
       "stream": "stdout",
       "text": [
        " : http://www.fht360.com/productlist/442/14669-2-2137.html\n",
        "2.09"
       ]
      },
      {
       "output_type": "stream",
       "stream": "stdout",
       "text": [
        " : http://www.fht360.com/productlist/262/15642-2-1009.html\n",
        "0.51"
       ]
      },
      {
       "output_type": "stream",
       "stream": "stdout",
       "text": [
        " : http://www.fht360.com/companylist/162-2-1570.html\n",
        "0.27"
       ]
      },
      {
       "output_type": "stream",
       "stream": "stdout",
       "text": [
        " : http://www.fht360.com/productlist/446/18914-2.html\n",
        "0.28"
       ]
      },
      {
       "output_type": "stream",
       "stream": "stdout",
       "text": [
        " : http://www.fht360.com/productlist/252/661-10.html\n",
        "0.58"
       ]
      },
      {
       "output_type": "stream",
       "stream": "stdout",
       "text": [
        " : http://www.fht360.com/productlist/231/11042-3-39.html\n",
        "0.54"
       ]
      },
      {
       "output_type": "stream",
       "stream": "stdout",
       "text": [
        " : http://www.fht360.com/companylist/68-2-880.html\n",
        "0.70"
       ]
      },
      {
       "output_type": "stream",
       "stream": "stdout",
       "text": [
        " : http://www.fht360.com/productlist/292/193-5-1487.html\n",
        "1.32"
       ]
      },
      {
       "output_type": "stream",
       "stream": "stdout",
       "text": [
        " : http://www.fht360.com/productlist/424-101-1487.html\n",
        "0.51"
       ]
      },
      {
       "output_type": "stream",
       "stream": "stdout",
       "text": [
        " : http://www.fht360.com/companylist/164-2-1491.html\n",
        "0.34"
       ]
      },
      {
       "output_type": "stream",
       "stream": "stdout",
       "text": [
        " : http://www.fht360.com/productlist/236-62-2137.html\n",
        "1.83"
       ]
      },
      {
       "output_type": "stream",
       "stream": "stdout",
       "text": [
        " : http://www.fht360.com/productlist/317/72-9.html\n",
        "0.47"
       ]
      },
      {
       "output_type": "stream",
       "stream": "stdout",
       "text": [
        " : http://www.fht360.com/companylist/162-2-3065.html\n",
        "0.75"
       ]
      },
      {
       "output_type": "stream",
       "stream": "stdout",
       "text": [
        " : http://www.fht360.com/productlist/254/258-14.html\n",
        "0.73"
       ]
      },
      {
       "output_type": "stream",
       "stream": "stdout",
       "text": [
        " : http://www.fht360.com/productlist/254/259-5.html\n",
        "0.13"
       ]
      },
      {
       "output_type": "stream",
       "stream": "stdout",
       "text": [
        " : http://www.fht360.com/productlist/281-13.html\n",
        "0.24"
       ]
      },
      {
       "output_type": "stream",
       "stream": "stdout",
       "text": [
        " : http://www.fht360.com/productlist/379/19098-2.html\n",
        "0.25"
       ]
      },
      {
       "output_type": "stream",
       "stream": "stdout",
       "text": [
        " : http://www.fht360.com/productlist/379/19091-2.html\n",
        "0.41"
       ]
      },
      {
       "output_type": "stream",
       "stream": "stdout",
       "text": [
        " : http://www.fht360.com/productlist/274/91-6-39.html\n",
        "0.51"
       ]
      },
      {
       "output_type": "stream",
       "stream": "stdout",
       "text": [
        " : http://www.fht360.com/productlist/437/12242-2-2137.html\n",
        "1.52"
       ]
      },
      {
       "output_type": "stream",
       "stream": "stdout",
       "text": [
        " : http://www.fht360.com/companylist/45/10142-2.html\n",
        "0.50"
       ]
      },
      {
       "output_type": "stream",
       "stream": "stdout",
       "text": [
        " : http://www.fht360.com/companylist/45/10146-2.html\n",
        "0.51"
       ]
      },
      {
       "output_type": "stream",
       "stream": "stdout",
       "text": [
        " : http://www.fht360.com/companylist/45/10147-2.html\n",
        "0.25"
       ]
      },
      {
       "output_type": "stream",
       "stream": "stdout",
       "text": [
        " : http://www.fht360.com/productlist/233/637-2.html\n",
        "0.56"
       ]
      },
      {
       "output_type": "stream",
       "stream": "stdout",
       "text": [
        " : http://www.fht360.com/companylist/52-3-1487.html\n",
        "0.38"
       ]
      },
      {
       "output_type": "stream",
       "stream": "stdout",
       "text": [
        " : http://www.fht360.com/productlist/234/303-21-1487.html\n",
        "0.41"
       ]
      },
      {
       "output_type": "stream",
       "stream": "stdout",
       "text": [
        " : http://www.fht360.com/productlist/328/12422-9-2137.html\n",
        "1.12"
       ]
      },
      {
       "output_type": "stream",
       "stream": "stdout",
       "text": [
        " : http://www.fht360.com/companylist/167-3-896.html\n",
        "0.60"
       ]
      },
      {
       "output_type": "stream",
       "stream": "stdout",
       "text": [
        " : http://www.fht360.com/companylist/195/10919-2.html\n",
        "0.48"
       ]
      },
      {
       "output_type": "stream",
       "stream": "stdout",
       "text": [
        " : http://www.fht360.com/companylist/195/10910-2.html\n",
        "0.77"
       ]
      },
      {
       "output_type": "stream",
       "stream": "stdout",
       "text": [
        " : http://www.fht360.com/productlist/227/76-6-880.html\n",
        "1.00"
       ]
      },
      {
       "output_type": "stream",
       "stream": "stdout",
       "text": [
        " : http://www.fht360.com/companylist/47/10199-2.html\n",
        "0.69"
       ]
      },
      {
       "output_type": "stream",
       "stream": "stdout",
       "text": [
        " : http://www.fht360.com/companylist/47/10194-2.html\n",
        "0.72"
       ]
      },
      {
       "output_type": "stream",
       "stream": "stdout",
       "text": [
        " : http://www.fht360.com/productlist/286-7-2137.html\n",
        "0.52"
       ]
      },
      {
       "output_type": "stream",
       "stream": "stdout",
       "text": [
        " : http://www.fht360.com/companylist/48-2-1581.html\n",
        "0.41"
       ]
      },
      {
       "output_type": "stream",
       "stream": "stdout",
       "text": [
        " : http://www.fht360.com/productlist/351/5085-3.html\n",
        "1.91"
       ]
      },
      {
       "output_type": "stream",
       "stream": "stdout",
       "text": [
        " : http://www.fht360.com/companylist/48-2-1051.html\n",
        "1.18"
       ]
      },
      {
       "output_type": "stream",
       "stream": "stdout",
       "text": [
        " : http://www.fht360.com/productlist/246/14807-2.html\n",
        "2.07"
       ]
      },
      {
       "output_type": "stream",
       "stream": "stdout",
       "text": [
        " : http://www.fht360.com/companylist/165-3-1857.html\n",
        "1.41"
       ]
      },
      {
       "output_type": "stream",
       "stream": "stdout",
       "text": [
        " : http://www.fht360.com/companylist/44-2-2186.html\n",
        "0.95"
       ]
      },
      {
       "output_type": "stream",
       "stream": "stdout",
       "text": [
        " : http://www.fht360.com/productlist/415/2019-11.html\n",
        "0.42"
       ]
      },
      {
       "output_type": "stream",
       "stream": "stdout",
       "text": [
        " : http://www.fht360.com/productlist/369/13810-2-2137.html\n",
        "0.63"
       ]
      },
      {
       "output_type": "stream",
       "stream": "stdout",
       "text": [
        " : http://www.fht360.com/companylist/89-5.html\n",
        "0.56"
       ]
      },
      {
       "output_type": "stream",
       "stream": "stdout",
       "text": [
        " : http://www.fht360.com/companylist/88-3.html\n",
        "4.93"
       ]
      },
      {
       "output_type": "stream",
       "stream": "stdout",
       "text": [
        " : http://www.fht360.com/companylist/85-3.html\n",
        "0.51"
       ]
      },
      {
       "output_type": "stream",
       "stream": "stdout",
       "text": [
        " : http://www.fht360.com/companylist/87-2.html\n",
        "0.42"
       ]
      },
      {
       "output_type": "stream",
       "stream": "stdout",
       "text": [
        " : http://www.fht360.com/companylist/86-8.html\n",
        "0.58"
       ]
      },
      {
       "output_type": "stream",
       "stream": "stdout",
       "text": [
        " : http://www.fht360.com/companylist/81-8.html\n",
        "0.46"
       ]
      },
      {
       "output_type": "stream",
       "stream": "stdout",
       "text": [
        " : http://www.fht360.com/companylist/80-3.html\n",
        "0.42"
       ]
      },
      {
       "output_type": "stream",
       "stream": "stdout",
       "text": [
        " : http://www.fht360.com/companylist/83-5.html\n",
        "2.32"
       ]
      },
      {
       "output_type": "stream",
       "stream": "stdout",
       "text": [
        " : http://www.fht360.com/companylist/82-2.html\n",
        "1.02"
       ]
      },
      {
       "output_type": "stream",
       "stream": "stdout",
       "text": [
        " : http://www.fht360.com/companylist/162-2-191.html\n",
        "0.28"
       ]
      },
      {
       "output_type": "stream",
       "stream": "stdout",
       "text": [
        " : http://www.fht360.com/productlist/301/8152-3-880.html\n",
        "0.09"
       ]
      },
      {
       "output_type": "stream",
       "stream": "stdout",
       "text": [
        " : http://www.fht360.com/productlist/427/12141-3.html\n",
        "0.26"
       ]
      },
      {
       "output_type": "stream",
       "stream": "stdout",
       "text": [
        " : http://www.fht360.com/productlist/227/12171-10.html\n",
        "0.57"
       ]
      },
      {
       "output_type": "stream",
       "stream": "stdout",
       "text": [
        " : http://www.fht360.com/companylist/37/10469-2.html\n",
        "0.55"
       ]
      },
      {
       "output_type": "stream",
       "stream": "stdout",
       "text": [
        " : http://www.fht360.com/companylist/167-2-132.html\n",
        "0.64"
       ]
      },
      {
       "output_type": "stream",
       "stream": "stdout",
       "text": [
        " : http://www.fht360.com/companylist/37/10465-2.html\n",
        "0.58"
       ]
      },
      {
       "output_type": "stream",
       "stream": "stdout",
       "text": [
        " : http://www.fht360.com/companylist/37/10463-2.html\n",
        "0.37"
       ]
      },
      {
       "output_type": "stream",
       "stream": "stdout",
       "text": [
        " : http://www.fht360.com/productlist/233/16959-4.html\n",
        "0.26"
       ]
      },
      {
       "output_type": "stream",
       "stream": "stdout",
       "text": [
        " : http://www.fht360.com/productlist/233/16957-3.html\n",
        "0.60"
       ]
      },
      {
       "output_type": "stream",
       "stream": "stdout",
       "text": [
        " : http://www.fht360.com/productlist/233-2-499.html\n",
        "0.48"
       ]
      },
      {
       "output_type": "stream",
       "stream": "stdout",
       "text": [
        " : http://www.fht360.com/companylist/165-2-936.html\n",
        "0.47"
       ]
      },
      {
       "output_type": "stream",
       "stream": "stdout",
       "text": [
        " : http://www.fht360.com/companylist/165-2-938.html\n",
        "1.49"
       ]
      },
      {
       "output_type": "stream",
       "stream": "stdout",
       "text": [
        " : http://www.fht360.com/productlist/239/694-2.html\n",
        "1.08"
       ]
      },
      {
       "output_type": "stream",
       "stream": "stdout",
       "text": [
        " : http://www.fht360.com/productlist/254-2-39.html\n",
        "1.09"
       ]
      },
      {
       "output_type": "stream",
       "stream": "stdout",
       "text": [
        " : http://www.fht360.com/productlist/234-64-1487.html\n",
        "1.74"
       ]
      },
      {
       "output_type": "stream",
       "stream": "stdout",
       "text": [
        " : http://www.fht360.com/productlist/255-3-1487.html\n",
        "1.09"
       ]
      },
      {
       "output_type": "stream",
       "stream": "stdout",
       "text": [
        " : http://www.fht360.com/productlist/331/10003-2-880.html\n",
        "0.39"
       ]
      },
      {
       "output_type": "stream",
       "stream": "stdout",
       "text": [
        " : http://www.fht360.com/productlist/246/13448-8.html\n",
        "0.55"
       ]
      },
      {
       "output_type": "stream",
       "stream": "stdout",
       "text": [
        " : http://www.fht360.com/productlist/309-3-1364.html\n",
        "1.01"
       ]
      },
      {
       "output_type": "stream",
       "stream": "stdout",
       "text": [
        " : http://www.fht360.com/companylist/246/10799-2.html\n",
        "0.72"
       ]
      },
      {
       "output_type": "stream",
       "stream": "stdout",
       "text": [
        " : http://www.fht360.com/productlist/251/8-7-1487.html\n",
        "0.69"
       ]
      },
      {
       "output_type": "stream",
       "stream": "stdout",
       "text": [
        " : http://www.fht360.com/productlist/337/13447-5.html\n",
        "0.78"
       ]
      },
      {
       "output_type": "stream",
       "stream": "stdout",
       "text": [
        " : http://www.fht360.com/productlist/337/13443-3.html\n",
        "0.84"
       ]
      },
      {
       "output_type": "stream",
       "stream": "stdout",
       "text": [
        " : http://www.fht360.com/companylist/134/10926-2.html\n",
        "0.56"
       ]
      },
      {
       "output_type": "stream",
       "stream": "stdout",
       "text": [
        " : http://www.fht360.com/productlist/424/14895-2-2137.html\n",
        "1.08"
       ]
      },
      {
       "output_type": "stream",
       "stream": "stdout",
       "text": [
        " : http://www.fht360.com/productlist/312/10683-4-1487.html\n",
        "1.46"
       ]
      },
      {
       "output_type": "stream",
       "stream": "stdout",
       "text": [
        " : http://www.fht360.com/productlist/367/13582-9-2137.html\n",
        "0.65"
       ]
      },
      {
       "output_type": "stream",
       "stream": "stdout",
       "text": [
        " : http://www.fht360.com/companylist/49-2-860.html\n",
        "0.57"
       ]
      },
      {
       "output_type": "stream",
       "stream": "stdout",
       "text": [
        " : http://www.fht360.com/productlist/287-3-2137.html\n",
        "0.47"
       ]
      },
      {
       "output_type": "stream",
       "stream": "stdout",
       "text": [
        " : http://www.fht360.com/companylist/162-2-1987.html\n",
        "0.47"
       ]
      },
      {
       "output_type": "stream",
       "stream": "stdout",
       "text": [
        " : http://www.fht360.com/productlist/239/168-2-39.html\n",
        "0.42"
       ]
      },
      {
       "output_type": "stream",
       "stream": "stdout",
       "text": [
        " : http://www.fht360.com/productlist/371/13794-2-1260.html\n",
        "0.59"
       ]
      },
      {
       "output_type": "stream",
       "stream": "stdout",
       "text": [
        " : http://www.fht360.com/companylist/61/10310-2.html\n",
        "0.31"
       ]
      },
      {
       "output_type": "stream",
       "stream": "stdout",
       "text": [
        " : http://www.fht360.com/productlist/249/170-4.html\n",
        "0.55"
       ]
      },
      {
       "output_type": "stream",
       "stream": "stdout",
       "text": [
        " : http://www.fht360.com/companylist/39-2-706.html\n",
        "0.50"
       ]
      },
      {
       "output_type": "stream",
       "stream": "stdout",
       "text": [
        " : http://www.fht360.com/companylist/167/3-2-1668.html\n",
        "0.90"
       ]
      },
      {
       "output_type": "stream",
       "stream": "stdout",
       "text": [
        " : http://www.fht360.com/productlist/351-10-860.html\n",
        "0.26"
       ]
      },
      {
       "output_type": "stream",
       "stream": "stdout",
       "text": [
        " : http://www.fht360.com/productlist/331-8-39.html\n",
        "0.56"
       ]
      },
      {
       "output_type": "stream",
       "stream": "stdout",
       "text": [
        " : http://www.fht360.com/productlist/277/16408-2-2137.html\n",
        "0.49"
       ]
      },
      {
       "output_type": "stream",
       "stream": "stdout",
       "text": [
        " : http://www.fht360.com/productlist/334-3-2437.html\n",
        "0.40"
       ]
      },
      {
       "output_type": "stream",
       "stream": "stdout",
       "text": [
        " : http://www.fht360.com/productlist/274/16408-4.html\n",
        "0.74"
       ]
      },
      {
       "output_type": "stream",
       "stream": "stdout",
       "text": [
        " : http://www.fht360.com/companylist/79-3-2137.html\n",
        "0.47"
       ]
      },
      {
       "output_type": "stream",
       "stream": "stdout",
       "text": [
        " : http://www.fht360.com/productlist/240-3-1487.html\n",
        "0.42"
       ]
      },
      {
       "output_type": "stream",
       "stream": "stdout",
       "text": [
        " : http://www.fht360.com/productlist/438-2-880.html\n",
        "0.47"
       ]
      },
      {
       "output_type": "stream",
       "stream": "stdout",
       "text": [
        " : http://www.fht360.com/companylist/162-15-2278.html\n",
        "0.47"
       ]
      },
      {
       "output_type": "stream",
       "stream": "stdout",
       "text": [
        " : http://www.fht360.com/companylist/162-2-2279.html\n",
        "0.71"
       ]
      },
      {
       "output_type": "stream",
       "stream": "stdout",
       "text": [
        " : http://www.fht360.com/productlist/309-37.html\n",
        "0.57"
       ]
      },
      {
       "output_type": "stream",
       "stream": "stdout",
       "text": [
        " : http://www.fht360.com/productlist/304-25.html\n",
        "1.26"
       ]
      },
      {
       "output_type": "stream",
       "stream": "stdout",
       "text": [
        " : http://www.fht360.com/productlist/226-5-1009.html\n",
        "0.47"
       ]
      },
      {
       "output_type": "stream",
       "stream": "stdout",
       "text": [
        " : http://www.fht360.com/companylist/164-2-1514.html\n",
        "0.35"
       ]
      },
      {
       "output_type": "stream",
       "stream": "stdout",
       "text": [
        " : http://www.fht360.com/productlist/337/12188-2-880.html\n",
        "0.24"
       ]
      },
      {
       "output_type": "stream",
       "stream": "stdout",
       "text": [
        " : http://www.fht360.com/productlist/332/273-2.html\n",
        "0.81"
       ]
      },
      {
       "output_type": "stream",
       "stream": "stdout",
       "text": [
        " : http://www.fht360.com/productlist/227-3-1122.html\n",
        "1.36"
       ]
      },
      {
       "output_type": "stream",
       "stream": "stdout",
       "text": [
        " : http://www.fht360.com/productlist/302/7258-2-1487.html\n",
        "0.63"
       ]
      },
      {
       "output_type": "stream",
       "stream": "stdout",
       "text": [
        " : http://www.fht360.com/productlist/351/13637-2-1.html\n",
        "0.56"
       ]
      },
      {
       "output_type": "stream",
       "stream": "stdout",
       "text": [
        " : http://www.fht360.com/productlist/415/93-10-1487.html\n",
        "0.66"
       ]
      },
      {
       "output_type": "stream",
       "stream": "stdout",
       "text": [
        " : http://www.fht360.com/companylist/164/3-2-132.html\n",
        "0.54"
       ]
      },
      {
       "output_type": "stream",
       "stream": "stdout",
       "text": [
        " : http://www.fht360.com/companylist/66-2-2278.html\n",
        "0.48"
       ]
      },
      {
       "output_type": "stream",
       "stream": "stdout",
       "text": [
        " : http://www.fht360.com/companylist/56-4-880.html\n",
        "0.68"
       ]
      },
      {
       "output_type": "stream",
       "stream": "stdout",
       "text": [
        " : http://www.fht360.com/productlist/317/72-2-860.html\n",
        "0.84"
       ]
      },
      {
       "output_type": "stream",
       "stream": "stdout",
       "text": [
        " : http://www.fht360.com/companylist/165/3-4-1553.html\n",
        "0.70"
       ]
      },
      {
       "output_type": "stream",
       "stream": "stdout",
       "text": [
        " : http://www.fht360.com/productlist/307/10833-2-1487.html\n",
        "0.89"
       ]
      },
      {
       "output_type": "stream",
       "stream": "stdout",
       "text": [
        " : http://www.fht360.com/productlist/242-2-1.html\n",
        "1.44"
       ]
      },
      {
       "output_type": "stream",
       "stream": "stdout",
       "text": [
        " : http://www.fht360.com/productlist/280/8287-2-2137.html\n",
        "1.25"
       ]
      },
      {
       "output_type": "stream",
       "stream": "stdout",
       "text": [
        " : http://www.fht360.com/productlist/239/13-7.html\n",
        "0.26"
       ]
      },
      {
       "output_type": "stream",
       "stream": "stdout",
       "text": [
        " : http://www.fht360.com/productlist/324/10365-2.html\n",
        "0.31"
       ]
      },
      {
       "output_type": "stream",
       "stream": "stdout",
       "text": [
        " : http://www.fht360.com/productlist/337/12148-9.html\n",
        "0.44"
       ]
      },
      {
       "output_type": "stream",
       "stream": "stdout",
       "text": [
        " : http://www.fht360.com/productlist/247-4-860.html\n",
        "0.36"
       ]
      },
      {
       "output_type": "stream",
       "stream": "stdout",
       "text": [
        " : http://www.fht360.com/productlist/283/15627-3-2137.html\n",
        "0.69"
       ]
      },
      {
       "output_type": "stream",
       "stream": "stdout",
       "text": [
        " : http://www.fht360.com/productlist/231/11042-3-880.html\n",
        "0.46"
       ]
      },
      {
       "output_type": "stream",
       "stream": "stdout",
       "text": [
        " : http://www.fht360.com/companylist/139-2-2164.html\n",
        "0.57"
       ]
      },
      {
       "output_type": "stream",
       "stream": "stdout",
       "text": [
        " : http://www.fht360.com/productlist/426-2-39.html\n",
        "0.61"
       ]
      },
      {
       "output_type": "stream",
       "stream": "stdout",
       "text": [
        " : http://www.fht360.com/companylist/47/10019-2.html\n",
        "6.31"
       ]
      },
      {
       "output_type": "stream",
       "stream": "stdout",
       "text": [
        " : http://www.fht360.com/productlist/386/5442-2.html\n",
        "1.64"
       ]
      },
      {
       "output_type": "stream",
       "stream": "stdout",
       "text": [
        " : http://www.fht360.com/companylist/54-4-2137.html\n",
        "1.09"
       ]
      },
      {
       "output_type": "stream",
       "stream": "stdout",
       "text": [
        " : http://www.fht360.com/productlist/307/10833-4.html\n",
        "1.53"
       ]
      },
      {
       "output_type": "stream",
       "stream": "stdout",
       "text": [
        " : http://www.fht360.com/productlist/248-108-1487.html\n",
        "0.83"
       ]
      },
      {
       "output_type": "stream",
       "stream": "stdout",
       "text": [
        " : http://www.fht360.com/productlist/231/12224-2.html\n",
        "0.23"
       ]
      },
      {
       "output_type": "stream",
       "stream": "stdout",
       "text": [
        " : http://www.fht360.com/productlist/312/637-2.html\n",
        "1.48"
       ]
      },
      {
       "output_type": "stream",
       "stream": "stdout",
       "text": [
        " : http://www.fht360.com/companylist/34/10643-2.html\n",
        "0.51"
       ]
      },
      {
       "output_type": "stream",
       "stream": "stdout",
       "text": [
        " : http://www.fht360.com/companylist/34-2-1570.html\n",
        "0.92"
       ]
      },
      {
       "output_type": "stream",
       "stream": "stdout",
       "text": [
        " : http://www.fht360.com/productlist/424/2-3-2467.html\n",
        "0.97"
       ]
      },
      {
       "output_type": "stream",
       "stream": "stdout",
       "text": [
        " : http://www.fht360.com/productlist/337/12162-7.html\n",
        "1.06"
       ]
      },
      {
       "output_type": "stream",
       "stream": "stdout",
       "text": [
        " : http://www.fht360.com/productlist/248/11995-2-1662.html\n",
        "0.53"
       ]
      },
      {
       "output_type": "stream",
       "stream": "stdout",
       "text": [
        " : http://www.fht360.com/productlist/366/13827-2-39.html\n",
        "0.50"
       ]
      },
      {
       "output_type": "stream",
       "stream": "stdout",
       "text": [
        " : http://www.fht360.com/companylist/164/3-10-1662.html\n",
        "1.40"
       ]
      },
      {
       "output_type": "stream",
       "stream": "stdout",
       "text": [
        " : http://www.fht360.com/productlist/239/13-2-880.html\n",
        "0.94"
       ]
      },
      {
       "output_type": "stream",
       "stream": "stdout",
       "text": [
        " : http://www.fht360.com/productlist/337/12202-2-2137.html\n",
        "0.48"
       ]
      },
      {
       "output_type": "stream",
       "stream": "stdout",
       "text": [
        " : http://www.fht360.com/companylist/167/3-10-2138.html\n",
        "0.77"
       ]
      },
      {
       "output_type": "stream",
       "stream": "stdout",
       "text": [
        " : http://www.fht360.com/productlist/251-4-1662.html\n",
        "0.63"
       ]
      },
      {
       "output_type": "stream",
       "stream": "stdout",
       "text": [
        " : http://www.fht360.com/productlist/308/10894-2.html\n",
        "0.73"
       ]
      },
      {
       "output_type": "stream",
       "stream": "stdout",
       "text": [
        " : http://www.fht360.com/companylist/128/10021-2.html\n",
        "0.40"
       ]
      },
      {
       "output_type": "stream",
       "stream": "stdout",
       "text": [
        " : http://www.fht360.com/productlist/429-2-1.html\n",
        "0.57"
       ]
      },
      {
       "output_type": "stream",
       "stream": "stdout",
       "text": [
        " : http://www.fht360.com/companylist/47-2-1009.html\n",
        "0.52"
       ]
      },
      {
       "output_type": "stream",
       "stream": "stdout",
       "text": [
        " : http://www.fht360.com/productlist/432-3-880.html\n",
        "0.91"
       ]
      },
      {
       "output_type": "stream",
       "stream": "stdout",
       "text": [
        " : http://www.fht360.com/productlist/228/8206-3.html\n",
        "0.59"
       ]
      },
      {
       "output_type": "stream",
       "stream": "stdout",
       "text": [
        " : http://www.fht360.com/companylist/57/4-2-881.html\n",
        "1.59"
       ]
      },
      {
       "output_type": "stream",
       "stream": "stdout",
       "text": [
        " : http://www.fht360.com/productlist/231/9-69-1487.html\n",
        "0.57"
       ]
      },
      {
       "output_type": "stream",
       "stream": "stdout",
       "text": [
        " : http://www.fht360.com/companylist/44/10020-2.html\n",
        "0.94"
       ]
      },
      {
       "output_type": "stream",
       "stream": "stdout",
       "text": [
        " : http://www.fht360.com/productlist/227/10227-2.html\n",
        "0.26"
       ]
      },
      {
       "output_type": "stream",
       "stream": "stdout",
       "text": [
        " : http://www.fht360.com/productlist/272/3609-2.html\n",
        "0.76"
       ]
      },
      {
       "output_type": "stream",
       "stream": "stdout",
       "text": [
        " : http://www.fht360.com/companylist/122-3-1487.html\n",
        "0.45"
       ]
      },
      {
       "output_type": "stream",
       "stream": "stdout",
       "text": [
        " : http://www.fht360.com/productlist/364/13027-2-2137.html\n",
        "1.07"
       ]
      },
      {
       "output_type": "stream",
       "stream": "stdout",
       "text": [
        " : http://www.fht360.com/productlist/283-4-860.html\n",
        "0.58"
       ]
      },
      {
       "output_type": "stream",
       "stream": "stdout",
       "text": [
        " : http://www.fht360.com/productlist/233/8-2-1009.html\n",
        "0.33"
       ]
      },
      {
       "output_type": "stream",
       "stream": "stdout",
       "text": [
        " : http://www.fht360.com/productlist/234/15642-3.html\n",
        "0.51"
       ]
      },
      {
       "output_type": "stream",
       "stream": "stdout",
       "text": [
        " : http://www.fht360.com/companylist/61/10290-2.html\n",
        "0.52"
       ]
      },
      {
       "output_type": "stream",
       "stream": "stdout",
       "text": [
        " : http://www.fht360.com/companylist/167/3-2-2508.html\n",
        "1.23"
       ]
      },
      {
       "output_type": "stream",
       "stream": "stdout",
       "text": [
        " : http://www.fht360.com/companylist/164/3-12-2164.html\n",
        "1.62"
       ]
      },
      {
       "output_type": "stream",
       "stream": "stdout",
       "text": [
        " : http://www.fht360.com/productlist/343-11-1487.html\n",
        "0.41"
       ]
      },
      {
       "output_type": "stream",
       "stream": "stdout",
       "text": [
        " : http://www.fht360.com/productlist/375/14925-2-2137.html\n",
        "0.85"
       ]
      },
      {
       "output_type": "stream",
       "stream": "stdout",
       "text": [
        " : http://www.fht360.com/productlist/276/15161-5-2137.html\n",
        "0.91"
       ]
      },
      {
       "output_type": "stream",
       "stream": "stdout",
       "text": [
        " : http://www.fht360.com/productlist/248/733-39-1487.html\n",
        "2.03"
       ]
      },
      {
       "output_type": "stream",
       "stream": "stdout",
       "text": [
        " : http://www.fht360.com/productlist/284-3-2137.html\n",
        "0.46"
       ]
      },
      {
       "output_type": "stream",
       "stream": "stdout",
       "text": [
        " : http://www.fht360.com/productlist/351-10-1.html\n",
        "0.77"
       ]
      },
      {
       "output_type": "stream",
       "stream": "stdout",
       "text": [
        " : http://www.fht360.com/companylist/167/3-2-1364.html\n",
        "0.85"
       ]
      },
      {
       "output_type": "stream",
       "stream": "stdout",
       "text": [
        " : http://www.fht360.com/productlist/410/1411-2-1009.html\n",
        "0.46"
       ]
      },
      {
       "output_type": "stream",
       "stream": "stdout",
       "text": [
        " : http://www.fht360.com/productlist/242-1-3065.html\n",
        "0.44"
       ]
      },
      {
       "output_type": "stream",
       "stream": "stdout",
       "text": [
        " : http://www.fht360.com/productlist/429/11342-2-880.html\n",
        "0.57"
       ]
      },
      {
       "output_type": "stream",
       "stream": "stdout",
       "text": [
        " : http://www.fht360.com/companylist/63-2-39.html\n",
        "1.57"
       ]
      },
      {
       "output_type": "stream",
       "stream": "stdout",
       "text": [
        " : http://www.fht360.com/companylist/164-2-111.html\n",
        "0.73"
       ]
      },
      {
       "output_type": "stream",
       "stream": "stdout",
       "text": [
        " : http://www.fht360.com/newslist/28-13.html\n",
        "0.48"
       ]
      },
      {
       "output_type": "stream",
       "stream": "stdout",
       "text": [
        " : http://www.fht360.com/companylist/167/3-3-986.html\n",
        "0.34"
       ]
      },
      {
       "output_type": "stream",
       "stream": "stdout",
       "text": [
        " : http://www.fht360.com/newslist/25-10.html\n",
        "2.28"
       ]
      },
      {
       "output_type": "stream",
       "stream": "stdout",
       "text": [
        " : http://www.fht360.com/companylist/48/3-3-896.html\n",
        "0.79"
       ]
      },
      {
       "output_type": "stream",
       "stream": "stdout",
       "text": [
        " : http://www.fht360.com/productlist/244/266-3-1662.html\n",
        "0.32"
       ]
      },
      {
       "output_type": "stream",
       "stream": "stdout",
       "text": [
        " : http://www.fht360.com/newslist/26-2.html\n",
        "1.27"
       ]
      },
      {
       "output_type": "stream",
       "stream": "stdout",
       "text": [
        " : http://www.fht360.com/productlist/263-2-1987.html\n",
        "1.46"
       ]
      },
      {
       "output_type": "stream",
       "stream": "stdout",
       "text": [
        " : http://www.fht360.com/newslist/23-2.html\n",
        "2.64"
       ]
      },
      {
       "output_type": "stream",
       "stream": "stdout",
       "text": [
        " : http://www.fht360.com/productlist/277-50-39.html\n",
        "1.02"
       ]
      },
      {
       "output_type": "stream",
       "stream": "stdout",
       "text": [
        " : http://www.fht360.com/companylist/165-45-2137.html\n",
        "0.79"
       ]
      },
      {
       "output_type": "stream",
       "stream": "stdout",
       "text": [
        " : http://www.fht360.com/productlist/312/10683-4.html\n",
        "0.47"
       ]
      },
      {
       "output_type": "stream",
       "stream": "stdout",
       "text": [
        " : http://www.fht360.com/companylist/165-10-2138.html\n",
        "0.56"
       ]
      },
      {
       "output_type": "stream",
       "stream": "stdout",
       "text": [
        " : http://www.fht360.com/companylist/44-4-1009.html\n",
        "0.25"
       ]
      },
      {
       "output_type": "stream",
       "stream": "stdout",
       "text": [
        " : http://www.fht360.com/productlist/312/10684-6.html\n",
        "0.28"
       ]
      },
      {
       "output_type": "stream",
       "stream": "stdout",
       "text": [
        " : http://www.fht360.com/productlist/234/10348-3.html\n",
        "0.40"
       ]
      },
      {
       "output_type": "stream",
       "stream": "stdout",
       "text": [
        " : http://www.fht360.com/productlist/234/10346-4.html\n",
        "0.48"
       ]
      },
      {
       "output_type": "stream",
       "stream": "stdout",
       "text": [
        " : http://www.fht360.com/companylist/165/3-4-1.html\n",
        "0.57"
       ]
      },
      {
       "output_type": "stream",
       "stream": "stdout",
       "text": [
        " : http://www.fht360.com/companylist/162/3-2-2279.html\n",
        "0.82"
       ]
      },
      {
       "output_type": "stream",
       "stream": "stdout",
       "text": [
        " : http://www.fht360.com/companylist/162/3-15-2278.html\n",
        "0.54"
       ]
      },
      {
       "output_type": "stream",
       "stream": "stdout",
       "text": [
        " : http://www.fht360.com/productlist/304/14822-3-2137.html\n",
        "3.01"
       ]
      },
      {
       "output_type": "stream",
       "stream": "stdout",
       "text": [
        " : http://www.fht360.com/productlist/359-6-1009.html\n",
        "2.33"
       ]
      },
      {
       "output_type": "stream",
       "stream": "stdout",
       "text": [
        " : http://www.fht360.com/companylist/71-2-2137.html\n",
        "0.48"
       ]
      },
      {
       "output_type": "stream",
       "stream": "stdout",
       "text": [
        " : http://www.fht360.com/companylist/162/3-4-1567.html\n",
        "0.31"
       ]
      },
      {
       "output_type": "stream",
       "stream": "stdout",
       "text": [
        " : http://www.fht360.com/productlist/246-26-1009.html\n",
        "1.49"
       ]
      },
      {
       "output_type": "stream",
       "stream": "stdout",
       "text": [
        " : http://www.fht360.com/companylist/162/3-5-2186.html\n",
        "0.35"
       ]
      },
      {
       "output_type": "stream",
       "stream": "stdout",
       "text": [
        " : http://www.fht360.com/productlist/433/15417-24-1662.html\n",
        "0.65"
       ]
      },
      {
       "output_type": "stream",
       "stream": "stdout",
       "text": [
        " : http://www.fht360.com/productlist/353/14893-2-2137.html\n",
        "0.85"
       ]
      },
      {
       "output_type": "stream",
       "stream": "stdout",
       "text": [
        " : http://www.fht360.com/companylist/44/10012-2-880.html\n",
        "0.32"
       ]
      },
      {
       "output_type": "stream",
       "stream": "stdout",
       "text": [
        " : http://www.fht360.com/productlist/365/10970-2.html\n",
        "0.49"
       ]
      },
      {
       "output_type": "stream",
       "stream": "stdout",
       "text": [
        " : http://www.fht360.com/companylist/93-2-2137.html\n",
        "0.54"
       ]
      },
      {
       "output_type": "stream",
       "stream": "stdout",
       "text": [
        " : http://www.fht360.com/companylist/49/10035-2-2137.html\n",
        "0.40"
       ]
      },
      {
       "output_type": "stream",
       "stream": "stdout",
       "text": [
        " : http://www.fht360.com/productlist/351/13677-7-2137.html\n",
        "0.50"
       ]
      },
      {
       "output_type": "stream",
       "stream": "stdout",
       "text": [
        " : http://www.fht360.com/companylist/167/3-2-1987.html\n",
        "0.31"
       ]
      },
      {
       "output_type": "stream",
       "stream": "stdout",
       "text": [
        " : http://www.fht360.com/productlist/236/8287-2.html\n",
        "0.44"
       ]
      },
      {
       "output_type": "stream",
       "stream": "stdout",
       "text": [
        " : http://www.fht360.com/productlist/253/16758-3.html\n",
        "0.47"
       ]
      },
      {
       "output_type": "stream",
       "stream": "stdout",
       "text": [
        " : http://www.fht360.com/companylist/162-3-40.html\n",
        "0.89"
       ]
      },
      {
       "output_type": "stream",
       "stream": "stdout",
       "text": [
        " : http://www.fht360.com/companylist/162-2-938.html\n",
        "2.85"
       ]
      },
      {
       "output_type": "stream",
       "stream": "stdout",
       "text": [
        " : http://www.fht360.com/productlist/228/12016-4.html\n",
        "0.62"
       ]
      },
      {
       "output_type": "stream",
       "stream": "stdout",
       "text": [
        " : http://www.fht360.com/companylist/52/10928-2.html\n",
        "0.91"
       ]
      },
      {
       "output_type": "stream",
       "stream": "stdout",
       "text": [
        " : http://www.fht360.com/productlist/241-1-1260.html\n",
        "0.49"
       ]
      },
      {
       "output_type": "stream",
       "stream": "stdout",
       "text": [
        " : http://www.fht360.com/companylist/59/10859-2.html\n",
        "0.86"
       ]
      },
      {
       "output_type": "stream",
       "stream": "stdout",
       "text": [
        " : http://www.fht360.com/productlist/231/14-12-1487.html\n",
        "1.08"
       ]
      },
      {
       "output_type": "stream",
       "stream": "stdout",
       "text": [
        " : http://www.fht360.com/productlist/351/13572-5.html\n",
        "0.31"
       ]
      },
      {
       "output_type": "stream",
       "stream": "stdout",
       "text": [
        " : http://www.fht360.com/productlist/351/13576-3.html\n",
        "1.37"
       ]
      },
      {
       "output_type": "stream",
       "stream": "stdout",
       "text": [
        " : http://www.fht360.com/companylist/57/4-2-1662.html\n",
        "0.55"
       ]
      },
      {
       "output_type": "stream",
       "stream": "stdout",
       "text": [
        " : http://www.fht360.com/companylist/165-2-881.html\n",
        "0.54"
       ]
      },
      {
       "output_type": "stream",
       "stream": "stdout",
       "text": [
        " : http://www.fht360.com/companylist/165-22-880.html\n",
        "0.27"
       ]
      },
      {
       "output_type": "stream",
       "stream": "stdout",
       "text": [
        " : http://www.fht360.com/productlist/236/17348-2.html\n",
        "0.35"
       ]
      },
      {
       "output_type": "stream",
       "stream": "stdout",
       "text": [
        " : http://www.fht360.com/productlist/236/16197-2.html\n",
        "0.41"
       ]
      },
      {
       "output_type": "stream",
       "stream": "stdout",
       "text": [
        " : http://www.fht360.com/productlist/234/287-2-1487.html\n",
        "0.48"
       ]
      },
      {
       "output_type": "stream",
       "stream": "stdout",
       "text": [
        " : http://www.fht360.com/productlist/433/14344-3-2137.html\n",
        "0.68"
       ]
      },
      {
       "output_type": "stream",
       "stream": "stdout",
       "text": [
        " : http://www.fht360.com/companylist/49-2-1.html\n",
        "0.27"
       ]
      },
      {
       "output_type": "stream",
       "stream": "stdout",
       "text": [
        " : http://www.fht360.com/productlist/325/7788-2-880.html\n",
        "1.01"
       ]
      },
      {
       "output_type": "stream",
       "stream": "stdout",
       "text": [
        " : http://www.fht360.com/productlist/246-88-2137.html\n",
        "1.17"
       ]
      },
      {
       "output_type": "stream",
       "stream": "stdout",
       "text": [
        " : http://www.fht360.com/productlist/263/11994-8.html\n",
        "0.57"
       ]
      },
      {
       "output_type": "stream",
       "stream": "stdout",
       "text": [
        " : http://www.fht360.com/companylist/164/3-2-1491.html\n",
        "0.55"
       ]
      },
      {
       "output_type": "stream",
       "stream": "stdout",
       "text": [
        " : http://www.fht360.com/companylist/165-2-1364.html\n",
        "0.38"
       ]
      },
      {
       "output_type": "stream",
       "stream": "stdout",
       "text": [
        " : http://www.fht360.com/productlist/367/13637-2-2137.html\n",
        "0.54"
       ]
      },
      {
       "output_type": "stream",
       "stream": "stdout",
       "text": [
        " : http://www.fht360.com/companylist/48-4-1500.html\n",
        "0.20"
       ]
      },
      {
       "output_type": "stream",
       "stream": "stdout",
       "text": [
        " : http://www.fht360.com/productlist/263/306-2-1487.html\n",
        "0.27"
       ]
      },
      {
       "output_type": "stream",
       "stream": "stdout",
       "text": [
        " : http://www.fht360.com/productlist/241/452-6.html\n",
        "0.28"
       ]
      },
      {
       "output_type": "stream",
       "stream": "stdout",
       "text": [
        " : http://www.fht360.com/productlist/241/455-4.html\n",
        "0.35"
       ]
      },
      {
       "output_type": "stream",
       "stream": "stdout",
       "text": [
        " : http://www.fht360.com/productlist/241/456-5.html\n",
        "0.32"
       ]
      },
      {
       "output_type": "stream",
       "stream": "stdout",
       "text": [
        " : http://www.fht360.com/productlist/241/458-2.html\n",
        "0.28"
       ]
      },
      {
       "output_type": "stream",
       "stream": "stdout",
       "text": [
        " : http://www.fht360.com/productlist/308/10884-3.html\n",
        "0.29"
       ]
      },
      {
       "output_type": "stream",
       "stream": "stdout",
       "text": [
        " : http://www.fht360.com/productlist/308/10885-4.html\n",
        "1.53"
       ]
      },
      {
       "output_type": "stream",
       "stream": "stdout",
       "text": [
        " : http://www.fht360.com/productlist/251/8-27-880.html\n",
        "0.43"
       ]
      },
      {
       "output_type": "stream",
       "stream": "stdout",
       "text": [
        " : http://www.fht360.com/productlist/367/13510-3-2137.html\n",
        "0.52"
       ]
      },
      {
       "output_type": "stream",
       "stream": "stdout",
       "text": [
        " : http://www.fht360.com/companylist/48/3-3-918.html\n",
        "0.39"
       ]
      },
      {
       "output_type": "stream",
       "stream": "stdout",
       "text": [
        " : http://www.fht360.com/productlist/259/615-6.html\n",
        "0.48"
       ]
      },
      {
       "output_type": "stream",
       "stream": "stdout",
       "text": [
        " : http://www.fht360.com/productlist/335-2-1009.html\n",
        "0.52"
       ]
      },
      {
       "output_type": "stream",
       "stream": "stdout",
       "text": [
        " : http://www.fht360.com/companylist/164-6-2169.html\n",
        "0.52"
       ]
      },
      {
       "output_type": "stream",
       "stream": "stdout",
       "text": [
        " : http://www.fht360.com/companylist/164-12-2164.html\n",
        "0.27"
       ]
      },
      {
       "output_type": "stream",
       "stream": "stdout",
       "text": [
        " : http://www.fht360.com/productlist/236/16190-2.html\n",
        "0.34"
       ]
      },
      {
       "output_type": "stream",
       "stream": "stdout",
       "text": [
        " : http://www.fht360.com/productlist/357/11344-2.html\n",
        "0.35"
       ]
      },
      {
       "output_type": "stream",
       "stream": "stdout",
       "text": [
        " : http://www.fht360.com/productlist/357/11343-3.html\n",
        "0.48"
       ]
      },
      {
       "output_type": "stream",
       "stream": "stdout",
       "text": [
        " : http://www.fht360.com/productlist/247-2-1260.html\n",
        "0.41"
       ]
      },
      {
       "output_type": "stream",
       "stream": "stdout",
       "text": [
        " : http://www.fht360.com/productlist/424/14924-2-1009.html\n",
        "1.05"
       ]
      },
      {
       "output_type": "stream",
       "stream": "stdout",
       "text": [
        " : http://www.fht360.com/productlist/231/9-4-860.html\n",
        "0.29"
       ]
      },
      {
       "output_type": "stream",
       "stream": "stdout",
       "text": [
        " : http://www.fht360.com/productlist/363/13576-3.html\n",
        "0.93"
       ]
      },
      {
       "output_type": "stream",
       "stream": "stdout",
       "text": [
        " : http://www.fht360.com/productlist/277/89-189.html\n",
        "0.58"
       ]
      },
      {
       "output_type": "stream",
       "stream": "stdout",
       "text": [
        " : http://www.fht360.com/companylist/40/10264-2.html\n",
        "1.09"
       ]
      },
      {
       "output_type": "stream",
       "stream": "stdout",
       "text": [
        " : http://www.fht360.com/productlist/234/15649-11.html\n",
        "0.41"
       ]
      },
      {
       "output_type": "stream",
       "stream": "stdout",
       "text": [
        " : http://www.fht360.com/productlist/351/13164-3.html\n",
        "0.64"
       ]
      },
      {
       "output_type": "stream",
       "stream": "stdout",
       "text": [
        " : http://www.fht360.com/productlist/324/12421-7-1662.html\n",
        "1.38"
       ]
      },
      {
       "output_type": "stream",
       "stream": "stdout",
       "text": [
        " : http://www.fht360.com/productlist/334/33-11.html\n",
        "0.67"
       ]
      },
      {
       "output_type": "stream",
       "stream": "stdout",
       "text": [
        " : http://www.fht360.com/productlist/226-1-1857.html\n",
        "0.72"
       ]
      },
      {
       "output_type": "stream",
       "stream": "stdout",
       "text": [
        " : http://www.fht360.com/productlist/235/89-4-1122.html\n",
        "0.68"
       ]
      },
      {
       "output_type": "stream",
       "stream": "stdout",
       "text": [
        " : http://www.fht360.com/productlist/340-2-1857.html\n",
        "1.01"
       ]
      },
      {
       "output_type": "stream",
       "stream": "stdout",
       "text": [
        " : http://www.fht360.com/companylist/34/128-2.html\n",
        "0.62"
       ]
      },
      {
       "output_type": "stream",
       "stream": "stdout",
       "text": [
        " : http://www.fht360.com/productlist/340/1861-3.html\n",
        "0.52"
       ]
      },
      {
       "output_type": "stream",
       "stream": "stdout",
       "text": [
        " : http://www.fht360.com/productlist/260-2-860.html\n",
        "0.54"
       ]
      },
      {
       "output_type": "stream",
       "stream": "stdout",
       "text": [
        " : http://www.fht360.com/productlist/233/17010-2-2137.html\n",
        "0.49"
       ]
      },
      {
       "output_type": "stream",
       "stream": "stdout",
       "text": [
        " : http://www.fht360.com/productlist/324/12450-5-2137.html\n",
        "0.45"
       ]
      },
      {
       "output_type": "stream",
       "stream": "stdout",
       "text": [
        " : http://www.fht360.com/productlist/234/287-3.html\n",
        "0.92"
       ]
      },
      {
       "output_type": "stream",
       "stream": "stdout",
       "text": [
        " : http://www.fht360.com/productlist/244-3-1662.html\n",
        "0.45"
       ]
      },
      {
       "output_type": "stream",
       "stream": "stdout",
       "text": [
        " : http://www.fht360.com/productlist/319/14777-2-2137.html\n",
        "1.05"
       ]
      },
      {
       "output_type": "stream",
       "stream": "stdout",
       "text": [
        " : http://www.fht360.com/productlist/374/14131-4.html\n",
        "1.96"
       ]
      },
      {
       "output_type": "stream",
       "stream": "stdout",
       "text": [
        " : http://www.fht360.com/productlist/385-466.html\n",
        "0.91"
       ]
      },
      {
       "output_type": "stream",
       "stream": "stdout",
       "text": [
        " : http://www.fht360.com/productlist/387-34.html\n",
        "0.91"
       ]
      },
      {
       "output_type": "stream",
       "stream": "stdout",
       "text": [
        " : http://www.fht360.com/productlist/381-2.html\n",
        "0.83"
       ]
      },
      {
       "output_type": "stream",
       "stream": "stdout",
       "text": [
        " : http://www.fht360.com/companylist/37-2-2186.html\n",
        "0.52"
       ]
      },
      {
       "output_type": "stream",
       "stream": "stdout",
       "text": [
        " : http://www.fht360.com/companylist/48/3-2-2190.html\n",
        "1.67"
       ]
      },
      {
       "output_type": "stream",
       "stream": "stdout",
       "text": [
        " : http://www.fht360.com/productlist/234/15649-2-1260.html\n",
        "0.28"
       ]
      },
      {
       "output_type": "stream",
       "stream": "stdout",
       "text": [
        " : http://www.fht360.com/productlist/331/10004-2.html\n",
        "4.71"
       ]
      },
      {
       "output_type": "stream",
       "stream": "stdout",
       "text": [
        " : http://www.fht360.com/productlist/334-7-1260.html\n",
        "0.47"
       ]
      },
      {
       "output_type": "stream",
       "stream": "stdout",
       "text": [
        " : http://www.fht360.com/productlist/260-4-39.html\n",
        "0.26"
       ]
      },
      {
       "output_type": "stream",
       "stream": "stdout",
       "text": [
        " : http://www.fht360.com/productlist/331/10003-19.html\n",
        "1.24"
       ]
      },
      {
       "output_type": "stream",
       "stream": "stdout",
       "text": [
        " : http://www.fht360.com/productlist/277/89-4-1122.html\n",
        "1.51"
       ]
      },
      {
       "output_type": "stream",
       "stream": "stdout",
       "text": [
        " : http://www.fht360.com/companylist/54/10060-2.html\n",
        "0.50"
       ]
      },
      {
       "output_type": "stream",
       "stream": "stdout",
       "text": [
        " : http://www.fht360.com/companylist/45/10060-2.html\n",
        "0.47"
       ]
      },
      {
       "output_type": "stream",
       "stream": "stdout",
       "text": [
        " : http://www.fht360.com/companylist/45/10063-2.html\n",
        "0.64"
       ]
      },
      {
       "output_type": "stream",
       "stream": "stdout",
       "text": [
        " : http://www.fht360.com/companylist/45/10069-2.html\n",
        "0.24"
       ]
      },
      {
       "output_type": "stream",
       "stream": "stdout",
       "text": [
        " : http://www.fht360.com/productlist/323/12066-2.html\n",
        "0.44"
       ]
      },
      {
       "output_type": "stream",
       "stream": "stdout",
       "text": [
        " : http://www.fht360.com/productlist/309/76-4-1009.html\n",
        "0.55"
       ]
      },
      {
       "output_type": "stream",
       "stream": "stdout",
       "text": [
        " : http://www.fht360.com/companylist/167-2-991.html\n",
        "0.62"
       ]
      },
      {
       "output_type": "stream",
       "stream": "stdout",
       "text": [
        " : http://www.fht360.com/productlist/245-1-20.html\n",
        "0.93"
       ]
      },
      {
       "output_type": "stream",
       "stream": "stdout",
       "text": [
        " : http://www.fht360.com/productlist/227-12-860.html\n",
        "0.90"
       ]
      },
      {
       "output_type": "stream",
       "stream": "stdout",
       "text": [
        " : http://www.fht360.com/productlist/302/11850-4.html\n",
        "0.80"
       ]
      },
      {
       "output_type": "stream",
       "stream": "stdout",
       "text": [
        " : http://www.fht360.com/companylist/48/3-2-499.html\n",
        "1.05"
       ]
      },
      {
       "output_type": "stream",
       "stream": "stdout",
       "text": [
        " : http://www.fht360.com/productlist/341/11762-5-2137.html\n",
        "1.03"
       ]
      },
      {
       "output_type": "stream",
       "stream": "stdout",
       "text": [
        " : http://www.fht360.com/productlist/343/10783-2-2137.html\n",
        "0.71"
       ]
      },
      {
       "output_type": "stream",
       "stream": "stdout",
       "text": [
        " : http://www.fht360.com/productlist/264-11-880.html\n",
        "0.51"
       ]
      },
      {
       "output_type": "stream",
       "stream": "stdout",
       "text": [
        " : http://www.fht360.com/productlist/231/12000-13-1487.html\n",
        "0.60"
       ]
      },
      {
       "output_type": "stream",
       "stream": "stdout",
       "text": [
        " : http://www.fht360.com/companylist/54/10882-2.html\n",
        "0.78"
       ]
      },
      {
       "output_type": "stream",
       "stream": "stdout",
       "text": [
        " : http://www.fht360.com/companylist/54/10887-2.html\n",
        "0.31"
       ]
      },
      {
       "output_type": "stream",
       "stream": "stdout",
       "text": [
        " : http://www.fht360.com/productlist/228/11937-3.html\n",
        "0.49"
       ]
      },
      {
       "output_type": "stream",
       "stream": "stdout",
       "text": [
        " : http://www.fht360.com/productlist/227-3-1987.html\n",
        "1.43"
       ]
      },
      {
       "output_type": "stream",
       "stream": "stdout",
       "text": [
        " : http://www.fht360.com/productlist/345-3-1487.html\n",
        "1.01"
       ]
      },
      {
       "output_type": "stream",
       "stream": "stdout",
       "text": [
        " : http://www.fht360.com/companylist/162/3-2-924.html\n",
        "0.38"
       ]
      },
      {
       "output_type": "stream",
       "stream": "stdout",
       "text": [
        " : http://www.fht360.com/productlist/369/13974-4.html\n",
        "0.72"
       ]
      },
      {
       "output_type": "stream",
       "stream": "stdout",
       "text": [
        " : http://www.fht360.com/productlist/227/12210-4-2137.html\n",
        "1.84"
       ]
      },
      {
       "output_type": "stream",
       "stream": "stdout",
       "text": [
        " : http://www.fht360.com/productlist/334/12421-65-2137.html\n",
        "0.89"
       ]
      },
      {
       "output_type": "stream",
       "stream": "stdout",
       "text": [
        " : http://www.fht360.com/companylist/170-2-2137.html\n",
        "0.50"
       ]
      },
      {
       "output_type": "stream",
       "stream": "stdout",
       "text": [
        " : http://www.fht360.com/companylist/34-3-860.html\n",
        "0.91"
       ]
      },
      {
       "output_type": "stream",
       "stream": "stdout",
       "text": [
        " : http://www.fht360.com/productlist/351/13582-10.html\n",
        "3.07"
       ]
      },
      {
       "output_type": "stream",
       "stream": "stdout",
       "text": [
        " : http://www.fht360.com/productlist/238/131-8.html\n",
        "0.36"
       ]
      },
      {
       "output_type": "stream",
       "stream": "stdout",
       "text": [
        " : http://www.fht360.com/productlist/238/135-2.html\n",
        "0.27"
       ]
      },
      {
       "output_type": "stream",
       "stream": "stdout",
       "text": [
        " : http://www.fht360.com/productlist/238/134-2.html\n",
        "0.47"
       ]
      },
      {
       "output_type": "stream",
       "stream": "stdout",
       "text": [
        " : http://www.fht360.com/companylist/162-2-2190.html\n",
        "0.43"
       ]
      },
      {
       "output_type": "stream",
       "stream": "stdout",
       "text": [
        " : http://www.fht360.com/companylist/143-5.html\n",
        "0.58"
       ]
      },
      {
       "output_type": "stream",
       "stream": "stdout",
       "text": [
        " : http://www.fht360.com/companylist/142-8.html\n",
        "0.52"
       ]
      },
      {
       "output_type": "stream",
       "stream": "stdout",
       "text": [
        " : http://www.fht360.com/companylist/141-3.html\n",
        "0.87"
       ]
      },
      {
       "output_type": "stream",
       "stream": "stdout",
       "text": [
        " : http://www.fht360.com/companylist/140-2.html\n",
        "0.84"
       ]
      },
      {
       "output_type": "stream",
       "stream": "stdout",
       "text": [
        " : http://www.fht360.com/companylist/145-3.html\n",
        "0.58"
       ]
      },
      {
       "output_type": "stream",
       "stream": "stdout",
       "text": [
        " : http://www.fht360.com/companylist/144-2.html\n",
        "0.51"
       ]
      },
      {
       "output_type": "stream",
       "stream": "stdout",
       "text": [
        " : http://www.fht360.com/companylist/149-2.html\n",
        "1.38"
       ]
      },
      {
       "output_type": "stream",
       "stream": "stdout",
       "text": [
        " : http://www.fht360.com/companylist/148-3.html\n",
        "0.51"
       ]
      },
      {
       "output_type": "stream",
       "stream": "stdout",
       "text": [
        " : http://www.fht360.com/companylist/162/3-2-1276.html\n",
        "0.53"
       ]
      },
      {
       "output_type": "stream",
       "stream": "stdout",
       "text": [
        " : http://www.fht360.com/productlist/415-8-860.html\n",
        "0.33"
       ]
      },
      {
       "output_type": "stream",
       "stream": "stdout",
       "text": [
        " : http://www.fht360.com/productlist/248/159-10.html\n",
        "0.36"
       ]
      },
      {
       "output_type": "stream",
       "stream": "stdout",
       "text": [
        " : http://www.fht360.com/productlist/280/2031-2-2137.html\n",
        "0.42"
       ]
      },
      {
       "output_type": "stream",
       "stream": "stdout",
       "text": [
        " : http://www.fht360.com/productlist/264/159-10.html\n",
        "0.24"
       ]
      },
      {
       "output_type": "stream",
       "stream": "stdout",
       "text": [
        " : http://www.fht360.com/productlist/264/187-2.html\n",
        "0.47"
       ]
      },
      {
       "output_type": "stream",
       "stream": "stdout",
       "text": [
        " : http://www.fht360.com/companylist/244/10859-2.html\n",
        "0.53"
       ]
      },
      {
       "output_type": "stream",
       "stream": "stdout",
       "text": [
        " : http://www.fht360.com/productlist/438/10003-8-1487.html\n",
        "1.18"
       ]
      },
      {
       "output_type": "stream",
       "stream": "stdout",
       "text": [
        " : http://www.fht360.com/companylist/164-4-1.html\n",
        "0.61"
       ]
      },
      {
       "output_type": "stream",
       "stream": "stdout",
       "text": [
        " : http://www.fht360.com/productlist/345-2-1662.html\n",
        "0.52"
       ]
      },
      {
       "output_type": "stream",
       "stream": "stdout",
       "text": [
        " : http://www.fht360.com/productlist/248-2-1.html\n",
        "2.51"
       ]
      },
      {
       "output_type": "stream",
       "stream": "stdout",
       "text": [
        " : http://www.fht360.com/productlist/309-3-860.html\n",
        "1.74"
       ]
      },
      {
       "output_type": "stream",
       "stream": "stdout",
       "text": [
        " : http://www.fht360.com/companylist/164/3-2-191.html\n",
        "1.04"
       ]
      },
      {
       "output_type": "stream",
       "stream": "stdout",
       "text": [
        " : http://www.fht360.com/productlist/238/1005-2-1487.html\n",
        "0.68"
       ]
      },
      {
       "output_type": "stream",
       "stream": "stdout",
       "text": [
        " : http://www.fht360.com/companylist/177-2-2137.html\n",
        "0.46"
       ]
      },
      {
       "output_type": "stream",
       "stream": "stdout",
       "text": [
        " : http://www.fht360.com/productlist/280-4-39.html\n",
        "0.52"
       ]
      },
      {
       "output_type": "stream",
       "stream": "stdout",
       "text": [
        " : http://www.fht360.com/companylist/184/10835-2.html\n",
        "0.38"
       ]
      },
      {
       "output_type": "stream",
       "stream": "stdout",
       "text": [
        " : http://www.fht360.com/productlist/343/17632-3-2137.html\n",
        "0.73"
       ]
      },
      {
       "output_type": "stream",
       "stream": "stdout",
       "text": [
        " : http://www.fht360.com/productlist/260/8-27-880.html\n",
        "0.72"
       ]
      },
      {
       "output_type": "stream",
       "stream": "stdout",
       "text": [
        " : http://www.fht360.com/companylist/167/3-2-1051.html\n",
        "0.78"
       ]
      },
      {
       "output_type": "stream",
       "stream": "stdout",
       "text": [
        " : http://www.fht360.com/productlist/387/19091-2-860.html\n",
        "0.88"
       ]
      },
      {
       "output_type": "stream",
       "stream": "stdout",
       "text": [
        " : http://www.fht360.com/productlist/231/507-11-39.html\n",
        "0.66"
       ]
      },
      {
       "output_type": "stream",
       "stream": "stdout",
       "text": [
        " : http://www.fht360.com/companylist/164-2-191.html\n",
        "0.27"
       ]
      },
      {
       "output_type": "stream",
       "stream": "stdout",
       "text": [
        " : http://www.fht360.com/productlist/358/1650-2.html\n",
        "0.48"
       ]
      },
      {
       "output_type": "stream",
       "stream": "stdout",
       "text": [
        " : http://www.fht360.com/productlist/324/12421-2-1364.html\n",
        "0.55"
       ]
      },
      {
       "output_type": "stream",
       "stream": "stdout",
       "text": [
        " : http://www.fht360.com/productlist/264/159-3-39.html\n",
        "0.93"
       ]
      },
      {
       "output_type": "stream",
       "stream": "stdout",
       "text": [
        " : http://www.fht360.com/productlist/395/14724-6-2137.html\n",
        "0.87"
       ]
      },
      {
       "output_type": "stream",
       "stream": "stdout",
       "text": [
        " : http://www.fht360.com/productlist/239/340-20.html\n",
        "0.53"
       ]
      },
      {
       "output_type": "stream",
       "stream": "stdout",
       "text": [
        " : http://www.fht360.com/companylist/39/10501-2.html\n",
        "0.48"
       ]
      },
      {
       "output_type": "stream",
       "stream": "stdout",
       "text": [
        " : http://www.fht360.com/companylist/48/3-2-1070.html\n",
        "0.46"
       ]
      },
      {
       "output_type": "stream",
       "stream": "stdout",
       "text": [
        " : http://www.fht360.com/productlist/251/8-3-1662.html\n",
        "0.44"
       ]
      },
      {
       "output_type": "stream",
       "stream": "stdout",
       "text": [
        " : http://www.fht360.com/productlist/438/10003-4-39.html\n",
        "0.44"
       ]
      },
      {
       "output_type": "stream",
       "stream": "stdout",
       "text": [
        " : http://www.fht360.com/productlist/277-3-860.html\n",
        "0.52"
       ]
      },
      {
       "output_type": "stream",
       "stream": "stdout",
       "text": [
        " : http://www.fht360.com/companylist/139/10720-2.html\n",
        "4.56"
       ]
      },
      {
       "output_type": "stream",
       "stream": "stdout",
       "text": [
        " : http://www.fht360.com/companylist/47-3-2164.html\n",
        "0.96"
       ]
      },
      {
       "output_type": "stream",
       "stream": "stdout",
       "text": [
        " : http://www.fht360.com/productlist/228-5-39.html\n",
        "0.49"
       ]
      },
      {
       "output_type": "stream",
       "stream": "stdout",
       "text": [
        " : http://www.fht360.com/companylist/43-2-860.html\n",
        "0.52"
       ]
      },
      {
       "output_type": "stream",
       "stream": "stdout",
       "text": [
        " : http://www.fht360.com/companylist/162/3-2-1070.html\n",
        "1.93"
       ]
      },
      {
       "output_type": "stream",
       "stream": "stdout",
       "text": [
        " : http://www.fht360.com/productlist/283/17261-2-3065.html\n",
        "1.14"
       ]
      },
      {
       "output_type": "stream",
       "stream": "stdout",
       "text": [
        " : http://www.fht360.com/productlist/351/13621-2.html\n",
        "0.48"
       ]
      },
      {
       "output_type": "stream",
       "stream": "stdout",
       "text": [
        " : http://www.fht360.com/companylist/162/3-2-706.html\n",
        "0.49"
       ]
      },
      {
       "output_type": "stream",
       "stream": "stdout",
       "text": [
        " : http://www.fht360.com/productlist/438-4-39.html\n",
        "0.27"
       ]
      },
      {
       "output_type": "stream",
       "stream": "stdout",
       "text": [
        " : http://www.fht360.com/productlist/231/7898-3.html\n",
        "0.55"
       ]
      },
      {
       "output_type": "stream",
       "stream": "stdout",
       "text": [
        " : http://www.fht360.com/companylist/137-6-2278.html\n",
        "1.19"
       ]
      },
      {
       "output_type": "stream",
       "stream": "stdout",
       "text": [
        " : http://www.fht360.com/productlist/424-38-1260.html\n",
        "0.63"
       ]
      },
      {
       "output_type": "stream",
       "stream": "stdout",
       "text": [
        " : http://www.fht360.com/companylist/78-2-880.html\n",
        "1.08"
       ]
      },
      {
       "output_type": "stream",
       "stream": "stdout",
       "text": [
        " : http://www.fht360.com/productlist/359/12329-3-860.html\n",
        "0.39"
       ]
      },
      {
       "output_type": "stream",
       "stream": "stdout",
       "text": [
        " : http://www.fht360.com/productlist/283/97-6-1487.html\n",
        "0.50"
       ]
      },
      {
       "output_type": "stream",
       "stream": "stdout",
       "text": [
        " : http://www.fht360.com/companylist/165/3-6-2169.html\n",
        "0.41"
       ]
      },
      {
       "output_type": "stream",
       "stream": "stdout",
       "text": [
        " : http://www.fht360.com/productlist/433/15239-2-1487.html\n",
        "0.78"
       ]
      },
      {
       "output_type": "stream",
       "stream": "stdout",
       "text": [
        " : http://www.fht360.com/productlist/431/14724-6-2137.html\n",
        "1.16"
       ]
      },
      {
       "output_type": "stream",
       "stream": "stdout",
       "text": [
        " : http://www.fht360.com/companylist/162/3-2-881.html\n",
        "1.07"
       ]
      },
      {
       "output_type": "stream",
       "stream": "stdout",
       "text": [
        " : http://www.fht360.com/companylist/162/3-22-880.html\n",
        "0.47"
       ]
      },
      {
       "output_type": "stream",
       "stream": "stdout",
       "text": [
        " : http://www.fht360.com/productlist/273-4-1487.html\n",
        "1.40"
       ]
      },
      {
       "output_type": "stream",
       "stream": "stdout",
       "text": [
        " : http://www.fht360.com/productlist/341-4-1487.html\n",
        "1.29"
       ]
      },
      {
       "output_type": "stream",
       "stream": "stdout",
       "text": [
        " : http://www.fht360.com/productlist/435-4-39.html\n",
        "0.50"
       ]
      },
      {
       "output_type": "stream",
       "stream": "stdout",
       "text": [
        " : http://www.fht360.com/companylist/212-2-2137.html\n",
        "0.44"
       ]
      },
      {
       "output_type": "stream",
       "stream": "stdout",
       "text": [
        " : http://www.fht360.com/productlist/379/19091-2-860.html\n",
        "0.47"
       ]
      },
      {
       "output_type": "stream",
       "stream": "stdout",
       "text": [
        " : http://www.fht360.com/productlist/247/13319-13.html\n",
        "0.42"
       ]
      },
      {
       "output_type": "stream",
       "stream": "stdout",
       "text": [
        " : http://www.fht360.com/productlist/363/13572-3-1487.html\n",
        "0.14"
       ]
      },
      {
       "output_type": "stream",
       "stream": "stdout",
       "text": [
        " : http://www.fht360.com/productlist/266-20.html\n",
        "0.72"
       ]
      },
      {
       "output_type": "stream",
       "stream": "stdout",
       "text": [
        " : http://www.fht360.com/productlist/264-60.html\n",
        "0.71"
       ]
      },
      {
       "output_type": "stream",
       "stream": "stdout",
       "text": [
        " : http://www.fht360.com/productlist/262-20.html\n",
        "0.75"
       ]
      },
      {
       "output_type": "stream",
       "stream": "stdout",
       "text": [
        " : http://www.fht360.com/productlist/263-57.html\n",
        "0.34"
       ]
      },
      {
       "output_type": "stream",
       "stream": "stdout",
       "text": [
        " : http://www.fht360.com/productlist/261-28.html\n",
        "1.32"
       ]
      },
      {
       "output_type": "stream",
       "stream": "stdout",
       "text": [
        " : http://www.fht360.com/productlist/437/51-2-1009.html\n",
        "0.41"
       ]
      },
      {
       "output_type": "stream",
       "stream": "stdout",
       "text": [
        " : http://www.fht360.com/productlist/310/10931-5.html\n",
        "0.51"
       ]
      },
      {
       "output_type": "stream",
       "stream": "stdout",
       "text": [
        " : http://www.fht360.com/companylist/210/4-4-1487.html\n",
        "0.64"
       ]
      },
      {
       "output_type": "stream",
       "stream": "stdout",
       "text": [
        " : http://www.fht360.com/companylist/67/10362-2.html\n",
        "0.38"
       ]
      },
      {
       "output_type": "stream",
       "stream": "stdout",
       "text": [
        " : http://www.fht360.com/productlist/272/3609-2-1487.html\n",
        "0.32"
       ]
      },
      {
       "output_type": "stream",
       "stream": "stdout",
       "text": [
        " : http://www.fht360.com/productlist/234/3349-2.html\n",
        "0.14"
       ]
      },
      {
       "output_type": "stream",
       "stream": "stdout",
       "text": [
        " : http://www.fht360.com/productlist/264/390-15.html\n",
        "1.19"
       ]
      },
      {
       "output_type": "stream",
       "stream": "stdout",
       "text": [
        " : http://www.fht360.com/companylist/210/4-2-1488.html\n",
        "0.30"
       ]
      },
      {
       "output_type": "stream",
       "stream": "stdout",
       "text": [
        " : http://www.fht360.com/productlist/335/12753-3.html\n",
        "0.48"
       ]
      },
      {
       "output_type": "stream",
       "stream": "stdout",
       "text": [
        " : http://www.fht360.com/companylist/162-2-706.html\n",
        "0.43"
       ]
      },
      {
       "output_type": "stream",
       "stream": "stdout",
       "text": [
        " : http://www.fht360.com/productlist/334/7903-2.html\n",
        "0.79"
       ]
      },
      {
       "output_type": "stream",
       "stream": "stdout",
       "text": [
        " : http://www.fht360.com/productlist/432/14833-12.html\n",
        "0.44"
       ]
      },
      {
       "output_type": "stream",
       "stream": "stdout",
       "text": [
        " : http://www.fht360.com/productlist/246/13443-3.html\n",
        "0.27"
       ]
      },
      {
       "output_type": "stream",
       "stream": "stdout",
       "text": [
        " : http://www.fht360.com/productlist/299/10445-2.html\n",
        "0.43"
       ]
      },
      {
       "output_type": "stream",
       "stream": "stdout",
       "text": [
        " : http://www.fht360.com/productlist/234/15624-4-1487.html\n",
        "0.46"
       ]
      },
      {
       "output_type": "stream",
       "stream": "stdout",
       "text": [
        " : http://www.fht360.com/productlist/351-5-1260.html\n",
        "0.28"
       ]
      },
      {
       "output_type": "stream",
       "stream": "stdout",
       "text": [
        " : http://www.fht360.com/productlist/246/12331-3.html\n",
        "0.51"
       ]
      },
      {
       "output_type": "stream",
       "stream": "stdout",
       "text": [
        " : http://www.fht360.com/productlist/324/12421-5-1260.html\n",
        "0.40"
       ]
      },
      {
       "output_type": "stream",
       "stream": "stdout",
       "text": [
        " : http://www.fht360.com/productlist/241/16044-2-2137.html\n",
        "0.53"
       ]
      },
      {
       "output_type": "stream",
       "stream": "stdout",
       "text": [
        " : http://www.fht360.com/companylist/164/3-3-2144.html\n",
        "0.72"
       ]
      },
      {
       "output_type": "stream",
       "stream": "stdout",
       "text": [
        " : http://www.fht360.com/companylist/164/3-2-2147.html\n",
        "0.55"
       ]
      },
      {
       "output_type": "stream",
       "stream": "stdout",
       "text": [
        " : http://www.fht360.com/companylist/164/3-2-2143.html\n",
        "0.54"
       ]
      },
      {
       "output_type": "stream",
       "stream": "stdout",
       "text": [
        " : http://www.fht360.com/productlist/227/10511-5-1009.html\n",
        "0.88"
       ]
      },
      {
       "output_type": "stream",
       "stream": "stdout",
       "text": [
        " : http://www.fht360.com/productlist/236-2-1122.html\n",
        "0.51"
       ]
      },
      {
       "output_type": "stream",
       "stream": "stdout",
       "text": [
        " : http://www.fht360.com/companylist/165-3-1500.html\n",
        "0.59"
       ]
      },
      {
       "output_type": "stream",
       "stream": "stdout",
       "text": [
        " : http://www.fht360.com/companylist/189/10465-2.html\n",
        "0.31"
       ]
      },
      {
       "output_type": "stream",
       "stream": "stdout",
       "text": [
        " : http://www.fht360.com/productlist/231/37-2.html\n",
        "0.45"
       ]
      },
      {
       "output_type": "stream",
       "stream": "stdout",
       "text": [
        " : http://www.fht360.com/productlist/332/2995-2.html\n",
        "1.62"
       ]
      },
      {
       "output_type": "stream",
       "stream": "stdout",
       "text": [
        " : http://www.fht360.com/productlist/424/2-41-1.html\n",
        "1.10"
       ]
      },
      {
       "output_type": "stream",
       "stream": "stdout",
       "text": [
        " : http://www.fht360.com/productlist/356/13402-7.html\n",
        "0.39"
       ]
      },
      {
       "output_type": "stream",
       "stream": "stdout",
       "text": [
        " : http://www.fht360.com/productlist/402-6.html\n",
        "0.76"
       ]
      },
      {
       "output_type": "stream",
       "stream": "stdout",
       "text": [
        " : http://www.fht360.com/productlist/305-4-2137.html\n",
        "0.53"
       ]
      },
      {
       "output_type": "stream",
       "stream": "stdout",
       "text": [
        " : http://www.fht360.com/productlist/309/12114-6.html\n",
        "0.39"
       ]
      },
      {
       "output_type": "stream",
       "stream": "stdout",
       "text": [
        " : http://www.fht360.com/productlist/400-2.html\n",
        "0.53"
       ]
      },
      {
       "output_type": "stream",
       "stream": "stdout",
       "text": [
        " : http://www.fht360.com/companylist/37/8-2-991.html\n",
        "0.34"
       ]
      },
      {
       "output_type": "stream",
       "stream": "stdout",
       "text": [
        " : http://www.fht360.com/productlist/401-7.html\n",
        "0.43"
       ]
      },
      {
       "output_type": "stream",
       "stream": "stdout",
       "text": [
        " : http://www.fht360.com/productlist/231/13324-6-2137.html\n",
        "0.51"
       ]
      },
      {
       "output_type": "stream",
       "stream": "stdout",
       "text": [
        " : http://www.fht360.com/productlist/433/15235-2-39.html\n",
        "0.60"
       ]
      },
      {
       "output_type": "stream",
       "stream": "stdout",
       "text": [
        " : http://www.fht360.com/companylist/162/3-3-40.html\n",
        "0.37"
       ]
      },
      {
       "output_type": "stream",
       "stream": "stdout",
       "text": [
        " : http://www.fht360.com/productlist/226/7869-2.html\n",
        "0.25"
       ]
      },
      {
       "output_type": "stream",
       "stream": "stdout",
       "text": [
        " : http://www.fht360.com/productlist/361/13127-3.html\n",
        "0.56"
       ]
      },
      {
       "output_type": "stream",
       "stream": "stdout",
       "text": [
        " : http://www.fht360.com/productlist/301-24-880.html\n",
        "0.47"
       ]
      },
      {
       "output_type": "stream",
       "stream": "stdout",
       "text": [
        " : http://www.fht360.com/productlist/341/12855-2-2137.html\n",
        "1.34"
       ]
      },
      {
       "output_type": "stream",
       "stream": "stdout",
       "text": [
        " : http://www.fht360.com/productlist/335-8-880.html\n",
        "1.14"
       ]
      },
      {
       "output_type": "stream",
       "stream": "stdout",
       "text": [
        " : http://www.fht360.com/productlist/375/3386-2.html\n",
        "1.18"
       ]
      },
      {
       "output_type": "stream",
       "stream": "stdout",
       "text": [
        " : http://www.fht360.com/productlist/237-5-2137.html\n",
        "0.72"
       ]
      },
      {
       "output_type": "stream",
       "stream": "stdout",
       "text": [
        " : http://www.fht360.com/productlist/321-4.html\n",
        "0.58"
       ]
      },
      {
       "output_type": "stream",
       "stream": "stdout",
       "text": [
        " : http://www.fht360.com/companylist/167/3-13-1009.html\n",
        "0.38"
       ]
      },
      {
       "output_type": "stream",
       "stream": "stdout",
       "text": [
        " : http://www.fht360.com/productlist/237/10451-2-1009.html\n",
        "0.54"
       ]
      },
      {
       "output_type": "stream",
       "stream": "stdout",
       "text": [
        " : http://www.fht360.com/companylist/165-3-40.html\n",
        "0.63"
       ]
      },
      {
       "output_type": "stream",
       "stream": "stdout",
       "text": [
        " : http://www.fht360.com/productlist/237/10402-2.html\n",
        "0.82"
       ]
      },
      {
       "output_type": "stream",
       "stream": "stdout",
       "text": [
        " : http://www.fht360.com/productlist/274-10-880.html\n",
        "0.49"
       ]
      },
      {
       "output_type": "stream",
       "stream": "stdout",
       "text": [
        " : http://www.fht360.com/productlist/301/7857-3-39.html\n",
        "0.46"
       ]
      },
      {
       "output_type": "stream",
       "stream": "stdout",
       "text": [
        " : http://www.fht360.com/productlist/247-2-39.html\n",
        "0.45"
       ]
      },
      {
       "output_type": "stream",
       "stream": "stdout",
       "text": [
        " : http://www.fht360.com/companylist/83-3-880.html\n",
        "0.53"
       ]
      },
      {
       "output_type": "stream",
       "stream": "stdout",
       "text": [
        " : http://www.fht360.com/companylist/74/10297-2.html\n",
        "0.58"
       ]
      },
      {
       "output_type": "stream",
       "stream": "stdout",
       "text": [
        " : http://www.fht360.com/companylist/34/10266-2.html\n",
        "4.48"
       ]
      },
      {
       "output_type": "stream",
       "stream": "stdout",
       "text": [
        " : http://www.fht360.com/companylist/34/10269-2.html\n",
        "1.98"
       ]
      },
      {
       "output_type": "stream",
       "stream": "stdout",
       "text": [
        " : http://www.fht360.com/productlist/231/7-69.html\n",
        "2.40"
       ]
      },
      {
       "output_type": "stream",
       "stream": "stdout",
       "text": [
        " : http://www.fht360.com/productlist/233/15982-13.html\n",
        "1.38"
       ]
      },
      {
       "output_type": "stream",
       "stream": "stdout",
       "text": [
        " : http://www.fht360.com/companylist/37/10783-2.html\n",
        "0.66"
       ]
      },
      {
       "output_type": "stream",
       "stream": "stdout",
       "text": [
        " : http://www.fht360.com/productlist/246/13237-4-2137.html\n",
        "0.86"
       ]
      },
      {
       "output_type": "stream",
       "stream": "stdout",
       "text": [
        " : http://www.fht360.com/productlist/239/340-2-1662.html\n",
        "0.81"
       ]
      },
      {
       "output_type": "stream",
       "stream": "stdout",
       "text": [
        " : http://www.fht360.com/companylist/68/10307-2.html\n",
        "0.75"
       ]
      },
      {
       "output_type": "stream",
       "stream": "stdout",
       "text": [
        " : http://www.fht360.com/companylist/68/10306-2.html\n",
        "0.63"
       ]
      },
      {
       "output_type": "stream",
       "stream": "stdout",
       "text": [
        " : http://www.fht360.com/companylist/68/10300-2.html\n",
        "1.41"
       ]
      },
      {
       "output_type": "stream",
       "stream": "stdout",
       "text": [
        " : http://www.fht360.com/productlist/247/42-5.html\n",
        "1.29"
       ]
      },
      {
       "output_type": "stream",
       "stream": "stdout",
       "text": [
        " : http://www.fht360.com/productlist/337/12188-9.html\n",
        "0.54"
       ]
      },
      {
       "output_type": "stream",
       "stream": "stdout",
       "text": [
        " : http://www.fht360.com/productlist/337/12182-8.html\n",
        "0.55"
       ]
      },
      {
       "output_type": "stream",
       "stream": "stdout",
       "text": [
        " : http://www.fht360.com/companylist/58-2-2137.html\n",
        "0.49"
       ]
      },
      {
       "output_type": "stream",
       "stream": "stdout",
       "text": [
        " : http://www.fht360.com/productlist/231/11053-4.html\n",
        "0.46"
       ]
      },
      {
       "output_type": "stream",
       "stream": "stdout",
       "text": [
        " : http://www.fht360.com/productlist/400/19080-2.html\n",
        "0.75"
       ]
      },
      {
       "output_type": "stream",
       "stream": "stdout",
       "text": [
        " : http://www.fht360.com/productlist/351-2-2830.html\n",
        "0.51"
       ]
      },
      {
       "output_type": "stream",
       "stream": "stdout",
       "text": [
        " : http://www.fht360.com/productlist/427/12171-10.html\n",
        "0.64"
       ]
      },
      {
       "output_type": "stream",
       "stream": "stdout",
       "text": [
        " : http://www.fht360.com/productlist/351/13572-3-1487.html\n",
        "0.62"
       ]
      },
      {
       "output_type": "stream",
       "stream": "stdout",
       "text": [
        " : http://www.fht360.com/companylist/137/10187-2.html\n",
        "0.75"
       ]
      },
      {
       "output_type": "stream",
       "stream": "stdout",
       "text": [
        " : http://www.fht360.com/companylist/137/10181-2.html\n",
        "0.92"
       ]
      },
      {
       "output_type": "stream",
       "stream": "stdout",
       "text": [
        " : http://www.fht360.com/companylist/137/10182-2.html\n",
        "0.79"
       ]
      },
      {
       "output_type": "stream",
       "stream": "stdout",
       "text": [
        " : http://www.fht360.com/productlist/284-3-1009.html\n",
        "0.73"
       ]
      },
      {
       "output_type": "stream",
       "stream": "stdout",
       "text": [
        " : http://www.fht360.com/productlist/259/615-4-1487.html\n",
        "0.82"
       ]
      },
      {
       "output_type": "stream",
       "stream": "stdout",
       "text": [
        " : http://www.fht360.com/productlist/432-4-1487.html\n",
        "1.04"
       ]
      },
      {
       "output_type": "stream",
       "stream": "stdout",
       "text": [
        " : http://www.fht360.com/productlist/375-3-1662.html\n",
        "1.66"
       ]
      },
      {
       "output_type": "stream",
       "stream": "stdout",
       "text": [
        " : http://www.fht360.com/companylist/193-3-2137.html\n",
        "1.15"
       ]
      },
      {
       "output_type": "stream",
       "stream": "stdout",
       "text": [
        " : http://www.fht360.com/productlist/231/15786-3-2137.html\n",
        "1.44"
       ]
      },
      {
       "output_type": "stream",
       "stream": "stdout",
       "text": [
        " : http://www.fht360.com/productlist/239/564-5.html\n",
        "0.98"
       ]
      },
      {
       "output_type": "stream",
       "stream": "stdout",
       "text": [
        " : http://www.fht360.com/companylist/167-3-918.html\n",
        "0.52"
       ]
      },
      {
       "output_type": "stream",
       "stream": "stdout",
       "text": [
        " : http://www.fht360.com/productlist/235-4-1662.html\n",
        "1.05"
       ]
      },
      {
       "output_type": "stream",
       "stream": "stdout",
       "text": [
        " : http://www.fht360.com/companylist/184-2-2164.html\n",
        "0.81"
       ]
      },
      {
       "output_type": "stream",
       "stream": "stdout",
       "text": [
        " : http://www.fht360.com/productlist/234/307-6-1487.html\n",
        "0.53"
       ]
      },
      {
       "output_type": "stream",
       "stream": "stdout",
       "text": [
        " : http://www.fht360.com/companylist/164-2-1987.html\n",
        "0.96"
       ]
      },
      {
       "output_type": "stream",
       "stream": "stdout",
       "text": [
        " : http://www.fht360.com/companylist/86/8-4.html\n",
        "0.79"
       ]
      },
      {
       "output_type": "stream",
       "stream": "stdout",
       "text": [
        " : http://www.fht360.com/productlist/264/390-4-1.html\n",
        "1.39"
       ]
      },
      {
       "output_type": "stream",
       "stream": "stdout",
       "text": [
        " : http://www.fht360.com/productlist/264/15756-6.html\n",
        "1.59"
       ]
      },
      {
       "output_type": "stream",
       "stream": "stdout",
       "text": [
        " : http://www.fht360.com/productlist/233/640-2-2137.html\n",
        "1.06"
       ]
      },
      {
       "output_type": "stream",
       "stream": "stdout",
       "text": [
        " : http://www.fht360.com/companylist/52-3-2278.html\n",
        "1.09"
       ]
      },
      {
       "output_type": "stream",
       "stream": "stdout",
       "text": [
        " : http://www.fht360.com/productlist/234/10348-3-880.html\n",
        "1.21"
       ]
      },
      {
       "output_type": "stream",
       "stream": "stdout",
       "text": [
        " : http://www.fht360.com/productlist/239/2113-2-1009.html\n",
        "1.66"
       ]
      },
      {
       "output_type": "stream",
       "stream": "stdout",
       "text": [
        " : http://www.fht360.com/companylist/162/3-2-3065.html\n",
        "1.63"
       ]
      },
      {
       "output_type": "stream",
       "stream": "stdout",
       "text": [
        " : http://www.fht360.com/companylist/39/10514-2-2137.html\n",
        "0.71"
       ]
      },
      {
       "output_type": "stream",
       "stream": "stdout",
       "text": [
        " : http://www.fht360.com/productlist/231/15792-4-880.html\n",
        "2.01"
       ]
      },
      {
       "output_type": "stream",
       "stream": "stdout",
       "text": [
        " : http://www.fht360.com/productlist/326/70-2-2137.html\n",
        "2.76"
       ]
      },
      {
       "output_type": "stream",
       "stream": "stdout",
       "text": [
        " : http://www.fht360.com/companylist/76-2-2164.html\n",
        "0.29"
       ]
      },
      {
       "output_type": "stream",
       "stream": "stdout",
       "text": [
        " : http://www.fht360.com/productlist/233-8-1662.html\n",
        "0.47"
       ]
      },
      {
       "output_type": "stream",
       "stream": "stdout",
       "text": [
        " : http://www.fht360.com/productlist/372-7.html\n",
        "0.60"
       ]
      },
      {
       "output_type": "stream",
       "stream": "stdout",
       "text": [
        " : http://www.fht360.com/productlist/239/394-3-1662.html\n",
        "1.01"
       ]
      },
      {
       "output_type": "stream",
       "stream": "stdout",
       "text": [
        " : http://www.fht360.com/productlist/239-47-880.html\n",
        "1.96"
       ]
      },
      {
       "output_type": "stream",
       "stream": "stdout",
       "text": [
        " : http://www.fht360.com/companylist/59-2-1.html\n",
        "0.79"
       ]
      },
      {
       "output_type": "stream",
       "stream": "stdout",
       "text": [
        " : http://www.fht360.com/companylist/167-2-499.html\n",
        "0.51"
       ]
      },
      {
       "output_type": "stream",
       "stream": "stdout",
       "text": [
        " : http://www.fht360.com/companylist/162/3-2-230.html\n",
        "1.12"
       ]
      },
      {
       "output_type": "stream",
       "stream": "stdout",
       "text": [
        " : http://www.fht360.com/productlist/309/76-4-2137.html\n",
        "0.49"
       ]
      },
      {
       "output_type": "stream",
       "stream": "stdout",
       "text": [
        " : http://www.fht360.com/productlist/231/11042-5-1662.html\n",
        "0.47"
       ]
      },
      {
       "output_type": "stream",
       "stream": "stdout",
       "text": [
        " : http://www.fht360.com/companylist/162/3-2-499.html\n",
        "0.36"
       ]
      },
      {
       "output_type": "stream",
       "stream": "stdout",
       "text": [
        " : http://www.fht360.com/productlist/238/131-3-880.html\n",
        "0.49"
       ]
      },
      {
       "output_type": "stream",
       "stream": "stdout",
       "text": [
        " : http://www.fht360.com/productlist/246-1-20.html\n",
        "0.55"
       ]
      },
      {
       "output_type": "stream",
       "stream": "stdout",
       "text": [
        " : http://www.fht360.com/companylist/43/10198-2.html\n",
        "7.06"
       ]
      },
      {
       "output_type": "stream",
       "stream": "stdout",
       "text": [
        " : http://www.fht360.com/companylist/51/10308-2.html\n",
        "0.55"
       ]
      },
      {
       "output_type": "stream",
       "stream": "stdout",
       "text": [
        " : http://www.fht360.com/companylist/50/10840-2.html\n",
        "1.76"
       ]
      },
      {
       "output_type": "stream",
       "stream": "stdout",
       "text": [
        " : http://www.fht360.com/productlist/337/12207-2-2137.html\n",
        "0.47"
       ]
      },
      {
       "output_type": "stream",
       "stream": "stdout",
       "text": [
        " : http://www.fht360.com/companylist/167-2-2279.html\n",
        "0.47"
       ]
      },
      {
       "output_type": "stream",
       "stream": "stdout",
       "text": [
        " : http://www.fht360.com/companylist/167-15-2278.html\n",
        "0.77"
       ]
      },
      {
       "output_type": "stream",
       "stream": "stdout",
       "text": [
        " : http://www.fht360.com/productlist/326-13-880.html\n",
        "0.48"
       ]
      },
      {
       "output_type": "stream",
       "stream": "stdout",
       "text": [
        " : http://www.fht360.com/companylist/164/3-2-111.html\n",
        "0.41"
       ]
      },
      {
       "output_type": "stream",
       "stream": "stdout",
       "text": [
        " : http://www.fht360.com/productlist/368-5-860.html\n",
        "0.97"
       ]
      },
      {
       "output_type": "stream",
       "stream": "stdout",
       "text": [
        " : http://www.fht360.com/productlist/245/11590-12.html\n",
        "1.26"
       ]
      },
      {
       "output_type": "stream",
       "stream": "stdout",
       "text": [
        " : http://www.fht360.com/companylist/34-2-2186.html\n",
        "0.44"
       ]
      },
      {
       "output_type": "stream",
       "stream": "stdout",
       "text": [
        " : http://www.fht360.com/productlist/302-2-706.html\n",
        "1.15"
       ]
      },
      {
       "output_type": "stream",
       "stream": "stdout",
       "text": [
        " : http://www.fht360.com/productlist/352/5157-4-860.html\n",
        "1.34"
       ]
      },
      {
       "output_type": "stream",
       "stream": "stdout",
       "text": [
        " : http://www.fht360.com/productlist/333-6-2137.html\n",
        "1.12"
       ]
      },
      {
       "output_type": "stream",
       "stream": "stdout",
       "text": [
        " : http://www.fht360.com/companylist/162-10-2138.html\n",
        "0.44"
       ]
      },
      {
       "output_type": "stream",
       "stream": "stdout",
       "text": [
        " : http://www.fht360.com/productlist/241/346-2-39.html\n",
        "0.54"
       ]
      },
      {
       "output_type": "stream",
       "stream": "stdout",
       "text": [
        " : http://www.fht360.com/companylist/74/10502-2.html\n",
        "0.38"
       ]
      },
      {
       "output_type": "stream",
       "stream": "stdout",
       "text": [
        " : http://www.fht360.com/productlist/241/16034-2-39.html\n",
        "0.49"
       ]
      },
      {
       "output_type": "stream",
       "stream": "stdout",
       "text": [
        " : http://www.fht360.com/productlist/246-2-3065.html\n",
        "0.24"
       ]
      },
      {
       "output_type": "stream",
       "stream": "stdout",
       "text": [
        " : http://www.fht360.com/productlist/426/14895-6.html\n",
        "0.53"
       ]
      },
      {
       "output_type": "stream",
       "stream": "stdout",
       "text": [
        " : http://www.fht360.com/companylist/39-6-880.html\n",
        "0.61"
       ]
      },
      {
       "output_type": "stream",
       "stream": "stdout",
       "text": [
        " : http://www.fht360.com/companylist/61-2-1487.html\n",
        "0.51"
       ]
      },
      {
       "output_type": "stream",
       "stream": "stdout",
       "text": [
        " : http://www.fht360.com/companylist/167-10-2138.html\n",
        "1.62"
       ]
      },
      {
       "output_type": "stream",
       "stream": "stdout",
       "text": [
        " : http://www.fht360.com/companylist/167-45-2137.html\n",
        "0.17"
       ]
      },
      {
       "output_type": "stream",
       "stream": "stdout",
       "text": [
        " : http://www.fht360.com/productlist/258-4.html\n",
        "0.32"
       ]
      },
      {
       "output_type": "stream",
       "stream": "stdout",
       "text": [
        " : http://www.fht360.com/productlist/239/1116-2.html\n",
        "0.30"
       ]
      },
      {
       "output_type": "stream",
       "stream": "stdout",
       "text": [
        " : http://www.fht360.com/productlist/431/11763-8.html\n",
        "0.14"
       ]
      },
      {
       "output_type": "stream",
       "stream": "stdout",
       "text": [
        " : http://www.fht360.com/productlist/231/15545-5.html\n",
        "1.24"
       ]
      },
      {
       "output_type": "stream",
       "stream": "stdout",
       "text": [
        " : http://www.fht360.com/companylist/86-2-991.html\n",
        "0.42"
       ]
      },
      {
       "output_type": "stream",
       "stream": "stdout",
       "text": [
        " : http://www.fht360.com/productlist/372/14200-3-2137.html\n",
        "0.47"
       ]
      },
      {
       "output_type": "stream",
       "stream": "stdout",
       "text": [
        " : http://www.fht360.com/productlist/424/14786-3-2137.html\n",
        "0.81"
       ]
      },
      {
       "output_type": "stream",
       "stream": "stdout",
       "text": [
        " : http://www.fht360.com/companylist/170/10927-2.html\n",
        "0.55"
       ]
      },
      {
       "output_type": "stream",
       "stream": "stdout",
       "text": [
        " : http://www.fht360.com/companylist/164/3-3-1122.html\n",
        "0.30"
       ]
      },
      {
       "output_type": "stream",
       "stream": "stdout",
       "text": [
        " : http://www.fht360.com/productlist/428/14747-6.html\n",
        "0.74"
       ]
      },
      {
       "output_type": "stream",
       "stream": "stdout",
       "text": [
        " : http://www.fht360.com/productlist/231/14608-3-1487.html\n",
        "0.35"
       ]
      },
      {
       "output_type": "stream",
       "stream": "stdout",
       "text": [
        " : http://www.fht360.com/productlist/433/15342-2.html\n",
        "0.26"
       ]
      },
      {
       "output_type": "stream",
       "stream": "stdout",
       "text": [
        " : http://www.fht360.com/productlist/231/15894-8.html\n",
        "0.38"
       ]
      },
      {
       "output_type": "stream",
       "stream": "stdout",
       "text": [
        " : http://www.fht360.com/productlist/235/97-4-39.html\n",
        "0.31"
       ]
      },
      {
       "output_type": "stream",
       "stream": "stdout",
       "text": [
        " : http://www.fht360.com/productlist/239/16110-11.html\n",
        "0.44"
       ]
      },
      {
       "output_type": "stream",
       "stream": "stdout",
       "text": [
        " : http://www.fht360.com/productlist/233-4-1.html\n",
        "0.36"
       ]
      },
      {
       "output_type": "stream",
       "stream": "stdout",
       "text": [
        " : http://www.fht360.com/productlist/304/11340-3-1487.html\n",
        "0.33"
       ]
      },
      {
       "output_type": "stream",
       "stream": "stdout",
       "text": [
        " : http://www.fht360.com/productlist/371/13794-12.html\n",
        "0.25"
       ]
      },
      {
       "output_type": "stream",
       "stream": "stdout",
       "text": [
        " : http://www.fht360.com/productlist/244/574-2.html\n",
        "0.75"
       ]
      },
      {
       "output_type": "stream",
       "stream": "stdout",
       "text": [
        " : http://www.fht360.com/companylist/48-3-228.html\n",
        "0.50"
       ]
      },
      {
       "output_type": "stream",
       "stream": "stdout",
       "text": [
        " : http://www.fht360.com/companylist/48-7-221.html\n",
        "0.48"
       ]
      },
      {
       "output_type": "stream",
       "stream": "stdout",
       "text": [
        " : http://www.fht360.com/companylist/48-2-223.html\n",
        "0.53"
       ]
      },
      {
       "output_type": "stream",
       "stream": "stdout",
       "text": [
        " : http://www.fht360.com/companylist/48-3-1619.html\n",
        "0.35"
       ]
      },
      {
       "output_type": "stream",
       "stream": "stdout",
       "text": [
        " : http://www.fht360.com/productlist/236/17428-21.html\n",
        "0.18"
       ]
      },
      {
       "output_type": "stream",
       "stream": "stdout",
       "text": [
        " : http://www.fht360.com/productlist/239/425-2.html\n",
        "0.47"
       ]
      },
      {
       "output_type": "stream",
       "stream": "stdout",
       "text": [
        " : http://www.fht360.com/productlist/337/8441-2-2137.html\n",
        "0.63"
       ]
      },
      {
       "output_type": "stream",
       "stream": "stdout",
       "text": [
        " : http://www.fht360.com/companylist/45-4-1487.html\n",
        "0.77"
       ]
      },
      {
       "output_type": "stream",
       "stream": "stdout",
       "text": [
        " : http://www.fht360.com/companylist/48/3-11-860.html\n",
        "0.49"
       ]
      },
      {
       "output_type": "stream",
       "stream": "stdout",
       "text": [
        " : http://www.fht360.com/productlist/273/10035-2-2137.html\n",
        "0.37"
       ]
      },
      {
       "output_type": "stream",
       "stream": "stdout",
       "text": [
        " : http://www.fht360.com/productlist/233/260-2-880.html\n",
        "0.37"
       ]
      },
      {
       "output_type": "stream",
       "stream": "stdout",
       "text": [
        " : http://www.fht360.com/productlist/354/12437-2-2137.html\n",
        "0.38"
       ]
      },
      {
       "output_type": "stream",
       "stream": "stdout",
       "text": [
        " : http://www.fht360.com/productlist/228/10810-6-1487.html\n",
        "0.42"
       ]
      },
      {
       "output_type": "stream",
       "stream": "stdout",
       "text": [
        " : http://www.fht360.com/productlist/442-2-1009.html\n",
        "0.47"
       ]
      },
      {
       "output_type": "stream",
       "stream": "stdout",
       "text": [
        " : http://www.fht360.com/companylist/46-2-880.html\n",
        "0.38"
       ]
      },
      {
       "output_type": "stream",
       "stream": "stdout",
       "text": [
        " : http://www.fht360.com/productlist/341/11665-3-2137.html\n",
        "0.49"
       ]
      },
      {
       "output_type": "stream",
       "stream": "stdout",
       "text": [
        " : http://www.fht360.com/companylist/40-6-1662.html\n",
        "0.59"
       ]
      },
      {
       "output_type": "stream",
       "stream": "stdout",
       "text": [
        " : http://www.fht360.com/companylist/40-3-1663.html\n",
        "0.85"
       ]
      },
      {
       "output_type": "stream",
       "stream": "stdout",
       "text": [
        " : http://www.fht360.com/productlist/301/64-2-860.html\n",
        "0.26"
       ]
      },
      {
       "output_type": "stream",
       "stream": "stdout",
       "text": [
        " : http://www.fht360.com/productlist/430/14897-2.html\n",
        "0.43"
       ]
      },
      {
       "output_type": "stream",
       "stream": "stdout",
       "text": [
        " : http://www.fht360.com/productlist/429-4-1487.html\n",
        "0.39"
       ]
      },
      {
       "output_type": "stream",
       "stream": "stdout",
       "text": [
        " : http://www.fht360.com/productlist/433/14673-2-2137.html\n",
        "0.48"
       ]
      },
      {
       "output_type": "stream",
       "stream": "stdout",
       "text": [
        " : http://www.fht360.com/companylist/164-2-936.html\n",
        "0.46"
       ]
      },
      {
       "output_type": "stream",
       "stream": "stdout",
       "text": [
        " : http://www.fht360.com/productlist/272-7-2137.html\n",
        "0.48"
       ]
      },
      {
       "output_type": "stream",
       "stream": "stdout",
       "text": [
        " : http://www.fht360.com/companylist/164-2-938.html\n",
        "0.29"
       ]
      },
      {
       "output_type": "stream",
       "stream": "stdout",
       "text": [
        " : http://www.fht360.com/productlist/234/10334-2.html\n",
        "0.47"
       ]
      },
      {
       "output_type": "stream",
       "stream": "stdout",
       "text": [
        " : http://www.fht360.com/companylist/74-2-1038.html\n",
        "0.52"
       ]
      },
      {
       "output_type": "stream",
       "stream": "stdout",
       "text": [
        " : http://www.fht360.com/companylist/49-2-1662.html\n",
        "0.44"
       ]
      },
      {
       "output_type": "stream",
       "stream": "stdout",
       "text": [
        " : http://www.fht360.com/productlist/324/12492-2-1662.html\n",
        "0.44"
       ]
      },
      {
       "output_type": "stream",
       "stream": "stdout",
       "text": [
        " : http://www.fht360.com/productlist/379/363-2-1487.html\n",
        "0.44"
       ]
      },
      {
       "output_type": "stream",
       "stream": "stdout",
       "text": [
        " : http://www.fht360.com/productlist/355/41-2-880.html\n",
        "0.43"
       ]
      },
      {
       "output_type": "stream",
       "stream": "stdout",
       "text": [
        " : http://www.fht360.com/productlist/274/16408-2-2137.html\n",
        "0.43"
       ]
      },
      {
       "output_type": "stream",
       "stream": "stdout",
       "text": [
        " : http://www.fht360.com/productlist/283/185-3-1662.html\n",
        "2.44"
       ]
      },
      {
       "output_type": "stream",
       "stream": "stdout",
       "text": [
        " : http://www.fht360.com/productlist/238/130-2-39.html\n",
        "1.35"
       ]
      },
      {
       "output_type": "stream",
       "stream": "stdout",
       "text": [
        " : http://www.fht360.com/companylist/165/3-2-881.html\n",
        "1.83"
       ]
      },
      {
       "output_type": "stream",
       "stream": "stdout",
       "text": [
        " : http://www.fht360.com/productlist/246/13300-4.html\n",
        "1.41"
       ]
      },
      {
       "output_type": "stream",
       "stream": "stdout",
       "text": [
        " : http://www.fht360.com/productlist/301/265-2.html\n",
        "0.54"
       ]
      },
      {
       "output_type": "stream",
       "stream": "stdout",
       "text": [
        " : http://www.fht360.com/companylist/73/10510-2.html\n",
        "0.36"
       ]
      },
      {
       "output_type": "stream",
       "stream": "stdout",
       "text": [
        " : http://www.fht360.com/productlist/359/12347-10-2137.html\n",
        "0.44"
       ]
      },
      {
       "output_type": "stream",
       "stream": "stdout",
       "text": [
        " : http://www.fht360.com/productlist/429-2-1662.html\n",
        "0.33"
       ]
      },
      {
       "output_type": "stream",
       "stream": "stdout",
       "text": [
        " : http://www.fht360.com/productlist/280/8287-2.html\n",
        "0.38"
       ]
      },
      {
       "output_type": "stream",
       "stream": "stdout",
       "text": [
        " : http://www.fht360.com/productlist/238/129-3-1487.html\n",
        "0.26"
       ]
      },
      {
       "output_type": "stream",
       "stream": "stdout",
       "text": [
        " : http://www.fht360.com/productlist/241/471-2-1122.html\n",
        "0.47"
       ]
      },
      {
       "output_type": "stream",
       "stream": "stdout",
       "text": [
        " : http://www.fht360.com/companylist/165-2-1581.html\n",
        "0.25"
       ]
      },
      {
       "output_type": "stream",
       "stream": "stdout",
       "text": [
        " : http://www.fht360.com/productlist/238/1066-2.html\n",
        "1.28"
       ]
      },
      {
       "output_type": "stream",
       "stream": "stdout",
       "text": [
        " : http://www.fht360.com/productlist/333/71-3-2137.html\n",
        "0.42"
       ]
      },
      {
       "output_type": "stream",
       "stream": "stdout",
       "text": [
        " : http://www.fht360.com/productlist/367-2-860.html\n",
        "0.46"
       ]
      },
      {
       "output_type": "stream",
       "stream": "stdout",
       "text": [
        " : http://www.fht360.com/productlist/351-5-1009.html\n",
        "0.29"
       ]
      },
      {
       "output_type": "stream",
       "stream": "stdout",
       "text": [
        " : http://www.fht360.com/productlist/227/2704-2.html\n",
        "4.40"
       ]
      },
      {
       "output_type": "stream",
       "stream": "stdout",
       "text": [
        " : http://www.fht360.com/companylist/142/10146-2.html\n",
        "0.52"
       ]
      },
      {
       "output_type": "stream",
       "stream": "stdout",
       "text": [
        " : http://www.fht360.com/companylist/48-2-1364.html\n",
        "0.47"
       ]
      },
      {
       "output_type": "stream",
       "stream": "stdout",
       "text": [
        " : http://www.fht360.com/productlist/423-4-2137.html\n",
        "0.41"
       ]
      },
      {
       "output_type": "stream",
       "stream": "stdout",
       "text": [
        " : http://www.fht360.com/productlist/283/17227-2-1.html\n",
        "0.60"
       ]
      },
      {
       "output_type": "stream",
       "stream": "stdout",
       "text": [
        " : http://www.fht360.com/productlist/437-9-2137.html\n",
        "0.72"
       ]
      },
      {
       "output_type": "stream",
       "stream": "stdout",
       "text": [
        " : http://www.fht360.com/productlist/424/2-11-1364.html\n",
        "0.48"
       ]
      },
      {
       "output_type": "stream",
       "stream": "stdout",
       "text": [
        " : http://www.fht360.com/productlist/385/6-2-1987.html\n",
        "0.56"
       ]
      },
      {
       "output_type": "stream",
       "stream": "stdout",
       "text": [
        " : http://www.fht360.com/companylist/137/10929-2.html\n",
        "1.63"
       ]
      },
      {
       "output_type": "stream",
       "stream": "stdout",
       "text": [
        " : http://www.fht360.com/productlist/341/10204-3-880.html\n",
        "0.73"
       ]
      },
      {
       "output_type": "stream",
       "stream": "stdout",
       "text": [
        " : http://www.fht360.com/companylist/39/10530-2-2137.html\n",
        "0.84"
       ]
      },
      {
       "output_type": "stream",
       "stream": "stdout",
       "text": [
        " : http://www.fht360.com/newslist/30-5.html\n",
        "0.90"
       ]
      },
      {
       "output_type": "stream",
       "stream": "stdout",
       "text": [
        " : http://www.fht360.com/newslist/31-101.html\n",
        "0.58"
       ]
      },
      {
       "output_type": "stream",
       "stream": "stdout",
       "text": [
        " : http://www.fht360.com/companylist/39-2-927.html\n",
        "0.30"
       ]
      },
      {
       "output_type": "stream",
       "stream": "stdout",
       "text": [
        " : http://www.fht360.com/productlist/254/260-2.html\n",
        "0.31"
       ]
      },
      {
       "output_type": "stream",
       "stream": "stdout",
       "text": [
        " : http://www.fht360.com/productlist/235/10366-2.html\n",
        "1.00"
       ]
      },
      {
       "output_type": "stream",
       "stream": "stdout",
       "text": [
        " : http://www.fht360.com/productlist/236-16-860.html\n",
        "0.74"
       ]
      },
      {
       "output_type": "stream",
       "stream": "stdout",
       "text": [
        " : http://www.fht360.com/productlist/241/455-2-1487.html\n",
        "0.46"
       ]
      },
      {
       "output_type": "stream",
       "stream": "stdout",
       "text": [
        " : http://www.fht360.com/productlist/283-3-1857.html\n",
        "0.48"
       ]
      },
      {
       "output_type": "stream",
       "stream": "stdout",
       "text": [
        " : http://www.fht360.com/companylist/165-2-2279.html\n",
        "0.48"
       ]
      },
      {
       "output_type": "stream",
       "stream": "stdout",
       "text": [
        " : http://www.fht360.com/companylist/165-15-2278.html\n",
        "0.44"
       ]
      },
      {
       "output_type": "stream",
       "stream": "stdout",
       "text": [
        " : http://www.fht360.com/productlist/260-2-1009.html\n",
        "0.61"
       ]
      },
      {
       "output_type": "stream",
       "stream": "stdout",
       "text": [
        " : http://www.fht360.com/productlist/351/13510-3-2137.html\n",
        "0.43"
       ]
      },
      {
       "output_type": "stream",
       "stream": "stdout",
       "text": [
        " : http://www.fht360.com/productlist/341/12209-3-2137.html\n",
        "0.30"
       ]
      },
      {
       "output_type": "stream",
       "stream": "stdout",
       "text": [
        " : http://www.fht360.com/productlist/431/14724-11.html\n",
        "0.32"
       ]
      },
      {
       "output_type": "stream",
       "stream": "stdout",
       "text": [
        " : http://www.fht360.com/productlist/301/11774-4.html\n",
        "0.28"
       ]
      },
      {
       "output_type": "stream",
       "stream": "stdout",
       "text": [
        " : http://www.fht360.com/productlist/234/11596-2.html\n",
        "0.44"
       ]
      },
      {
       "output_type": "stream",
       "stream": "stdout",
       "text": [
        " : http://www.fht360.com/productlist/428/14715-2-2137.html\n",
        "0.30"
       ]
      },
      {
       "output_type": "stream",
       "stream": "stdout",
       "text": [
        " : http://www.fht360.com/productlist/371/14157-4.html\n",
        "0.33"
       ]
      },
      {
       "output_type": "stream",
       "stream": "stdout",
       "text": [
        " : http://www.fht360.com/productlist/248-20-39.html\n",
        "0.29"
       ]
      },
      {
       "output_type": "stream",
       "stream": "stdout",
       "text": [
        " : http://www.fht360.com/productlist/231/12000-14.html\n",
        "0.38"
       ]
      },
      {
       "output_type": "stream",
       "stream": "stdout",
       "text": [
        " : http://www.fht360.com/productlist/237/193-14.html\n",
        "0.44"
       ]
      },
      {
       "output_type": "stream",
       "stream": "stdout",
       "text": [
        " : http://www.fht360.com/productlist/247/12198-9-2137.html\n",
        "1.35"
       ]
      },
      {
       "output_type": "stream",
       "stream": "stdout",
       "text": [
        " : http://www.fht360.com/companylist/48-13-1009.html\n",
        "0.42"
       ]
      },
      {
       "output_type": "stream",
       "stream": "stdout",
       "text": [
        " : http://www.fht360.com/productlist/227/12420-2.html\n",
        "1.23"
       ]
      },
      {
       "output_type": "stream",
       "stream": "stdout",
       "text": [
        " : http://www.fht360.com/productlist/226/7250-2-1487.html\n",
        "0.89"
       ]
      },
      {
       "output_type": "stream",
       "stream": "stdout",
       "text": [
        " : http://www.fht360.com/productlist/237-2-1662.html\n",
        "0.50"
       ]
      },
      {
       "output_type": "stream",
       "stream": "stdout",
       "text": [
        " : http://www.fht360.com/productlist/239/12076-2-1662.html\n",
        "0.46"
       ]
      },
      {
       "output_type": "stream",
       "stream": "stdout",
       "text": [
        " : http://www.fht360.com/companylist/77/8-2-991.html\n",
        "0.27"
       ]
      },
      {
       "output_type": "stream",
       "stream": "stdout",
       "text": [
        " : http://www.fht360.com/productlist/280/2031-3.html\n",
        "2.14"
       ]
      },
      {
       "output_type": "stream",
       "stream": "stdout",
       "text": [
        " : http://www.fht360.com/productlist/260/8-44.html\n",
        "1.55"
       ]
      },
      {
       "output_type": "stream",
       "stream": "stdout",
       "text": [
        " : http://www.fht360.com/companylist/39/10535-2.html\n",
        "2.00"
       ]
      },
      {
       "output_type": "stream",
       "stream": "stdout",
       "text": [
        " : http://www.fht360.com/companylist/39/10530-2.html\n",
        "0.55"
       ]
      },
      {
       "output_type": "stream",
       "stream": "stdout",
       "text": [
        " : http://www.fht360.com/companylist/39/10531-2.html\n",
        "0.48"
       ]
      },
      {
       "output_type": "stream",
       "stream": "stdout",
       "text": [
        " : http://www.fht360.com/companylist/162-3-1010.html\n",
        "0.62"
       ]
      },
      {
       "output_type": "stream",
       "stream": "stdout",
       "text": [
        " : http://www.fht360.com/companylist/39/10515-2-2164.html\n",
        "0.88"
       ]
      },
      {
       "output_type": "stream",
       "stream": "stdout",
       "text": [
        " : http://www.fht360.com/productlist/351/13638-5.html\n",
        "0.37"
       ]
      },
      {
       "output_type": "stream",
       "stream": "stdout",
       "text": [
        " : http://www.fht360.com/productlist/351/13635-4.html\n",
        "1.42"
       ]
      },
      {
       "output_type": "stream",
       "stream": "stdout",
       "text": [
        " : http://www.fht360.com/productlist/351/13636-2.html\n",
        "0.48"
       ]
      },
      {
       "output_type": "stream",
       "stream": "stdout",
       "text": [
        " : http://www.fht360.com/productlist/286-2-1122.html\n",
        "0.42"
       ]
      },
      {
       "output_type": "stream",
       "stream": "stdout",
       "text": [
        " : http://www.fht360.com/productlist/251/15933-5-2137.html\n",
        "0.47"
       ]
      },
      {
       "output_type": "stream",
       "stream": "stdout",
       "text": [
        " : http://www.fht360.com/companylist/165/3-2-230.html\n",
        "0.27"
       ]
      },
      {
       "output_type": "stream",
       "stream": "stdout",
       "text": [
        " : http://www.fht360.com/productlist/260/16959-4.html\n",
        "0.55"
       ]
      },
      {
       "output_type": "stream",
       "stream": "stdout",
       "text": [
        " : http://www.fht360.com/productlist/349/17694-2.html\n",
        "0.44"
       ]
      },
      {
       "output_type": "stream",
       "stream": "stdout",
       "text": [
        " : http://www.fht360.com/productlist/371/14333-3-2137.html\n",
        "0.47"
       ]
      },
      {
       "output_type": "stream",
       "stream": "stdout",
       "text": [
        " : http://www.fht360.com/companylist/164-2-873.html\n",
        "0.30"
       ]
      },
      {
       "output_type": "stream",
       "stream": "stdout",
       "text": [
        " : http://www.fht360.com/productlist/384/4901-2.html\n",
        "0.42"
       ]
      },
      {
       "output_type": "stream",
       "stream": "stdout",
       "text": [
        " : http://www.fht360.com/productlist/326/11562-2-1662.html\n",
        "0.37"
       ]
      },
      {
       "output_type": "stream",
       "stream": "stdout",
       "text": [
        " : http://www.fht360.com/productlist/231/15792-2-1009.html\n",
        "0.23"
       ]
      },
      {
       "output_type": "stream",
       "stream": "stdout",
       "text": [
        " : http://www.fht360.com/productlist/439/13236-3.html\n",
        "0.51"
       ]
      },
      {
       "output_type": "stream",
       "stream": "stdout",
       "text": [
        " : http://www.fht360.com/companylist/50-3-1487.html\n",
        "0.62"
       ]
      },
      {
       "output_type": "stream",
       "stream": "stdout",
       "text": [
        " : http://www.fht360.com/companylist/193/10929-2.html\n",
        "0.43"
       ]
      },
      {
       "output_type": "stream",
       "stream": "stdout",
       "text": [
        " : http://www.fht360.com/productlist/283/17108-3-1487.html\n",
        "0.53"
       ]
      },
      {
       "output_type": "stream",
       "stream": "stdout",
       "text": [
        " : http://www.fht360.com/companylist/39/10510-2.html\n",
        "0.42"
       ]
      },
      {
       "output_type": "stream",
       "stream": "stdout",
       "text": [
        " : http://www.fht360.com/productlist/242-1-860.html\n",
        "0.57"
       ]
      },
      {
       "output_type": "stream",
       "stream": "stdout",
       "text": [
        " : http://www.fht360.com/companylist/39/10511-2.html\n",
        "0.35"
       ]
      },
      {
       "output_type": "stream",
       "stream": "stdout",
       "text": [
        " : http://www.fht360.com/productlist/231/15792-3-860.html\n",
        "0.46"
       ]
      },
      {
       "output_type": "stream",
       "stream": "stdout",
       "text": [
        " : http://www.fht360.com/companylist/83/8-2-991.html\n",
        "0.29"
       ]
      },
      {
       "output_type": "stream",
       "stream": "stdout",
       "text": [
        " : http://www.fht360.com/productlist/302-3-1662.html\n",
        "0.25"
       ]
      },
      {
       "output_type": "stream",
       "stream": "stdout",
       "text": [
        " : http://www.fht360.com/productlist/246/12350-2.html\n",
        "0.36"
       ]
      },
      {
       "output_type": "stream",
       "stream": "stdout",
       "text": [
        " : http://www.fht360.com/productlist/367/13508-3-2137.html\n",
        "0.63"
       ]
      },
      {
       "output_type": "stream",
       "stream": "stdout",
       "text": [
        " : http://www.fht360.com/productlist/440-3-880.html\n",
        "0.46"
       ]
      },
      {
       "output_type": "stream",
       "stream": "stdout",
       "text": [
        " : http://www.fht360.com/productlist/326-3-1009.html\n",
        "0.44"
       ]
      },
      {
       "output_type": "stream",
       "stream": "stdout",
       "text": [
        " : http://www.fht360.com/productlist/357/6208-2-880.html\n",
        "0.48"
       ]
      },
      {
       "output_type": "stream",
       "stream": "stdout",
       "text": [
        " : http://www.fht360.com/companylist/164/3-4-1553.html\n",
        "0.41"
       ]
      },
      {
       "output_type": "stream",
       "stream": "stdout",
       "text": [
        " : http://www.fht360.com/productlist/240-1-2137.html\n",
        "0.89"
       ]
      },
      {
       "output_type": "stream",
       "stream": "stdout",
       "text": [
        " : http://www.fht360.com/productlist/324/71-5-1487.html\n",
        "0.59"
       ]
      },
      {
       "output_type": "stream",
       "stream": "stdout",
       "text": [
        " : http://www.fht360.com/companylist/86-2-986.html\n",
        "0.46"
       ]
      },
      {
       "output_type": "stream",
       "stream": "stdout",
       "text": [
        " : http://www.fht360.com/productlist/237/820-2-880.html\n",
        "0.71"
       ]
      },
      {
       "output_type": "stream",
       "stream": "stdout",
       "text": [
        " : http://www.fht360.com/productlist/228-2-1009.html\n",
        "0.57"
       ]
      },
      {
       "output_type": "stream",
       "stream": "stdout",
       "text": [
        " : http://www.fht360.com/productlist/283/15627-5.html\n",
        "0.91"
       ]
      },
      {
       "output_type": "stream",
       "stream": "stdout",
       "text": [
        " : http://www.fht360.com/companylist/165/3-2-1514.html\n",
        "0.54"
       ]
      },
      {
       "output_type": "stream",
       "stream": "stdout",
       "text": [
        " : http://www.fht360.com/companylist/165-2-3065.html\n",
        "1.04"
       ]
      },
      {
       "output_type": "stream",
       "stream": "stdout",
       "text": [
        " : http://www.fht360.com/productlist/239/734-6.html\n",
        "0.57"
       ]
      },
      {
       "output_type": "stream",
       "stream": "stdout",
       "text": [
        " : http://www.fht360.com/companylist/105/10616-2-2137.html\n",
        "0.54"
       ]
      },
      {
       "output_type": "stream",
       "stream": "stdout",
       "text": [
        " : http://www.fht360.com/companylist/166/10539-2.html\n",
        "0.43"
       ]
      }
     ]
    },
    {
     "cell_type": "heading",
     "level": 2,
     "metadata": {},
     "source": [
      "#Assert that next page will not be found on server"
     ]
    },
    {
     "cell_type": "code",
     "collapsed": false,
     "input": [
      "def next_page_of_matched_url(match):\n",
      "    url = match.string\n",
      "    start, end = match.span('currpage')\n",
      "    return url[0:start]+str(int(url[start:end])+1)+url[end:]\n",
      "    \n",
      "for match in last_page_matches:\n",
      "    # find next page of matched url\n",
      "    next_page = next_page_of_matched_url(match)\n",
      "    req = requests.get(next_page)\n",
      "    print req.status_code, next_page\n",
      "    assert should_have_been_404(req.text)"
     ],
     "language": "python",
     "metadata": {},
     "outputs": []
    }
   ],
   "metadata": {}
  }
 ]
}