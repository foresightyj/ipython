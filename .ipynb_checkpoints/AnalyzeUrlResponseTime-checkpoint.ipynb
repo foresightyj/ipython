{
 "metadata": {
  "name": "",
  "signature": "sha256:58ce8e1e90654747af2c60e8313cf9780d6411cf6516501a5086750ac5b3cf1c"
 },
 "nbformat": 3,
 "nbformat_minor": 0,
 "worksheets": []
}