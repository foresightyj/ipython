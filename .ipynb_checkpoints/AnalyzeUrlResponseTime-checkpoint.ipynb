{
 "metadata": {
  "name": "",
  "signature": "sha256:f90cbd328c216d1e157c07e44197b0e658ae2f9b5140dd39b331373ce14a4cc6"
 },
 "nbformat": 3,
 "nbformat_minor": 0,
 "worksheets": [
  {
   "cells": [
    {
     "cell_type": "code",
     "collapsed": false,
     "input": [
      "!pwd"
     ],
     "language": "python",
     "metadata": {},
     "outputs": [
      {
       "output_type": "stream",
       "stream": "stdout",
       "text": [
        "C:\\Users\\yj\\Documents\\IPython Notebooks\n"
       ]
      }
     ],
     "prompt_number": 275
    },
    {
     "cell_type": "code",
     "collapsed": false,
     "input": [
      "url_times = !cat urls_tested.log"
     ],
     "language": "python",
     "metadata": {},
     "outputs": [],
     "prompt_number": 290
    },
    {
     "cell_type": "code",
     "collapsed": false,
     "input": [
      "print len(url_times)"
     ],
     "language": "python",
     "metadata": {},
     "outputs": [
      {
       "output_type": "stream",
       "stream": "stdout",
       "text": [
        "664\n"
       ]
      }
     ],
     "prompt_number": 291
    },
    {
     "cell_type": "code",
     "collapsed": false,
     "input": [
      "times = []\n",
      "urls = []\n",
      "for line in url_times:\n",
      "    try:\n",
      "        time, url = line.split(\":\", 1)\n",
      "        time = float(time)\n",
      "        url = url.strip()\n",
      "        times.append(time)\n",
      "        urls.append(url)\n",
      "    except ValueError:\n",
      "        pass"
     ],
     "language": "python",
     "metadata": {},
     "outputs": [],
     "prompt_number": 277
    },
    {
     "cell_type": "code",
     "collapsed": false,
     "input": [
      "import pandas as pd\n",
      "import numpy as np"
     ],
     "language": "python",
     "metadata": {},
     "outputs": [],
     "prompt_number": 278
    },
    {
     "cell_type": "code",
     "collapsed": false,
     "input": [
      "df = pd.DataFrame(data={'time':times, 'urls':urls})"
     ],
     "language": "python",
     "metadata": {},
     "outputs": [],
     "prompt_number": 279
    },
    {
     "cell_type": "code",
     "collapsed": false,
     "input": [
      "df.count()"
     ],
     "language": "python",
     "metadata": {},
     "outputs": [
      {
       "metadata": {},
       "output_type": "pyout",
       "prompt_number": 280,
       "text": [
        "time    637\n",
        "urls    637\n",
        "dtype: int64"
       ]
      }
     ],
     "prompt_number": 280
    },
    {
     "cell_type": "code",
     "collapsed": false,
     "input": [
      "df[\"category\"] = df.urls.map(lambda url: url.split('/')[3])"
     ],
     "language": "python",
     "metadata": {},
     "outputs": [],
     "prompt_number": 281
    },
    {
     "cell_type": "code",
     "collapsed": false,
     "input": [
      "df.sort('time', ascending=False).head()"
     ],
     "language": "python",
     "metadata": {},
     "outputs": [
      {
       "html": [
        "<div style=\"max-height:1000px;max-width:1500px;overflow:auto;\">\n",
        "<table border=\"1\" class=\"dataframe\">\n",
        "  <thead>\n",
        "    <tr style=\"text-align: right;\">\n",
        "      <th></th>\n",
        "      <th>time</th>\n",
        "      <th>urls</th>\n",
        "      <th>category</th>\n",
        "    </tr>\n",
        "  </thead>\n",
        "  <tbody>\n",
        "    <tr>\n",
        "      <th>167</th>\n",
        "      <td> 7.17</td>\n",
        "      <td> http://www.fht360.com/productlist/254/15933-3-...</td>\n",
        "      <td> productlist</td>\n",
        "    </tr>\n",
        "    <tr>\n",
        "      <th>473</th>\n",
        "      <td> 4.83</td>\n",
        "      <td> http://www.fht360.com/productlist/324-3-1122.html</td>\n",
        "      <td> productlist</td>\n",
        "    </tr>\n",
        "    <tr>\n",
        "      <th>302</th>\n",
        "      <td> 4.79</td>\n",
        "      <td> http://www.fht360.com/productlist/310-4-2137.html</td>\n",
        "      <td> productlist</td>\n",
        "    </tr>\n",
        "    <tr>\n",
        "      <th>84 </th>\n",
        "      <td> 4.51</td>\n",
        "      <td>   http://www.fht360.com/companylist/54-2-880.html</td>\n",
        "      <td> companylist</td>\n",
        "    </tr>\n",
        "    <tr>\n",
        "      <th>565</th>\n",
        "      <td> 4.38</td>\n",
        "      <td> http://www.fht360.com/companylist/89/10252-2.html</td>\n",
        "      <td> companylist</td>\n",
        "    </tr>\n",
        "  </tbody>\n",
        "</table>\n",
        "</div>"
       ],
       "metadata": {},
       "output_type": "pyout",
       "prompt_number": 282,
       "text": [
        "     time                                               urls     category\n",
        "167  7.17  http://www.fht360.com/productlist/254/15933-3-...  productlist\n",
        "473  4.83  http://www.fht360.com/productlist/324-3-1122.html  productlist\n",
        "302  4.79  http://www.fht360.com/productlist/310-4-2137.html  productlist\n",
        "84   4.51    http://www.fht360.com/companylist/54-2-880.html  companylist\n",
        "565  4.38  http://www.fht360.com/companylist/89/10252-2.html  companylist"
       ]
      }
     ],
     "prompt_number": 282
    },
    {
     "cell_type": "code",
     "collapsed": false,
     "input": [
      "%pylab inline"
     ],
     "language": "python",
     "metadata": {},
     "outputs": [
      {
       "output_type": "stream",
       "stream": "stdout",
       "text": [
        "Populating the interactive namespace from numpy and matplotlib\n"
       ]
      }
     ],
     "prompt_number": 283
    },
    {
     "cell_type": "code",
     "collapsed": false,
     "input": [
      "df.time.plot(style='r.')\n",
      "ylabel(u\"Time taken for this url (seconds)\")"
     ],
     "language": "python",
     "metadata": {},
     "outputs": [
      {
       "metadata": {},
       "output_type": "pyout",
       "prompt_number": 284,
       "text": [
        "<matplotlib.text.Text at 0x11024a90>"
       ]
      },
      {
       "metadata": {},
       "output_type": "display_data",
       "png": "[encoded data removed]",
       "text": [
        "<matplotlib.figure.Figure at 0x114722e8>"
       ]
      }
     ],
     "prompt_number": 284
    },
    {
     "cell_type": "code",
     "collapsed": false,
     "input": [
      "df.sort('time', ascending=False).head(10)"
     ],
     "language": "python",
     "metadata": {},
     "outputs": [
      {
       "html": [
        "<div style=\"max-height:1000px;max-width:1500px;overflow:auto;\">\n",
        "<table border=\"1\" class=\"dataframe\">\n",
        "  <thead>\n",
        "    <tr style=\"text-align: right;\">\n",
        "      <th></th>\n",
        "      <th>time</th>\n",
        "      <th>urls</th>\n",
        "      <th>category</th>\n",
        "    </tr>\n",
        "  </thead>\n",
        "  <tbody>\n",
        "    <tr>\n",
        "      <th>167</th>\n",
        "      <td> 7.17</td>\n",
        "      <td> http://www.fht360.com/productlist/254/15933-3-...</td>\n",
        "      <td> productlist</td>\n",
        "    </tr>\n",
        "    <tr>\n",
        "      <th>473</th>\n",
        "      <td> 4.83</td>\n",
        "      <td> http://www.fht360.com/productlist/324-3-1122.html</td>\n",
        "      <td> productlist</td>\n",
        "    </tr>\n",
        "    <tr>\n",
        "      <th>302</th>\n",
        "      <td> 4.79</td>\n",
        "      <td> http://www.fht360.com/productlist/310-4-2137.html</td>\n",
        "      <td> productlist</td>\n",
        "    </tr>\n",
        "    <tr>\n",
        "      <th>84 </th>\n",
        "      <td> 4.51</td>\n",
        "      <td>   http://www.fht360.com/companylist/54-2-880.html</td>\n",
        "      <td> companylist</td>\n",
        "    </tr>\n",
        "    <tr>\n",
        "      <th>565</th>\n",
        "      <td> 4.38</td>\n",
        "      <td> http://www.fht360.com/companylist/89/10252-2.html</td>\n",
        "      <td> companylist</td>\n",
        "    </tr>\n",
        "    <tr>\n",
        "      <th>303</th>\n",
        "      <td> 4.21</td>\n",
        "      <td> http://www.fht360.com/productlist/385/6-5-1009...</td>\n",
        "      <td> productlist</td>\n",
        "    </tr>\n",
        "    <tr>\n",
        "      <th>388</th>\n",
        "      <td> 4.07</td>\n",
        "      <td>      http://www.fht360.com/companylist/204-3.html</td>\n",
        "      <td> companylist</td>\n",
        "    </tr>\n",
        "    <tr>\n",
        "      <th>250</th>\n",
        "      <td> 3.86</td>\n",
        "      <td> http://www.fht360.com/productlist/430/14769-4....</td>\n",
        "      <td> productlist</td>\n",
        "    </tr>\n",
        "    <tr>\n",
        "      <th>270</th>\n",
        "      <td> 3.64</td>\n",
        "      <td> http://www.fht360.com/companylist/46/10260-2-2...</td>\n",
        "      <td> companylist</td>\n",
        "    </tr>\n",
        "    <tr>\n",
        "      <th>266</th>\n",
        "      <td> 3.61</td>\n",
        "      <td>   http://www.fht360.com/companylist/52-3-860.html</td>\n",
        "      <td> companylist</td>\n",
        "    </tr>\n",
        "  </tbody>\n",
        "</table>\n",
        "</div>"
       ],
       "metadata": {},
       "output_type": "pyout",
       "prompt_number": 285,
       "text": [
        "     time                                               urls     category\n",
        "167  7.17  http://www.fht360.com/productlist/254/15933-3-...  productlist\n",
        "473  4.83  http://www.fht360.com/productlist/324-3-1122.html  productlist\n",
        "302  4.79  http://www.fht360.com/productlist/310-4-2137.html  productlist\n",
        "84   4.51    http://www.fht360.com/companylist/54-2-880.html  companylist\n",
        "565  4.38  http://www.fht360.com/companylist/89/10252-2.html  companylist\n",
        "303  4.21  http://www.fht360.com/productlist/385/6-5-1009...  productlist\n",
        "388  4.07       http://www.fht360.com/companylist/204-3.html  companylist\n",
        "250  3.86  http://www.fht360.com/productlist/430/14769-4....  productlist\n",
        "270  3.64  http://www.fht360.com/companylist/46/10260-2-2...  companylist\n",
        "266  3.61    http://www.fht360.com/companylist/52-3-860.html  companylist"
       ]
      }
     ],
     "prompt_number": 285
    },
    {
     "cell_type": "markdown",
     "metadata": {},
     "source": [
      "# Minimum, Maximum, Mean and Median"
     ]
    },
    {
     "cell_type": "code",
     "collapsed": false,
     "input": [
      "print 'Min: %.2f seconds\\r\\nMax: %.2f seconds\\r\\nMean: %.2f seconds\\r\\nMedian: %.2f seconds'% (df.time.min(), df.time.max(), df.time.mean(), df.time.median())"
     ],
     "language": "python",
     "metadata": {},
     "outputs": [
      {
       "output_type": "stream",
       "stream": "stdout",
       "text": [
        "Min: 0.08 seconds\r\n",
        "Max: 7.17 seconds\r\n",
        "Mean: 0.72 seconds\r\n",
        "Median: 0.54 seconds\n"
       ]
      }
     ],
     "prompt_number": 286
    },
    {
     "cell_type": "code",
     "collapsed": false,
     "input": [],
     "language": "python",
     "metadata": {},
     "outputs": []
    }
   ],
   "metadata": {}
  }
 ]
}