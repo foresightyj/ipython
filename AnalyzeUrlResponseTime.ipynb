{
 "metadata": {
  "name": "",
  "signature": "sha256:0584fa04f3b93d6ffe9a4c3cff3de98658d4ecdee5b611b1eb9774c360e9861c"
 },
 "nbformat": 3,
 "nbformat_minor": 0,
 "worksheets": [
  {
   "cells": [
    {
     "cell_type": "code",
     "collapsed": false,
     "input": [
      "!pwd"
     ],
     "language": "python",
     "metadata": {},
     "outputs": [
      {
       "output_type": "stream",
       "stream": "stdout",
       "text": [
        "C:\\Users\\yj\\Documents\\IPython Notebooks\n"
       ]
      }
     ],
     "prompt_number": 264
    },
    {
     "cell_type": "code",
     "collapsed": false,
     "input": [
      "url_times = !cat urls_tested.log"
     ],
     "language": "python",
     "metadata": {},
     "outputs": [],
     "prompt_number": 265
    },
    {
     "cell_type": "code",
     "collapsed": false,
     "input": [
      "times = []\n",
      "urls = []\n",
      "for line in url_times:\n",
      "    try:\n",
      "        time, url = line.split(\":\", 1)\n",
      "        time = float(time)\n",
      "        url = url.strip()\n",
      "        times.append(time)\n",
      "        urls.append(url)\n",
      "    except ValueError:\n",
      "        pass"
     ],
     "language": "python",
     "metadata": {},
     "outputs": [],
     "prompt_number": 266
    },
    {
     "cell_type": "code",
     "collapsed": false,
     "input": [
      "import pandas as pd\n",
      "import numpy as np"
     ],
     "language": "python",
     "metadata": {},
     "outputs": [],
     "prompt_number": 267
    },
    {
     "cell_type": "code",
     "collapsed": false,
     "input": [
      "df = pd.DataFrame(data={'time':times, 'urls':urls})"
     ],
     "language": "python",
     "metadata": {},
     "outputs": [],
     "prompt_number": 268
    },
    {
     "cell_type": "code",
     "collapsed": false,
     "input": [
      "df.count()"
     ],
     "language": "python",
     "metadata": {},
     "outputs": [
      {
       "metadata": {},
       "output_type": "pyout",
       "prompt_number": 269,
       "text": [
        "time    2118\n",
        "urls    2118\n",
        "dtype: int64"
       ]
      }
     ],
     "prompt_number": 269
    },
    {
     "cell_type": "code",
     "collapsed": false,
     "input": [
      "df[\"category\"] = df.urls.map(lambda url: url.split('/')[3])"
     ],
     "language": "python",
     "metadata": {},
     "outputs": [],
     "prompt_number": 270
    },
    {
     "cell_type": "code",
     "collapsed": false,
     "input": [
      "df.sort('time', ascending=False).head()"
     ],
     "language": "python",
     "metadata": {},
     "outputs": [
      {
       "html": [
        "<div style=\"max-height:1000px;max-width:1500px;overflow:auto;\">\n",
        "<table border=\"1\" class=\"dataframe\">\n",
        "  <thead>\n",
        "    <tr style=\"text-align: right;\">\n",
        "      <th></th>\n",
        "      <th>time</th>\n",
        "      <th>urls</th>\n",
        "      <th>category</th>\n",
        "    </tr>\n",
        "  </thead>\n",
        "  <tbody>\n",
        "    <tr>\n",
        "      <th>371 </th>\n",
        "      <td> 10.22</td>\n",
        "      <td> http://www.fht360.com/productlist/233/16954-3-...</td>\n",
        "      <td> productlist</td>\n",
        "    </tr>\n",
        "    <tr>\n",
        "      <th>1042</th>\n",
        "      <td>  8.82</td>\n",
        "      <td> http://www.fht360.com/productlist/332/2130-2.html</td>\n",
        "      <td> productlist</td>\n",
        "    </tr>\n",
        "    <tr>\n",
        "      <th>1009</th>\n",
        "      <td>  8.78</td>\n",
        "      <td>      http://www.fht360.com/productlist/330-6.html</td>\n",
        "      <td> productlist</td>\n",
        "    </tr>\n",
        "    <tr>\n",
        "      <th>1695</th>\n",
        "      <td>  7.06</td>\n",
        "      <td> http://www.fht360.com/companylist/51/10308-2.html</td>\n",
        "      <td> companylist</td>\n",
        "    </tr>\n",
        "    <tr>\n",
        "      <th>237 </th>\n",
        "      <td>  6.68</td>\n",
        "      <td>       http://www.fht360.com/companylist/60-2.html</td>\n",
        "      <td> companylist</td>\n",
        "    </tr>\n",
        "  </tbody>\n",
        "</table>\n",
        "</div>"
       ],
       "metadata": {},
       "output_type": "pyout",
       "prompt_number": 271,
       "text": [
        "       time                                               urls     category\n",
        "371   10.22  http://www.fht360.com/productlist/233/16954-3-...  productlist\n",
        "1042   8.82  http://www.fht360.com/productlist/332/2130-2.html  productlist\n",
        "1009   8.78       http://www.fht360.com/productlist/330-6.html  productlist\n",
        "1695   7.06  http://www.fht360.com/companylist/51/10308-2.html  companylist\n",
        "237    6.68        http://www.fht360.com/companylist/60-2.html  companylist"
       ]
      }
     ],
     "prompt_number": 271
    },
    {
     "cell_type": "code",
     "collapsed": false,
     "input": [
      "%pylab inline"
     ],
     "language": "python",
     "metadata": {},
     "outputs": [
      {
       "output_type": "stream",
       "stream": "stdout",
       "text": [
        "Populating the interactive namespace from numpy and matplotlib\n"
       ]
      }
     ],
     "prompt_number": 272
    },
    {
     "cell_type": "code",
     "collapsed": false,
     "input": [
      "df.time.plot(style='r.')\n",
      "ylabel(u\"Time taken for this url (seconds)\")"
     ],
     "language": "python",
     "metadata": {},
     "outputs": [
      {
       "metadata": {},
       "output_type": "pyout",
       "prompt_number": 273,
       "text": [
        "<matplotlib.text.Text at 0x11063208>"
       ]
      },
      {
       "metadata": {},
       "output_type": "display_data",
       "png": "[encoded data removed]",
       "text": [
        "<matplotlib.figure.Figure at 0x10e3d278>"
       ]
      }
     ],
     "prompt_number": 273
    },
    {
     "cell_type": "code",
     "collapsed": false,
     "input": [
      "df.sort('time', ascending=False).head(10)"
     ],
     "language": "python",
     "metadata": {},
     "outputs": [
      {
       "html": [
        "<div style=\"max-height:1000px;max-width:1500px;overflow:auto;\">\n",
        "<table border=\"1\" class=\"dataframe\">\n",
        "  <thead>\n",
        "    <tr style=\"text-align: right;\">\n",
        "      <th></th>\n",
        "      <th>time</th>\n",
        "      <th>urls</th>\n",
        "      <th>category</th>\n",
        "    </tr>\n",
        "  </thead>\n",
        "  <tbody>\n",
        "    <tr>\n",
        "      <th>371 </th>\n",
        "      <td> 10.22</td>\n",
        "      <td> http://www.fht360.com/productlist/233/16954-3-...</td>\n",
        "      <td> productlist</td>\n",
        "    </tr>\n",
        "    <tr>\n",
        "      <th>1042</th>\n",
        "      <td>  8.82</td>\n",
        "      <td> http://www.fht360.com/productlist/332/2130-2.html</td>\n",
        "      <td> productlist</td>\n",
        "    </tr>\n",
        "    <tr>\n",
        "      <th>1009</th>\n",
        "      <td>  8.78</td>\n",
        "      <td>      http://www.fht360.com/productlist/330-6.html</td>\n",
        "      <td> productlist</td>\n",
        "    </tr>\n",
        "    <tr>\n",
        "      <th>1695</th>\n",
        "      <td>  7.06</td>\n",
        "      <td> http://www.fht360.com/companylist/51/10308-2.html</td>\n",
        "      <td> companylist</td>\n",
        "    </tr>\n",
        "    <tr>\n",
        "      <th>237 </th>\n",
        "      <td>  6.68</td>\n",
        "      <td>       http://www.fht360.com/companylist/60-2.html</td>\n",
        "      <td> companylist</td>\n",
        "    </tr>\n",
        "    <tr>\n",
        "      <th>1319</th>\n",
        "      <td>  6.31</td>\n",
        "      <td> http://www.fht360.com/productlist/386/5442-2.html</td>\n",
        "      <td> productlist</td>\n",
        "    </tr>\n",
        "    <tr>\n",
        "      <th>1041</th>\n",
        "      <td>  6.25</td>\n",
        "      <td>  http://www.fht360.com/companylist/167/3-166.html</td>\n",
        "      <td> companylist</td>\n",
        "    </tr>\n",
        "    <tr>\n",
        "      <th>1043</th>\n",
        "      <td>  6.14</td>\n",
        "      <td> http://www.fht360.com/companylist/164/3-3-20.html</td>\n",
        "      <td> companylist</td>\n",
        "    </tr>\n",
        "    <tr>\n",
        "      <th>1040</th>\n",
        "      <td>  6.01</td>\n",
        "      <td> http://www.fht360.com/productlist/266-4-1662.html</td>\n",
        "      <td> productlist</td>\n",
        "    </tr>\n",
        "    <tr>\n",
        "      <th>372 </th>\n",
        "      <td>  6.00</td>\n",
        "      <td> http://www.fht360.com/productlist/351/13637-3....</td>\n",
        "      <td> productlist</td>\n",
        "    </tr>\n",
        "  </tbody>\n",
        "</table>\n",
        "</div>"
       ],
       "metadata": {},
       "output_type": "pyout",
       "prompt_number": 274,
       "text": [
        "       time                                               urls     category\n",
        "371   10.22  http://www.fht360.com/productlist/233/16954-3-...  productlist\n",
        "1042   8.82  http://www.fht360.com/productlist/332/2130-2.html  productlist\n",
        "1009   8.78       http://www.fht360.com/productlist/330-6.html  productlist\n",
        "1695   7.06  http://www.fht360.com/companylist/51/10308-2.html  companylist\n",
        "237    6.68        http://www.fht360.com/companylist/60-2.html  companylist\n",
        "1319   6.31  http://www.fht360.com/productlist/386/5442-2.html  productlist\n",
        "1041   6.25   http://www.fht360.com/companylist/167/3-166.html  companylist\n",
        "1043   6.14  http://www.fht360.com/companylist/164/3-3-20.html  companylist\n",
        "1040   6.01  http://www.fht360.com/productlist/266-4-1662.html  productlist\n",
        "372    6.00  http://www.fht360.com/productlist/351/13637-3....  productlist"
       ]
      }
     ],
     "prompt_number": 274
    },
    {
     "cell_type": "markdown",
     "metadata": {},
     "source": [
      "# Minimum, Maximum, Mean and Median"
     ]
    },
    {
     "cell_type": "code",
     "collapsed": false,
     "input": [
      "print 'Min: %.2f seconds\\r\\nMax: %.2f seconds\\r\\nMean: %.2f seconds\\r\\nMedian: %.2f seconds'% (df.time.min(), df.time.max(), df.time.mean(), df.time.median())"
     ],
     "language": "python",
     "metadata": {},
     "outputs": [
      {
       "output_type": "stream",
       "stream": "stdout",
       "text": [
        "Min: 0.08 seconds\r\n",
        "Max: 10.22 seconds\r\n",
        "Mean: 0.89 seconds\r\n",
        "Median: 0.62 seconds\n"
       ]
      }
     ],
     "prompt_number": 241
    },
    {
     "cell_type": "code",
     "collapsed": false,
     "input": [],
     "language": "python",
     "metadata": {},
     "outputs": [],
     "prompt_number": 206
    },
    {
     "cell_type": "code",
     "collapsed": false,
     "input": [],
     "language": "python",
     "metadata": {},
     "outputs": []
    }
   ],
   "metadata": {}
  }
 ]
}