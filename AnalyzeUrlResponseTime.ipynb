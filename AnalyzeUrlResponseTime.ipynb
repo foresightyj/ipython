{
 "metadata": {
  "name": "",
  "signature": "sha256:eeee40194fba92fe2eb75191d27e5d6a46aec140524c49b36cb2166f1bcf51ce"
 },
 "nbformat": 3,
 "nbformat_minor": 0,
 "worksheets": [
  {
   "cells": [
    {
     "cell_type": "code",
     "collapsed": false,
     "input": [
      "!pwd"
     ],
     "language": "python",
     "metadata": {},
     "outputs": [
      {
       "output_type": "stream",
       "stream": "stdout",
       "text": [
        "C:\\Users\\yj\\Documents\\IPython Notebooks\n"
       ]
      }
     ],
     "prompt_number": 1
    },
    {
     "cell_type": "code",
     "collapsed": false,
     "input": [
      "url_times = !cat urls_tested.log"
     ],
     "language": "python",
     "metadata": {},
     "outputs": [],
     "prompt_number": 2
    },
    {
     "cell_type": "code",
     "collapsed": false,
     "input": [
      "print len(url_times)"
     ],
     "language": "python",
     "metadata": {},
     "outputs": [
      {
       "output_type": "stream",
       "stream": "stdout",
       "text": [
        "735\n"
       ]
      }
     ],
     "prompt_number": 3
    },
    {
     "cell_type": "code",
     "collapsed": false,
     "input": [
      "times = []\n",
      "urls = []\n",
      "for line in url_times:\n",
      "    try:\n",
      "        time, url = line.split(\":\", 1)\n",
      "        time = float(time)\n",
      "        url = url.strip()\n",
      "        times.append(time)\n",
      "        urls.append(url)\n",
      "    except ValueError:\n",
      "        pass"
     ],
     "language": "python",
     "metadata": {},
     "outputs": [],
     "prompt_number": 4
    },
    {
     "cell_type": "code",
     "collapsed": false,
     "input": [
      "import pandas as pd\n",
      "import numpy as np"
     ],
     "language": "python",
     "metadata": {},
     "outputs": [],
     "prompt_number": 5
    },
    {
     "cell_type": "code",
     "collapsed": false,
     "input": [
      "df = pd.DataFrame(data={'time':times, 'urls':urls})"
     ],
     "language": "python",
     "metadata": {},
     "outputs": [],
     "prompt_number": 6
    },
    {
     "cell_type": "code",
     "collapsed": false,
     "input": [
      "df.count()"
     ],
     "language": "python",
     "metadata": {},
     "outputs": [
      {
       "metadata": {},
       "output_type": "pyout",
       "prompt_number": 7,
       "text": [
        "time    735\n",
        "urls    735\n",
        "dtype: int64"
       ]
      }
     ],
     "prompt_number": 7
    },
    {
     "cell_type": "code",
     "collapsed": false,
     "input": [
      "df[\"category\"] = df.urls.map(lambda url: url.split('/')[3])"
     ],
     "language": "python",
     "metadata": {},
     "outputs": [],
     "prompt_number": 8
    },
    {
     "cell_type": "code",
     "collapsed": false,
     "input": [
      "df.sort('time', ascending=False).head()"
     ],
     "language": "python",
     "metadata": {},
     "outputs": [
      {
       "html": [
        "<div style=\"max-height:1000px;max-width:1500px;overflow:auto;\">\n",
        "<table border=\"1\" class=\"dataframe\">\n",
        "  <thead>\n",
        "    <tr style=\"text-align: right;\">\n",
        "      <th></th>\n",
        "      <th>time</th>\n",
        "      <th>urls</th>\n",
        "      <th>category</th>\n",
        "    </tr>\n",
        "  </thead>\n",
        "  <tbody>\n",
        "    <tr>\n",
        "      <th>167</th>\n",
        "      <td> 7.17</td>\n",
        "      <td> http://www.fht360.com/productlist/254/15933-3-...</td>\n",
        "      <td> productlist</td>\n",
        "    </tr>\n",
        "    <tr>\n",
        "      <th>473</th>\n",
        "      <td> 4.83</td>\n",
        "      <td> http://www.fht360.com/productlist/324-3-1122.html</td>\n",
        "      <td> productlist</td>\n",
        "    </tr>\n",
        "    <tr>\n",
        "      <th>302</th>\n",
        "      <td> 4.79</td>\n",
        "      <td> http://www.fht360.com/productlist/310-4-2137.html</td>\n",
        "      <td> productlist</td>\n",
        "    </tr>\n",
        "    <tr>\n",
        "      <th>661</th>\n",
        "      <td> 4.57</td>\n",
        "      <td> http://www.fht360.com/productlist/307-7-2137.html</td>\n",
        "      <td> productlist</td>\n",
        "    </tr>\n",
        "    <tr>\n",
        "      <th>84 </th>\n",
        "      <td> 4.51</td>\n",
        "      <td>   http://www.fht360.com/companylist/54-2-880.html</td>\n",
        "      <td> companylist</td>\n",
        "    </tr>\n",
        "  </tbody>\n",
        "</table>\n",
        "</div>"
       ],
       "metadata": {},
       "output_type": "pyout",
       "prompt_number": 9,
       "text": [
        "     time                                               urls     category\n",
        "167  7.17  http://www.fht360.com/productlist/254/15933-3-...  productlist\n",
        "473  4.83  http://www.fht360.com/productlist/324-3-1122.html  productlist\n",
        "302  4.79  http://www.fht360.com/productlist/310-4-2137.html  productlist\n",
        "661  4.57  http://www.fht360.com/productlist/307-7-2137.html  productlist\n",
        "84   4.51    http://www.fht360.com/companylist/54-2-880.html  companylist"
       ]
      }
     ],
     "prompt_number": 9
    },
    {
     "cell_type": "code",
     "collapsed": false,
     "input": [
      "%pylab inline"
     ],
     "language": "python",
     "metadata": {},
     "outputs": [
      {
       "output_type": "stream",
       "stream": "stdout",
       "text": [
        "Populating the interactive namespace from numpy and matplotlib\n"
       ]
      }
     ],
     "prompt_number": 10
    },
    {
     "cell_type": "code",
     "collapsed": false,
     "input": [
      "df.time.plot(style='r.')\n",
      "ylabel(u\"Time taken for this url (seconds)\")"
     ],
     "language": "python",
     "metadata": {},
     "outputs": [
      {
       "metadata": {},
       "output_type": "pyout",
       "prompt_number": 11,
       "text": [
        "<matplotlib.text.Text at 0xbc902e8>"
       ]
      },
      {
       "metadata": {},
       "output_type": "display_data",
       "png": "[encoded data removed]",
       "text": [
        "<matplotlib.figure.Figure at 0xa33ea90>"
       ]
      }
     ],
     "prompt_number": 11
    },
    {
     "cell_type": "code",
     "collapsed": false,
     "input": [
      "df.sort('time', ascending=False).head(10)"
     ],
     "language": "python",
     "metadata": {},
     "outputs": [
      {
       "html": [
        "<div style=\"max-height:1000px;max-width:1500px;overflow:auto;\">\n",
        "<table border=\"1\" class=\"dataframe\">\n",
        "  <thead>\n",
        "    <tr style=\"text-align: right;\">\n",
        "      <th></th>\n",
        "      <th>time</th>\n",
        "      <th>urls</th>\n",
        "      <th>category</th>\n",
        "    </tr>\n",
        "  </thead>\n",
        "  <tbody>\n",
        "    <tr>\n",
        "      <th>167</th>\n",
        "      <td> 7.17</td>\n",
        "      <td> http://www.fht360.com/productlist/254/15933-3-...</td>\n",
        "      <td> productlist</td>\n",
        "    </tr>\n",
        "    <tr>\n",
        "      <th>473</th>\n",
        "      <td> 4.83</td>\n",
        "      <td> http://www.fht360.com/productlist/324-3-1122.html</td>\n",
        "      <td> productlist</td>\n",
        "    </tr>\n",
        "    <tr>\n",
        "      <th>302</th>\n",
        "      <td> 4.79</td>\n",
        "      <td> http://www.fht360.com/productlist/310-4-2137.html</td>\n",
        "      <td> productlist</td>\n",
        "    </tr>\n",
        "    <tr>\n",
        "      <th>661</th>\n",
        "      <td> 4.57</td>\n",
        "      <td> http://www.fht360.com/productlist/307-7-2137.html</td>\n",
        "      <td> productlist</td>\n",
        "    </tr>\n",
        "    <tr>\n",
        "      <th>84 </th>\n",
        "      <td> 4.51</td>\n",
        "      <td>   http://www.fht360.com/companylist/54-2-880.html</td>\n",
        "      <td> companylist</td>\n",
        "    </tr>\n",
        "    <tr>\n",
        "      <th>668</th>\n",
        "      <td> 4.40</td>\n",
        "      <td> http://www.fht360.com/productlist/424/14724-11...</td>\n",
        "      <td> productlist</td>\n",
        "    </tr>\n",
        "    <tr>\n",
        "      <th>565</th>\n",
        "      <td> 4.38</td>\n",
        "      <td> http://www.fht360.com/companylist/89/10252-2.html</td>\n",
        "      <td> companylist</td>\n",
        "    </tr>\n",
        "    <tr>\n",
        "      <th>303</th>\n",
        "      <td> 4.21</td>\n",
        "      <td> http://www.fht360.com/productlist/385/6-5-1009...</td>\n",
        "      <td> productlist</td>\n",
        "    </tr>\n",
        "    <tr>\n",
        "      <th>388</th>\n",
        "      <td> 4.07</td>\n",
        "      <td>      http://www.fht360.com/companylist/204-3.html</td>\n",
        "      <td> companylist</td>\n",
        "    </tr>\n",
        "    <tr>\n",
        "      <th>250</th>\n",
        "      <td> 3.86</td>\n",
        "      <td> http://www.fht360.com/productlist/430/14769-4....</td>\n",
        "      <td> productlist</td>\n",
        "    </tr>\n",
        "  </tbody>\n",
        "</table>\n",
        "</div>"
       ],
       "metadata": {},
       "output_type": "pyout",
       "prompt_number": 12,
       "text": [
        "     time                                               urls     category\n",
        "167  7.17  http://www.fht360.com/productlist/254/15933-3-...  productlist\n",
        "473  4.83  http://www.fht360.com/productlist/324-3-1122.html  productlist\n",
        "302  4.79  http://www.fht360.com/productlist/310-4-2137.html  productlist\n",
        "661  4.57  http://www.fht360.com/productlist/307-7-2137.html  productlist\n",
        "84   4.51    http://www.fht360.com/companylist/54-2-880.html  companylist\n",
        "668  4.40  http://www.fht360.com/productlist/424/14724-11...  productlist\n",
        "565  4.38  http://www.fht360.com/companylist/89/10252-2.html  companylist\n",
        "303  4.21  http://www.fht360.com/productlist/385/6-5-1009...  productlist\n",
        "388  4.07       http://www.fht360.com/companylist/204-3.html  companylist\n",
        "250  3.86  http://www.fht360.com/productlist/430/14769-4....  productlist"
       ]
      }
     ],
     "prompt_number": 12
    },
    {
     "cell_type": "markdown",
     "metadata": {},
     "source": [
      "# Minimum, Maximum, Mean and Median"
     ]
    },
    {
     "cell_type": "code",
     "collapsed": false,
     "input": [
      "print 'Min: %.2f seconds\\r\\nMax: %.2f seconds\\r\\nMean: %.2f seconds\\r\\nMedian: %.2f seconds'% (df.time.min(), df.time.max(), df.time.mean(), df.time.median())"
     ],
     "language": "python",
     "metadata": {},
     "outputs": [
      {
       "output_type": "stream",
       "stream": "stdout",
       "text": [
        "Min: 0.08 seconds\r\n",
        "Max: 7.17 seconds\r\n",
        "Mean: 0.71 seconds\r\n",
        "Median: 0.53 seconds\n"
       ]
      }
     ],
     "prompt_number": 13
    }
   ],
   "metadata": {}
  }
 ]
}