{
 "metadata": {
  "name": "",
  "signature": "sha256:98d3d4ce09c741c9e418de0e87b149681727d77609486ba95921d02536653315"
 },
 "nbformat": 3,
 "nbformat_minor": 0,
 "worksheets": [
  {
   "cells": [
    {
     "cell_type": "heading",
     "level": 2,
     "metadata": {},
     "source": [
      "Intelligently parse routing rules I noted a few months ago and turn then into regex matches"
     ]
    },
    {
     "cell_type": "code",
     "collapsed": false,
     "input": [
      "routing_rules_path = \"E:/OneDrive/Notes/fht360_study/routing_rules.cs\"\n",
      "\n",
      "def _get_rules():\n",
      "    with open(routing_rules_path) as f:\n",
      "        for line in f:\n",
      "            if '{' in line and '}' in line and 'currpage' in line.lower():\n",
      "                yield line.strip().lower().strip(\",\").strip('\"')\n",
      "                \n",
      "def _get_parse_rules():\n",
      "    controller_patt = r'(product|company)'\n",
      "    integer_patt = r'(?P<{kw}>\\d+)'\n",
      "\n",
      "    keyword_patterns = {kw: integer_patt.format(kw=kw) for kw in [\"realcategoryid\", \"categoryid\", \"currpage\", \"industryid\", \"region\", \"tagid\"]}\n",
      "\n",
      "    for rule in _get_rules():\n",
      "        try:\n",
      "            rule = rule.format(controller=controller_patt, **keyword_patterns)\n",
      "            yield rule\n",
      "        except KeyError as e:\n",
      "            print 'Don\\'t care about this token %s yet' % e\n",
      "            pass\n",
      "\n",
      "parse_rules = list(_get_parse_rules())\n",
      "\n",
      "for parse_rule in parse_rules:\n",
      "    print parse_rule"
     ],
     "language": "python",
     "metadata": {},
     "outputs": [
      {
       "output_type": "stream",
       "stream": "stdout",
       "text": [
        "Don't care about this token 'tradeid' yet\n",
        "(product|company)list/(?P<categoryid>\\d+)-(?P<currpage>\\d+)-(?P<region>\\d+).html\n",
        "(product|company)list/(?P<categoryid>\\d+)-(?P<currpage>\\d+).html\n",
        "(product|company)list/(?P<categoryid>\\d+)/(?P<realcategoryid>\\d+)-(?P<currpage>\\d+)-(?P<region>\\d+).html\n",
        "(product|company)list/(?P<categoryid>\\d+)/(?P<realcategoryid>\\d+)-(?P<currpage>\\d+).html\n",
        "newslist/(?P<industryid>\\d+)-(?P<tagid>\\d+)-(?P<currpage>\\d+).html\n",
        "newslist/(?P<industryid>\\d+)-(?P<currpage>\\d+).html\n"
       ]
      }
     ],
     "prompt_number": 13
    },
    {
     "cell_type": "heading",
     "level": 2,
     "metadata": {},
     "source": [
      "Group all matches by some kind of hash of all other fields except for currpage"
     ]
    },
    {
     "cell_type": "code",
     "collapsed": false,
     "input": [
      "import os\n",
      "import re\n",
      "import requests\n",
      "import itertools\n",
      "from collections import defaultdict\n",
      "\n",
      "url_folder = u\"C:/Users/yj/Desktop/fht360urls\"\n",
      "\n",
      "urls_files =  os.listdir(url_folder)\n",
      "\n",
      "def all_links_from_files(*files):\n",
      "    for fn in files:\n",
      "        full_path = os.path.join(url_folder, fn)\n",
      "        with open(full_path) as f:\n",
      "            for line in f:\n",
      "                line = line.strip()\n",
      "                if line:\n",
      "                    yield line\n",
      "\n",
      "url_group_matches = defaultdict(list)\n",
      "\n",
      "total = 0\n",
      "failed = 0\n",
      "def try_parse_by_all_rules(url):\n",
      "    global total\n",
      "    global failed\n",
      "    total += 1\n",
      "    url = url.lower()\n",
      "    for rule in parse_rules:\n",
      "        m = re.search(rule, url)\n",
      "        if m:\n",
      "            return m\n",
      "    assert 'company' not in url and 'product' not in url\n",
      "    failed += 1\n",
      "\n",
      "for url in all_links_from_files(*urls_files):\n",
      "    m = try_parse_by_all_rules(url)\n",
      "    if m:\n",
      "        groups = m.groupdict()\n",
      "        currpage = groups.pop(\"currpage\") # get rid of currpage and group the rest of keys and values into some kind of url_group\n",
      "        url_group_identifier = ';'.join(sorted([str(k)+'='+v for k, v in groups.items()]))\n",
      "        url_group_matches[url_group_identifier].append(m)\n",
      "    else:\n",
      "        if 'newsinfo' not in url: # \"newsinfo/{id}.html\" <--- where id is not page so we don't count it in\n",
      "            raise \"Cannot happen\"\n",
      "print 'total', total, 'failed', failed"
     ],
     "language": "python",
     "metadata": {},
     "outputs": [
      {
       "output_type": "stream",
       "stream": "stdout",
       "text": [
        "total 13140 failed 11135\n"
       ]
      }
     ],
     "prompt_number": 45
    },
    {
     "cell_type": "code",
     "collapsed": false,
     "input": [
      "from operator import itemgetter\n",
      "\n",
      "last_page_matches = []\n",
      "for url_group, matches in url_group_matches.items():\n",
      "    if len(matches) > 1:\n",
      "        # find the url with largest page no\n",
      "        last_page_matche = sorted(matches, key=lambda match: int(match.groupdict()[\"currpage\"]))[-1]\n",
      "        #print len(matches), last_page_url\n",
      "        last_page_matches.append(last_page_matche)\n",
      "        if url_group == 'industryid=273':\n",
      "            for match in matches:\n",
      "                print match.groupdict()"
     ],
     "language": "python",
     "metadata": {},
     "outputs": [
      {
       "output_type": "stream",
       "stream": "stdout",
       "text": [
        "{'currpage': '1', 'industryid': '273'}\n",
        "{'currpage': '2', 'industryid': '273'}\n",
        "{'currpage': '3', 'industryid': '273'}\n",
        "{'currpage': '4', 'industryid': '273'}\n",
        "{'currpage': '5', 'industryid': '273'}\n",
        "{'currpage': '6', 'industryid': '273'}\n",
        "{'currpage': '7', 'industryid': '273'}\n",
        "{'currpage': '8', 'industryid': '273'}\n",
        "{'currpage': '9', 'industryid': '273'}\n",
        "{'currpage': '10', 'industryid': '273'}\n",
        "{'currpage': '11', 'industryid': '273'}\n",
        "{'currpage': '12', 'industryid': '273'}\n",
        "{'currpage': '13', 'industryid': '273'}\n",
        "{'currpage': '14', 'industryid': '273'}\n",
        "{'currpage': '15', 'industryid': '273'}\n",
        "{'currpage': '16', 'industryid': '273'}\n"
       ]
      }
     ],
     "prompt_number": 46
    },
    {
     "cell_type": "code",
     "collapsed": false,
     "input": [
      "import requests"
     ],
     "language": "python",
     "metadata": {},
     "outputs": [],
     "prompt_number": 47
    },
    {
     "cell_type": "code",
     "collapsed": false,
     "input": [
      "from contextlib import contextmanager\n",
      "\n",
      "import time\n",
      "\n",
      "@contextmanager\n",
      "def timed_context(work_description):\n",
      "    start = time.time()\n",
      "    yield\n",
      "    delta = time.time() - start\n",
      "    print delta, ':', work_description\n",
      "    "
     ],
     "language": "python",
     "metadata": {},
     "outputs": [],
     "prompt_number": 48
    },
    {
     "cell_type": "code",
     "collapsed": false,
     "input": [
      "for match in last_page_matches:\n",
      "    print match.string"
     ],
     "language": "python",
     "metadata": {},
     "outputs": [
      {
       "output_type": "stream",
       "stream": "stdout",
       "text": [
        "http://www.fht360.com/productlist/13/466-2-1487.html\n",
        "http://www.fht360.com/productlist/2/185-2.html\n",
        "http://www.fht360.com/productlist/2-3-860.html\n",
        "http://www.fht360.com/productlist/13/466-2.html\n",
        "http://www.fht360.com/productlist/2-3-2137.html\n",
        "http://www.fht360.com/productlist/2-3-1009.html\n",
        "http://www.fht360.com/productlist/2-3-1487.html\n",
        "http://www.fht360.com/productlist/31-5-1487.html\n",
        "http://www.fht360.com/productlist/13-2-39.html\n",
        "http://www.fht360.com/productlist/24-3-2137.html\n",
        "http://www.fht360.com/productlist/2-2-1662.html\n",
        "http://www.fht360.com/productlist/13-3-880.html\n",
        "http://www.fht360.com/productlist/31-2-2137.html\n",
        "http://www.fht360.com/newslist/268-8.html\n",
        "http://www.fht360.com/newslist/269-5.html\n",
        "http://www.fht360.com/productlist/31-3-880.html\n",
        "http://www.fht360.com/productlist/13-10.html\n",
        "http://www.fht360.com/newslist/273-16.html\n",
        "http://www.fht360.com/newslist/272-96.html\n",
        "http://www.fht360.com/newslist/271-4.html\n",
        "http://www.fht360.com/newslist/270-2.html\n",
        "http://www.fht360.com/newslist/276-4.html\n",
        "http://www.fht360.com/newslist/275-2.html\n",
        "http://www.fht360.com/newslist/274-5.html\n",
        "http://www.fht360.com/productlist/24-5.html\n",
        "http://www.fht360.com/productlist/2/89-3.html\n",
        "http://www.fht360.com/productlist/2/185-2-1009.html\n",
        "http://www.fht360.com/newslist/1075-72.html\n",
        "http://www.fht360.com/productlist/2-7-880.html\n",
        "http://www.fht360.com/productlist/13/597-2.html\n",
        "http://www.fht360.com/productlist/8-2-1009.html\n",
        "http://www.fht360.com/productlist/31-12.html\n",
        "http://www.fht360.com/productlist/2/390-2-880.html\n",
        "http://www.fht360.com/productlist/2-19.html\n",
        "http://www.fht360.com/productlist/3-2.html\n",
        "http://www.fht360.com/productlist/8-2.html\n",
        "http://www.fht360.com/newslist/1060-2.html\n",
        "http://www.fht360.com/newslist/1061-2.html\n",
        "http://www.fht360.com/newslist/1062-4.html\n",
        "http://www.fht360.com/newslist/1063-2.html\n",
        "http://www.fht360.com/newslist/1064-4.html\n",
        "http://www.fht360.com/newslist/1065-2.html\n",
        "http://www.fht360.com/newslist/1054-73.html\n",
        "http://www.fht360.com/productlist/13-3-1487.html\n",
        "http://www.fht360.com/newslist/315-2.html\n",
        "http://www.fht360.com/productlist/31-2-860.html\n",
        "http://www.fht360.com/productlist/2/390-2.html\n",
        "http://www.fht360.com/productlist/13-3-2137.html\n"
       ]
      }
     ],
     "prompt_number": 49
    },
    {
     "cell_type": "heading",
     "level": 2,
     "metadata": {},
     "source": [
      "Assert all last pages we found return 200 OK"
     ]
    },
    {
     "cell_type": "code",
     "collapsed": false,
     "input": [
      "for match in last_page_matches:\n",
      "    url = match.string\n",
      "    with timed_context(url):\n",
      "        req = requests.get(url)\n",
      "        assert req.status_code == 200\n",
      "    "
     ],
     "language": "python",
     "metadata": {},
     "outputs": [
      {
       "output_type": "stream",
       "stream": "stdout",
       "text": [
        "0.335999965668 : http://www.fht360.com/productlist/13/466-2-1487.html\n",
        "0.151000022888"
       ]
      },
      {
       "output_type": "stream",
       "stream": "stdout",
       "text": [
        " : http://www.fht360.com/productlist/2/185-2.html\n",
        "0.460000038147"
       ]
      },
      {
       "output_type": "stream",
       "stream": "stdout",
       "text": [
        " : http://www.fht360.com/productlist/2-3-860.html\n",
        "0.15700006485"
       ]
      },
      {
       "output_type": "stream",
       "stream": "stdout",
       "text": [
        " : http://www.fht360.com/productlist/13/466-2.html\n",
        "1.29299998283"
       ]
      },
      {
       "output_type": "stream",
       "stream": "stdout",
       "text": [
        " : http://www.fht360.com/productlist/2-3-2137.html\n",
        "0.483999967575"
       ]
      },
      {
       "output_type": "stream",
       "stream": "stdout",
       "text": [
        " : http://www.fht360.com/productlist/2-3-1009.html\n",
        "0.512000083923"
       ]
      },
      {
       "output_type": "stream",
       "stream": "stdout",
       "text": [
        " : http://www.fht360.com/productlist/2-3-1487.html\n",
        "0.37299990654"
       ]
      },
      {
       "output_type": "stream",
       "stream": "stdout",
       "text": [
        " : http://www.fht360.com/productlist/31-5-1487.html\n",
        "0.322000026703"
       ]
      },
      {
       "output_type": "stream",
       "stream": "stdout",
       "text": [
        " : http://www.fht360.com/productlist/13-2-39.html\n",
        "0.365999937057"
       ]
      },
      {
       "output_type": "stream",
       "stream": "stdout",
       "text": [
        " : http://www.fht360.com/productlist/24-3-2137.html\n",
        "0.361000061035"
       ]
      },
      {
       "output_type": "stream",
       "stream": "stdout",
       "text": [
        " : http://www.fht360.com/productlist/2-2-1662.html\n",
        "0.397000074387"
       ]
      },
      {
       "output_type": "stream",
       "stream": "stdout",
       "text": [
        " : http://www.fht360.com/productlist/13-3-880.html\n",
        "0.670000076294"
       ]
      },
      {
       "output_type": "stream",
       "stream": "stdout",
       "text": [
        " : http://www.fht360.com/productlist/31-2-2137.html\n",
        "0.153000116348"
       ]
      },
      {
       "output_type": "stream",
       "stream": "stdout",
       "text": [
        " : http://www.fht360.com/newslist/268-8.html\n",
        "0.115000009537"
       ]
      },
      {
       "output_type": "stream",
       "stream": "stdout",
       "text": [
        " : http://www.fht360.com/newslist/269-5.html\n",
        "0.350999832153"
       ]
      },
      {
       "output_type": "stream",
       "stream": "stdout",
       "text": [
        " : http://www.fht360.com/productlist/31-3-880.html\n",
        "0.196000099182"
       ]
      },
      {
       "output_type": "stream",
       "stream": "stdout",
       "text": [
        " : http://www.fht360.com/productlist/13-10.html\n",
        "0.154000043869"
       ]
      },
      {
       "output_type": "stream",
       "stream": "stdout",
       "text": [
        " : http://www.fht360.com/newslist/273-16.html\n",
        "0.317000150681"
       ]
      },
      {
       "output_type": "stream",
       "stream": "stdout",
       "text": [
        " : http://www.fht360.com/newslist/272-96.html\n",
        "0.144999980927"
       ]
      },
      {
       "output_type": "stream",
       "stream": "stdout",
       "text": [
        " : http://www.fht360.com/newslist/271-4.html\n",
        "0.125999927521"
       ]
      },
      {
       "output_type": "stream",
       "stream": "stdout",
       "text": [
        " : http://www.fht360.com/newslist/270-2.html\n",
        "0.157999992371"
       ]
      },
      {
       "output_type": "stream",
       "stream": "stdout",
       "text": [
        " : http://www.fht360.com/newslist/276-4.html\n",
        "0.121000051498"
       ]
      },
      {
       "output_type": "stream",
       "stream": "stdout",
       "text": [
        " : http://www.fht360.com/newslist/275-2.html\n",
        "0.141999959946"
       ]
      },
      {
       "output_type": "stream",
       "stream": "stdout",
       "text": [
        " : http://www.fht360.com/newslist/274-5.html\n",
        "0.195999860764"
       ]
      },
      {
       "output_type": "stream",
       "stream": "stdout",
       "text": [
        " : http://www.fht360.com/productlist/24-5.html\n",
        "0.19100022316"
       ]
      },
      {
       "output_type": "stream",
       "stream": "stdout",
       "text": [
        " : http://www.fht360.com/productlist/2/89-3.html\n",
        "0.30999994278"
       ]
      },
      {
       "output_type": "stream",
       "stream": "stdout",
       "text": [
        " : http://www.fht360.com/productlist/2/185-2-1009.html\n",
        "0.366000175476"
       ]
      },
      {
       "output_type": "stream",
       "stream": "stdout",
       "text": [
        " : http://www.fht360.com/newslist/1075-72.html\n",
        "0.517999887466"
       ]
      },
      {
       "output_type": "stream",
       "stream": "stdout",
       "text": [
        " : http://www.fht360.com/productlist/2-7-880.html\n",
        "0.153000116348"
       ]
      },
      {
       "output_type": "stream",
       "stream": "stdout",
       "text": [
        " : http://www.fht360.com/productlist/13/597-2.html\n",
        "0.371999979019"
       ]
      },
      {
       "output_type": "stream",
       "stream": "stdout",
       "text": [
        " : http://www.fht360.com/productlist/8-2-1009.html\n",
        "0.200000047684"
       ]
      },
      {
       "output_type": "stream",
       "stream": "stdout",
       "text": [
        " : http://www.fht360.com/productlist/31-12.html\n",
        "0.31200003624"
       ]
      },
      {
       "output_type": "stream",
       "stream": "stdout",
       "text": [
        " : http://www.fht360.com/productlist/2/390-2-880.html\n",
        "0.188999891281"
       ]
      },
      {
       "output_type": "stream",
       "stream": "stdout",
       "text": [
        " : http://www.fht360.com/productlist/2-19.html\n",
        "0.170000076294"
       ]
      },
      {
       "output_type": "stream",
       "stream": "stdout",
       "text": [
        " : http://www.fht360.com/productlist/3-2.html\n",
        "0.177999973297"
       ]
      },
      {
       "output_type": "stream",
       "stream": "stdout",
       "text": [
        " : http://www.fht360.com/productlist/8-2.html\n",
        "0.146999835968"
       ]
      },
      {
       "output_type": "stream",
       "stream": "stdout",
       "text": [
        " : http://www.fht360.com/newslist/1060-2.html\n",
        "0.116999864578"
       ]
      },
      {
       "output_type": "stream",
       "stream": "stdout",
       "text": [
        " : http://www.fht360.com/newslist/1061-2.html\n",
        "0.118000030518"
       ]
      },
      {
       "output_type": "stream",
       "stream": "stdout",
       "text": [
        " : http://www.fht360.com/newslist/1062-4.html\n",
        "0.130999803543"
       ]
      },
      {
       "output_type": "stream",
       "stream": "stdout",
       "text": [
        " : http://www.fht360.com/newslist/1063-2.html\n",
        "0.150000095367"
       ]
      },
      {
       "output_type": "stream",
       "stream": "stdout",
       "text": [
        " : http://www.fht360.com/newslist/1064-4.html\n",
        "0.174000024796"
       ]
      },
      {
       "output_type": "stream",
       "stream": "stdout",
       "text": [
        " : http://www.fht360.com/newslist/1065-2.html\n",
        "0.185000181198"
       ]
      },
      {
       "output_type": "stream",
       "stream": "stdout",
       "text": [
        " : http://www.fht360.com/newslist/1054-73.html\n",
        "0.375"
       ]
      },
      {
       "output_type": "stream",
       "stream": "stdout",
       "text": [
        " : http://www.fht360.com/productlist/13-3-1487.html\n",
        "0.135999917984"
       ]
      },
      {
       "output_type": "stream",
       "stream": "stdout",
       "text": [
        " : http://www.fht360.com/newslist/315-2.html\n",
        "0.310000181198"
       ]
      },
      {
       "output_type": "stream",
       "stream": "stdout",
       "text": [
        " : http://www.fht360.com/productlist/31-2-860.html\n",
        "0.176999807358"
       ]
      },
      {
       "output_type": "stream",
       "stream": "stdout",
       "text": [
        " : http://www.fht360.com/productlist/2/390-2.html\n",
        "0.743999958038"
       ]
      },
      {
       "output_type": "stream",
       "stream": "stdout",
       "text": [
        " : http://www.fht360.com/productlist/13-3-2137.html\n"
       ]
      }
     ],
     "prompt_number": 50
    },
    {
     "cell_type": "heading",
     "level": 2,
     "metadata": {},
     "source": [
      "Assert that next page will not be found on server"
     ]
    },
    {
     "cell_type": "code",
     "collapsed": false,
     "input": [
      "def next_page_of_matched_url(match):\n",
      "    url = match.string\n",
      "    start, end = match.span('currpage')\n",
      "    return url[0:start]+str(int(url[start:end])+1)+url[end:]\n",
      "    \n",
      "for match in last_page_matches:\n",
      "    # find next page of matched url\n",
      "    next_page = next_page_of_matched_url(match)\n",
      "    req = requests.get(next_page)\n",
      "    print req.status_code, next_page"
     ],
     "language": "python",
     "metadata": {},
     "outputs": [
      {
       "output_type": "stream",
       "stream": "stdout",
       "text": [
        "200 http://www.fht360.com/productlist/13/466-3-1487.html\n",
        "200"
       ]
      },
      {
       "output_type": "stream",
       "stream": "stdout",
       "text": [
        " http://www.fht360.com/productlist/2/185-3.html\n",
        "200"
       ]
      },
      {
       "output_type": "stream",
       "stream": "stdout",
       "text": [
        " http://www.fht360.com/productlist/2-4-860.html\n",
        "200"
       ]
      },
      {
       "output_type": "stream",
       "stream": "stdout",
       "text": [
        " http://www.fht360.com/productlist/13/466-3.html\n",
        "200"
       ]
      },
      {
       "output_type": "stream",
       "stream": "stdout",
       "text": [
        " http://www.fht360.com/productlist/2-4-2137.html\n",
        "200"
       ]
      },
      {
       "output_type": "stream",
       "stream": "stdout",
       "text": [
        " http://www.fht360.com/productlist/2-4-1009.html\n",
        "200"
       ]
      },
      {
       "output_type": "stream",
       "stream": "stdout",
       "text": [
        " http://www.fht360.com/productlist/2-4-1487.html\n",
        "200"
       ]
      },
      {
       "output_type": "stream",
       "stream": "stdout",
       "text": [
        " http://www.fht360.com/productlist/31-6-1487.html\n",
        "200"
       ]
      },
      {
       "output_type": "stream",
       "stream": "stdout",
       "text": [
        " http://www.fht360.com/productlist/13-3-39.html\n",
        "200"
       ]
      },
      {
       "output_type": "stream",
       "stream": "stdout",
       "text": [
        " http://www.fht360.com/productlist/24-4-2137.html\n",
        "200"
       ]
      },
      {
       "output_type": "stream",
       "stream": "stdout",
       "text": [
        " http://www.fht360.com/productlist/2-3-1662.html\n",
        "200"
       ]
      },
      {
       "output_type": "stream",
       "stream": "stdout",
       "text": [
        " http://www.fht360.com/productlist/13-4-880.html\n",
        "200"
       ]
      },
      {
       "output_type": "stream",
       "stream": "stdout",
       "text": [
        " http://www.fht360.com/productlist/31-3-2137.html\n",
        "200"
       ]
      },
      {
       "output_type": "stream",
       "stream": "stdout",
       "text": [
        " http://www.fht360.com/newslist/268-9.html\n",
        "200"
       ]
      },
      {
       "output_type": "stream",
       "stream": "stdout",
       "text": [
        " http://www.fht360.com/newslist/269-6.html\n",
        "200"
       ]
      },
      {
       "output_type": "stream",
       "stream": "stdout",
       "text": [
        " http://www.fht360.com/productlist/31-4-880.html\n",
        "200"
       ]
      },
      {
       "output_type": "stream",
       "stream": "stdout",
       "text": [
        " http://www.fht360.com/productlist/13-11.html\n",
        "200"
       ]
      },
      {
       "output_type": "stream",
       "stream": "stdout",
       "text": [
        " http://www.fht360.com/newslist/273-17.html\n",
        "200"
       ]
      },
      {
       "output_type": "stream",
       "stream": "stdout",
       "text": [
        " http://www.fht360.com/newslist/272-97.html\n",
        "200"
       ]
      },
      {
       "output_type": "stream",
       "stream": "stdout",
       "text": [
        " http://www.fht360.com/newslist/271-5.html\n",
        "200"
       ]
      },
      {
       "output_type": "stream",
       "stream": "stdout",
       "text": [
        " http://www.fht360.com/newslist/270-3.html\n",
        "200"
       ]
      },
      {
       "output_type": "stream",
       "stream": "stdout",
       "text": [
        " http://www.fht360.com/newslist/276-5.html\n",
        "200"
       ]
      },
      {
       "output_type": "stream",
       "stream": "stdout",
       "text": [
        " http://www.fht360.com/newslist/275-3.html\n",
        "200"
       ]
      },
      {
       "output_type": "stream",
       "stream": "stdout",
       "text": [
        " http://www.fht360.com/newslist/274-6.html\n",
        "200"
       ]
      },
      {
       "output_type": "stream",
       "stream": "stdout",
       "text": [
        " http://www.fht360.com/productlist/24-6.html\n",
        "200"
       ]
      },
      {
       "output_type": "stream",
       "stream": "stdout",
       "text": [
        " http://www.fht360.com/productlist/2/89-4.html\n",
        "200"
       ]
      },
      {
       "output_type": "stream",
       "stream": "stdout",
       "text": [
        " http://www.fht360.com/productlist/2/185-3-1009.html\n",
        "200"
       ]
      },
      {
       "output_type": "stream",
       "stream": "stdout",
       "text": [
        " http://www.fht360.com/newslist/1075-73.html\n",
        "200"
       ]
      },
      {
       "output_type": "stream",
       "stream": "stdout",
       "text": [
        " http://www.fht360.com/productlist/2-8-880.html\n",
        "200"
       ]
      },
      {
       "output_type": "stream",
       "stream": "stdout",
       "text": [
        " http://www.fht360.com/productlist/13/597-3.html\n",
        "200"
       ]
      },
      {
       "output_type": "stream",
       "stream": "stdout",
       "text": [
        " http://www.fht360.com/productlist/8-3-1009.html\n",
        "200"
       ]
      },
      {
       "output_type": "stream",
       "stream": "stdout",
       "text": [
        " http://www.fht360.com/productlist/31-13.html\n",
        "200"
       ]
      },
      {
       "output_type": "stream",
       "stream": "stdout",
       "text": [
        " http://www.fht360.com/productlist/2/390-3-880.html\n",
        "200"
       ]
      },
      {
       "output_type": "stream",
       "stream": "stdout",
       "text": [
        " http://www.fht360.com/productlist/2-20.html\n",
        "200"
       ]
      },
      {
       "output_type": "stream",
       "stream": "stdout",
       "text": [
        " http://www.fht360.com/productlist/3-3.html\n",
        "200"
       ]
      },
      {
       "output_type": "stream",
       "stream": "stdout",
       "text": [
        " http://www.fht360.com/productlist/8-3.html\n",
        "200"
       ]
      },
      {
       "output_type": "stream",
       "stream": "stdout",
       "text": [
        " http://www.fht360.com/newslist/1060-3.html\n",
        "200"
       ]
      },
      {
       "output_type": "stream",
       "stream": "stdout",
       "text": [
        " http://www.fht360.com/newslist/1061-3.html\n",
        "200"
       ]
      },
      {
       "output_type": "stream",
       "stream": "stdout",
       "text": [
        " http://www.fht360.com/newslist/1062-5.html\n",
        "200"
       ]
      },
      {
       "output_type": "stream",
       "stream": "stdout",
       "text": [
        " http://www.fht360.com/newslist/1063-3.html\n",
        "200"
       ]
      },
      {
       "output_type": "stream",
       "stream": "stdout",
       "text": [
        " http://www.fht360.com/newslist/1064-5.html\n",
        "200"
       ]
      },
      {
       "output_type": "stream",
       "stream": "stdout",
       "text": [
        " http://www.fht360.com/newslist/1065-3.html\n",
        "200"
       ]
      },
      {
       "output_type": "stream",
       "stream": "stdout",
       "text": [
        " http://www.fht360.com/newslist/1054-74.html\n",
        "200"
       ]
      },
      {
       "output_type": "stream",
       "stream": "stdout",
       "text": [
        " http://www.fht360.com/productlist/13-4-1487.html\n",
        "200"
       ]
      },
      {
       "output_type": "stream",
       "stream": "stdout",
       "text": [
        " http://www.fht360.com/newslist/315-3.html\n",
        "200"
       ]
      },
      {
       "output_type": "stream",
       "stream": "stdout",
       "text": [
        " http://www.fht360.com/productlist/31-3-860.html\n",
        "200"
       ]
      },
      {
       "output_type": "stream",
       "stream": "stdout",
       "text": [
        " http://www.fht360.com/productlist/2/390-3.html\n",
        "200"
       ]
      },
      {
       "output_type": "stream",
       "stream": "stdout",
       "text": [
        " http://www.fht360.com/productlist/13-4-2137.html\n"
       ]
      }
     ],
     "prompt_number": 51
    },
    {
     "cell_type": "markdown",
     "metadata": {},
     "source": [
      "match"
     ]
    },
    {
     "cell_type": "code",
     "collapsed": false,
     "input": [],
     "language": "python",
     "metadata": {},
     "outputs": []
    }
   ],
   "metadata": {}
  }
 ]
}