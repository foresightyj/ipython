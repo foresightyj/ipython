{
 "metadata": {
  "name": "",
  "signature": "sha256:0bc45dace0761a9505b7a8074004ab72f82daa0139cdbac81a74109a92301045"
 },
 "nbformat": 3,
 "nbformat_minor": 0,
 "worksheets": [
  {
   "cells": [
    {
     "cell_type": "heading",
     "level": 2,
     "metadata": {},
     "source": [
      "Intelligently parse routing rules I noted a few months ago and turn then into regex matches"
     ]
    },
    {
     "cell_type": "code",
     "collapsed": false,
     "input": [
      "routing_rules_path = \"E:/OneDrive/Notes/fht360_study/routing_rules.cs\"\n",
      "\n",
      "def _get_rules():\n",
      "    with open(routing_rules_path) as f:\n",
      "        for line in f:\n",
      "            if '{' in line and '}' in line and 'currpage' in line.lower():\n",
      "                yield line.strip().lower().strip(\",\").strip('\"')\n",
      "                \n",
      "def _get_parse_rules():\n",
      "    controller_patt = r'(product|company)'\n",
      "    integer_patt = r'(?P<{kw}>\\d+)'\n",
      "\n",
      "    keyword_patterns = {kw: integer_patt.format(kw=kw) for kw in [\"realcategoryid\", \"categoryid\", \"currpage\", \"industryid\", \"region\", \"tagid\"]}\n",
      "\n",
      "    for rule in _get_rules():\n",
      "        try:\n",
      "            rule = rule.format(controller=controller_patt, **keyword_patterns)\n",
      "            yield rule\n",
      "        except KeyError as e:\n",
      "            print 'Don\\'t care about this token %s yet' % e\n",
      "            pass\n",
      "\n",
      "parse_rules = list(_get_parse_rules())\n",
      "\n",
      "for parse_rule in parse_rules:\n",
      "    print parse_rule"
     ],
     "language": "python",
     "metadata": {},
     "outputs": [
      {
       "output_type": "stream",
       "stream": "stdout",
       "text": [
        "Don't care about this token 'tradeid' yet\n",
        "(product|company)list/(?P<categoryid>\\d+)-(?P<currpage>\\d+)-(?P<region>\\d+).html\n",
        "(product|company)list/(?P<categoryid>\\d+)-(?P<currpage>\\d+).html\n",
        "(product|company)list/(?P<categoryid>\\d+)/(?P<realcategoryid>\\d+)-(?P<currpage>\\d+)-(?P<region>\\d+).html\n",
        "(product|company)list/(?P<categoryid>\\d+)/(?P<realcategoryid>\\d+)-(?P<currpage>\\d+).html\n",
        "newslist/(?P<industryid>\\d+)-(?P<tagid>\\d+)-(?P<currpage>\\d+).html\n",
        "newslist/(?P<industryid>\\d+)-(?P<currpage>\\d+).html\n"
       ]
      }
     ],
     "prompt_number": 22
    },
    {
     "cell_type": "heading",
     "level": 2,
     "metadata": {},
     "source": [
      "Group all matches by some kind of hash of all other fields except for currpage"
     ]
    },
    {
     "cell_type": "code",
     "collapsed": false,
     "input": [
      "!wc -l C://Users//yj//Desktop//fht360urls//urls//*currpage*.url"
     ],
     "language": "python",
     "metadata": {},
     "outputs": [
      {
       "output_type": "stream",
       "stream": "stdout",
       "text": [
        "   1908 C://Users//yj//Desktop//fht360urls//urls//generate_companylist_categoryid_currpage.url\n",
        "  20153 C://Users//yj//Desktop//fht360urls//urls//generate_companylist_categoryid_currpage_region.url\n",
        "   2719 C://Users//yj//Desktop//fht360urls//urls//generate_companylist_categoryid_realcategoryid_currpage.url\n",
        "  31511 C://Users//yj//Desktop//fht360urls//urls//generate_companylist_categoryid_realcategoryid_currpage_region.url\n",
        "    291 C://Users//yj//Desktop//fht360urls//urls//generate_newslist_industryid_currpage.url\n",
        "   4649 C://Users//yj//Desktop//fht360urls//urls//generate_newslist_industryid_tagid_currpage.url\n",
        "   8821 C://Users//yj//Desktop//fht360urls//urls//generate_productlist_categoryid_currpage.url\n",
        "   9932 C://Users//yj//Desktop//fht360urls//urls//generate_productlist_categoryid_currpage_region.url\n",
        "  10672 C://Users//yj//Desktop//fht360urls//urls//generate_productlist_categoryid_realcategoryid_currpage.url\n",
        "  16650 C://Users//yj//Desktop//fht360urls//urls//generate_productlist_categoryid_realcategoryid_currpage_region.url\n",
        " 107306 total\n"
       ]
      }
     ],
     "prompt_number": 23
    },
    {
     "cell_type": "code",
     "collapsed": false,
     "input": [
      "currpage_stats = !wc -l C://Users//yj//Desktop//fht360urls//urls//*currpage*.url\n",
      "currpage_total = int(currpage_stats[-1].split()[0])\n",
      "print 'There are', currpage_total, 'links which contains currpage in total'"
     ],
     "language": "python",
     "metadata": {},
     "outputs": [
      {
       "output_type": "stream",
       "stream": "stdout",
       "text": [
        "There are 107306 links which contains currpage in total\n"
       ]
      }
     ],
     "prompt_number": 24
    },
    {
     "cell_type": "code",
     "collapsed": false,
     "input": [
      "import os\n",
      "import re\n",
      "import requests\n",
      "import itertools\n",
      "from collections import defaultdict\n",
      "\n",
      "url_folder = u\"C:/Users/yj/Desktop/fht360urls/urls\"\n",
      "\n",
      "urls_files =  os.listdir(url_folder)\n",
      "\n",
      "def all_links_from_files(*files):\n",
      "    for fn in files:\n",
      "        full_path = os.path.join(url_folder, fn)\n",
      "        with open(full_path) as f:\n",
      "            for line in f:\n",
      "                line = line.strip()\n",
      "                if line:\n",
      "                    yield line\n",
      "\n",
      "url_group_matches = defaultdict(list)\n",
      "\n",
      "def try_parse_by_all_rules(url):\n",
      "    url = url.lower()\n",
      "    for rule in parse_rules:\n",
      "        m = re.search(rule, url)\n",
      "        if m:\n",
      "            return m\n",
      "\n",
      "success = 0\n",
      "ignored = 0\n",
      "\n",
      "for url in all_links_from_files(*urls_files):\n",
      "    m = try_parse_by_all_rules(url)\n",
      "    if m:\n",
      "        groups = m.groupdict()\n",
      "        currpage = groups.pop(\"currpage\") # get rid of currpage and group the rest of keys and values into some kind of url_group\n",
      "        url_group_identifier = ';'.join(sorted([str(k)+'='+v for k, v in groups.items()]))\n",
      "        url_group_matches[url_group_identifier].append(m)\n",
      "        success+=1\n",
      "    else:\n",
      "        assert 'companylist' not in url and 'productlist' not in url, \"we should not miss any productlist or companylist links\"\n",
      "        assert 'newsinfo' in url or 'productinfo' in url or 'more' in url, \"we can ignore newsinfo or productinfo or more pages for now\"\n",
      "        ignored += 1\n",
      "\n",
      "print 'success', success, 'ignored', ignored\n",
      "\n",
      "assert success >= currpage_total, \"You must have missed some links that contains currpage\""
     ],
     "language": "python",
     "metadata": {},
     "outputs": [
      {
       "output_type": "stream",
       "stream": "stdout",
       "text": [
        "success 107310 ignored 343196\n"
       ]
      }
     ],
     "prompt_number": 25
    },
    {
     "cell_type": "code",
     "collapsed": false,
     "input": [
      "from operator import itemgetter\n",
      "\n",
      "last_page_matches = []\n",
      "total = 0\n",
      "no_of_multipages = 0\n",
      "for url_group, matches in url_group_matches.items():\n",
      "    total+=1\n",
      "    if len(matches) > 1:\n",
      "        no_of_multipages += 1\n",
      "        # find the url with largest page no\n",
      "        last_page_matche = sorted(matches, key=lambda match: int(match.groupdict()[\"currpage\"]))[-1]\n",
      "        #print len(matches), last_page_url\n",
      "        last_page_matches.append(last_page_matche)\n",
      "\n",
      "print \"%d of %d pages are multipages\" %(no_of_multipages, total)"
     ],
     "language": "python",
     "metadata": {},
     "outputs": [
      {
       "output_type": "stream",
       "stream": "stdout",
       "text": [
        "5360 of 71032 pages are multipages\n"
       ]
      }
     ],
     "prompt_number": 26
    },
    {
     "cell_type": "code",
     "collapsed": false,
     "input": [
      "import requests"
     ],
     "language": "python",
     "metadata": {},
     "outputs": [],
     "prompt_number": 27
    },
    {
     "cell_type": "code",
     "collapsed": false,
     "input": [
      "from contextlib import contextmanager\n",
      "\n",
      "import time\n",
      "\n",
      "@contextmanager\n",
      "def timed_context(work_description, outfile):\n",
      "    start = time.time()\n",
      "    yield\n",
      "    delta = time.time() - start\n",
      "    print>>outfile, '%.2f' % delta, ':', work_description\n",
      "    print  '%.2f' % delta, ':', work_description\n",
      "    "
     ],
     "language": "python",
     "metadata": {},
     "outputs": [],
     "prompt_number": 28
    },
    {
     "cell_type": "heading",
     "level": 2,
     "metadata": {},
     "source": [
      "Assert all last pages we found return 200 OK"
     ]
    },
    {
     "cell_type": "code",
     "collapsed": false,
     "input": [
      "page_div_pattern = re.compile(r'<</a><span><em>(\\d+)</em>/(\\d+)</span>')\n",
      "\n",
      "def should_have_been_404(html):\n",
      "    \"\"\"They made all links return 200 even if it corresponds to a resource shouldn't exist\n",
      "    The only workaround now is to parse htmls to assert if a url should be non-existent\n",
      "    \"\"\"\n",
      "    # here are the rules\n",
      "    # 1. if \u6682\u65e0\u65b0\u95fb shows up in the news pages, then it is not found\n",
      "    # 2. if \u6ca1\u6709\u627e\u5230\u6ee1\u8db3\u6761\u4ef6\u7684\u6570\u636e shows up in company pages, then it is not found\n",
      "    # 3. if <</a><span><em>412</em>/2</span> where 412 is a particular page no while 2 is the total number of pages\n",
      "    if u\"\u6682\u65e0\u65b0\u95fb\" in html:\n",
      "        return True\n",
      "    elif u\"\u6ca1\u6709\u627e\u5230\u6ee1\u8db3\u6761\u4ef6\u7684\u6570\u636e\" in html:\n",
      "        return True\n",
      "    else:\n",
      "        found = page_div_pattern.search(html)\n",
      "        if found:\n",
      "            page, total = map(int, found.groups())\n",
      "            if page > total:\n",
      "                return True\n",
      "    return False"
     ],
     "language": "python",
     "metadata": {},
     "outputs": [],
     "prompt_number": 29
    },
    {
     "cell_type": "code",
     "collapsed": false,
     "input": [
      "print '%d of urls in total' % len(last_page_matches)"
     ],
     "language": "python",
     "metadata": {},
     "outputs": [
      {
       "output_type": "stream",
       "stream": "stdout",
       "text": [
        "5360 of urls in total\n"
       ]
      }
     ],
     "prompt_number": 30
    },
    {
     "cell_type": "code",
     "collapsed": false,
     "input": [
      "raw_urls_times = !cat urls_tested.log\n",
      "\n",
      "urls_times = {}\n",
      "for line in raw_urls_times:\n",
      "    _time, url = line.split(\":\", 1)\n",
      "    _time = float(_time)\n",
      "    url = url.strip()\n",
      "    urls_times[url] = _time\n",
      "\n",
      "failed = []\n",
      "\n",
      "# this is rather long, so we need to \n",
      "with open(\"urls_tested.log\", \"a\") as outfile:\n",
      "    for match in last_page_matches:\n",
      "        url = match.string\n",
      "        if url in urls_times:\n",
      "            continue # skip this\n",
      "        with timed_context(url, outfile):\n",
      "            req = requests.get(url)\n",
      "            try:\n",
      "                assert req.status_code == 200\n",
      "                assert not should_have_been_404(req.text), req.url + \" is practically 404, which it shouldn't be.\"\n",
      "            except AssertionError as e:\n",
      "                failed.append(e)\n",
      "\n",
      "if failed:\n",
      "    print \"*\"*50\n",
      "    print \"There were %d failed asserts:\" % len(failed)\n",
      "    \n",
      "for f in failed:\n",
      "    print f"
     ],
     "language": "python",
     "metadata": {},
     "outputs": [
      {
       "output_type": "stream",
       "stream": "stdout",
       "text": [
        "1.29 : http://www.fht360.com/productlist/248-3-1122.html\n",
        "0.42"
       ]
      },
      {
       "output_type": "stream",
       "stream": "stdout",
       "text": [
        " : http://www.fht360.com/productlist/425/9475-3-1487.html\n",
        "0.32"
       ]
      },
      {
       "output_type": "stream",
       "stream": "stdout",
       "text": [
        " : http://www.fht360.com/productlist/324/7693-6.html\n",
        "0.39"
       ]
      },
      {
       "output_type": "stream",
       "stream": "stdout",
       "text": [
        " : http://www.fht360.com/productlist/433/14263-3-1487.html\n",
        "4.40"
       ]
      },
      {
       "output_type": "stream",
       "stream": "stdout",
       "text": [
        " : http://www.fht360.com/productlist/424/14724-11.html\n",
        "0.42"
       ]
      },
      {
       "output_type": "stream",
       "stream": "stdout",
       "text": [
        " : http://www.fht360.com/productlist/362-2-1.html\n",
        "1.45"
       ]
      },
      {
       "output_type": "stream",
       "stream": "stdout",
       "text": [
        " : http://www.fht360.com/companylist/199/10928-2-1364.html\n",
        "0.42"
       ]
      },
      {
       "output_type": "stream",
       "stream": "stdout",
       "text": [
        " : http://www.fht360.com/companylist/165/3-2-936.html\n",
        "0.43"
       ]
      },
      {
       "output_type": "stream",
       "stream": "stdout",
       "text": [
        " : http://www.fht360.com/companylist/165/3-2-2509.html\n",
        "0.43"
       ]
      },
      {
       "output_type": "stream",
       "stream": "stdout",
       "text": [
        " : http://www.fht360.com/companylist/165/3-2-938.html\n",
        "0.37"
       ]
      },
      {
       "output_type": "stream",
       "stream": "stdout",
       "text": [
        " : http://www.fht360.com/productlist/231/16951-2-1487.html\n",
        "0.69"
       ]
      },
      {
       "output_type": "stream",
       "stream": "stdout",
       "text": [
        " : http://www.fht360.com/companylist/46/10261-2.html\n",
        "0.48"
       ]
      },
      {
       "output_type": "stream",
       "stream": "stdout",
       "text": [
        " : http://www.fht360.com/companylist/164/3-6-221.html\n",
        "0.48"
       ]
      },
      {
       "output_type": "stream",
       "stream": "stdout",
       "text": [
        " : http://www.fht360.com/companylist/164/3-2-223.html\n",
        "0.44"
       ]
      },
      {
       "output_type": "stream",
       "stream": "stdout",
       "text": [
        " : http://www.fht360.com/companylist/164/3-3-228.html\n",
        "0.46"
       ]
      },
      {
       "output_type": "stream",
       "stream": "stdout",
       "text": [
        " : http://www.fht360.com/companylist/167-2-223.html\n",
        "0.29"
       ]
      },
      {
       "output_type": "stream",
       "stream": "stdout",
       "text": [
        " : http://www.fht360.com/productlist/424/14924-2.html\n",
        "0.37"
       ]
      },
      {
       "output_type": "stream",
       "stream": "stdout",
       "text": [
        " : http://www.fht360.com/productlist/424/14922-4.html\n",
        "0.25"
       ]
      },
      {
       "output_type": "stream",
       "stream": "stdout",
       "text": [
        " : http://www.fht360.com/productlist/424/14923-2.html\n",
        "0.43"
       ]
      },
      {
       "output_type": "stream",
       "stream": "stdout",
       "text": [
        " : http://www.fht360.com/companylist/167-3-1010.html\n",
        "0.43"
       ]
      },
      {
       "output_type": "stream",
       "stream": "stdout",
       "text": [
        " : http://www.fht360.com/companylist/164/3-2-3065.html\n",
        "0.50"
       ]
      },
      {
       "output_type": "stream",
       "stream": "stdout",
       "text": [
        " : http://www.fht360.com/companylist/48-4-1260.html\n",
        "0.44"
       ]
      },
      {
       "output_type": "stream",
       "stream": "stdout",
       "text": [
        " : http://www.fht360.com/productlist/317/12016-2-880.html\n",
        "0.79"
       ]
      },
      {
       "output_type": "stream",
       "stream": "stdout",
       "text": [
        " : http://www.fht360.com/productlist/352-65.html\n",
        "0.85"
       ]
      },
      {
       "output_type": "stream",
       "stream": "stdout",
       "text": [
        " : http://www.fht360.com/productlist/353-6.html\n",
        "1.30"
       ]
      },
      {
       "output_type": "stream",
       "stream": "stdout",
       "text": [
        " : http://www.fht360.com/productlist/351-164.html\n",
        "1.11"
       ]
      },
      {
       "output_type": "stream",
       "stream": "stdout",
       "text": [
        " : http://www.fht360.com/productlist/357-80.html\n",
        "1.20"
       ]
      },
      {
       "output_type": "stream",
       "stream": "stdout",
       "text": [
        " : http://www.fht360.com/productlist/355-4.html\n",
        "0.23"
       ]
      },
      {
       "output_type": "stream",
       "stream": "stdout",
       "text": [
        " : http://www.fht360.com/productlist/358-19.html\n",
        "0.39"
       ]
      },
      {
       "output_type": "stream",
       "stream": "stdout",
       "text": [
        " : http://www.fht360.com/productlist/235/99-3-1487.html\n",
        "0.49"
       ]
      },
      {
       "output_type": "stream",
       "stream": "stdout",
       "text": [
        " : http://www.fht360.com/companylist/164-4-1567.html\n",
        "0.48"
       ]
      },
      {
       "output_type": "stream",
       "stream": "stdout",
       "text": [
        " : http://www.fht360.com/productlist/303-3-1487.html\n",
        "0.52"
       ]
      },
      {
       "output_type": "stream",
       "stream": "stdout",
       "text": [
        " : http://www.fht360.com/productlist/235/3606-3-1487.html\n",
        "0.42"
       ]
      },
      {
       "output_type": "stream",
       "stream": "stdout",
       "text": [
        " : http://www.fht360.com/productlist/259/615-2-880.html\n",
        "0.63"
       ]
      },
      {
       "output_type": "stream",
       "stream": "stdout",
       "text": [
        " : http://www.fht360.com/companylist/54/59-2.html\n",
        "0.52"
       ]
      },
      {
       "output_type": "stream",
       "stream": "stdout",
       "text": [
        " : http://www.fht360.com/productlist/227/12210-2-860.html\n",
        "0.42"
       ]
      },
      {
       "output_type": "stream",
       "stream": "stdout",
       "text": [
        " : http://www.fht360.com/productlist/365-2-1009.html\n",
        "0.42"
       ]
      },
      {
       "output_type": "stream",
       "stream": "stdout",
       "text": [
        " : http://www.fht360.com/companylist/167/3-16-39.html\n",
        "0.59"
       ]
      },
      {
       "output_type": "stream",
       "stream": "stdout",
       "text": [
        " : http://www.fht360.com/productlist/442-5-2137.html\n",
        "0.42"
       ]
      },
      {
       "output_type": "stream",
       "stream": "stdout",
       "text": [
        " : http://www.fht360.com/companylist/165/3-3-1500.html\n",
        "0.55"
       ]
      },
      {
       "output_type": "stream",
       "stream": "stdout",
       "text": [
        " : http://www.fht360.com/productlist/341-4-860.html\n",
        "0.47"
       ]
      },
      {
       "output_type": "stream",
       "stream": "stdout",
       "text": [
        " : http://www.fht360.com/productlist/377-4-860.html\n",
        "0.68"
       ]
      },
      {
       "output_type": "stream",
       "stream": "stdout",
       "text": [
        " : http://www.fht360.com/companylist/44-3-1487.html\n",
        "0.29"
       ]
      },
      {
       "output_type": "stream",
       "stream": "stdout",
       "text": [
        " : http://www.fht360.com/productlist/239/12098-5.html\n",
        "0.52"
       ]
      },
      {
       "output_type": "stream",
       "stream": "stdout",
       "text": [
        " : http://www.fht360.com/companylist/181/10293-2.html\n",
        "0.32"
       ]
      },
      {
       "output_type": "stream",
       "stream": "stdout",
       "text": [
        " : http://www.fht360.com/productlist/242/14608-14.html\n",
        "0.47"
       ]
      },
      {
       "output_type": "stream",
       "stream": "stdout",
       "text": [
        " : http://www.fht360.com/companylist/160/10270-2.html\n",
        "0.44"
       ]
      },
      {
       "output_type": "stream",
       "stream": "stdout",
       "text": [
        " : http://www.fht360.com/productlist/236/8356-2.html\n",
        "0.56"
       ]
      },
      {
       "output_type": "stream",
       "stream": "stdout",
       "text": [
        " : http://www.fht360.com/companylist/47/10020-2.html\n",
        "0.29"
       ]
      },
      {
       "output_type": "stream",
       "stream": "stdout",
       "text": [
        " : http://www.fht360.com/productlist/231/455-4.html\n",
        "0.44"
       ]
      },
      {
       "output_type": "stream",
       "stream": "stdout",
       "text": [
        " : http://www.fht360.com/productlist/331/10010-2-1487.html\n",
        "0.43"
       ]
      },
      {
       "output_type": "stream",
       "stream": "stdout",
       "text": [
        " : http://www.fht360.com/productlist/245/7898-2-880.html\n",
        "0.43"
       ]
      },
      {
       "output_type": "stream",
       "stream": "stdout",
       "text": [
        " : http://www.fht360.com/productlist/312/7239-2-2137.html\n",
        "0.51"
       ]
      },
      {
       "output_type": "stream",
       "stream": "stdout",
       "text": [
        " : http://www.fht360.com/productlist/250/14-2-1662.html\n",
        "0.54"
       ]
      },
      {
       "output_type": "stream",
       "stream": "stdout",
       "text": [
        " : http://www.fht360.com/companylist/183/10723-2.html\n",
        "0.28"
       ]
      },
      {
       "output_type": "stream",
       "stream": "stdout",
       "text": [
        " : http://www.fht360.com/productlist/387/28-13-1487.html\n",
        "0.43"
       ]
      },
      {
       "output_type": "stream",
       "stream": "stdout",
       "text": [
        " : http://www.fht360.com/productlist/401-2-1122.html\n",
        "0.71"
       ]
      },
      {
       "output_type": "stream",
       "stream": "stdout",
       "text": [
        " : http://www.fht360.com/companylist/37-2-927.html\n",
        "0.34"
       ]
      },
      {
       "output_type": "stream",
       "stream": "stdout",
       "text": [
        " : http://www.fht360.com/productlist/351/13755-2.html\n",
        "0.43"
       ]
      },
      {
       "output_type": "stream",
       "stream": "stdout",
       "text": [
        " : http://www.fht360.com/productlist/437/12242-2-880.html\n",
        "0.14"
       ]
      },
      {
       "output_type": "stream",
       "stream": "stdout",
       "text": [
        " : http://www.fht360.com/productlist/433/15417-24.html\n",
        "0.71"
       ]
      },
      {
       "output_type": "stream",
       "stream": "stdout",
       "text": [
        " : http://www.fht360.com/companylist/45-2-39.html\n",
        "1.68"
       ]
      },
      {
       "output_type": "stream",
       "stream": "stdout",
       "text": [
        " : http://www.fht360.com/companylist/90/10364-2.html\n",
        "0.46"
       ]
      },
      {
       "output_type": "stream",
       "stream": "stdout",
       "text": [
        " : http://www.fht360.com/productlist/433/15238-2-1487.html\n",
        "0.78"
       ]
      },
      {
       "output_type": "stream",
       "stream": "stdout",
       "text": [
        " : http://www.fht360.com/productlist/231/15724-2-1487.html\n",
        "0.35"
       ]
      },
      {
       "output_type": "stream",
       "stream": "stdout",
       "text": [
        " : http://www.fht360.com/productlist/362/13755-2-2137.html\n",
        "0.48"
       ]
      },
      {
       "output_type": "stream",
       "stream": "stdout",
       "text": [
        " : http://www.fht360.com/companylist/48-8-927.html\n",
        "0.55"
       ]
      },
      {
       "output_type": "stream",
       "stream": "stdout",
       "text": [
        " : http://www.fht360.com/companylist/111-2.html\n",
        "0.56"
       ]
      },
      {
       "output_type": "stream",
       "stream": "stdout",
       "text": [
        " : http://www.fht360.com/companylist/112-2.html\n",
        "0.56"
       ]
      },
      {
       "output_type": "stream",
       "stream": "stdout",
       "text": [
        " : http://www.fht360.com/companylist/114-4.html\n",
        "0.54"
       ]
      },
      {
       "output_type": "stream",
       "stream": "stdout",
       "text": [
        " : http://www.fht360.com/companylist/117-2.html\n",
        "1.35"
       ]
      },
      {
       "output_type": "stream",
       "stream": "stdout",
       "text": [
        " : http://www.fht360.com/companylist/119-2.html\n",
        "0.50"
       ]
      },
      {
       "output_type": "stream",
       "stream": "stdout",
       "text": [
        " : http://www.fht360.com/productlist/233/7239-2-1122.html\n",
        "0.43"
       ]
      },
      {
       "output_type": "stream",
       "stream": "stdout",
       "text": [
        " : http://www.fht360.com/productlist/234/288-12-880.html\n",
        "0.49"
       ]
      },
      {
       "output_type": "stream",
       "stream": "stdout",
       "text": [
        " : http://www.fht360.com/companylist/201/10635-2.html\n",
        "0.42"
       ]
      },
      {
       "output_type": "stream",
       "stream": "stdout",
       "text": [
        " : http://www.fht360.com/productlist/367/13511-4-2137.html\n",
        "0.58"
       ]
      },
      {
       "output_type": "stream",
       "stream": "stdout",
       "text": [
        " : http://www.fht360.com/companylist/40/10359-2.html\n",
        "0.45"
       ]
      },
      {
       "output_type": "stream",
       "stream": "stdout",
       "text": [
        " : http://www.fht360.com/companylist/128/10079-2.html\n",
        "0.37"
       ]
      },
      {
       "output_type": "stream",
       "stream": "stdout",
       "text": [
        " : http://www.fht360.com/productlist/226/16102-2-39.html\n",
        "0.27"
       ]
      },
      {
       "output_type": "stream",
       "stream": "stdout",
       "text": [
        " : http://www.fht360.com/productlist/266-2-1987.html\n",
        "0.61"
       ]
      },
      {
       "output_type": "stream",
       "stream": "stdout",
       "text": [
        " : http://www.fht360.com/companylist/39/10519-2-2164.html\n",
        "0.34"
       ]
      },
      {
       "output_type": "stream",
       "stream": "stdout",
       "text": [
        " : http://www.fht360.com/productlist/228/8205-3.html\n",
        "0.45"
       ]
      },
      {
       "output_type": "stream",
       "stream": "stdout",
       "text": [
        " : http://www.fht360.com/productlist/328-2-1.html\n",
        "0.47"
       ]
      },
      {
       "output_type": "stream",
       "stream": "stdout",
       "text": [
        " : http://www.fht360.com/companylist/165/3-2-3065.html\n",
        "0.43"
       ]
      },
      {
       "output_type": "stream",
       "stream": "stdout",
       "text": [
        " : http://www.fht360.com/productlist/290-2-2137.html\n",
        "0.28"
       ]
      },
      {
       "output_type": "stream",
       "stream": "stdout",
       "text": [
        " : http://www.fht360.com/productlist/429/14807-2.html\n",
        "0.52"
       ]
      },
      {
       "output_type": "stream",
       "stream": "stdout",
       "text": [
        " : http://www.fht360.com/productlist/424/12292-2-2137.html\n",
        "0.44"
       ]
      },
      {
       "output_type": "stream",
       "stream": "stdout",
       "text": [
        " : http://www.fht360.com/productlist/251/16766-2.html\n",
        "0.55"
       ]
      },
      {
       "output_type": "stream",
       "stream": "stdout",
       "text": [
        " : http://www.fht360.com/companylist/44/10019-2.html\n",
        "0.69"
       ]
      },
      {
       "output_type": "stream",
       "stream": "stdout",
       "text": [
        " : http://www.fht360.com/productlist/424/2-5-499.html\n",
        "0.62"
       ]
      },
      {
       "output_type": "stream",
       "stream": "stdout",
       "text": [
        " : http://www.fht360.com/companylist/44/10012-2.html\n",
        "1.07"
       ]
      },
      {
       "output_type": "stream",
       "stream": "stdout",
       "text": [
        " : http://www.fht360.com/companylist/44/10011-2.html\n",
        "1.47"
       ]
      },
      {
       "output_type": "stream",
       "stream": "stdout",
       "text": [
        " : http://www.fht360.com/companylist/44/10014-2.html\n",
        "0.44"
       ]
      },
      {
       "output_type": "stream",
       "stream": "stdout",
       "text": [
        " : http://www.fht360.com/productlist/274/97-4-39.html\n",
        "0.45"
       ]
      },
      {
       "output_type": "stream",
       "stream": "stdout",
       "text": [
        " : http://www.fht360.com/productlist/260/8-5-2137.html\n",
        "0.41"
       ]
      },
      {
       "output_type": "stream",
       "stream": "stdout",
       "text": [
        " : http://www.fht360.com/productlist/429-2-880.html\n",
        "0.42"
       ]
      },
      {
       "output_type": "stream",
       "stream": "stdout",
       "text": [
        " : http://www.fht360.com/productlist/239/11053-2-1487.html\n",
        "0.45"
       ]
      },
      {
       "output_type": "stream",
       "stream": "stdout",
       "text": [
        " : http://www.fht360.com/productlist/334/33-2-2137.html\n",
        "0.46"
       ]
      },
      {
       "output_type": "stream",
       "stream": "stdout",
       "text": [
        " : http://www.fht360.com/productlist/293/820-2-880.html\n",
        "0.60"
       ]
      },
      {
       "output_type": "stream",
       "stream": "stdout",
       "text": [
        " : http://www.fht360.com/companylist/164/3-2-2279.html\n",
        "0.48"
       ]
      },
      {
       "output_type": "stream",
       "stream": "stdout",
       "text": [
        " : http://www.fht360.com/companylist/164/3-15-2278.html\n",
        "0.38"
       ]
      },
      {
       "output_type": "stream",
       "stream": "stdout",
       "text": [
        " : http://www.fht360.com/productlist/415/93-6-39.html\n",
        "0.66"
       ]
      },
      {
       "output_type": "stream",
       "stream": "stdout",
       "text": [
        " : http://www.fht360.com/productlist/282-2-2137.html\n",
        "1.04"
       ]
      },
      {
       "output_type": "stream",
       "stream": "stdout",
       "text": [
        " : http://www.fht360.com/productlist/239-28-2137.html\n",
        "0.61"
       ]
      },
      {
       "output_type": "stream",
       "stream": "stdout",
       "text": [
        " : http://www.fht360.com/productlist/285-2-860.html\n",
        "0.28"
       ]
      },
      {
       "output_type": "stream",
       "stream": "stdout",
       "text": [
        " : http://www.fht360.com/productlist/334-3-499.html\n",
        "0.58"
       ]
      },
      {
       "output_type": "stream",
       "stream": "stdout",
       "text": [
        " : http://www.fht360.com/productlist/227/10511-17-2137.html\n",
        "4.38"
       ]
      },
      {
       "output_type": "stream",
       "stream": "stdout",
       "text": [
        " : http://www.fht360.com/productlist/427/12187-6.html\n",
        "0.84"
       ]
      },
      {
       "output_type": "stream",
       "stream": "stdout",
       "text": [
        " : http://www.fht360.com/productlist/239/310-2-1487.html\n",
        "0.68"
       ]
      },
      {
       "output_type": "stream",
       "stream": "stdout",
       "text": [
        " : http://www.fht360.com/productlist/226/10823-4-1487.html\n",
        "0.78"
       ]
      },
      {
       "output_type": "stream",
       "stream": "stdout",
       "text": [
        " : http://www.fht360.com/productlist/239/710-3-1487.html\n",
        "0.32"
       ]
      },
      {
       "output_type": "stream",
       "stream": "stdout",
       "text": [
        " : http://www.fht360.com/productlist/364-5-2137.html\n",
        "0.54"
       ]
      },
      {
       "output_type": "stream",
       "stream": "stdout",
       "text": [
        " : http://www.fht360.com/productlist/387/15552-7.html\n",
        "0.47"
       ]
      },
      {
       "output_type": "stream",
       "stream": "stdout",
       "text": [
        " : http://www.fht360.com/productlist/255/656-2.html\n",
        "0.55"
       ]
      },
      {
       "output_type": "stream",
       "stream": "stdout",
       "text": [
        " : http://www.fht360.com/productlist/356/13332-5-2137.html\n",
        "0.66"
       ]
      },
      {
       "output_type": "stream",
       "stream": "stdout",
       "text": [
        " : http://www.fht360.com/productlist/356/13330-2-1260.html\n",
        "0.65"
       ]
      },
      {
       "output_type": "stream",
       "stream": "stdout",
       "text": [
        " : http://www.fht360.com/productlist/231/15883-8-1487.html\n",
        "0.26"
       ]
      },
      {
       "output_type": "stream",
       "stream": "stdout",
       "text": [
        " : http://www.fht360.com/productlist/293-3-1662.html\n",
        "0.67"
       ]
      },
      {
       "output_type": "stream",
       "stream": "stdout",
       "text": [
        " : http://www.fht360.com/productlist/247-5-1009.html\n",
        "0.57"
       ]
      },
      {
       "output_type": "stream",
       "stream": "stdout",
       "text": [
        " : http://www.fht360.com/productlist/303/9392-2-1487.html\n",
        "0.63"
       ]
      },
      {
       "output_type": "stream",
       "stream": "stdout",
       "text": [
        " : http://www.fht360.com/productlist/297-2-860.html\n",
        "0.26"
       ]
      },
      {
       "output_type": "stream",
       "stream": "stdout",
       "text": [
        " : http://www.fht360.com/productlist/226-9-1122.html\n",
        "0.54"
       ]
      },
      {
       "output_type": "stream",
       "stream": "stdout",
       "text": [
        " : http://www.fht360.com/productlist/372/14206-3.html\n",
        "0.82"
       ]
      },
      {
       "output_type": "stream",
       "stream": "stdout",
       "text": [
        " : http://www.fht360.com/productlist/231/15793-3-1122.html\n",
        "0.34"
       ]
      },
      {
       "output_type": "stream",
       "stream": "stdout",
       "text": [
        " : http://www.fht360.com/productlist/226-3-1987.html\n",
        "0.55"
       ]
      },
      {
       "output_type": "stream",
       "stream": "stdout",
       "text": [
        " : http://www.fht360.com/productlist/248/284-3.html\n",
        "0.12"
       ]
      },
      {
       "output_type": "stream",
       "stream": "stdout",
       "text": [
        " : http://www.fht360.com/productlist/248/285-2.html\n",
        "0.74"
       ]
      },
      {
       "output_type": "stream",
       "stream": "stdout",
       "text": [
        " : http://www.fht360.com/productlist/241-10-880.html\n",
        "0.47"
       ]
      },
      {
       "output_type": "stream",
       "stream": "stdout",
       "text": [
        " : http://www.fht360.com/companylist/165/3-45-2137.html\n",
        "0.60"
       ]
      },
      {
       "output_type": "stream",
       "stream": "stdout",
       "text": [
        " : http://www.fht360.com/companylist/165/3-10-2138.html\n",
        "0.95"
       ]
      },
      {
       "output_type": "stream",
       "stream": "stdout",
       "text": [
        " : http://www.fht360.com/productlist/329-2-2137.html\n",
        "0.56"
       ]
      },
      {
       "output_type": "stream",
       "stream": "stdout",
       "text": [
        " : http://www.fht360.com/productlist/227/3498-3.html\n",
        "0.75"
       ]
      },
      {
       "output_type": "stream",
       "stream": "stdout",
       "text": [
        " : http://www.fht360.com/companylist/52/10958-2.html\n",
        "0.55"
       ]
      },
      {
       "output_type": "stream",
       "stream": "stdout",
       "text": [
        " : http://www.fht360.com/companylist/34/10406-2.html\n",
        "0.55"
       ]
      },
      {
       "output_type": "stream",
       "stream": "stdout",
       "text": [
        " : http://www.fht360.com/companylist/34/10404-2.html\n",
        "0.56"
       ]
      },
      {
       "output_type": "stream",
       "stream": "stdout",
       "text": [
        " : http://www.fht360.com/companylist/34/10403-2.html\n",
        "0.52"
       ]
      },
      {
       "output_type": "stream",
       "stream": "stdout",
       "text": [
        " : http://www.fht360.com/companylist/34/10402-2.html\n",
        "0.47"
       ]
      },
      {
       "output_type": "stream",
       "stream": "stdout",
       "text": [
        " : http://www.fht360.com/companylist/162-3-1857.html\n",
        "0.51"
       ]
      },
      {
       "output_type": "stream",
       "stream": "stdout",
       "text": [
        " : http://www.fht360.com/companylist/162-2-1581.html\n",
        "0.77"
       ]
      },
      {
       "output_type": "stream",
       "stream": "stdout",
       "text": [
        " : http://www.fht360.com/productlist/351/13535-2-2137.html\n",
        "0.63"
       ]
      },
      {
       "output_type": "stream",
       "stream": "stdout",
       "text": [
        " : http://www.fht360.com/productlist/435-8-1487.html\n",
        "0.45"
       ]
      },
      {
       "output_type": "stream",
       "stream": "stdout",
       "text": [
        " : http://www.fht360.com/productlist/351/13540-3.html\n",
        "0.65"
       ]
      },
      {
       "output_type": "stream",
       "stream": "stdout",
       "text": [
        " : http://www.fht360.com/productlist/326/69-3-880.html\n",
        "0.58"
       ]
      },
      {
       "output_type": "stream",
       "stream": "stdout",
       "text": [
        " : http://www.fht360.com/productlist/226/11590-5-2137.html\n",
        "0.65"
       ]
      },
      {
       "output_type": "stream",
       "stream": "stdout",
       "text": [
        " : http://www.fht360.com/productlist/235-2-706.html\n",
        "0.47"
       ]
      },
      {
       "output_type": "stream",
       "stream": "stdout",
       "text": [
        " : http://www.fht360.com/companylist/167-2-1364.html\n",
        "0.63"
       ]
      },
      {
       "output_type": "stream",
       "stream": "stdout",
       "text": [
        " : http://www.fht360.com/productlist/263-2-2137.html\n",
        "0.71"
       ]
      },
      {
       "output_type": "stream",
       "stream": "stdout",
       "text": [
        " : http://www.fht360.com/productlist/239/3562-2-1487.html\n",
        "0.46"
       ]
      },
      {
       "output_type": "stream",
       "stream": "stdout",
       "text": [
        " : http://www.fht360.com/companylist/52/10928-2-1376.html\n",
        "0.47"
       ]
      },
      {
       "output_type": "stream",
       "stream": "stdout",
       "text": [
        " : http://www.fht360.com/companylist/164-2-706.html\n",
        "0.46"
       ]
      },
      {
       "output_type": "stream",
       "stream": "stdout",
       "text": [
        " : http://www.fht360.com/productlist/263/308-3.html\n",
        "0.62"
       ]
      },
      {
       "output_type": "stream",
       "stream": "stdout",
       "text": [
        " : http://www.fht360.com/productlist/250/748-2-860.html\n",
        "0.14"
       ]
      },
      {
       "output_type": "stream",
       "stream": "stdout",
       "text": [
        " : http://www.fht360.com/productlist/263/303-29.html\n",
        "0.54"
       ]
      },
      {
       "output_type": "stream",
       "stream": "stdout",
       "text": [
        " : http://www.fht360.com/productlist/335/12703-2.html\n",
        "0.79"
       ]
      },
      {
       "output_type": "stream",
       "stream": "stdout",
       "text": [
        " : http://www.fht360.com/productlist/359-42-2137.html\n",
        "0.77"
       ]
      },
      {
       "output_type": "stream",
       "stream": "stdout",
       "text": [
        " : http://www.fht360.com/productlist/231/159-2-1662.html\n",
        "0.49"
       ]
      },
      {
       "output_type": "stream",
       "stream": "stdout",
       "text": [
        " : http://www.fht360.com/productlist/341/12630-5.html\n",
        "0.27"
       ]
      },
      {
       "output_type": "stream",
       "stream": "stdout",
       "text": [
        " : http://www.fht360.com/productlist/235-6-1009.html\n",
        "0.55"
       ]
      },
      {
       "output_type": "stream",
       "stream": "stdout",
       "text": [
        " : http://www.fht360.com/companylist/81-2-880.html\n",
        "0.70"
       ]
      },
      {
       "output_type": "stream",
       "stream": "stdout",
       "text": [
        " : http://www.fht360.com/productlist/260-12-1487.html\n",
        "0.43"
       ]
      },
      {
       "output_type": "stream",
       "stream": "stdout",
       "text": [
        " : http://www.fht360.com/productlist/442/14694-2.html\n",
        "1.02"
       ]
      },
      {
       "output_type": "stream",
       "stream": "stdout",
       "text": [
        " : http://www.fht360.com/productlist/277/89-92-1487.html\n",
        "1.05"
       ]
      },
      {
       "output_type": "stream",
       "stream": "stdout",
       "text": [
        " : http://www.fht360.com/productlist/324/10003-2-880.html\n",
        "0.37"
       ]
      },
      {
       "output_type": "stream",
       "stream": "stdout",
       "text": [
        " : http://www.fht360.com/productlist/286/12753-2-2137.html\n",
        "0.28"
       ]
      },
      {
       "output_type": "stream",
       "stream": "stdout",
       "text": [
        " : http://www.fht360.com/productlist/337/13504-2.html\n",
        "0.37"
       ]
      },
      {
       "output_type": "stream",
       "stream": "stdout",
       "text": [
        " : http://www.fht360.com/productlist/435/15236-2-1487.html\n",
        "0.31"
       ]
      },
      {
       "output_type": "stream",
       "stream": "stdout",
       "text": [
        " : http://www.fht360.com/productlist/324-24-860.html\n",
        "0.32"
       ]
      },
      {
       "output_type": "stream",
       "stream": "stdout",
       "text": [
        " : http://www.fht360.com/productlist/239/710-4.html\n",
        "0.46"
       ]
      },
      {
       "output_type": "stream",
       "stream": "stdout",
       "text": [
        " : http://www.fht360.com/productlist/239/703-2-1662.html\n",
        "0.48"
       ]
      },
      {
       "output_type": "stream",
       "stream": "stdout",
       "text": [
        " : http://www.fht360.com/companylist/48-2-1570.html\n",
        "0.42"
       ]
      },
      {
       "output_type": "stream",
       "stream": "stdout",
       "text": [
        " : http://www.fht360.com/companylist/51/10785-2-2137.html\n",
        "0.46"
       ]
      },
      {
       "output_type": "stream",
       "stream": "stdout",
       "text": [
        " : http://www.fht360.com/productlist/227/10511-7-1487.html\n",
        "0.47"
       ]
      },
      {
       "output_type": "stream",
       "stream": "stdout",
       "text": [
        " : http://www.fht360.com/companylist/164-2-1276.html\n",
        "0.45"
       ]
      },
      {
       "output_type": "stream",
       "stream": "stdout",
       "text": [
        " : http://www.fht360.com/productlist/234/390-4-1662.html\n",
        "0.77"
       ]
      },
      {
       "output_type": "stream",
       "stream": "stdout",
       "text": [
        " : http://www.fht360.com/productlist/432/39-4-39.html\n",
        "0.72"
       ]
      },
      {
       "output_type": "stream",
       "stream": "stdout",
       "text": [
        " : http://www.fht360.com/productlist/325-8-880.html\n",
        "0.48"
       ]
      },
      {
       "output_type": "stream",
       "stream": "stdout",
       "text": [
        " : http://www.fht360.com/productlist/427/12187-2-2137.html\n",
        "0.63"
       ]
      },
      {
       "output_type": "stream",
       "stream": "stdout",
       "text": [
        " : http://www.fht360.com/companylist/47-2-39.html\n",
        "0.42"
       ]
      },
      {
       "output_type": "stream",
       "stream": "stdout",
       "text": [
        " : http://www.fht360.com/productlist/317-2-860.html\n",
        "1.05"
       ]
      },
      {
       "output_type": "stream",
       "stream": "stdout",
       "text": [
        " : http://www.fht360.com/productlist/334-70-2137.html\n",
        "1.92"
       ]
      },
      {
       "output_type": "stream",
       "stream": "stdout",
       "text": [
        " : http://www.fht360.com/productlist/352-5-1487.html\n",
        "0.25"
       ]
      },
      {
       "output_type": "stream",
       "stream": "stdout",
       "text": [
        " : http://www.fht360.com/productlist/286/16190-2.html\n",
        "0.46"
       ]
      },
      {
       "output_type": "stream",
       "stream": "stdout",
       "text": [
        " : http://www.fht360.com/productlist/334-4-39.html\n",
        "0.43"
       ]
      },
      {
       "output_type": "stream",
       "stream": "stdout",
       "text": [
        " : http://www.fht360.com/productlist/425-2-880.html\n",
        "0.53"
       ]
      },
      {
       "output_type": "stream",
       "stream": "stdout",
       "text": [
        " : http://www.fht360.com/companylist/48/3-2-1276.html\n",
        "0.64"
       ]
      },
      {
       "output_type": "stream",
       "stream": "stdout",
       "text": [
        " : http://www.fht360.com/companylist/39-5-1009.html\n",
        "0.44"
       ]
      },
      {
       "output_type": "stream",
       "stream": "stdout",
       "text": [
        " : http://www.fht360.com/productlist/233/15982-2-880.html\n",
        "0.80"
       ]
      },
      {
       "output_type": "stream",
       "stream": "stdout",
       "text": [
        " : http://www.fht360.com/companylist/38-11.html\n",
        "1.29"
       ]
      },
      {
       "output_type": "stream",
       "stream": "stdout",
       "text": [
        " : http://www.fht360.com/companylist/39-51.html\n",
        "1.08"
       ]
      },
      {
       "output_type": "stream",
       "stream": "stdout",
       "text": [
        " : http://www.fht360.com/companylist/34-53.html\n",
        "0.60"
       ]
      },
      {
       "output_type": "stream",
       "stream": "stdout",
       "text": [
        " : http://www.fht360.com/companylist/37-44.html\n",
        "0.36"
       ]
      },
      {
       "output_type": "stream",
       "stream": "stdout",
       "text": [
        " : http://www.fht360.com/productlist/263/11994-3-1662.html\n",
        "0.48"
       ]
      },
      {
       "output_type": "stream",
       "stream": "stdout",
       "text": [
        " : http://www.fht360.com/productlist/337/12311-2-2137.html\n",
        "0.26"
       ]
      },
      {
       "output_type": "stream",
       "stream": "stdout",
       "text": [
        " : http://www.fht360.com/productlist/246/11343-3.html\n",
        "0.29"
       ]
      },
      {
       "output_type": "stream",
       "stream": "stdout",
       "text": [
        " : http://www.fht360.com/productlist/246/11349-3.html\n",
        "0.42"
       ]
      },
      {
       "output_type": "stream",
       "stream": "stdout",
       "text": [
        " : http://www.fht360.com/productlist/424/14862-3-1260.html\n",
        "0.34"
       ]
      },
      {
       "output_type": "stream",
       "stream": "stdout",
       "text": [
        " : http://www.fht360.com/productlist/361/13198-3.html\n",
        "0.48"
       ]
      },
      {
       "output_type": "stream",
       "stream": "stdout",
       "text": [
        " : http://www.fht360.com/companylist/165/3-3-1122.html\n",
        "0.28"
       ]
      },
      {
       "output_type": "stream",
       "stream": "stdout",
       "text": [
        " : http://www.fht360.com/productlist/351/13508-3.html\n",
        "0.62"
       ]
      },
      {
       "output_type": "stream",
       "stream": "stdout",
       "text": [
        " : http://www.fht360.com/companylist/40/10299-2.html\n",
        "0.53"
       ]
      },
      {
       "output_type": "stream",
       "stream": "stdout",
       "text": [
        " : http://www.fht360.com/companylist/40/10291-2.html\n",
        "0.53"
       ]
      },
      {
       "output_type": "stream",
       "stream": "stdout",
       "text": [
        " : http://www.fht360.com/companylist/40/10290-2.html\n",
        "0.64"
       ]
      },
      {
       "output_type": "stream",
       "stream": "stdout",
       "text": [
        " : http://www.fht360.com/companylist/40/10292-2.html\n",
        "0.20"
       ]
      },
      {
       "output_type": "stream",
       "stream": "stdout",
       "text": [
        " : http://www.fht360.com/productlist/244/266-8-1487.html\n",
        "0.75"
       ]
      },
      {
       "output_type": "stream",
       "stream": "stdout",
       "text": [
        " : http://www.fht360.com/companylist/59-2-860.html\n",
        "0.37"
       ]
      },
      {
       "output_type": "stream",
       "stream": "stdout",
       "text": [
        " : http://www.fht360.com/productlist/248/12007-11.html\n",
        "0.27"
       ]
      },
      {
       "output_type": "stream",
       "stream": "stdout",
       "text": [
        " : http://www.fht360.com/productlist/246/13239-2.html\n",
        "4.90"
       ]
      },
      {
       "output_type": "stream",
       "stream": "stdout",
       "text": [
        " : http://www.fht360.com/companylist/47/10642-2-2137.html\n",
        "0.58"
       ]
      },
      {
       "output_type": "stream",
       "stream": "stdout",
       "text": [
        " : http://www.fht360.com/companylist/166-2-2137.html\n",
        "1.41"
       ]
      },
      {
       "output_type": "stream",
       "stream": "stdout",
       "text": [
        " : http://www.fht360.com/productlist/226/10885-2-1487.html\n",
        "0.47"
       ]
      },
      {
       "output_type": "stream",
       "stream": "stdout",
       "text": [
        " : http://www.fht360.com/companylist/162-22-880.html\n",
        "0.47"
       ]
      },
      {
       "output_type": "stream",
       "stream": "stdout",
       "text": [
        " : http://www.fht360.com/companylist/162-2-881.html\n",
        "0.33"
       ]
      },
      {
       "output_type": "stream",
       "stream": "stdout",
       "text": [
        " : http://www.fht360.com/productlist/276-2-1857.html\n",
        "0.49"
       ]
      },
      {
       "output_type": "stream",
       "stream": "stdout",
       "text": [
        " : http://www.fht360.com/productlist/360-6-2137.html\n",
        "0.56"
       ]
      },
      {
       "output_type": "stream",
       "stream": "stdout",
       "text": [
        " : http://www.fht360.com/productlist/340-4-2137.html\n",
        "0.65"
       ]
      },
      {
       "output_type": "stream",
       "stream": "stdout",
       "text": [
        " : http://www.fht360.com/productlist/345-2-880.html\n",
        "1.08"
       ]
      },
      {
       "output_type": "stream",
       "stream": "stdout",
       "text": [
        " : http://www.fht360.com/productlist/325-10-2137.html\n",
        "0.49"
       ]
      },
      {
       "output_type": "stream",
       "stream": "stdout",
       "text": [
        " : http://www.fht360.com/companylist/164-2-1070.html\n",
        "0.44"
       ]
      },
      {
       "output_type": "stream",
       "stream": "stdout",
       "text": [
        " : http://www.fht360.com/productlist/367-2-706.html\n",
        "1.36"
       ]
      },
      {
       "output_type": "stream",
       "stream": "stdout",
       "text": [
        " : http://www.fht360.com/productlist/337/12176-9.html\n",
        "0.75"
       ]
      },
      {
       "output_type": "stream",
       "stream": "stdout",
       "text": [
        " : http://www.fht360.com/productlist/337/12177-6.html\n",
        "0.64"
       ]
      },
      {
       "output_type": "stream",
       "stream": "stdout",
       "text": [
        " : http://www.fht360.com/companylist/167/3-2-2279.html\n",
        "0.47"
       ]
      },
      {
       "output_type": "stream",
       "stream": "stdout",
       "text": [
        " : http://www.fht360.com/productlist/246/11342-2-880.html\n",
        "0.57"
       ]
      },
      {
       "output_type": "stream",
       "stream": "stdout",
       "text": [
        " : http://www.fht360.com/productlist/446/18914-2-2137.html\n",
        "0.48"
       ]
      },
      {
       "output_type": "stream",
       "stream": "stdout",
       "text": [
        " : http://www.fht360.com/companylist/132-2-2137.html\n",
        "0.67"
       ]
      },
      {
       "output_type": "stream",
       "stream": "stdout",
       "text": [
        " : http://www.fht360.com/productlist/231-10-1009.html\n",
        "0.66"
       ]
      },
      {
       "output_type": "stream",
       "stream": "stdout",
       "text": [
        " : http://www.fht360.com/productlist/362-8-2137.html\n",
        "0.81"
       ]
      },
      {
       "output_type": "stream",
       "stream": "stdout",
       "text": [
        " : http://www.fht360.com/companylist/57-4-880.html\n",
        "0.76"
       ]
      },
      {
       "output_type": "stream",
       "stream": "stdout",
       "text": [
        " : http://www.fht360.com/companylist/57-2-881.html\n",
        "0.26"
       ]
      },
      {
       "output_type": "stream",
       "stream": "stdout",
       "text": [
        " : http://www.fht360.com/productlist/233/655-2-880.html\n",
        "0.64"
       ]
      },
      {
       "output_type": "stream",
       "stream": "stdout",
       "text": [
        " : http://www.fht360.com/productlist/362/13540-3.html\n",
        "0.64"
       ]
      },
      {
       "output_type": "stream",
       "stream": "stdout",
       "text": [
        " : http://www.fht360.com/companylist/137/10178-2.html\n",
        "0.53"
       ]
      },
      {
       "output_type": "stream",
       "stream": "stdout",
       "text": [
        " : http://www.fht360.com/companylist/137/10176-2.html\n",
        "0.38"
       ]
      },
      {
       "output_type": "stream",
       "stream": "stdout",
       "text": [
        " : http://www.fht360.com/productlist/246/14807-2-1.html\n",
        "0.42"
       ]
      },
      {
       "output_type": "stream",
       "stream": "stdout",
       "text": [
        " : http://www.fht360.com/productlist/247-1-1987.html\n",
        "0.46"
       ]
      },
      {
       "output_type": "stream",
       "stream": "stdout",
       "text": [
        " : http://www.fht360.com/productlist/298/864-2-1487.html\n",
        "0.28"
       ]
      },
      {
       "output_type": "stream",
       "stream": "stdout",
       "text": [
        " : http://www.fht360.com/productlist/246-10-860.html\n",
        "0.48"
       ]
      },
      {
       "output_type": "stream",
       "stream": "stdout",
       "text": [
        " : http://www.fht360.com/companylist/48-7-2169.html\n",
        "0.48"
       ]
      },
      {
       "output_type": "stream",
       "stream": "stdout",
       "text": [
        " : http://www.fht360.com/companylist/48-15-2164.html\n",
        "0.42"
       ]
      },
      {
       "output_type": "stream",
       "stream": "stdout",
       "text": [
        " : http://www.fht360.com/productlist/328/12465-4-1260.html\n",
        "1.66"
       ]
      },
      {
       "output_type": "stream",
       "stream": "stdout",
       "text": [
        " : http://www.fht360.com/productlist/337-36-2137.html\n",
        "0.91"
       ]
      },
      {
       "output_type": "stream",
       "stream": "stdout",
       "text": [
        " : http://www.fht360.com/productlist/227/10511-2-1364.html\n",
        "0.43"
       ]
      },
      {
       "output_type": "stream",
       "stream": "stdout",
       "text": [
        " : http://www.fht360.com/companylist/209-2-1662.html\n",
        "0.30"
       ]
      },
      {
       "output_type": "stream",
       "stream": "stdout",
       "text": [
        " : http://www.fht360.com/productlist/352/14157-4.html\n",
        "1.23"
       ]
      },
      {
       "output_type": "stream",
       "stream": "stdout",
       "text": [
        " : http://www.fht360.com/productlist/359/12329-36.html\n",
        "1.01"
       ]
      },
      {
       "output_type": "stream",
       "stream": "stdout",
       "text": [
        " : http://www.fht360.com/productlist/235/16955-7.html\n",
        "0.33"
       ]
      },
      {
       "output_type": "stream",
       "stream": "stdout",
       "text": [
        " : http://www.fht360.com/productlist/236/15627-5.html\n",
        "1.20"
       ]
      },
      {
       "output_type": "stream",
       "stream": "stdout",
       "text": [
        " : http://www.fht360.com/companylist/139/10053-2-2137.html\n",
        "1.10"
       ]
      },
      {
       "output_type": "stream",
       "stream": "stdout",
       "text": [
        " : http://www.fht360.com/productlist/428/14738-2-2137.html\n",
        "1.23"
       ]
      },
      {
       "output_type": "stream",
       "stream": "stdout",
       "text": [
        " : http://www.fht360.com/productlist/424/3786-2-39.html\n",
        "0.74"
       ]
      },
      {
       "output_type": "stream",
       "stream": "stdout",
       "text": [
        " : http://www.fht360.com/productlist/283/16206-2-2137.html\n",
        "1.01"
       ]
      },
      {
       "output_type": "stream",
       "stream": "stdout",
       "text": [
        " : http://www.fht360.com/productlist/324/68-4-1487.html\n",
        "0.78"
       ]
      },
      {
       "output_type": "stream",
       "stream": "stdout",
       "text": [
        " : http://www.fht360.com/productlist/274/11137-16.html\n",
        "0.57"
       ]
      },
      {
       "output_type": "stream",
       "stream": "stdout",
       "text": [
        " : http://www.fht360.com/productlist/236/17417-3-2137.html\n",
        "0.69"
       ]
      },
      {
       "output_type": "stream",
       "stream": "stdout",
       "text": [
        " : http://www.fht360.com/companylist/142/10138-2-1487.html\n",
        "0.34"
       ]
      },
      {
       "output_type": "stream",
       "stream": "stdout",
       "text": [
        " : http://www.fht360.com/productlist/333/12646-3.html\n",
        "0.47"
       ]
      },
      {
       "output_type": "stream",
       "stream": "stdout",
       "text": [
        " : http://www.fht360.com/companylist/167-6-221.html\n",
        "0.73"
       ]
      },
      {
       "output_type": "stream",
       "stream": "stdout",
       "text": [
        " : http://www.fht360.com/productlist/248/12038-10-39.html\n",
        "0.54"
       ]
      },
      {
       "output_type": "stream",
       "stream": "stdout",
       "text": [
        " : http://www.fht360.com/companylist/167-3-228.html\n",
        "0.33"
       ]
      },
      {
       "output_type": "stream",
       "stream": "stdout",
       "text": [
        " : http://www.fht360.com/productlist/336/14661-4.html\n",
        "0.60"
       ]
      },
      {
       "output_type": "stream",
       "stream": "stdout",
       "text": [
        " : http://www.fht360.com/companylist/34-3-1009.html\n",
        "0.38"
       ]
      },
      {
       "output_type": "stream",
       "stream": "stdout",
       "text": [
        " : http://www.fht360.com/productlist/356-8-1009.html\n",
        "0.53"
       ]
      },
      {
       "output_type": "stream",
       "stream": "stdout",
       "text": [
        " : http://www.fht360.com/productlist/260/677-8.html\n",
        "0.53"
       ]
      },
      {
       "output_type": "stream",
       "stream": "stdout",
       "text": [
        " : http://www.fht360.com/productlist/281/400-2.html\n",
        "0.64"
       ]
      },
      {
       "output_type": "stream",
       "stream": "stdout",
       "text": [
        " : http://www.fht360.com/productlist/354-2-1009.html\n",
        "0.56"
       ]
      },
      {
       "output_type": "stream",
       "stream": "stdout",
       "text": [
        " : http://www.fht360.com/productlist/324/11675-12.html\n",
        "0.64"
       ]
      },
      {
       "output_type": "stream",
       "stream": "stdout",
       "text": [
        " : http://www.fht360.com/companylist/49-3-1487.html\n",
        "0.55"
       ]
      },
      {
       "output_type": "stream",
       "stream": "stdout",
       "text": [
        " : http://www.fht360.com/companylist/247/10810-2.html\n",
        "0.49"
       ]
      },
      {
       "output_type": "stream",
       "stream": "stdout",
       "text": [
        " : http://www.fht360.com/companylist/247/10814-2.html\n",
        "0.30"
       ]
      },
      {
       "output_type": "stream",
       "stream": "stdout",
       "text": [
        " : http://www.fht360.com/productlist/341/3104-2.html\n",
        "0.43"
       ]
      },
      {
       "output_type": "stream",
       "stream": "stdout",
       "text": [
        " : http://www.fht360.com/productlist/231/15724-2-880.html\n",
        "0.27"
       ]
      },
      {
       "output_type": "stream",
       "stream": "stdout",
       "text": [
        " : http://www.fht360.com/productlist/245/11631-2.html\n",
        "0.50"
       ]
      },
      {
       "output_type": "stream",
       "stream": "stdout",
       "text": [
        " : http://www.fht360.com/companylist/48/3-2-230.html\n",
        "0.37"
       ]
      },
      {
       "output_type": "stream",
       "stream": "stdout",
       "text": [
        " : http://www.fht360.com/productlist/387-2-1009.html\n",
        "0.66"
       ]
      },
      {
       "output_type": "stream",
       "stream": "stdout",
       "text": [
        " : http://www.fht360.com/productlist/231/16292-3-39.html\n",
        "0.24"
       ]
      },
      {
       "output_type": "stream",
       "stream": "stdout",
       "text": [
        " : http://www.fht360.com/productlist/331/10008-3.html\n",
        "0.39"
       ]
      },
      {
       "output_type": "stream",
       "stream": "stdout",
       "text": [
        " : http://www.fht360.com/productlist/228/8206-2-1662.html\n",
        "0.54"
       ]
      },
      {
       "output_type": "stream",
       "stream": "stdout",
       "text": [
        " : http://www.fht360.com/productlist/234/15613-2-1487.html\n",
        "0.88"
       ]
      },
      {
       "output_type": "stream",
       "stream": "stdout",
       "text": [
        " : http://www.fht360.com/companylist/40-2-2164.html\n",
        "0.48"
       ]
      },
      {
       "output_type": "stream",
       "stream": "stdout",
       "text": [
        " : http://www.fht360.com/companylist/167/3-3-1067.html\n",
        "0.53"
       ]
      },
      {
       "output_type": "stream",
       "stream": "stdout",
       "text": [
        " : http://www.fht360.com/companylist/164-2-230.html\n",
        "0.98"
       ]
      },
      {
       "output_type": "stream",
       "stream": "stdout",
       "text": [
        " : http://www.fht360.com/companylist/48-2-1100.html\n",
        "2.72"
       ]
      },
      {
       "output_type": "stream",
       "stream": "stdout",
       "text": [
        " : http://www.fht360.com/companylist/46/10260-2-39.html\n",
        "0.75"
       ]
      },
      {
       "output_type": "stream",
       "stream": "stdout",
       "text": [
        " : http://www.fht360.com/companylist/137-4-880.html\n",
        "0.44"
       ]
      },
      {
       "output_type": "stream",
       "stream": "stdout",
       "text": [
        " : http://www.fht360.com/productlist/283/17108-2-1857.html\n",
        "0.16"
       ]
      },
      {
       "output_type": "stream",
       "stream": "stdout",
       "text": [
        " : http://www.fht360.com/productlist/410-27.html\n",
        "0.29"
       ]
      },
      {
       "output_type": "stream",
       "stream": "stdout",
       "text": [
        " : http://www.fht360.com/productlist/413-6.html\n",
        "0.41"
       ]
      },
      {
       "output_type": "stream",
       "stream": "stdout",
       "text": [
        " : http://www.fht360.com/productlist/416-2.html\n",
        "0.31"
       ]
      },
      {
       "output_type": "stream",
       "stream": "stdout",
       "text": [
        " : http://www.fht360.com/productlist/313/11104-10.html\n",
        "0.43"
       ]
      },
      {
       "output_type": "stream",
       "stream": "stdout",
       "text": [
        " : http://www.fht360.com/productlist/248-3-860.html\n",
        "1.18"
       ]
      },
      {
       "output_type": "stream",
       "stream": "stdout",
       "text": [
        " : http://www.fht360.com/companylist/164-2-499.html\n",
        "0.33"
       ]
      },
      {
       "output_type": "stream",
       "stream": "stdout",
       "text": [
        " : http://www.fht360.com/productlist/329/7674-3.html\n",
        "0.51"
       ]
      },
      {
       "output_type": "stream",
       "stream": "stdout",
       "text": [
        " : http://www.fht360.com/productlist/228-1-2830.html\n",
        "0.77"
       ]
      },
      {
       "output_type": "stream",
       "stream": "stdout",
       "text": [
        " : http://www.fht360.com/companylist/48/3-13-1009.html\n",
        "0.37"
       ]
      },
      {
       "output_type": "stream",
       "stream": "stdout",
       "text": [
        " : http://www.fht360.com/productlist/231/16045-17.html\n",
        "0.30"
       ]
      },
      {
       "output_type": "stream",
       "stream": "stdout",
       "text": [
        " : http://www.fht360.com/productlist/231/16044-2.html\n",
        "3.61"
       ]
      },
      {
       "output_type": "stream",
       "stream": "stdout",
       "text": [
        " : http://www.fht360.com/productlist/246/13451-5.html\n",
        "1.37"
       ]
      },
      {
       "output_type": "stream",
       "stream": "stdout",
       "text": [
        " : http://www.fht360.com/companylist/123/10925-2.html\n",
        "0.45"
       ]
      },
      {
       "output_type": "stream",
       "stream": "stdout",
       "text": [
        " : http://www.fht360.com/productlist/246/13457-6.html\n",
        "0.78"
       ]
      },
      {
       "output_type": "stream",
       "stream": "stdout",
       "text": [
        " : http://www.fht360.com/companylist/165-5-2186.html\n",
        "0.60"
       ]
      },
      {
       "output_type": "stream",
       "stream": "stdout",
       "text": [
        " : http://www.fht360.com/companylist/165-2-2189.html\n",
        "0.57"
       ]
      },
      {
       "output_type": "stream",
       "stream": "stdout",
       "text": [
        " : http://www.fht360.com/companylist/89-2-1487.html\n",
        "1.78"
       ]
      },
      {
       "output_type": "stream",
       "stream": "stdout",
       "text": [
        " : http://www.fht360.com/companylist/155/10642-2.html\n",
        "0.96"
       ]
      },
      {
       "output_type": "stream",
       "stream": "stdout",
       "text": [
        " : http://www.fht360.com/companylist/66/10202-2.html\n",
        "0.64"
       ]
      },
      {
       "output_type": "stream",
       "stream": "stdout",
       "text": [
        " : http://www.fht360.com/companylist/162/3-2-1025.html\n",
        "0.36"
       ]
      },
      {
       "output_type": "stream",
       "stream": "stdout",
       "text": [
        " : http://www.fht360.com/productlist/341/12818-3.html\n",
        "0.28"
       ]
      },
      {
       "output_type": "stream",
       "stream": "stdout",
       "text": [
        " : http://www.fht360.com/productlist/359/12348-3.html\n",
        "0.24"
       ]
      },
      {
       "output_type": "stream",
       "stream": "stdout",
       "text": [
        " : http://www.fht360.com/productlist/359/12347-12.html\n",
        "0.37"
       ]
      },
      {
       "output_type": "stream",
       "stream": "stdout",
       "text": [
        " : http://www.fht360.com/productlist/359/12343-2.html\n",
        "0.56"
       ]
      },
      {
       "output_type": "stream",
       "stream": "stdout",
       "text": [
        " : http://www.fht360.com/productlist/316-3-1122.html\n",
        "0.33"
       ]
      },
      {
       "output_type": "stream",
       "stream": "stdout",
       "text": [
        " : http://www.fht360.com/productlist/248/11993-4.html\n",
        "0.26"
       ]
      },
      {
       "output_type": "stream",
       "stream": "stdout",
       "text": [
        " : http://www.fht360.com/productlist/274-3-1.html\n",
        "0.48"
       ]
      },
      {
       "output_type": "stream",
       "stream": "stdout",
       "text": [
        " : http://www.fht360.com/companylist/167/3-3-1500.html\n",
        "0.60"
       ]
      },
      {
       "output_type": "stream",
       "stream": "stdout",
       "text": [
        " : http://www.fht360.com/companylist/48-2-1668.html\n",
        "0.57"
       ]
      },
      {
       "output_type": "stream",
       "stream": "stdout",
       "text": [
        " : http://www.fht360.com/companylist/48-11-1662.html\n",
        "0.52"
       ]
      },
      {
       "output_type": "stream",
       "stream": "stdout",
       "text": [
        " : http://www.fht360.com/companylist/48-6-1663.html\n",
        "0.57"
       ]
      },
      {
       "output_type": "stream",
       "stream": "stdout",
       "text": [
        " : http://www.fht360.com/companylist/49-2-1010.html\n",
        "1.02"
       ]
      },
      {
       "output_type": "stream",
       "stream": "stdout",
       "text": [
        " : http://www.fht360.com/productlist/385/6-190-1487.html\n",
        "1.60"
       ]
      },
      {
       "output_type": "stream",
       "stream": "stdout",
       "text": [
        " : http://www.fht360.com/productlist/279-13-2137.html\n",
        "0.91"
       ]
      },
      {
       "output_type": "stream",
       "stream": "stdout",
       "text": [
        " : http://www.fht360.com/companylist/167/3-4-1.html\n",
        "1.43"
       ]
      },
      {
       "output_type": "stream",
       "stream": "stdout",
       "text": [
        " : http://www.fht360.com/productlist/261/298-2-880.html\n",
        "1.51"
       ]
      },
      {
       "output_type": "stream",
       "stream": "stdout",
       "text": [
        " : http://www.fht360.com/productlist/266/10320-12.html\n",
        "1.12"
       ]
      },
      {
       "output_type": "stream",
       "stream": "stdout",
       "text": [
        " : http://www.fht360.com/productlist/293/10425-2-39.html\n",
        "1.04"
       ]
      },
      {
       "output_type": "stream",
       "stream": "stdout",
       "text": [
        " : http://www.fht360.com/productlist/286/17348-2-2137.html\n",
        "1.76"
       ]
      },
      {
       "output_type": "stream",
       "stream": "stdout",
       "text": [
        " : http://www.fht360.com/productlist/343-2-1.html\n",
        "1.90"
       ]
      },
      {
       "output_type": "stream",
       "stream": "stdout",
       "text": [
        " : http://www.fht360.com/companylist/139/10055-2.html\n",
        "1.26"
       ]
      },
      {
       "output_type": "stream",
       "stream": "stdout",
       "text": [
        " : http://www.fht360.com/companylist/139/10051-2.html\n",
        "1.29"
       ]
      },
      {
       "output_type": "stream",
       "stream": "stdout",
       "text": [
        " : http://www.fht360.com/companylist/139/10053-2.html\n",
        "2.16"
       ]
      },
      {
       "output_type": "stream",
       "stream": "stdout",
       "text": [
        " : http://www.fht360.com/productlist/254/258-3-1487.html\n",
        "1.23"
       ]
      },
      {
       "output_type": "stream",
       "stream": "stdout",
       "text": [
        " : http://www.fht360.com/productlist/235/18456-7.html\n",
        "1.07"
       ]
      },
      {
       "output_type": "stream",
       "stream": "stdout",
       "text": [
        " : http://www.fht360.com/productlist/250/15-9-1662.html\n",
        "0.57"
       ]
      },
      {
       "output_type": "stream",
       "stream": "stdout",
       "text": [
        " : http://www.fht360.com/companylist/165/3-2-1987.html\n",
        "0.52"
       ]
      },
      {
       "output_type": "stream",
       "stream": "stdout",
       "text": [
        " : http://www.fht360.com/productlist/235-4-1857.html\n",
        "1.67"
       ]
      },
      {
       "output_type": "stream",
       "stream": "stdout",
       "text": [
        " : http://www.fht360.com/productlist/283-27-1487.html\n",
        "0.92"
       ]
      },
      {
       "output_type": "stream",
       "stream": "stdout",
       "text": [
        " : http://www.fht360.com/productlist/338-5.html\n",
        "0.97"
       ]
      },
      {
       "output_type": "stream",
       "stream": "stdout",
       "text": [
        " : http://www.fht360.com/productlist/248/707-3-1487.html\n",
        "1.16"
       ]
      },
      {
       "output_type": "stream",
       "stream": "stdout",
       "text": [
        " : http://www.fht360.com/productlist/259-7.html\n",
        "1.20"
       ]
      },
      {
       "output_type": "stream",
       "stream": "stdout",
       "text": [
        " : http://www.fht360.com/productlist/257-2.html\n",
        "1.08"
       ]
      },
      {
       "output_type": "stream",
       "stream": "stdout",
       "text": [
        " : http://www.fht360.com/productlist/256-3.html\n",
        "1.12"
       ]
      },
      {
       "output_type": "stream",
       "stream": "stdout",
       "text": [
        " : http://www.fht360.com/productlist/255-14.html\n",
        "0.52"
       ]
      },
      {
       "output_type": "stream",
       "stream": "stdout",
       "text": [
        " : http://www.fht360.com/productlist/254-41.html\n",
        "1.00"
       ]
      },
      {
       "output_type": "stream",
       "stream": "stdout",
       "text": [
        " : http://www.fht360.com/productlist/253-18.html\n",
        "1.10"
       ]
      },
      {
       "output_type": "stream",
       "stream": "stdout",
       "text": [
        " : http://www.fht360.com/productlist/252-16.html\n",
        "1.38"
       ]
      },
      {
       "output_type": "stream",
       "stream": "stdout",
       "text": [
        " : http://www.fht360.com/productlist/251-57.html\n",
        "1.69"
       ]
      },
      {
       "output_type": "stream",
       "stream": "stdout",
       "text": [
        " : http://www.fht360.com/companylist/165-2-873.html\n",
        "3.70"
       ]
      },
      {
       "output_type": "stream",
       "stream": "stdout",
       "text": [
        " : http://www.fht360.com/productlist/330-6.html\n",
        "2.22"
       ]
      },
      {
       "output_type": "stream",
       "stream": "stdout",
       "text": [
        " : http://www.fht360.com/productlist/386-2-2137.html\n",
        "0.95"
       ]
      },
      {
       "output_type": "stream",
       "stream": "stdout",
       "text": [
        " : http://www.fht360.com/productlist/227-5-1.html\n",
        "0.98"
       ]
      },
      {
       "output_type": "stream",
       "stream": "stdout",
       "text": [
        " : http://www.fht360.com/productlist/237/193-5-880.html\n",
        "0.74"
       ]
      },
      {
       "output_type": "stream",
       "stream": "stdout",
       "text": [
        " : http://www.fht360.com/productlist/287/10419-3.html\n",
        "0.73"
       ]
      },
      {
       "output_type": "stream",
       "stream": "stdout",
       "text": [
        " : http://www.fht360.com/productlist/313/17403-2.html\n",
        "4.30"
       ]
      },
      {
       "output_type": "stream",
       "stream": "stdout",
       "text": [
        " : http://www.fht360.com/productlist/246/12347-12.html\n",
        "4.36"
       ]
      },
      {
       "output_type": "stream",
       "stream": "stdout",
       "text": [
        " : http://www.fht360.com/productlist/246/12343-2.html\n",
        "2.75"
       ]
      },
      {
       "output_type": "stream",
       "stream": "stdout",
       "text": [
        " : http://www.fht360.com/companylist/112/10316-2.html\n",
        "1.40"
       ]
      },
      {
       "output_type": "stream",
       "stream": "stdout",
       "text": [
        " : http://www.fht360.com/productlist/233/16649-2-39.html\n",
        "0.77"
       ]
      },
      {
       "output_type": "stream",
       "stream": "stdout",
       "text": [
        " : http://www.fht360.com/companylist/49/10650-2.html\n",
        "1.32"
       ]
      },
      {
       "output_type": "stream",
       "stream": "stdout",
       "text": [
        " : http://www.fht360.com/companylist/164/3-10-2138.html\n",
        "1.02"
       ]
      },
      {
       "output_type": "stream",
       "stream": "stdout",
       "text": [
        " : http://www.fht360.com/productlist/227/10511-8-880.html\n",
        "0.58"
       ]
      },
      {
       "output_type": "stream",
       "stream": "stdout",
       "text": [
        " : http://www.fht360.com/companylist/164/3-45-2137.html\n",
        "0.62"
       ]
      },
      {
       "output_type": "stream",
       "stream": "stdout",
       "text": [
        " : http://www.fht360.com/companylist/167-3-1122.html\n",
        "0.35"
       ]
      },
      {
       "output_type": "stream",
       "stream": "stdout",
       "text": [
        " : http://www.fht360.com/productlist/270-2-39.html\n",
        "0.50"
       ]
      },
      {
       "output_type": "stream",
       "stream": "stdout",
       "text": [
        " : http://www.fht360.com/productlist/361/13198-2-2137.html\n",
        "0.60"
       ]
      },
      {
       "output_type": "stream",
       "stream": "stdout",
       "text": [
        " : http://www.fht360.com/productlist/228-7-1662.html\n",
        "0.66"
       ]
      },
      {
       "output_type": "stream",
       "stream": "stdout",
       "text": [
        " : http://www.fht360.com/productlist/348/10774-5-2137.html\n",
        "0.41"
       ]
      },
      {
       "output_type": "stream",
       "stream": "stdout",
       "text": [
        " : http://www.fht360.com/productlist/424/12187-6.html\n",
        "0.93"
       ]
      },
      {
       "output_type": "stream",
       "stream": "stdout",
       "text": [
        " : http://www.fht360.com/productlist/231-2-706.html\n",
        "0.93"
       ]
      },
      {
       "output_type": "stream",
       "stream": "stdout",
       "text": [
        " : http://www.fht360.com/companylist/142/10138-3.html\n",
        "0.44"
       ]
      },
      {
       "output_type": "stream",
       "stream": "stdout",
       "text": [
        " : http://www.fht360.com/productlist/226/11514-4.html\n",
        "0.45"
       ]
      },
      {
       "output_type": "stream",
       "stream": "stdout",
       "text": [
        " : http://www.fht360.com/productlist/373/14194-2.html\n",
        "0.64"
       ]
      },
      {
       "output_type": "stream",
       "stream": "stdout",
       "text": [
        " : http://www.fht360.com/productlist/354/12426-3-2137.html\n",
        "1.03"
       ]
      },
      {
       "output_type": "stream",
       "stream": "stdout",
       "text": [
        " : http://www.fht360.com/productlist/227-23-1009.html\n",
        "1.00"
       ]
      },
      {
       "output_type": "stream",
       "stream": "stdout",
       "text": [
        " : http://www.fht360.com/productlist/426/14862-2-39.html\n",
        "0.51"
       ]
      },
      {
       "output_type": "stream",
       "stream": "stdout",
       "text": [
        " : http://www.fht360.com/companylist/164-2-2190.html\n",
        "2.03"
       ]
      },
      {
       "output_type": "stream",
       "stream": "stdout",
       "text": [
        " : http://www.fht360.com/productlist/334/12438-2.html\n",
        "0.39"
       ]
      },
      {
       "output_type": "stream",
       "stream": "stdout",
       "text": [
        " : http://www.fht360.com/productlist/401/19067-5.html\n",
        "3.88"
       ]
      },
      {
       "output_type": "stream",
       "stream": "stdout",
       "text": [
        " : http://www.fht360.com/productlist/351-8-1487.html\n",
        "1.16"
       ]
      },
      {
       "output_type": "stream",
       "stream": "stdout",
       "text": [
        " : http://www.fht360.com/productlist/266-4-1662.html\n",
        "0.79"
       ]
      },
      {
       "output_type": "stream",
       "stream": "stdout",
       "text": [
        " : http://www.fht360.com/companylist/167/3-166.html\n",
        "0.78"
       ]
      },
      {
       "output_type": "stream",
       "stream": "stdout",
       "text": [
        " : http://www.fht360.com/productlist/332/2130-2.html\n",
        "0.96"
       ]
      },
      {
       "output_type": "stream",
       "stream": "stdout",
       "text": [
        " : http://www.fht360.com/companylist/164/3-3-20.html\n",
        "0.84"
       ]
      },
      {
       "output_type": "stream",
       "stream": "stdout",
       "text": [
        " : http://www.fht360.com/productlist/412-3-2137.html\n",
        "1.06"
       ]
      },
      {
       "output_type": "stream",
       "stream": "stdout",
       "text": [
        " : http://www.fht360.com/companylist/210/4-2-1662.html\n",
        "0.40"
       ]
      },
      {
       "output_type": "stream",
       "stream": "stdout",
       "text": [
        " : http://www.fht360.com/productlist/231/15786-8.html\n",
        "0.50"
       ]
      },
      {
       "output_type": "stream",
       "stream": "stdout",
       "text": [
        " : http://www.fht360.com/productlist/263/309-4-1487.html\n",
        "0.49"
       ]
      },
      {
       "output_type": "stream",
       "stream": "stdout",
       "text": [
        " : http://www.fht360.com/productlist/426-2-1987.html\n",
        "0.28"
       ]
      },
      {
       "output_type": "stream",
       "stream": "stdout",
       "text": [
        " : http://www.fht360.com/productlist/301/11722-4.html\n",
        "0.42"
       ]
      },
      {
       "output_type": "stream",
       "stream": "stdout",
       "text": [
        " : http://www.fht360.com/productlist/444/17715-2-2137.html\n",
        "0.51"
       ]
      },
      {
       "output_type": "stream",
       "stream": "stdout",
       "text": [
        " : http://www.fht360.com/productlist/311/12300-4.html\n",
        "1.26"
       ]
      },
      {
       "output_type": "stream",
       "stream": "stdout",
       "text": [
        " : http://www.fht360.com/productlist/340/1962-4-860.html\n",
        "1.21"
       ]
      },
      {
       "output_type": "stream",
       "stream": "stdout",
       "text": [
        " : http://www.fht360.com/companylist/48-3-2508.html\n",
        "0.62"
       ]
      },
      {
       "output_type": "stream",
       "stream": "stdout",
       "text": [
        " : http://www.fht360.com/companylist/48-2-2509.html\n",
        "0.39"
       ]
      },
      {
       "output_type": "stream",
       "stream": "stdout",
       "text": [
        " : http://www.fht360.com/productlist/264/392-2.html\n",
        "1.26"
       ]
      },
      {
       "output_type": "stream",
       "stream": "stdout",
       "text": [
        " : http://www.fht360.com/companylist/165-16-39.html\n",
        "1.10"
       ]
      },
      {
       "output_type": "stream",
       "stream": "stdout",
       "text": [
        " : http://www.fht360.com/productlist/286/12753-3.html\n",
        "0.81"
       ]
      },
      {
       "output_type": "stream",
       "stream": "stdout",
       "text": [
        " : http://www.fht360.com/companylist/165-2-223.html\n",
        "0.91"
       ]
      },
      {
       "output_type": "stream",
       "stream": "stdout",
       "text": [
        " : http://www.fht360.com/companylist/165-6-221.html\n",
        "0.47"
       ]
      },
      {
       "output_type": "stream",
       "stream": "stdout",
       "text": [
        " : http://www.fht360.com/companylist/165-3-228.html\n",
        "0.85"
       ]
      },
      {
       "output_type": "stream",
       "stream": "stdout",
       "text": [
        " : http://www.fht360.com/companylist/165/3-15-2278.html\n",
        "0.48"
       ]
      },
      {
       "output_type": "stream",
       "stream": "stdout",
       "text": [
        " : http://www.fht360.com/companylist/165/3-2-2279.html\n",
        "1.14"
       ]
      },
      {
       "output_type": "stream",
       "stream": "stdout",
       "text": [
        " : http://www.fht360.com/productlist/324/12421-3-39.html\n",
        "1.39"
       ]
      },
      {
       "output_type": "stream",
       "stream": "stdout",
       "text": [
        " : http://www.fht360.com/productlist/250/17-2-880.html\n",
        "0.19"
       ]
      },
      {
       "output_type": "stream",
       "stream": "stdout",
       "text": [
        " : http://www.fht360.com/productlist/248/707-2-39.html\n",
        "1.57"
       ]
      },
      {
       "output_type": "stream",
       "stream": "stdout",
       "text": [
        " : http://www.fht360.com/productlist/385/6-7-860.html\n",
        "1.11"
       ]
      },
      {
       "output_type": "stream",
       "stream": "stdout",
       "text": [
        " : http://www.fht360.com/productlist/283/17287-2-1009.html\n",
        "1.13"
       ]
      },
      {
       "output_type": "stream",
       "stream": "stdout",
       "text": [
        " : http://www.fht360.com/companylist/162/3-2-1581.html\n",
        "1.14"
       ]
      },
      {
       "output_type": "stream",
       "stream": "stdout",
       "text": [
        " : http://www.fht360.com/companylist/162-2-111.html\n",
        "1.04"
       ]
      },
      {
       "output_type": "stream",
       "stream": "stdout",
       "text": [
        " : http://www.fht360.com/productlist/244-1-499.html\n",
        "1.64"
       ]
      },
      {
       "output_type": "stream",
       "stream": "stdout",
       "text": [
        " : http://www.fht360.com/productlist/359/12352-2-2137.html\n",
        "0.27"
       ]
      },
      {
       "output_type": "stream",
       "stream": "stdout",
       "text": [
        " : http://www.fht360.com/productlist/228/8152-3-880.html\n",
        "0.54"
       ]
      },
      {
       "output_type": "stream",
       "stream": "stdout",
       "text": [
        " : http://www.fht360.com/productlist/280-11-1487.html\n",
        "5.27"
       ]
      },
      {
       "output_type": "stream",
       "stream": "stdout",
       "text": [
        " : http://www.fht360.com/productlist/270/2132-2-1487.html\n",
        "0.60"
       ]
      },
      {
       "output_type": "stream",
       "stream": "stdout",
       "text": [
        " : http://www.fht360.com/productlist/331/10003-8-1487.html\n",
        "0.37"
       ]
      },
      {
       "output_type": "stream",
       "stream": "stdout",
       "text": [
        " : http://www.fht360.com/productlist/238/1005-2.html\n",
        "0.70"
       ]
      },
      {
       "output_type": "stream",
       "stream": "stdout",
       "text": [
        " : http://www.fht360.com/productlist/258-2-2137.html\n",
        "0.26"
       ]
      },
      {
       "output_type": "stream",
       "stream": "stdout",
       "text": [
        " : http://www.fht360.com/productlist/344/1171-2.html\n",
        "0.36"
       ]
      },
      {
       "output_type": "stream",
       "stream": "stdout",
       "text": [
        " : http://www.fht360.com/productlist/358/4725-3.html\n",
        "0.55"
       ]
      },
      {
       "output_type": "stream",
       "stream": "stdout",
       "text": [
        " : http://www.fht360.com/productlist/284-2-880.html\n",
        "0.27"
       ]
      },
      {
       "output_type": "stream",
       "stream": "stdout",
       "text": [
        " : http://www.fht360.com/productlist/279/18808-8.html\n",
        "0.26"
       ]
      },
      {
       "output_type": "stream",
       "stream": "stdout",
       "text": [
        " : http://www.fht360.com/productlist/326/10814-6.html\n",
        "0.71"
       ]
      },
      {
       "output_type": "stream",
       "stream": "stdout",
       "text": [
        " : http://www.fht360.com/companylist/193-2-2164.html\n",
        "0.44"
       ]
      },
      {
       "output_type": "stream",
       "stream": "stdout",
       "text": [
        " : http://www.fht360.com/productlist/233/258-3-1487.html\n",
        "1.22"
       ]
      },
      {
       "output_type": "stream",
       "stream": "stdout",
       "text": [
        " : http://www.fht360.com/productlist/324/71-3-2137.html\n",
        "0.55"
       ]
      },
      {
       "output_type": "stream",
       "stream": "stdout",
       "text": [
        " : http://www.fht360.com/productlist/248/12007-3-1662.html\n",
        "0.43"
       ]
      },
      {
       "output_type": "stream",
       "stream": "stdout",
       "text": [
        " : http://www.fht360.com/productlist/226/7250-4-1122.html\n",
        "0.53"
       ]
      },
      {
       "output_type": "stream",
       "stream": "stdout",
       "text": [
        " : http://www.fht360.com/productlist/239/390-4-1662.html\n",
        "1.52"
       ]
      },
      {
       "output_type": "stream",
       "stream": "stdout",
       "text": [
        " : http://www.fht360.com/productlist/301/265-2-880.html\n",
        "0.88"
       ]
      },
      {
       "output_type": "stream",
       "stream": "stdout",
       "text": [
        " : http://www.fht360.com/productlist/227/10511-2-1987.html\n",
        "0.57"
       ]
      },
      {
       "output_type": "stream",
       "stream": "stdout",
       "text": [
        " : http://www.fht360.com/productlist/276/15161-2-880.html\n",
        "0.83"
       ]
      },
      {
       "output_type": "stream",
       "stream": "stdout",
       "text": [
        " : http://www.fht360.com/productlist/227-2-20.html\n",
        "1.16"
       ]
      },
      {
       "output_type": "stream",
       "stream": "stdout",
       "text": [
        " : http://www.fht360.com/productlist/237/227-2.html\n",
        "0.58"
       ]
      },
      {
       "output_type": "stream",
       "stream": "stdout",
       "text": [
        " : http://www.fht360.com/companylist/105/10616-2.html\n",
        "0.28"
       ]
      },
      {
       "output_type": "stream",
       "stream": "stdout",
       "text": [
        " : http://www.fht360.com/productlist/237/225-2.html\n",
        "0.43"
       ]
      },
      {
       "output_type": "stream",
       "stream": "stdout",
       "text": [
        " : http://www.fht360.com/productlist/241/346-2-880.html\n",
        "0.45"
       ]
      },
      {
       "output_type": "stream",
       "stream": "stdout",
       "text": [
        " : http://www.fht360.com/productlist/352/13810-2-39.html\n",
        "0.47"
       ]
      },
      {
       "output_type": "stream",
       "stream": "stdout",
       "text": [
        " : http://www.fht360.com/productlist/231/16045-2-2137.html\n",
        "0.92"
       ]
      },
      {
       "output_type": "stream",
       "stream": "stdout",
       "text": [
        " : http://www.fht360.com/productlist/385-25-1662.html\n",
        "0.50"
       ]
      },
      {
       "output_type": "stream",
       "stream": "stdout",
       "text": [
        " : http://www.fht360.com/productlist/276-8-2137.html\n",
        "0.61"
       ]
      },
      {
       "output_type": "stream",
       "stream": "stdout",
       "text": [
        " : http://www.fht360.com/productlist/259-4-1487.html\n",
        "0.68"
       ]
      },
      {
       "output_type": "stream",
       "stream": "stdout",
       "text": [
        " : http://www.fht360.com/productlist/250/1216-2-1662.html\n",
        "0.76"
       ]
      },
      {
       "output_type": "stream",
       "stream": "stdout",
       "text": [
        " : http://www.fht360.com/productlist/424/14728-3.html\n",
        "0.59"
       ]
      },
      {
       "output_type": "stream",
       "stream": "stdout",
       "text": [
        " : http://www.fht360.com/productlist/328/12465-10.html\n",
        "0.79"
       ]
      },
      {
       "output_type": "stream",
       "stream": "stdout",
       "text": [
        " : http://www.fht360.com/companylist/164/3-2-1514.html\n",
        "0.98"
       ]
      },
      {
       "output_type": "stream",
       "stream": "stdout",
       "text": [
        " : http://www.fht360.com/productlist/426/14885-2.html\n",
        "1.18"
       ]
      },
      {
       "output_type": "stream",
       "stream": "stdout",
       "text": [
        " : http://www.fht360.com/productlist/241/466-2-1487.html\n",
        "1.90"
       ]
      },
      {
       "output_type": "stream",
       "stream": "stdout",
       "text": [
        " : http://www.fht360.com/companylist/136/10072-2.html\n",
        "1.38"
       ]
      },
      {
       "output_type": "stream",
       "stream": "stdout",
       "text": [
        " : http://www.fht360.com/productlist/237-14-880.html\n",
        "1.18"
       ]
      },
      {
       "output_type": "stream",
       "stream": "stdout",
       "text": [
        " : http://www.fht360.com/companylist/162/3-2-1514.html\n",
        "1.17"
       ]
      },
      {
       "output_type": "stream",
       "stream": "stdout",
       "text": [
        " : http://www.fht360.com/companylist/162/3-166.html\n",
        "0.46"
       ]
      },
      {
       "output_type": "stream",
       "stream": "stdout",
       "text": [
        " : http://www.fht360.com/companylist/50/10814-2.html\n",
        "0.57"
       ]
      },
      {
       "output_type": "stream",
       "stream": "stdout",
       "text": [
        " : http://www.fht360.com/companylist/50/10810-2.html\n",
        "0.89"
       ]
      },
      {
       "output_type": "stream",
       "stream": "stdout",
       "text": [
        " : http://www.fht360.com/productlist/233/15982-4-2137.html\n",
        "0.71"
       ]
      },
      {
       "output_type": "stream",
       "stream": "stdout",
       "text": [
        " : http://www.fht360.com/productlist/228/8205-2-1662.html\n",
        "0.85"
       ]
      },
      {
       "output_type": "stream",
       "stream": "stdout",
       "text": [
        " : http://www.fht360.com/productlist/374/14131-2-2137.html\n",
        "1.10"
       ]
      },
      {
       "output_type": "stream",
       "stream": "stdout",
       "text": [
        " : http://www.fht360.com/productlist/369-4-2137.html\n",
        "0.48"
       ]
      },
      {
       "output_type": "stream",
       "stream": "stdout",
       "text": [
        " : http://www.fht360.com/companylist/52/10139-2.html\n",
        "0.50"
       ]
      },
      {
       "output_type": "stream",
       "stream": "stdout",
       "text": [
        " : http://www.fht360.com/productlist/395/14724-11.html\n",
        "0.58"
       ]
      },
      {
       "output_type": "stream",
       "stream": "stdout",
       "text": [
        " : http://www.fht360.com/productlist/283/94-4-39.html\n",
        "0.65"
       ]
      },
      {
       "output_type": "stream",
       "stream": "stdout",
       "text": [
        " : http://www.fht360.com/productlist/234/15649-3-880.html\n",
        "0.46"
       ]
      },
      {
       "output_type": "stream",
       "stream": "stdout",
       "text": [
        " : http://www.fht360.com/companylist/93-2-2164.html\n",
        "0.72"
       ]
      },
      {
       "output_type": "stream",
       "stream": "stdout",
       "text": [
        " : http://www.fht360.com/productlist/249-70.html\n",
        "1.01"
       ]
      },
      {
       "output_type": "stream",
       "stream": "stdout",
       "text": [
        " : http://www.fht360.com/productlist/241/346-4-1122.html\n",
        "0.62"
       ]
      },
      {
       "output_type": "stream",
       "stream": "stdout",
       "text": [
        " : http://www.fht360.com/productlist/437/13974-2-2137.html\n",
        "0.26"
       ]
      },
      {
       "output_type": "stream",
       "stream": "stdout",
       "text": [
        " : http://www.fht360.com/productlist/362/13711-6.html\n",
        "0.64"
       ]
      },
      {
       "output_type": "stream",
       "stream": "stdout",
       "text": [
        " : http://www.fht360.com/productlist/264-9-1662.html\n",
        "0.45"
       ]
      },
      {
       "output_type": "stream",
       "stream": "stdout",
       "text": [
        " : http://www.fht360.com/companylist/43-2-1619.html\n",
        "0.29"
       ]
      },
      {
       "output_type": "stream",
       "stream": "stdout",
       "text": [
        " : http://www.fht360.com/productlist/277/89-11-880.html\n",
        "0.57"
       ]
      },
      {
       "output_type": "stream",
       "stream": "stdout",
       "text": [
        " : http://www.fht360.com/productlist/328-3-1009.html\n",
        "0.52"
       ]
      },
      {
       "output_type": "stream",
       "stream": "stdout",
       "text": [
        " : http://www.fht360.com/companylist/37-3-991.html\n",
        "0.47"
       ]
      },
      {
       "output_type": "stream",
       "stream": "stdout",
       "text": [
        " : http://www.fht360.com/companylist/165-3-1010.html\n",
        "1.35"
       ]
      },
      {
       "output_type": "stream",
       "stream": "stdout",
       "text": [
        " : http://www.fht360.com/productlist/433-4-860.html\n",
        "0.30"
       ]
      },
      {
       "output_type": "stream",
       "stream": "stdout",
       "text": [
        " : http://www.fht360.com/productlist/446/18891-2.html\n",
        "0.35"
       ]
      },
      {
       "output_type": "stream",
       "stream": "stdout",
       "text": [
        " : http://www.fht360.com/productlist/402/9419-4-1487.html\n",
        "0.45"
       ]
      },
      {
       "output_type": "stream",
       "stream": "stdout",
       "text": [
        " : http://www.fht360.com/productlist/331/10003-2-1662.html\n",
        "0.51"
       ]
      },
      {
       "output_type": "stream",
       "stream": "stdout",
       "text": [
        " : http://www.fht360.com/companylist/73-2-2137.html\n",
        "0.77"
       ]
      },
      {
       "output_type": "stream",
       "stream": "stdout",
       "text": [
        " : http://www.fht360.com/productlist/248/733-39.html\n",
        "1.18"
       ]
      },
      {
       "output_type": "stream",
       "stream": "stdout",
       "text": [
        " : http://www.fht360.com/productlist/241/457-3.html\n",
        "0.87"
       ]
      },
      {
       "output_type": "stream",
       "stream": "stdout",
       "text": [
        " : http://www.fht360.com/productlist/233/15916-2-20.html\n",
        "0.55"
       ]
      },
      {
       "output_type": "stream",
       "stream": "stdout",
       "text": [
        " : http://www.fht360.com/companylist/162-6-2169.html\n",
        "1.03"
       ]
      },
      {
       "output_type": "stream",
       "stream": "stdout",
       "text": [
        " : http://www.fht360.com/companylist/162-12-2164.html\n",
        "0.59"
       ]
      },
      {
       "output_type": "stream",
       "stream": "stdout",
       "text": [
        " : http://www.fht360.com/productlist/437/13974-4.html\n",
        "0.55"
       ]
      },
      {
       "output_type": "stream",
       "stream": "stdout",
       "text": [
        " : http://www.fht360.com/companylist/213-3.html\n",
        "0.58"
       ]
      },
      {
       "output_type": "stream",
       "stream": "stdout",
       "text": [
        " : http://www.fht360.com/productlist/324/12421-3-20.html\n",
        "0.13"
       ]
      },
      {
       "output_type": "stream",
       "stream": "stdout",
       "text": [
        " : http://www.fht360.com/productlist/332-9.html\n",
        "0.14"
       ]
      },
      {
       "output_type": "stream",
       "stream": "stdout",
       "text": [
        " : http://www.fht360.com/productlist/333-25.html\n",
        "0.58"
       ]
      },
      {
       "output_type": "stream",
       "stream": "stdout",
       "text": [
        " : http://www.fht360.com/productlist/246/14710-3-2137.html\n",
        "0.09"
       ]
      },
      {
       "output_type": "stream",
       "stream": "stdout",
       "text": [
        " : http://www.fht360.com/productlist/261/298-3.html\n",
        "0.07"
       ]
      },
      {
       "output_type": "stream",
       "stream": "stdout",
       "text": [
        " : http://www.fht360.com/productlist/261/291-3.html\n",
        "0.23"
       ]
      },
      {
       "output_type": "stream",
       "stream": "stdout",
       "text": [
        " : http://www.fht360.com/productlist/261/297-2.html\n",
        "0.42"
       ]
      },
      {
       "output_type": "stream",
       "stream": "stdout",
       "text": [
        " : http://www.fht360.com/productlist/427/12292-2-880.html\n",
        "1.31"
       ]
      },
      {
       "output_type": "stream",
       "stream": "stdout",
       "text": [
        " : http://www.fht360.com/productlist/301/8043-2.html\n",
        "0.47"
       ]
      },
      {
       "output_type": "stream",
       "stream": "stdout",
       "text": [
        " : http://www.fht360.com/companylist/167-3-2144.html\n",
        "0.49"
       ]
      },
      {
       "output_type": "stream",
       "stream": "stdout",
       "text": [
        " : http://www.fht360.com/companylist/167-2-2147.html\n",
        "5.73"
       ]
      },
      {
       "output_type": "stream",
       "stream": "stdout",
       "text": [
        " : http://www.fht360.com/companylist/167-2-2143.html\n",
        "1.56"
       ]
      },
      {
       "output_type": "stream",
       "stream": "stdout",
       "text": [
        " : http://www.fht360.com/productlist/411-3-880.html\n",
        "0.68"
       ]
      },
      {
       "output_type": "stream",
       "stream": "stdout",
       "text": [
        " : http://www.fht360.com/productlist/340-3-880.html\n",
        "0.47"
       ]
      },
      {
       "output_type": "stream",
       "stream": "stdout",
       "text": [
        " : http://www.fht360.com/productlist/247-4-1662.html\n",
        "0.61"
       ]
      },
      {
       "output_type": "stream",
       "stream": "stdout",
       "text": [
        " : http://www.fht360.com/productlist/231/159-3-39.html\n",
        "0.48"
       ]
      },
      {
       "output_type": "stream",
       "stream": "stdout",
       "text": [
        " : http://www.fht360.com/companylist/167/3-2-1581.html\n",
        "0.32"
       ]
      },
      {
       "output_type": "stream",
       "stream": "stdout",
       "text": [
        " : http://www.fht360.com/productlist/352/13974-4.html\n",
        "0.38"
       ]
      },
      {
       "output_type": "stream",
       "stream": "stdout",
       "text": [
        " : http://www.fht360.com/productlist/227/17354-2-1009.html\n",
        "0.48"
       ]
      },
      {
       "output_type": "stream",
       "stream": "stdout",
       "text": [
        " : http://www.fht360.com/productlist/253/16956-4-2137.html\n",
        "0.32"
       ]
      },
      {
       "output_type": "stream",
       "stream": "stdout",
       "text": [
        " : http://www.fht360.com/productlist/324/7979-2.html\n",
        "0.99"
       ]
      },
      {
       "output_type": "stream",
       "stream": "stdout",
       "text": [
        " : http://www.fht360.com/productlist/387/56-2-880.html\n",
        "0.56"
       ]
      },
      {
       "output_type": "stream",
       "stream": "stdout",
       "text": [
        " : http://www.fht360.com/productlist/240-1-1.html\n",
        "0.52"
       ]
      },
      {
       "output_type": "stream",
       "stream": "stdout",
       "text": [
        " : http://www.fht360.com/productlist/424/9475-3-1487.html\n",
        "0.49"
       ]
      },
      {
       "output_type": "stream",
       "stream": "stdout",
       "text": [
        " : http://www.fht360.com/productlist/273-2-39.html\n",
        "0.63"
       ]
      },
      {
       "output_type": "stream",
       "stream": "stdout",
       "text": [
        " : http://www.fht360.com/productlist/234/10320-4-1009.html\n",
        "0.71"
       ]
      },
      {
       "output_type": "stream",
       "stream": "stdout",
       "text": [
        " : http://www.fht360.com/productlist/301/8051-2-880.html\n",
        "0.42"
       ]
      },
      {
       "output_type": "stream",
       "stream": "stdout",
       "text": [
        " : http://www.fht360.com/companylist/189/10465-2-2137.html\n",
        "0.24"
       ]
      },
      {
       "output_type": "stream",
       "stream": "stdout",
       "text": [
        " : http://www.fht360.com/productlist/279/18772-2.html\n",
        "0.50"
       ]
      },
      {
       "output_type": "stream",
       "stream": "stdout",
       "text": [
        " : http://www.fht360.com/productlist/432/14826-5-2137.html\n",
        "0.30"
       ]
      },
      {
       "output_type": "stream",
       "stream": "stdout",
       "text": [
        " : http://www.fht360.com/productlist/276/16322-2.html\n",
        "0.74"
       ]
      },
      {
       "output_type": "stream",
       "stream": "stdout",
       "text": [
        " : http://www.fht360.com/companylist/63/7-2-1487.html\n",
        "0.42"
       ]
      },
      {
       "output_type": "stream",
       "stream": "stdout",
       "text": [
        " : http://www.fht360.com/productlist/236/17628-3.html\n",
        "0.28"
       ]
      },
      {
       "output_type": "stream",
       "stream": "stdout",
       "text": [
        " : http://www.fht360.com/productlist/433/14261-4.html\n",
        "0.35"
       ]
      },
      {
       "output_type": "stream",
       "stream": "stdout",
       "text": [
        " : http://www.fht360.com/productlist/283/187-2-1487.html\n",
        "0.36"
       ]
      },
      {
       "output_type": "stream",
       "stream": "stdout",
       "text": [
        " : http://www.fht360.com/productlist/415/91-2-880.html\n",
        "0.60"
       ]
      },
      {
       "output_type": "stream",
       "stream": "stdout",
       "text": [
        " : http://www.fht360.com/productlist/226/11177-2-1487.html\n",
        "0.70"
       ]
      },
      {
       "output_type": "stream",
       "stream": "stdout",
       "text": [
        " : http://www.fht360.com/productlist/362/13711-3-2137.html\n",
        "0.49"
       ]
      },
      {
       "output_type": "stream",
       "stream": "stdout",
       "text": [
        " : http://www.fht360.com/productlist/429/11342-2-1662.html\n",
        "0.37"
       ]
      },
      {
       "output_type": "stream",
       "stream": "stdout",
       "text": [
        " : http://www.fht360.com/productlist/239/12094-2-39.html\n",
        "0.64"
       ]
      },
      {
       "output_type": "stream",
       "stream": "stdout",
       "text": [
        " : http://www.fht360.com/companylist/242/10539-2-2137.html\n",
        "0.45"
       ]
      },
      {
       "output_type": "stream",
       "stream": "stdout",
       "text": [
        " : http://www.fht360.com/productlist/302-4-1487.html\n",
        "1.10"
       ]
      },
      {
       "output_type": "stream",
       "stream": "stdout",
       "text": [
        " : http://www.fht360.com/productlist/326/10814-3-880.html\n",
        "0.46"
       ]
      },
      {
       "output_type": "stream",
       "stream": "stdout",
       "text": [
        " : http://www.fht360.com/productlist/327-2-2137.html\n",
        "0.49"
       ]
      },
      {
       "output_type": "stream",
       "stream": "stdout",
       "text": [
        " : http://www.fht360.com/companylist/165/3-22-880.html\n",
        "0.38"
       ]
      },
      {
       "output_type": "stream",
       "stream": "stdout",
       "text": [
        " : http://www.fht360.com/productlist/337/12309-9-2137.html\n",
        "0.40"
       ]
      },
      {
       "output_type": "stream",
       "stream": "stdout",
       "text": [
        " : http://www.fht360.com/productlist/239/12094-2-2137.html\n",
        "0.54"
       ]
      },
      {
       "output_type": "stream",
       "stream": "stdout",
       "text": [
        " : http://www.fht360.com/productlist/233/260-2.html\n",
        "0.44"
       ]
      },
      {
       "output_type": "stream",
       "stream": "stdout",
       "text": [
        " : http://www.fht360.com/productlist/233/15982-2-1009.html\n",
        "0.37"
       ]
      },
      {
       "output_type": "stream",
       "stream": "stdout",
       "text": [
        " : http://www.fht360.com/productlist/442/14669-2-2137.html\n",
        "0.50"
       ]
      },
      {
       "output_type": "stream",
       "stream": "stdout",
       "text": [
        " : http://www.fht360.com/productlist/262/15642-2-1009.html\n",
        "0.47"
       ]
      },
      {
       "output_type": "stream",
       "stream": "stdout",
       "text": [
        " : http://www.fht360.com/companylist/162-2-1570.html\n",
        "0.30"
       ]
      },
      {
       "output_type": "stream",
       "stream": "stdout",
       "text": [
        " : http://www.fht360.com/productlist/446/18914-2.html\n",
        "0.47"
       ]
      },
      {
       "output_type": "stream",
       "stream": "stdout",
       "text": [
        " : http://www.fht360.com/productlist/252/661-10.html\n",
        "0.45"
       ]
      },
      {
       "output_type": "stream",
       "stream": "stdout",
       "text": [
        " : http://www.fht360.com/productlist/231/11042-3-39.html\n",
        "0.55"
       ]
      },
      {
       "output_type": "stream",
       "stream": "stdout",
       "text": [
        " : http://www.fht360.com/companylist/68-2-880.html\n",
        "0.44"
       ]
      },
      {
       "output_type": "stream",
       "stream": "stdout",
       "text": [
        " : http://www.fht360.com/productlist/292/193-5-1487.html\n",
        "1.59"
       ]
      },
      {
       "output_type": "stream",
       "stream": "stdout",
       "text": [
        " : http://www.fht360.com/productlist/424-101-1487.html\n",
        "0.77"
       ]
      },
      {
       "output_type": "stream",
       "stream": "stdout",
       "text": [
        " : http://www.fht360.com/companylist/164-2-1491.html\n",
        "0.33"
       ]
      },
      {
       "output_type": "stream",
       "stream": "stdout",
       "text": [
        " : http://www.fht360.com/productlist/236-62-2137.html\n",
        "1.06"
       ]
      },
      {
       "output_type": "stream",
       "stream": "stdout",
       "text": [
        " : http://www.fht360.com/productlist/317/72-9.html\n",
        "0.77"
       ]
      },
      {
       "output_type": "stream",
       "stream": "stdout",
       "text": [
        " : http://www.fht360.com/companylist/162-2-3065.html\n",
        "0.38"
       ]
      },
      {
       "output_type": "stream",
       "stream": "stdout",
       "text": [
        " : http://www.fht360.com/productlist/254/258-14.html\n",
        "0.26"
       ]
      },
      {
       "output_type": "stream",
       "stream": "stdout",
       "text": [
        " : http://www.fht360.com/productlist/254/259-5.html\n",
        "0.13"
       ]
      },
      {
       "output_type": "stream",
       "stream": "stdout",
       "text": [
        " : http://www.fht360.com/productlist/281-13.html\n",
        "0.23"
       ]
      },
      {
       "output_type": "stream",
       "stream": "stdout",
       "text": [
        " : http://www.fht360.com/productlist/379/19098-2.html\n",
        "1.77"
       ]
      },
      {
       "output_type": "stream",
       "stream": "stdout",
       "text": [
        " : http://www.fht360.com/productlist/379/19091-2.html\n",
        "0.88"
       ]
      },
      {
       "output_type": "stream",
       "stream": "stdout",
       "text": [
        " : http://www.fht360.com/productlist/274/91-6-39.html\n",
        "0.42"
       ]
      },
      {
       "output_type": "stream",
       "stream": "stdout",
       "text": [
        " : http://www.fht360.com/productlist/437/12242-2-2137.html\n",
        "0.55"
       ]
      },
      {
       "output_type": "stream",
       "stream": "stdout",
       "text": [
        " : http://www.fht360.com/companylist/45/10142-2.html\n",
        "0.93"
       ]
      },
      {
       "output_type": "stream",
       "stream": "stdout",
       "text": [
        " : http://www.fht360.com/companylist/45/10146-2.html\n",
        "0.89"
       ]
      },
      {
       "output_type": "stream",
       "stream": "stdout",
       "text": [
        " : http://www.fht360.com/companylist/45/10147-2.html\n",
        "0.27"
       ]
      },
      {
       "output_type": "stream",
       "stream": "stdout",
       "text": [
        " : http://www.fht360.com/productlist/233/637-2.html\n",
        "0.52"
       ]
      },
      {
       "output_type": "stream",
       "stream": "stdout",
       "text": [
        " : http://www.fht360.com/companylist/52-3-1487.html\n",
        "0.46"
       ]
      },
      {
       "output_type": "stream",
       "stream": "stdout",
       "text": [
        " : http://www.fht360.com/productlist/234/303-21-1487.html\n",
        "0.49"
       ]
      },
      {
       "output_type": "stream",
       "stream": "stdout",
       "text": [
        " : http://www.fht360.com/productlist/328/12422-9-2137.html\n",
        "0.52"
       ]
      },
      {
       "output_type": "stream",
       "stream": "stdout",
       "text": [
        " : http://www.fht360.com/companylist/167-3-896.html\n",
        "0.51"
       ]
      },
      {
       "output_type": "stream",
       "stream": "stdout",
       "text": [
        " : http://www.fht360.com/companylist/195/10919-2.html\n",
        "0.48"
       ]
      },
      {
       "output_type": "stream",
       "stream": "stdout",
       "text": [
        " : http://www.fht360.com/companylist/195/10910-2.html\n",
        "0.47"
       ]
      },
      {
       "output_type": "stream",
       "stream": "stdout",
       "text": [
        " : http://www.fht360.com/productlist/227/76-6-880.html\n",
        "0.56"
       ]
      },
      {
       "output_type": "stream",
       "stream": "stdout",
       "text": [
        " : http://www.fht360.com/companylist/47/10199-2.html\n",
        "1.15"
       ]
      },
      {
       "output_type": "stream",
       "stream": "stdout",
       "text": [
        " : http://www.fht360.com/companylist/47/10194-2.html\n",
        "0.41"
       ]
      },
      {
       "output_type": "stream",
       "stream": "stdout",
       "text": [
        " : http://www.fht360.com/productlist/286-7-2137.html\n",
        "0.49"
       ]
      },
      {
       "output_type": "stream",
       "stream": "stdout",
       "text": [
        " : http://www.fht360.com/companylist/48-2-1581.html\n",
        "0.40"
       ]
      },
      {
       "output_type": "stream",
       "stream": "stdout",
       "text": [
        " : http://www.fht360.com/productlist/351/5085-3.html\n",
        "0.50"
       ]
      },
      {
       "output_type": "stream",
       "stream": "stdout",
       "text": [
        " : http://www.fht360.com/companylist/48-2-1051.html\n",
        "0.37"
       ]
      },
      {
       "output_type": "stream",
       "stream": "stdout",
       "text": [
        " : http://www.fht360.com/productlist/246/14807-2.html\n",
        "0.48"
       ]
      },
      {
       "output_type": "stream",
       "stream": "stdout",
       "text": [
        " : http://www.fht360.com/companylist/165-3-1857.html\n",
        "0.62"
       ]
      },
      {
       "output_type": "stream",
       "stream": "stdout",
       "text": [
        " : http://www.fht360.com/companylist/44-2-2186.html\n",
        "0.34"
       ]
      },
      {
       "output_type": "stream",
       "stream": "stdout",
       "text": [
        " : http://www.fht360.com/productlist/415/2019-11.html\n",
        "0.45"
       ]
      },
      {
       "output_type": "stream",
       "stream": "stdout",
       "text": [
        " : http://www.fht360.com/productlist/369/13810-2-2137.html\n",
        "0.57"
       ]
      },
      {
       "output_type": "stream",
       "stream": "stdout",
       "text": [
        " : http://www.fht360.com/companylist/89-5.html\n",
        "0.56"
       ]
      },
      {
       "output_type": "stream",
       "stream": "stdout",
       "text": [
        " : http://www.fht360.com/companylist/88-3.html\n",
        "0.62"
       ]
      },
      {
       "output_type": "stream",
       "stream": "stdout",
       "text": [
        " : http://www.fht360.com/companylist/85-3.html\n",
        "0.52"
       ]
      },
      {
       "output_type": "stream",
       "stream": "stdout",
       "text": [
        " : http://www.fht360.com/companylist/87-2.html\n",
        "0.79"
       ]
      },
      {
       "output_type": "stream",
       "stream": "stdout",
       "text": [
        " : http://www.fht360.com/companylist/86-8.html\n",
        "0.81"
       ]
      },
      {
       "output_type": "stream",
       "stream": "stdout",
       "text": [
        " : http://www.fht360.com/companylist/81-8.html\n",
        "1.20"
       ]
      },
      {
       "output_type": "stream",
       "stream": "stdout",
       "text": [
        " : http://www.fht360.com/companylist/80-3.html\n",
        "0.42"
       ]
      },
      {
       "output_type": "stream",
       "stream": "stdout",
       "text": [
        " : http://www.fht360.com/companylist/83-5.html\n",
        "0.58"
       ]
      },
      {
       "output_type": "stream",
       "stream": "stdout",
       "text": [
        " : http://www.fht360.com/companylist/82-2.html\n",
        "0.54"
       ]
      },
      {
       "output_type": "stream",
       "stream": "stdout",
       "text": [
        " : http://www.fht360.com/companylist/162-2-191.html\n",
        "0.25"
       ]
      },
      {
       "output_type": "stream",
       "stream": "stdout",
       "text": [
        " : http://www.fht360.com/productlist/301/8152-3-880.html\n",
        "0.13"
       ]
      },
      {
       "output_type": "stream",
       "stream": "stdout",
       "text": [
        " : http://www.fht360.com/productlist/427/12141-3.html\n",
        "0.32"
       ]
      },
      {
       "output_type": "stream",
       "stream": "stdout",
       "text": [
        " : http://www.fht360.com/productlist/227/12171-10.html\n",
        "0.54"
       ]
      },
      {
       "output_type": "stream",
       "stream": "stdout",
       "text": [
        " : http://www.fht360.com/companylist/37/10469-2.html\n",
        "0.47"
       ]
      },
      {
       "output_type": "stream",
       "stream": "stdout",
       "text": [
        " : http://www.fht360.com/companylist/167-2-132.html\n",
        "0.51"
       ]
      },
      {
       "output_type": "stream",
       "stream": "stdout",
       "text": [
        " : http://www.fht360.com/companylist/37/10465-2.html\n",
        "0.53"
       ]
      },
      {
       "output_type": "stream",
       "stream": "stdout",
       "text": [
        " : http://www.fht360.com/companylist/37/10463-2.html\n",
        "0.50"
       ]
      },
      {
       "output_type": "stream",
       "stream": "stdout",
       "text": [
        " : http://www.fht360.com/productlist/233/16959-4.html\n",
        "0.26"
       ]
      },
      {
       "output_type": "stream",
       "stream": "stdout",
       "text": [
        " : http://www.fht360.com/productlist/233/16957-3.html\n",
        "0.50"
       ]
      },
      {
       "output_type": "stream",
       "stream": "stdout",
       "text": [
        " : http://www.fht360.com/productlist/233-2-499.html\n",
        "0.47"
       ]
      },
      {
       "output_type": "stream",
       "stream": "stdout",
       "text": [
        " : http://www.fht360.com/companylist/165-2-936.html\n",
        "0.48"
       ]
      },
      {
       "output_type": "stream",
       "stream": "stdout",
       "text": [
        " : http://www.fht360.com/companylist/165-2-938.html\n",
        "0.43"
       ]
      },
      {
       "output_type": "stream",
       "stream": "stdout",
       "text": [
        " : http://www.fht360.com/productlist/239/694-2.html\n",
        "0.43"
       ]
      },
      {
       "output_type": "stream",
       "stream": "stdout",
       "text": [
        " : http://www.fht360.com/productlist/254-2-39.html\n",
        "4.09"
       ]
      },
      {
       "output_type": "stream",
       "stream": "stdout",
       "text": [
        " : http://www.fht360.com/productlist/234-64-1487.html\n",
        "1.92"
       ]
      },
      {
       "output_type": "stream",
       "stream": "stdout",
       "text": [
        " : http://www.fht360.com/productlist/255-3-1487.html\n",
        "0.54"
       ]
      },
      {
       "output_type": "stream",
       "stream": "stdout",
       "text": [
        " : http://www.fht360.com/productlist/331/10003-2-880.html\n",
        "0.27"
       ]
      },
      {
       "output_type": "stream",
       "stream": "stdout",
       "text": [
        " : http://www.fht360.com/productlist/246/13448-8.html\n",
        "3.45"
       ]
      },
      {
       "output_type": "stream",
       "stream": "stdout",
       "text": [
        " : http://www.fht360.com/productlist/309-3-1364.html\n",
        "1.50"
       ]
      },
      {
       "output_type": "stream",
       "stream": "stdout",
       "text": [
        " : http://www.fht360.com/companylist/246/10799-2.html\n",
        "0.29"
       ]
      },
      {
       "output_type": "stream",
       "stream": "stdout",
       "text": [
        " : http://www.fht360.com/productlist/251/8-7-1487.html\n",
        "0.26"
       ]
      },
      {
       "output_type": "stream",
       "stream": "stdout",
       "text": [
        " : http://www.fht360.com/productlist/337/13447-5.html\n",
        "0.27"
       ]
      },
      {
       "output_type": "stream",
       "stream": "stdout",
       "text": [
        " : http://www.fht360.com/productlist/337/13443-3.html\n",
        "0.56"
       ]
      },
      {
       "output_type": "stream",
       "stream": "stdout",
       "text": [
        " : http://www.fht360.com/companylist/134/10926-2.html\n",
        "0.38"
       ]
      },
      {
       "output_type": "stream",
       "stream": "stdout",
       "text": [
        " : http://www.fht360.com/productlist/424/14895-2-2137.html\n",
        "0.35"
       ]
      },
      {
       "output_type": "stream",
       "stream": "stdout",
       "text": [
        " : http://www.fht360.com/productlist/312/10683-4-1487.html\n",
        "0.67"
       ]
      },
      {
       "output_type": "stream",
       "stream": "stdout",
       "text": [
        " : http://www.fht360.com/productlist/367/13582-9-2137.html\n",
        "0.70"
       ]
      },
      {
       "output_type": "stream",
       "stream": "stdout",
       "text": [
        " : http://www.fht360.com/companylist/49-2-860.html\n",
        "0.41"
       ]
      },
      {
       "output_type": "stream",
       "stream": "stdout",
       "text": [
        " : http://www.fht360.com/productlist/287-3-2137.html\n",
        "0.47"
       ]
      },
      {
       "output_type": "stream",
       "stream": "stdout",
       "text": [
        " : http://www.fht360.com/companylist/162-2-1987.html\n",
        "0.40"
       ]
      },
      {
       "output_type": "stream",
       "stream": "stdout",
       "text": [
        " : http://www.fht360.com/productlist/239/168-2-39.html\n",
        "0.43"
       ]
      },
      {
       "output_type": "stream",
       "stream": "stdout",
       "text": [
        " : http://www.fht360.com/productlist/371/13794-2-1260.html\n",
        "0.56"
       ]
      },
      {
       "output_type": "stream",
       "stream": "stdout",
       "text": [
        " : http://www.fht360.com/companylist/61/10310-2.html\n",
        "0.32"
       ]
      },
      {
       "output_type": "stream",
       "stream": "stdout",
       "text": [
        " : http://www.fht360.com/productlist/249/170-4.html\n",
        "0.54"
       ]
      },
      {
       "output_type": "stream",
       "stream": "stdout",
       "text": [
        " : http://www.fht360.com/companylist/39-2-706.html\n",
        "0.48"
       ]
      },
      {
       "output_type": "stream",
       "stream": "stdout",
       "text": [
        " : http://www.fht360.com/companylist/167/3-2-1668.html\n",
        "0.47"
       ]
      },
      {
       "output_type": "stream",
       "stream": "stdout",
       "text": [
        " : http://www.fht360.com/productlist/351-10-860.html\n",
        "0.26"
       ]
      },
      {
       "output_type": "stream",
       "stream": "stdout",
       "text": [
        " : http://www.fht360.com/productlist/331-8-39.html\n",
        "0.93"
       ]
      },
      {
       "output_type": "stream",
       "stream": "stdout",
       "text": [
        " : http://www.fht360.com/productlist/277/16408-2-2137.html\n",
        "0.74"
       ]
      },
      {
       "output_type": "stream",
       "stream": "stdout",
       "text": [
        " : http://www.fht360.com/productlist/334-3-2437.html\n",
        "0.31"
       ]
      },
      {
       "output_type": "stream",
       "stream": "stdout",
       "text": [
        " : http://www.fht360.com/productlist/274/16408-4.html\n",
        "0.61"
       ]
      },
      {
       "output_type": "stream",
       "stream": "stdout",
       "text": [
        " : http://www.fht360.com/companylist/79-3-2137.html\n",
        "0.55"
       ]
      },
      {
       "output_type": "stream",
       "stream": "stdout",
       "text": [
        " : http://www.fht360.com/productlist/240-3-1487.html\n",
        "0.42"
       ]
      },
      {
       "output_type": "stream",
       "stream": "stdout",
       "text": [
        " : http://www.fht360.com/productlist/438-2-880.html\n",
        "0.47"
       ]
      },
      {
       "output_type": "stream",
       "stream": "stdout",
       "text": [
        " : http://www.fht360.com/companylist/162-15-2278.html\n",
        "0.48"
       ]
      },
      {
       "output_type": "stream",
       "stream": "stdout",
       "text": [
        " : http://www.fht360.com/companylist/162-2-2279.html\n",
        "0.71"
       ]
      },
      {
       "output_type": "stream",
       "stream": "stdout",
       "text": [
        " : http://www.fht360.com/productlist/309-37.html\n",
        "0.49"
       ]
      },
      {
       "output_type": "stream",
       "stream": "stdout",
       "text": [
        " : http://www.fht360.com/productlist/304-25.html\n",
        "1.28"
       ]
      },
      {
       "output_type": "stream",
       "stream": "stdout",
       "text": [
        " : http://www.fht360.com/productlist/226-5-1009.html\n",
        "0.47"
       ]
      },
      {
       "output_type": "stream",
       "stream": "stdout",
       "text": [
        " : http://www.fht360.com/companylist/164-2-1514.html\n",
        "0.36"
       ]
      },
      {
       "output_type": "stream",
       "stream": "stdout",
       "text": [
        " : http://www.fht360.com/productlist/337/12188-2-880.html\n",
        "0.56"
       ]
      },
      {
       "output_type": "stream",
       "stream": "stdout",
       "text": [
        " : http://www.fht360.com/productlist/332/273-2.html\n",
        "0.44"
       ]
      },
      {
       "output_type": "stream",
       "stream": "stdout",
       "text": [
        " : http://www.fht360.com/productlist/227-3-1122.html\n",
        "0.35"
       ]
      },
      {
       "output_type": "stream",
       "stream": "stdout",
       "text": [
        " : http://www.fht360.com/productlist/302/7258-2-1487.html\n",
        "1.87"
       ]
      },
      {
       "output_type": "stream",
       "stream": "stdout",
       "text": [
        " : http://www.fht360.com/productlist/351/13637-2-1.html\n",
        "0.84"
       ]
      },
      {
       "output_type": "stream",
       "stream": "stdout",
       "text": [
        " : http://www.fht360.com/productlist/415/93-10-1487.html\n",
        "0.47"
       ]
      },
      {
       "output_type": "stream",
       "stream": "stdout",
       "text": [
        " : http://www.fht360.com/companylist/164/3-2-132.html\n",
        "0.54"
       ]
      },
      {
       "output_type": "stream",
       "stream": "stdout",
       "text": [
        " : http://www.fht360.com/companylist/66-2-2278.html\n",
        "0.47"
       ]
      },
      {
       "output_type": "stream",
       "stream": "stdout",
       "text": [
        " : http://www.fht360.com/companylist/56-4-880.html\n",
        "0.47"
       ]
      },
      {
       "output_type": "stream",
       "stream": "stdout",
       "text": [
        " : http://www.fht360.com/productlist/317/72-2-860.html\n",
        "0.47"
       ]
      },
      {
       "output_type": "stream",
       "stream": "stdout",
       "text": [
        " : http://www.fht360.com/companylist/165/3-4-1553.html\n",
        "0.36"
       ]
      },
      {
       "output_type": "stream",
       "stream": "stdout",
       "text": [
        " : http://www.fht360.com/productlist/307/10833-2-1487.html\n",
        "0.41"
       ]
      },
      {
       "output_type": "stream",
       "stream": "stdout",
       "text": [
        " : http://www.fht360.com/productlist/242-2-1.html\n",
        "0.63"
       ]
      },
      {
       "output_type": "stream",
       "stream": "stdout",
       "text": [
        " : http://www.fht360.com/productlist/280/8287-2-2137.html\n",
        "0.34"
       ]
      },
      {
       "output_type": "stream",
       "stream": "stdout",
       "text": [
        " : http://www.fht360.com/productlist/239/13-7.html\n",
        "0.26"
       ]
      },
      {
       "output_type": "stream",
       "stream": "stdout",
       "text": [
        " : http://www.fht360.com/productlist/324/10365-2.html\n",
        "0.30"
       ]
      },
      {
       "output_type": "stream",
       "stream": "stdout",
       "text": [
        " : http://www.fht360.com/productlist/337/12148-9.html\n",
        "0.42"
       ]
      },
      {
       "output_type": "stream",
       "stream": "stdout",
       "text": [
        " : http://www.fht360.com/productlist/247-4-860.html\n",
        "0.35"
       ]
      },
      {
       "output_type": "stream",
       "stream": "stdout",
       "text": [
        " : http://www.fht360.com/productlist/283/15627-3-2137.html\n",
        "0.56"
       ]
      },
      {
       "output_type": "stream",
       "stream": "stdout",
       "text": [
        " : http://www.fht360.com/productlist/231/11042-3-880.html\n",
        "0.46"
       ]
      },
      {
       "output_type": "stream",
       "stream": "stdout",
       "text": [
        " : http://www.fht360.com/companylist/139-2-2164.html\n",
        "0.52"
       ]
      },
      {
       "output_type": "stream",
       "stream": "stdout",
       "text": [
        " : http://www.fht360.com/productlist/426-2-39.html\n",
        "0.53"
       ]
      },
      {
       "output_type": "stream",
       "stream": "stdout",
       "text": [
        " : http://www.fht360.com/companylist/47/10019-2.html\n",
        "0.44"
       ]
      },
      {
       "output_type": "stream",
       "stream": "stdout",
       "text": [
        " : http://www.fht360.com/productlist/386/5442-2.html\n",
        "0.47"
       ]
      },
      {
       "output_type": "stream",
       "stream": "stdout",
       "text": [
        " : http://www.fht360.com/companylist/54-4-2137.html\n",
        "0.47"
       ]
      },
      {
       "output_type": "stream",
       "stream": "stdout",
       "text": [
        " : http://www.fht360.com/productlist/307/10833-4.html\n",
        "0.92"
       ]
      },
      {
       "output_type": "stream",
       "stream": "stdout",
       "text": [
        " : http://www.fht360.com/productlist/248-108-1487.html\n",
        "1.01"
       ]
      },
      {
       "output_type": "stream",
       "stream": "stdout",
       "text": [
        " : http://www.fht360.com/productlist/231/12224-2.html\n",
        "0.24"
       ]
      },
      {
       "output_type": "stream",
       "stream": "stdout",
       "text": [
        " : http://www.fht360.com/productlist/312/637-2.html\n",
        "0.48"
       ]
      },
      {
       "output_type": "stream",
       "stream": "stdout",
       "text": [
        " : http://www.fht360.com/companylist/34/10643-2.html\n",
        "0.49"
       ]
      },
      {
       "output_type": "stream",
       "stream": "stdout",
       "text": [
        " : http://www.fht360.com/companylist/34-2-1570.html\n",
        "0.69"
       ]
      },
      {
       "output_type": "stream",
       "stream": "stdout",
       "text": [
        " : http://www.fht360.com/productlist/424/2-3-2467.html\n",
        "0.65"
       ]
      },
      {
       "output_type": "stream",
       "stream": "stdout",
       "text": [
        " : http://www.fht360.com/productlist/337/12162-7.html\n",
        "0.80"
       ]
      },
      {
       "output_type": "stream",
       "stream": "stdout",
       "text": [
        " : http://www.fht360.com/productlist/248/11995-2-1662.html\n",
        "0.88"
       ]
      },
      {
       "output_type": "stream",
       "stream": "stdout",
       "text": [
        " : http://www.fht360.com/productlist/366/13827-2-39.html\n",
        "0.47"
       ]
      },
      {
       "output_type": "stream",
       "stream": "stdout",
       "text": [
        " : http://www.fht360.com/companylist/164/3-10-1662.html\n",
        "0.69"
       ]
      },
      {
       "output_type": "stream",
       "stream": "stdout",
       "text": [
        " : http://www.fht360.com/productlist/239/13-2-880.html\n",
        "0.36"
       ]
      },
      {
       "output_type": "stream",
       "stream": "stdout",
       "text": [
        " : http://www.fht360.com/productlist/337/12202-2-2137.html\n",
        "0.47"
       ]
      },
      {
       "output_type": "stream",
       "stream": "stdout",
       "text": [
        " : http://www.fht360.com/companylist/167/3-10-2138.html\n",
        "0.42"
       ]
      },
      {
       "output_type": "stream",
       "stream": "stdout",
       "text": [
        " : http://www.fht360.com/productlist/251-4-1662.html\n",
        "0.25"
       ]
      },
      {
       "output_type": "stream",
       "stream": "stdout",
       "text": [
        " : http://www.fht360.com/productlist/308/10894-2.html\n",
        "0.58"
       ]
      },
      {
       "output_type": "stream",
       "stream": "stdout",
       "text": [
        " : http://www.fht360.com/companylist/128/10021-2.html\n",
        "1.05"
       ]
      },
      {
       "output_type": "stream",
       "stream": "stdout",
       "text": [
        " : http://www.fht360.com/productlist/429-2-1.html\n",
        "2.77"
       ]
      },
      {
       "output_type": "stream",
       "stream": "stdout",
       "text": [
        " : http://www.fht360.com/companylist/47-2-1009.html\n",
        "1.51"
       ]
      },
      {
       "output_type": "stream",
       "stream": "stdout",
       "text": [
        " : http://www.fht360.com/productlist/432-3-880.html\n",
        "0.28"
       ]
      },
      {
       "output_type": "stream",
       "stream": "stdout",
       "text": [
        " : http://www.fht360.com/productlist/228/8206-3.html\n",
        "0.51"
       ]
      },
      {
       "output_type": "stream",
       "stream": "stdout",
       "text": [
        " : http://www.fht360.com/companylist/57/4-2-881.html\n",
        "1.53"
       ]
      },
      {
       "output_type": "stream",
       "stream": "stdout",
       "text": [
        " : http://www.fht360.com/productlist/231/9-69-1487.html\n",
        "0.56"
       ]
      },
      {
       "output_type": "stream",
       "stream": "stdout",
       "text": [
        " : http://www.fht360.com/companylist/44/10020-2.html\n",
        "0.91"
       ]
      },
      {
       "output_type": "stream",
       "stream": "stdout",
       "text": [
        " : http://www.fht360.com/productlist/227/10227-2.html\n",
        "0.28"
       ]
      },
      {
       "output_type": "stream",
       "stream": "stdout",
       "text": [
        " : http://www.fht360.com/productlist/272/3609-2.html\n",
        "0.47"
       ]
      },
      {
       "output_type": "stream",
       "stream": "stdout",
       "text": [
        " : http://www.fht360.com/companylist/122-3-1487.html\n",
        "3.99"
       ]
      },
      {
       "output_type": "stream",
       "stream": "stdout",
       "text": [
        " : http://www.fht360.com/productlist/364/13027-2-2137.html\n",
        "0.55"
       ]
      },
      {
       "output_type": "stream",
       "stream": "stdout",
       "text": [
        " : http://www.fht360.com/productlist/283-4-860.html\n",
        "0.55"
       ]
      },
      {
       "output_type": "stream",
       "stream": "stdout",
       "text": [
        " : http://www.fht360.com/productlist/233/8-2-1009.html\n",
        "0.35"
       ]
      },
      {
       "output_type": "stream",
       "stream": "stdout",
       "text": [
        " : http://www.fht360.com/productlist/234/15642-3.html\n",
        "1.34"
       ]
      },
      {
       "output_type": "stream",
       "stream": "stdout",
       "text": [
        " : http://www.fht360.com/companylist/61/10290-2.html\n",
        "0.49"
       ]
      },
      {
       "output_type": "stream",
       "stream": "stdout",
       "text": [
        " : http://www.fht360.com/companylist/167/3-2-2508.html\n",
        "0.47"
       ]
      },
      {
       "output_type": "stream",
       "stream": "stdout",
       "text": [
        " : http://www.fht360.com/companylist/164/3-12-2164.html\n",
        "1.82"
       ]
      },
      {
       "output_type": "stream",
       "stream": "stdout",
       "text": [
        " : http://www.fht360.com/productlist/343-11-1487.html\n",
        "0.74"
       ]
      },
      {
       "output_type": "stream",
       "stream": "stdout",
       "text": [
        " : http://www.fht360.com/productlist/375/14925-2-2137.html\n",
        "1.73"
       ]
      },
      {
       "output_type": "stream",
       "stream": "stdout",
       "text": [
        " : http://www.fht360.com/productlist/276/15161-5-2137.html\n",
        "1.28"
       ]
      },
      {
       "output_type": "stream",
       "stream": "stdout",
       "text": [
        " : http://www.fht360.com/productlist/248/733-39-1487.html\n",
        "1.45"
       ]
      },
      {
       "output_type": "stream",
       "stream": "stdout",
       "text": [
        " : http://www.fht360.com/productlist/284-3-2137.html\n",
        "0.67"
       ]
      },
      {
       "output_type": "stream",
       "stream": "stdout",
       "text": [
        " : http://www.fht360.com/productlist/351-10-1.html\n",
        "0.70"
       ]
      },
      {
       "output_type": "stream",
       "stream": "stdout",
       "text": [
        " : http://www.fht360.com/companylist/167/3-2-1364.html\n",
        "0.54"
       ]
      },
      {
       "output_type": "stream",
       "stream": "stdout",
       "text": [
        " : http://www.fht360.com/productlist/410/1411-2-1009.html\n",
        "0.44"
       ]
      },
      {
       "output_type": "stream",
       "stream": "stdout",
       "text": [
        " : http://www.fht360.com/productlist/242-1-3065.html\n",
        "0.42"
       ]
      },
      {
       "output_type": "stream",
       "stream": "stdout",
       "text": [
        " : http://www.fht360.com/productlist/429/11342-2-880.html\n",
        "0.57"
       ]
      },
      {
       "output_type": "stream",
       "stream": "stdout",
       "text": [
        " : http://www.fht360.com/companylist/63-2-39.html\n",
        "0.48"
       ]
      },
      {
       "output_type": "stream",
       "stream": "stdout",
       "text": [
        " : http://www.fht360.com/companylist/164-2-111.html\n",
        "0.55"
       ]
      },
      {
       "output_type": "stream",
       "stream": "stdout",
       "text": [
        " : http://www.fht360.com/newslist/28-13.html\n",
        "0.53"
       ]
      },
      {
       "output_type": "stream",
       "stream": "stdout",
       "text": [
        " : http://www.fht360.com/companylist/167/3-3-986.html\n",
        "0.34"
       ]
      },
      {
       "output_type": "stream",
       "stream": "stdout",
       "text": [
        " : http://www.fht360.com/newslist/25-10.html\n",
        "0.48"
       ]
      },
      {
       "output_type": "stream",
       "stream": "stdout",
       "text": [
        " : http://www.fht360.com/companylist/48/3-3-896.html\n",
        "0.55"
       ]
      },
      {
       "output_type": "stream",
       "stream": "stdout",
       "text": [
        " : http://www.fht360.com/productlist/244/266-3-1662.html\n",
        "0.35"
       ]
      },
      {
       "output_type": "stream",
       "stream": "stdout",
       "text": [
        " : http://www.fht360.com/newslist/26-2.html\n",
        "0.41"
       ]
      },
      {
       "output_type": "stream",
       "stream": "stdout",
       "text": [
        " : http://www.fht360.com/productlist/263-2-1987.html\n",
        "0.45"
       ]
      },
      {
       "output_type": "stream",
       "stream": "stdout",
       "text": [
        " : http://www.fht360.com/newslist/23-2.html\n",
        "1.52"
       ]
      },
      {
       "output_type": "stream",
       "stream": "stdout",
       "text": [
        " : http://www.fht360.com/productlist/277-50-39.html\n",
        "1.56"
       ]
      },
      {
       "output_type": "stream",
       "stream": "stdout",
       "text": [
        " : http://www.fht360.com/companylist/165-45-2137.html\n",
        "1.38"
       ]
      },
      {
       "output_type": "stream",
       "stream": "stdout",
       "text": [
        " : http://www.fht360.com/productlist/312/10683-4.html\n",
        "0.49"
       ]
      },
      {
       "output_type": "stream",
       "stream": "stdout",
       "text": [
        " : http://www.fht360.com/companylist/165-10-2138.html\n",
        "0.56"
       ]
      },
      {
       "output_type": "stream",
       "stream": "stdout",
       "text": [
        " : http://www.fht360.com/companylist/44-4-1009.html\n",
        "0.27"
       ]
      },
      {
       "output_type": "stream",
       "stream": "stdout",
       "text": [
        " : http://www.fht360.com/productlist/312/10684-6.html\n",
        "0.38"
       ]
      },
      {
       "output_type": "stream",
       "stream": "stdout",
       "text": [
        " : http://www.fht360.com/productlist/234/10348-3.html\n",
        "0.34"
       ]
      },
      {
       "output_type": "stream",
       "stream": "stdout",
       "text": [
        " : http://www.fht360.com/productlist/234/10346-4.html\n",
        "0.47"
       ]
      },
      {
       "output_type": "stream",
       "stream": "stdout",
       "text": [
        " : http://www.fht360.com/companylist/165/3-4-1.html\n",
        "0.47"
       ]
      },
      {
       "output_type": "stream",
       "stream": "stdout",
       "text": [
        " : http://www.fht360.com/companylist/162/3-2-2279.html\n",
        "0.48"
       ]
      },
      {
       "output_type": "stream",
       "stream": "stdout",
       "text": [
        " : http://www.fht360.com/companylist/162/3-15-2278.html\n",
        "0.47"
       ]
      },
      {
       "output_type": "stream",
       "stream": "stdout",
       "text": [
        " : http://www.fht360.com/productlist/304/14822-3-2137.html\n",
        "0.30"
       ]
      },
      {
       "output_type": "stream",
       "stream": "stdout",
       "text": [
        " : http://www.fht360.com/productlist/359-6-1009.html\n",
        "0.57"
       ]
      },
      {
       "output_type": "stream",
       "stream": "stdout",
       "text": [
        " : http://www.fht360.com/companylist/71-2-2137.html\n",
        "0.78"
       ]
      },
      {
       "output_type": "stream",
       "stream": "stdout",
       "text": [
        " : http://www.fht360.com/companylist/162/3-4-1567.html\n",
        "0.34"
       ]
      },
      {
       "output_type": "stream",
       "stream": "stdout",
       "text": [
        " : http://www.fht360.com/productlist/246-26-1009.html\n",
        "0.52"
       ]
      },
      {
       "output_type": "stream",
       "stream": "stdout",
       "text": [
        " : http://www.fht360.com/companylist/162/3-5-2186.html\n",
        "0.26"
       ]
      },
      {
       "output_type": "stream",
       "stream": "stdout",
       "text": [
        " : http://www.fht360.com/productlist/433/15417-24-1662.html\n",
        "0.37"
       ]
      },
      {
       "output_type": "stream",
       "stream": "stdout",
       "text": [
        " : http://www.fht360.com/productlist/353/14893-2-2137.html\n",
        "0.63"
       ]
      },
      {
       "output_type": "stream",
       "stream": "stdout",
       "text": [
        " : http://www.fht360.com/companylist/44/10012-2-880.html\n",
        "0.33"
       ]
      },
      {
       "output_type": "stream",
       "stream": "stdout",
       "text": [
        " : http://www.fht360.com/productlist/365/10970-2.html\n",
        "1.28"
       ]
      },
      {
       "output_type": "stream",
       "stream": "stdout",
       "text": [
        " : http://www.fht360.com/companylist/93-2-2137.html\n",
        "0.53"
       ]
      },
      {
       "output_type": "stream",
       "stream": "stdout",
       "text": [
        " : http://www.fht360.com/companylist/49/10035-2-2137.html\n",
        "0.46"
       ]
      },
      {
       "output_type": "stream",
       "stream": "stdout",
       "text": [
        " : http://www.fht360.com/productlist/351/13677-7-2137.html\n",
        "0.60"
       ]
      },
      {
       "output_type": "stream",
       "stream": "stdout",
       "text": [
        " : http://www.fht360.com/companylist/167/3-2-1987.html\n",
        "0.31"
       ]
      },
      {
       "output_type": "stream",
       "stream": "stdout",
       "text": [
        " : http://www.fht360.com/productlist/236/8287-2.html\n",
        "0.30"
       ]
      },
      {
       "output_type": "stream",
       "stream": "stdout",
       "text": [
        " : http://www.fht360.com/productlist/253/16758-3.html\n",
        "0.47"
       ]
      },
      {
       "output_type": "stream",
       "stream": "stdout",
       "text": [
        " : http://www.fht360.com/companylist/162-3-40.html\n",
        "0.47"
       ]
      },
      {
       "output_type": "stream",
       "stream": "stdout",
       "text": [
        " : http://www.fht360.com/companylist/162-2-938.html\n",
        "0.30"
       ]
      },
      {
       "output_type": "stream",
       "stream": "stdout",
       "text": [
        " : http://www.fht360.com/productlist/228/12016-4.html\n",
        "0.56"
       ]
      },
      {
       "output_type": "stream",
       "stream": "stdout",
       "text": [
        " : http://www.fht360.com/companylist/52/10928-2.html\n",
        "0.56"
       ]
      },
      {
       "output_type": "stream",
       "stream": "stdout",
       "text": [
        " : http://www.fht360.com/productlist/241-1-1260.html\n",
        "0.46"
       ]
      },
      {
       "output_type": "stream",
       "stream": "stdout",
       "text": [
        " : http://www.fht360.com/companylist/59/10859-2.html\n",
        "0.73"
       ]
      },
      {
       "output_type": "stream",
       "stream": "stdout",
       "text": [
        " : http://www.fht360.com/productlist/231/14-12-1487.html\n",
        "0.31"
       ]
      },
      {
       "output_type": "stream",
       "stream": "stdout",
       "text": [
        " : http://www.fht360.com/productlist/351/13572-5.html\n",
        "0.27"
       ]
      },
      {
       "output_type": "stream",
       "stream": "stdout",
       "text": [
        " : http://www.fht360.com/productlist/351/13576-3.html\n",
        "1.33"
       ]
      },
      {
       "output_type": "stream",
       "stream": "stdout",
       "text": [
        " : http://www.fht360.com/companylist/57/4-2-1662.html\n",
        "0.88"
       ]
      },
      {
       "output_type": "stream",
       "stream": "stdout",
       "text": [
        " : http://www.fht360.com/companylist/165-2-881.html\n",
        "0.47"
       ]
      },
      {
       "output_type": "stream",
       "stream": "stdout",
       "text": [
        " : http://www.fht360.com/companylist/165-22-880.html\n",
        "0.26"
       ]
      },
      {
       "output_type": "stream",
       "stream": "stdout",
       "text": [
        " : http://www.fht360.com/productlist/236/17348-2.html\n",
        "0.29"
       ]
      },
      {
       "output_type": "stream",
       "stream": "stdout",
       "text": [
        " : http://www.fht360.com/productlist/236/16197-2.html\n",
        "0.52"
       ]
      },
      {
       "output_type": "stream",
       "stream": "stdout",
       "text": [
        " : http://www.fht360.com/productlist/234/287-2-1487.html\n",
        "0.49"
       ]
      },
      {
       "output_type": "stream",
       "stream": "stdout",
       "text": [
        " : http://www.fht360.com/productlist/433/14344-3-2137.html\n",
        "0.65"
       ]
      },
      {
       "output_type": "stream",
       "stream": "stdout",
       "text": [
        " : http://www.fht360.com/companylist/49-2-1.html\n",
        "0.25"
       ]
      },
      {
       "output_type": "stream",
       "stream": "stdout",
       "text": [
        " : http://www.fht360.com/productlist/325/7788-2-880.html\n",
        "1.06"
       ]
      },
      {
       "output_type": "stream",
       "stream": "stdout",
       "text": [
        " : http://www.fht360.com/productlist/246-88-2137.html\n",
        "0.80"
       ]
      },
      {
       "output_type": "stream",
       "stream": "stdout",
       "text": [
        " : http://www.fht360.com/productlist/263/11994-8.html\n",
        "0.57"
       ]
      },
      {
       "output_type": "stream",
       "stream": "stdout",
       "text": [
        " : http://www.fht360.com/companylist/164/3-2-1491.html\n",
        "1.35"
       ]
      },
      {
       "output_type": "stream",
       "stream": "stdout",
       "text": [
        " : http://www.fht360.com/companylist/165-2-1364.html\n",
        "0.92"
       ]
      },
      {
       "output_type": "stream",
       "stream": "stdout",
       "text": [
        " : http://www.fht360.com/productlist/367/13637-2-2137.html\n",
        "0.82"
       ]
      },
      {
       "output_type": "stream",
       "stream": "stdout",
       "text": [
        " : http://www.fht360.com/companylist/48-4-1500.html\n",
        "0.19"
       ]
      },
      {
       "output_type": "stream",
       "stream": "stdout",
       "text": [
        " : http://www.fht360.com/productlist/263/306-2-1487.html\n",
        "0.26"
       ]
      },
      {
       "output_type": "stream",
       "stream": "stdout",
       "text": [
        " : http://www.fht360.com/productlist/241/452-6.html\n",
        "0.29"
       ]
      },
      {
       "output_type": "stream",
       "stream": "stdout",
       "text": [
        " : http://www.fht360.com/productlist/241/455-4.html\n",
        "0.31"
       ]
      },
      {
       "output_type": "stream",
       "stream": "stdout",
       "text": [
        " : http://www.fht360.com/productlist/241/456-5.html\n",
        "0.26"
       ]
      },
      {
       "output_type": "stream",
       "stream": "stdout",
       "text": [
        " : http://www.fht360.com/productlist/241/458-2.html\n",
        "0.24"
       ]
      },
      {
       "output_type": "stream",
       "stream": "stdout",
       "text": [
        " : http://www.fht360.com/productlist/308/10884-3.html\n",
        "0.25"
       ]
      },
      {
       "output_type": "stream",
       "stream": "stdout",
       "text": [
        " : http://www.fht360.com/productlist/308/10885-4.html\n",
        "0.48"
       ]
      },
      {
       "output_type": "stream",
       "stream": "stdout",
       "text": [
        " : http://www.fht360.com/productlist/251/8-27-880.html\n",
        "0.51"
       ]
      },
      {
       "output_type": "stream",
       "stream": "stdout",
       "text": [
        " : http://www.fht360.com/productlist/367/13510-3-2137.html\n",
        "1.14"
       ]
      },
      {
       "output_type": "stream",
       "stream": "stdout",
       "text": [
        " : http://www.fht360.com/companylist/48/3-3-918.html\n",
        "0.94"
       ]
      },
      {
       "output_type": "stream",
       "stream": "stdout",
       "text": [
        " : http://www.fht360.com/productlist/259/615-6.html\n",
        "0.43"
       ]
      },
      {
       "output_type": "stream",
       "stream": "stdout",
       "text": [
        " : http://www.fht360.com/productlist/335-2-1009.html\n",
        "0.56"
       ]
      },
      {
       "output_type": "stream",
       "stream": "stdout",
       "text": [
        " : http://www.fht360.com/companylist/164-6-2169.html\n",
        "0.48"
       ]
      },
      {
       "output_type": "stream",
       "stream": "stdout",
       "text": [
        " : http://www.fht360.com/companylist/164-12-2164.html\n",
        "0.25"
       ]
      },
      {
       "output_type": "stream",
       "stream": "stdout",
       "text": [
        " : http://www.fht360.com/productlist/236/16190-2.html\n",
        "0.25"
       ]
      },
      {
       "output_type": "stream",
       "stream": "stdout",
       "text": [
        " : http://www.fht360.com/productlist/357/11344-2.html\n",
        "0.25"
       ]
      },
      {
       "output_type": "stream",
       "stream": "stdout",
       "text": [
        " : http://www.fht360.com/productlist/357/11343-3.html\n",
        "4.80"
       ]
      },
      {
       "output_type": "stream",
       "stream": "stdout",
       "text": [
        " : http://www.fht360.com/productlist/247-2-1260.html\n",
        "0.37"
       ]
      },
      {
       "output_type": "stream",
       "stream": "stdout",
       "text": [
        " : http://www.fht360.com/productlist/424/14924-2-1009.html\n",
        "0.66"
       ]
      },
      {
       "output_type": "stream",
       "stream": "stdout",
       "text": [
        " : http://www.fht360.com/productlist/231/9-4-860.html\n",
        "0.42"
       ]
      },
      {
       "output_type": "stream",
       "stream": "stdout",
       "text": [
        " : http://www.fht360.com/productlist/363/13576-3.html\n",
        "0.91"
       ]
      },
      {
       "output_type": "stream",
       "stream": "stdout",
       "text": [
        " : http://www.fht360.com/productlist/277/89-189.html\n",
        "1.62"
       ]
      },
      {
       "output_type": "stream",
       "stream": "stdout",
       "text": [
        " : http://www.fht360.com/companylist/40/10264-2.html\n",
        "0.92"
       ]
      },
      {
       "output_type": "stream",
       "stream": "stdout",
       "text": [
        " : http://www.fht360.com/productlist/234/15649-11.html\n",
        "0.30"
       ]
      },
      {
       "output_type": "stream",
       "stream": "stdout",
       "text": [
        " : http://www.fht360.com/productlist/351/13164-3.html\n",
        "0.49"
       ]
      },
      {
       "output_type": "stream",
       "stream": "stdout",
       "text": [
        " : http://www.fht360.com/productlist/324/12421-7-1662.html\n",
        "0.31"
       ]
      },
      {
       "output_type": "stream",
       "stream": "stdout",
       "text": [
        " : http://www.fht360.com/productlist/334/33-11.html\n",
        "0.50"
       ]
      },
      {
       "output_type": "stream",
       "stream": "stdout",
       "text": [
        " : http://www.fht360.com/productlist/226-1-1857.html\n",
        "0.58"
       ]
      },
      {
       "output_type": "stream",
       "stream": "stdout",
       "text": [
        " : http://www.fht360.com/productlist/235/89-4-1122.html\n",
        "0.44"
       ]
      },
      {
       "output_type": "stream",
       "stream": "stdout",
       "text": [
        " : http://www.fht360.com/productlist/340-2-1857.html\n",
        "1.26"
       ]
      },
      {
       "output_type": "stream",
       "stream": "stdout",
       "text": [
        " : http://www.fht360.com/companylist/34/128-2.html\n",
        "0.67"
       ]
      },
      {
       "output_type": "stream",
       "stream": "stdout",
       "text": [
        " : http://www.fht360.com/productlist/340/1861-3.html\n",
        "0.83"
       ]
      },
      {
       "output_type": "stream",
       "stream": "stdout",
       "text": [
        " : http://www.fht360.com/productlist/260-2-860.html\n",
        "0.37"
       ]
      },
      {
       "output_type": "stream",
       "stream": "stdout",
       "text": [
        " : http://www.fht360.com/productlist/233/17010-2-2137.html\n",
        "0.45"
       ]
      },
      {
       "output_type": "stream",
       "stream": "stdout",
       "text": [
        " : http://www.fht360.com/productlist/324/12450-5-2137.html\n",
        "0.26"
       ]
      },
      {
       "output_type": "stream",
       "stream": "stdout",
       "text": [
        " : http://www.fht360.com/productlist/234/287-3.html\n",
        "0.52"
       ]
      },
      {
       "output_type": "stream",
       "stream": "stdout",
       "text": [
        " : http://www.fht360.com/productlist/244-3-1662.html\n",
        "0.41"
       ]
      },
      {
       "output_type": "stream",
       "stream": "stdout",
       "text": [
        " : http://www.fht360.com/productlist/319/14777-2-2137.html\n",
        "0.30"
       ]
      },
      {
       "output_type": "stream",
       "stream": "stdout",
       "text": [
        " : http://www.fht360.com/productlist/374/14131-4.html\n",
        "0.85"
       ]
      },
      {
       "output_type": "stream",
       "stream": "stdout",
       "text": [
        " : http://www.fht360.com/productlist/385-466.html\n",
        "0.86"
       ]
      },
      {
       "output_type": "stream",
       "stream": "stdout",
       "text": [
        " : http://www.fht360.com/productlist/387-34.html\n",
        "1.29"
       ]
      },
      {
       "output_type": "stream",
       "stream": "stdout",
       "text": [
        " : http://www.fht360.com/productlist/381-2.html\n",
        "0.99"
       ]
      },
      {
       "output_type": "stream",
       "stream": "stdout",
       "text": [
        " : http://www.fht360.com/companylist/37-2-2186.html\n",
        "0.48"
       ]
      },
      {
       "output_type": "stream",
       "stream": "stdout",
       "text": [
        " : http://www.fht360.com/companylist/48/3-2-2190.html\n",
        "0.44"
       ]
      },
      {
       "output_type": "stream",
       "stream": "stdout",
       "text": [
        " : http://www.fht360.com/productlist/234/15649-2-1260.html\n",
        "0.27"
       ]
      },
      {
       "output_type": "stream",
       "stream": "stdout",
       "text": [
        " : http://www.fht360.com/productlist/331/10004-2.html\n",
        "0.44"
       ]
      },
      {
       "output_type": "stream",
       "stream": "stdout",
       "text": [
        " : http://www.fht360.com/productlist/334-7-1260.html\n",
        "0.53"
       ]
      },
      {
       "output_type": "stream",
       "stream": "stdout",
       "text": [
        " : http://www.fht360.com/productlist/260-4-39.html\n",
        "0.14"
       ]
      },
      {
       "output_type": "stream",
       "stream": "stdout",
       "text": [
        " : http://www.fht360.com/productlist/331/10003-19.html\n",
        "0.50"
       ]
      },
      {
       "output_type": "stream",
       "stream": "stdout",
       "text": [
        " : http://www.fht360.com/productlist/277/89-4-1122.html\n",
        "0.55"
       ]
      },
      {
       "output_type": "stream",
       "stream": "stdout",
       "text": [
        " : http://www.fht360.com/companylist/54/10060-2.html\n",
        "0.49"
       ]
      },
      {
       "output_type": "stream",
       "stream": "stdout",
       "text": [
        " : http://www.fht360.com/companylist/45/10060-2.html\n",
        "0.46"
       ]
      },
      {
       "output_type": "stream",
       "stream": "stdout",
       "text": [
        " : http://www.fht360.com/companylist/45/10063-2.html\n",
        "0.59"
       ]
      },
      {
       "output_type": "stream",
       "stream": "stdout",
       "text": [
        " : http://www.fht360.com/companylist/45/10069-2.html\n",
        "0.25"
       ]
      },
      {
       "output_type": "stream",
       "stream": "stdout",
       "text": [
        " : http://www.fht360.com/productlist/323/12066-2.html\n",
        "0.44"
       ]
      },
      {
       "output_type": "stream",
       "stream": "stdout",
       "text": [
        " : http://www.fht360.com/productlist/309/76-4-1009.html\n",
        "0.47"
       ]
      },
      {
       "output_type": "stream",
       "stream": "stdout",
       "text": [
        " : http://www.fht360.com/companylist/167-2-991.html\n",
        "0.51"
       ]
      },
      {
       "output_type": "stream",
       "stream": "stdout",
       "text": [
        " : http://www.fht360.com/productlist/245-1-20.html\n",
        "0.46"
       ]
      },
      {
       "output_type": "stream",
       "stream": "stdout",
       "text": [
        " : http://www.fht360.com/productlist/227-12-860.html\n",
        "0.30"
       ]
      },
      {
       "output_type": "stream",
       "stream": "stdout",
       "text": [
        " : http://www.fht360.com/productlist/302/11850-4.html\n",
        "0.47"
       ]
      },
      {
       "output_type": "stream",
       "stream": "stdout",
       "text": [
        " : http://www.fht360.com/companylist/48/3-2-499.html\n",
        "1.04"
       ]
      },
      {
       "output_type": "stream",
       "stream": "stdout",
       "text": [
        " : http://www.fht360.com/productlist/341/11762-5-2137.html\n",
        "0.97"
       ]
      },
      {
       "output_type": "stream",
       "stream": "stdout",
       "text": [
        " : http://www.fht360.com/productlist/343/10783-2-2137.html\n",
        "0.65"
       ]
      },
      {
       "output_type": "stream",
       "stream": "stdout",
       "text": [
        " : http://www.fht360.com/productlist/264-11-880.html\n",
        "0.49"
       ]
      },
      {
       "output_type": "stream",
       "stream": "stdout",
       "text": [
        " : http://www.fht360.com/productlist/231/12000-13-1487.html\n",
        "0.60"
       ]
      },
      {
       "output_type": "stream",
       "stream": "stdout",
       "text": [
        " : http://www.fht360.com/companylist/54/10882-2.html\n",
        "0.52"
       ]
      },
      {
       "output_type": "stream",
       "stream": "stdout",
       "text": [
        " : http://www.fht360.com/companylist/54/10887-2.html\n",
        "0.31"
       ]
      },
      {
       "output_type": "stream",
       "stream": "stdout",
       "text": [
        " : http://www.fht360.com/productlist/228/11937-3.html\n",
        "0.69"
       ]
      },
      {
       "output_type": "stream",
       "stream": "stdout",
       "text": [
        " : http://www.fht360.com/productlist/227-3-1987.html\n",
        "0.47"
       ]
      },
      {
       "output_type": "stream",
       "stream": "stdout",
       "text": [
        " : http://www.fht360.com/productlist/345-3-1487.html\n",
        "0.47"
       ]
      },
      {
       "output_type": "stream",
       "stream": "stdout",
       "text": [
        " : http://www.fht360.com/companylist/162/3-2-924.html\n",
        "0.31"
       ]
      },
      {
       "output_type": "stream",
       "stream": "stdout",
       "text": [
        " : http://www.fht360.com/productlist/369/13974-4.html\n",
        "0.69"
       ]
      },
      {
       "output_type": "stream",
       "stream": "stdout",
       "text": [
        " : http://www.fht360.com/productlist/227/12210-4-2137.html\n",
        "2.20"
       ]
      },
      {
       "output_type": "stream",
       "stream": "stdout",
       "text": [
        " : http://www.fht360.com/productlist/334/12421-65-2137.html\n",
        "0.63"
       ]
      },
      {
       "output_type": "stream",
       "stream": "stdout",
       "text": [
        " : http://www.fht360.com/companylist/170-2-2137.html\n",
        "1.15"
       ]
      },
      {
       "output_type": "stream",
       "stream": "stdout",
       "text": [
        " : http://www.fht360.com/companylist/34-3-860.html\n",
        "1.52"
       ]
      },
      {
       "output_type": "stream",
       "stream": "stdout",
       "text": [
        " : http://www.fht360.com/productlist/351/13582-10.html\n",
        "0.07"
       ]
      },
      {
       "output_type": "stream",
       "stream": "stdout",
       "text": [
        " : http://www.fht360.com/productlist/238/131-8.html\n",
        "0.34"
       ]
      },
      {
       "output_type": "stream",
       "stream": "stdout",
       "text": [
        " : http://www.fht360.com/productlist/238/135-2.html\n",
        "1.62"
       ]
      },
      {
       "output_type": "stream",
       "stream": "stdout",
       "text": [
        " : http://www.fht360.com/productlist/238/134-2.html\n",
        "0.55"
       ]
      },
      {
       "output_type": "stream",
       "stream": "stdout",
       "text": [
        " : http://www.fht360.com/companylist/162-2-2190.html\n",
        "0.43"
       ]
      },
      {
       "output_type": "stream",
       "stream": "stdout",
       "text": [
        " : http://www.fht360.com/companylist/143-5.html\n",
        "0.57"
       ]
      },
      {
       "output_type": "stream",
       "stream": "stdout",
       "text": [
        " : http://www.fht360.com/companylist/142-8.html\n",
        "0.59"
       ]
      },
      {
       "output_type": "stream",
       "stream": "stdout",
       "text": [
        " : http://www.fht360.com/companylist/141-3.html\n",
        "0.47"
       ]
      },
      {
       "output_type": "stream",
       "stream": "stdout",
       "text": [
        " : http://www.fht360.com/companylist/140-2.html\n",
        "0.63"
       ]
      },
      {
       "output_type": "stream",
       "stream": "stdout",
       "text": [
        " : http://www.fht360.com/companylist/145-3.html\n",
        "0.56"
       ]
      },
      {
       "output_type": "stream",
       "stream": "stdout",
       "text": [
        " : http://www.fht360.com/companylist/144-2.html\n",
        "0.57"
       ]
      },
      {
       "output_type": "stream",
       "stream": "stdout",
       "text": [
        " : http://www.fht360.com/companylist/149-2.html\n",
        "0.51"
       ]
      },
      {
       "output_type": "stream",
       "stream": "stdout",
       "text": [
        " : http://www.fht360.com/companylist/148-3.html\n",
        "0.47"
       ]
      },
      {
       "output_type": "stream",
       "stream": "stdout",
       "text": [
        " : http://www.fht360.com/companylist/162/3-2-1276.html\n",
        "0.66"
       ]
      },
      {
       "output_type": "stream",
       "stream": "stdout",
       "text": [
        " : http://www.fht360.com/productlist/415-8-860.html\n",
        "1.04"
       ]
      },
      {
       "output_type": "stream",
       "stream": "stdout",
       "text": [
        " : http://www.fht360.com/productlist/248/159-10.html\n",
        "0.47"
       ]
      },
      {
       "output_type": "stream",
       "stream": "stdout",
       "text": [
        " : http://www.fht360.com/productlist/280/2031-2-2137.html\n",
        "1.12"
       ]
      },
      {
       "output_type": "stream",
       "stream": "stdout",
       "text": [
        " : http://www.fht360.com/productlist/264/159-10.html\n",
        "0.36"
       ]
      },
      {
       "output_type": "stream",
       "stream": "stdout",
       "text": [
        " : http://www.fht360.com/productlist/264/187-2.html\n",
        "0.46"
       ]
      },
      {
       "output_type": "stream",
       "stream": "stdout",
       "text": [
        " : http://www.fht360.com/companylist/244/10859-2.html\n",
        "0.43"
       ]
      },
      {
       "output_type": "stream",
       "stream": "stdout",
       "text": [
        " : http://www.fht360.com/productlist/438/10003-8-1487.html\n",
        "0.47"
       ]
      },
      {
       "output_type": "stream",
       "stream": "stdout",
       "text": [
        " : http://www.fht360.com/companylist/164-4-1.html\n",
        "0.42"
       ]
      },
      {
       "output_type": "stream",
       "stream": "stdout",
       "text": [
        " : http://www.fht360.com/productlist/345-2-1662.html\n",
        "0.51"
       ]
      },
      {
       "output_type": "stream",
       "stream": "stdout",
       "text": [
        " : http://www.fht360.com/productlist/248-2-1.html\n",
        "0.64"
       ]
      },
      {
       "output_type": "stream",
       "stream": "stdout",
       "text": [
        " : http://www.fht360.com/productlist/309-3-860.html\n",
        "0.47"
       ]
      },
      {
       "output_type": "stream",
       "stream": "stdout",
       "text": [
        " : http://www.fht360.com/companylist/164/3-2-191.html\n",
        "0.43"
       ]
      },
      {
       "output_type": "stream",
       "stream": "stdout",
       "text": [
        " : http://www.fht360.com/productlist/238/1005-2-1487.html\n",
        "1.01"
       ]
      },
      {
       "output_type": "stream",
       "stream": "stdout",
       "text": [
        " : http://www.fht360.com/companylist/177-2-2137.html\n",
        "1.66"
       ]
      },
      {
       "output_type": "stream",
       "stream": "stdout",
       "text": [
        " : http://www.fht360.com/productlist/280-4-39.html\n",
        "0.78"
       ]
      },
      {
       "output_type": "stream",
       "stream": "stdout",
       "text": [
        " : http://www.fht360.com/companylist/184/10835-2.html\n",
        "3.71"
       ]
      },
      {
       "output_type": "stream",
       "stream": "stdout",
       "text": [
        " : http://www.fht360.com/productlist/343/17632-3-2137.html\n",
        "0.47"
       ]
      },
      {
       "output_type": "stream",
       "stream": "stdout",
       "text": [
        " : http://www.fht360.com/productlist/260/8-27-880.html\n",
        "1.32"
       ]
      },
      {
       "output_type": "stream",
       "stream": "stdout",
       "text": [
        " : http://www.fht360.com/companylist/167/3-2-1051.html\n",
        "0.35"
       ]
      },
      {
       "output_type": "stream",
       "stream": "stdout",
       "text": [
        " : http://www.fht360.com/productlist/387/19091-2-860.html\n",
        "0.44"
       ]
      },
      {
       "output_type": "stream",
       "stream": "stdout",
       "text": [
        " : http://www.fht360.com/productlist/231/507-11-39.html\n",
        "0.48"
       ]
      },
      {
       "output_type": "stream",
       "stream": "stdout",
       "text": [
        " : http://www.fht360.com/companylist/164-2-191.html\n",
        "0.37"
       ]
      },
      {
       "output_type": "stream",
       "stream": "stdout",
       "text": [
        " : http://www.fht360.com/productlist/358/1650-2.html\n",
        "0.53"
       ]
      },
      {
       "output_type": "stream",
       "stream": "stdout",
       "text": [
        " : http://www.fht360.com/productlist/324/12421-2-1364.html\n",
        "0.56"
       ]
      },
      {
       "output_type": "stream",
       "stream": "stdout",
       "text": [
        " : http://www.fht360.com/productlist/264/159-3-39.html\n",
        "0.43"
       ]
      },
      {
       "output_type": "stream",
       "stream": "stdout",
       "text": [
        " : http://www.fht360.com/productlist/395/14724-6-2137.html\n",
        "0.33"
       ]
      },
      {
       "output_type": "stream",
       "stream": "stdout",
       "text": [
        " : http://www.fht360.com/productlist/239/340-20.html\n",
        "0.64"
       ]
      },
      {
       "output_type": "stream",
       "stream": "stdout",
       "text": [
        " : http://www.fht360.com/companylist/39/10501-2.html\n",
        "0.74"
       ]
      },
      {
       "output_type": "stream",
       "stream": "stdout",
       "text": [
        " : http://www.fht360.com/companylist/48/3-2-1070.html\n",
        "0.46"
       ]
      },
      {
       "output_type": "stream",
       "stream": "stdout",
       "text": [
        " : http://www.fht360.com/productlist/251/8-3-1662.html\n",
        "0.42"
       ]
      },
      {
       "output_type": "stream",
       "stream": "stdout",
       "text": [
        " : http://www.fht360.com/productlist/438/10003-4-39.html\n",
        "0.76"
       ]
      },
      {
       "output_type": "stream",
       "stream": "stdout",
       "text": [
        " : http://www.fht360.com/productlist/277-3-860.html\n",
        "0.57"
       ]
      },
      {
       "output_type": "stream",
       "stream": "stdout",
       "text": [
        " : http://www.fht360.com/companylist/139/10720-2.html\n",
        "0.50"
       ]
      },
      {
       "output_type": "stream",
       "stream": "stdout",
       "text": [
        " : http://www.fht360.com/companylist/47-3-2164.html\n",
        "0.71"
       ]
      },
      {
       "output_type": "stream",
       "stream": "stdout",
       "text": [
        " : http://www.fht360.com/productlist/228-5-39.html\n",
        "0.45"
       ]
      },
      {
       "output_type": "stream",
       "stream": "stdout",
       "text": [
        " : http://www.fht360.com/companylist/43-2-860.html\n",
        "0.48"
       ]
      },
      {
       "output_type": "stream",
       "stream": "stdout",
       "text": [
        " : http://www.fht360.com/companylist/162/3-2-1070.html\n",
        "0.43"
       ]
      },
      {
       "output_type": "stream",
       "stream": "stdout",
       "text": [
        " : http://www.fht360.com/productlist/283/17261-2-3065.html\n",
        "0.26"
       ]
      },
      {
       "output_type": "stream",
       "stream": "stdout",
       "text": [
        " : http://www.fht360.com/productlist/351/13621-2.html\n",
        "0.47"
       ]
      },
      {
       "output_type": "stream",
       "stream": "stdout",
       "text": [
        " : http://www.fht360.com/companylist/162/3-2-706.html\n",
        "0.42"
       ]
      },
      {
       "output_type": "stream",
       "stream": "stdout",
       "text": [
        " : http://www.fht360.com/productlist/438-4-39.html\n",
        "0.28"
       ]
      },
      {
       "output_type": "stream",
       "stream": "stdout",
       "text": [
        " : http://www.fht360.com/productlist/231/7898-3.html\n",
        "0.55"
       ]
      },
      {
       "output_type": "stream",
       "stream": "stdout",
       "text": [
        " : http://www.fht360.com/companylist/137-6-2278.html\n",
        "1.10"
       ]
      },
      {
       "output_type": "stream",
       "stream": "stdout",
       "text": [
        " : http://www.fht360.com/productlist/424-38-1260.html\n",
        "0.57"
       ]
      },
      {
       "output_type": "stream",
       "stream": "stdout",
       "text": [
        " : http://www.fht360.com/companylist/78-2-880.html\n",
        "1.15"
       ]
      },
      {
       "output_type": "stream",
       "stream": "stdout",
       "text": [
        " : http://www.fht360.com/productlist/359/12329-3-860.html\n",
        "1.04"
       ]
      },
      {
       "output_type": "stream",
       "stream": "stdout",
       "text": [
        " : http://www.fht360.com/productlist/283/97-6-1487.html\n",
        "0.47"
       ]
      },
      {
       "output_type": "stream",
       "stream": "stdout",
       "text": [
        " : http://www.fht360.com/companylist/165/3-6-2169.html\n",
        "1.39"
       ]
      },
      {
       "output_type": "stream",
       "stream": "stdout",
       "text": [
        " : http://www.fht360.com/productlist/433/15239-2-1487.html\n",
        "1.25"
       ]
      },
      {
       "output_type": "stream",
       "stream": "stdout",
       "text": [
        " : http://www.fht360.com/productlist/431/14724-6-2137.html\n",
        "0.47"
       ]
      },
      {
       "output_type": "stream",
       "stream": "stdout",
       "text": [
        " : http://www.fht360.com/companylist/162/3-2-881.html\n",
        "0.48"
       ]
      },
      {
       "output_type": "stream",
       "stream": "stdout",
       "text": [
        " : http://www.fht360.com/companylist/162/3-22-880.html\n",
        "0.41"
       ]
      },
      {
       "output_type": "stream",
       "stream": "stdout",
       "text": [
        " : http://www.fht360.com/productlist/273-4-1487.html\n",
        "0.46"
       ]
      },
      {
       "output_type": "stream",
       "stream": "stdout",
       "text": [
        " : http://www.fht360.com/productlist/341-4-1487.html\n",
        "0.58"
       ]
      },
      {
       "output_type": "stream",
       "stream": "stdout",
       "text": [
        " : http://www.fht360.com/productlist/435-4-39.html\n",
        "0.47"
       ]
      },
      {
       "output_type": "stream",
       "stream": "stdout",
       "text": [
        " : http://www.fht360.com/companylist/212-2-2137.html\n",
        "0.34"
       ]
      },
      {
       "output_type": "stream",
       "stream": "stdout",
       "text": [
        " : http://www.fht360.com/productlist/379/19091-2-860.html\n",
        "0.26"
       ]
      },
      {
       "output_type": "stream",
       "stream": "stdout",
       "text": [
        " : http://www.fht360.com/productlist/247/13319-13.html\n",
        "0.42"
       ]
      },
      {
       "output_type": "stream",
       "stream": "stdout",
       "text": [
        " : http://www.fht360.com/productlist/363/13572-3-1487.html\n",
        "0.16"
       ]
      },
      {
       "output_type": "stream",
       "stream": "stdout",
       "text": [
        " : http://www.fht360.com/productlist/266-20.html\n",
        "0.71"
       ]
      },
      {
       "output_type": "stream",
       "stream": "stdout",
       "text": [
        " : http://www.fht360.com/productlist/264-60.html\n",
        "0.70"
       ]
      },
      {
       "output_type": "stream",
       "stream": "stdout",
       "text": [
        " : http://www.fht360.com/productlist/262-20.html\n",
        "0.71"
       ]
      },
      {
       "output_type": "stream",
       "stream": "stdout",
       "text": [
        " : http://www.fht360.com/productlist/263-57.html\n",
        "0.13"
       ]
      },
      {
       "output_type": "stream",
       "stream": "stdout",
       "text": [
        " : http://www.fht360.com/productlist/261-28.html\n",
        "1.18"
       ]
      },
      {
       "output_type": "stream",
       "stream": "stdout",
       "text": [
        " : http://www.fht360.com/productlist/437/51-2-1009.html\n",
        "0.33"
       ]
      },
      {
       "output_type": "stream",
       "stream": "stdout",
       "text": [
        " : http://www.fht360.com/productlist/310/10931-5.html\n",
        "0.51"
       ]
      },
      {
       "output_type": "stream",
       "stream": "stdout",
       "text": [
        " : http://www.fht360.com/companylist/210/4-4-1487.html\n",
        "0.56"
       ]
      },
      {
       "output_type": "stream",
       "stream": "stdout",
       "text": [
        " : http://www.fht360.com/companylist/67/10362-2.html\n",
        "0.38"
       ]
      },
      {
       "output_type": "stream",
       "stream": "stdout",
       "text": [
        " : http://www.fht360.com/productlist/272/3609-2-1487.html\n",
        "0.47"
       ]
      },
      {
       "output_type": "stream",
       "stream": "stdout",
       "text": [
        " : http://www.fht360.com/productlist/234/3349-2.html\n",
        "0.14"
       ]
      },
      {
       "output_type": "stream",
       "stream": "stdout",
       "text": [
        " : http://www.fht360.com/productlist/264/390-15.html\n",
        "0.56"
       ]
      },
      {
       "output_type": "stream",
       "stream": "stdout",
       "text": [
        " : http://www.fht360.com/companylist/210/4-2-1488.html\n",
        "0.25"
       ]
      },
      {
       "output_type": "stream",
       "stream": "stdout",
       "text": [
        " : http://www.fht360.com/productlist/335/12753-3.html\n",
        "0.48"
       ]
      },
      {
       "output_type": "stream",
       "stream": "stdout",
       "text": [
        " : http://www.fht360.com/companylist/162-2-706.html\n",
        "0.32"
       ]
      },
      {
       "output_type": "stream",
       "stream": "stdout",
       "text": [
        " : http://www.fht360.com/productlist/334/7903-2.html\n",
        "0.34"
       ]
      },
      {
       "output_type": "stream",
       "stream": "stdout",
       "text": [
        " : http://www.fht360.com/productlist/432/14833-12.html\n",
        "0.28"
       ]
      },
      {
       "output_type": "stream",
       "stream": "stdout",
       "text": [
        " : http://www.fht360.com/productlist/246/13443-3.html\n",
        "0.27"
       ]
      },
      {
       "output_type": "stream",
       "stream": "stdout",
       "text": [
        " : http://www.fht360.com/productlist/299/10445-2.html\n",
        "0.46"
       ]
      },
      {
       "output_type": "stream",
       "stream": "stdout",
       "text": [
        " : http://www.fht360.com/productlist/234/15624-4-1487.html\n",
        "0.46"
       ]
      },
      {
       "output_type": "stream",
       "stream": "stdout",
       "text": [
        " : http://www.fht360.com/productlist/351-5-1260.html\n",
        "0.29"
       ]
      },
      {
       "output_type": "stream",
       "stream": "stdout",
       "text": [
        " : http://www.fht360.com/productlist/246/12331-3.html\n",
        "0.50"
       ]
      },
      {
       "output_type": "stream",
       "stream": "stdout",
       "text": [
        " : http://www.fht360.com/productlist/324/12421-5-1260.html\n",
        "0.55"
       ]
      },
      {
       "output_type": "stream",
       "stream": "stdout",
       "text": [
        " : http://www.fht360.com/productlist/241/16044-2-2137.html\n",
        "0.51"
       ]
      },
      {
       "output_type": "stream",
       "stream": "stdout",
       "text": [
        " : http://www.fht360.com/companylist/164/3-3-2144.html\n",
        "0.47"
       ]
      },
      {
       "output_type": "stream",
       "stream": "stdout",
       "text": [
        " : http://www.fht360.com/companylist/164/3-2-2147.html\n",
        "0.47"
       ]
      },
      {
       "output_type": "stream",
       "stream": "stdout",
       "text": [
        " : http://www.fht360.com/companylist/164/3-2-2143.html\n",
        "0.38"
       ]
      },
      {
       "output_type": "stream",
       "stream": "stdout",
       "text": [
        " : http://www.fht360.com/productlist/227/10511-5-1009.html\n",
        "0.52"
       ]
      },
      {
       "output_type": "stream",
       "stream": "stdout",
       "text": [
        " : http://www.fht360.com/productlist/236-2-1122.html\n",
        "0.47"
       ]
      },
      {
       "output_type": "stream",
       "stream": "stdout",
       "text": [
        " : http://www.fht360.com/companylist/165-3-1500.html\n",
        "0.51"
       ]
      },
      {
       "output_type": "stream",
       "stream": "stdout",
       "text": [
        " : http://www.fht360.com/companylist/189/10465-2.html\n",
        "0.33"
       ]
      },
      {
       "output_type": "stream",
       "stream": "stdout",
       "text": [
        " : http://www.fht360.com/productlist/231/37-2.html\n",
        "0.31"
       ]
      },
      {
       "output_type": "stream",
       "stream": "stdout",
       "text": [
        " : http://www.fht360.com/productlist/332/2995-2.html\n",
        "2.11"
       ]
      },
      {
       "output_type": "stream",
       "stream": "stdout",
       "text": [
        " : http://www.fht360.com/productlist/424/2-41-1.html\n",
        "0.85"
       ]
      },
      {
       "output_type": "stream",
       "stream": "stdout",
       "text": [
        " : http://www.fht360.com/productlist/356/13402-7.html\n",
        "0.39"
       ]
      },
      {
       "output_type": "stream",
       "stream": "stdout",
       "text": [
        " : http://www.fht360.com/productlist/402-6.html\n",
        "0.42"
       ]
      },
      {
       "output_type": "stream",
       "stream": "stdout",
       "text": [
        " : http://www.fht360.com/productlist/305-4-2137.html\n",
        "0.33"
       ]
      },
      {
       "output_type": "stream",
       "stream": "stdout",
       "text": [
        " : http://www.fht360.com/productlist/309/12114-6.html\n",
        "0.30"
       ]
      },
      {
       "output_type": "stream",
       "stream": "stdout",
       "text": [
        " : http://www.fht360.com/productlist/400-2.html\n",
        "0.48"
       ]
      },
      {
       "output_type": "stream",
       "stream": "stdout",
       "text": [
        " : http://www.fht360.com/companylist/37/8-2-991.html\n",
        "0.30"
       ]
      },
      {
       "output_type": "stream",
       "stream": "stdout",
       "text": [
        " : http://www.fht360.com/productlist/401-7.html\n",
        "0.39"
       ]
      },
      {
       "output_type": "stream",
       "stream": "stdout",
       "text": [
        " : http://www.fht360.com/productlist/231/13324-6-2137.html\n",
        "0.40"
       ]
      },
      {
       "output_type": "stream",
       "stream": "stdout",
       "text": [
        " : http://www.fht360.com/productlist/433/15235-2-39.html\n",
        "0.86"
       ]
      },
      {
       "output_type": "stream",
       "stream": "stdout",
       "text": [
        " : http://www.fht360.com/companylist/162/3-3-40.html\n",
        "0.36"
       ]
      },
      {
       "output_type": "stream",
       "stream": "stdout",
       "text": [
        " : http://www.fht360.com/productlist/226/7869-2.html\n",
        "0.89"
       ]
      },
      {
       "output_type": "stream",
       "stream": "stdout",
       "text": [
        " : http://www.fht360.com/productlist/361/13127-3.html\n",
        "1.02"
       ]
      },
      {
       "output_type": "stream",
       "stream": "stdout",
       "text": [
        " : http://www.fht360.com/productlist/301-24-880.html\n",
        "0.69"
       ]
      },
      {
       "output_type": "stream",
       "stream": "stdout",
       "text": [
        " : http://www.fht360.com/productlist/341/12855-2-2137.html\n",
        "0.88"
       ]
      },
      {
       "output_type": "stream",
       "stream": "stdout",
       "text": [
        " : http://www.fht360.com/productlist/335-8-880.html\n",
        "0.31"
       ]
      },
      {
       "output_type": "stream",
       "stream": "stdout",
       "text": [
        " : http://www.fht360.com/productlist/375/3386-2.html\n",
        "0.50"
       ]
      },
      {
       "output_type": "stream",
       "stream": "stdout",
       "text": [
        " : http://www.fht360.com/productlist/237-5-2137.html\n",
        "0.49"
       ]
      },
      {
       "output_type": "stream",
       "stream": "stdout",
       "text": [
        " : http://www.fht360.com/productlist/321-4.html\n",
        "0.53"
       ]
      },
      {
       "output_type": "stream",
       "stream": "stdout",
       "text": [
        " : http://www.fht360.com/companylist/167/3-13-1009.html\n",
        "0.35"
       ]
      },
      {
       "output_type": "stream",
       "stream": "stdout",
       "text": [
        " : http://www.fht360.com/productlist/237/10451-2-1009.html\n",
        "0.47"
       ]
      },
      {
       "output_type": "stream",
       "stream": "stdout",
       "text": [
        " : http://www.fht360.com/companylist/165-3-40.html\n",
        "0.26"
       ]
      },
      {
       "output_type": "stream",
       "stream": "stdout",
       "text": [
        " : http://www.fht360.com/productlist/237/10402-2.html\n",
        "0.44"
       ]
      },
      {
       "output_type": "stream",
       "stream": "stdout",
       "text": [
        " : http://www.fht360.com/productlist/274-10-880.html\n",
        "0.48"
       ]
      },
      {
       "output_type": "stream",
       "stream": "stdout",
       "text": [
        " : http://www.fht360.com/productlist/301/7857-3-39.html\n",
        "0.45"
       ]
      },
      {
       "output_type": "stream",
       "stream": "stdout",
       "text": [
        " : http://www.fht360.com/productlist/247-2-39.html\n",
        "0.43"
       ]
      },
      {
       "output_type": "stream",
       "stream": "stdout",
       "text": [
        " : http://www.fht360.com/companylist/83-3-880.html\n",
        "0.60"
       ]
      },
      {
       "output_type": "stream",
       "stream": "stdout",
       "text": [
        " : http://www.fht360.com/companylist/74/10297-2.html\n",
        "1.14"
       ]
      },
      {
       "output_type": "stream",
       "stream": "stdout",
       "text": [
        " : http://www.fht360.com/companylist/34/10266-2.html\n",
        "4.49"
       ]
      },
      {
       "output_type": "stream",
       "stream": "stdout",
       "text": [
        " : http://www.fht360.com/companylist/34/10269-2.html\n",
        "2.51"
       ]
      },
      {
       "output_type": "stream",
       "stream": "stdout",
       "text": [
        " : http://www.fht360.com/productlist/231/7-69.html\n",
        "1.82"
       ]
      },
      {
       "output_type": "stream",
       "stream": "stdout",
       "text": [
        " : http://www.fht360.com/productlist/233/15982-13.html\n",
        "0.50"
       ]
      },
      {
       "output_type": "stream",
       "stream": "stdout",
       "text": [
        " : http://www.fht360.com/companylist/37/10783-2.html\n",
        "0.59"
       ]
      },
      {
       "output_type": "stream",
       "stream": "stdout",
       "text": [
        " : http://www.fht360.com/productlist/246/13237-4-2137.html\n",
        "0.67"
       ]
      },
      {
       "output_type": "stream",
       "stream": "stdout",
       "text": [
        " : http://www.fht360.com/productlist/239/340-2-1662.html\n",
        "0.56"
       ]
      },
      {
       "output_type": "stream",
       "stream": "stdout",
       "text": [
        " : http://www.fht360.com/companylist/68/10307-2.html\n",
        "0.61"
       ]
      },
      {
       "output_type": "stream",
       "stream": "stdout",
       "text": [
        " : http://www.fht360.com/companylist/68/10306-2.html\n",
        "1.32"
       ]
      },
      {
       "output_type": "stream",
       "stream": "stdout",
       "text": [
        " : http://www.fht360.com/companylist/68/10300-2.html\n",
        "0.52"
       ]
      },
      {
       "output_type": "stream",
       "stream": "stdout",
       "text": [
        " : http://www.fht360.com/productlist/247/42-5.html\n",
        "0.44"
       ]
      },
      {
       "output_type": "stream",
       "stream": "stdout",
       "text": [
        " : http://www.fht360.com/productlist/337/12188-9.html\n",
        "0.53"
       ]
      },
      {
       "output_type": "stream",
       "stream": "stdout",
       "text": [
        " : http://www.fht360.com/productlist/337/12182-8.html\n",
        "0.50"
       ]
      },
      {
       "output_type": "stream",
       "stream": "stdout",
       "text": [
        " : http://www.fht360.com/companylist/58-2-2137.html\n",
        "0.46"
       ]
      },
      {
       "output_type": "stream",
       "stream": "stdout",
       "text": [
        " : http://www.fht360.com/productlist/231/11053-4.html\n",
        "0.43"
       ]
      },
      {
       "output_type": "stream",
       "stream": "stdout",
       "text": [
        " : http://www.fht360.com/productlist/400/19080-2.html\n",
        "0.71"
       ]
      },
      {
       "output_type": "stream",
       "stream": "stdout",
       "text": [
        " : http://www.fht360.com/productlist/351-2-2830.html\n",
        "0.62"
       ]
      },
      {
       "output_type": "stream",
       "stream": "stdout",
       "text": [
        " : http://www.fht360.com/productlist/427/12171-10.html\n",
        "0.71"
       ]
      },
      {
       "output_type": "stream",
       "stream": "stdout",
       "text": [
        " : http://www.fht360.com/productlist/351/13572-3-1487.html\n",
        "0.57"
       ]
      },
      {
       "output_type": "stream",
       "stream": "stdout",
       "text": [
        " : http://www.fht360.com/companylist/137/10187-2.html\n",
        "0.54"
       ]
      },
      {
       "output_type": "stream",
       "stream": "stdout",
       "text": [
        " : http://www.fht360.com/companylist/137/10181-2.html\n",
        "0.56"
       ]
      },
      {
       "output_type": "stream",
       "stream": "stdout",
       "text": [
        " : http://www.fht360.com/companylist/137/10182-2.html\n",
        "0.69"
       ]
      },
      {
       "output_type": "stream",
       "stream": "stdout",
       "text": [
        " : http://www.fht360.com/productlist/284-3-1009.html\n",
        "0.66"
       ]
      },
      {
       "output_type": "stream",
       "stream": "stdout",
       "text": [
        " : http://www.fht360.com/productlist/259/615-4-1487.html\n",
        "0.69"
       ]
      },
      {
       "output_type": "stream",
       "stream": "stdout",
       "text": [
        " : http://www.fht360.com/productlist/432-4-1487.html\n",
        "0.64"
       ]
      },
      {
       "output_type": "stream",
       "stream": "stdout",
       "text": [
        " : http://www.fht360.com/productlist/375-3-1662.html\n",
        "0.51"
       ]
      },
      {
       "output_type": "stream",
       "stream": "stdout",
       "text": [
        " : http://www.fht360.com/companylist/193-3-2137.html\n",
        "0.58"
       ]
      },
      {
       "output_type": "stream",
       "stream": "stdout",
       "text": [
        " : http://www.fht360.com/productlist/231/15786-3-2137.html\n",
        "0.53"
       ]
      },
      {
       "output_type": "stream",
       "stream": "stdout",
       "text": [
        " : http://www.fht360.com/productlist/239/564-5.html\n",
        "0.48"
       ]
      },
      {
       "output_type": "stream",
       "stream": "stdout",
       "text": [
        " : http://www.fht360.com/companylist/167-3-918.html\n",
        "0.27"
       ]
      },
      {
       "output_type": "stream",
       "stream": "stdout",
       "text": [
        " : http://www.fht360.com/productlist/235-4-1662.html\n",
        "0.61"
       ]
      },
      {
       "output_type": "stream",
       "stream": "stdout",
       "text": [
        " : http://www.fht360.com/companylist/184-2-2164.html\n",
        "0.58"
       ]
      },
      {
       "output_type": "stream",
       "stream": "stdout",
       "text": [
        " : http://www.fht360.com/productlist/234/307-6-1487.html\n",
        "0.53"
       ]
      },
      {
       "output_type": "stream",
       "stream": "stdout",
       "text": [
        " : http://www.fht360.com/companylist/164-2-1987.html\n",
        "0.56"
       ]
      },
      {
       "output_type": "stream",
       "stream": "stdout",
       "text": [
        " : http://www.fht360.com/companylist/86/8-4.html\n",
        "0.62"
       ]
      },
      {
       "output_type": "stream",
       "stream": "stdout",
       "text": [
        " : http://www.fht360.com/productlist/264/390-4-1.html\n",
        "0.74"
       ]
      },
      {
       "output_type": "stream",
       "stream": "stdout",
       "text": [
        " : http://www.fht360.com/productlist/264/15756-6.html\n",
        "0.84"
       ]
      },
      {
       "output_type": "stream",
       "stream": "stdout",
       "text": [
        " : http://www.fht360.com/productlist/233/640-2-2137.html\n",
        "0.60"
       ]
      },
      {
       "output_type": "stream",
       "stream": "stdout",
       "text": [
        " : http://www.fht360.com/companylist/52-3-2278.html\n",
        "0.58"
       ]
      },
      {
       "output_type": "stream",
       "stream": "stdout",
       "text": [
        " : http://www.fht360.com/productlist/234/10348-3-880.html\n",
        "0.63"
       ]
      },
      {
       "output_type": "stream",
       "stream": "stdout",
       "text": [
        " : http://www.fht360.com/productlist/239/2113-2-1009.html\n",
        "0.48"
       ]
      },
      {
       "output_type": "stream",
       "stream": "stdout",
       "text": [
        " : http://www.fht360.com/companylist/162/3-2-3065.html\n",
        "0.47"
       ]
      },
      {
       "output_type": "stream",
       "stream": "stdout",
       "text": [
        " : http://www.fht360.com/companylist/39/10514-2-2137.html\n",
        "0.56"
       ]
      },
      {
       "output_type": "stream",
       "stream": "stdout",
       "text": [
        " : http://www.fht360.com/productlist/231/15792-4-880.html\n",
        "0.88"
       ]
      },
      {
       "output_type": "stream",
       "stream": "stdout",
       "text": [
        " : http://www.fht360.com/productlist/326/70-2-2137.html\n",
        "0.49"
       ]
      },
      {
       "output_type": "stream",
       "stream": "stdout",
       "text": [
        " : http://www.fht360.com/companylist/76-2-2164.html\n",
        "0.29"
       ]
      },
      {
       "output_type": "stream",
       "stream": "stdout",
       "text": [
        " : http://www.fht360.com/productlist/233-8-1662.html\n",
        "0.12"
       ]
      },
      {
       "output_type": "stream",
       "stream": "stdout",
       "text": [
        " : http://www.fht360.com/productlist/372-7.html\n",
        "0.74"
       ]
      },
      {
       "output_type": "stream",
       "stream": "stdout",
       "text": [
        " : http://www.fht360.com/productlist/239/394-3-1662.html\n",
        "0.96"
       ]
      },
      {
       "output_type": "stream",
       "stream": "stdout",
       "text": [
        " : http://www.fht360.com/productlist/239-47-880.html\n",
        "0.62"
       ]
      },
      {
       "output_type": "stream",
       "stream": "stdout",
       "text": [
        " : http://www.fht360.com/companylist/59-2-1.html\n",
        "0.48"
       ]
      },
      {
       "output_type": "stream",
       "stream": "stdout",
       "text": [
        " : http://www.fht360.com/companylist/167-2-499.html\n",
        "0.47"
       ]
      },
      {
       "output_type": "stream",
       "stream": "stdout",
       "text": [
        " : http://www.fht360.com/companylist/162/3-2-230.html\n",
        "1.72"
       ]
      },
      {
       "output_type": "stream",
       "stream": "stdout",
       "text": [
        " : http://www.fht360.com/productlist/309/76-4-2137.html\n",
        "0.58"
       ]
      },
      {
       "output_type": "stream",
       "stream": "stdout",
       "text": [
        " : http://www.fht360.com/productlist/231/11042-5-1662.html\n",
        "0.47"
       ]
      },
      {
       "output_type": "stream",
       "stream": "stdout",
       "text": [
        " : http://www.fht360.com/companylist/162/3-2-499.html\n",
        "0.36"
       ]
      },
      {
       "output_type": "stream",
       "stream": "stdout",
       "text": [
        " : http://www.fht360.com/productlist/238/131-3-880.html\n",
        "0.47"
       ]
      },
      {
       "output_type": "stream",
       "stream": "stdout",
       "text": [
        " : http://www.fht360.com/productlist/246-1-20.html\n",
        "0.56"
       ]
      },
      {
       "output_type": "stream",
       "stream": "stdout",
       "text": [
        " : http://www.fht360.com/companylist/43/10198-2.html\n",
        "0.54"
       ]
      },
      {
       "output_type": "stream",
       "stream": "stdout",
       "text": [
        " : http://www.fht360.com/companylist/51/10308-2.html\n",
        "0.64"
       ]
      },
      {
       "output_type": "stream",
       "stream": "stdout",
       "text": [
        " : http://www.fht360.com/companylist/50/10840-2.html\n",
        "0.37"
       ]
      },
      {
       "output_type": "stream",
       "stream": "stdout",
       "text": [
        " : http://www.fht360.com/productlist/337/12207-2-2137.html\n",
        "0.49"
       ]
      },
      {
       "output_type": "stream",
       "stream": "stdout",
       "text": [
        " : http://www.fht360.com/companylist/167-2-2279.html\n",
        "0.57"
       ]
      },
      {
       "output_type": "stream",
       "stream": "stdout",
       "text": [
        " : http://www.fht360.com/companylist/167-15-2278.html\n",
        "0.66"
       ]
      },
      {
       "output_type": "stream",
       "stream": "stdout",
       "text": [
        " : http://www.fht360.com/productlist/326-13-880.html\n",
        "0.62"
       ]
      },
      {
       "output_type": "stream",
       "stream": "stdout",
       "text": [
        " : http://www.fht360.com/companylist/164/3-2-111.html\n",
        "1.47"
       ]
      },
      {
       "output_type": "stream",
       "stream": "stdout",
       "text": [
        " : http://www.fht360.com/productlist/368-5-860.html\n",
        "0.85"
       ]
      },
      {
       "output_type": "stream",
       "stream": "stdout",
       "text": [
        " : http://www.fht360.com/productlist/245/11590-12.html\n",
        "1.86"
       ]
      },
      {
       "output_type": "stream",
       "stream": "stdout",
       "text": [
        " : http://www.fht360.com/companylist/34-2-2186.html\n",
        "0.57"
       ]
      },
      {
       "output_type": "stream",
       "stream": "stdout",
       "text": [
        " : http://www.fht360.com/productlist/302-2-706.html\n",
        "1.27"
       ]
      },
      {
       "output_type": "stream",
       "stream": "stdout",
       "text": [
        " : http://www.fht360.com/productlist/352/5157-4-860.html\n",
        "1.21"
       ]
      },
      {
       "output_type": "stream",
       "stream": "stdout",
       "text": [
        " : http://www.fht360.com/productlist/333-6-2137.html\n",
        "0.58"
       ]
      },
      {
       "output_type": "stream",
       "stream": "stdout",
       "text": [
        " : http://www.fht360.com/companylist/162-10-2138.html\n",
        "0.44"
       ]
      },
      {
       "output_type": "stream",
       "stream": "stdout",
       "text": [
        " : http://www.fht360.com/productlist/241/346-2-39.html\n",
        "0.53"
       ]
      },
      {
       "output_type": "stream",
       "stream": "stdout",
       "text": [
        " : http://www.fht360.com/companylist/74/10502-2.html\n",
        "0.38"
       ]
      },
      {
       "output_type": "stream",
       "stream": "stdout",
       "text": [
        " : http://www.fht360.com/productlist/241/16034-2-39.html\n",
        "0.52"
       ]
      },
      {
       "output_type": "stream",
       "stream": "stdout",
       "text": [
        " : http://www.fht360.com/productlist/246-2-3065.html\n",
        "0.48"
       ]
      },
      {
       "output_type": "stream",
       "stream": "stdout",
       "text": [
        " : http://www.fht360.com/productlist/426/14895-6.html\n",
        "0.57"
       ]
      },
      {
       "output_type": "stream",
       "stream": "stdout",
       "text": [
        " : http://www.fht360.com/companylist/39-6-880.html\n",
        "0.54"
       ]
      },
      {
       "output_type": "stream",
       "stream": "stdout",
       "text": [
        " : http://www.fht360.com/companylist/61-2-1487.html\n",
        "0.47"
       ]
      },
      {
       "output_type": "stream",
       "stream": "stdout",
       "text": [
        " : http://www.fht360.com/companylist/167-10-2138.html\n",
        "0.47"
       ]
      },
      {
       "output_type": "stream",
       "stream": "stdout",
       "text": [
        " : http://www.fht360.com/companylist/167-45-2137.html\n",
        "0.29"
       ]
      },
      {
       "output_type": "stream",
       "stream": "stdout",
       "text": [
        " : http://www.fht360.com/productlist/258-4.html\n",
        "1.86"
       ]
      },
      {
       "output_type": "stream",
       "stream": "stdout",
       "text": [
        " : http://www.fht360.com/productlist/239/1116-2.html\n",
        "3.66"
       ]
      },
      {
       "output_type": "stream",
       "stream": "stdout",
       "text": [
        " : http://www.fht360.com/productlist/431/11763-8.html\n",
        "0.21"
       ]
      },
      {
       "output_type": "stream",
       "stream": "stdout",
       "text": [
        " : http://www.fht360.com/productlist/231/15545-5.html\n",
        "1.39"
       ]
      },
      {
       "output_type": "stream",
       "stream": "stdout",
       "text": [
        " : http://www.fht360.com/companylist/86-2-991.html\n",
        "0.42"
       ]
      },
      {
       "output_type": "stream",
       "stream": "stdout",
       "text": [
        " : http://www.fht360.com/productlist/372/14200-3-2137.html\n",
        "0.45"
       ]
      },
      {
       "output_type": "stream",
       "stream": "stdout",
       "text": [
        " : http://www.fht360.com/productlist/424/14786-3-2137.html\n",
        "0.64"
       ]
      },
      {
       "output_type": "stream",
       "stream": "stdout",
       "text": [
        " : http://www.fht360.com/companylist/170/10927-2.html\n",
        "0.49"
       ]
      },
      {
       "output_type": "stream",
       "stream": "stdout",
       "text": [
        " : http://www.fht360.com/companylist/164/3-3-1122.html\n",
        "0.52"
       ]
      },
      {
       "output_type": "stream",
       "stream": "stdout",
       "text": [
        " : http://www.fht360.com/productlist/428/14747-6.html\n",
        "0.93"
       ]
      },
      {
       "output_type": "stream",
       "stream": "stdout",
       "text": [
        " : http://www.fht360.com/productlist/231/14608-3-1487.html\n",
        "0.35"
       ]
      },
      {
       "output_type": "stream",
       "stream": "stdout",
       "text": [
        " : http://www.fht360.com/productlist/433/15342-2.html\n",
        "0.25"
       ]
      },
      {
       "output_type": "stream",
       "stream": "stdout",
       "text": [
        " : http://www.fht360.com/productlist/231/15894-8.html\n",
        "0.51"
       ]
      },
      {
       "output_type": "stream",
       "stream": "stdout",
       "text": [
        " : http://www.fht360.com/productlist/235/97-4-39.html\n",
        "1.70"
       ]
      },
      {
       "output_type": "stream",
       "stream": "stdout",
       "text": [
        " : http://www.fht360.com/productlist/239/16110-11.html\n",
        "0.48"
       ]
      },
      {
       "output_type": "stream",
       "stream": "stdout",
       "text": [
        " : http://www.fht360.com/productlist/233-4-1.html\n",
        "0.35"
       ]
      },
      {
       "output_type": "stream",
       "stream": "stdout",
       "text": [
        " : http://www.fht360.com/productlist/304/11340-3-1487.html\n",
        "0.43"
       ]
      },
      {
       "output_type": "stream",
       "stream": "stdout",
       "text": [
        " : http://www.fht360.com/productlist/371/13794-12.html\n",
        "0.25"
       ]
      },
      {
       "output_type": "stream",
       "stream": "stdout",
       "text": [
        " : http://www.fht360.com/productlist/244/574-2.html\n",
        "1.43"
       ]
      },
      {
       "output_type": "stream",
       "stream": "stdout",
       "text": [
        " : http://www.fht360.com/companylist/48-3-228.html\n",
        "0.93"
       ]
      },
      {
       "output_type": "stream",
       "stream": "stdout",
       "text": [
        " : http://www.fht360.com/companylist/48-7-221.html\n",
        "0.48"
       ]
      },
      {
       "output_type": "stream",
       "stream": "stdout",
       "text": [
        " : http://www.fht360.com/companylist/48-2-223.html\n",
        "0.48"
       ]
      },
      {
       "output_type": "stream",
       "stream": "stdout",
       "text": [
        " : http://www.fht360.com/companylist/48-3-1619.html\n",
        "0.34"
       ]
      },
      {
       "output_type": "stream",
       "stream": "stdout",
       "text": [
        " : http://www.fht360.com/productlist/236/17428-21.html\n",
        "0.14"
       ]
      },
      {
       "output_type": "stream",
       "stream": "stdout",
       "text": [
        " : http://www.fht360.com/productlist/239/425-2.html\n",
        "0.43"
       ]
      },
      {
       "output_type": "stream",
       "stream": "stdout",
       "text": [
        " : http://www.fht360.com/productlist/337/8441-2-2137.html\n",
        "0.54"
       ]
      },
      {
       "output_type": "stream",
       "stream": "stdout",
       "text": [
        " : http://www.fht360.com/companylist/45-4-1487.html\n",
        "0.48"
       ]
      },
      {
       "output_type": "stream",
       "stream": "stdout",
       "text": [
        " : http://www.fht360.com/companylist/48/3-11-860.html\n",
        "0.35"
       ]
      },
      {
       "output_type": "stream",
       "stream": "stdout",
       "text": [
        " : http://www.fht360.com/productlist/273/10035-2-2137.html\n",
        "0.48"
       ]
      },
      {
       "output_type": "stream",
       "stream": "stdout",
       "text": [
        " : http://www.fht360.com/productlist/233/260-2-880.html\n",
        "0.35"
       ]
      },
      {
       "output_type": "stream",
       "stream": "stdout",
       "text": [
        " : http://www.fht360.com/productlist/354/12437-2-2137.html\n",
        "0.37"
       ]
      },
      {
       "output_type": "stream",
       "stream": "stdout",
       "text": [
        " : http://www.fht360.com/productlist/228/10810-6-1487.html\n",
        "0.52"
       ]
      },
      {
       "output_type": "stream",
       "stream": "stdout",
       "text": [
        " : http://www.fht360.com/productlist/442-2-1009.html\n",
        "1.21"
       ]
      },
      {
       "output_type": "stream",
       "stream": "stdout",
       "text": [
        " : http://www.fht360.com/companylist/46-2-880.html\n",
        "2.38"
       ]
      },
      {
       "output_type": "stream",
       "stream": "stdout",
       "text": [
        " : http://www.fht360.com/productlist/341/11665-3-2137.html\n",
        "0.52"
       ]
      },
      {
       "output_type": "stream",
       "stream": "stdout",
       "text": [
        " : http://www.fht360.com/companylist/40-6-1662.html\n",
        "0.64"
       ]
      },
      {
       "output_type": "stream",
       "stream": "stdout",
       "text": [
        " : http://www.fht360.com/companylist/40-3-1663.html\n",
        "0.87"
       ]
      },
      {
       "output_type": "stream",
       "stream": "stdout",
       "text": [
        " : http://www.fht360.com/productlist/301/64-2-860.html\n",
        "0.25"
       ]
      },
      {
       "output_type": "stream",
       "stream": "stdout",
       "text": [
        " : http://www.fht360.com/productlist/430/14897-2.html\n",
        "0.42"
       ]
      },
      {
       "output_type": "stream",
       "stream": "stdout",
       "text": [
        " : http://www.fht360.com/productlist/429-4-1487.html\n",
        "0.36"
       ]
      },
      {
       "output_type": "stream",
       "stream": "stdout",
       "text": [
        " : http://www.fht360.com/productlist/433/14673-2-2137.html\n",
        "0.47"
       ]
      },
      {
       "output_type": "stream",
       "stream": "stdout",
       "text": [
        " : http://www.fht360.com/companylist/164-2-936.html\n",
        "0.44"
       ]
      },
      {
       "output_type": "stream",
       "stream": "stdout",
       "text": [
        " : http://www.fht360.com/productlist/272-7-2137.html\n",
        "0.47"
       ]
      },
      {
       "output_type": "stream",
       "stream": "stdout",
       "text": [
        " : http://www.fht360.com/companylist/164-2-938.html\n",
        "0.26"
       ]
      },
      {
       "output_type": "stream",
       "stream": "stdout",
       "text": [
        " : http://www.fht360.com/productlist/234/10334-2.html\n",
        "1.13"
       ]
      },
      {
       "output_type": "stream",
       "stream": "stdout",
       "text": [
        " : http://www.fht360.com/companylist/74-2-1038.html\n",
        "0.63"
       ]
      },
      {
       "output_type": "stream",
       "stream": "stdout",
       "text": [
        " : http://www.fht360.com/companylist/49-2-1662.html\n",
        "0.47"
       ]
      },
      {
       "output_type": "stream",
       "stream": "stdout",
       "text": [
        " : http://www.fht360.com/productlist/324/12492-2-1662.html\n",
        "0.45"
       ]
      },
      {
       "output_type": "stream",
       "stream": "stdout",
       "text": [
        " : http://www.fht360.com/productlist/379/363-2-1487.html\n",
        "1.10"
       ]
      },
      {
       "output_type": "stream",
       "stream": "stdout",
       "text": [
        " : http://www.fht360.com/productlist/355/41-2-880.html\n",
        "0.76"
       ]
      },
      {
       "output_type": "stream",
       "stream": "stdout",
       "text": [
        " : http://www.fht360.com/productlist/274/16408-2-2137.html\n",
        "0.45"
       ]
      },
      {
       "output_type": "stream",
       "stream": "stdout",
       "text": [
        " : http://www.fht360.com/productlist/283/185-3-1662.html\n",
        "0.37"
       ]
      },
      {
       "output_type": "stream",
       "stream": "stdout",
       "text": [
        " : http://www.fht360.com/productlist/238/130-2-39.html\n",
        "0.48"
       ]
      },
      {
       "output_type": "stream",
       "stream": "stdout",
       "text": [
        " : http://www.fht360.com/companylist/165/3-2-881.html\n",
        "0.30"
       ]
      },
      {
       "output_type": "stream",
       "stream": "stdout",
       "text": [
        " : http://www.fht360.com/productlist/246/13300-4.html\n",
        "0.26"
       ]
      },
      {
       "output_type": "stream",
       "stream": "stdout",
       "text": [
        " : http://www.fht360.com/productlist/301/265-2.html\n",
        "0.53"
       ]
      },
      {
       "output_type": "stream",
       "stream": "stdout",
       "text": [
        " : http://www.fht360.com/companylist/73/10510-2.html\n",
        "0.38"
       ]
      },
      {
       "output_type": "stream",
       "stream": "stdout",
       "text": [
        " : http://www.fht360.com/productlist/359/12347-10-2137.html\n",
        "0.41"
       ]
      },
      {
       "output_type": "stream",
       "stream": "stdout",
       "text": [
        " : http://www.fht360.com/productlist/429-2-1662.html\n",
        "0.30"
       ]
      },
      {
       "output_type": "stream",
       "stream": "stdout",
       "text": [
        " : http://www.fht360.com/productlist/280/8287-2.html\n",
        "0.36"
       ]
      },
      {
       "output_type": "stream",
       "stream": "stdout",
       "text": [
        " : http://www.fht360.com/productlist/238/129-3-1487.html\n",
        "0.26"
       ]
      },
      {
       "output_type": "stream",
       "stream": "stdout",
       "text": [
        " : http://www.fht360.com/productlist/241/471-2-1122.html\n",
        "0.50"
       ]
      },
      {
       "output_type": "stream",
       "stream": "stdout",
       "text": [
        " : http://www.fht360.com/companylist/165-2-1581.html\n",
        "0.32"
       ]
      },
      {
       "output_type": "stream",
       "stream": "stdout",
       "text": [
        " : http://www.fht360.com/productlist/238/1066-2.html\n",
        "1.26"
       ]
      },
      {
       "output_type": "stream",
       "stream": "stdout",
       "text": [
        " : http://www.fht360.com/productlist/333/71-3-2137.html\n",
        "0.44"
       ]
      },
      {
       "output_type": "stream",
       "stream": "stdout",
       "text": [
        " : http://www.fht360.com/productlist/367-2-860.html\n",
        "0.57"
       ]
      },
      {
       "output_type": "stream",
       "stream": "stdout",
       "text": [
        " : http://www.fht360.com/productlist/351-5-1009.html\n",
        "0.31"
       ]
      },
      {
       "output_type": "stream",
       "stream": "stdout",
       "text": [
        " : http://www.fht360.com/productlist/227/2704-2.html\n",
        "0.50"
       ]
      },
      {
       "output_type": "stream",
       "stream": "stdout",
       "text": [
        " : http://www.fht360.com/companylist/142/10146-2.html\n",
        "0.48"
       ]
      },
      {
       "output_type": "stream",
       "stream": "stdout",
       "text": [
        " : http://www.fht360.com/companylist/48-2-1364.html\n",
        "0.48"
       ]
      },
      {
       "output_type": "stream",
       "stream": "stdout",
       "text": [
        " : http://www.fht360.com/productlist/423-4-2137.html\n",
        "0.42"
       ]
      },
      {
       "output_type": "stream",
       "stream": "stdout",
       "text": [
        " : http://www.fht360.com/productlist/283/17227-2-1.html\n",
        "0.57"
       ]
      },
      {
       "output_type": "stream",
       "stream": "stdout",
       "text": [
        " : http://www.fht360.com/productlist/437-9-2137.html\n",
        "0.72"
       ]
      },
      {
       "output_type": "stream",
       "stream": "stdout",
       "text": [
        " : http://www.fht360.com/productlist/424/2-11-1364.html\n",
        "0.44"
       ]
      },
      {
       "output_type": "stream",
       "stream": "stdout",
       "text": [
        " : http://www.fht360.com/productlist/385/6-2-1987.html\n",
        "0.55"
       ]
      },
      {
       "output_type": "stream",
       "stream": "stdout",
       "text": [
        " : http://www.fht360.com/companylist/137/10929-2.html\n",
        "0.51"
       ]
      },
      {
       "output_type": "stream",
       "stream": "stdout",
       "text": [
        " : http://www.fht360.com/productlist/341/10204-3-880.html\n",
        "0.47"
       ]
      },
      {
       "output_type": "stream",
       "stream": "stdout",
       "text": [
        " : http://www.fht360.com/companylist/39/10530-2-2137.html\n",
        "0.48"
       ]
      },
      {
       "output_type": "stream",
       "stream": "stdout",
       "text": [
        " : http://www.fht360.com/newslist/30-5.html\n",
        "0.76"
       ]
      },
      {
       "output_type": "stream",
       "stream": "stdout",
       "text": [
        " : http://www.fht360.com/newslist/31-101.html\n",
        "0.58"
       ]
      },
      {
       "output_type": "stream",
       "stream": "stdout",
       "text": [
        " : http://www.fht360.com/companylist/39-2-927.html\n",
        "0.57"
       ]
      },
      {
       "output_type": "stream",
       "stream": "stdout",
       "text": [
        " : http://www.fht360.com/productlist/254/260-2.html\n",
        "0.28"
       ]
      },
      {
       "output_type": "stream",
       "stream": "stdout",
       "text": [
        " : http://www.fht360.com/productlist/235/10366-2.html\n",
        "0.45"
       ]
      },
      {
       "output_type": "stream",
       "stream": "stdout",
       "text": [
        " : http://www.fht360.com/productlist/236-16-860.html\n",
        "0.66"
       ]
      },
      {
       "output_type": "stream",
       "stream": "stdout",
       "text": [
        " : http://www.fht360.com/productlist/241/455-2-1487.html\n",
        "0.71"
       ]
      },
      {
       "output_type": "stream",
       "stream": "stdout",
       "text": [
        " : http://www.fht360.com/productlist/283-3-1857.html\n",
        "0.83"
       ]
      },
      {
       "output_type": "stream",
       "stream": "stdout",
       "text": [
        " : http://www.fht360.com/companylist/165-2-2279.html\n",
        "0.90"
       ]
      },
      {
       "output_type": "stream",
       "stream": "stdout",
       "text": [
        " : http://www.fht360.com/companylist/165-15-2278.html\n",
        "0.62"
       ]
      },
      {
       "output_type": "stream",
       "stream": "stdout",
       "text": [
        " : http://www.fht360.com/productlist/260-2-1009.html\n",
        "0.44"
       ]
      },
      {
       "output_type": "stream",
       "stream": "stdout",
       "text": [
        " : http://www.fht360.com/productlist/351/13510-3-2137.html\n",
        "0.36"
       ]
      },
      {
       "output_type": "stream",
       "stream": "stdout",
       "text": [
        " : http://www.fht360.com/productlist/341/12209-3-2137.html\n",
        "0.30"
       ]
      },
      {
       "output_type": "stream",
       "stream": "stdout",
       "text": [
        " : http://www.fht360.com/productlist/431/14724-11.html\n",
        "0.42"
       ]
      },
      {
       "output_type": "stream",
       "stream": "stdout",
       "text": [
        " : http://www.fht360.com/productlist/301/11774-4.html\n",
        "0.28"
       ]
      },
      {
       "output_type": "stream",
       "stream": "stdout",
       "text": [
        " : http://www.fht360.com/productlist/234/11596-2.html\n",
        "0.45"
       ]
      },
      {
       "output_type": "stream",
       "stream": "stdout",
       "text": [
        " : http://www.fht360.com/productlist/428/14715-2-2137.html\n",
        "0.30"
       ]
      },
      {
       "output_type": "stream",
       "stream": "stdout",
       "text": [
        " : http://www.fht360.com/productlist/371/14157-4.html\n",
        "0.27"
       ]
      },
      {
       "output_type": "stream",
       "stream": "stdout",
       "text": [
        " : http://www.fht360.com/productlist/248-20-39.html\n",
        "0.26"
       ]
      },
      {
       "output_type": "stream",
       "stream": "stdout",
       "text": [
        " : http://www.fht360.com/productlist/231/12000-14.html\n",
        "0.32"
       ]
      },
      {
       "output_type": "stream",
       "stream": "stdout",
       "text": [
        " : http://www.fht360.com/productlist/237/193-14.html\n",
        "0.43"
       ]
      },
      {
       "output_type": "stream",
       "stream": "stdout",
       "text": [
        " : http://www.fht360.com/productlist/247/12198-9-2137.html\n",
        "0.48"
       ]
      },
      {
       "output_type": "stream",
       "stream": "stdout",
       "text": [
        " : http://www.fht360.com/companylist/48-13-1009.html\n",
        "0.26"
       ]
      },
      {
       "output_type": "stream",
       "stream": "stdout",
       "text": [
        " : http://www.fht360.com/productlist/227/12420-2.html\n",
        "0.56"
       ]
      },
      {
       "output_type": "stream",
       "stream": "stdout",
       "text": [
        " : http://www.fht360.com/productlist/226/7250-2-1487.html\n",
        "0.47"
       ]
      },
      {
       "output_type": "stream",
       "stream": "stdout",
       "text": [
        " : http://www.fht360.com/productlist/237-2-1662.html\n",
        "0.45"
       ]
      },
      {
       "output_type": "stream",
       "stream": "stdout",
       "text": [
        " : http://www.fht360.com/productlist/239/12076-2-1662.html\n",
        "0.46"
       ]
      },
      {
       "output_type": "stream",
       "stream": "stdout",
       "text": [
        " : http://www.fht360.com/companylist/77/8-2-991.html\n",
        "0.26"
       ]
      },
      {
       "output_type": "stream",
       "stream": "stdout",
       "text": [
        " : http://www.fht360.com/productlist/280/2031-3.html\n",
        "1.09"
       ]
      },
      {
       "output_type": "stream",
       "stream": "stdout",
       "text": [
        " : http://www.fht360.com/productlist/260/8-44.html\n",
        "4.09"
       ]
      },
      {
       "output_type": "stream",
       "stream": "stdout",
       "text": [
        " : http://www.fht360.com/companylist/39/10535-2.html\n",
        "0.58"
       ]
      },
      {
       "output_type": "stream",
       "stream": "stdout",
       "text": [
        " : http://www.fht360.com/companylist/39/10530-2.html\n",
        "0.47"
       ]
      },
      {
       "output_type": "stream",
       "stream": "stdout",
       "text": [
        " : http://www.fht360.com/companylist/39/10531-2.html\n",
        "0.47"
       ]
      },
      {
       "output_type": "stream",
       "stream": "stdout",
       "text": [
        " : http://www.fht360.com/companylist/162-3-1010.html\n",
        "0.54"
       ]
      },
      {
       "output_type": "stream",
       "stream": "stdout",
       "text": [
        " : http://www.fht360.com/companylist/39/10515-2-2164.html\n",
        "1.24"
       ]
      },
      {
       "output_type": "stream",
       "stream": "stdout",
       "text": [
        " : http://www.fht360.com/productlist/351/13638-5.html\n",
        "0.28"
       ]
      },
      {
       "output_type": "stream",
       "stream": "stdout",
       "text": [
        " : http://www.fht360.com/productlist/351/13635-4.html\n",
        "0.29"
       ]
      },
      {
       "output_type": "stream",
       "stream": "stdout",
       "text": [
        " : http://www.fht360.com/productlist/351/13636-2.html\n",
        "0.50"
       ]
      },
      {
       "output_type": "stream",
       "stream": "stdout",
       "text": [
        " : http://www.fht360.com/productlist/286-2-1122.html\n",
        "0.50"
       ]
      },
      {
       "output_type": "stream",
       "stream": "stdout",
       "text": [
        " : http://www.fht360.com/productlist/251/15933-5-2137.html\n",
        "0.47"
       ]
      },
      {
       "output_type": "stream",
       "stream": "stdout",
       "text": [
        " : http://www.fht360.com/companylist/165/3-2-230.html\n",
        "0.25"
       ]
      },
      {
       "output_type": "stream",
       "stream": "stdout",
       "text": [
        " : http://www.fht360.com/productlist/260/16959-4.html\n",
        "0.33"
       ]
      },
      {
       "output_type": "stream",
       "stream": "stdout",
       "text": [
        " : http://www.fht360.com/productlist/349/17694-2.html\n",
        "0.43"
       ]
      },
      {
       "output_type": "stream",
       "stream": "stdout",
       "text": [
        " : http://www.fht360.com/productlist/371/14333-3-2137.html\n",
        "0.56"
       ]
      },
      {
       "output_type": "stream",
       "stream": "stdout",
       "text": [
        " : http://www.fht360.com/companylist/164-2-873.html\n",
        "0.31"
       ]
      },
      {
       "output_type": "stream",
       "stream": "stdout",
       "text": [
        " : http://www.fht360.com/productlist/384/4901-2.html\n",
        "0.49"
       ]
      },
      {
       "output_type": "stream",
       "stream": "stdout",
       "text": [
        " : http://www.fht360.com/productlist/326/11562-2-1662.html\n",
        "0.38"
       ]
      },
      {
       "output_type": "stream",
       "stream": "stdout",
       "text": [
        " : http://www.fht360.com/productlist/231/15792-2-1009.html\n",
        "0.25"
       ]
      },
      {
       "output_type": "stream",
       "stream": "stdout",
       "text": [
        " : http://www.fht360.com/productlist/439/13236-3.html\n",
        "0.62"
       ]
      },
      {
       "output_type": "stream",
       "stream": "stdout",
       "text": [
        " : http://www.fht360.com/companylist/50-3-1487.html\n",
        "0.64"
       ]
      },
      {
       "output_type": "stream",
       "stream": "stdout",
       "text": [
        " : http://www.fht360.com/companylist/193/10929-2.html\n",
        "0.53"
       ]
      },
      {
       "output_type": "stream",
       "stream": "stdout",
       "text": [
        " : http://www.fht360.com/productlist/283/17108-3-1487.html\n",
        "0.53"
       ]
      },
      {
       "output_type": "stream",
       "stream": "stdout",
       "text": [
        " : http://www.fht360.com/companylist/39/10510-2.html\n",
        "0.42"
       ]
      },
      {
       "output_type": "stream",
       "stream": "stdout",
       "text": [
        " : http://www.fht360.com/productlist/242-1-860.html\n",
        "0.78"
       ]
      },
      {
       "output_type": "stream",
       "stream": "stdout",
       "text": [
        " : http://www.fht360.com/companylist/39/10511-2.html\n",
        "0.38"
       ]
      },
      {
       "output_type": "stream",
       "stream": "stdout",
       "text": [
        " : http://www.fht360.com/productlist/231/15792-3-860.html\n",
        "0.46"
       ]
      },
      {
       "output_type": "stream",
       "stream": "stdout",
       "text": [
        " : http://www.fht360.com/companylist/83/8-2-991.html\n",
        "0.33"
       ]
      },
      {
       "output_type": "stream",
       "stream": "stdout",
       "text": [
        " : http://www.fht360.com/productlist/302-3-1662.html\n",
        "0.25"
       ]
      },
      {
       "output_type": "stream",
       "stream": "stdout",
       "text": [
        " : http://www.fht360.com/productlist/246/12350-2.html\n",
        "0.35"
       ]
      },
      {
       "output_type": "stream",
       "stream": "stdout",
       "text": [
        " : http://www.fht360.com/productlist/367/13508-3-2137.html\n",
        "0.43"
       ]
      },
      {
       "output_type": "stream",
       "stream": "stdout",
       "text": [
        " : http://www.fht360.com/productlist/440-3-880.html\n",
        "0.42"
       ]
      },
      {
       "output_type": "stream",
       "stream": "stdout",
       "text": [
        " : http://www.fht360.com/productlist/326-3-1009.html\n",
        "0.58"
       ]
      },
      {
       "output_type": "stream",
       "stream": "stdout",
       "text": [
        " : http://www.fht360.com/productlist/357/6208-2-880.html\n",
        "0.73"
       ]
      },
      {
       "output_type": "stream",
       "stream": "stdout",
       "text": [
        " : http://www.fht360.com/companylist/164/3-4-1553.html\n",
        "0.80"
       ]
      },
      {
       "output_type": "stream",
       "stream": "stdout",
       "text": [
        " : http://www.fht360.com/productlist/240-1-2137.html\n",
        "1.39"
       ]
      },
      {
       "output_type": "stream",
       "stream": "stdout",
       "text": [
        " : http://www.fht360.com/productlist/324/71-5-1487.html\n",
        "2.24"
       ]
      },
      {
       "output_type": "stream",
       "stream": "stdout",
       "text": [
        " : http://www.fht360.com/companylist/86-2-986.html\n",
        "1.81"
       ]
      },
      {
       "output_type": "stream",
       "stream": "stdout",
       "text": [
        " : http://www.fht360.com/productlist/237/820-2-880.html\n",
        "3.14"
       ]
      },
      {
       "output_type": "stream",
       "stream": "stdout",
       "text": [
        " : http://www.fht360.com/productlist/228-2-1009.html\n",
        "0.69"
       ]
      },
      {
       "output_type": "stream",
       "stream": "stdout",
       "text": [
        " : http://www.fht360.com/productlist/283/15627-5.html\n",
        "0.76"
       ]
      },
      {
       "output_type": "stream",
       "stream": "stdout",
       "text": [
        " : http://www.fht360.com/companylist/165/3-2-1514.html\n",
        "0.80"
       ]
      },
      {
       "output_type": "stream",
       "stream": "stdout",
       "text": [
        " : http://www.fht360.com/companylist/165-2-3065.html\n",
        "0.80"
       ]
      },
      {
       "output_type": "stream",
       "stream": "stdout",
       "text": [
        " : http://www.fht360.com/productlist/239/734-6.html\n",
        "0.99"
       ]
      },
      {
       "output_type": "stream",
       "stream": "stdout",
       "text": [
        " : http://www.fht360.com/companylist/105/10616-2-2137.html\n",
        "1.74"
       ]
      },
      {
       "output_type": "stream",
       "stream": "stdout",
       "text": [
        " : http://www.fht360.com/companylist/166/10539-2.html\n",
        "0.71"
       ]
      },
      {
       "output_type": "stream",
       "stream": "stdout",
       "text": [
        " : http://www.fht360.com/productlist/231/15773-3-880.html\n",
        "2.05"
       ]
      },
      {
       "output_type": "stream",
       "stream": "stdout",
       "text": [
        " : http://www.fht360.com/productlist/385-87-880.html\n",
        "1.33"
       ]
      },
      {
       "output_type": "stream",
       "stream": "stdout",
       "text": [
        " : http://www.fht360.com/productlist/424/14862-2-1487.html\n",
        "1.11"
       ]
      },
      {
       "output_type": "stream",
       "stream": "stdout",
       "text": [
        " : http://www.fht360.com/productlist/351-2-1662.html\n",
        "0.95"
       ]
      },
      {
       "output_type": "stream",
       "stream": "stdout",
       "text": [
        " : http://www.fht360.com/companylist/136-2-2137.html\n",
        "1.38"
       ]
      },
      {
       "output_type": "stream",
       "stream": "stdout",
       "text": [
        " : http://www.fht360.com/productlist/387/56-2-1487.html\n",
        "0.62"
       ]
      },
      {
       "output_type": "stream",
       "stream": "stdout",
       "text": [
        " : http://www.fht360.com/productlist/314/3498-3-1009.html\n",
        "0.87"
       ]
      },
      {
       "output_type": "stream",
       "stream": "stdout",
       "text": [
        " : http://www.fht360.com/productlist/234/10320-3-1662.html\n",
        "0.68"
       ]
      },
      {
       "output_type": "stream",
       "stream": "stdout",
       "text": [
        " : http://www.fht360.com/productlist/301/11633-4.html\n",
        "1.01"
       ]
      },
      {
       "output_type": "stream",
       "stream": "stdout",
       "text": [
        " : http://www.fht360.com/productlist/424/14793-4.html\n",
        "0.62"
       ]
      },
      {
       "output_type": "stream",
       "stream": "stdout",
       "text": [
        " : http://www.fht360.com/productlist/260/16959-3-2137.html\n",
        "0.74"
       ]
      },
      {
       "output_type": "stream",
       "stream": "stdout",
       "text": [
        " : http://www.fht360.com/productlist/262/3349-2.html\n",
        "0.70"
       ]
      },
      {
       "output_type": "stream",
       "stream": "stdout",
       "text": [
        " : http://www.fht360.com/productlist/244/615-2-880.html\n",
        "0.64"
       ]
      },
      {
       "output_type": "stream",
       "stream": "stdout",
       "text": [
        " : http://www.fht360.com/newslist/8-16.html\n",
        "0.93"
       ]
      },
      {
       "output_type": "stream",
       "stream": "stdout",
       "text": [
        " : http://www.fht360.com/companylist/39-2-39.html\n",
        "3.14"
       ]
      },
      {
       "output_type": "stream",
       "stream": "stdout",
       "text": [
        " : http://www.fht360.com/productlist/309/12210-4-2137.html\n",
        "0.33"
       ]
      },
      {
       "output_type": "stream",
       "stream": "stdout",
       "text": [
        " : http://www.fht360.com/productlist/324/12421-12-880.html\n",
        "0.32"
       ]
      },
      {
       "output_type": "stream",
       "stream": "stdout",
       "text": [
        " : http://www.fht360.com/productlist/348-3-880.html\n",
        "0.47"
       ]
      },
      {
       "output_type": "stream",
       "stream": "stdout",
       "text": [
        " : http://www.fht360.com/productlist/424/12187-2-880.html\n",
        "0.33"
       ]
      },
      {
       "output_type": "stream",
       "stream": "stdout",
       "text": [
        " : http://www.fht360.com/productlist/228/12099-2.html\n",
        "0.36"
       ]
      },
      {
       "output_type": "stream",
       "stream": "stdout",
       "text": [
        " : http://www.fht360.com/productlist/351/13622-4.html\n",
        "0.45"
       ]
      },
      {
       "output_type": "stream",
       "stream": "stdout",
       "text": [
        " : http://www.fht360.com/productlist/334/12421-3-20.html\n",
        "1.68"
       ]
      },
      {
       "output_type": "stream",
       "stream": "stdout",
       "text": [
        " : http://www.fht360.com/productlist/335-44.html\n",
        "0.97"
       ]
      },
      {
       "output_type": "stream",
       "stream": "stdout",
       "text": [
        " : http://www.fht360.com/productlist/332-3-880.html\n",
        "0.28"
       ]
      },
      {
       "output_type": "stream",
       "stream": "stdout",
       "text": [
        " : http://www.fht360.com/productlist/233/16956-5.html\n",
        "0.43"
       ]
      },
      {
       "output_type": "stream",
       "stream": "stdout",
       "text": [
        " : http://www.fht360.com/productlist/263/303-21-1487.html\n",
        "0.81"
       ]
      },
      {
       "output_type": "stream",
       "stream": "stdout",
       "text": [
        " : http://www.fht360.com/productlist/360-2-1662.html\n",
        "0.59"
       ]
      },
      {
       "output_type": "stream",
       "stream": "stdout",
       "text": [
        " : http://www.fht360.com/companylist/75/10512-2.html\n",
        "4.65"
       ]
      },
      {
       "output_type": "stream",
       "stream": "stdout",
       "text": [
        " : http://www.fht360.com/productlist/239/7493-2.html\n",
        "0.78"
       ]
      },
      {
       "output_type": "stream",
       "stream": "stdout",
       "text": [
        " : http://www.fht360.com/productlist/231/7-17-39.html\n",
        "1.53"
       ]
      },
      {
       "output_type": "stream",
       "stream": "stdout",
       "text": [
        " : http://www.fht360.com/companylist/49-2-2170.html\n",
        "0.51"
       ]
      },
      {
       "output_type": "stream",
       "stream": "stdout",
       "text": [
        " : http://www.fht360.com/productlist/424/14813-10-2137.html\n",
        "0.44"
       ]
      },
      {
       "output_type": "stream",
       "stream": "stdout",
       "text": [
        " : http://www.fht360.com/productlist/274/12002-2.html\n",
        "0.38"
       ]
      },
      {
       "output_type": "stream",
       "stream": "stdout",
       "text": [
        " : http://www.fht360.com/productlist/246/12352-2-2137.html\n",
        "0.56"
       ]
      },
      {
       "output_type": "stream",
       "stream": "stdout",
       "text": [
        " : http://www.fht360.com/productlist/334/12421-3-39.html\n",
        "0.60"
       ]
      },
      {
       "output_type": "stream",
       "stream": "stdout",
       "text": [
        " : http://www.fht360.com/productlist/424-7-20.html\n",
        "0.25"
       ]
      },
      {
       "output_type": "stream",
       "stream": "stdout",
       "text": [
        " : http://www.fht360.com/productlist/298/16015-2.html\n",
        "0.65"
       ]
      },
      {
       "output_type": "stream",
       "stream": "stdout",
       "text": [
        " : http://www.fht360.com/companylist/128/10019-2.html\n",
        "0.37"
       ]
      },
      {
       "output_type": "stream",
       "stream": "stdout",
       "text": [
        " : http://www.fht360.com/productlist/241/597-2.html\n",
        "0.51"
       ]
      },
      {
       "output_type": "stream",
       "stream": "stdout",
       "text": [
        " : http://www.fht360.com/productlist/337-10-39.html\n",
        "0.72"
       ]
      },
      {
       "output_type": "stream",
       "stream": "stdout",
       "text": [
        " : http://www.fht360.com/productlist/322-5-2137.html\n",
        "0.27"
       ]
      },
      {
       "output_type": "stream",
       "stream": "stdout",
       "text": [
        " : http://www.fht360.com/productlist/333-2-3065.html\n",
        "0.32"
       ]
      },
      {
       "output_type": "stream",
       "stream": "stdout",
       "text": [
        " : http://www.fht360.com/productlist/446/9180-2.html\n",
        "0.60"
       ]
      },
      {
       "output_type": "stream",
       "stream": "stdout",
       "text": [
        " : http://www.fht360.com/companylist/242/10535-2-2164.html\n",
        "0.29"
       ]
      },
      {
       "output_type": "stream",
       "stream": "stdout",
       "text": [
        " : http://www.fht360.com/productlist/322/14820-5.html\n",
        "0.34"
       ]
      },
      {
       "output_type": "stream",
       "stream": "stdout",
       "text": [
        " : http://www.fht360.com/productlist/283/185-18.html\n",
        "0.58"
       ]
      },
      {
       "output_type": "stream",
       "stream": "stdout",
       "text": [
        " : http://www.fht360.com/companylist/86/10469-2.html\n",
        "0.33"
       ]
      },
      {
       "output_type": "stream",
       "stream": "stdout",
       "text": [
        " : http://www.fht360.com/productlist/351/13031-2.html\n",
        "0.52"
       ]
      },
      {
       "output_type": "stream",
       "stream": "stdout",
       "text": [
        " : http://www.fht360.com/productlist/239/703-2-1122.html\n",
        "0.38"
       ]
      },
      {
       "output_type": "stream",
       "stream": "stdout",
       "text": [
        " : http://www.fht360.com/productlist/250/1272-2-1662.html\n",
        "0.47"
       ]
      },
      {
       "output_type": "stream",
       "stream": "stdout",
       "text": [
        " : http://www.fht360.com/productlist/233/15982-2-39.html\n",
        "0.39"
       ]
      },
      {
       "output_type": "stream",
       "stream": "stdout",
       "text": [
        " : http://www.fht360.com/productlist/235/18784-2-1.html\n",
        "0.41"
       ]
      },
      {
       "output_type": "stream",
       "stream": "stdout",
       "text": [
        " : http://www.fht360.com/productlist/289/227-2.html\n",
        "0.75"
       ]
      },
      {
       "output_type": "stream",
       "stream": "stdout",
       "text": [
        " : http://www.fht360.com/productlist/233/8-7-1487.html\n",
        "1.53"
       ]
      },
      {
       "output_type": "stream",
       "stream": "stdout",
       "text": [
        " : http://www.fht360.com/productlist/231/15792-8-1487.html\n",
        "0.83"
       ]
      },
      {
       "output_type": "stream",
       "stream": "stdout",
       "text": [
        " : http://www.fht360.com/productlist/433/13974-4.html\n",
        "0.45"
       ]
      },
      {
       "output_type": "stream",
       "stream": "stdout",
       "text": [
        " : http://www.fht360.com/productlist/426-6-2137.html\n",
        "0.49"
       ]
      },
      {
       "output_type": "stream",
       "stream": "stdout",
       "text": [
        " : http://www.fht360.com/productlist/427-6-2137.html\n",
        "0.66"
       ]
      },
      {
       "output_type": "stream",
       "stream": "stdout",
       "text": [
        " : http://www.fht360.com/productlist/227/17403-2-2137.html\n",
        "0.51"
       ]
      },
      {
       "output_type": "stream",
       "stream": "stdout",
       "text": [
        " : http://www.fht360.com/productlist/313-2-1364.html\n",
        "0.55"
       ]
      },
      {
       "output_type": "stream",
       "stream": "stdout",
       "text": [
        " : http://www.fht360.com/companylist/34/9-2-1567.html\n",
        "0.48"
       ]
      },
      {
       "output_type": "stream",
       "stream": "stdout",
       "text": [
        " : http://www.fht360.com/productlist/231/15773-3-1662.html\n",
        "0.36"
       ]
      },
      {
       "output_type": "stream",
       "stream": "stdout",
       "text": [
        " : http://www.fht360.com/productlist/269/171-2.html\n",
        "0.49"
       ]
      },
      {
       "output_type": "stream",
       "stream": "stdout",
       "text": [
        " : http://www.fht360.com/productlist/319-2-1662.html\n",
        "0.29"
       ]
      },
      {
       "output_type": "stream",
       "stream": "stdout",
       "text": [
        " : http://www.fht360.com/productlist/235-2-2508.html\n",
        "0.91"
       ]
      },
      {
       "output_type": "stream",
       "stream": "stdout",
       "text": [
        " : http://www.fht360.com/productlist/385/6-74-39.html\n",
        "1.03"
       ]
      },
      {
       "output_type": "stream",
       "stream": "stdout",
       "text": [
        " : http://www.fht360.com/companylist/165-6-2169.html\n",
        "1.05"
       ]
      },
      {
       "output_type": "stream",
       "stream": "stdout",
       "text": [
        " : http://www.fht360.com/companylist/165-12-2164.html\n",
        "1.75"
       ]
      },
      {
       "output_type": "stream",
       "stream": "stdout",
       "text": [
        " : http://www.fht360.com/productlist/239/564-3-880.html\n",
        "0.55"
       ]
      },
      {
       "output_type": "stream",
       "stream": "stdout",
       "text": [
        " : http://www.fht360.com/productlist/236-2-39.html\n",
        "0.82"
       ]
      },
      {
       "output_type": "stream",
       "stream": "stdout",
       "text": [
        " : http://www.fht360.com/productlist/248/11994-3-1487.html\n",
        "0.46"
       ]
      },
      {
       "output_type": "stream",
       "stream": "stdout",
       "text": [
        " : http://www.fht360.com/productlist/251-3-1009.html\n",
        "0.56"
       ]
      },
      {
       "output_type": "stream",
       "stream": "stdout",
       "text": [
        " : http://www.fht360.com/productlist/227/10511-6-860.html\n",
        "0.68"
       ]
      },
      {
       "output_type": "stream",
       "stream": "stdout",
       "text": [
        " : http://www.fht360.com/productlist/433-3-1122.html\n",
        "0.53"
       ]
      },
      {
       "output_type": "stream",
       "stream": "stdout",
       "text": [
        " : http://www.fht360.com/companylist/174-2.html\n",
        "0.84"
       ]
      },
      {
       "output_type": "stream",
       "stream": "stdout",
       "text": [
        " : http://www.fht360.com/productlist/334/12421-10-1487.html\n",
        "0.59"
       ]
      },
      {
       "output_type": "stream",
       "stream": "stdout",
       "text": [
        " : http://www.fht360.com/productlist/241-2-860.html\n",
        "0.52"
       ]
      },
      {
       "output_type": "stream",
       "stream": "stdout",
       "text": [
        " : http://www.fht360.com/productlist/412-17-860.html\n",
        "0.54"
       ]
      },
      {
       "output_type": "stream",
       "stream": "stdout",
       "text": [
        " : http://www.fht360.com/productlist/324/11473-4-2137.html\n",
        "0.50"
       ]
      },
      {
       "output_type": "stream",
       "stream": "stdout",
       "text": [
        " : http://www.fht360.com/companylist/57-2-1662.html\n",
        "0.47"
       ]
      },
      {
       "output_type": "stream",
       "stream": "stdout",
       "text": [
        " : http://www.fht360.com/companylist/241/266-2.html\n",
        "0.34"
       ]
      },
      {
       "output_type": "stream",
       "stream": "stdout",
       "text": [
        " : http://www.fht360.com/productlist/264/7967-2.html\n",
        "0.58"
       ]
      },
      {
       "output_type": "stream",
       "stream": "stdout",
       "text": [
        " : http://www.fht360.com/companylist/56/4-2-881.html\n",
        "0.79"
       ]
      },
      {
       "output_type": "stream",
       "stream": "stdout",
       "text": [
        " : http://www.fht360.com/companylist/56/4-3-880.html\n",
        "0.30"
       ]
      },
      {
       "output_type": "stream",
       "stream": "stdout",
       "text": [
        " : http://www.fht360.com/productlist/269/10334-2.html\n",
        "0.63"
       ]
      },
      {
       "output_type": "stream",
       "stream": "stdout",
       "text": [
        " : http://www.fht360.com/companylist/70/10514-2-2137.html\n",
        "0.53"
       ]
      },
      {
       "output_type": "stream",
       "stream": "stdout",
       "text": [
        " : http://www.fht360.com/companylist/49/10687-2.html\n",
        "0.50"
       ]
      },
      {
       "output_type": "stream",
       "stream": "stdout",
       "text": [
        " : http://www.fht360.com/companylist/49/10683-2.html\n",
        "0.46"
       ]
      },
      {
       "output_type": "stream",
       "stream": "stdout",
       "text": [
        " : http://www.fht360.com/productlist/235/89-11-880.html\n",
        "0.59"
       ]
      },
      {
       "output_type": "stream",
       "stream": "stdout",
       "text": [
        " : http://www.fht360.com/productlist/246-4-706.html\n",
        "2.46"
       ]
      },
      {
       "output_type": "stream",
       "stream": "stdout",
       "text": [
        " : http://www.fht360.com/productlist/309-10-880.html\n",
        "0.51"
       ]
      },
      {
       "output_type": "stream",
       "stream": "stdout",
       "text": [
        " : http://www.fht360.com/productlist/241/16019-2-1009.html\n",
        "0.32"
       ]
      },
      {
       "output_type": "stream",
       "stream": "stdout",
       "text": [
        " : http://www.fht360.com/productlist/227/7596-2.html\n",
        "0.25"
       ]
      },
      {
       "output_type": "stream",
       "stream": "stdout",
       "text": [
        " : http://www.fht360.com/productlist/358/14830-2.html\n",
        "0.41"
       ]
      },
      {
       "output_type": "stream",
       "stream": "stdout",
       "text": [
        " : http://www.fht360.com/productlist/366-2-39.html\n",
        "0.51"
       ]
      },
      {
       "output_type": "stream",
       "stream": "stdout",
       "text": [
        " : http://www.fht360.com/productlist/234/15624-2-1662.html\n",
        "0.46"
       ]
      },
      {
       "output_type": "stream",
       "stream": "stdout",
       "text": [
        " : http://www.fht360.com/productlist/249/13320-10-2137.html\n",
        "0.50"
       ]
      },
      {
       "output_type": "stream",
       "stream": "stdout",
       "text": [
        " : http://www.fht360.com/productlist/324/10003-2-1662.html\n",
        "0.44"
       ]
      },
      {
       "output_type": "stream",
       "stream": "stdout",
       "text": [
        " : http://www.fht360.com/productlist/260/8-2-1009.html\n",
        "0.33"
       ]
      },
      {
       "output_type": "stream",
       "stream": "stdout",
       "text": [
        " : http://www.fht360.com/productlist/307/10830-3.html\n",
        "0.25"
       ]
      },
      {
       "output_type": "stream",
       "stream": "stdout",
       "text": [
        " : http://www.fht360.com/productlist/336/14591-2.html\n",
        "0.26"
       ]
      },
      {
       "output_type": "stream",
       "stream": "stdout",
       "text": [
        " : http://www.fht360.com/productlist/226/10901-2.html\n",
        "0.42"
       ]
      },
      {
       "output_type": "stream",
       "stream": "stdout",
       "text": [
        " : http://www.fht360.com/productlist/413/363-2-1487.html\n",
        "0.48"
       ]
      },
      {
       "output_type": "stream",
       "stream": "stdout",
       "text": [
        " : http://www.fht360.com/companylist/199/10937-2.html\n",
        "0.52"
       ]
      },
      {
       "output_type": "stream",
       "stream": "stdout",
       "text": [
        " : http://www.fht360.com/companylist/38-2-880.html\n",
        "0.52"
       ]
      },
      {
       "output_type": "stream",
       "stream": "stdout",
       "text": [
        " : http://www.fht360.com/productlist/356/13330-3.html\n",
        "0.40"
       ]
      },
      {
       "output_type": "stream",
       "stream": "stdout",
       "text": [
        " : http://www.fht360.com/productlist/250/1207-2.html\n",
        "1.02"
       ]
      },
      {
       "output_type": "stream",
       "stream": "stdout",
       "text": [
        " : http://www.fht360.com/productlist/246-2-2299.html\n",
        "0.48"
       ]
      },
      {
       "output_type": "stream",
       "stream": "stdout",
       "text": [
        " : http://www.fht360.com/productlist/356/13332-7.html\n",
        "0.91"
       ]
      },
      {
       "output_type": "stream",
       "stream": "stdout",
       "text": [
        " : http://www.fht360.com/companylist/167-11-860.html\n",
        "0.67"
       ]
      },
      {
       "output_type": "stream",
       "stream": "stdout",
       "text": [
        " : http://www.fht360.com/companylist/167/3-2-2189.html\n",
        "0.49"
       ]
      },
      {
       "output_type": "stream",
       "stream": "stdout",
       "text": [
        " : http://www.fht360.com/companylist/167/3-5-2186.html\n",
        "0.26"
       ]
      },
      {
       "output_type": "stream",
       "stream": "stdout",
       "text": [
        " : http://www.fht360.com/productlist/236/17351-3.html\n",
        "0.25"
       ]
      },
      {
       "output_type": "stream",
       "stream": "stdout",
       "text": [
        " : http://www.fht360.com/productlist/284/15686-3.html\n",
        "0.33"
       ]
      },
      {
       "output_type": "stream",
       "stream": "stdout",
       "text": [
        " : http://www.fht360.com/productlist/316/8058-3.html\n",
        "0.36"
       ]
      },
      {
       "output_type": "stream",
       "stream": "stdout",
       "text": [
        " : http://www.fht360.com/productlist/346/12032-2-2137.html\n",
        "0.83"
       ]
      },
      {
       "output_type": "stream",
       "stream": "stdout",
       "text": [
        " : http://www.fht360.com/productlist/333-3-880.html\n",
        "0.43"
       ]
      },
      {
       "output_type": "stream",
       "stream": "stdout",
       "text": [
        " : http://www.fht360.com/productlist/231/15724-2-1260.html\n",
        "0.28"
       ]
      },
      {
       "output_type": "stream",
       "stream": "stdout",
       "text": [
        " : http://www.fht360.com/productlist/357/11349-3.html\n",
        "0.24"
       ]
      },
      {
       "output_type": "stream",
       "stream": "stdout",
       "text": [
        " : http://www.fht360.com/productlist/285-2-1260.html\n",
        "0.24"
       ]
      },
      {
       "output_type": "stream",
       "stream": "stdout",
       "text": [
        " : http://www.fht360.com/productlist/241/462-2.html\n",
        "0.55"
       ]
      },
      {
       "output_type": "stream",
       "stream": "stdout",
       "text": [
        " : http://www.fht360.com/productlist/292/193-5-880.html\n",
        "0.30"
       ]
      },
      {
       "output_type": "stream",
       "stream": "stdout",
       "text": [
        " : http://www.fht360.com/productlist/332-2-1009.html\n",
        "0.51"
       ]
      },
      {
       "output_type": "stream",
       "stream": "stdout",
       "text": [
        " : http://www.fht360.com/companylist/179-2-2164.html\n",
        "0.47"
       ]
      },
      {
       "output_type": "stream",
       "stream": "stdout",
       "text": [
        " : http://www.fht360.com/productlist/334-3-20.html\n",
        "0.42"
       ]
      },
      {
       "output_type": "stream",
       "stream": "stdout",
       "text": [
        " : http://www.fht360.com/productlist/298-2-1009.html\n",
        "0.13"
       ]
      },
      {
       "output_type": "stream",
       "stream": "stdout",
       "text": [
        " : http://www.fht360.com/productlist/228/8152-4.html\n",
        "0.26"
       ]
      },
      {
       "output_type": "stream",
       "stream": "stdout",
       "text": [
        " : http://www.fht360.com/productlist/331/10009-2.html\n",
        "0.49"
       ]
      },
      {
       "output_type": "stream",
       "stream": "stdout",
       "text": [
        " : http://www.fht360.com/companylist/37/10430-2.html\n",
        "4.24"
       ]
      },
      {
       "output_type": "stream",
       "stream": "stdout",
       "text": [
        " : http://www.fht360.com/companylist/49-2-2508.html\n",
        "1.11"
       ]
      },
      {
       "output_type": "stream",
       "stream": "stdout",
       "text": [
        " : http://www.fht360.com/productlist/255/635-6.html\n",
        "0.39"
       ]
      },
      {
       "output_type": "stream",
       "stream": "stdout",
       "text": [
        " : http://www.fht360.com/productlist/231/16044-2-2137.html\n",
        "0.62"
       ]
      },
      {
       "output_type": "stream",
       "stream": "stdout",
       "text": [
        " : http://www.fht360.com/productlist/424-4-2467.html\n",
        "0.77"
       ]
      },
      {
       "output_type": "stream",
       "stream": "stdout",
       "text": [
        " : http://www.fht360.com/productlist/351/13164-2-2137.html\n",
        "0.49"
       ]
      },
      {
       "output_type": "stream",
       "stream": "stdout",
       "text": [
        " : http://www.fht360.com/companylist/225/83-2-1487.html\n",
        "1.64"
       ]
      },
      {
       "output_type": "stream",
       "stream": "stdout",
       "text": [
        " : http://www.fht360.com/productlist/228-17-2137.html\n",
        "0.76"
       ]
      },
      {
       "output_type": "stream",
       "stream": "stdout",
       "text": [
        " : http://www.fht360.com/productlist/270/10348-3-880.html\n",
        "0.48"
       ]
      },
      {
       "output_type": "stream",
       "stream": "stdout",
       "text": [
        " : http://www.fht360.com/productlist/262/3562-2-1487.html\n",
        "0.44"
       ]
      },
      {
       "output_type": "stream",
       "stream": "stdout",
       "text": [
        " : http://www.fht360.com/productlist/279-2-1009.html\n",
        "0.62"
       ]
      },
      {
       "output_type": "stream",
       "stream": "stdout",
       "text": [
        " : http://www.fht360.com/companylist/45-2-1009.html\n",
        "0.49"
       ]
      },
      {
       "output_type": "stream",
       "stream": "stdout",
       "text": [
        " : http://www.fht360.com/productlist/226/10823-4-39.html\n",
        "0.54"
       ]
      },
      {
       "output_type": "stream",
       "stream": "stdout",
       "text": [
        " : http://www.fht360.com/productlist/424/14738-2-2137.html\n",
        "0.45"
       ]
      },
      {
       "output_type": "stream",
       "stream": "stdout",
       "text": [
        " : http://www.fht360.com/productlist/352-2-2508.html\n",
        "0.67"
       ]
      },
      {
       "output_type": "stream",
       "stream": "stdout",
       "text": [
        " : http://www.fht360.com/productlist/241-1-1662.html\n",
        "0.51"
       ]
      },
      {
       "output_type": "stream",
       "stream": "stdout",
       "text": [
        " : http://www.fht360.com/companylist/167/3-3-1619.html\n",
        "0.30"
       ]
      },
      {
       "output_type": "stream",
       "stream": "stdout",
       "text": [
        " : http://www.fht360.com/productlist/374/14165-4.html\n",
        "0.44"
       ]
      },
      {
       "output_type": "stream",
       "stream": "stdout",
       "text": [
        " : http://www.fht360.com/productlist/301/7857-2-880.html\n",
        "0.16"
       ]
      },
      {
       "output_type": "stream",
       "stream": "stdout",
       "text": [
        " : http://www.fht360.com/productlist/379-20.html\n",
        "0.31"
       ]
      },
      {
       "output_type": "stream",
       "stream": "stdout",
       "text": [
        " : http://www.fht360.com/productlist/374-7.html\n",
        "0.72"
       ]
      },
      {
       "output_type": "stream",
       "stream": "stdout",
       "text": [
        " : http://www.fht360.com/productlist/375-35.html\n",
        "0.84"
       ]
      },
      {
       "output_type": "stream",
       "stream": "stdout",
       "text": [
        " : http://www.fht360.com/productlist/377-86.html\n",
        "0.88"
       ]
      },
      {
       "output_type": "stream",
       "stream": "stdout",
       "text": [
        " : http://www.fht360.com/productlist/370-5.html\n",
        "0.29"
       ]
      },
      {
       "output_type": "stream",
       "stream": "stdout",
       "text": [
        " : http://www.fht360.com/productlist/231/16045-13-1487.html\n",
        "0.23"
       ]
      },
      {
       "output_type": "stream",
       "stream": "stdout",
       "text": [
        " : http://www.fht360.com/productlist/415/91-23-1487.html\n",
        "0.37"
       ]
      },
      {
       "output_type": "stream",
       "stream": "stdout",
       "text": [
        " : http://www.fht360.com/productlist/236/394-3-1.html\n",
        "0.48"
       ]
      },
      {
       "output_type": "stream",
       "stream": "stdout",
       "text": [
        " : http://www.fht360.com/companylist/167/3-2-873.html\n",
        "0.55"
       ]
      },
      {
       "output_type": "stream",
       "stream": "stdout",
       "text": [
        " : http://www.fht360.com/companylist/167-2-3065.html\n",
        "0.33"
       ]
      },
      {
       "output_type": "stream",
       "stream": "stdout",
       "text": [
        " : http://www.fht360.com/productlist/328/12439-5.html\n",
        "0.57"
       ]
      },
      {
       "output_type": "stream",
       "stream": "stdout",
       "text": [
        " : http://www.fht360.com/companylist/34/9-3-1487.html\n",
        "0.44"
       ]
      },
      {
       "output_type": "stream",
       "stream": "stdout",
       "text": [
        " : http://www.fht360.com/productlist/245/7869-2-1487.html\n",
        "0.34"
       ]
      },
      {
       "output_type": "stream",
       "stream": "stdout",
       "text": [
        " : http://www.fht360.com/productlist/246/14800-2.html\n",
        "0.45"
       ]
      },
      {
       "output_type": "stream",
       "stream": "stdout",
       "text": [
        " : http://www.fht360.com/productlist/246-1-3193.html\n",
        "0.33"
       ]
      },
      {
       "output_type": "stream",
       "stream": "stdout",
       "text": [
        " : http://www.fht360.com/productlist/432/39-10.html\n",
        "0.83"
       ]
      },
      {
       "output_type": "stream",
       "stream": "stdout",
       "text": [
        " : http://www.fht360.com/productlist/375/32-4-880.html\n",
        "0.44"
       ]
      },
      {
       "output_type": "stream",
       "stream": "stdout",
       "text": [
        " : http://www.fht360.com/productlist/250/1189-3-1487.html\n",
        "0.44"
       ]
      },
      {
       "output_type": "stream",
       "stream": "stdout",
       "text": [
        " : http://www.fht360.com/productlist/246/12198-2-860.html\n",
        "0.48"
       ]
      },
      {
       "output_type": "stream",
       "stream": "stdout",
       "text": [
        " : http://www.fht360.com/companylist/164/3-3-1010.html\n",
        "0.49"
       ]
      },
      {
       "output_type": "stream",
       "stream": "stdout",
       "text": [
        " : http://www.fht360.com/companylist/48/3-2-1668.html\n",
        "0.27"
       ]
      },
      {
       "output_type": "stream",
       "stream": "stdout",
       "text": [
        " : http://www.fht360.com/productlist/273/10035-2.html\n",
        "0.59"
       ]
      },
      {
       "output_type": "stream",
       "stream": "stdout",
       "text": [
        " : http://www.fht360.com/companylist/81-2-2137.html\n",
        "0.48"
       ]
      },
      {
       "output_type": "stream",
       "stream": "stdout",
       "text": [
        " : http://www.fht360.com/companylist/48-5-2186.html\n",
        "1.19"
       ]
      },
      {
       "output_type": "stream",
       "stream": "stdout",
       "text": [
        " : http://www.fht360.com/productlist/324/12421-12-860.html\n",
        "0.48"
       ]
      },
      {
       "output_type": "stream",
       "stream": "stdout",
       "text": [
        " : http://www.fht360.com/companylist/48-2-2189.html\n",
        "0.48"
       ]
      },
      {
       "output_type": "stream",
       "stream": "stdout",
       "text": [
        " : http://www.fht360.com/companylist/48/3-10-1662.html\n",
        "0.48"
       ]
      },
      {
       "output_type": "stream",
       "stream": "stdout",
       "text": [
        " : http://www.fht360.com/companylist/139-5-2137.html\n",
        "0.58"
       ]
      },
      {
       "output_type": "stream",
       "stream": "stdout",
       "text": [
        " : http://www.fht360.com/companylist/139-3-2138.html\n",
        "0.44"
       ]
      },
      {
       "output_type": "stream",
       "stream": "stdout",
       "text": [
        " : http://www.fht360.com/productlist/233/7239-10-39.html\n",
        "0.27"
       ]
      },
      {
       "output_type": "stream",
       "stream": "stdout",
       "text": [
        " : http://www.fht360.com/productlist/326-29-39.html\n",
        "0.89"
       ]
      },
      {
       "output_type": "stream",
       "stream": "stdout",
       "text": [
        " : http://www.fht360.com/companylist/48-2-132.html\n",
        "0.52"
       ]
      },
      {
       "output_type": "stream",
       "stream": "stdout",
       "text": [
        " : http://www.fht360.com/companylist/167-3-1488.html\n",
        "1.39"
       ]
      },
      {
       "output_type": "stream",
       "stream": "stdout",
       "text": [
        " : http://www.fht360.com/productlist/375-5-880.html\n",
        "0.58"
       ]
      },
      {
       "output_type": "stream",
       "stream": "stdout",
       "text": [
        " : http://www.fht360.com/productlist/326-2-1122.html\n",
        "0.51"
       ]
      },
      {
       "output_type": "stream",
       "stream": "stdout",
       "text": [
        " : http://www.fht360.com/companylist/34-2-1524.html\n",
        "0.55"
       ]
      },
      {
       "output_type": "stream",
       "stream": "stdout",
       "text": [
        " : http://www.fht360.com/companylist/149/10261-2.html\n",
        "0.62"
       ]
      },
      {
       "output_type": "stream",
       "stream": "stdout",
       "text": [
        " : http://www.fht360.com/companylist/210-2-1488.html\n",
        "0.52"
       ]
      },
      {
       "output_type": "stream",
       "stream": "stdout",
       "text": [
        " : http://www.fht360.com/companylist/210-4-1487.html\n",
        "0.51"
       ]
      },
      {
       "output_type": "stream",
       "stream": "stdout",
       "text": [
        " : http://www.fht360.com/productlist/236/1843-2-1122.html\n",
        "0.43"
       ]
      },
      {
       "output_type": "stream",
       "stream": "stdout",
       "text": [
        " : http://www.fht360.com/productlist/241-1-706.html\n",
        "0.49"
       ]
      },
      {
       "output_type": "stream",
       "stream": "stdout",
       "text": [
        " : http://www.fht360.com/companylist/205/10627-2.html\n",
        "0.52"
       ]
      },
      {
       "output_type": "stream",
       "stream": "stdout",
       "text": [
        " : http://www.fht360.com/companylist/93/10833-2.html\n",
        "0.53"
       ]
      },
      {
       "output_type": "stream",
       "stream": "stdout",
       "text": [
        " : http://www.fht360.com/productlist/254-4-1487.html\n",
        "1.49"
       ]
      },
      {
       "output_type": "stream",
       "stream": "stdout",
       "text": [
        " : http://www.fht360.com/productlist/424/3784-2-39.html\n",
        "0.76"
       ]
      },
      {
       "output_type": "stream",
       "stream": "stdout",
       "text": [
        " : http://www.fht360.com/companylist/34/10393-2.html\n",
        "0.52"
       ]
      },
      {
       "output_type": "stream",
       "stream": "stdout",
       "text": [
        " : http://www.fht360.com/companylist/179-4.html\n",
        "0.42"
       ]
      },
      {
       "output_type": "stream",
       "stream": "stdout",
       "text": [
        " : http://www.fht360.com/companylist/173-2.html\n",
        "0.48"
       ]
      },
      {
       "output_type": "stream",
       "stream": "stdout",
       "text": [
        " : http://www.fht360.com/companylist/170-4.html\n",
        "0.55"
       ]
      },
      {
       "output_type": "stream",
       "stream": "stdout",
       "text": [
        " : http://www.fht360.com/companylist/176-2.html\n",
        "1.25"
       ]
      },
      {
       "output_type": "stream",
       "stream": "stdout",
       "text": [
        " : http://www.fht360.com/companylist/177-3.html\n",
        "0.61"
       ]
      },
      {
       "output_type": "stream",
       "stream": "stdout",
       "text": [
        " : http://www.fht360.com/companylist/175-3.html\n",
        "0.31"
       ]
      },
      {
       "output_type": "stream",
       "stream": "stdout",
       "text": [
        " : http://www.fht360.com/productlist/430/14728-3.html\n",
        "1.11"
       ]
      },
      {
       "output_type": "stream",
       "stream": "stdout",
       "text": [
        " : http://www.fht360.com/companylist/162/3-2-111.html\n",
        "0.38"
       ]
      },
      {
       "output_type": "stream",
       "stream": "stdout",
       "text": [
        " : http://www.fht360.com/productlist/351/13678-4-2137.html\n",
        "0.45"
       ]
      },
      {
       "output_type": "stream",
       "stream": "stdout",
       "text": [
        " : http://www.fht360.com/productlist/324/7897-3-880.html\n",
        "0.84"
       ]
      },
      {
       "output_type": "stream",
       "stream": "stdout",
       "text": [
        " : http://www.fht360.com/companylist/49/10687-2-2137.html\n",
        "0.27"
       ]
      },
      {
       "output_type": "stream",
       "stream": "stdout",
       "text": [
        " : http://www.fht360.com/productlist/235-20-880.html\n",
        "0.73"
       ]
      },
      {
       "output_type": "stream",
       "stream": "stdout",
       "text": [
        " : http://www.fht360.com/companylist/63-2-2137.html\n",
        "4.05"
       ]
      },
      {
       "output_type": "stream",
       "stream": "stdout",
       "text": [
        " : http://www.fht360.com/productlist/231/7-8-880.html\n",
        "1.17"
       ]
      },
      {
       "output_type": "stream",
       "stream": "stdout",
       "text": [
        " : http://www.fht360.com/companylist/199-2-1376.html\n",
        "0.76"
       ]
      },
      {
       "output_type": "stream",
       "stream": "stdout",
       "text": [
        " : http://www.fht360.com/productlist/433-4-1.html\n",
        "0.37"
       ]
      },
      {
       "output_type": "stream",
       "stream": "stdout",
       "text": [
        " : http://www.fht360.com/productlist/233/16956-4-2137.html\n",
        "0.73"
       ]
      },
      {
       "output_type": "stream",
       "stream": "stdout",
       "text": [
        " : http://www.fht360.com/productlist/324/68-4-1857.html\n",
        "0.49"
       ]
      },
      {
       "output_type": "stream",
       "stream": "stdout",
       "text": [
        " : http://www.fht360.com/companylist/243-2-2164.html\n",
        "0.45"
       ]
      },
      {
       "output_type": "stream",
       "stream": "stdout",
       "text": [
        " : http://www.fht360.com/productlist/281-3-880.html\n",
        "0.30"
       ]
      },
      {
       "output_type": "stream",
       "stream": "stdout",
       "text": [
        " : http://www.fht360.com/productlist/237-2-2467.html\n",
        "0.54"
       ]
      },
      {
       "output_type": "stream",
       "stream": "stdout",
       "text": [
        " : http://www.fht360.com/productlist/292/193-2-39.html\n",
        "0.45"
       ]
      },
      {
       "output_type": "stream",
       "stream": "stdout",
       "text": [
        " : http://www.fht360.com/productlist/231/477-9-1487.html\n",
        "0.42"
       ]
      },
      {
       "output_type": "stream",
       "stream": "stdout",
       "text": [
        " : http://www.fht360.com/productlist/412/14106-2-2137.html\n",
        "0.74"
       ]
      },
      {
       "output_type": "stream",
       "stream": "stdout",
       "text": [
        " : http://www.fht360.com/companylist/137-3-860.html\n",
        "4.24"
       ]
      },
      {
       "output_type": "stream",
       "stream": "stdout",
       "text": [
        " : http://www.fht360.com/productlist/245-1-2508.html\n",
        "4.10"
       ]
      },
      {
       "output_type": "stream",
       "stream": "stdout",
       "text": [
        " : http://www.fht360.com/companylist/52-3-880.html\n",
        "1.57"
       ]
      },
      {
       "output_type": "stream",
       "stream": "stdout",
       "text": [
        " : http://www.fht360.com/productlist/337/12176-2-2137.html\n",
        "0.47"
       ]
      },
      {
       "output_type": "stream",
       "stream": "stdout",
       "text": [
        " : http://www.fht360.com/productlist/334-16-880.html\n",
        "0.60"
       ]
      },
      {
       "output_type": "stream",
       "stream": "stdout",
       "text": [
        " : http://www.fht360.com/productlist/239/734-6-1487.html\n",
        "0.35"
       ]
      },
      {
       "output_type": "stream",
       "stream": "stdout",
       "text": [
        " : http://www.fht360.com/productlist/231/11987-4.html\n",
        "0.42"
       ]
      },
      {
       "output_type": "stream",
       "stream": "stdout",
       "text": [
        " : http://www.fht360.com/productlist/293/930-2-880.html\n",
        "0.48"
       ]
      },
      {
       "output_type": "stream",
       "stream": "stdout",
       "text": [
        " : http://www.fht360.com/companylist/164-2-1668.html\n",
        "0.47"
       ]
      },
      {
       "output_type": "stream",
       "stream": "stdout",
       "text": [
        " : http://www.fht360.com/productlist/231/15792-3-39.html\n",
        "0.48"
       ]
      },
      {
       "output_type": "stream",
       "stream": "stdout",
       "text": [
        " : http://www.fht360.com/companylist/164-10-1662.html\n",
        "0.48"
       ]
      },
      {
       "output_type": "stream",
       "stream": "stdout",
       "text": [
        " : http://www.fht360.com/companylist/164-5-1663.html\n",
        "0.62"
       ]
      },
      {
       "output_type": "stream",
       "stream": "stdout",
       "text": [
        " : http://www.fht360.com/companylist/39-3-2278.html\n",
        "0.26"
       ]
      },
      {
       "output_type": "stream",
       "stream": "stdout",
       "text": [
        " : http://www.fht360.com/productlist/226-7-1662.html\n",
        "0.49"
       ]
      },
      {
       "output_type": "stream",
       "stream": "stdout",
       "text": [
        " : http://www.fht360.com/productlist/239/394-6.html\n",
        "0.76"
       ]
      },
      {
       "output_type": "stream",
       "stream": "stdout",
       "text": [
        " : http://www.fht360.com/companylist/167/3-2-936.html\n",
        "0.47"
       ]
      },
      {
       "output_type": "stream",
       "stream": "stdout",
       "text": [
        " : http://www.fht360.com/companylist/167/3-2-938.html\n",
        "0.56"
       ]
      },
      {
       "output_type": "stream",
       "stream": "stdout",
       "text": [
        " : http://www.fht360.com/companylist/56/4-2-1488.html\n",
        "0.31"
       ]
      },
      {
       "output_type": "stream",
       "stream": "stdout",
       "text": [
        " : http://www.fht360.com/productlist/433/11350-10.html\n",
        "0.27"
       ]
      },
      {
       "output_type": "stream",
       "stream": "stdout",
       "text": [
        " : http://www.fht360.com/productlist/252/16667-5.html\n",
        "0.70"
       ]
      },
      {
       "output_type": "stream",
       "stream": "stdout",
       "text": [
        " : http://www.fht360.com/companylist/205-2-2137.html\n",
        "0.35"
       ]
      },
      {
       "output_type": "stream",
       "stream": "stdout",
       "text": [
        " : http://www.fht360.com/productlist/254/260-2-880.html\n",
        "0.42"
       ]
      },
      {
       "output_type": "stream",
       "stream": "stdout",
       "text": [
        " : http://www.fht360.com/productlist/269-7-880.html\n",
        "0.26"
       ]
      },
      {
       "output_type": "stream",
       "stream": "stdout",
       "text": [
        " : http://www.fht360.com/productlist/331-2-2508.html\n",
        "0.25"
       ]
      },
      {
       "output_type": "stream",
       "stream": "stdout",
       "text": [
        " : http://www.fht360.com/productlist/331-4-1662.html\n",
        "0.42"
       ]
      },
      {
       "output_type": "stream",
       "stream": "stdout",
       "text": [
        " : http://www.fht360.com/productlist/249/12353-7.html\n",
        "0.78"
       ]
      },
      {
       "output_type": "stream",
       "stream": "stdout",
       "text": [
        " : http://www.fht360.com/companylist/47-3-880.html\n",
        "0.51"
       ]
      },
      {
       "output_type": "stream",
       "stream": "stdout",
       "text": [
        " : http://www.fht360.com/productlist/231-5-1.html\n",
        "0.31"
       ]
      },
      {
       "output_type": "stream",
       "stream": "stdout",
       "text": [
        " : http://www.fht360.com/productlist/264/7984-4.html\n",
        "0.72"
       ]
      },
      {
       "output_type": "stream",
       "stream": "stdout",
       "text": [
        " : http://www.fht360.com/productlist/427/12187-2-1009.html\n",
        "0.81"
       ]
      },
      {
       "output_type": "stream",
       "stream": "stdout",
       "text": [
        " : http://www.fht360.com/productlist/268/287-2-1487.html\n",
        "0.37"
       ]
      },
      {
       "output_type": "stream",
       "stream": "stdout",
       "text": [
        " : http://www.fht360.com/productlist/246/13443-2-1009.html\n",
        "0.26"
       ]
      },
      {
       "output_type": "stream",
       "stream": "stdout",
       "text": [
        " : http://www.fht360.com/productlist/319/8206-3.html\n",
        "0.55"
       ]
      },
      {
       "output_type": "stream",
       "stream": "stdout",
       "text": [
        " : http://www.fht360.com/companylist/197-2-2137.html\n",
        "0.63"
       ]
      },
      {
       "output_type": "stream",
       "stream": "stdout",
       "text": [
        " : http://www.fht360.com/companylist/49-2-1075.html\n",
        "0.52"
       ]
      },
      {
       "output_type": "stream",
       "stream": "stdout",
       "text": [
        " : http://www.fht360.com/companylist/56/4-4-1487.html\n",
        "0.43"
       ]
      },
      {
       "output_type": "stream",
       "stream": "stdout",
       "text": [
        " : http://www.fht360.com/productlist/360/46-11.html\n",
        "0.44"
       ]
      },
      {
       "output_type": "stream",
       "stream": "stdout",
       "text": [
        " : http://www.fht360.com/productlist/283/17261-2-39.html\n",
        "0.42"
       ]
      },
      {
       "output_type": "stream",
       "stream": "stdout",
       "text": [
        " : http://www.fht360.com/productlist/430-4-2137.html\n",
        "0.38"
       ]
      },
      {
       "output_type": "stream",
       "stream": "stdout",
       "text": [
        " : http://www.fht360.com/productlist/324/10010-2-39.html\n",
        "0.44"
       ]
      },
      {
       "output_type": "stream",
       "stream": "stdout",
       "text": [
        " : http://www.fht360.com/productlist/307-7-1487.html\n",
        "0.46"
       ]
      },
      {
       "output_type": "stream",
       "stream": "stdout",
       "text": [
        " : http://www.fht360.com/productlist/424/14775-3-2137.html\n",
        "0.36"
       ]
      },
      {
       "output_type": "stream",
       "stream": "stdout",
       "text": [
        " : http://www.fht360.com/productlist/236/187-2-1487.html\n",
        "0.43"
       ]
      },
      {
       "output_type": "stream",
       "stream": "stdout",
       "text": [
        " : http://www.fht360.com/productlist/244-4-880.html\n",
        "0.26"
       ]
      },
      {
       "output_type": "stream",
       "stream": "stdout",
       "text": [
        " : http://www.fht360.com/productlist/246/13447-5.html\n",
        "0.32"
       ]
      },
      {
       "output_type": "stream",
       "stream": "stdout",
       "text": [
        " : http://www.fht360.com/productlist/370/14138-4.html\n",
        "0.47"
       ]
      },
      {
       "output_type": "stream",
       "stream": "stdout",
       "text": [
        " : http://www.fht360.com/companylist/162/3-2-2508.html\n",
        "0.47"
       ]
      },
      {
       "output_type": "stream",
       "stream": "stdout",
       "text": [
        " : http://www.fht360.com/companylist/164-3-986.html\n",
        "0.38"
       ]
      },
      {
       "output_type": "stream",
       "stream": "stdout",
       "text": [
        " : http://www.fht360.com/productlist/246/12331-2-2137.html\n",
        "0.57"
       ]
      },
      {
       "output_type": "stream",
       "stream": "stdout",
       "text": [
        " : http://www.fht360.com/companylist/85-2-2137.html\n",
        "0.55"
       ]
      },
      {
       "output_type": "stream",
       "stream": "stdout",
       "text": [
        " : http://www.fht360.com/companylist/48/3-2-1514.html\n",
        "0.46"
       ]
      },
      {
       "output_type": "stream",
       "stream": "stdout",
       "text": [
        " : http://www.fht360.com/productlist/324/11675-2-1487.html\n",
        "0.42"
       ]
      },
      {
       "output_type": "stream",
       "stream": "stdout",
       "text": [
        " : http://www.fht360.com/productlist/348/10774-2-880.html\n",
        "0.42"
       ]
      },
      {
       "output_type": "stream",
       "stream": "stdout",
       "text": [
        " : http://www.fht360.com/productlist/304-2-880.html\n",
        "0.50"
       ]
      },
      {
       "output_type": "stream",
       "stream": "stdout",
       "text": [
        " : http://www.fht360.com/companylist/246-4-2164.html\n",
        "0.33"
       ]
      },
      {
       "output_type": "stream",
       "stream": "stdout",
       "text": [
        " : http://www.fht360.com/productlist/355/41-3.html\n",
        "0.47"
       ]
      },
      {
       "output_type": "stream",
       "stream": "stdout",
       "text": [
        " : http://www.fht360.com/companylist/246-2-2169.html\n",
        "0.32"
       ]
      },
      {
       "output_type": "stream",
       "stream": "stdout",
       "text": [
        " : http://www.fht360.com/productlist/250/18085-4.html\n",
        "0.68"
       ]
      },
      {
       "output_type": "stream",
       "stream": "stdout",
       "text": [
        " : http://www.fht360.com/companylist/165/3-11-860.html\n",
        "0.44"
       ]
      },
      {
       "output_type": "stream",
       "stream": "stdout",
       "text": [
        " : http://www.fht360.com/productlist/231/15793-2-860.html\n",
        "0.48"
       ]
      },
      {
       "output_type": "stream",
       "stream": "stdout",
       "text": [
        " : http://www.fht360.com/productlist/424/12292-2-1009.html\n",
        "0.53"
       ]
      },
      {
       "output_type": "stream",
       "stream": "stdout",
       "text": [
        " : http://www.fht360.com/companylist/189-2-2137.html\n",
        "0.43"
       ]
      },
      {
       "output_type": "stream",
       "stream": "stdout",
       "text": [
        " : http://www.fht360.com/productlist/233/15916-4-1009.html\n",
        "0.51"
       ]
      },
      {
       "output_type": "stream",
       "stream": "stdout",
       "text": [
        " : http://www.fht360.com/companylist/78/661-2.html\n",
        "0.47"
       ]
      },
      {
       "output_type": "stream",
       "stream": "stdout",
       "text": [
        " : http://www.fht360.com/companylist/48-4-1553.html\n",
        "1.27"
       ]
      },
      {
       "output_type": "stream",
       "stream": "stdout",
       "text": [
        " : http://www.fht360.com/companylist/165/3-24-1487.html\n",
        "1.64"
       ]
      },
      {
       "output_type": "stream",
       "stream": "stdout",
       "text": [
        " : http://www.fht360.com/productlist/337/13448-8.html\n",
        "0.37"
       ]
      },
      {
       "output_type": "stream",
       "stream": "stdout",
       "text": [
        " : http://www.fht360.com/productlist/226/10830-3-1487.html\n",
        "0.91"
       ]
      },
      {
       "output_type": "stream",
       "stream": "stdout",
       "text": [
        " : http://www.fht360.com/productlist/314/2704-2.html\n",
        "0.90"
       ]
      },
      {
       "output_type": "stream",
       "stream": "stdout",
       "text": [
        " : http://www.fht360.com/productlist/301/11713-5-39.html\n",
        "0.64"
       ]
      },
      {
       "output_type": "stream",
       "stream": "stdout",
       "text": [
        " : http://www.fht360.com/companylist/225/83-4.html\n",
        "0.32"
       ]
      },
      {
       "output_type": "stream",
       "stream": "stdout",
       "text": [
        " : http://www.fht360.com/productlist/335/3408-7.html\n",
        "0.29"
       ]
      },
      {
       "output_type": "stream",
       "stream": "stdout",
       "text": [
        " : http://www.fht360.com/productlist/358/14925-3.html\n",
        "0.35"
       ]
      },
      {
       "output_type": "stream",
       "stream": "stdout",
       "text": [
        " : http://www.fht360.com/productlist/326/10804-6-2137.html\n",
        "0.72"
       ]
      },
      {
       "output_type": "stream",
       "stream": "stdout",
       "text": [
        " : http://www.fht360.com/productlist/250/1216-4-1487.html\n",
        "0.27"
       ]
      },
      {
       "output_type": "stream",
       "stream": "stdout",
       "text": [
        " : http://www.fht360.com/productlist/236/15686-3.html\n",
        "0.49"
       ]
      },
      {
       "output_type": "stream",
       "stream": "stdout",
       "text": [
        " : http://www.fht360.com/companylist/165/3-3-1857.html\n",
        "0.51"
       ]
      },
      {
       "output_type": "stream",
       "stream": "stdout",
       "text": [
        " : http://www.fht360.com/companylist/165/3-2-1858.html\n",
        "1.12"
       ]
      },
      {
       "output_type": "stream",
       "stream": "stdout",
       "text": [
        " : http://www.fht360.com/productlist/424-67-1662.html\n",
        "0.49"
       ]
      },
      {
       "output_type": "stream",
       "stream": "stdout",
       "text": [
        " : http://www.fht360.com/companylist/34-2-1619.html\n",
        "1.10"
       ]
      },
      {
       "output_type": "stream",
       "stream": "stdout",
       "text": [
        " : http://www.fht360.com/productlist/410/15945-17.html\n",
        "0.66"
       ]
      },
      {
       "output_type": "stream",
       "stream": "stdout",
       "text": [
        " : http://www.fht360.com/companylist/58-4.html\n",
        "0.75"
       ]
      },
      {
       "output_type": "stream",
       "stream": "stdout",
       "text": [
        " : http://www.fht360.com/companylist/59-18.html\n",
        "0.83"
       ]
      },
      {
       "output_type": "stream",
       "stream": "stdout",
       "text": [
        " : http://www.fht360.com/companylist/164-10-2138.html\n",
        "0.60"
       ]
      },
      {
       "output_type": "stream",
       "stream": "stdout",
       "text": [
        " : http://www.fht360.com/companylist/52-42.html\n",
        "1.07"
       ]
      },
      {
       "output_type": "stream",
       "stream": "stdout",
       "text": [
        " : http://www.fht360.com/companylist/50-32.html\n",
        "0.47"
       ]
      },
      {
       "output_type": "stream",
       "stream": "stdout",
       "text": [
        " : http://www.fht360.com/companylist/56-15.html\n",
        "0.54"
       ]
      },
      {
       "output_type": "stream",
       "stream": "stdout",
       "text": [
        " : http://www.fht360.com/companylist/57-14.html\n",
        "0.46"
       ]
      },
      {
       "output_type": "stream",
       "stream": "stdout",
       "text": [
        " : http://www.fht360.com/companylist/54-16.html\n",
        "0.52"
       ]
      },
      {
       "output_type": "stream",
       "stream": "stdout",
       "text": [
        " : http://www.fht360.com/companylist/55-2.html\n",
        "1.00"
       ]
      },
      {
       "output_type": "stream",
       "stream": "stdout",
       "text": [
        " : http://www.fht360.com/productlist/358/14710-3-2137.html\n",
        "1.36"
       ]
      },
      {
       "output_type": "stream",
       "stream": "stdout",
       "text": [
        " : http://www.fht360.com/productlist/412/14106-2-860.html\n",
        "1.22"
       ]
      },
      {
       "output_type": "stream",
       "stream": "stdout",
       "text": [
        " : http://www.fht360.com/companylist/155-2-2164.html\n",
        "0.67"
       ]
      },
      {
       "output_type": "stream",
       "stream": "stdout",
       "text": [
        " : http://www.fht360.com/productlist/411/49-4.html\n",
        "0.64"
       ]
      },
      {
       "output_type": "stream",
       "stream": "stdout",
       "text": [
        " : http://www.fht360.com/productlist/324/78-6-1487.html\n",
        "0.64"
       ]
      },
      {
       "output_type": "stream",
       "stream": "stdout",
       "text": [
        " : http://www.fht360.com/companylist/199-2-2164.html\n",
        "0.63"
       ]
      },
      {
       "output_type": "stream",
       "stream": "stdout",
       "text": [
        " : http://www.fht360.com/productlist/426/14862-3-1260.html\n",
        "4.04"
       ]
      },
      {
       "output_type": "stream",
       "stream": "stdout",
       "text": [
        " : http://www.fht360.com/productlist/241/452-3-1487.html\n",
        "1.16"
       ]
      },
      {
       "output_type": "stream",
       "stream": "stdout",
       "text": [
        " : http://www.fht360.com/productlist/236/16171-2-880.html\n",
        "1.84"
       ]
      },
      {
       "output_type": "stream",
       "stream": "stdout",
       "text": [
        " : http://www.fht360.com/companylist/40/303-2.html\n",
        "0.55"
       ]
      },
      {
       "output_type": "stream",
       "stream": "stdout",
       "text": [
        " : http://www.fht360.com/productlist/248/12000-13-1487.html\n",
        "0.85"
       ]
      },
      {
       "output_type": "stream",
       "stream": "stdout",
       "text": [
        " : http://www.fht360.com/productlist/337-18-880.html\n",
        "0.65"
       ]
      },
      {
       "output_type": "stream",
       "stream": "stdout",
       "text": [
        " : http://www.fht360.com/productlist/251/15933-2-1662.html\n",
        "0.61"
       ]
      },
      {
       "output_type": "stream",
       "stream": "stdout",
       "text": [
        " : http://www.fht360.com/productlist/293-7-860.html\n",
        "0.54"
       ]
      },
      {
       "output_type": "stream",
       "stream": "stdout",
       "text": [
        " : http://www.fht360.com/companylist/210/4-3-880.html\n",
        "0.55"
       ]
      },
      {
       "output_type": "stream",
       "stream": "stdout",
       "text": [
        " : http://www.fht360.com/companylist/210/4-2-881.html\n",
        "0.58"
       ]
      },
      {
       "output_type": "stream",
       "stream": "stdout",
       "text": [
        " : http://www.fht360.com/productlist/237/10402-2-860.html\n",
        "0.74"
       ]
      },
      {
       "output_type": "stream",
       "stream": "stdout",
       "text": [
        " : http://www.fht360.com/productlist/311/12300-2-2137.html\n",
        "0.46"
       ]
      },
      {
       "output_type": "stream",
       "stream": "stdout",
       "text": [
        " : http://www.fht360.com/productlist/241/348-4.html\n",
        "0.67"
       ]
      },
      {
       "output_type": "stream",
       "stream": "stdout",
       "text": [
        " : http://www.fht360.com/productlist/335/12703-2-1487.html\n",
        "0.61"
       ]
      },
      {
       "output_type": "stream",
       "stream": "stdout",
       "text": [
        " : http://www.fht360.com/productlist/284-3-860.html\n",
        "0.45"
       ]
      },
      {
       "output_type": "stream",
       "stream": "stdout",
       "text": [
        " : http://www.fht360.com/productlist/237/10458-3.html\n",
        "0.44"
       ]
      },
      {
       "output_type": "stream",
       "stream": "stdout",
       "text": [
        " : http://www.fht360.com/productlist/237/10450-2.html\n",
        "0.45"
       ]
      },
      {
       "output_type": "stream",
       "stream": "stdout",
       "text": [
        " : http://www.fht360.com/productlist/237/10451-3.html\n",
        "0.45"
       ]
      },
      {
       "output_type": "stream",
       "stream": "stdout",
       "text": [
        " : http://www.fht360.com/productlist/235/18784-6.html\n",
        "0.46"
       ]
      },
      {
       "output_type": "stream",
       "stream": "stdout",
       "text": [
        " : http://www.fht360.com/productlist/233/677-8.html\n",
        "0.71"
       ]
      },
      {
       "output_type": "stream",
       "stream": "stdout",
       "text": [
        " : http://www.fht360.com/productlist/270/10346-4.html\n",
        "0.63"
       ]
      },
      {
       "output_type": "stream",
       "stream": "stdout",
       "text": [
        " : http://www.fht360.com/productlist/324/12465-4-1260.html\n",
        "0.41"
       ]
      },
      {
       "output_type": "stream",
       "stream": "stdout",
       "text": [
        " : http://www.fht360.com/productlist/316-2-860.html\n",
        "0.61"
       ]
      },
      {
       "output_type": "stream",
       "stream": "stdout",
       "text": [
        " : http://www.fht360.com/productlist/270/10348-3.html\n",
        "0.75"
       ]
      },
      {
       "output_type": "stream",
       "stream": "stdout",
       "text": [
        " : http://www.fht360.com/productlist/234/308-3-1487.html\n",
        "0.73"
       ]
      },
      {
       "output_type": "stream",
       "stream": "stdout",
       "text": [
        " : http://www.fht360.com/companylist/34/10255-2.html\n",
        "0.27"
       ]
      },
      {
       "output_type": "stream",
       "stream": "stdout",
       "text": [
        " : http://www.fht360.com/productlist/351-2-1987.html\n",
        "0.57"
       ]
      },
      {
       "output_type": "stream",
       "stream": "stdout",
       "text": [
        " : http://www.fht360.com/productlist/308/10885-2-1487.html\n",
        "0.69"
       ]
      },
      {
       "output_type": "stream",
       "stream": "stdout",
       "text": [
        " : http://www.fht360.com/productlist/341-2-1260.html\n",
        "0.47"
       ]
      },
      {
       "output_type": "stream",
       "stream": "stdout",
       "text": [
        " : http://www.fht360.com/productlist/241-3-1009.html\n",
        "0.65"
       ]
      },
      {
       "output_type": "stream",
       "stream": "stdout",
       "text": [
        " : http://www.fht360.com/productlist/326/7897-3-880.html\n",
        "0.51"
       ]
      },
      {
       "output_type": "stream",
       "stream": "stdout",
       "text": [
        " : http://www.fht360.com/companylist/164-3-1010.html\n",
        "0.63"
       ]
      },
      {
       "output_type": "stream",
       "stream": "stdout",
       "text": [
        " : http://www.fht360.com/productlist/249/170-2-880.html\n",
        "0.70"
       ]
      },
      {
       "output_type": "stream",
       "stream": "stdout",
       "text": [
        " : http://www.fht360.com/companylist/37-14-2137.html\n",
        "0.66"
       ]
      },
      {
       "output_type": "stream",
       "stream": "stdout",
       "text": [
        " : http://www.fht360.com/companylist/37-2-2138.html\n",
        "0.63"
       ]
      },
      {
       "output_type": "stream",
       "stream": "stdout",
       "text": [
        " : http://www.fht360.com/productlist/231/15525-3-1487.html\n",
        "1.70"
       ]
      },
      {
       "output_type": "stream",
       "stream": "stdout",
       "text": [
        " : http://www.fht360.com/productlist/246/41-2-880.html\n",
        "1.16"
       ]
      },
      {
       "output_type": "stream",
       "stream": "stdout",
       "text": [
        " : http://www.fht360.com/productlist/264/390-4-1662.html\n",
        "0.61"
       ]
      },
      {
       "output_type": "stream",
       "stream": "stdout",
       "text": [
        " : http://www.fht360.com/productlist/344-2-1487.html\n",
        "0.47"
       ]
      },
      {
       "output_type": "stream",
       "stream": "stdout",
       "text": [
        " : http://www.fht360.com/companylist/165-4-2170.html\n",
        "0.47"
       ]
      },
      {
       "output_type": "stream",
       "stream": "stdout",
       "text": [
        " : http://www.fht360.com/companylist/48/3-2-2279.html\n",
        "0.50"
       ]
      },
      {
       "output_type": "stream",
       "stream": "stdout",
       "text": [
        " : http://www.fht360.com/companylist/48/3-15-2278.html\n",
        "0.51"
       ]
      },
      {
       "output_type": "stream",
       "stream": "stdout",
       "text": [
        " : http://www.fht360.com/productlist/239/16069-3.html\n",
        "0.25"
       ]
      },
      {
       "output_type": "stream",
       "stream": "stdout",
       "text": [
        " : http://www.fht360.com/productlist/274-2-1364.html\n",
        "0.43"
       ]
      },
      {
       "output_type": "stream",
       "stream": "stdout",
       "text": [
        " : http://www.fht360.com/companylist/77-3-986.html\n",
        "0.47"
       ]
      },
      {
       "output_type": "stream",
       "stream": "stdout",
       "text": [
        " : http://www.fht360.com/companylist/167-2-1514.html\n",
        "0.48"
       ]
      },
      {
       "output_type": "stream",
       "stream": "stdout",
       "text": [
        " : http://www.fht360.com/companylist/66-3-2137.html\n",
        "0.59"
       ]
      },
      {
       "output_type": "stream",
       "stream": "stdout",
       "text": [
        " : http://www.fht360.com/productlist/231/11053-2-1487.html\n",
        "0.69"
       ]
      },
      {
       "output_type": "stream",
       "stream": "stdout",
       "text": [
        " : http://www.fht360.com/productlist/293-2-1260.html\n",
        "0.78"
       ]
      },
      {
       "output_type": "stream",
       "stream": "stdout",
       "text": [
        " : http://www.fht360.com/productlist/301-154.html\n",
        "1.07"
       ]
      },
      {
       "output_type": "stream",
       "stream": "stdout",
       "text": [
        " : http://www.fht360.com/productlist/324/11473-13.html\n",
        "0.83"
       ]
      },
      {
       "output_type": "stream",
       "stream": "stdout",
       "text": [
        " : http://www.fht360.com/productlist/410/1807-4-2137.html\n",
        "0.56"
       ]
      },
      {
       "output_type": "stream",
       "stream": "stdout",
       "text": [
        " : http://www.fht360.com/productlist/231/1044-5.html\n",
        "0.65"
       ]
      },
      {
       "output_type": "stream",
       "stream": "stdout",
       "text": [
        " : http://www.fht360.com/productlist/231/11415-3-1487.html\n",
        "1.71"
       ]
      },
      {
       "output_type": "stream",
       "stream": "stdout",
       "text": [
        " : http://www.fht360.com/productlist/328/12492-2-1662.html\n",
        "0.43"
       ]
      },
      {
       "output_type": "stream",
       "stream": "stdout",
       "text": [
        " : http://www.fht360.com/productlist/334-11-1662.html\n",
        "1.13"
       ]
      },
      {
       "output_type": "stream",
       "stream": "stdout",
       "text": [
        " : http://www.fht360.com/companylist/164-2-3065.html\n",
        "0.89"
       ]
      },
      {
       "output_type": "stream",
       "stream": "stdout",
       "text": [
        " : http://www.fht360.com/productlist/239/12076-7.html\n",
        "2.09"
       ]
      },
      {
       "output_type": "stream",
       "stream": "stdout",
       "text": [
        " : http://www.fht360.com/companylist/247-2-2164.html\n",
        "1.07"
       ]
      },
      {
       "output_type": "stream",
       "stream": "stdout",
       "text": [
        " : http://www.fht360.com/productlist/328-2-1662.html\n",
        "0.48"
       ]
      },
      {
       "output_type": "stream",
       "stream": "stdout",
       "text": [
        " : http://www.fht360.com/companylist/165-2-1276.html\n",
        "0.97"
       ]
      },
      {
       "output_type": "stream",
       "stream": "stdout",
       "text": [
        " : http://www.fht360.com/productlist/351-99-2137.html\n",
        "1.84"
       ]
      },
      {
       "output_type": "stream",
       "stream": "stdout",
       "text": [
        " : http://www.fht360.com/productlist/231/7-28-1487.html\n",
        "0.17"
       ]
      },
      {
       "output_type": "stream",
       "stream": "stdout",
       "text": [
        " : http://www.fht360.com/productlist/356-47.html\n",
        "0.75"
       ]
      },
      {
       "output_type": "stream",
       "stream": "stdout",
       "text": [
        " : http://www.fht360.com/companylist/184-3-2137.html\n",
        "2.54"
       ]
      },
      {
       "output_type": "stream",
       "stream": "stdout",
       "text": [
        " : http://www.fht360.com/productlist/341/12855-2.html\n",
        "1.20"
       ]
      },
      {
       "output_type": "stream",
       "stream": "stdout",
       "text": [
        " : http://www.fht360.com/productlist/283/185-2-39.html\n",
        "0.71"
       ]
      },
      {
       "output_type": "stream",
       "stream": "stdout",
       "text": [
        " : http://www.fht360.com/productlist/325/10528-4-2137.html\n",
        "0.47"
       ]
      },
      {
       "output_type": "stream",
       "stream": "stdout",
       "text": [
        " : http://www.fht360.com/productlist/343/10772-2.html\n",
        "0.44"
       ]
      },
      {
       "output_type": "stream",
       "stream": "stdout",
       "text": [
        " : http://www.fht360.com/productlist/343/10771-2.html\n",
        "0.65"
       ]
      },
      {
       "output_type": "stream",
       "stream": "stdout",
       "text": [
        " : http://www.fht360.com/productlist/343/10776-2.html\n",
        "0.52"
       ]
      },
      {
       "output_type": "stream",
       "stream": "stdout",
       "text": [
        " : http://www.fht360.com/productlist/343/10774-8.html\n",
        "0.70"
       ]
      },
      {
       "output_type": "stream",
       "stream": "stdout",
       "text": [
        " : http://www.fht360.com/companylist/170/10927-2-2137.html\n",
        "0.18"
       ]
      },
      {
       "output_type": "stream",
       "stream": "stdout",
       "text": [
        " : http://www.fht360.com/productlist/231/15809-2-1487.html\n",
        "0.65"
       ]
      },
      {
       "output_type": "stream",
       "stream": "stdout",
       "text": [
        " : http://www.fht360.com/productlist/358-3-880.html\n",
        "0.92"
       ]
      },
      {
       "output_type": "stream",
       "stream": "stdout",
       "text": [
        " : http://www.fht360.com/productlist/424-8-1857.html\n",
        "0.66"
       ]
      },
      {
       "output_type": "stream",
       "stream": "stdout",
       "text": [
        " : http://www.fht360.com/productlist/352/14131-4.html\n",
        "0.13"
       ]
      },
      {
       "output_type": "stream",
       "stream": "stdout",
       "text": [
        " : http://www.fht360.com/productlist/359-61.html\n",
        "0.54"
       ]
      },
      {
       "output_type": "stream",
       "stream": "stdout",
       "text": [
        " : http://www.fht360.com/productlist/352/14138-4.html\n",
        "4.82"
       ]
      },
      {
       "output_type": "stream",
       "stream": "stdout",
       "text": [
        " : http://www.fht360.com/productlist/326/69-14-39.html\n",
        "1.28"
       ]
      },
      {
       "output_type": "stream",
       "stream": "stdout",
       "text": [
        " : http://www.fht360.com/productlist/424/2-92-880.html\n",
        "1.16"
       ]
      },
      {
       "output_type": "stream",
       "stream": "stdout",
       "text": [
        " : http://www.fht360.com/productlist/326/70-4-880.html\n",
        "0.60"
       ]
      },
      {
       "output_type": "stream",
       "stream": "stdout",
       "text": [
        " : http://www.fht360.com/productlist/239/13320-10-2137.html\n",
        "0.50"
       ]
      },
      {
       "output_type": "stream",
       "stream": "stdout",
       "text": [
        " : http://www.fht360.com/productlist/283/17227-3-1009.html\n",
        "0.44"
       ]
      },
      {
       "output_type": "stream",
       "stream": "stdout",
       "text": [
        " : http://www.fht360.com/productlist/316-2-20.html\n",
        "0.43"
       ]
      },
      {
       "output_type": "stream",
       "stream": "stdout",
       "text": [
        " : http://www.fht360.com/productlist/328-2-860.html\n",
        "0.36"
       ]
      },
      {
       "output_type": "stream",
       "stream": "stdout",
       "text": [
        " : http://www.fht360.com/productlist/250-11-1009.html\n",
        "0.45"
       ]
      },
      {
       "output_type": "stream",
       "stream": "stdout",
       "text": [
        " : http://www.fht360.com/productlist/249/13326-11-880.html\n",
        "0.57"
       ]
      },
      {
       "output_type": "stream",
       "stream": "stdout",
       "text": [
        " : http://www.fht360.com/companylist/167/3-5-1663.html\n",
        "0.83"
       ]
      },
      {
       "output_type": "stream",
       "stream": "stdout",
       "text": [
        " : http://www.fht360.com/companylist/34/10314-2.html\n",
        "0.50"
       ]
      },
      {
       "output_type": "stream",
       "stream": "stdout",
       "text": [
        " : http://www.fht360.com/productlist/324/10004-2-1487.html\n",
        "0.51"
       ]
      },
      {
       "output_type": "stream",
       "stream": "stdout",
       "text": [
        " : http://www.fht360.com/productlist/375/9644-3-1487.html\n",
        "0.46"
       ]
      },
      {
       "output_type": "stream",
       "stream": "stdout",
       "text": [
        " : http://www.fht360.com/productlist/234-7-1009.html\n",
        "0.27"
       ]
      },
      {
       "output_type": "stream",
       "stream": "stdout",
       "text": [
        " : http://www.fht360.com/productlist/337/12311-3.html\n",
        "0.38"
       ]
      },
      {
       "output_type": "stream",
       "stream": "stdout",
       "text": [
        " : http://www.fht360.com/productlist/249/13326-4-39.html\n",
        "0.51"
       ]
      },
      {
       "output_type": "stream",
       "stream": "stdout",
       "text": [
        " : http://www.fht360.com/productlist/247-5-880.html\n",
        "1.15"
       ]
      },
      {
       "output_type": "stream",
       "stream": "stdout",
       "text": [
        " : http://www.fht360.com/companylist/162/3-2-191.html\n",
        "0.44"
       ]
      },
      {
       "output_type": "stream",
       "stream": "stdout",
       "text": [
        " : http://www.fht360.com/companylist/188-2-2137.html\n",
        "1.17"
       ]
      },
      {
       "output_type": "stream",
       "stream": "stdout",
       "text": [
        " : http://www.fht360.com/productlist/341-25-2137.html\n",
        "0.27"
       ]
      },
      {
       "output_type": "stream",
       "stream": "stdout",
       "text": [
        " : http://www.fht360.com/productlist/226/16097-2.html\n",
        "0.46"
       ]
      },
      {
       "output_type": "stream",
       "stream": "stdout",
       "text": [
        " : http://www.fht360.com/companylist/77/10524-2-2137.html\n",
        "0.48"
       ]
      },
      {
       "output_type": "stream",
       "stream": "stdout",
       "text": [
        " : http://www.fht360.com/companylist/206-2-2137.html\n",
        "0.47"
       ]
      },
      {
       "output_type": "stream",
       "stream": "stdout",
       "text": [
        " : http://www.fht360.com/companylist/39/10526-2-2164.html\n",
        "0.33"
       ]
      },
      {
       "output_type": "stream",
       "stream": "stdout",
       "text": [
        " : http://www.fht360.com/productlist/326/70-2-39.html\n",
        "0.27"
       ]
      },
      {
       "output_type": "stream",
       "stream": "stdout",
       "text": [
        " : http://www.fht360.com/productlist/333/71-5-1487.html\n",
        "0.43"
       ]
      },
      {
       "output_type": "stream",
       "stream": "stdout",
       "text": [
        " : http://www.fht360.com/productlist/330-3-1857.html\n",
        "0.70"
       ]
      },
      {
       "output_type": "stream",
       "stream": "stdout",
       "text": [
        " : http://www.fht360.com/productlist/298-2-1487.html\n",
        "0.41"
       ]
      },
      {
       "output_type": "stream",
       "stream": "stdout",
       "text": [
        " : http://www.fht360.com/productlist/251/15933-2-1009.html\n",
        "0.40"
       ]
      },
      {
       "output_type": "stream",
       "stream": "stdout",
       "text": [
        " : http://www.fht360.com/productlist/276-3-880.html\n",
        "0.68"
       ]
      },
      {
       "output_type": "stream",
       "stream": "stdout",
       "text": [
        " : http://www.fht360.com/productlist/241/16019-7-2137.html\n",
        "0.48"
       ]
      },
      {
       "output_type": "stream",
       "stream": "stdout",
       "text": [
        " : http://www.fht360.com/productlist/357-3-2137.html\n",
        "0.67"
       ]
      },
      {
       "output_type": "stream",
       "stream": "stdout",
       "text": [
        " : http://www.fht360.com/companylist/50-2-2170.html\n",
        "0.47"
       ]
      },
      {
       "output_type": "stream",
       "stream": "stdout",
       "text": [
        " : http://www.fht360.com/companylist/165-2-1070.html\n",
        "0.44"
       ]
      },
      {
       "output_type": "stream",
       "stream": "stdout",
       "text": [
        " : http://www.fht360.com/productlist/352/14157-2-2137.html\n",
        "0.38"
       ]
      },
      {
       "output_type": "stream",
       "stream": "stdout",
       "text": [
        " : http://www.fht360.com/productlist/236/15627-3-2137.html\n",
        "0.49"
       ]
      },
      {
       "output_type": "stream",
       "stream": "stdout",
       "text": [
        " : http://www.fht360.com/productlist/228/11923-2-2137.html\n",
        "0.39"
       ]
      },
      {
       "output_type": "stream",
       "stream": "stdout",
       "text": [
        " : http://www.fht360.com/productlist/439-5.html\n",
        "0.16"
       ]
      },
      {
       "output_type": "stream",
       "stream": "stdout",
       "text": [
        " : http://www.fht360.com/productlist/438-19.html\n",
        "0.54"
       ]
      },
      {
       "output_type": "stream",
       "stream": "stdout",
       "text": [
        " : http://www.fht360.com/productlist/369/13810-2-39.html\n",
        "1.18"
       ]
      },
      {
       "output_type": "stream",
       "stream": "stdout",
       "text": [
        " : http://www.fht360.com/productlist/432-54.html\n",
        "0.49"
       ]
      },
      {
       "output_type": "stream",
       "stream": "stdout",
       "text": [
        " : http://www.fht360.com/productlist/431-27.html\n",
        "1.05"
       ]
      },
      {
       "output_type": "stream",
       "stream": "stdout",
       "text": [
        " : http://www.fht360.com/productlist/430-14.html\n",
        "0.13"
       ]
      },
      {
       "output_type": "stream",
       "stream": "stdout",
       "text": [
        " : http://www.fht360.com/productlist/435-15.html\n",
        "0.13"
       ]
      },
      {
       "output_type": "stream",
       "stream": "stdout",
       "text": [
        " : http://www.fht360.com/productlist/434-3.html\n",
        "0.56"
       ]
      },
      {
       "output_type": "stream",
       "stream": "stdout",
       "text": [
        " : http://www.fht360.com/productlist/249/11436-3-1487.html\n",
        "0.44"
       ]
      },
      {
       "output_type": "stream",
       "stream": "stdout",
       "text": [
        " : http://www.fht360.com/productlist/239/574-2.html\n",
        "0.48"
       ]
      },
      {
       "output_type": "stream",
       "stream": "stdout",
       "text": [
        " : http://www.fht360.com/companylist/48/3-2-1025.html\n",
        "0.48"
       ]
      },
      {
       "output_type": "stream",
       "stream": "stdout",
       "text": [
        " : http://www.fht360.com/productlist/305-8.html\n",
        "0.47"
       ]
      },
      {
       "output_type": "stream",
       "stream": "stdout",
       "text": [
        " : http://www.fht360.com/companylist/162/3-3-986.html\n",
        "0.13"
       ]
      },
      {
       "output_type": "stream",
       "stream": "stdout",
       "text": [
        " : http://www.fht360.com/productlist/302-11.html\n",
        "0.51"
       ]
      },
      {
       "output_type": "stream",
       "stream": "stdout",
       "text": [
        " : http://www.fht360.com/companylist/47-2-2138.html\n",
        "0.49"
       ]
      },
      {
       "output_type": "stream",
       "stream": "stdout",
       "text": [
        " : http://www.fht360.com/companylist/47-7-2137.html\n",
        "0.67"
       ]
      },
      {
       "output_type": "stream",
       "stream": "stdout",
       "text": [
        " : http://www.fht360.com/productlist/340-8-860.html\n",
        "0.48"
       ]
      },
      {
       "output_type": "stream",
       "stream": "stdout",
       "text": [
        " : http://www.fht360.com/companylist/164-2-2508.html\n",
        "0.52"
       ]
      },
      {
       "output_type": "stream",
       "stream": "stdout",
       "text": [
        " : http://www.fht360.com/companylist/164-2-2509.html\n",
        "0.56"
       ]
      },
      {
       "output_type": "stream",
       "stream": "stdout",
       "text": [
        " : http://www.fht360.com/productlist/332/2130-2-1487.html\n",
        "0.55"
       ]
      },
      {
       "output_type": "stream",
       "stream": "stdout",
       "text": [
        " : http://www.fht360.com/companylist/197/10938-2.html\n",
        "1.56"
       ]
      },
      {
       "output_type": "stream",
       "stream": "stdout",
       "text": [
        " : http://www.fht360.com/companylist/197/10932-2.html\n",
        "0.64"
       ]
      },
      {
       "output_type": "stream",
       "stream": "stdout",
       "text": [
        " : http://www.fht360.com/productlist/233/16649-2-1487.html\n",
        "0.44"
       ]
      },
      {
       "output_type": "stream",
       "stream": "stdout",
       "text": [
        " : http://www.fht360.com/productlist/341/11762-6.html\n",
        "0.62"
       ]
      },
      {
       "output_type": "stream",
       "stream": "stdout",
       "text": [
        " : http://www.fht360.com/productlist/335-3-39.html\n",
        "0.69"
       ]
      },
      {
       "output_type": "stream",
       "stream": "stdout",
       "text": [
        " : http://www.fht360.com/productlist/387-6-880.html\n",
        "0.28"
       ]
      },
      {
       "output_type": "stream",
       "stream": "stdout",
       "text": [
        " : http://www.fht360.com/productlist/387-2-1122.html\n",
        "0.65"
       ]
      },
      {
       "output_type": "stream",
       "stream": "stdout",
       "text": [
        " : http://www.fht360.com/productlist/233/7239-2-2137.html\n",
        "0.47"
       ]
      },
      {
       "output_type": "stream",
       "stream": "stdout",
       "text": [
        " : http://www.fht360.com/companylist/167/3-4-1567.html\n",
        "0.43"
       ]
      },
      {
       "output_type": "stream",
       "stream": "stdout",
       "text": [
        " : http://www.fht360.com/companylist/77-2-1487.html\n",
        "0.49"
       ]
      },
      {
       "output_type": "stream",
       "stream": "stdout",
       "text": [
        " : http://www.fht360.com/productlist/352/14200-4.html\n",
        "0.62"
       ]
      },
      {
       "output_type": "stream",
       "stream": "stdout",
       "text": [
        " : http://www.fht360.com/productlist/423/10528-4-2137.html\n",
        "0.62"
       ]
      },
      {
       "output_type": "stream",
       "stream": "stdout",
       "text": [
        " : http://www.fht360.com/productlist/433/15342-2-1487.html\n",
        "0.58"
       ]
      },
      {
       "output_type": "stream",
       "stream": "stdout",
       "text": [
        " : http://www.fht360.com/productlist/233/16957-2-2137.html\n",
        "0.67"
       ]
      },
      {
       "output_type": "stream",
       "stream": "stdout",
       "text": [
        " : http://www.fht360.com/productlist/316-3-1662.html\n",
        "0.53"
       ]
      },
      {
       "output_type": "stream",
       "stream": "stdout",
       "text": [
        " : http://www.fht360.com/productlist/401/19067-3-860.html\n",
        "0.61"
       ]
      },
      {
       "output_type": "stream",
       "stream": "stdout",
       "text": [
        " : http://www.fht360.com/productlist/424-16-706.html\n",
        "0.95"
       ]
      },
      {
       "output_type": "stream",
       "stream": "stdout",
       "text": [
        " : http://www.fht360.com/productlist/246/13305-3.html\n",
        "0.94"
       ]
      },
      {
       "output_type": "stream",
       "stream": "stdout",
       "text": [
        " : http://www.fht360.com/productlist/239/1044-5-1487.html\n",
        "0.54"
       ]
      },
      {
       "output_type": "stream",
       "stream": "stdout",
       "text": [
        " : http://www.fht360.com/companylist/164/3-3-986.html\n",
        "0.61"
       ]
      },
      {
       "output_type": "stream",
       "stream": "stdout",
       "text": [
        " : http://www.fht360.com/productlist/278-2-2137.html\n",
        "0.62"
       ]
      },
      {
       "output_type": "stream",
       "stream": "stdout",
       "text": [
        " : http://www.fht360.com/productlist/428/14747-2-1009.html\n",
        "1.04"
       ]
      },
      {
       "output_type": "stream",
       "stream": "stdout",
       "text": [
        " : http://www.fht360.com/productlist/233/17108-2-1857.html\n",
        "0.88"
       ]
      },
      {
       "output_type": "stream",
       "stream": "stdout",
       "text": [
        " : http://www.fht360.com/productlist/246-2-1364.html\n",
        "1.15"
       ]
      },
      {
       "output_type": "stream",
       "stream": "stdout",
       "text": [
        " : http://www.fht360.com/companylist/37/10323-2.html\n",
        "0.59"
       ]
      },
      {
       "output_type": "stream",
       "stream": "stdout",
       "text": [
        " : http://www.fht360.com/companylist/37/10322-2.html\n",
        "0.49"
       ]
      },
      {
       "output_type": "stream",
       "stream": "stdout",
       "text": [
        " : http://www.fht360.com/companylist/37/10324-2.html\n",
        "0.65"
       ]
      },
      {
       "output_type": "stream",
       "stream": "stdout",
       "text": [
        " : http://www.fht360.com/productlist/234/288-4-1487.html\n",
        "0.89"
       ]
      },
      {
       "output_type": "stream",
       "stream": "stdout",
       "text": [
        " : http://www.fht360.com/productlist/239-232.html\n",
        "0.76"
       ]
      },
      {
       "output_type": "stream",
       "stream": "stdout",
       "text": [
        " : http://www.fht360.com/productlist/238-45.html\n",
        "1.01"
       ]
      },
      {
       "output_type": "stream",
       "stream": "stdout",
       "text": [
        " : http://www.fht360.com/productlist/231-570.html\n",
        "0.94"
       ]
      },
      {
       "output_type": "stream",
       "stream": "stdout",
       "text": [
        " : http://www.fht360.com/productlist/233-252.html\n",
        "0.23"
       ]
      },
      {
       "output_type": "stream",
       "stream": "stdout",
       "text": [
        " : http://www.fht360.com/productlist/234-202.html\n",
        "0.78"
       ]
      },
      {
       "output_type": "stream",
       "stream": "stdout",
       "text": [
        " : http://www.fht360.com/productlist/237-71.html\n",
        "0.57"
       ]
      },
      {
       "output_type": "stream",
       "stream": "stdout",
       "text": [
        " : http://www.fht360.com/companylist/162/3-2-1364.html\n",
        "0.79"
       ]
      },
      {
       "output_type": "stream",
       "stream": "stdout",
       "text": [
        " : http://www.fht360.com/productlist/415/98-7.html\n",
        "0.73"
       ]
      },
      {
       "output_type": "stream",
       "stream": "stdout",
       "text": [
        " : http://www.fht360.com/productlist/415/91-37.html\n",
        "4.20"
       ]
      },
      {
       "output_type": "stream",
       "stream": "stdout",
       "text": [
        " : http://www.fht360.com/productlist/328-26-2137.html\n",
        "2.66"
       ]
      },
      {
       "output_type": "stream",
       "stream": "stdout",
       "text": [
        " : http://www.fht360.com/productlist/355-2-880.html\n",
        "0.36"
       ]
      },
      {
       "output_type": "stream",
       "stream": "stdout",
       "text": [
        " : http://www.fht360.com/productlist/437/51-4.html\n",
        "0.52"
       ]
      },
      {
       "output_type": "stream",
       "stream": "stdout",
       "text": [
        " : http://www.fht360.com/productlist/293/820-2-1122.html\n",
        "0.28"
       ]
      },
      {
       "output_type": "stream",
       "stream": "stdout",
       "text": [
        " : http://www.fht360.com/productlist/246/13503-2.html\n",
        "0.82"
       ]
      },
      {
       "output_type": "stream",
       "stream": "stdout",
       "text": [
        " : http://www.fht360.com/companylist/51/10785-2.html\n",
        "0.45"
       ]
      },
      {
       "output_type": "stream",
       "stream": "stdout",
       "text": [
        " : http://www.fht360.com/productlist/324-9-1.html\n",
        "0.45"
       ]
      },
      {
       "output_type": "stream",
       "stream": "stdout",
       "text": [
        " : http://www.fht360.com/productlist/270-2-2137.html\n",
        "0.50"
       ]
      },
      {
       "output_type": "stream",
       "stream": "stdout",
       "text": [
        " : http://www.fht360.com/companylist/51/10465-2-2137.html\n",
        "0.47"
       ]
      },
      {
       "output_type": "stream",
       "stream": "stdout",
       "text": [
        " : http://www.fht360.com/productlist/250-4-860.html\n",
        "0.31"
       ]
      },
      {
       "output_type": "stream",
       "stream": "stdout",
       "text": [
        " : http://www.fht360.com/productlist/286/18809-4.html\n",
        "0.62"
       ]
      },
      {
       "output_type": "stream",
       "stream": "stdout",
       "text": [
        " : http://www.fht360.com/companylist/48-2-2143.html\n",
        "0.51"
       ]
      },
      {
       "output_type": "stream",
       "stream": "stdout",
       "text": [
        " : http://www.fht360.com/companylist/196/10139-2.html\n",
        "0.51"
       ]
      },
      {
       "output_type": "stream",
       "stream": "stdout",
       "text": [
        " : http://www.fht360.com/companylist/45-2-1.html\n",
        "0.57"
       ]
      },
      {
       "output_type": "stream",
       "stream": "stdout",
       "text": [
        " : http://www.fht360.com/productlist/227/11863-2.html\n",
        "0.71"
       ]
      },
      {
       "output_type": "stream",
       "stream": "stdout",
       "text": [
        " : http://www.fht360.com/companylist/44/10138-3.html\n",
        "0.57"
       ]
      },
      {
       "output_type": "stream",
       "stream": "stdout",
       "text": [
        " : http://www.fht360.com/companylist/48-2-3065.html\n",
        "0.45"
       ]
      },
      {
       "output_type": "stream",
       "stream": "stdout",
       "text": [
        " : http://www.fht360.com/productlist/317/12016-2-2137.html\n",
        "0.55"
       ]
      },
      {
       "output_type": "stream",
       "stream": "stdout",
       "text": [
        " : http://www.fht360.com/companylist/162/3-2-1491.html\n",
        "0.57"
       ]
      },
      {
       "output_type": "stream",
       "stream": "stdout",
       "text": [
        " : http://www.fht360.com/companylist/49/10674-2.html\n",
        "0.32"
       ]
      },
      {
       "output_type": "stream",
       "stream": "stdout",
       "text": [
        " : http://www.fht360.com/productlist/424/14872-4.html\n",
        "0.47"
       ]
      },
      {
       "output_type": "stream",
       "stream": "stdout",
       "text": [
        " : http://www.fht360.com/companylist/167-2-1100.html\n",
        "0.40"
       ]
      },
      {
       "output_type": "stream",
       "stream": "stdout",
       "text": [
        " : http://www.fht360.com/productlist/431/14924-2.html\n",
        "1.20"
       ]
      },
      {
       "output_type": "stream",
       "stream": "stdout",
       "text": [
        " : http://www.fht360.com/productlist/286/2113-4.html\n",
        "0.48"
       ]
      },
      {
       "output_type": "stream",
       "stream": "stdout",
       "text": [
        " : http://www.fht360.com/companylist/165-4-1553.html\n",
        "0.45"
       ]
      },
      {
       "output_type": "stream",
       "stream": "stdout",
       "text": [
        " : http://www.fht360.com/productlist/428-2-1.html\n",
        "0.35"
       ]
      },
      {
       "output_type": "stream",
       "stream": "stdout",
       "text": [
        " : http://www.fht360.com/productlist/239/2113-4.html\n",
        "0.27"
       ]
      },
      {
       "output_type": "stream",
       "stream": "stdout",
       "text": [
        " : http://www.fht360.com/productlist/387/23-2-1487.html\n",
        "0.52"
       ]
      },
      {
       "output_type": "stream",
       "stream": "stdout",
       "text": [
        " : http://www.fht360.com/productlist/250/1207-2-1487.html\n",
        "0.48"
       ]
      },
      {
       "output_type": "stream",
       "stream": "stdout",
       "text": [
        " : http://www.fht360.com/productlist/234-2-1260.html\n",
        "0.97"
       ]
      },
      {
       "output_type": "stream",
       "stream": "stdout",
       "text": [
        " : http://www.fht360.com/productlist/324/71-2-880.html\n",
        "0.38"
       ]
      },
      {
       "output_type": "stream",
       "stream": "stdout",
       "text": [
        " : http://www.fht360.com/productlist/353/14893-4.html\n",
        "0.44"
       ]
      },
      {
       "output_type": "stream",
       "stream": "stdout",
       "text": [
        " : http://www.fht360.com/productlist/351/13638-5-2137.html\n",
        "0.47"
       ]
      },
      {
       "output_type": "stream",
       "stream": "stdout",
       "text": [
        " : http://www.fht360.com/companylist/162/3-16-39.html\n",
        "0.25"
       ]
      },
      {
       "output_type": "stream",
       "stream": "stdout",
       "text": [
        " : http://www.fht360.com/productlist/266-3-1487.html\n",
        "0.42"
       ]
      },
      {
       "output_type": "stream",
       "stream": "stdout",
       "text": [
        " : http://www.fht360.com/productlist/253/16774-2.html\n",
        "0.24"
       ]
      },
      {
       "output_type": "stream",
       "stream": "stdout",
       "text": [
        " : http://www.fht360.com/productlist/432/14895-6.html\n",
        "0.08"
       ]
      },
      {
       "output_type": "stream",
       "stream": "stdout",
       "text": [
        " : http://www.fht360.com/productlist/226/7259-2.html\n",
        "0.26"
       ]
      },
      {
       "output_type": "stream",
       "stream": "stdout",
       "text": [
        " : http://www.fht360.com/productlist/226/7258-3.html\n",
        "0.28"
       ]
      },
      {
       "output_type": "stream",
       "stream": "stdout",
       "text": [
        " : http://www.fht360.com/productlist/226/7251-2.html\n",
        "0.53"
       ]
      },
      {
       "output_type": "stream",
       "stream": "stdout",
       "text": [
        " : http://www.fht360.com/productlist/233/661-2-2137.html\n",
        "0.43"
       ]
      },
      {
       "output_type": "stream",
       "stream": "stdout",
       "text": [
        " : http://www.fht360.com/productlist/246/14893-2-1.html\n",
        "0.52"
       ]
      },
      {
       "output_type": "stream",
       "stream": "stdout",
       "text": [
        " : http://www.fht360.com/companylist/167/3-2-223.html\n",
        "0.62"
       ]
      },
      {
       "output_type": "stream",
       "stream": "stdout",
       "text": [
        " : http://www.fht360.com/companylist/167/3-6-221.html\n",
        "0.58"
       ]
      },
      {
       "output_type": "stream",
       "stream": "stdout",
       "text": [
        " : http://www.fht360.com/companylist/167/3-3-228.html\n",
        "0.50"
       ]
      },
      {
       "output_type": "stream",
       "stream": "stdout",
       "text": [
        " : http://www.fht360.com/companylist/164/3-2-936.html\n",
        "0.55"
       ]
      },
      {
       "output_type": "stream",
       "stream": "stdout",
       "text": [
        " : http://www.fht360.com/companylist/167/3-4-2170.html\n",
        "0.51"
       ]
      },
      {
       "output_type": "stream",
       "stream": "stdout",
       "text": [
        " : http://www.fht360.com/companylist/237-2-2169.html\n",
        "0.66"
       ]
      },
      {
       "output_type": "stream",
       "stream": "stdout",
       "text": [
        " : http://www.fht360.com/companylist/237-2-2164.html\n",
        "0.41"
       ]
      },
      {
       "output_type": "stream",
       "stream": "stdout",
       "text": [
        " : http://www.fht360.com/productlist/231/452-2-39.html\n",
        "0.51"
       ]
      },
      {
       "output_type": "stream",
       "stream": "stdout",
       "text": [
        " : http://www.fht360.com/productlist/259-3-880.html\n",
        "0.36"
       ]
      },
      {
       "output_type": "stream",
       "stream": "stdout",
       "text": [
        " : http://www.fht360.com/productlist/308/10889-3.html\n",
        "0.54"
       ]
      },
      {
       "output_type": "stream",
       "stream": "stdout",
       "text": [
        " : http://www.fht360.com/productlist/226-3-1260.html\n",
        "0.43"
       ]
      },
      {
       "output_type": "stream",
       "stream": "stdout",
       "text": [
        " : http://www.fht360.com/productlist/335/12753-2-2137.html\n",
        "0.55"
       ]
      },
      {
       "output_type": "stream",
       "stream": "stdout",
       "text": [
        " : http://www.fht360.com/companylist/45-2-1662.html\n",
        "0.54"
       ]
      },
      {
       "output_type": "stream",
       "stream": "stdout",
       "text": [
        " : http://www.fht360.com/companylist/164/3-11-860.html\n",
        "0.49"
       ]
      },
      {
       "output_type": "stream",
       "stream": "stdout",
       "text": [
        " : http://www.fht360.com/productlist/246/14893-2-2137.html\n",
        "0.44"
       ]
      },
      {
       "output_type": "stream",
       "stream": "stdout",
       "text": [
        " : http://www.fht360.com/productlist/246/11349-2-1487.html\n",
        "0.47"
       ]
      },
      {
       "output_type": "stream",
       "stream": "stdout",
       "text": [
        " : http://www.fht360.com/productlist/289-2-1487.html\n",
        "0.71"
       ]
      },
      {
       "output_type": "stream",
       "stream": "stdout",
       "text": [
        " : http://www.fht360.com/productlist/228-2-3065.html\n",
        "1.07"
       ]
      },
      {
       "output_type": "stream",
       "stream": "stdout",
       "text": [
        " : http://www.fht360.com/productlist/333-6-1487.html\n",
        "0.56"
       ]
      },
      {
       "output_type": "stream",
       "stream": "stdout",
       "text": [
        " : http://www.fht360.com/companylist/162-2-1025.html\n",
        "0.16"
       ]
      },
      {
       "output_type": "stream",
       "stream": "stdout",
       "text": [
        " : http://www.fht360.com/productlist/357/6208-6.html\n",
        "0.73"
       ]
      },
      {
       "output_type": "stream",
       "stream": "stdout",
       "text": [
        " : http://www.fht360.com/companylist/39/10515-2-2137.html\n",
        "0.64"
       ]
      },
      {
       "output_type": "stream",
       "stream": "stdout",
       "text": [
        " : http://www.fht360.com/productlist/351/13668-4-2137.html\n",
        "0.48"
       ]
      },
      {
       "output_type": "stream",
       "stream": "stdout",
       "text": [
        " : http://www.fht360.com/productlist/427/12171-4-880.html\n",
        "0.32"
       ]
      },
      {
       "output_type": "stream",
       "stream": "stdout",
       "text": [
        " : http://www.fht360.com/productlist/304/11340-3.html\n",
        "0.52"
       ]
      },
      {
       "output_type": "stream",
       "stream": "stdout",
       "text": [
        " : http://www.fht360.com/companylist/48/3-2-2147.html\n",
        "0.55"
       ]
      },
      {
       "output_type": "stream",
       "stream": "stdout",
       "text": [
        " : http://www.fht360.com/companylist/48/3-2-2143.html\n",
        "0.60"
       ]
      },
      {
       "output_type": "stream",
       "stream": "stdout",
       "text": [
        " : http://www.fht360.com/companylist/237/10828-2.html\n",
        "0.58"
       ]
      },
      {
       "output_type": "stream",
       "stream": "stdout",
       "text": [
        " : http://www.fht360.com/companylist/175-2-2137.html\n",
        "0.38"
       ]
      },
      {
       "output_type": "stream",
       "stream": "stdout",
       "text": [
        " : http://www.fht360.com/productlist/249/13320-14.html\n",
        "0.32"
       ]
      },
      {
       "output_type": "stream",
       "stream": "stdout",
       "text": [
        " : http://www.fht360.com/productlist/249/13324-7.html\n",
        "0.48"
       ]
      },
      {
       "output_type": "stream",
       "stream": "stdout",
       "text": [
        " : http://www.fht360.com/productlist/249/13326-21.html\n",
        "0.60"
       ]
      },
      {
       "output_type": "stream",
       "stream": "stdout",
       "text": [
        " : http://www.fht360.com/productlist/367-2-880.html\n",
        "0.63"
       ]
      },
      {
       "output_type": "stream",
       "stream": "stdout",
       "text": [
        " : http://www.fht360.com/productlist/435/15342-2-1487.html\n",
        "0.80"
       ]
      },
      {
       "output_type": "stream",
       "stream": "stdout",
       "text": [
        " : http://www.fht360.com/productlist/351/13645-7-2137.html\n",
        "0.44"
       ]
      },
      {
       "output_type": "stream",
       "stream": "stdout",
       "text": [
        " : http://www.fht360.com/productlist/285/15696-2.html\n",
        "0.48"
       ]
      },
      {
       "output_type": "stream",
       "stream": "stdout",
       "text": [
        " : http://www.fht360.com/productlist/246-11-880.html\n",
        "0.33"
       ]
      },
      {
       "output_type": "stream",
       "stream": "stdout",
       "text": [
        " : http://www.fht360.com/productlist/360/13072-2.html\n",
        "0.52"
       ]
      },
      {
       "output_type": "stream",
       "stream": "stdout",
       "text": [
        " : http://www.fht360.com/productlist/242/14608-2-39.html\n",
        "0.81"
       ]
      },
      {
       "output_type": "stream",
       "stream": "stdout",
       "text": [
        " : http://www.fht360.com/productlist/415/36-2-1662.html\n",
        "0.69"
       ]
      },
      {
       "output_type": "stream",
       "stream": "stdout",
       "text": [
        " : http://www.fht360.com/companylist/85/10525-2.html\n",
        "0.61"
       ]
      },
      {
       "output_type": "stream",
       "stream": "stdout",
       "text": [
        " : http://www.fht360.com/companylist/37-2-191.html\n",
        "0.69"
       ]
      },
      {
       "output_type": "stream",
       "stream": "stdout",
       "text": [
        " : http://www.fht360.com/productlist/348/10783-2-2137.html\n",
        "0.86"
       ]
      },
      {
       "output_type": "stream",
       "stream": "stdout",
       "text": [
        " : http://www.fht360.com/productlist/402-2-880.html\n",
        "0.57"
       ]
      },
      {
       "output_type": "stream",
       "stream": "stdout",
       "text": [
        " : http://www.fht360.com/productlist/244-1-1.html\n",
        "0.99"
       ]
      },
      {
       "output_type": "stream",
       "stream": "stdout",
       "text": [
        " : http://www.fht360.com/companylist/195-2-2137.html\n",
        "0.43"
       ]
      },
      {
       "output_type": "stream",
       "stream": "stdout",
       "text": [
        " : http://www.fht360.com/productlist/427-2-1487.html\n",
        "0.30"
       ]
      },
      {
       "output_type": "stream",
       "stream": "stdout",
       "text": [
        " : http://www.fht360.com/productlist/250-2-2508.html\n",
        "0.39"
       ]
      },
      {
       "output_type": "stream",
       "stream": "stdout",
       "text": [
        " : http://www.fht360.com/productlist/307/10830-3-1487.html\n",
        "0.54"
       ]
      },
      {
       "output_type": "stream",
       "stream": "stdout",
       "text": [
        " : http://www.fht360.com/productlist/437-2-860.html\n",
        "0.34"
       ]
      },
      {
       "output_type": "stream",
       "stream": "stdout",
       "text": [
        " : http://www.fht360.com/productlist/272/18809-4.html\n",
        "0.59"
       ]
      },
      {
       "output_type": "stream",
       "stream": "stdout",
       "text": [
        " : http://www.fht360.com/productlist/237/200-2.html\n",
        "0.28"
       ]
      },
      {
       "output_type": "stream",
       "stream": "stdout",
       "text": [
        " : http://www.fht360.com/productlist/250/1281-2.html\n",
        "0.27"
       ]
      },
      {
       "output_type": "stream",
       "stream": "stdout",
       "text": [
        " : http://www.fht360.com/productlist/423/10882-2.html\n",
        "0.43"
       ]
      },
      {
       "output_type": "stream",
       "stream": "stdout",
       "text": [
        " : http://www.fht360.com/productlist/286-2-860.html\n",
        "0.39"
       ]
      },
      {
       "output_type": "stream",
       "stream": "stdout",
       "text": [
        " : http://www.fht360.com/productlist/250/1262-2.html\n",
        "0.57"
       ]
      },
      {
       "output_type": "stream",
       "stream": "stdout",
       "text": [
        " : http://www.fht360.com/companylist/76-2-2137.html\n",
        "0.42"
       ]
      },
      {
       "output_type": "stream",
       "stream": "stdout",
       "text": [
        " : http://www.fht360.com/productlist/337/13447-2-1260.html\n",
        "0.76"
       ]
      },
      {
       "output_type": "stream",
       "stream": "stdout",
       "text": [
        " : http://www.fht360.com/companylist/39/10527-2-2137.html\n",
        "0.48"
       ]
      },
      {
       "output_type": "stream",
       "stream": "stdout",
       "text": [
        " : http://www.fht360.com/productlist/236/17630-7-2137.html\n",
        "0.67"
       ]
      },
      {
       "output_type": "stream",
       "stream": "stdout",
       "text": [
        " : http://www.fht360.com/companylist/81/10415-2.html\n",
        "0.56"
       ]
      },
      {
       "output_type": "stream",
       "stream": "stdout",
       "text": [
        " : http://www.fht360.com/companylist/165/3-3-1067.html\n",
        "0.69"
       ]
      },
      {
       "output_type": "stream",
       "stream": "stdout",
       "text": [
        " : http://www.fht360.com/companylist/48-5-1.html\n",
        "4.32"
       ]
      },
      {
       "output_type": "stream",
       "stream": "stdout",
       "text": [
        " : http://www.fht360.com/productlist/239/390-5-880.html\n",
        "0.32"
       ]
      },
      {
       "output_type": "stream",
       "stream": "stdout",
       "text": [
        " : http://www.fht360.com/productlist/424/14747-6.html\n",
        "0.44"
       ]
      },
      {
       "output_type": "stream",
       "stream": "stdout",
       "text": [
        " : http://www.fht360.com/productlist/402/9040-2-880.html\n",
        "1.21"
       ]
      },
      {
       "output_type": "stream",
       "stream": "stdout",
       "text": [
        " : http://www.fht360.com/companylist/167/3-3-1857.html\n",
        "0.79"
       ]
      },
      {
       "output_type": "stream",
       "stream": "stdout",
       "text": [
        " : http://www.fht360.com/productlist/377/83-2-39.html\n",
        "0.73"
       ]
      },
      {
       "output_type": "stream",
       "stream": "stdout",
       "text": [
        " : http://www.fht360.com/productlist/313-8-2137.html\n",
        "1.41"
       ]
      },
      {
       "output_type": "stream",
       "stream": "stdout",
       "text": [
        " : http://www.fht360.com/productlist/425-15-860.html\n",
        "0.52"
       ]
      },
      {
       "output_type": "stream",
       "stream": "stdout",
       "text": [
        " : http://www.fht360.com/productlist/262/3373-2.html\n",
        "0.44"
       ]
      },
      {
       "output_type": "stream",
       "stream": "stdout",
       "text": [
        " : http://www.fht360.com/productlist/309/76-15.html\n",
        "0.39"
       ]
      },
      {
       "output_type": "stream",
       "stream": "stdout",
       "text": [
        " : http://www.fht360.com/productlist/231/16292-9.html\n",
        "0.55"
       ]
      },
      {
       "output_type": "stream",
       "stream": "stdout",
       "text": [
        " : http://www.fht360.com/productlist/326/11592-2-2137.html\n",
        "0.60"
       ]
      },
      {
       "output_type": "stream",
       "stream": "stdout",
       "text": [
        " : http://www.fht360.com/productlist/250/15-4-880.html\n",
        "1.51"
       ]
      },
      {
       "output_type": "stream",
       "stream": "stdout",
       "text": [
        " : http://www.fht360.com/companylist/34/7-4.html\n",
        "0.72"
       ]
      },
      {
       "output_type": "stream",
       "stream": "stdout",
       "text": [
        " : http://www.fht360.com/companylist/50/10833-2.html\n",
        "0.57"
       ]
      },
      {
       "output_type": "stream",
       "stream": "stdout",
       "text": [
        " : http://www.fht360.com/companylist/50/10835-2.html\n",
        "0.59"
       ]
      },
      {
       "output_type": "stream",
       "stream": "stdout",
       "text": [
        " : http://www.fht360.com/productlist/444/17715-2.html\n",
        "0.30"
       ]
      },
      {
       "output_type": "stream",
       "stream": "stdout",
       "text": [
        " : http://www.fht360.com/productlist/244/266-14.html\n",
        "0.62"
       ]
      },
      {
       "output_type": "stream",
       "stream": "stdout",
       "text": [
        " : http://www.fht360.com/companylist/219/10360-2.html\n",
        "0.38"
       ]
      },
      {
       "output_type": "stream",
       "stream": "stdout",
       "text": [
        " : http://www.fht360.com/productlist/233-10-1122.html\n",
        "0.34"
       ]
      },
      {
       "output_type": "stream",
       "stream": "stdout",
       "text": [
        " : http://www.fht360.com/productlist/371/14333-5.html\n",
        "0.46"
       ]
      },
      {
       "output_type": "stream",
       "stream": "stdout",
       "text": [
        " : http://www.fht360.com/productlist/386/14553-2.html\n",
        "0.64"
       ]
      },
      {
       "output_type": "stream",
       "stream": "stdout",
       "text": [
        " : http://www.fht360.com/productlist/316-2-1987.html\n",
        "1.73"
       ]
      },
      {
       "output_type": "stream",
       "stream": "stdout",
       "text": [
        " : http://www.fht360.com/productlist/227/76-4-2137.html\n",
        "0.39"
       ]
      },
      {
       "output_type": "stream",
       "stream": "stdout",
       "text": [
        " : http://www.fht360.com/productlist/241-17-1122.html\n",
        "0.52"
       ]
      },
      {
       "output_type": "stream",
       "stream": "stdout",
       "text": [
        " : http://www.fht360.com/companylist/162-2-1491.html\n",
        "0.70"
       ]
      },
      {
       "output_type": "stream",
       "stream": "stdout",
       "text": [
        " : http://www.fht360.com/productlist/424/2-2-3392.html\n",
        "0.33"
       ]
      },
      {
       "output_type": "stream",
       "stream": "stdout",
       "text": [
        " : http://www.fht360.com/productlist/277/3588-4.html\n",
        "0.63"
       ]
      },
      {
       "output_type": "stream",
       "stream": "stdout",
       "text": [
        " : http://www.fht360.com/companylist/37-5-2278.html\n",
        "0.88"
       ]
      },
      {
       "output_type": "stream",
       "stream": "stdout",
       "text": [
        " : http://www.fht360.com/productlist/239-5-1009.html\n",
        "0.48"
       ]
      },
      {
       "output_type": "stream",
       "stream": "stdout",
       "text": [
        " : http://www.fht360.com/productlist/305-2-39.html\n",
        "0.49"
       ]
      },
      {
       "output_type": "stream",
       "stream": "stdout",
       "text": [
        " : http://www.fht360.com/productlist/248/710-4.html\n",
        "0.51"
       ]
      },
      {
       "output_type": "stream",
       "stream": "stdout",
       "text": [
        " : http://www.fht360.com/companylist/162-3-2144.html\n",
        "1.26"
       ]
      },
      {
       "output_type": "stream",
       "stream": "stdout",
       "text": [
        " : http://www.fht360.com/productlist/359/12329-23-2137.html\n",
        "0.55"
       ]
      },
      {
       "output_type": "stream",
       "stream": "stdout",
       "text": [
        " : http://www.fht360.com/productlist/433/12267-4.html\n",
        "0.62"
       ]
      },
      {
       "output_type": "stream",
       "stream": "stdout",
       "text": [
        " : http://www.fht360.com/productlist/246/42-5.html\n",
        "0.66"
       ]
      },
      {
       "output_type": "stream",
       "stream": "stdout",
       "text": [
        " : http://www.fht360.com/productlist/239/266-2-880.html\n",
        "0.28"
       ]
      },
      {
       "output_type": "stream",
       "stream": "stdout",
       "text": [
        " : http://www.fht360.com/productlist/274-38-1487.html\n",
        "1.62"
       ]
      },
      {
       "output_type": "stream",
       "stream": "stdout",
       "text": [
        " : http://www.fht360.com/productlist/328-4-1260.html\n",
        "1.13"
       ]
      },
      {
       "output_type": "stream",
       "stream": "stdout",
       "text": [
        " : http://www.fht360.com/productlist/227/12171-4-880.html\n",
        "0.58"
       ]
      },
      {
       "output_type": "stream",
       "stream": "stdout",
       "text": [
        " : http://www.fht360.com/companylist/70-2-2164.html\n",
        "0.50"
       ]
      },
      {
       "output_type": "stream",
       "stream": "stdout",
       "text": [
        " : http://www.fht360.com/companylist/167-6-2169.html\n",
        "0.74"
       ]
      },
      {
       "output_type": "stream",
       "stream": "stdout",
       "text": [
        " : http://www.fht360.com/productlist/431-2-880.html\n",
        "0.66"
       ]
      },
      {
       "output_type": "stream",
       "stream": "stdout",
       "text": [
        " : http://www.fht360.com/companylist/242/10535-2-2137.html\n",
        "0.61"
       ]
      },
      {
       "output_type": "stream",
       "stream": "stdout",
       "text": [
        " : http://www.fht360.com/productlist/264/390-5-880.html\n",
        "0.68"
       ]
      },
      {
       "output_type": "stream",
       "stream": "stdout",
       "text": [
        " : http://www.fht360.com/productlist/410/15945-2-860.html\n",
        "0.63"
       ]
      },
      {
       "output_type": "stream",
       "stream": "stdout",
       "text": [
        " : http://www.fht360.com/productlist/424/14833-2-706.html\n",
        "0.50"
       ]
      },
      {
       "output_type": "stream",
       "stream": "stdout",
       "text": [
        " : http://www.fht360.com/companylist/167/3-2-1570.html\n",
        "0.68"
       ]
      },
      {
       "output_type": "stream",
       "stream": "stdout",
       "text": [
        " : http://www.fht360.com/productlist/329-3-880.html\n",
        "0.55"
       ]
      },
      {
       "output_type": "stream",
       "stream": "stdout",
       "text": [
        " : http://www.fht360.com/productlist/260/16766-2.html\n",
        "1.51"
       ]
      },
      {
       "output_type": "stream",
       "stream": "stdout",
       "text": [
        " : http://www.fht360.com/companylist/164/3-2-2190.html\n",
        "0.44"
       ]
      },
      {
       "output_type": "stream",
       "stream": "stdout",
       "text": [
        " : http://www.fht360.com/productlist/360/21-13.html\n",
        "0.52"
       ]
      },
      {
       "output_type": "stream",
       "stream": "stdout",
       "text": [
        " : http://www.fht360.com/companylist/164-3-20.html\n",
        "0.54"
       ]
      },
      {
       "output_type": "stream",
       "stream": "stdout",
       "text": [
        " : http://www.fht360.com/productlist/433/13944-5.html\n",
        "0.65"
       ]
      },
      {
       "output_type": "stream",
       "stream": "stdout",
       "text": [
        " : http://www.fht360.com/productlist/387/56-5.html\n",
        "0.60"
       ]
      },
      {
       "output_type": "stream",
       "stream": "stdout",
       "text": [
        " : http://www.fht360.com/productlist/424/12187-2-2137.html\n",
        "0.70"
       ]
      },
      {
       "output_type": "stream",
       "stream": "stdout",
       "text": [
        " : http://www.fht360.com/productlist/356/13402-4-2137.html\n",
        "0.61"
       ]
      },
      {
       "output_type": "stream",
       "stream": "stdout",
       "text": [
        " : http://www.fht360.com/companylist/242-4-2137.html\n",
        "0.47"
       ]
      },
      {
       "output_type": "stream",
       "stream": "stdout",
       "text": [
        " : http://www.fht360.com/productlist/279/18798-2.html\n",
        "0.53"
       ]
      },
      {
       "output_type": "stream",
       "stream": "stdout",
       "text": [
        " : http://www.fht360.com/companylist/56/4-2-1662.html\n",
        "1.09"
       ]
      },
      {
       "output_type": "stream",
       "stream": "stdout",
       "text": [
        " : http://www.fht360.com/productlist/326/10814-2-39.html\n",
        "0.57"
       ]
      },
      {
       "output_type": "stream",
       "stream": "stdout",
       "text": [
        " : http://www.fht360.com/productlist/362/13711-2-880.html\n",
        "0.31"
       ]
      },
      {
       "output_type": "stream",
       "stream": "stdout",
       "text": [
        " : http://www.fht360.com/productlist/233-14-1009.html\n",
        "0.67"
       ]
      },
      {
       "output_type": "stream",
       "stream": "stdout",
       "text": [
        " : http://www.fht360.com/productlist/301/7908-2-880.html\n",
        "0.77"
       ]
      },
      {
       "output_type": "stream",
       "stream": "stdout",
       "text": [
        " : http://www.fht360.com/productlist/247/12198-3-1009.html\n",
        "0.56"
       ]
      },
      {
       "output_type": "stream",
       "stream": "stdout",
       "text": [
        " : http://www.fht360.com/companylist/167/3-2-1276.html\n",
        "0.37"
       ]
      },
      {
       "output_type": "stream",
       "stream": "stdout",
       "text": [
        " : http://www.fht360.com/productlist/234-3-1122.html\n",
        "0.37"
       ]
      },
      {
       "output_type": "stream",
       "stream": "stdout",
       "text": [
        " : http://www.fht360.com/productlist/279-4-860.html\n",
        "0.92"
       ]
      },
      {
       "output_type": "stream",
       "stream": "stdout",
       "text": [
        " : http://www.fht360.com/productlist/309-9-2137.html\n",
        "0.66"
       ]
      },
      {
       "output_type": "stream",
       "stream": "stdout",
       "text": [
        " : http://www.fht360.com/productlist/238/11415-5.html\n",
        "0.91"
       ]
      },
      {
       "output_type": "stream",
       "stream": "stdout",
       "text": [
        " : http://www.fht360.com/productlist/237/820-2-1122.html\n",
        "0.91"
       ]
      },
      {
       "output_type": "stream",
       "stream": "stdout",
       "text": [
        " : http://www.fht360.com/productlist/328/12703-2-1487.html\n",
        "0.73"
       ]
      },
      {
       "output_type": "stream",
       "stream": "stdout",
       "text": [
        " : http://www.fht360.com/productlist/237/981-2.html\n",
        "0.33"
       ]
      },
      {
       "output_type": "stream",
       "stream": "stdout",
       "text": [
        " : http://www.fht360.com/productlist/446-4-1487.html\n",
        "0.35"
       ]
      },
      {
       "output_type": "stream",
       "stream": "stdout",
       "text": [
        " : http://www.fht360.com/productlist/231/9-5-39.html\n",
        "0.53"
       ]
      },
      {
       "output_type": "stream",
       "stream": "stdout",
       "text": [
        " : http://www.fht360.com/productlist/234/306-2.html\n",
        "1.13"
       ]
      },
      {
       "output_type": "stream",
       "stream": "stdout",
       "text": [
        " : http://www.fht360.com/productlist/384-2-880.html\n",
        "1.12"
       ]
      },
      {
       "output_type": "stream",
       "stream": "stdout",
       "text": [
        " : http://www.fht360.com/productlist/274-2-1662.html\n",
        "0.91"
       ]
      },
      {
       "output_type": "stream",
       "stream": "stdout",
       "text": [
        " : http://www.fht360.com/productlist/308-2-39.html\n",
        "0.63"
       ]
      },
      {
       "output_type": "stream",
       "stream": "stdout",
       "text": [
        " : http://www.fht360.com/companylist/37-4-1009.html\n",
        "0.60"
       ]
      },
      {
       "output_type": "stream",
       "stream": "stdout",
       "text": [
        " : http://www.fht360.com/companylist/162-2-991.html\n",
        "0.40"
       ]
      },
      {
       "output_type": "stream",
       "stream": "stdout",
       "text": [
        " : http://www.fht360.com/productlist/359-2-880.html\n",
        "0.69"
       ]
      },
      {
       "output_type": "stream",
       "stream": "stdout",
       "text": [
        " : http://www.fht360.com/productlist/283/17227-11.html\n",
        "0.57"
       ]
      },
      {
       "output_type": "stream",
       "stream": "stdout",
       "text": [
        " : http://www.fht360.com/companylist/162-2-1514.html\n",
        "0.54"
       ]
      },
      {
       "output_type": "stream",
       "stream": "stdout",
       "text": [
        " : http://www.fht360.com/productlist/260/616-3.html\n",
        "4.15"
       ]
      },
      {
       "output_type": "stream",
       "stream": "stdout",
       "text": [
        " : http://www.fht360.com/productlist/238/1064-3.html\n",
        "0.66"
       ]
      },
      {
       "output_type": "stream",
       "stream": "stdout",
       "text": [
        " : http://www.fht360.com/productlist/264/130-2-39.html\n",
        "0.62"
       ]
      },
      {
       "output_type": "stream",
       "stream": "stdout",
       "text": [
        " : http://www.fht360.com/productlist/304-9-1487.html\n",
        "0.64"
       ]
      },
      {
       "output_type": "stream",
       "stream": "stdout",
       "text": [
        " : http://www.fht360.com/productlist/432-3-1662.html\n",
        "1.19"
       ]
      },
      {
       "output_type": "stream",
       "stream": "stdout",
       "text": [
        " : http://www.fht360.com/productlist/439-2-2137.html\n",
        "0.83"
       ]
      },
      {
       "output_type": "stream",
       "stream": "stdout",
       "text": [
        " : http://www.fht360.com/productlist/385-7-860.html\n",
        "0.65"
       ]
      },
      {
       "output_type": "stream",
       "stream": "stdout",
       "text": [
        " : http://www.fht360.com/productlist/424/14747-2-2137.html\n",
        "0.45"
       ]
      },
      {
       "output_type": "stream",
       "stream": "stdout",
       "text": [
        " : http://www.fht360.com/productlist/226/9392-2.html\n",
        "0.64"
       ]
      },
      {
       "output_type": "stream",
       "stream": "stdout",
       "text": [
        " : http://www.fht360.com/productlist/277-5-2137.html\n",
        "0.24"
       ]
      },
      {
       "output_type": "stream",
       "stream": "stdout",
       "text": [
        " : http://www.fht360.com/productlist/234/10288-12.html\n",
        "0.60"
       ]
      },
      {
       "output_type": "stream",
       "stream": "stdout",
       "text": [
        " : http://www.fht360.com/productlist/301/11774-2-860.html\n",
        "0.68"
       ]
      },
      {
       "output_type": "stream",
       "stream": "stdout",
       "text": [
        " : http://www.fht360.com/productlist/334-2-1364.html\n",
        "0.50"
       ]
      },
      {
       "output_type": "stream",
       "stream": "stdout",
       "text": [
        " : http://www.fht360.com/productlist/264/10373-7.html\n",
        "0.49"
       ]
      },
      {
       "output_type": "stream",
       "stream": "stdout",
       "text": [
        " : http://www.fht360.com/productlist/227/17403-2.html\n",
        "0.71"
       ]
      },
      {
       "output_type": "stream",
       "stream": "stdout",
       "text": [
        " : http://www.fht360.com/productlist/352/10970-2.html\n",
        "0.67"
       ]
      },
      {
       "output_type": "stream",
       "stream": "stdout",
       "text": [
        " : http://www.fht360.com/productlist/234/15649-3-2137.html\n",
        "0.45"
       ]
      },
      {
       "output_type": "stream",
       "stream": "stdout",
       "text": [
        " : http://www.fht360.com/productlist/262/8033-3.html\n",
        "0.73"
       ]
      },
      {
       "output_type": "stream",
       "stream": "stdout",
       "text": [
        " : http://www.fht360.com/productlist/233/8-3-1662.html\n",
        "0.70"
       ]
      },
      {
       "output_type": "stream",
       "stream": "stdout",
       "text": [
        " : http://www.fht360.com/productlist/233/17108-3-1487.html\n",
        "1.15"
       ]
      },
      {
       "output_type": "stream",
       "stream": "stdout",
       "text": [
        " : http://www.fht360.com/companylist/48/3-2-3065.html\n",
        "0.52"
       ]
      },
      {
       "output_type": "stream",
       "stream": "stdout",
       "text": [
        " : http://www.fht360.com/productlist/231/15724-10.html\n",
        "0.44"
       ]
      },
      {
       "output_type": "stream",
       "stream": "stdout",
       "text": [
        " : http://www.fht360.com/productlist/273/100-2.html\n",
        "0.47"
       ]
      },
      {
       "output_type": "stream",
       "stream": "stdout",
       "text": [
        " : http://www.fht360.com/companylist/48/3-2-191.html\n",
        "1.93"
       ]
      },
      {
       "output_type": "stream",
       "stream": "stdout",
       "text": [
        " : http://www.fht360.com/companylist/71-2-2164.html\n",
        "0.59"
       ]
      },
      {
       "output_type": "stream",
       "stream": "stdout",
       "text": [
        " : http://www.fht360.com/productlist/324/7897-4.html\n",
        "0.62"
       ]
      },
      {
       "output_type": "stream",
       "stream": "stdout",
       "text": [
        " : http://www.fht360.com/productlist/358/4725-3-880.html\n",
        "0.52"
       ]
      },
      {
       "output_type": "stream",
       "stream": "stdout",
       "text": [
        " : http://www.fht360.com/productlist/352/13810-5.html\n",
        "0.51"
       ]
      },
      {
       "output_type": "stream",
       "stream": "stdout",
       "text": [
        " : http://www.fht360.com/productlist/430/14793-4.html\n",
        "0.69"
       ]
      },
      {
       "output_type": "stream",
       "stream": "stdout",
       "text": [
        " : http://www.fht360.com/companylist/98/36-2.html\n",
        "0.48"
       ]
      },
      {
       "output_type": "stream",
       "stream": "stdout",
       "text": [
        " : http://www.fht360.com/companylist/48-2-1070.html\n",
        "1.38"
       ]
      },
      {
       "output_type": "stream",
       "stream": "stdout",
       "text": [
        " : http://www.fht360.com/productlist/357/11330-53.html\n",
        "1.32"
       ]
      },
      {
       "output_type": "stream",
       "stream": "stdout",
       "text": [
        " : http://www.fht360.com/productlist/309-2-39.html\n",
        "0.35"
       ]
      },
      {
       "output_type": "stream",
       "stream": "stdout",
       "text": [
        " : http://www.fht360.com/productlist/364/13031-2-2137.html\n",
        "1.64"
       ]
      },
      {
       "output_type": "stream",
       "stream": "stdout",
       "text": [
        " : http://www.fht360.com/companylist/34-2-1494.html\n",
        "0.26"
       ]
      },
      {
       "output_type": "stream",
       "stream": "stdout",
       "text": [
        " : http://www.fht360.com/productlist/239/798-3.html\n",
        "0.45"
       ]
      },
      {
       "output_type": "stream",
       "stream": "stdout",
       "text": [
        " : http://www.fht360.com/productlist/324/10011-6.html\n",
        "0.31"
       ]
      },
      {
       "output_type": "stream",
       "stream": "stdout",
       "text": [
        " : http://www.fht360.com/productlist/324/10010-3.html\n",
        "0.35"
       ]
      },
      {
       "output_type": "stream",
       "stream": "stdout",
       "text": [
        " : http://www.fht360.com/productlist/324/10012-2.html\n",
        "0.65"
       ]
      },
      {
       "output_type": "stream",
       "stream": "stdout",
       "text": [
        " : http://www.fht360.com/companylist/179-2-2137.html\n",
        "0.31"
       ]
      },
      {
       "output_type": "stream",
       "stream": "stdout",
       "text": [
        " : http://www.fht360.com/productlist/324-4-2508.html\n",
        "0.49"
       ]
      },
      {
       "output_type": "stream",
       "stream": "stdout",
       "text": [
        " : http://www.fht360.com/productlist/312-3-2137.html\n",
        "0.54"
       ]
      },
      {
       "output_type": "stream",
       "stream": "stdout",
       "text": [
        " : http://www.fht360.com/companylist/46-2-2137.html\n",
        "0.27"
       ]
      },
      {
       "output_type": "stream",
       "stream": "stdout",
       "text": [
        " : http://www.fht360.com/productlist/433/15238-2.html\n",
        "0.28"
       ]
      },
      {
       "output_type": "stream",
       "stream": "stdout",
       "text": [
        " : http://www.fht360.com/productlist/433/15236-3.html\n",
        "0.34"
       ]
      },
      {
       "output_type": "stream",
       "stream": "stdout",
       "text": [
        " : http://www.fht360.com/productlist/433/15235-2.html\n",
        "0.26"
       ]
      },
      {
       "output_type": "stream",
       "stream": "stdout",
       "text": [
        " : http://www.fht360.com/productlist/348/10776-2.html\n",
        "0.60"
       ]
      },
      {
       "output_type": "stream",
       "stream": "stdout",
       "text": [
        " : http://www.fht360.com/companylist/37/10408-2.html\n",
        "0.63"
       ]
      },
      {
       "output_type": "stream",
       "stream": "stdout",
       "text": [
        " : http://www.fht360.com/productlist/331/11386-3.html\n",
        "0.69"
       ]
      },
      {
       "output_type": "stream",
       "stream": "stdout",
       "text": [
        " : http://www.fht360.com/companylist/164-45-2137.html\n",
        "0.56"
       ]
      },
      {
       "output_type": "stream",
       "stream": "stdout",
       "text": [
        " : http://www.fht360.com/companylist/51-8.html\n",
        "0.48"
       ]
      },
      {
       "output_type": "stream",
       "stream": "stdout",
       "text": [
        " : http://www.fht360.com/productlist/435/15239-2-1487.html\n",
        "0.34"
       ]
      },
      {
       "output_type": "stream",
       "stream": "stdout",
       "text": [
        " : http://www.fht360.com/productlist/280-7-880.html\n",
        "0.53"
       ]
      },
      {
       "output_type": "stream",
       "stream": "stdout",
       "text": [
        " : http://www.fht360.com/companylist/167-2-111.html\n",
        "0.50"
       ]
      },
      {
       "output_type": "stream",
       "stream": "stdout",
       "text": [
        " : http://www.fht360.com/companylist/48-2-873.html\n",
        "0.54"
       ]
      },
      {
       "output_type": "stream",
       "stream": "stdout",
       "text": [
        " : http://www.fht360.com/companylist/48-2-872.html\n",
        "0.55"
       ]
      },
      {
       "output_type": "stream",
       "stream": "stdout",
       "text": [
        " : http://www.fht360.com/productlist/301/11774-2-2137.html\n",
        "2.06"
       ]
      },
      {
       "output_type": "stream",
       "stream": "stdout",
       "text": [
        " : http://www.fht360.com/companylist/40-2-1009.html\n",
        "0.29"
       ]
      },
      {
       "output_type": "stream",
       "stream": "stdout",
       "text": [
        " : http://www.fht360.com/productlist/276-2-1.html\n",
        "0.28"
       ]
      },
      {
       "output_type": "stream",
       "stream": "stdout",
       "text": [
        " : http://www.fht360.com/productlist/239/798-2-1662.html\n",
        "0.31"
       ]
      },
      {
       "output_type": "stream",
       "stream": "stdout",
       "text": [
        " : http://www.fht360.com/productlist/246/13468-2.html\n",
        "0.50"
       ]
      },
      {
       "output_type": "stream",
       "stream": "stdout",
       "text": [
        " : http://www.fht360.com/companylist/210-3-880.html\n",
        "0.59"
       ]
      },
      {
       "output_type": "stream",
       "stream": "stdout",
       "text": [
        " : http://www.fht360.com/companylist/210-2-881.html\n",
        "0.41"
       ]
      },
      {
       "output_type": "stream",
       "stream": "stdout",
       "text": [
        " : http://www.fht360.com/productlist/233/17274-2-2137.html\n",
        "0.30"
       ]
      },
      {
       "output_type": "stream",
       "stream": "stdout",
       "text": [
        " : http://www.fht360.com/productlist/320-2-2137.html\n",
        "0.84"
       ]
      },
      {
       "output_type": "stream",
       "stream": "stdout",
       "text": [
        " : http://www.fht360.com/productlist/329-2-1487.html\n",
        "0.50"
       ]
      },
      {
       "output_type": "stream",
       "stream": "stdout",
       "text": [
        " : http://www.fht360.com/productlist/369-2-1009.html\n",
        "0.51"
       ]
      },
      {
       "output_type": "stream",
       "stream": "stdout",
       "text": [
        " : http://www.fht360.com/companylist/57/4-3-880.html\n",
        "0.43"
       ]
      },
      {
       "output_type": "stream",
       "stream": "stdout",
       "text": [
        " : http://www.fht360.com/productlist/338/5158-4-860.html\n",
        "0.47"
       ]
      },
      {
       "output_type": "stream",
       "stream": "stdout",
       "text": [
        " : http://www.fht360.com/companylist/167-3-1067.html\n",
        "0.98"
       ]
      },
      {
       "output_type": "stream",
       "stream": "stdout",
       "text": [
        " : http://www.fht360.com/productlist/301-50-1487.html\n",
        "1.00"
       ]
      },
      {
       "output_type": "stream",
       "stream": "stdout",
       "text": [
        " : http://www.fht360.com/productlist/351/13621-2-2137.html\n",
        "0.28"
       ]
      },
      {
       "output_type": "stream",
       "stream": "stdout",
       "text": [
        " : http://www.fht360.com/productlist/246/14893-4.html\n",
        "0.51"
       ]
      },
      {
       "output_type": "stream",
       "stream": "stdout",
       "text": [
        " : http://www.fht360.com/productlist/235/16408-2-2137.html\n",
        "0.43"
       ]
      },
      {
       "output_type": "stream",
       "stream": "stdout",
       "text": [
        " : http://www.fht360.com/productlist/248/12001-2-1.html\n",
        "0.65"
       ]
      },
      {
       "output_type": "stream",
       "stream": "stdout",
       "text": [
        " : http://www.fht360.com/productlist/356-3-2508.html\n",
        "0.97"
       ]
      },
      {
       "output_type": "stream",
       "stream": "stdout",
       "text": [
        " : http://www.fht360.com/companylist/48-2-1276.html\n",
        "0.98"
       ]
      },
      {
       "output_type": "stream",
       "stream": "stdout",
       "text": [
        " : http://www.fht360.com/productlist/226-8-880.html\n",
        "0.92"
       ]
      },
      {
       "output_type": "stream",
       "stream": "stdout",
       "text": [
        " : http://www.fht360.com/productlist/327-5.html\n",
        "0.79"
       ]
      },
      {
       "output_type": "stream",
       "stream": "stdout",
       "text": [
        " : http://www.fht360.com/productlist/326-79.html\n",
        "0.22"
       ]
      },
      {
       "output_type": "stream",
       "stream": "stdout",
       "text": [
        " : http://www.fht360.com/productlist/325-36.html\n",
        "1.08"
       ]
      },
      {
       "output_type": "stream",
       "stream": "stdout",
       "text": [
        " : http://www.fht360.com/productlist/324-328.html\n",
        "0.85"
       ]
      },
      {
       "output_type": "stream",
       "stream": "stdout",
       "text": [
        " : http://www.fht360.com/productlist/323-3.html\n",
        "0.32"
       ]
      },
      {
       "output_type": "stream",
       "stream": "stdout",
       "text": [
        " : http://www.fht360.com/productlist/322-8.html\n",
        "0.37"
       ]
      },
      {
       "output_type": "stream",
       "stream": "stdout",
       "text": [
        " : http://www.fht360.com/productlist/329-9.html\n",
        "1.15"
       ]
      },
      {
       "output_type": "stream",
       "stream": "stdout",
       "text": [
        " : http://www.fht360.com/productlist/328-47.html\n",
        "0.49"
       ]
      },
      {
       "output_type": "stream",
       "stream": "stdout",
       "text": [
        " : http://www.fht360.com/companylist/164-2-1570.html\n",
        "1.12"
       ]
      },
      {
       "output_type": "stream",
       "stream": "stdout",
       "text": [
        " : http://www.fht360.com/productlist/326/10814-2-2137.html\n",
        "1.38"
       ]
      },
      {
       "output_type": "stream",
       "stream": "stdout",
       "text": [
        " : http://www.fht360.com/productlist/228/582-4-1487.html\n",
        "3.92"
       ]
      },
      {
       "output_type": "stream",
       "stream": "stdout",
       "text": [
        " : http://www.fht360.com/productlist/263/307-3-1662.html\n",
        "1.14"
       ]
      },
      {
       "output_type": "stream",
       "stream": "stdout",
       "text": [
        " : http://www.fht360.com/companylist/167/3-3-20.html\n",
        "0.42"
       ]
      },
      {
       "output_type": "stream",
       "stream": "stdout",
       "text": [
        " : http://www.fht360.com/productlist/426/14862-2-1987.html\n",
        "0.45"
       ]
      },
      {
       "output_type": "stream",
       "stream": "stdout",
       "text": [
        " : http://www.fht360.com/productlist/255-2-1662.html\n",
        "0.43"
       ]
      },
      {
       "output_type": "stream",
       "stream": "stdout",
       "text": [
        " : http://www.fht360.com/productlist/317/72-4-880.html\n",
        "0.47"
       ]
      },
      {
       "output_type": "stream",
       "stream": "stdout",
       "text": [
        " : http://www.fht360.com/companylist/165/3-2-1570.html\n",
        "0.27"
       ]
      },
      {
       "output_type": "stream",
       "stream": "stdout",
       "text": [
        " : http://www.fht360.com/productlist/238/138-2.html\n",
        "0.25"
       ]
      },
      {
       "output_type": "stream",
       "stream": "stdout",
       "text": [
        " : http://www.fht360.com/productlist/366/13827-3.html\n",
        "0.53"
       ]
      },
      {
       "output_type": "stream",
       "stream": "stdout",
       "text": [
        " : http://www.fht360.com/companylist/164/3-2-1025.html\n",
        "0.56"
       ]
      },
      {
       "output_type": "stream",
       "stream": "stdout",
       "text": [
        " : http://www.fht360.com/productlist/385/6-6-2137.html\n",
        "0.33"
       ]
      },
      {
       "output_type": "stream",
       "stream": "stdout",
       "text": [
        " : http://www.fht360.com/productlist/226/10528-10.html\n",
        "0.35"
       ]
      },
      {
       "output_type": "stream",
       "stream": "stdout",
       "text": [
        " : http://www.fht360.com/productlist/279/17243-2-2137.html\n",
        "0.33"
       ]
      },
      {
       "output_type": "stream",
       "stream": "stdout",
       "text": [
        " : http://www.fht360.com/productlist/331-2-2299.html\n",
        "0.45"
       ]
      },
      {
       "output_type": "stream",
       "stream": "stdout",
       "text": [
        " : http://www.fht360.com/productlist/239-2-20.html\n",
        "0.24"
       ]
      },
      {
       "output_type": "stream",
       "stream": "stdout",
       "text": [
        " : http://www.fht360.com/productlist/238/132-3.html\n",
        "0.44"
       ]
      },
      {
       "output_type": "stream",
       "stream": "stdout",
       "text": [
        " : http://www.fht360.com/productlist/432-2-234.html\n",
        "0.21"
       ]
      },
      {
       "output_type": "stream",
       "stream": "stdout",
       "text": [
        " : http://www.fht360.com/productlist/239/390-15.html\n",
        "0.08"
       ]
      },
      {
       "output_type": "stream",
       "stream": "stdout",
       "text": [
        " : http://www.fht360.com/productlist/238/130-7.html\n",
        "0.56"
       ]
      },
      {
       "output_type": "stream",
       "stream": "stdout",
       "text": [
        " : http://www.fht360.com/productlist/356/13331-2-1009.html\n",
        "1.64"
       ]
      },
      {
       "output_type": "stream",
       "stream": "stdout",
       "text": [
        " : http://www.fht360.com/productlist/253-4-880.html\n",
        "0.78"
       ]
      },
      {
       "output_type": "stream",
       "stream": "stdout",
       "text": [
        " : http://www.fht360.com/productlist/231/15883-2-39.html\n",
        "0.47"
       ]
      },
      {
       "output_type": "stream",
       "stream": "stdout",
       "text": [
        " : http://www.fht360.com/productlist/334/12421-4-1.html\n",
        "1.07"
       ]
      },
      {
       "output_type": "stream",
       "stream": "stdout",
       "text": [
        " : http://www.fht360.com/productlist/227/12210-14.html\n",
        "0.39"
       ]
      },
      {
       "output_type": "stream",
       "stream": "stdout",
       "text": [
        " : http://www.fht360.com/productlist/424/14923-2-2137.html\n",
        "1.20"
       ]
      },
      {
       "output_type": "stream",
       "stream": "stdout",
       "text": [
        " : http://www.fht360.com/productlist/280/19-7-1487.html\n",
        "0.26"
       ]
      },
      {
       "output_type": "stream",
       "stream": "stdout",
       "text": [
        " : http://www.fht360.com/productlist/236/15696-2.html\n",
        "0.44"
       ]
      },
      {
       "output_type": "stream",
       "stream": "stdout",
       "text": [
        " : http://www.fht360.com/productlist/326/7818-10-39.html\n",
        "0.75"
       ]
      },
      {
       "output_type": "stream",
       "stream": "stdout",
       "text": [
        " : http://www.fht360.com/companylist/77/8-2-880.html\n",
        "0.27"
       ]
      },
      {
       "output_type": "stream",
       "stream": "stdout",
       "text": [
        " : http://www.fht360.com/productlist/246/13236-3.html\n",
        "0.49"
       ]
      },
      {
       "output_type": "stream",
       "stream": "stdout",
       "text": [
        " : http://www.fht360.com/companylist/34-8-880.html\n",
        "0.28"
       ]
      },
      {
       "output_type": "stream",
       "stream": "stdout",
       "text": [
        " : http://www.fht360.com/productlist/233-9-860.html\n",
        "0.47"
       ]
      },
      {
       "output_type": "stream",
       "stream": "stdout",
       "text": [
        " : http://www.fht360.com/companylist/167-2-706.html\n",
        "0.51"
       ]
      },
      {
       "output_type": "stream",
       "stream": "stdout",
       "text": [
        " : http://www.fht360.com/companylist/48-2-938.html\n",
        "0.98"
       ]
      },
      {
       "output_type": "stream",
       "stream": "stdout",
       "text": [
        " : http://www.fht360.com/productlist/301/64-45-1487.html\n",
        "0.48"
       ]
      },
      {
       "output_type": "stream",
       "stream": "stdout",
       "text": [
        " : http://www.fht360.com/companylist/48-2-936.html\n",
        "0.67"
       ]
      },
      {
       "output_type": "stream",
       "stream": "stdout",
       "text": [
        " : http://www.fht360.com/productlist/326/69-25.html\n",
        "0.49"
       ]
      },
      {
       "output_type": "stream",
       "stream": "stdout",
       "text": [
        " : http://www.fht360.com/companylist/34/334-2-1488.html\n",
        "0.58"
       ]
      },
      {
       "output_type": "stream",
       "stream": "stdout",
       "text": [
        " : http://www.fht360.com/companylist/124-2.html\n",
        "0.58"
       ]
      },
      {
       "output_type": "stream",
       "stream": "stdout",
       "text": [
        " : http://www.fht360.com/companylist/126-2.html\n",
        "0.54"
       ]
      },
      {
       "output_type": "stream",
       "stream": "stdout",
       "text": [
        " : http://www.fht360.com/companylist/121-2.html\n",
        "0.55"
       ]
      },
      {
       "output_type": "stream",
       "stream": "stdout",
       "text": [
        " : http://www.fht360.com/companylist/120-2.html\n",
        "0.46"
       ]
      },
      {
       "output_type": "stream",
       "stream": "stdout",
       "text": [
        " : http://www.fht360.com/companylist/123-3.html\n",
        "0.49"
       ]
      },
      {
       "output_type": "stream",
       "stream": "stdout",
       "text": [
        " : http://www.fht360.com/companylist/122-6.html\n",
        "2.02"
       ]
      },
      {
       "output_type": "stream",
       "stream": "stdout",
       "text": [
        " : http://www.fht360.com/productlist/283-4-1.html\n",
        "0.70"
       ]
      },
      {
       "output_type": "stream",
       "stream": "stdout",
       "text": [
        " : http://www.fht360.com/companylist/129-3.html\n",
        "0.54"
       ]
      },
      {
       "output_type": "stream",
       "stream": "stdout",
       "text": [
        " : http://www.fht360.com/companylist/128-7.html\n",
        "1.30"
       ]
      },
      {
       "output_type": "stream",
       "stream": "stdout",
       "text": [
        " : http://www.fht360.com/companylist/137/10205-2-1487.html\n",
        "0.30"
       ]
      },
      {
       "output_type": "stream",
       "stream": "stdout",
       "text": [
        " : http://www.fht360.com/productlist/439/13350-3.html\n",
        "0.45"
       ]
      },
      {
       "output_type": "stream",
       "stream": "stdout",
       "text": [
        " : http://www.fht360.com/productlist/227/12114-3-1364.html\n",
        "0.81"
       ]
      },
      {
       "output_type": "stream",
       "stream": "stdout",
       "text": [
        " : http://www.fht360.com/companylist/52-2-1.html\n",
        "1.44"
       ]
      },
      {
       "output_type": "stream",
       "stream": "stdout",
       "text": [
        " : http://www.fht360.com/productlist/283/185-2-1009.html\n",
        "0.60"
       ]
      },
      {
       "output_type": "stream",
       "stream": "stdout",
       "text": [
        " : http://www.fht360.com/companylist/44/10008-2.html\n",
        "0.31"
       ]
      },
      {
       "output_type": "stream",
       "stream": "stdout",
       "text": [
        " : http://www.fht360.com/productlist/234/297-2.html\n",
        "0.63"
       ]
      },
      {
       "output_type": "stream",
       "stream": "stdout",
       "text": [
        " : http://www.fht360.com/productlist/283-12-880.html\n",
        "0.47"
       ]
      },
      {
       "output_type": "stream",
       "stream": "stdout",
       "text": [
        " : http://www.fht360.com/companylist/243-3-2137.html\n",
        "0.48"
       ]
      },
      {
       "output_type": "stream",
       "stream": "stdout",
       "text": [
        " : http://www.fht360.com/productlist/250-30-1487.html\n",
        "0.47"
       ]
      },
      {
       "output_type": "stream",
       "stream": "stdout",
       "text": [
        " : http://www.fht360.com/companylist/165/3-13-1009.html\n",
        "0.35"
       ]
      },
      {
       "output_type": "stream",
       "stream": "stdout",
       "text": [
        " : http://www.fht360.com/productlist/231/15786-2-860.html\n",
        "0.52"
       ]
      },
      {
       "output_type": "stream",
       "stream": "stdout",
       "text": [
        " : http://www.fht360.com/companylist/63/7-4.html\n",
        "0.35"
       ]
      },
      {
       "output_type": "stream",
       "stream": "stdout",
       "text": [
        " : http://www.fht360.com/productlist/270/16206-3.html\n",
        "1.37"
       ]
      },
      {
       "output_type": "stream",
       "stream": "stdout",
       "text": [
        " : http://www.fht360.com/productlist/370-2-880.html\n",
        "0.94"
       ]
      },
      {
       "output_type": "stream",
       "stream": "stdout",
       "text": [
        " : http://www.fht360.com/companylist/164-2-132.html\n",
        "0.30"
       ]
      },
      {
       "output_type": "stream",
       "stream": "stdout",
       "text": [
        " : http://www.fht360.com/productlist/334/3432-2.html\n",
        "2.31"
       ]
      },
      {
       "output_type": "stream",
       "stream": "stdout",
       "text": [
        " : http://www.fht360.com/productlist/360-2-880.html\n",
        "1.74"
       ]
      },
      {
       "output_type": "stream",
       "stream": "stdout",
       "text": [
        " : http://www.fht360.com/productlist/335/12534-9-2137.html\n",
        "0.41"
       ]
      },
      {
       "output_type": "stream",
       "stream": "stdout",
       "text": [
        " : http://www.fht360.com/productlist/239/12098-2-39.html\n",
        "1.31"
       ]
      },
      {
       "output_type": "stream",
       "stream": "stdout",
       "text": [
        " : http://www.fht360.com/productlist/424/2-63-1662.html\n",
        "1.33"
       ]
      },
      {
       "output_type": "stream",
       "stream": "stdout",
       "text": [
        " : http://www.fht360.com/companylist/39/10514-2.html\n",
        "0.55"
       ]
      },
      {
       "output_type": "stream",
       "stream": "stdout",
       "text": [
        " : http://www.fht360.com/companylist/39/10519-2.html\n",
        "1.03"
       ]
      },
      {
       "output_type": "stream",
       "stream": "stdout",
       "text": [
        " : http://www.fht360.com/productlist/237/10457-3.html\n",
        "0.56"
       ]
      },
      {
       "output_type": "stream",
       "stream": "stdout",
       "text": [
        " : http://www.fht360.com/productlist/351/13635-3-2137.html\n",
        "0.81"
       ]
      },
      {
       "output_type": "stream",
       "stream": "stdout",
       "text": [
        " : http://www.fht360.com/productlist/234/282-4-1487.html\n",
        "0.95"
       ]
      },
      {
       "output_type": "stream",
       "stream": "stdout",
       "text": [
        " : http://www.fht360.com/productlist/410-2-860.html\n",
        "0.56"
       ]
      },
      {
       "output_type": "stream",
       "stream": "stdout",
       "text": [
        " : http://www.fht360.com/companylist/212/10723-2.html\n",
        "0.36"
       ]
      },
      {
       "output_type": "stream",
       "stream": "stdout",
       "text": [
        " : http://www.fht360.com/productlist/249/13326-3-860.html\n",
        "0.56"
       ]
      },
      {
       "output_type": "stream",
       "stream": "stdout",
       "text": [
        " : http://www.fht360.com/companylist/50/21-2.html\n",
        "0.55"
       ]
      },
      {
       "output_type": "stream",
       "stream": "stdout",
       "text": [
        " : http://www.fht360.com/companylist/167/3-2-132.html\n",
        "0.99"
       ]
      },
      {
       "output_type": "stream",
       "stream": "stdout",
       "text": [
        " : http://www.fht360.com/productlist/431/11763-2-1009.html\n",
        "1.52"
       ]
      },
      {
       "output_type": "stream",
       "stream": "stdout",
       "text": [
        " : http://www.fht360.com/productlist/366/13127-3.html\n",
        "0.44"
       ]
      },
      {
       "output_type": "stream",
       "stream": "stdout",
       "text": [
        " : http://www.fht360.com/productlist/264/159-4-1487.html\n",
        "0.38"
       ]
      },
      {
       "output_type": "stream",
       "stream": "stdout",
       "text": [
        " : http://www.fht360.com/productlist/367/13536-3-2137.html\n",
        "0.32"
       ]
      },
      {
       "output_type": "stream",
       "stream": "stdout",
       "text": [
        " : http://www.fht360.com/productlist/324/11483-17.html\n",
        "0.27"
       ]
      },
      {
       "output_type": "stream",
       "stream": "stdout",
       "text": [
        " : http://www.fht360.com/productlist/236/17819-2.html\n",
        "0.45"
       ]
      },
      {
       "output_type": "stream",
       "stream": "stdout",
       "text": [
        " : http://www.fht360.com/productlist/237-2-1260.html\n",
        "7.00"
       ]
      },
      {
       "output_type": "stream",
       "stream": "stdout",
       "text": [
        " : http://www.fht360.com/companylist/93/10833-2-2137.html\n",
        "1.67"
       ]
      },
      {
       "output_type": "stream",
       "stream": "stdout",
       "text": [
        " : http://www.fht360.com/productlist/228/14820-4-2137.html\n",
        "0.51"
       ]
      },
      {
       "output_type": "stream",
       "stream": "stdout",
       "text": [
        " : http://www.fht360.com/companylist/162-3-20.html\n",
        "0.45"
       ]
      },
      {
       "output_type": "stream",
       "stream": "stdout",
       "text": [
        " : http://www.fht360.com/productlist/351/13668-2-880.html\n",
        "0.95"
       ]
      },
      {
       "output_type": "stream",
       "stream": "stdout",
       "text": [
        " : http://www.fht360.com/productlist/280/19-4-880.html\n",
        "0.64"
       ]
      },
      {
       "output_type": "stream",
       "stream": "stdout",
       "text": [
        " : http://www.fht360.com/companylist/49-2-1083.html\n",
        "0.77"
       ]
      },
      {
       "output_type": "stream",
       "stream": "stdout",
       "text": [
        " : http://www.fht360.com/productlist/245-7-2137.html\n",
        "0.47"
       ]
      },
      {
       "output_type": "stream",
       "stream": "stdout",
       "text": [
        " : http://www.fht360.com/companylist/162-3-918.html\n",
        "0.53"
       ]
      },
      {
       "output_type": "stream",
       "stream": "stdout",
       "text": [
        " : http://www.fht360.com/companylist/52/10946-2.html\n",
        "0.43"
       ]
      },
      {
       "output_type": "stream",
       "stream": "stdout",
       "text": [
        " : http://www.fht360.com/productlist/247-1-706.html\n",
        "0.64"
       ]
      },
      {
       "output_type": "stream",
       "stream": "stdout",
       "text": [
        " : http://www.fht360.com/productlist/236/16171-9-2137.html\n",
        "0.45"
       ]
      },
      {
       "output_type": "stream",
       "stream": "stdout",
       "text": [
        " : http://www.fht360.com/productlist/444-6-2137.html\n",
        "0.46"
       ]
      },
      {
       "output_type": "stream",
       "stream": "stdout",
       "text": [
        " : http://www.fht360.com/productlist/324/11473-2-1487.html\n",
        "0.36"
       ]
      },
      {
       "output_type": "stream",
       "stream": "stdout",
       "text": [
        " : http://www.fht360.com/productlist/359/12331-2-2137.html\n",
        "0.82"
       ]
      },
      {
       "output_type": "stream",
       "stream": "stdout",
       "text": [
        " : http://www.fht360.com/companylist/128-2-2137.html\n",
        "0.43"
       ]
      },
      {
       "output_type": "stream",
       "stream": "stdout",
       "text": [
        " : http://www.fht360.com/productlist/424/14833-2-860.html\n",
        "0.47"
       ]
      },
      {
       "output_type": "stream",
       "stream": "stdout",
       "text": [
        " : http://www.fht360.com/productlist/235/18456-3-880.html\n",
        "0.40"
       ]
      },
      {
       "output_type": "stream",
       "stream": "stdout",
       "text": [
        " : http://www.fht360.com/productlist/312-2-860.html\n",
        "0.76"
       ]
      },
      {
       "output_type": "stream",
       "stream": "stdout",
       "text": [
        " : http://www.fht360.com/productlist/228-3-860.html\n",
        "0.51"
       ]
      },
      {
       "output_type": "stream",
       "stream": "stdout",
       "text": [
        " : http://www.fht360.com/companylist/48/3-4-2170.html\n",
        "0.41"
       ]
      },
      {
       "output_type": "stream",
       "stream": "stdout",
       "text": [
        " : http://www.fht360.com/productlist/233-22-39.html\n",
        "0.94"
       ]
      },
      {
       "output_type": "stream",
       "stream": "stdout",
       "text": [
        " : http://www.fht360.com/productlist/324/68-5-880.html\n",
        "0.53"
       ]
      },
      {
       "output_type": "stream",
       "stream": "stdout",
       "text": [
        " : http://www.fht360.com/companylist/52/10928-2-1364.html\n",
        "0.26"
       ]
      },
      {
       "output_type": "stream",
       "stream": "stdout",
       "text": [
        " : http://www.fht360.com/productlist/331-3-880.html\n",
        "0.52"
       ]
      },
      {
       "output_type": "stream",
       "stream": "stdout",
       "text": [
        " : http://www.fht360.com/productlist/254/15933-11.html\n",
        "0.60"
       ]
      },
      {
       "output_type": "stream",
       "stream": "stdout",
       "text": [
        " : http://www.fht360.com/productlist/433/13944-3-2137.html\n",
        "0.58"
       ]
      },
      {
       "output_type": "stream",
       "stream": "stdout",
       "text": [
        " : http://www.fht360.com/productlist/226/10833-2-1487.html\n",
        "0.98"
       ]
      },
      {
       "output_type": "stream",
       "stream": "stdout",
       "text": [
        " : http://www.fht360.com/companylist/203/10789-2.html\n",
        "1.63"
       ]
      },
      {
       "output_type": "stream",
       "stream": "stdout",
       "text": [
        " : http://www.fht360.com/productlist/324/12421-136.html\n",
        "0.77"
       ]
      },
      {
       "output_type": "stream",
       "stream": "stdout",
       "text": [
        " : http://www.fht360.com/companylist/48/3-166.html\n",
        "1.02"
       ]
      },
      {
       "output_type": "stream",
       "stream": "stdout",
       "text": [
        " : http://www.fht360.com/companylist/75-2-1038.html\n",
        "1.48"
       ]
      },
      {
       "output_type": "stream",
       "stream": "stdout",
       "text": [
        " : http://www.fht360.com/productlist/440-2-2137.html\n",
        "1.02"
       ]
      },
      {
       "output_type": "stream",
       "stream": "stdout",
       "text": [
        " : http://www.fht360.com/companylist/50-2-2278.html\n",
        "0.65"
       ]
      },
      {
       "output_type": "stream",
       "stream": "stdout",
       "text": [
        " : http://www.fht360.com/productlist/368/5158-4-860.html\n",
        "0.70"
       ]
      },
      {
       "output_type": "stream",
       "stream": "stdout",
       "text": [
        " : http://www.fht360.com/productlist/357/2674-2-1122.html\n",
        "0.82"
       ]
      },
      {
       "output_type": "stream",
       "stream": "stdout",
       "text": [
        " : http://www.fht360.com/productlist/313-2-880.html\n",
        "0.77"
       ]
      },
      {
       "output_type": "stream",
       "stream": "stdout",
       "text": [
        " : http://www.fht360.com/companylist/162/3-13-1009.html\n",
        "0.80"
       ]
      },
      {
       "output_type": "stream",
       "stream": "stdout",
       "text": [
        " : http://www.fht360.com/companylist/48/3-2-111.html\n",
        "0.64"
       ]
      },
      {
       "output_type": "stream",
       "stream": "stdout",
       "text": [
        " : http://www.fht360.com/companylist/104/10602-2.html\n",
        "0.83"
       ]
      },
      {
       "output_type": "stream",
       "stream": "stdout",
       "text": [
        " : http://www.fht360.com/productlist/377/83-3-1122.html\n",
        "0.78"
       ]
      },
      {
       "output_type": "stream",
       "stream": "stdout",
       "text": [
        " : http://www.fht360.com/productlist/352/14131-2-2137.html\n",
        "1.12"
       ]
      },
      {
       "output_type": "stream",
       "stream": "stdout",
       "text": [
        " : http://www.fht360.com/companylist/48-4-1567.html\n",
        "1.47"
       ]
      },
      {
       "output_type": "stream",
       "stream": "stdout",
       "text": [
        " : http://www.fht360.com/companylist/167/3-3-1488.html\n",
        "1.01"
       ]
      },
      {
       "output_type": "stream",
       "stream": "stdout",
       "text": [
        " : http://www.fht360.com/companylist/167/3-24-1487.html\n",
        "0.99"
       ]
      },
      {
       "output_type": "stream",
       "stream": "stdout",
       "text": [
        " : http://www.fht360.com/companylist/164-4-1260.html\n",
        "0.90"
       ]
      },
      {
       "output_type": "stream",
       "stream": "stdout",
       "text": [
        " : http://www.fht360.com/productlist/263/309-5.html\n",
        "0.67"
       ]
      },
      {
       "output_type": "stream",
       "stream": "stdout",
       "text": [
        " : http://www.fht360.com/productlist/263/306-2.html\n",
        "0.63"
       ]
      },
      {
       "output_type": "stream",
       "stream": "stdout",
       "text": [
        " : http://www.fht360.com/productlist/263/307-10.html\n",
        "0.94"
       ]
      },
      {
       "output_type": "stream",
       "stream": "stdout",
       "text": [
        " : http://www.fht360.com/productlist/239/713-5.html\n",
        "1.40"
       ]
      },
      {
       "output_type": "stream",
       "stream": "stdout",
       "text": [
        " : http://www.fht360.com/productlist/283-4-1662.html\n",
        "0.78"
       ]
      },
      {
       "output_type": "stream",
       "stream": "stdout",
       "text": [
        " : http://www.fht360.com/companylist/167-16-39.html\n",
        "1.09"
       ]
      },
      {
       "output_type": "stream",
       "stream": "stdout",
       "text": [
        " : http://www.fht360.com/companylist/37/8-2-986.html\n",
        "0.35"
       ]
      },
      {
       "output_type": "stream",
       "stream": "stdout",
       "text": [
        " : http://www.fht360.com/productlist/239-17-39.html\n",
        "2.64"
       ]
      },
      {
       "output_type": "stream",
       "stream": "stdout",
       "text": [
        " : http://www.fht360.com/companylist/63/10416-2.html\n",
        "0.66"
       ]
      },
      {
       "output_type": "stream",
       "stream": "stdout",
       "text": [
        " : http://www.fht360.com/productlist/236/16171-14.html\n",
        "0.26"
       ]
      },
      {
       "output_type": "stream",
       "stream": "stdout",
       "text": [
        " : http://www.fht360.com/productlist/410/19098-2.html\n",
        "1.09"
       ]
      },
      {
       "output_type": "stream",
       "stream": "stdout",
       "text": [
        " : http://www.fht360.com/companylist/199-3-2137.html\n",
        "2.70"
       ]
      },
      {
       "output_type": "stream",
       "stream": "stdout",
       "text": [
        " : http://www.fht360.com/companylist/34-3-1663.html\n",
        "0.70"
       ]
      },
      {
       "output_type": "stream",
       "stream": "stdout",
       "text": [
        " : http://www.fht360.com/companylist/34-4-1662.html\n",
        "0.60"
       ]
      },
      {
       "output_type": "stream",
       "stream": "stdout",
       "text": [
        " : http://www.fht360.com/companylist/167-2-191.html\n",
        "0.62"
       ]
      },
      {
       "output_type": "stream",
       "stream": "stdout",
       "text": [
        " : http://www.fht360.com/companylist/155-4-2137.html\n",
        "0.34"
       ]
      },
      {
       "output_type": "stream",
       "stream": "stdout",
       "text": [
        " : http://www.fht360.com/productlist/360-2-1987.html\n",
        "0.44"
       ]
      },
      {
       "output_type": "stream",
       "stream": "stdout",
       "text": [
        " : http://www.fht360.com/productlist/281-2-1260.html\n",
        "0.45"
       ]
      },
      {
       "output_type": "stream",
       "stream": "stdout",
       "text": [
        " : http://www.fht360.com/productlist/433-2-2508.html\n",
        "0.52"
       ]
      },
      {
       "output_type": "stream",
       "stream": "stdout",
       "text": [
        " : http://www.fht360.com/companylist/43-2-2164.html\n",
        "0.48"
       ]
      },
      {
       "output_type": "stream",
       "stream": "stdout",
       "text": [
        " : http://www.fht360.com/companylist/162/3-2-1668.html\n",
        "0.47"
       ]
      },
      {
       "output_type": "stream",
       "stream": "stdout",
       "text": [
        " : http://www.fht360.com/companylist/162/3-5-1663.html\n",
        "0.69"
       ]
      },
      {
       "output_type": "stream",
       "stream": "stdout",
       "text": [
        " : http://www.fht360.com/companylist/162/3-10-1662.html\n",
        "0.68"
       ]
      },
      {
       "output_type": "stream",
       "stream": "stdout",
       "text": [
        " : http://www.fht360.com/companylist/40/10288-2.html\n",
        "4.46"
       ]
      },
      {
       "output_type": "stream",
       "stream": "stdout",
       "text": [
        " : http://www.fht360.com/companylist/159/10641-2.html\n",
        "4.23"
       ]
      },
      {
       "output_type": "stream",
       "stream": "stdout",
       "text": [
        " : http://www.fht360.com/productlist/401/9024-3.html\n",
        "0.40"
       ]
      },
      {
       "output_type": "stream",
       "stream": "stdout",
       "text": [
        " : http://www.fht360.com/productlist/235/10035-2.html\n",
        "0.43"
       ]
      },
      {
       "output_type": "stream",
       "stream": "stdout",
       "text": [
        " : http://www.fht360.com/productlist/384/41-2-880.html\n",
        "0.43"
       ]
      },
      {
       "output_type": "stream",
       "stream": "stdout",
       "text": [
        " : http://www.fht360.com/productlist/326/11562-2-1122.html\n",
        "0.94"
       ]
      },
      {
       "output_type": "stream",
       "stream": "stdout",
       "text": [
        " : http://www.fht360.com/productlist/274-4-860.html\n",
        "0.34"
       ]
      },
      {
       "output_type": "stream",
       "stream": "stdout",
       "text": [
        " : http://www.fht360.com/productlist/301-15-1122.html\n",
        "0.25"
       ]
      },
      {
       "output_type": "stream",
       "stream": "stdout",
       "text": [
        " : http://www.fht360.com/productlist/241/370-2.html\n",
        "1.41"
       ]
      },
      {
       "output_type": "stream",
       "stream": "stdout",
       "text": [
        " : http://www.fht360.com/companylist/49-4-880.html\n",
        "0.31"
       ]
      },
      {
       "output_type": "stream",
       "stream": "stdout",
       "text": [
        " : http://www.fht360.com/productlist/352/5157-6.html\n",
        "0.26"
       ]
      },
      {
       "output_type": "stream",
       "stream": "stdout",
       "text": [
        " : http://www.fht360.com/productlist/235/18772-2.html\n",
        "0.33"
       ]
      },
      {
       "output_type": "stream",
       "stream": "stdout",
       "text": [
        " : http://www.fht360.com/productlist/444/16096-8.html\n",
        "0.47"
       ]
      },
      {
       "output_type": "stream",
       "stream": "stdout",
       "text": [
        " : http://www.fht360.com/companylist/162-3-896.html\n",
        "0.33"
       ]
      },
      {
       "output_type": "stream",
       "stream": "stdout",
       "text": [
        " : http://www.fht360.com/productlist/231/14-16.html\n",
        "0.48"
       ]
      },
      {
       "output_type": "stream",
       "stream": "stdout",
       "text": [
        " : http://www.fht360.com/companylist/48-18-39.html\n",
        "0.33"
       ]
      },
      {
       "output_type": "stream",
       "stream": "stdout",
       "text": [
        " : http://www.fht360.com/productlist/427/12292-7.html\n",
        "0.55"
       ]
      },
      {
       "output_type": "stream",
       "stream": "stdout",
       "text": [
        " : http://www.fht360.com/companylist/49/10935-2.html\n",
        "0.52"
       ]
      },
      {
       "output_type": "stream",
       "stream": "stdout",
       "text": [
        " : http://www.fht360.com/companylist/34/10202-2.html\n",
        "0.44"
       ]
      },
      {
       "output_type": "stream",
       "stream": "stdout",
       "text": [
        " : http://www.fht360.com/productlist/367/13638-5-2137.html\n",
        "0.47"
       ]
      },
      {
       "output_type": "stream",
       "stream": "stdout",
       "text": [
        " : http://www.fht360.com/productlist/351-9-880.html\n",
        "0.35"
       ]
      },
      {
       "output_type": "stream",
       "stream": "stdout",
       "text": [
        " : http://www.fht360.com/productlist/326/11593-2-2137.html\n",
        "0.47"
       ]
      },
      {
       "output_type": "stream",
       "stream": "stdout",
       "text": [
        " : http://www.fht360.com/companylist/165-2-1100.html\n",
        "0.43"
       ]
      },
      {
       "output_type": "stream",
       "stream": "stdout",
       "text": [
        " : http://www.fht360.com/productlist/337/12182-2-1487.html\n",
        "0.63"
       ]
      },
      {
       "output_type": "stream",
       "stream": "stdout",
       "text": [
        " : http://www.fht360.com/companylist/164-3-1067.html\n",
        "0.47"
       ]
      },
      {
       "output_type": "stream",
       "stream": "stdout",
       "text": [
        " : http://www.fht360.com/productlist/371/14157-2-2137.html\n",
        "0.43"
       ]
      },
      {
       "output_type": "stream",
       "stream": "stdout",
       "text": [
        " : http://www.fht360.com/productlist/341-3-1009.html\n",
        "0.27"
       ]
      },
      {
       "output_type": "stream",
       "stream": "stdout",
       "text": [
        " : http://www.fht360.com/productlist/326/11593-2.html\n",
        "0.51"
       ]
      },
      {
       "output_type": "stream",
       "stream": "stdout",
       "text": [
        " : http://www.fht360.com/companylist/213/10720-2.html\n",
        "0.39"
       ]
      },
      {
       "output_type": "stream",
       "stream": "stdout",
       "text": [
        " : http://www.fht360.com/productlist/231/7898-2-880.html\n",
        "0.37"
       ]
      },
      {
       "output_type": "stream",
       "stream": "stdout",
       "text": [
        " : http://www.fht360.com/productlist/235/97-6-1487.html\n",
        "0.26"
       ]
      },
      {
       "output_type": "stream",
       "stream": "stdout",
       "text": [
        " : http://www.fht360.com/productlist/305/16102-4.html\n",
        "0.48"
       ]
      },
      {
       "output_type": "stream",
       "stream": "stdout",
       "text": [
        " : http://www.fht360.com/productlist/333/12646-2-2137.html\n",
        "0.37"
       ]
      },
      {
       "output_type": "stream",
       "stream": "stdout",
       "text": [
        " : http://www.fht360.com/productlist/246/12347-10-2137.html\n",
        "0.37"
       ]
      },
      {
       "output_type": "stream",
       "stream": "stdout",
       "text": [
        " : http://www.fht360.com/productlist/367/13617-2-2137.html\n",
        "0.38"
       ]
      },
      {
       "output_type": "stream",
       "stream": "stdout",
       "text": [
        " : http://www.fht360.com/productlist/250/1267-2-1662.html\n",
        "0.43"
       ]
      },
      {
       "output_type": "stream",
       "stream": "stdout",
       "text": [
        " : http://www.fht360.com/productlist/231/11995-14-1487.html\n",
        "0.48"
       ]
      },
      {
       "output_type": "stream",
       "stream": "stdout",
       "text": [
        " : http://www.fht360.com/companylist/48/3-2-706.html\n",
        "0.25"
       ]
      },
      {
       "output_type": "stream",
       "stream": "stdout",
       "text": [
        " : http://www.fht360.com/productlist/261-17-880.html\n",
        "0.53"
       ]
      },
      {
       "output_type": "stream",
       "stream": "stdout",
       "text": [
        " : http://www.fht360.com/companylist/48-4-2170.html\n",
        "0.39"
       ]
      },
      {
       "output_type": "stream",
       "stream": "stdout",
       "text": [
        " : http://www.fht360.com/productlist/340/1963-2-1009.html\n",
        "0.58"
       ]
      },
      {
       "output_type": "stream",
       "stream": "stdout",
       "text": [
        " : http://www.fht360.com/companylist/48-25-1487.html\n",
        "0.51"
       ]
      },
      {
       "output_type": "stream",
       "stream": "stdout",
       "text": [
        " : http://www.fht360.com/companylist/48-4-1488.html\n",
        "0.40"
       ]
      },
      {
       "output_type": "stream",
       "stream": "stdout",
       "text": [
        " : http://www.fht360.com/productlist/324/10011-2-39.html\n",
        "0.45"
       ]
      },
      {
       "output_type": "stream",
       "stream": "stdout",
       "text": [
        " : http://www.fht360.com/productlist/337/12188-4-2137.html\n",
        "0.88"
       ]
      },
      {
       "output_type": "stream",
       "stream": "stdout",
       "text": [
        " : http://www.fht360.com/companylist/43/64-5.html\n",
        "1.38"
       ]
      },
      {
       "output_type": "stream",
       "stream": "stdout",
       "text": [
        " : http://www.fht360.com/companylist/48-2-1736.html\n",
        "0.31"
       ]
      },
      {
       "output_type": "stream",
       "stream": "stdout",
       "text": [
        " : http://www.fht360.com/productlist/352/14165-4.html\n",
        "0.69"
       ]
      },
      {
       "output_type": "stream",
       "stream": "stdout",
       "text": [
        " : http://www.fht360.com/companylist/52-5-1009.html\n",
        "0.56"
       ]
      },
      {
       "output_type": "stream",
       "stream": "stdout",
       "text": [
        " : http://www.fht360.com/productlist/293-2-1.html\n",
        "0.58"
       ]
      },
      {
       "output_type": "stream",
       "stream": "stdout",
       "text": [
        " : http://www.fht360.com/companylist/81/10409-2.html\n",
        "0.51"
       ]
      },
      {
       "output_type": "stream",
       "stream": "stdout",
       "text": [
        " : http://www.fht360.com/companylist/56-2-881.html\n",
        "0.43"
       ]
      },
      {
       "output_type": "stream",
       "stream": "stdout",
       "text": [
        " : http://www.fht360.com/productlist/431-4-1009.html\n",
        "0.52"
       ]
      },
      {
       "output_type": "stream",
       "stream": "stdout",
       "text": [
        " : http://www.fht360.com/companylist/67-2-1488.html\n",
        "0.60"
       ]
      },
      {
       "output_type": "stream",
       "stream": "stdout",
       "text": [
        " : http://www.fht360.com/companylist/67-3-1487.html\n",
        "0.59"
       ]
      },
      {
       "output_type": "stream",
       "stream": "stdout",
       "text": [
        " : http://www.fht360.com/companylist/37/10524-2.html\n",
        "0.44"
       ]
      },
      {
       "output_type": "stream",
       "stream": "stdout",
       "text": [
        " : http://www.fht360.com/productlist/345/29-2-1487.html\n",
        "0.31"
       ]
      },
      {
       "output_type": "stream",
       "stream": "stdout",
       "text": [
        " : http://www.fht360.com/productlist/348/17632-4.html\n",
        "0.89"
       ]
      },
      {
       "output_type": "stream",
       "stream": "stdout",
       "text": [
        " : http://www.fht360.com/productlist/231-61-39.html\n",
        "0.85"
       ]
      },
      {
       "output_type": "stream",
       "stream": "stdout",
       "text": [
        " : http://www.fht360.com/productlist/250/17931-2.html\n",
        "0.32"
       ]
      },
      {
       "output_type": "stream",
       "stream": "stdout",
       "text": [
        " : http://www.fht360.com/productlist/410/1807-4.html\n",
        "0.31"
       ]
      },
      {
       "output_type": "stream",
       "stream": "stdout",
       "text": [
        " : http://www.fht360.com/productlist/331-2-860.html\n",
        "0.43"
       ]
      },
      {
       "output_type": "stream",
       "stream": "stdout",
       "text": [
        " : http://www.fht360.com/productlist/308-2-1662.html\n",
        "0.47"
       ]
      },
      {
       "output_type": "stream",
       "stream": "stdout",
       "text": [
        " : http://www.fht360.com/companylist/164-4-1553.html\n",
        "0.62"
       ]
      },
      {
       "output_type": "stream",
       "stream": "stdout",
       "text": [
        " : http://www.fht360.com/productlist/333/71-2-880.html\n",
        "0.39"
       ]
      },
      {
       "output_type": "stream",
       "stream": "stdout",
       "text": [
        " : http://www.fht360.com/productlist/337/13447-2-1009.html\n",
        "0.52"
       ]
      },
      {
       "output_type": "stream",
       "stream": "stdout",
       "text": [
        " : http://www.fht360.com/productlist/342-4.html\n",
        "0.29"
       ]
      },
      {
       "output_type": "stream",
       "stream": "stdout",
       "text": [
        " : http://www.fht360.com/productlist/344-5.html\n",
        "0.67"
       ]
      },
      {
       "output_type": "stream",
       "stream": "stdout",
       "text": [
        " : http://www.fht360.com/companylist/40/10320-2.html\n",
        "0.50"
       ]
      },
      {
       "output_type": "stream",
       "stream": "stdout",
       "text": [
        " : http://www.fht360.com/productlist/276/15161-2-860.html\n",
        "0.15"
       ]
      },
      {
       "output_type": "stream",
       "stream": "stdout",
       "text": [
        " : http://www.fht360.com/productlist/349-4.html\n",
        "0.29"
       ]
      },
      {
       "output_type": "stream",
       "stream": "stdout",
       "text": [
        " : http://www.fht360.com/productlist/423-18.html\n",
        "0.49"
       ]
      },
      {
       "output_type": "stream",
       "stream": "stdout",
       "text": [
        " : http://www.fht360.com/companylist/67/10362-2-1487.html\n",
        "0.34"
       ]
      },
      {
       "output_type": "stream",
       "stream": "stdout",
       "text": [
        " : http://www.fht360.com/productlist/226/7409-2.html\n",
        "0.46"
       ]
      },
      {
       "output_type": "stream",
       "stream": "stdout",
       "text": [
        " : http://www.fht360.com/productlist/227-8-1260.html\n",
        "0.55"
       ]
      },
      {
       "output_type": "stream",
       "stream": "stdout",
       "text": [
        " : http://www.fht360.com/companylist/77/8-4.html\n",
        "0.44"
       ]
      },
      {
       "output_type": "stream",
       "stream": "stdout",
       "text": [
        " : http://www.fht360.com/productlist/326-6-860.html\n",
        "0.36"
       ]
      },
      {
       "output_type": "stream",
       "stream": "stdout",
       "text": [
        " : http://www.fht360.com/productlist/433/15236-2-1487.html\n",
        "0.53"
       ]
      },
      {
       "output_type": "stream",
       "stream": "stdout",
       "text": [
        " : http://www.fht360.com/productlist/325-2-39.html\n",
        "0.47"
       ]
      },
      {
       "output_type": "stream",
       "stream": "stdout",
       "text": [
        " : http://www.fht360.com/companylist/164/3-2-499.html\n",
        "0.70"
       ]
      },
      {
       "output_type": "stream",
       "stream": "stdout",
       "text": [
        " : http://www.fht360.com/productlist/324/71-3-860.html\n",
        "0.30"
       ]
      },
      {
       "output_type": "stream",
       "stream": "stdout",
       "text": [
        " : http://www.fht360.com/productlist/324-13-1857.html\n",
        "0.39"
       ]
      },
      {
       "output_type": "stream",
       "stream": "stdout",
       "text": [
        " : http://www.fht360.com/productlist/235/10035-2-2137.html\n",
        "0.26"
       ]
      },
      {
       "output_type": "stream",
       "stream": "stdout",
       "text": [
        " : http://www.fht360.com/productlist/307/10534-2.html\n",
        "0.35"
       ]
      },
      {
       "output_type": "stream",
       "stream": "stdout",
       "text": [
        " : http://www.fht360.com/productlist/270/2132-3.html\n",
        "0.36"
       ]
      },
      {
       "output_type": "stream",
       "stream": "stdout",
       "text": [
        " : http://www.fht360.com/productlist/363/13572-5.html\n",
        "1.09"
       ]
      },
      {
       "output_type": "stream",
       "stream": "stdout",
       "text": [
        " : http://www.fht360.com/productlist/340-36.html\n",
        "0.69"
       ]
      },
      {
       "output_type": "stream",
       "stream": "stdout",
       "text": [
        " : http://www.fht360.com/companylist/137/10207-2.html\n",
        "0.53"
       ]
      },
      {
       "output_type": "stream",
       "stream": "stdout",
       "text": [
        " : http://www.fht360.com/companylist/137/10204-2.html\n",
        "0.61"
       ]
      },
      {
       "output_type": "stream",
       "stream": "stdout",
       "text": [
        " : http://www.fht360.com/companylist/137/10205-2.html\n",
        "1.30"
       ]
      },
      {
       "output_type": "stream",
       "stream": "stdout",
       "text": [
        " : http://www.fht360.com/companylist/137/10203-2.html\n",
        "1.13"
       ]
      },
      {
       "output_type": "stream",
       "stream": "stdout",
       "text": [
        " : http://www.fht360.com/companylist/137/10200-2.html\n",
        "0.53"
       ]
      },
      {
       "output_type": "stream",
       "stream": "stdout",
       "text": [
        " : http://www.fht360.com/companylist/137/10201-2.html\n",
        "0.63"
       ]
      },
      {
       "output_type": "stream",
       "stream": "stdout",
       "text": [
        " : http://www.fht360.com/companylist/50-2-2143.html\n",
        "0.99"
       ]
      },
      {
       "output_type": "stream",
       "stream": "stdout",
       "text": [
        " : http://www.fht360.com/productlist/292/10458-3.html\n",
        "0.98"
       ]
      },
      {
       "output_type": "stream",
       "stream": "stdout",
       "text": [
        " : http://www.fht360.com/productlist/241-46-1487.html\n",
        "0.80"
       ]
      },
      {
       "output_type": "stream",
       "stream": "stdout",
       "text": [
        " : http://www.fht360.com/productlist/351/13536-4.html\n",
        "0.47"
       ]
      },
      {
       "output_type": "stream",
       "stream": "stdout",
       "text": [
        " : http://www.fht360.com/productlist/357/2679-3-1662.html\n",
        "0.47"
       ]
      },
      {
       "output_type": "stream",
       "stream": "stdout",
       "text": [
        " : http://www.fht360.com/companylist/167/3-2-1070.html\n",
        "0.36"
       ]
      },
      {
       "output_type": "stream",
       "stream": "stdout",
       "text": [
        " : http://www.fht360.com/productlist/343/12032-2-2137.html\n",
        "0.27"
       ]
      },
      {
       "output_type": "stream",
       "stream": "stdout",
       "text": [
        " : http://www.fht360.com/productlist/228-14-1487.html\n",
        "0.58"
       ]
      },
      {
       "output_type": "stream",
       "stream": "stdout",
       "text": [
        " : http://www.fht360.com/productlist/248/159-3-39.html\n",
        "0.48"
       ]
      },
      {
       "output_type": "stream",
       "stream": "stdout",
       "text": [
        " : http://www.fht360.com/productlist/346-6.html\n",
        "1.25"
       ]
      },
      {
       "output_type": "stream",
       "stream": "stdout",
       "text": [
        " : http://www.fht360.com/companylist/39-23-2137.html\n",
        "0.58"
       ]
      },
      {
       "output_type": "stream",
       "stream": "stdout",
       "text": [
        " : http://www.fht360.com/companylist/39-2-2138.html\n",
        "4.47"
       ]
      },
      {
       "output_type": "stream",
       "stream": "stdout",
       "text": [
        " : http://www.fht360.com/companylist/49/10642-2-2137.html\n",
        "1.75"
       ]
      },
      {
       "output_type": "stream",
       "stream": "stdout",
       "text": [
        " : http://www.fht360.com/productlist/410-9-2137.html\n",
        "0.48"
       ]
      },
      {
       "output_type": "stream",
       "stream": "stdout",
       "text": [
        " : http://www.fht360.com/companylist/48/3-3-1010.html\n",
        "0.38"
       ]
      },
      {
       "output_type": "stream",
       "stream": "stdout",
       "text": [
        " : http://www.fht360.com/productlist/357/11343-2-1487.html\n",
        "0.34"
       ]
      },
      {
       "output_type": "stream",
       "stream": "stdout",
       "text": [
        " : http://www.fht360.com/productlist/235/18434-4.html\n",
        "0.59"
       ]
      },
      {
       "output_type": "stream",
       "stream": "stdout",
       "text": [
        " : http://www.fht360.com/productlist/293/226-3-1487.html\n",
        "0.38"
       ]
      },
      {
       "output_type": "stream",
       "stream": "stdout",
       "text": [
        " : http://www.fht360.com/productlist/231/471-2-1122.html\n",
        "0.82"
       ]
      },
      {
       "output_type": "stream",
       "stream": "stdout",
       "text": [
        " : http://www.fht360.com/companylist/167/3-3-40.html\n",
        "0.24"
       ]
      },
      {
       "output_type": "stream",
       "stream": "stdout",
       "text": [
        " : http://www.fht360.com/productlist/341/12209-5.html\n",
        "0.47"
       ]
      },
      {
       "output_type": "stream",
       "stream": "stdout",
       "text": [
        " : http://www.fht360.com/companylist/165-2-2190.html\n",
        "0.39"
       ]
      },
      {
       "output_type": "stream",
       "stream": "stdout",
       "text": [
        " : http://www.fht360.com/productlist/263/11994-3-1487.html\n",
        "0.47"
       ]
      },
      {
       "output_type": "stream",
       "stream": "stdout",
       "text": [
        " : http://www.fht360.com/companylist/162/3-3-1010.html\n",
        "0.24"
       ]
      },
      {
       "output_type": "stream",
       "stream": "stdout",
       "text": [
        " : http://www.fht360.com/productlist/359/12332-2.html\n",
        "0.52"
       ]
      },
      {
       "output_type": "stream",
       "stream": "stdout",
       "text": [
        " : http://www.fht360.com/productlist/231/13416-2-2137.html\n",
        "0.25"
       ]
      },
      {
       "output_type": "stream",
       "stream": "stdout",
       "text": [
        " : http://www.fht360.com/productlist/359/12331-3.html\n",
        "0.25"
       ]
      },
      {
       "output_type": "stream",
       "stream": "stdout",
       "text": [
        " : http://www.fht360.com/productlist/227/14260-2.html\n",
        "0.83"
       ]
      },
      {
       "output_type": "stream",
       "stream": "stdout",
       "text": [
        " : http://www.fht360.com/productlist/281-6-2137.html\n",
        "0.56"
       ]
      },
      {
       "output_type": "stream",
       "stream": "stdout",
       "text": [
        " : http://www.fht360.com/productlist/250/14-12-1487.html\n",
        "0.44"
       ]
      },
      {
       "output_type": "stream",
       "stream": "stdout",
       "text": [
        " : http://www.fht360.com/productlist/356/13416-2-1009.html\n",
        "0.48"
       ]
      },
      {
       "output_type": "stream",
       "stream": "stdout",
       "text": [
        " : http://www.fht360.com/companylist/162-2-936.html\n",
        "0.28"
       ]
      },
      {
       "output_type": "stream",
       "stream": "stdout",
       "text": [
        " : http://www.fht360.com/productlist/226/10894-2.html\n",
        "0.43"
       ]
      },
      {
       "output_type": "stream",
       "stream": "stdout",
       "text": [
        " : http://www.fht360.com/productlist/312/7239-10-39.html\n",
        "0.45"
       ]
      },
      {
       "output_type": "stream",
       "stream": "stdout",
       "text": [
        " : http://www.fht360.com/productlist/250/17-2-2137.html\n",
        "0.45"
       ]
      },
      {
       "output_type": "stream",
       "stream": "stdout",
       "text": [
        " : http://www.fht360.com/productlist/250/1242-2-1662.html\n",
        "0.47"
       ]
      },
      {
       "output_type": "stream",
       "stream": "stdout",
       "text": [
        " : http://www.fht360.com/companylist/165/3-2-2147.html\n",
        "0.48"
       ]
      },
      {
       "output_type": "stream",
       "stream": "stdout",
       "text": [
        " : http://www.fht360.com/companylist/165/3-3-2144.html\n",
        "0.50"
       ]
      },
      {
       "output_type": "stream",
       "stream": "stdout",
       "text": [
        " : http://www.fht360.com/companylist/165/3-2-2143.html\n",
        "0.48"
       ]
      },
      {
       "output_type": "stream",
       "stream": "stdout",
       "text": [
        " : http://www.fht360.com/companylist/49-8-1009.html\n",
        "0.50"
       ]
      },
      {
       "output_type": "stream",
       "stream": "stdout",
       "text": [
        " : http://www.fht360.com/productlist/231/16919-3.html\n",
        "0.56"
       ]
      },
      {
       "output_type": "stream",
       "stream": "stdout",
       "text": [
        " : http://www.fht360.com/productlist/261/297-2-880.html\n",
        "1.23"
       ]
      },
      {
       "output_type": "stream",
       "stream": "stdout",
       "text": [
        " : http://www.fht360.com/productlist/247/13305-3.html\n",
        "0.68"
       ]
      },
      {
       "output_type": "stream",
       "stream": "stdout",
       "text": [
        " : http://www.fht360.com/companylist/162/3-11-860.html\n",
        "0.85"
       ]
      },
      {
       "output_type": "stream",
       "stream": "stdout",
       "text": [
        " : http://www.fht360.com/productlist/415-9-880.html\n",
        "0.42"
       ]
      },
      {
       "output_type": "stream",
       "stream": "stdout",
       "text": [
        " : http://www.fht360.com/productlist/228/10810-6.html\n",
        "0.55"
       ]
      },
      {
       "output_type": "stream",
       "stream": "stdout",
       "text": [
        " : http://www.fht360.com/productlist/234/10320-2-2137.html\n",
        "0.47"
       ]
      },
      {
       "output_type": "stream",
       "stream": "stdout",
       "text": [
        " : http://www.fht360.com/companylist/164/3-4-1.html\n",
        "0.75"
       ]
      },
      {
       "output_type": "stream",
       "stream": "stdout",
       "text": [
        " : http://www.fht360.com/companylist/210-2-1662.html\n",
        "0.62"
       ]
      },
      {
       "output_type": "stream",
       "stream": "stdout",
       "text": [
        " : http://www.fht360.com/companylist/52/10924-2.html\n",
        "0.61"
       ]
      },
      {
       "output_type": "stream",
       "stream": "stdout",
       "text": [
        " : http://www.fht360.com/companylist/52/10926-2.html\n",
        "0.26"
       ]
      },
      {
       "output_type": "stream",
       "stream": "stdout",
       "text": [
        " : http://www.fht360.com/productlist/292-6-880.html\n",
        "0.66"
       ]
      },
      {
       "output_type": "stream",
       "stream": "stdout",
       "text": [
        " : http://www.fht360.com/productlist/248/694-2.html\n",
        "0.67"
       ]
      },
      {
       "output_type": "stream",
       "stream": "stdout",
       "text": [
        " : http://www.fht360.com/companylist/37/10318-2.html\n",
        "0.28"
       ]
      },
      {
       "output_type": "stream",
       "stream": "stdout",
       "text": [
        " : http://www.fht360.com/productlist/231/138-2.html\n",
        "0.43"
       ]
      },
      {
       "output_type": "stream",
       "stream": "stdout",
       "text": [
        " : http://www.fht360.com/productlist/231/130-7.html\n",
        "0.31"
       ]
      },
      {
       "output_type": "stream",
       "stream": "stdout",
       "text": [
        " : http://www.fht360.com/productlist/240-4.html\n",
        "0.75"
       ]
      },
      {
       "output_type": "stream",
       "stream": "stdout",
       "text": [
        " : http://www.fht360.com/productlist/241-138.html\n",
        "0.70"
       ]
      },
      {
       "output_type": "stream",
       "stream": "stdout",
       "text": [
        " : http://www.fht360.com/productlist/242-15.html\n",
        "0.52"
       ]
      },
      {
       "output_type": "stream",
       "stream": "stdout",
       "text": [
        " : http://www.fht360.com/companylist/243-5.html\n",
        "0.13"
       ]
      },
      {
       "output_type": "stream",
       "stream": "stdout",
       "text": [
        " : http://www.fht360.com/productlist/244-22.html\n",
        "1.09"
       ]
      },
      {
       "output_type": "stream",
       "stream": "stdout",
       "text": [
        " : http://www.fht360.com/productlist/245-21.html\n",
        "0.95"
       ]
      },
      {
       "output_type": "stream",
       "stream": "stdout",
       "text": [
        " : http://www.fht360.com/productlist/246-186.html\n",
        "0.48"
       ]
      },
      {
       "output_type": "stream",
       "stream": "stdout",
       "text": [
        " : http://www.fht360.com/productlist/247-51.html\n",
        "0.95"
       ]
      },
      {
       "output_type": "stream",
       "stream": "stdout",
       "text": [
        " : http://www.fht360.com/productlist/248-173.html\n",
        "0.68"
       ]
      },
      {
       "output_type": "stream",
       "stream": "stdout",
       "text": [
        " : http://www.fht360.com/companylist/165-11-860.html\n",
        "0.69"
       ]
      },
      {
       "output_type": "stream",
       "stream": "stdout",
       "text": [
        " : http://www.fht360.com/productlist/276-20.html\n",
        "0.13"
       ]
      },
      {
       "output_type": "stream",
       "stream": "stdout",
       "text": [
        " : http://www.fht360.com/productlist/270-29.html\n",
        "0.63"
       ]
      },
      {
       "output_type": "stream",
       "stream": "stdout",
       "text": [
        " : http://www.fht360.com/productlist/262-4-2137.html\n",
        "0.54"
       ]
      },
      {
       "output_type": "stream",
       "stream": "stdout",
       "text": [
        " : http://www.fht360.com/productlist/244/266-2-39.html\n",
        "0.48"
       ]
      },
      {
       "output_type": "stream",
       "stream": "stdout",
       "text": [
        " : http://www.fht360.com/productlist/278-4.html\n",
        "0.46"
       ]
      },
      {
       "output_type": "stream",
       "stream": "stdout",
       "text": [
        " : http://www.fht360.com/productlist/354/12437-2.html\n",
        "0.47"
       ]
      },
      {
       "output_type": "stream",
       "stream": "stdout",
       "text": [
        " : http://www.fht360.com/companylist/162-2-499.html\n",
        "0.48"
       ]
      },
      {
       "output_type": "stream",
       "stream": "stdout",
       "text": [
        " : http://www.fht360.com/companylist/70/10514-2.html\n",
        "0.53"
       ]
      },
      {
       "output_type": "stream",
       "stream": "stdout",
       "text": [
        " : http://www.fht360.com/companylist/58/10309-2.html\n",
        "0.63"
       ]
      },
      {
       "output_type": "stream",
       "stream": "stdout",
       "text": [
        " : http://www.fht360.com/productlist/412/52-2-1487.html\n",
        "0.62"
       ]
      },
      {
       "output_type": "stream",
       "stream": "stdout",
       "text": [
        " : http://www.fht360.com/productlist/336-2-860.html\n",
        "0.63"
       ]
      },
      {
       "output_type": "stream",
       "stream": "stdout",
       "text": [
        " : http://www.fht360.com/productlist/318-3.html\n",
        "0.45"
       ]
      },
      {
       "output_type": "stream",
       "stream": "stdout",
       "text": [
        " : http://www.fht360.com/productlist/235/17243-3.html\n",
        "0.45"
       ]
      },
      {
       "output_type": "stream",
       "stream": "stdout",
       "text": [
        " : http://www.fht360.com/productlist/324/12438-2.html\n",
        "0.48"
       ]
      },
      {
       "output_type": "stream",
       "stream": "stdout",
       "text": [
        " : http://www.fht360.com/productlist/246/12352-3.html\n",
        "0.98"
       ]
      },
      {
       "output_type": "stream",
       "stream": "stdout",
       "text": [
        " : http://www.fht360.com/productlist/231-51-880.html\n",
        "0.91"
       ]
      },
      {
       "output_type": "stream",
       "stream": "stdout",
       "text": [
        " : http://www.fht360.com/productlist/319/8206-2-1662.html\n",
        "0.27"
       ]
      },
      {
       "output_type": "stream",
       "stream": "stdout",
       "text": [
        " : http://www.fht360.com/productlist/367/13617-2.html\n",
        "0.14"
       ]
      },
      {
       "output_type": "stream",
       "stream": "stdout",
       "text": [
        " : http://www.fht360.com/productlist/446/6230-8.html\n",
        "0.64"
       ]
      },
      {
       "output_type": "stream",
       "stream": "stdout",
       "text": [
        " : http://www.fht360.com/newslist/9-23.html\n",
        "0.36"
       ]
      },
      {
       "output_type": "stream",
       "stream": "stdout",
       "text": [
        " : http://www.fht360.com/newslist/5-6.html\n",
        "0.24"
       ]
      },
      {
       "output_type": "stream",
       "stream": "stdout",
       "text": [
        " : http://www.fht360.com/productlist/343/10770-2.html\n",
        "0.31"
       ]
      },
      {
       "output_type": "stream",
       "stream": "stdout",
       "text": [
        " : http://www.fht360.com/productlist/285/15687-4.html\n",
        "0.31"
       ]
      },
      {
       "output_type": "stream",
       "stream": "stdout",
       "text": [
        " : http://www.fht360.com/productlist/424/14848-4.html\n",
        "0.31"
       ]
      },
      {
       "output_type": "stream",
       "stream": "stdout",
       "text": [
        " : http://www.fht360.com/productlist/328/12492-6.html\n",
        "0.08"
       ]
      },
      {
       "output_type": "stream",
       "stream": "stdout",
       "text": [
        " : http://www.fht360.com/productlist/231/772-4.html\n",
        "0.44"
       ]
      },
      {
       "output_type": "stream",
       "stream": "stdout",
       "text": [
        " : http://www.fht360.com/companylist/136/10081-2.html\n",
        "0.49"
       ]
      },
      {
       "output_type": "stream",
       "stream": "stdout",
       "text": [
        " : http://www.fht360.com/productlist/250/15-6-1487.html\n",
        "0.45"
       ]
      },
      {
       "output_type": "stream",
       "stream": "stdout",
       "text": [
        " : http://www.fht360.com/productlist/233/15916-2-2137.html\n",
        "0.55"
       ]
      },
      {
       "output_type": "stream",
       "stream": "stdout",
       "text": [
        " : http://www.fht360.com/productlist/446-9-1662.html\n",
        "0.59"
       ]
      },
      {
       "output_type": "stream",
       "stream": "stdout",
       "text": [
        " : http://www.fht360.com/productlist/424-13-1364.html\n",
        "0.38"
       ]
      },
      {
       "output_type": "stream",
       "stream": "stdout",
       "text": [
        " : http://www.fht360.com/productlist/379/7849-2.html\n",
        "0.33"
       ]
      },
      {
       "output_type": "stream",
       "stream": "stdout",
       "text": [
        " : http://www.fht360.com/productlist/377-3-39.html\n",
        "2.81"
       ]
      },
      {
       "output_type": "stream",
       "stream": "stdout",
       "text": [
        " : http://www.fht360.com/companylist/164-15-2278.html\n",
        "0.47"
       ]
      },
      {
       "output_type": "stream",
       "stream": "stdout",
       "text": [
        " : http://www.fht360.com/companylist/164-2-2279.html\n",
        "0.47"
       ]
      },
      {
       "output_type": "stream",
       "stream": "stdout",
       "text": [
        " : http://www.fht360.com/companylist/164-2-2189.html\n",
        "0.47"
       ]
      },
      {
       "output_type": "stream",
       "stream": "stdout",
       "text": [
        " : http://www.fht360.com/companylist/164-5-2186.html\n",
        "0.37"
       ]
      },
      {
       "output_type": "stream",
       "stream": "stdout",
       "text": [
        " : http://www.fht360.com/productlist/301/11713-3-2137.html\n",
        "0.66"
       ]
      },
      {
       "output_type": "stream",
       "stream": "stdout",
       "text": [
        " : http://www.fht360.com/productlist/231/9-7-880.html\n",
        "1.18"
       ]
      },
      {
       "output_type": "stream",
       "stream": "stdout",
       "text": [
        " : http://www.fht360.com/productlist/334/12421-136.html\n",
        "0.51"
       ]
      },
      {
       "output_type": "stream",
       "stream": "stdout",
       "text": [
        " : http://www.fht360.com/companylist/142-2-1567.html\n",
        "1.00"
       ]
      },
      {
       "output_type": "stream",
       "stream": "stdout",
       "text": [
        " : http://www.fht360.com/productlist/351-2-1122.html\n",
        "0.47"
       ]
      },
      {
       "output_type": "stream",
       "stream": "stdout",
       "text": [
        " : http://www.fht360.com/companylist/164/3-16-39.html\n",
        "0.64"
       ]
      },
      {
       "output_type": "stream",
       "stream": "stdout",
       "text": [
        " : http://www.fht360.com/productlist/335-5-860.html\n",
        "0.33"
       ]
      },
      {
       "output_type": "stream",
       "stream": "stdout",
       "text": [
        " : http://www.fht360.com/productlist/237/864-5.html\n",
        "0.38"
       ]
      },
      {
       "output_type": "stream",
       "stream": "stdout",
       "text": [
        " : http://www.fht360.com/productlist/301/11713-13.html\n",
        "0.33"
       ]
      },
      {
       "output_type": "stream",
       "stream": "stdout",
       "text": [
        " : http://www.fht360.com/productlist/324-4-2437.html\n",
        "3.96"
       ]
      },
      {
       "output_type": "stream",
       "stream": "stdout",
       "text": [
        " : http://www.fht360.com/productlist/260/677-7-880.html\n",
        "0.35"
       ]
      },
      {
       "output_type": "stream",
       "stream": "stdout",
       "text": [
        " : http://www.fht360.com/productlist/249/150-4.html\n",
        "1.51"
       ]
      },
      {
       "output_type": "stream",
       "stream": "stdout",
       "text": [
        " : http://www.fht360.com/companylist/122/64-2-1487.html\n",
        "0.96"
       ]
      },
      {
       "output_type": "stream",
       "stream": "stdout",
       "text": [
        " : http://www.fht360.com/productlist/312/10685-4-1487.html\n",
        "0.56"
       ]
      },
      {
       "output_type": "stream",
       "stream": "stdout",
       "text": [
        " : http://www.fht360.com/companylist/165-3-20.html\n",
        "3.51"
       ]
      },
      {
       "output_type": "stream",
       "stream": "stdout",
       "text": [
        " : http://www.fht360.com/productlist/433-30-2137.html\n",
        "0.47"
       ]
      },
      {
       "output_type": "stream",
       "stream": "stdout",
       "text": [
        " : http://www.fht360.com/companylist/162/3-2-2509.html\n",
        "0.92"
       ]
      },
      {
       "output_type": "stream",
       "stream": "stdout",
       "text": [
        " : http://www.fht360.com/productlist/324-2-1987.html\n",
        "0.83"
       ]
      },
      {
       "output_type": "stream",
       "stream": "stdout",
       "text": [
        " : http://www.fht360.com/productlist/260-53-880.html\n",
        "1.09"
       ]
      },
      {
       "output_type": "stream",
       "stream": "stdout",
       "text": [
        " : http://www.fht360.com/productlist/337/13448-4-2137.html\n",
        "0.90"
       ]
      },
      {
       "output_type": "stream",
       "stream": "stdout",
       "text": [
        " : http://www.fht360.com/productlist/241/456-2-39.html\n",
        "1.48"
       ]
      },
      {
       "output_type": "stream",
       "stream": "stdout",
       "text": [
        " : http://www.fht360.com/productlist/235-31-2137.html\n",
        "0.56"
       ]
      },
      {
       "output_type": "stream",
       "stream": "stdout",
       "text": [
        " : http://www.fht360.com/companylist/72-2-2164.html\n",
        "0.54"
       ]
      },
      {
       "output_type": "stream",
       "stream": "stdout",
       "text": [
        " : http://www.fht360.com/companylist/34/10287-2.html\n",
        "0.38"
       ]
      },
      {
       "output_type": "stream",
       "stream": "stdout",
       "text": [
        " : http://www.fht360.com/productlist/292-9-1487.html\n",
        "0.48"
       ]
      },
      {
       "output_type": "stream",
       "stream": "stdout",
       "text": [
        " : http://www.fht360.com/companylist/162-2-1070.html\n",
        "0.53"
       ]
      },
      {
       "output_type": "stream",
       "stream": "stdout",
       "text": [
        " : http://www.fht360.com/productlist/351/13695-2.html\n",
        "0.93"
       ]
      },
      {
       "output_type": "stream",
       "stream": "stdout",
       "text": [
        " : http://www.fht360.com/productlist/236/17428-13-2137.html\n",
        "0.54"
       ]
      },
      {
       "output_type": "stream",
       "stream": "stdout",
       "text": [
        " : http://www.fht360.com/companylist/162/3-2-1100.html\n",
        "0.48"
       ]
      },
      {
       "output_type": "stream",
       "stream": "stdout",
       "text": [
        " : http://www.fht360.com/companylist/165-3-986.html\n",
        "0.48"
       ]
      },
      {
       "output_type": "stream",
       "stream": "stdout",
       "text": [
        " : http://www.fht360.com/productlist/248/11994-8.html\n",
        "0.58"
       ]
      },
      {
       "output_type": "stream",
       "stream": "stdout",
       "text": [
        " : http://www.fht360.com/companylist/37-3-2169.html\n",
        "0.61"
       ]
      },
      {
       "output_type": "stream",
       "stream": "stdout",
       "text": [
        " : http://www.fht360.com/companylist/37-4-2164.html\n",
        "0.48"
       ]
      },
      {
       "output_type": "stream",
       "stream": "stdout",
       "text": [
        " : http://www.fht360.com/companylist/48/3-45-2137.html\n",
        "0.97"
       ]
      },
      {
       "output_type": "stream",
       "stream": "stdout",
       "text": [
        " : http://www.fht360.com/productlist/334/33-2-1260.html\n",
        "0.48"
       ]
      },
      {
       "output_type": "stream",
       "stream": "stdout",
       "text": [
        " : http://www.fht360.com/companylist/48/3-10-2138.html\n",
        "0.30"
       ]
      },
      {
       "output_type": "stream",
       "stream": "stdout",
       "text": [
        " : http://www.fht360.com/productlist/260/8-7-1487.html\n",
        "1.12"
       ]
      },
      {
       "output_type": "stream",
       "stream": "stdout",
       "text": [
        " : http://www.fht360.com/productlist/293/10425-26.html\n",
        "1.19"
       ]
      },
      {
       "output_type": "stream",
       "stream": "stdout",
       "text": [
        " : http://www.fht360.com/productlist/379-2-39.html\n",
        "2.72"
       ]
      },
      {
       "output_type": "stream",
       "stream": "stdout",
       "text": [
        " : http://www.fht360.com/productlist/424/2-396-2137.html\n",
        "1.14"
       ]
      },
      {
       "output_type": "stream",
       "stream": "stdout",
       "text": [
        " : http://www.fht360.com/productlist/241/507-11-39.html\n",
        "0.52"
       ]
      },
      {
       "output_type": "stream",
       "stream": "stdout",
       "text": [
        " : http://www.fht360.com/productlist/363-3-2137.html\n",
        "0.31"
       ]
      },
      {
       "output_type": "stream",
       "stream": "stdout",
       "text": [
        " : http://www.fht360.com/productlist/325/10528-10.html\n",
        "0.32"
       ]
      },
      {
       "output_type": "stream",
       "stream": "stdout",
       "text": [
        " : http://www.fht360.com/productlist/231/15525-9.html\n",
        "0.31"
       ]
      },
      {
       "output_type": "stream",
       "stream": "stdout",
       "text": [
        " : http://www.fht360.com/productlist/360/13043-4.html\n",
        "1.13"
       ]
      },
      {
       "output_type": "stream",
       "stream": "stdout",
       "text": [
        " : http://www.fht360.com/productlist/246/12329-36.html\n",
        "0.81"
       ]
      },
      {
       "output_type": "stream",
       "stream": "stdout",
       "text": [
        " : http://www.fht360.com/productlist/363-2-880.html\n",
        "1.28"
       ]
      },
      {
       "output_type": "stream",
       "stream": "stdout",
       "text": [
        " : http://www.fht360.com/productlist/247-26-2137.html\n",
        "0.96"
       ]
      },
      {
       "output_type": "stream",
       "stream": "stdout",
       "text": [
        " : http://www.fht360.com/companylist/203/10056-2.html\n",
        "1.34"
       ]
      },
      {
       "output_type": "stream",
       "stream": "stdout",
       "text": [
        " : http://www.fht360.com/productlist/316/8205-2-1662.html\n",
        "0.68"
       ]
      },
      {
       "output_type": "stream",
       "stream": "stdout",
       "text": [
        " : http://www.fht360.com/productlist/231/471-3.html\n",
        "0.61"
       ]
      },
      {
       "output_type": "stream",
       "stream": "stdout",
       "text": [
        " : http://www.fht360.com/productlist/424/14784-4-2137.html\n",
        "0.64"
       ]
      },
      {
       "output_type": "stream",
       "stream": "stdout",
       "text": [
        " : http://www.fht360.com/productlist/328/12492-2-2137.html\n",
        "0.55"
       ]
      },
      {
       "output_type": "stream",
       "stream": "stdout",
       "text": [
        " : http://www.fht360.com/productlist/227/10511-2-20.html\n",
        "0.68"
       ]
      },
      {
       "output_type": "stream",
       "stream": "stdout",
       "text": [
        " : http://www.fht360.com/productlist/226/11590-2-860.html\n",
        "0.97"
       ]
      },
      {
       "output_type": "stream",
       "stream": "stdout",
       "text": [
        " : http://www.fht360.com/productlist/238-4-880.html\n",
        "0.61"
       ]
      },
      {
       "output_type": "stream",
       "stream": "stdout",
       "text": [
        " : http://www.fht360.com/productlist/415/98-4-39.html\n",
        "0.59"
       ]
      },
      {
       "output_type": "stream",
       "stream": "stdout",
       "text": [
        " : http://www.fht360.com/productlist/301/11713-3-860.html\n",
        "0.56"
       ]
      },
      {
       "output_type": "stream",
       "stream": "stdout",
       "text": [
        " : http://www.fht360.com/productlist/241/359-2-1122.html\n",
        "0.56"
       ]
      },
      {
       "output_type": "stream",
       "stream": "stdout",
       "text": [
        " : http://www.fht360.com/newslist/10-5.html\n",
        "0.27"
       ]
      },
      {
       "output_type": "stream",
       "stream": "stdout",
       "text": [
        " : http://www.fht360.com/productlist/280-11-2137.html\n",
        "0.63"
       ]
      },
      {
       "output_type": "stream",
       "stream": "stdout",
       "text": [
        " : http://www.fht360.com/productlist/433/15236-2-39.html\n",
        "0.47"
       ]
      },
      {
       "output_type": "stream",
       "stream": "stdout",
       "text": [
        " : http://www.fht360.com/companylist/167/3-3-896.html\n",
        "0.48"
       ]
      },
      {
       "output_type": "stream",
       "stream": "stdout",
       "text": [
        " : http://www.fht360.com/productlist/241/16034-2.html\n",
        "0.45"
       ]
      },
      {
       "output_type": "stream",
       "stream": "stdout",
       "text": [
        " : http://www.fht360.com/companylist/132/10310-2-2137.html\n",
        "0.48"
       ]
      },
      {
       "output_type": "stream",
       "stream": "stdout",
       "text": [
        " : http://www.fht360.com/companylist/48-3-986.html\n",
        "0.53"
       ]
      },
      {
       "output_type": "stream",
       "stream": "stdout",
       "text": [
        " : http://www.fht360.com/productlist/228/12065-5.html\n",
        "0.87"
       ]
      },
      {
       "output_type": "stream",
       "stream": "stdout",
       "text": [
        " : http://www.fht360.com/productlist/324/12421-3-1857.html\n",
        "0.74"
       ]
      },
      {
       "output_type": "stream",
       "stream": "stdout",
       "text": [
        " : http://www.fht360.com/productlist/312/7239-18-1487.html\n",
        "0.65"
       ]
      },
      {
       "output_type": "stream",
       "stream": "stdout",
       "text": [
        " : http://www.fht360.com/productlist/278/17643-2.html\n",
        "0.75"
       ]
      },
      {
       "output_type": "stream",
       "stream": "stdout",
       "text": [
        " : http://www.fht360.com/productlist/235-2-1364.html\n",
        "1.24"
       ]
      },
      {
       "output_type": "stream",
       "stream": "stdout",
       "text": [
        " : http://www.fht360.com/productlist/387-6-2137.html\n",
        "0.83"
       ]
      },
      {
       "output_type": "stream",
       "stream": "stdout",
       "text": [
        " : http://www.fht360.com/companylist/165/3-3-1010.html\n",
        "0.33"
       ]
      },
      {
       "output_type": "stream",
       "stream": "stdout",
       "text": [
        " : http://www.fht360.com/productlist/239-9-860.html\n",
        "0.49"
       ]
      },
      {
       "output_type": "stream",
       "stream": "stdout",
       "text": [
        " : http://www.fht360.com/companylist/162-3-228.html\n",
        "0.48"
       ]
      },
      {
       "output_type": "stream",
       "stream": "stdout",
       "text": [
        " : http://www.fht360.com/companylist/162-2-223.html\n",
        "0.48"
       ]
      },
      {
       "output_type": "stream",
       "stream": "stdout",
       "text": [
        " : http://www.fht360.com/companylist/162-6-221.html\n",
        "0.53"
       ]
      },
      {
       "output_type": "stream",
       "stream": "stdout",
       "text": [
        " : http://www.fht360.com/companylist/52-16-2137.html\n",
        "0.50"
       ]
      },
      {
       "output_type": "stream",
       "stream": "stdout",
       "text": [
        " : http://www.fht360.com/productlist/239/7984-4.html\n",
        "0.51"
       ]
      },
      {
       "output_type": "stream",
       "stream": "stdout",
       "text": [
        " : http://www.fht360.com/productlist/283/17287-4.html\n",
        "0.49"
       ]
      },
      {
       "output_type": "stream",
       "stream": "stdout",
       "text": [
        " : http://www.fht360.com/companylist/34-2-191.html\n",
        "0.54"
       ]
      },
      {
       "output_type": "stream",
       "stream": "stdout",
       "text": [
        " : http://www.fht360.com/productlist/233/8-44.html\n",
        "0.70"
       ]
      },
      {
       "output_type": "stream",
       "stream": "stdout",
       "text": [
        " : http://www.fht360.com/productlist/324/11483-10-2137.html\n",
        "0.66"
       ]
      },
      {
       "output_type": "stream",
       "stream": "stdout",
       "text": [
        " : http://www.fht360.com/productlist/235/18434-2-2137.html\n",
        "0.47"
       ]
      },
      {
       "output_type": "stream",
       "stream": "stdout",
       "text": [
        " : http://www.fht360.com/companylist/162-4-1.html\n",
        "0.62"
       ]
      },
      {
       "output_type": "stream",
       "stream": "stdout",
       "text": [
        " : http://www.fht360.com/productlist/310/10931-3-2137.html\n",
        "0.57"
       ]
      },
      {
       "output_type": "stream",
       "stream": "stdout",
       "text": [
        " : http://www.fht360.com/productlist/386/14553-2-2137.html\n",
        "5.04"
       ]
      },
      {
       "output_type": "stream",
       "stream": "stdout",
       "text": [
        " : http://www.fht360.com/productlist/241/488-3-1122.html\n",
        "1.21"
       ]
      },
      {
       "output_type": "stream",
       "stream": "stdout",
       "text": [
        " : http://www.fht360.com/productlist/235/3588-4.html\n",
        "0.63"
       ]
      },
      {
       "output_type": "stream",
       "stream": "stdout",
       "text": [
        " : http://www.fht360.com/productlist/431-5-1487.html\n",
        "0.46"
       ]
      },
      {
       "output_type": "stream",
       "stream": "stdout",
       "text": [
        " : http://www.fht360.com/productlist/241/523-2.html\n",
        "1.46"
       ]
      },
      {
       "output_type": "stream",
       "stream": "stdout",
       "text": [
        " : http://www.fht360.com/companylist/83/8-4.html\n",
        "0.51"
       ]
      },
      {
       "output_type": "stream",
       "stream": "stdout",
       "text": [
        " : http://www.fht360.com/productlist/434/4901-2.html\n",
        "0.68"
       ]
      },
      {
       "output_type": "stream",
       "stream": "stdout",
       "text": [
        " : http://www.fht360.com/productlist/357/2679-2-2137.html\n",
        "0.73"
       ]
      },
      {
       "output_type": "stream",
       "stream": "stdout",
       "text": [
        " : http://www.fht360.com/productlist/328/12422-2-1009.html\n",
        "0.47"
       ]
      },
      {
       "output_type": "stream",
       "stream": "stdout",
       "text": [
        " : http://www.fht360.com/companylist/165-2-1025.html\n",
        "1.60"
       ]
      },
      {
       "output_type": "stream",
       "stream": "stdout",
       "text": [
        " : http://www.fht360.com/productlist/375-17-1487.html\n",
        "0.64"
       ]
      },
      {
       "output_type": "stream",
       "stream": "stdout",
       "text": [
        " : http://www.fht360.com/productlist/286-2-1662.html\n",
        "0.50"
       ]
      },
      {
       "output_type": "stream",
       "stream": "stdout",
       "text": [
        " : http://www.fht360.com/companylist/44/10783-2.html\n",
        "0.48"
       ]
      },
      {
       "output_type": "stream",
       "stream": "stdout",
       "text": [
        " : http://www.fht360.com/companylist/38-2-191.html\n",
        "0.54"
       ]
      },
      {
       "output_type": "stream",
       "stream": "stdout",
       "text": [
        " : http://www.fht360.com/productlist/260/616-3-1487.html\n",
        "0.45"
       ]
      },
      {
       "output_type": "stream",
       "stream": "stdout",
       "text": [
        " : http://www.fht360.com/productlist/227/12328-2.html\n",
        "0.51"
       ]
      },
      {
       "output_type": "stream",
       "stream": "stdout",
       "text": [
        " : http://www.fht360.com/newslist/14-2.html\n",
        "0.58"
       ]
      },
      {
       "output_type": "stream",
       "stream": "stdout",
       "text": [
        " : http://www.fht360.com/productlist/248/723-8.html\n",
        "0.34"
       ]
      },
      {
       "output_type": "stream",
       "stream": "stdout",
       "text": [
        " : http://www.fht360.com/newslist/17-4.html\n",
        "0.70"
       ]
      },
      {
       "output_type": "stream",
       "stream": "stdout",
       "text": [
        " : http://www.fht360.com/productlist/385-2-1987.html\n",
        "1.16"
       ]
      },
      {
       "output_type": "stream",
       "stream": "stdout",
       "text": [
        " : http://www.fht360.com/productlist/291/10438-3.html\n",
        "1.14"
       ]
      },
      {
       "output_type": "stream",
       "stream": "stdout",
       "text": [
        " : http://www.fht360.com/productlist/233/16758-3.html\n",
        "0.64"
       ]
      },
      {
       "output_type": "stream",
       "stream": "stdout",
       "text": [
        " : http://www.fht360.com/productlist/312-31-1487.html\n",
        "0.74"
       ]
      },
      {
       "output_type": "stream",
       "stream": "stdout",
       "text": [
        " : http://www.fht360.com/productlist/343/29-2-1662.html\n",
        "0.64"
       ]
      },
      {
       "output_type": "stream",
       "stream": "stdout",
       "text": [
        " : http://www.fht360.com/productlist/233/258-2-1122.html\n",
        "0.62"
       ]
      },
      {
       "output_type": "stream",
       "stream": "stdout",
       "text": [
        " : http://www.fht360.com/productlist/430/14793-2-2137.html\n",
        "0.64"
       ]
      },
      {
       "output_type": "stream",
       "stream": "stdout",
       "text": [
        " : http://www.fht360.com/productlist/359/12329-2-1487.html\n",
        "0.82"
       ]
      },
      {
       "output_type": "stream",
       "stream": "stdout",
       "text": [
        " : http://www.fht360.com/productlist/444-2-39.html\n",
        "0.69"
       ]
      },
      {
       "output_type": "stream",
       "stream": "stdout",
       "text": [
        " : http://www.fht360.com/companylist/47-2-2278.html\n",
        "1.06"
       ]
      },
      {
       "output_type": "stream",
       "stream": "stdout",
       "text": [
        " : http://www.fht360.com/productlist/424/2-10-1987.html\n",
        "0.14"
       ]
      },
      {
       "output_type": "stream",
       "stream": "stdout",
       "text": [
        " : http://www.fht360.com/productlist/261/288-18.html\n",
        "0.58"
       ]
      },
      {
       "output_type": "stream",
       "stream": "stdout",
       "text": [
        " : http://www.fht360.com/companylist/155/10306-2.html\n",
        "0.51"
       ]
      },
      {
       "output_type": "stream",
       "stream": "stdout",
       "text": [
        " : http://www.fht360.com/companylist/70-3-2137.html\n",
        "0.48"
       ]
      },
      {
       "output_type": "stream",
       "stream": "stdout",
       "text": [
        " : http://www.fht360.com/productlist/226/11590-12.html\n",
        "0.13"
       ]
      },
      {
       "output_type": "stream",
       "stream": "stdout",
       "text": [
        " : http://www.fht360.com/productlist/411-5.html\n",
        "0.64"
       ]
      },
      {
       "output_type": "stream",
       "stream": "stdout",
       "text": [
        " : http://www.fht360.com/productlist/324/12422-2-1009.html\n",
        "1.02"
       ]
      },
      {
       "output_type": "stream",
       "stream": "stdout",
       "text": [
        " : http://www.fht360.com/productlist/307/11590-12.html\n",
        "1.00"
       ]
      },
      {
       "output_type": "stream",
       "stream": "stdout",
       "text": [
        " : http://www.fht360.com/companylist/48/3-2-132.html\n",
        "0.66"
       ]
      },
      {
       "output_type": "stream",
       "stream": "stdout",
       "text": [
        " : http://www.fht360.com/productlist/352/13794-5-2137.html\n",
        "0.91"
       ]
      },
      {
       "output_type": "stream",
       "stream": "stdout",
       "text": [
        " : http://www.fht360.com/productlist/317-6-1487.html\n",
        "0.55"
       ]
      },
      {
       "output_type": "stream",
       "stream": "stdout",
       "text": [
        " : http://www.fht360.com/productlist/235/17243-2-2137.html\n",
        "0.60"
       ]
      },
      {
       "output_type": "stream",
       "stream": "stdout",
       "text": [
        " : http://www.fht360.com/productlist/358-2-860.html\n",
        "0.63"
       ]
      },
      {
       "output_type": "stream",
       "stream": "stdout",
       "text": [
        " : http://www.fht360.com/productlist/234/303-3-1662.html\n",
        "0.32"
       ]
      },
      {
       "output_type": "stream",
       "stream": "stdout",
       "text": [
        " : http://www.fht360.com/productlist/236-10-880.html\n",
        "0.62"
       ]
      },
      {
       "output_type": "stream",
       "stream": "stdout",
       "text": [
        " : http://www.fht360.com/productlist/286-3-880.html\n",
        "0.62"
       ]
      },
      {
       "output_type": "stream",
       "stream": "stdout",
       "text": [
        " : http://www.fht360.com/productlist/326/7813-2-39.html\n",
        "0.77"
       ]
      },
      {
       "output_type": "stream",
       "stream": "stdout",
       "text": [
        " : http://www.fht360.com/productlist/351/13508-3-2137.html\n",
        "0.61"
       ]
      },
      {
       "output_type": "stream",
       "stream": "stdout",
       "text": [
        " : http://www.fht360.com/productlist/338-4-860.html\n",
        "0.47"
       ]
      },
      {
       "output_type": "stream",
       "stream": "stdout",
       "text": [
        " : http://www.fht360.com/companylist/164/3-2-1858.html\n",
        "0.48"
       ]
      },
      {
       "output_type": "stream",
       "stream": "stdout",
       "text": [
        " : http://www.fht360.com/companylist/164/3-3-1857.html\n",
        "0.58"
       ]
      },
      {
       "output_type": "stream",
       "stream": "stdout",
       "text": [
        " : http://www.fht360.com/productlist/283/94-8-1487.html\n",
        "0.48"
       ]
      },
      {
       "output_type": "stream",
       "stream": "stdout",
       "text": [
        " : http://www.fht360.com/companylist/48-2-209.html\n",
        "0.66"
       ]
      },
      {
       "output_type": "stream",
       "stream": "stdout",
       "text": [
        " : http://www.fht360.com/productlist/337/12140-4-2137.html\n",
        "0.52"
       ]
      },
      {
       "output_type": "stream",
       "stream": "stdout",
       "text": [
        " : http://www.fht360.com/productlist/412-25.html\n",
        "1.04"
       ]
      },
      {
       "output_type": "stream",
       "stream": "stdout",
       "text": [
        " : http://www.fht360.com/productlist/235/12299-2.html\n",
        "0.75"
       ]
      },
      {
       "output_type": "stream",
       "stream": "stdout",
       "text": [
        " : http://www.fht360.com/companylist/39/10534-2.html\n",
        "0.66"
       ]
      },
      {
       "output_type": "stream",
       "stream": "stdout",
       "text": [
        " : http://www.fht360.com/productlist/337/8441-2.html\n",
        "0.66"
       ]
      },
      {
       "output_type": "stream",
       "stream": "stdout",
       "text": [
        " : http://www.fht360.com/productlist/365-2-2137.html\n",
        "0.61"
       ]
      },
      {
       "output_type": "stream",
       "stream": "stdout",
       "text": [
        " : http://www.fht360.com/productlist/356/13341-2-1009.html\n",
        "0.65"
       ]
      },
      {
       "output_type": "stream",
       "stream": "stdout",
       "text": [
        " : http://www.fht360.com/productlist/231/15883-8-2137.html\n",
        "0.45"
       ]
      },
      {
       "output_type": "stream",
       "stream": "stdout",
       "text": [
        " : http://www.fht360.com/companylist/180/10814-2.html\n",
        "0.59"
       ]
      },
      {
       "output_type": "stream",
       "stream": "stdout",
       "text": [
        " : http://www.fht360.com/companylist/242-3-2164.html\n",
        "0.51"
       ]
      },
      {
       "output_type": "stream",
       "stream": "stdout",
       "text": [
        " : http://www.fht360.com/productlist/235/16408-4.html\n",
        "0.49"
       ]
      },
      {
       "output_type": "stream",
       "stream": "stdout",
       "text": [
        " : http://www.fht360.com/productlist/367/13508-3.html\n",
        "0.43"
       ]
      },
      {
       "output_type": "stream",
       "stream": "stdout",
       "text": [
        " : http://www.fht360.com/productlist/281/16193-8.html\n",
        "0.62"
       ]
      },
      {
       "output_type": "stream",
       "stream": "stdout",
       "text": [
        " : http://www.fht360.com/productlist/331/10003-4-39.html\n",
        "0.60"
       ]
      },
      {
       "output_type": "stream",
       "stream": "stdout",
       "text": [
        " : http://www.fht360.com/productlist/307-3-860.html\n",
        "0.63"
       ]
      },
      {
       "output_type": "stream",
       "stream": "stdout",
       "text": [
        " : http://www.fht360.com/productlist/328-4-1487.html\n",
        "0.76"
       ]
      },
      {
       "output_type": "stream",
       "stream": "stdout",
       "text": [
        " : http://www.fht360.com/companylist/167-4-1.html\n",
        "0.93"
       ]
      },
      {
       "output_type": "stream",
       "stream": "stdout",
       "text": [
        " : http://www.fht360.com/productlist/324/11483-2-860.html\n",
        "0.54"
       ]
      },
      {
       "output_type": "stream",
       "stream": "stdout",
       "text": [
        " : http://www.fht360.com/companylist/162/3-4-2170.html\n",
        "0.96"
       ]
      },
      {
       "output_type": "stream",
       "stream": "stdout",
       "text": [
        " : http://www.fht360.com/productlist/248-2-1987.html\n",
        "0.99"
       ]
      },
      {
       "output_type": "stream",
       "stream": "stdout",
       "text": [
        " : http://www.fht360.com/productlist/424/2-10-2299.html\n",
        "0.93"
       ]
      },
      {
       "output_type": "stream",
       "stream": "stdout",
       "text": [
        " : http://www.fht360.com/productlist/264-18-1487.html\n",
        "0.90"
       ]
      },
      {
       "output_type": "stream",
       "stream": "stdout",
       "text": [
        " : http://www.fht360.com/productlist/357/2679-5-1122.html\n",
        "0.78"
       ]
      },
      {
       "output_type": "stream",
       "stream": "stdout",
       "text": [
        " : http://www.fht360.com/productlist/250/1267-2.html\n",
        "0.47"
       ]
      },
      {
       "output_type": "stream",
       "stream": "stdout",
       "text": [
        " : http://www.fht360.com/productlist/279/17243-3.html\n",
        "0.54"
       ]
      },
      {
       "output_type": "stream",
       "stream": "stdout",
       "text": [
        " : http://www.fht360.com/productlist/351/13034-2.html\n",
        "0.56"
       ]
      },
      {
       "output_type": "stream",
       "stream": "stdout",
       "text": [
        " : http://www.fht360.com/companylist/237/10835-2-2137.html\n",
        "0.67"
       ]
      },
      {
       "output_type": "stream",
       "stream": "stdout",
       "text": [
        " : http://www.fht360.com/productlist/253/16957-2-2137.html\n",
        "0.51"
       ]
      },
      {
       "output_type": "stream",
       "stream": "stdout",
       "text": [
        " : http://www.fht360.com/companylist/100/89-2.html\n",
        "0.69"
       ]
      },
      {
       "output_type": "stream",
       "stream": "stdout",
       "text": [
        " : http://www.fht360.com/productlist/283/17108-2-39.html\n",
        "0.63"
       ]
      },
      {
       "output_type": "stream",
       "stream": "stdout",
       "text": [
        " : http://www.fht360.com/companylist/49/10627-2.html\n",
        "0.87"
       ]
      },
      {
       "output_type": "stream",
       "stream": "stdout",
       "text": [
        " : http://www.fht360.com/companylist/49/10625-2.html\n",
        "4.46"
       ]
      },
      {
       "output_type": "stream",
       "stream": "stdout",
       "text": [
        " : http://www.fht360.com/companylist/49/10623-2.html\n",
        "0.48"
       ]
      },
      {
       "output_type": "stream",
       "stream": "stdout",
       "text": [
        " : http://www.fht360.com/companylist/49/10622-2.html\n",
        "0.48"
       ]
      },
      {
       "output_type": "stream",
       "stream": "stdout",
       "text": [
        " : http://www.fht360.com/companylist/49/10621-2.html\n",
        "1.45"
       ]
      },
      {
       "output_type": "stream",
       "stream": "stdout",
       "text": [
        " : http://www.fht360.com/productlist/324-4-20.html\n",
        "0.49"
       ]
      },
      {
       "output_type": "stream",
       "stream": "stdout",
       "text": [
        " : http://www.fht360.com/companylist/168/10505-2.html\n",
        "0.48"
       ]
      },
      {
       "output_type": "stream",
       "stream": "stdout",
       "text": [
        " : http://www.fht360.com/companylist/165-3-1619.html\n",
        "0.50"
       ]
      },
      {
       "output_type": "stream",
       "stream": "stdout",
       "text": [
        " : http://www.fht360.com/companylist/165/3-16-39.html\n",
        "1.00"
       ]
      },
      {
       "output_type": "stream",
       "stream": "stdout",
       "text": [
        " : http://www.fht360.com/productlist/239-76-1487.html\n",
        "0.93"
       ]
      },
      {
       "output_type": "stream",
       "stream": "stdout",
       "text": [
        " : http://www.fht360.com/productlist/415/98-2-1487.html\n",
        "0.50"
       ]
      },
      {
       "output_type": "stream",
       "stream": "stdout",
       "text": [
        " : http://www.fht360.com/companylist/164-24-1487.html\n",
        "0.52"
       ]
      },
      {
       "output_type": "stream",
       "stream": "stdout",
       "text": [
        " : http://www.fht360.com/companylist/164-3-1488.html\n",
        "1.26"
       ]
      },
      {
       "output_type": "stream",
       "stream": "stdout",
       "text": [
        " : http://www.fht360.com/productlist/352-25-2137.html\n",
        "0.44"
       ]
      },
      {
       "output_type": "stream",
       "stream": "stdout",
       "text": [
        " : http://www.fht360.com/productlist/357/2679-9.html\n",
        "0.55"
       ]
      },
      {
       "output_type": "stream",
       "stream": "stdout",
       "text": [
        " : http://www.fht360.com/productlist/266-2-39.html\n",
        "0.29"
       ]
      },
      {
       "output_type": "stream",
       "stream": "stdout",
       "text": [
        " : http://www.fht360.com/productlist/241/453-4.html\n",
        "0.72"
       ]
      },
      {
       "output_type": "stream",
       "stream": "stdout",
       "text": [
        " : http://www.fht360.com/productlist/343-46.html\n",
        "0.53"
       ]
      },
      {
       "output_type": "stream",
       "stream": "stdout",
       "text": [
        " : http://www.fht360.com/newslist/15-4.html\n",
        "0.34"
       ]
      },
      {
       "output_type": "stream",
       "stream": "stdout",
       "text": [
        " : http://www.fht360.com/newslist/11-3.html\n",
        "0.36"
       ]
      },
      {
       "output_type": "stream",
       "stream": "stdout",
       "text": [
        " : http://www.fht360.com/newslist/13-4.html\n",
        "0.34"
       ]
      },
      {
       "output_type": "stream",
       "stream": "stdout",
       "text": [
        " : http://www.fht360.com/newslist/18-7.html\n",
        "0.33"
       ]
      },
      {
       "output_type": "stream",
       "stream": "stdout",
       "text": [
        " : http://www.fht360.com/newslist/19-5.html\n",
        "0.89"
       ]
      },
      {
       "output_type": "stream",
       "stream": "stdout",
       "text": [
        " : http://www.fht360.com/productlist/377-5-1122.html\n",
        "2.05"
       ]
      },
      {
       "output_type": "stream",
       "stream": "stdout",
       "text": [
        " : http://www.fht360.com/productlist/424/2-31-1260.html\n",
        "0.48"
       ]
      },
      {
       "output_type": "stream",
       "stream": "stdout",
       "text": [
        " : http://www.fht360.com/companylist/165/3-4-1260.html\n",
        "0.87"
       ]
      },
      {
       "output_type": "stream",
       "stream": "stdout",
       "text": [
        " : http://www.fht360.com/productlist/235/10266-2.html\n",
        "0.46"
       ]
      },
      {
       "output_type": "stream",
       "stream": "stdout",
       "text": [
        " : http://www.fht360.com/productlist/246/13480-2-1009.html\n",
        "0.28"
       ]
      },
      {
       "output_type": "stream",
       "stream": "stdout",
       "text": [
        " : http://www.fht360.com/productlist/433/14673-2.html\n",
        "0.96"
       ]
      },
      {
       "output_type": "stream",
       "stream": "stdout",
       "text": [
        " : http://www.fht360.com/productlist/301-8-860.html\n",
        "1.36"
       ]
      },
      {
       "output_type": "stream",
       "stream": "stdout",
       "text": [
        " : http://www.fht360.com/productlist/341/10204-3-2137.html\n",
        "1.19"
       ]
      },
      {
       "output_type": "stream",
       "stream": "stdout",
       "text": [
        " : http://www.fht360.com/productlist/231/348-3-1487.html\n",
        "0.60"
       ]
      },
      {
       "output_type": "stream",
       "stream": "stdout",
       "text": [
        " : http://www.fht360.com/companylist/167-2-881.html\n",
        "0.48"
       ]
      },
      {
       "output_type": "stream",
       "stream": "stdout",
       "text": [
        " : http://www.fht360.com/companylist/167-22-880.html\n",
        "0.87"
       ]
      },
      {
       "output_type": "stream",
       "stream": "stdout",
       "text": [
        " : http://www.fht360.com/productlist/227/12171-3-2137.html\n",
        "1.18"
       ]
      },
      {
       "output_type": "stream",
       "stream": "stdout",
       "text": [
        " : http://www.fht360.com/companylist/47/10639-2.html\n",
        "0.41"
       ]
      },
      {
       "output_type": "stream",
       "stream": "stdout",
       "text": [
        " : http://www.fht360.com/productlist/264/37-2.html\n",
        "0.54"
       ]
      },
      {
       "output_type": "stream",
       "stream": "stdout",
       "text": [
        " : http://www.fht360.com/companylist/164/3-3-1619.html\n",
        "0.49"
       ]
      },
      {
       "output_type": "stream",
       "stream": "stdout",
       "text": [
        " : http://www.fht360.com/companylist/48-2-1025.html\n",
        "0.13"
       ]
      },
      {
       "output_type": "stream",
       "stream": "stdout",
       "text": [
        " : http://www.fht360.com/productlist/347-5.html\n",
        "0.41"
       ]
      },
      {
       "output_type": "stream",
       "stream": "stdout",
       "text": [
        " : http://www.fht360.com/productlist/246/12198-16.html\n",
        "0.24"
       ]
      },
      {
       "output_type": "stream",
       "stream": "stdout",
       "text": [
        " : http://www.fht360.com/productlist/246/14830-2.html\n",
        "0.36"
       ]
      },
      {
       "output_type": "stream",
       "stream": "stdout",
       "text": [
        " : http://www.fht360.com/productlist/246/13451-3-1009.html\n",
        "0.59"
       ]
      },
      {
       "output_type": "stream",
       "stream": "stdout",
       "text": [
        " : http://www.fht360.com/productlist/298-2-860.html\n",
        "0.25"
       ]
      },
      {
       "output_type": "stream",
       "stream": "stdout",
       "text": [
        " : http://www.fht360.com/productlist/233/16715-3.html\n",
        "0.96"
       ]
      },
      {
       "output_type": "stream",
       "stream": "stdout",
       "text": [
        " : http://www.fht360.com/productlist/233-44-1487.html\n",
        "0.90"
       ]
      },
      {
       "output_type": "stream",
       "stream": "stdout",
       "text": [
        " : http://www.fht360.com/productlist/264/187-2-1487.html\n",
        "0.53"
       ]
      },
      {
       "output_type": "stream",
       "stream": "stdout",
       "text": [
        " : http://www.fht360.com/companylist/206/10060-2.html\n",
        "0.26"
       ]
      },
      {
       "output_type": "stream",
       "stream": "stdout",
       "text": [
        " : http://www.fht360.com/productlist/351/13614-8.html\n",
        "0.34"
       ]
      },
      {
       "output_type": "stream",
       "stream": "stdout",
       "text": [
        " : http://www.fht360.com/productlist/274/2022-2.html\n",
        "0.26"
       ]
      },
      {
       "output_type": "stream",
       "stream": "stdout",
       "text": [
        " : http://www.fht360.com/productlist/274/2023-3.html\n",
        "0.47"
       ]
      },
      {
       "output_type": "stream",
       "stream": "stdout",
       "text": [
        " : http://www.fht360.com/productlist/352/10970-2-2137.html\n",
        "0.32"
       ]
      },
      {
       "output_type": "stream",
       "stream": "stdout",
       "text": [
        " : http://www.fht360.com/productlist/242-4-1662.html\n",
        "0.52"
       ]
      },
      {
       "output_type": "stream",
       "stream": "stdout",
       "text": [
        " : http://www.fht360.com/productlist/231/683-2-880.html\n",
        "0.26"
       ]
      },
      {
       "output_type": "stream",
       "stream": "stdout",
       "text": [
        " : http://www.fht360.com/productlist/304/11333-8.html\n",
        "0.50"
       ]
      },
      {
       "output_type": "stream",
       "stream": "stdout",
       "text": [
        " : http://www.fht360.com/companylist/194/10015-2.html\n",
        "0.55"
       ]
      },
      {
       "output_type": "stream",
       "stream": "stdout",
       "text": [
        " : http://www.fht360.com/companylist/194/10010-2.html\n",
        "0.27"
       ]
      },
      {
       "output_type": "stream",
       "stream": "stdout",
       "text": [
        " : http://www.fht360.com/productlist/254-14-880.html\n",
        "0.25"
       ]
      },
      {
       "output_type": "stream",
       "stream": "stdout",
       "text": [
        " : http://www.fht360.com/productlist/246/13450-2.html\n",
        "0.25"
       ]
      },
      {
       "output_type": "stream",
       "stream": "stdout",
       "text": [
        " : http://www.fht360.com/productlist/246/13454-2.html\n",
        "0.25"
       ]
      },
      {
       "output_type": "stream",
       "stream": "stdout",
       "text": [
        " : http://www.fht360.com/productlist/308/10901-2.html\n",
        "0.45"
       ]
      },
      {
       "output_type": "stream",
       "stream": "stdout",
       "text": [
        " : http://www.fht360.com/productlist/331-2-1.html\n",
        "0.46"
       ]
      },
      {
       "output_type": "stream",
       "stream": "stdout",
       "text": [
        " : http://www.fht360.com/productlist/268-2-880.html\n",
        "0.36"
       ]
      },
      {
       "output_type": "stream",
       "stream": "stdout",
       "text": [
        " : http://www.fht360.com/productlist/238/132-2-1487.html\n",
        "0.52"
       ]
      },
      {
       "output_type": "stream",
       "stream": "stdout",
       "text": [
        " : http://www.fht360.com/companylist/246/10811-2.html\n",
        "0.52"
       ]
      },
      {
       "output_type": "stream",
       "stream": "stdout",
       "text": [
        " : http://www.fht360.com/productlist/347-2-1487.html\n",
        "0.33"
       ]
      },
      {
       "output_type": "stream",
       "stream": "stdout",
       "text": [
        " : http://www.fht360.com/productlist/242-2-880.html\n",
        "0.40"
       ]
      },
      {
       "output_type": "stream",
       "stream": "stdout",
       "text": [
        " : http://www.fht360.com/productlist/236/16193-8.html\n",
        "0.39"
       ]
      },
      {
       "output_type": "stream",
       "stream": "stdout",
       "text": [
        " : http://www.fht360.com/productlist/424/14862-9.html\n",
        "1.36"
       ]
      },
      {
       "output_type": "stream",
       "stream": "stdout",
       "text": [
        " : http://www.fht360.com/productlist/231/168-3-1487.html\n",
        "0.26"
       ]
      },
      {
       "output_type": "stream",
       "stream": "stdout",
       "text": [
        " : http://www.fht360.com/productlist/231/16134-7-1487.html\n",
        "0.48"
       ]
      },
      {
       "output_type": "stream",
       "stream": "stdout",
       "text": [
        " : http://www.fht360.com/companylist/167-2-1051.html\n",
        "0.53"
       ]
      },
      {
       "output_type": "stream",
       "stream": "stdout",
       "text": [
        " : http://www.fht360.com/companylist/61/10306-2.html\n",
        "1.25"
       ]
      },
      {
       "output_type": "stream",
       "stream": "stdout",
       "text": [
        " : http://www.fht360.com/productlist/246/13457-3-1009.html\n",
        "1.02"
       ]
      },
      {
       "output_type": "stream",
       "stream": "stdout",
       "text": [
        " : http://www.fht360.com/companylist/165/3-2-111.html\n",
        "0.49"
       ]
      },
      {
       "output_type": "stream",
       "stream": "stdout",
       "text": [
        " : http://www.fht360.com/productlist/316-13.html\n",
        "0.43"
       ]
      },
      {
       "output_type": "stream",
       "stream": "stdout",
       "text": [
        " : http://www.fht360.com/productlist/314-10.html\n",
        "1.30"
       ]
      },
      {
       "output_type": "stream",
       "stream": "stdout",
       "text": [
        " : http://www.fht360.com/productlist/312-47.html\n",
        "1.53"
       ]
      },
      {
       "output_type": "stream",
       "stream": "stdout",
       "text": [
        " : http://www.fht360.com/productlist/310-9.html\n",
        "1.75"
       ]
      },
      {
       "output_type": "stream",
       "stream": "stdout",
       "text": [
        " : http://www.fht360.com/productlist/315-2-39.html\n",
        "0.64"
       ]
      },
      {
       "output_type": "stream",
       "stream": "stdout",
       "text": [
        " : http://www.fht360.com/productlist/326-14-2137.html\n",
        "0.78"
       ]
      },
      {
       "output_type": "stream",
       "stream": "stdout",
       "text": [
        " : http://www.fht360.com/productlist/433-120.html\n",
        "1.12"
       ]
      },
      {
       "output_type": "stream",
       "stream": "stdout",
       "text": [
        " : http://www.fht360.com/productlist/437-25.html\n",
        "0.53"
       ]
      },
      {
       "output_type": "stream",
       "stream": "stdout",
       "text": [
        " : http://www.fht360.com/companylist/48/3-3-1122.html\n",
        "0.51"
       ]
      },
      {
       "output_type": "stream",
       "stream": "stdout",
       "text": [
        " : http://www.fht360.com/productlist/343/29-6.html\n",
        "0.34"
       ]
      },
      {
       "output_type": "stream",
       "stream": "stdout",
       "text": [
        " : http://www.fht360.com/productlist/226-3-2508.html\n",
        "0.48"
       ]
      },
      {
       "output_type": "stream",
       "stream": "stdout",
       "text": [
        " : http://www.fht360.com/companylist/39/10527-2-2164.html\n",
        "1.18"
       ]
      },
      {
       "output_type": "stream",
       "stream": "stdout",
       "text": [
        " : http://www.fht360.com/productlist/374/14165-3-2137.html\n",
        "0.77"
       ]
      },
      {
       "output_type": "stream",
       "stream": "stdout",
       "text": [
        " : http://www.fht360.com/productlist/274-2-3065.html\n",
        "0.64"
       ]
      },
      {
       "output_type": "stream",
       "stream": "stdout",
       "text": [
        " : http://www.fht360.com/productlist/285-3-1.html\n",
        "0.68"
       ]
      },
      {
       "output_type": "stream",
       "stream": "stdout",
       "text": [
        " : http://www.fht360.com/productlist/343/10774-2-880.html\n",
        "4.00"
       ]
      },
      {
       "output_type": "stream",
       "stream": "stdout",
       "text": [
        " : http://www.fht360.com/companylist/48/3-2-1987.html\n",
        "1.44"
       ]
      },
      {
       "output_type": "stream",
       "stream": "stdout",
       "text": [
        " : http://www.fht360.com/productlist/241/346-10-1487.html\n",
        "0.69"
       ]
      },
      {
       "output_type": "stream",
       "stream": "stdout",
       "text": [
        " : http://www.fht360.com/companylist/102/10365-2.html\n",
        "1.16"
       ]
      },
      {
       "output_type": "stream",
       "stream": "stdout",
       "text": [
        " : http://www.fht360.com/productlist/301-6-1662.html\n",
        "0.61"
       ]
      },
      {
       "output_type": "stream",
       "stream": "stdout",
       "text": [
        " : http://www.fht360.com/companylist/39/10414-2.html\n",
        "0.52"
       ]
      },
      {
       "output_type": "stream",
       "stream": "stdout",
       "text": [
        " : http://www.fht360.com/companylist/164/3-4-1567.html\n",
        "0.77"
       ]
      },
      {
       "output_type": "stream",
       "stream": "stdout",
       "text": [
        " : http://www.fht360.com/productlist/279-6-1487.html\n",
        "0.75"
       ]
      },
      {
       "output_type": "stream",
       "stream": "stdout",
       "text": [
        " : http://www.fht360.com/productlist/239/803-2.html\n",
        "0.58"
       ]
      },
      {
       "output_type": "stream",
       "stream": "stdout",
       "text": [
        " : http://www.fht360.com/productlist/277/18809-4.html\n",
        "0.53"
       ]
      },
      {
       "output_type": "stream",
       "stream": "stdout",
       "text": [
        " : http://www.fht360.com/companylist/52-3-2170.html\n",
        "0.56"
       ]
      },
      {
       "output_type": "stream",
       "stream": "stdout",
       "text": [
        " : http://www.fht360.com/productlist/282/17820-2.html\n",
        "0.70"
       ]
      },
      {
       "output_type": "stream",
       "stream": "stdout",
       "text": [
        " : http://www.fht360.com/productlist/426-3-1260.html\n",
        "0.70"
       ]
      },
      {
       "output_type": "stream",
       "stream": "stdout",
       "text": [
        " : http://www.fht360.com/productlist/324-2-1364.html\n",
        "0.66"
       ]
      },
      {
       "output_type": "stream",
       "stream": "stdout",
       "text": [
        " : http://www.fht360.com/companylist/126/10198-2.html\n",
        "0.49"
       ]
      },
      {
       "output_type": "stream",
       "stream": "stdout",
       "text": [
        " : http://www.fht360.com/companylist/48-2-191.html\n",
        "0.51"
       ]
      },
      {
       "output_type": "stream",
       "stream": "stdout",
       "text": [
        " : http://www.fht360.com/companylist/167-2-1491.html\n",
        "0.63"
       ]
      },
      {
       "output_type": "stream",
       "stream": "stdout",
       "text": [
        " : http://www.fht360.com/productlist/238-1-2508.html\n",
        "0.63"
       ]
      },
      {
       "output_type": "stream",
       "stream": "stdout",
       "text": [
        " : http://www.fht360.com/productlist/341-2-1662.html\n",
        "0.63"
       ]
      },
      {
       "output_type": "stream",
       "stream": "stdout",
       "text": [
        " : http://www.fht360.com/companylist/162/3-2-991.html\n",
        "0.67"
       ]
      },
      {
       "output_type": "stream",
       "stream": "stdout",
       "text": [
        " : http://www.fht360.com/productlist/264-5-39.html\n",
        "0.43"
       ]
      },
      {
       "output_type": "stream",
       "stream": "stdout",
       "text": [
        " : http://www.fht360.com/productlist/311/12420-2.html\n",
        "0.60"
       ]
      },
      {
       "output_type": "stream",
       "stream": "stdout",
       "text": [
        " : http://www.fht360.com/productlist/357/2674-2.html\n",
        "0.56"
       ]
      },
      {
       "output_type": "stream",
       "stream": "stdout",
       "text": [
        " : http://www.fht360.com/companylist/34-2-2169.html\n",
        "0.45"
       ]
      },
      {
       "output_type": "stream",
       "stream": "stdout",
       "text": [
        " : http://www.fht360.com/productlist/302/7258-3.html\n",
        "0.20"
       ]
      },
      {
       "output_type": "stream",
       "stream": "stdout",
       "text": [
        " : http://www.fht360.com/productlist/302/7259-2.html\n",
        "0.67"
       ]
      },
      {
       "output_type": "stream",
       "stream": "stdout",
       "text": [
        " : http://www.fht360.com/companylist/34-3-2164.html\n",
        "0.42"
       ]
      },
      {
       "output_type": "stream",
       "stream": "stdout",
       "text": [
        " : http://www.fht360.com/companylist/79/10465-2-2137.html\n",
        "0.69"
       ]
      },
      {
       "output_type": "stream",
       "stream": "stdout",
       "text": [
        " : http://www.fht360.com/productlist/283-2-1260.html\n",
        "0.60"
       ]
      },
      {
       "output_type": "stream",
       "stream": "stdout",
       "text": [
        " : http://www.fht360.com/productlist/236/400-2.html\n",
        "0.81"
       ]
      },
      {
       "output_type": "stream",
       "stream": "stdout",
       "text": [
        " : http://www.fht360.com/productlist/242-1-2508.html\n",
        "0.68"
       ]
      },
      {
       "output_type": "stream",
       "stream": "stdout",
       "text": [
        " : http://www.fht360.com/productlist/324/12465-5-2137.html\n",
        "0.52"
       ]
      },
      {
       "output_type": "stream",
       "stream": "stdout",
       "text": [
        " : http://www.fht360.com/companylist/165/3-2-1668.html\n",
        "0.55"
       ]
      },
      {
       "output_type": "stream",
       "stream": "stdout",
       "text": [
        " : http://www.fht360.com/productlist/336/14592-5.html\n",
        "0.44"
       ]
      },
      {
       "output_type": "stream",
       "stream": "stdout",
       "text": [
        " : http://www.fht360.com/productlist/335/11784-2.html\n",
        "0.90"
       ]
      },
      {
       "output_type": "stream",
       "stream": "stdout",
       "text": [
        " : http://www.fht360.com/productlist/241/457-2-1487.html\n",
        "0.62"
       ]
      },
      {
       "output_type": "stream",
       "stream": "stdout",
       "text": [
        " : http://www.fht360.com/productlist/346-2-2137.html\n",
        "0.63"
       ]
      },
      {
       "output_type": "stream",
       "stream": "stdout",
       "text": [
        " : http://www.fht360.com/productlist/234/10288-2-860.html\n",
        "0.50"
       ]
      },
      {
       "output_type": "stream",
       "stream": "stdout",
       "text": [
        " : http://www.fht360.com/companylist/40-3-1488.html\n",
        "0.63"
       ]
      },
      {
       "output_type": "stream",
       "stream": "stdout",
       "text": [
        " : http://www.fht360.com/companylist/40-7-1487.html\n",
        "0.65"
       ]
      },
      {
       "output_type": "stream",
       "stream": "stdout",
       "text": [
        " : http://www.fht360.com/productlist/231/170-2-880.html\n",
        "0.36"
       ]
      },
      {
       "output_type": "stream",
       "stream": "stdout",
       "text": [
        " : http://www.fht360.com/productlist/226-2-706.html\n",
        "0.44"
       ]
      },
      {
       "output_type": "stream",
       "stream": "stdout",
       "text": [
        " : http://www.fht360.com/productlist/288/10410-2.html\n",
        "0.46"
       ]
      },
      {
       "output_type": "stream",
       "stream": "stdout",
       "text": [
        " : http://www.fht360.com/companylist/37-9-880.html\n",
        "0.46"
       ]
      },
      {
       "output_type": "stream",
       "stream": "stdout",
       "text": [
        " : http://www.fht360.com/productlist/351/13617-2.html\n",
        "1.10"
       ]
      },
      {
       "output_type": "stream",
       "stream": "stdout",
       "text": [
        " : http://www.fht360.com/companylist/198/10930-2.html\n",
        "0.62"
       ]
      },
      {
       "output_type": "stream",
       "stream": "stdout",
       "text": [
        " : http://www.fht360.com/productlist/262-5-1487.html\n",
        "0.65"
       ]
      },
      {
       "output_type": "stream",
       "stream": "stdout",
       "text": [
        " : http://www.fht360.com/productlist/233/635-2-880.html\n",
        "0.44"
       ]
      },
      {
       "output_type": "stream",
       "stream": "stdout",
       "text": [
        " : http://www.fht360.com/productlist/313/10510-2.html\n",
        "0.53"
       ]
      },
      {
       "output_type": "stream",
       "stream": "stdout",
       "text": [
        " : http://www.fht360.com/companylist/67/10255-2.html\n",
        "0.65"
       ]
      },
      {
       "output_type": "stream",
       "stream": "stdout",
       "text": [
        " : http://www.fht360.com/productlist/266/10320-2-2137.html\n",
        "0.68"
       ]
      },
      {
       "output_type": "stream",
       "stream": "stdout",
       "text": [
        " : http://www.fht360.com/productlist/233/15916-5-1487.html\n",
        "1.25"
       ]
      },
      {
       "output_type": "stream",
       "stream": "stdout",
       "text": [
        " : http://www.fht360.com/productlist/426-2-1662.html\n",
        "1.89"
       ]
      },
      {
       "output_type": "stream",
       "stream": "stdout",
       "text": [
        " : http://www.fht360.com/productlist/262/15642-3.html\n",
        "1.06"
       ]
      },
      {
       "output_type": "stream",
       "stream": "stdout",
       "text": [
        " : http://www.fht360.com/productlist/444/16096-4-2137.html\n",
        "0.74"
       ]
      },
      {
       "output_type": "stream",
       "stream": "stdout",
       "text": [
        " : http://www.fht360.com/productlist/262/3562-2-2137.html\n",
        "0.68"
       ]
      },
      {
       "output_type": "stream",
       "stream": "stdout",
       "text": [
        " : http://www.fht360.com/productlist/272/101-2.html\n",
        "0.26"
       ]
      },
      {
       "output_type": "stream",
       "stream": "stdout",
       "text": [
        " : http://www.fht360.com/productlist/233/258-8-880.html\n",
        "1.31"
       ]
      },
      {
       "output_type": "stream",
       "stream": "stdout",
       "text": [
        " : http://www.fht360.com/productlist/367-34-2137.html\n",
        "0.48"
       ]
      },
      {
       "output_type": "stream",
       "stream": "stdout",
       "text": [
        " : http://www.fht360.com/productlist/283/187-2.html\n",
        "0.52"
       ]
      },
      {
       "output_type": "stream",
       "stream": "stdout",
       "text": [
        " : http://www.fht360.com/productlist/412/14106-7.html\n",
        "0.57"
       ]
      },
      {
       "output_type": "stream",
       "stream": "stdout",
       "text": [
        " : http://www.fht360.com/companylist/167/3-2-991.html\n",
        "0.55"
       ]
      },
      {
       "output_type": "stream",
       "stream": "stdout",
       "text": [
        " : http://www.fht360.com/companylist/48/3-2-881.html\n",
        "0.47"
       ]
      },
      {
       "output_type": "stream",
       "stream": "stdout",
       "text": [
        " : http://www.fht360.com/companylist/48/3-22-880.html\n",
        "0.58"
       ]
      },
      {
       "output_type": "stream",
       "stream": "stdout",
       "text": [
        " : http://www.fht360.com/companylist/155/10020-2.html\n",
        "0.62"
       ]
      },
      {
       "output_type": "stream",
       "stream": "stdout",
       "text": [
        " : http://www.fht360.com/productlist/365/10970-2-2137.html\n",
        "0.48"
       ]
      },
      {
       "output_type": "stream",
       "stream": "stdout",
       "text": [
        " : http://www.fht360.com/companylist/48/3-3-228.html\n",
        "0.47"
       ]
      },
      {
       "output_type": "stream",
       "stream": "stdout",
       "text": [
        " : http://www.fht360.com/companylist/48/3-6-221.html\n",
        "0.48"
       ]
      },
      {
       "output_type": "stream",
       "stream": "stdout",
       "text": [
        " : http://www.fht360.com/companylist/48/3-2-223.html\n",
        "1.67"
       ]
      },
      {
       "output_type": "stream",
       "stream": "stdout",
       "text": [
        " : http://www.fht360.com/companylist/165-2-2143.html\n",
        "0.63"
       ]
      },
      {
       "output_type": "stream",
       "stream": "stdout",
       "text": [
        " : http://www.fht360.com/productlist/433/14042-2.html\n",
        "0.36"
       ]
      },
      {
       "output_type": "stream",
       "stream": "stdout",
       "text": [
        " : http://www.fht360.com/productlist/410-5-1009.html\n",
        "0.94"
       ]
      },
      {
       "output_type": "stream",
       "stream": "stdout",
       "text": [
        " : http://www.fht360.com/productlist/433/14344-5.html\n",
        "0.92"
       ]
      },
      {
       "output_type": "stream",
       "stream": "stdout",
       "text": [
        " : http://www.fht360.com/productlist/334/12421-3-2437.html\n",
        "0.44"
       ]
      },
      {
       "output_type": "stream",
       "stream": "stdout",
       "text": [
        " : http://www.fht360.com/productlist/334/12739-2.html\n",
        "0.57"
       ]
      },
      {
       "output_type": "stream",
       "stream": "stdout",
       "text": [
        " : http://www.fht360.com/productlist/249/11436-3-2508.html\n",
        "0.48"
       ]
      },
      {
       "output_type": "stream",
       "stream": "stdout",
       "text": [
        " : http://www.fht360.com/companylist/162/3-2-1570.html\n",
        "0.52"
       ]
      },
      {
       "output_type": "stream",
       "stream": "stdout",
       "text": [
        " : http://www.fht360.com/productlist/444/79-12.html\n",
        "0.45"
       ]
      },
      {
       "output_type": "stream",
       "stream": "stdout",
       "text": [
        " : http://www.fht360.com/productlist/324/12739-2.html\n",
        "0.49"
       ]
      },
      {
       "output_type": "stream",
       "stream": "stdout",
       "text": [
        " : http://www.fht360.com/companylist/193/10929-2-2137.html\n",
        "0.67"
       ]
      },
      {
       "output_type": "stream",
       "stream": "stdout",
       "text": [
        " : http://www.fht360.com/productlist/245/11590-5-2137.html\n",
        "0.89"
       ]
      },
      {
       "output_type": "stream",
       "stream": "stdout",
       "text": [
        " : http://www.fht360.com/productlist/324/12421-10-1487.html\n",
        "1.40"
       ]
      },
      {
       "output_type": "stream",
       "stream": "stdout",
       "text": [
        " : http://www.fht360.com/productlist/234/309-5.html\n",
        "0.65"
       ]
      },
      {
       "output_type": "stream",
       "stream": "stdout",
       "text": [
        " : http://www.fht360.com/productlist/343/29-2-880.html\n",
        "0.71"
       ]
      },
      {
       "output_type": "stream",
       "stream": "stdout",
       "text": [
        " : http://www.fht360.com/productlist/251/15933-3-880.html\n",
        "0.51"
       ]
      },
      {
       "output_type": "stream",
       "stream": "stdout",
       "text": [
        " : http://www.fht360.com/productlist/262/8031-4.html\n",
        "4.47"
       ]
      },
      {
       "output_type": "stream",
       "stream": "stdout",
       "text": [
        " : http://www.fht360.com/productlist/270/343-2-1662.html\n",
        "0.77"
       ]
      },
      {
       "output_type": "stream",
       "stream": "stdout",
       "text": [
        " : http://www.fht360.com/companylist/52/10006-2.html\n",
        "0.63"
       ]
      },
      {
       "output_type": "stream",
       "stream": "stdout",
       "text": [
        " : http://www.fht360.com/companylist/44/10138-2-1487.html\n",
        "0.68"
       ]
      },
      {
       "output_type": "stream",
       "stream": "stdout",
       "text": [
        " : http://www.fht360.com/productlist/274/97-6-1487.html\n",
        "0.77"
       ]
      },
      {
       "output_type": "stream",
       "stream": "stdout",
       "text": [
        " : http://www.fht360.com/companylist/83-2-991.html\n",
        "0.52"
       ]
      },
      {
       "output_type": "stream",
       "stream": "stdout",
       "text": [
        " : http://www.fht360.com/companylist/162-2-924.html\n",
        "0.47"
       ]
      },
      {
       "output_type": "stream",
       "stream": "stdout",
       "text": [
        " : http://www.fht360.com/companylist/162-7-927.html\n",
        "0.45"
       ]
      },
      {
       "output_type": "stream",
       "stream": "stdout",
       "text": [
        " : http://www.fht360.com/productlist/375/9058-2.html\n",
        "1.04"
       ]
      },
      {
       "output_type": "stream",
       "stream": "stdout",
       "text": [
        " : http://www.fht360.com/companylist/52/10911-2.html\n",
        "0.47"
       ]
      },
      {
       "output_type": "stream",
       "stream": "stdout",
       "text": [
        " : http://www.fht360.com/companylist/52/10910-2.html\n",
        "0.62"
       ]
      },
      {
       "output_type": "stream",
       "stream": "stdout",
       "text": [
        " : http://www.fht360.com/companylist/52/10916-2.html\n",
        "0.52"
       ]
      },
      {
       "output_type": "stream",
       "stream": "stdout",
       "text": [
        " : http://www.fht360.com/companylist/52/10919-2.html\n",
        "0.64"
       ]
      },
      {
       "output_type": "stream",
       "stream": "stdout",
       "text": [
        " : http://www.fht360.com/productlist/227/76-4-1009.html\n",
        "0.39"
       ]
      },
      {
       "output_type": "stream",
       "stream": "stdout",
       "text": [
        " : http://www.fht360.com/productlist/343-2-1122.html\n",
        "0.61"
       ]
      },
      {
       "output_type": "stream",
       "stream": "stdout",
       "text": [
        " : http://www.fht360.com/productlist/373-2.html\n",
        "0.61"
       ]
      },
      {
       "output_type": "stream",
       "stream": "stdout",
       "text": [
        " : http://www.fht360.com/productlist/272-2-880.html\n",
        "0.14"
       ]
      },
      {
       "output_type": "stream",
       "stream": "stdout",
       "text": [
        " : http://www.fht360.com/productlist/231/16134-8.html\n",
        "0.67"
       ]
      },
      {
       "output_type": "stream",
       "stream": "stdout",
       "text": [
        " : http://www.fht360.com/productlist/231-3-2508.html\n",
        "0.48"
       ]
      },
      {
       "output_type": "stream",
       "stream": "stdout",
       "text": [
        " : http://www.fht360.com/productlist/340/1978-2.html\n",
        "0.26"
       ]
      },
      {
       "output_type": "stream",
       "stream": "stdout",
       "text": [
        " : http://www.fht360.com/productlist/331-16-1487.html\n",
        "0.62"
       ]
      },
      {
       "output_type": "stream",
       "stream": "stdout",
       "text": [
        " : http://www.fht360.com/productlist/248/11995-14-1487.html\n",
        "0.65"
       ]
      },
      {
       "output_type": "stream",
       "stream": "stdout",
       "text": [
        " : http://www.fht360.com/productlist/231/14608-2-1.html\n",
        "0.45"
       ]
      },
      {
       "output_type": "stream",
       "stream": "stdout",
       "text": [
        " : http://www.fht360.com/productlist/234/8033-3.html\n",
        "0.28"
       ]
      },
      {
       "output_type": "stream",
       "stream": "stdout",
       "text": [
        " : http://www.fht360.com/productlist/249-19-880.html\n",
        "0.63"
       ]
      },
      {
       "output_type": "stream",
       "stream": "stdout",
       "text": [
        " : http://www.fht360.com/productlist/425/52-2-880.html\n",
        "0.51"
       ]
      },
      {
       "output_type": "stream",
       "stream": "stdout",
       "text": [
        " : http://www.fht360.com/companylist/37/661-2.html\n",
        "0.51"
       ]
      },
      {
       "output_type": "stream",
       "stream": "stdout",
       "text": [
        " : http://www.fht360.com/productlist/227/11888-3.html\n",
        "0.51"
       ]
      },
      {
       "output_type": "stream",
       "stream": "stdout",
       "text": [
        " : http://www.fht360.com/productlist/231/15773-9.html\n",
        "1.26"
       ]
      },
      {
       "output_type": "stream",
       "stream": "stdout",
       "text": [
        " : http://www.fht360.com/productlist/231/15793-2-880.html\n",
        "0.65"
       ]
      },
      {
       "output_type": "stream",
       "stream": "stdout",
       "text": [
        " : http://www.fht360.com/productlist/432-2-706.html\n",
        "0.46"
       ]
      },
      {
       "output_type": "stream",
       "stream": "stdout",
       "text": [
        " : http://www.fht360.com/productlist/356/13331-6.html\n",
        "0.55"
       ]
      },
      {
       "output_type": "stream",
       "stream": "stdout",
       "text": [
        " : http://www.fht360.com/productlist/231/130-2-39.html\n",
        "0.43"
       ]
      },
      {
       "output_type": "stream",
       "stream": "stdout",
       "text": [
        " : http://www.fht360.com/productlist/313/14260-2.html\n",
        "0.59"
       ]
      },
      {
       "output_type": "stream",
       "stream": "stdout",
       "text": [
        " : http://www.fht360.com/companylist/164/3-24-1487.html\n",
        "0.56"
       ]
      },
      {
       "output_type": "stream",
       "stream": "stdout",
       "text": [
        " : http://www.fht360.com/companylist/104/10581-2.html\n",
        "0.30"
       ]
      },
      {
       "output_type": "stream",
       "stream": "stdout",
       "text": [
        " : http://www.fht360.com/productlist/239/13-5-1487.html\n",
        "1.02"
       ]
      },
      {
       "output_type": "stream",
       "stream": "stdout",
       "text": [
        " : http://www.fht360.com/productlist/359/12329-4-1009.html\n",
        "0.79"
       ]
      },
      {
       "output_type": "stream",
       "stream": "stdout",
       "text": [
        " : http://www.fht360.com/productlist/240/16951-2-1487.html\n",
        "0.51"
       ]
      },
      {
       "output_type": "stream",
       "stream": "stdout",
       "text": [
        " : http://www.fht360.com/companylist/165/3-2-1491.html\n",
        "0.86"
       ]
      },
      {
       "output_type": "stream",
       "stream": "stdout",
       "text": [
        " : http://www.fht360.com/productlist/433/51-2-1009.html\n",
        "0.56"
       ]
      },
      {
       "output_type": "stream",
       "stream": "stdout",
       "text": [
        " : http://www.fht360.com/productlist/359/12348-3-2137.html\n",
        "0.49"
       ]
      },
      {
       "output_type": "stream",
       "stream": "stdout",
       "text": [
        " : http://www.fht360.com/companylist/43/10505-2.html\n",
        "0.28"
       ]
      },
      {
       "output_type": "stream",
       "stream": "stdout",
       "text": [
        " : http://www.fht360.com/productlist/301/64-19-39.html\n",
        "0.53"
       ]
      },
      {
       "output_type": "stream",
       "stream": "stdout",
       "text": [
        " : http://www.fht360.com/productlist/235/15161-12.html\n",
        "0.54"
       ]
      },
      {
       "output_type": "stream",
       "stream": "stdout",
       "text": [
        " : http://www.fht360.com/productlist/325/10187-2.html\n",
        "0.67"
       ]
      },
      {
       "output_type": "stream",
       "stream": "stdout",
       "text": [
        " : http://www.fht360.com/productlist/231/15724-4-2137.html\n",
        "0.48"
       ]
      },
      {
       "output_type": "stream",
       "stream": "stdout",
       "text": [
        " : http://www.fht360.com/productlist/316/11927-2.html\n",
        "0.58"
       ]
      },
      {
       "output_type": "stream",
       "stream": "stdout",
       "text": [
        " : http://www.fht360.com/productlist/425/52-18.html\n",
        "0.48"
       ]
      },
      {
       "output_type": "stream",
       "stream": "stdout",
       "text": [
        " : http://www.fht360.com/companylist/48/3-7-927.html\n",
        "0.63"
       ]
      },
      {
       "output_type": "stream",
       "stream": "stdout",
       "text": [
        " : http://www.fht360.com/productlist/415/2019-2-1009.html\n",
        "0.55"
       ]
      },
      {
       "output_type": "stream",
       "stream": "stdout",
       "text": [
        " : http://www.fht360.com/productlist/425/2683-2-1122.html\n",
        "0.29"
       ]
      },
      {
       "output_type": "stream",
       "stream": "stdout",
       "text": [
        " : http://www.fht360.com/productlist/231-5-1260.html\n",
        "0.50"
       ]
      },
      {
       "output_type": "stream",
       "stream": "stdout",
       "text": [
        " : http://www.fht360.com/productlist/309/12210-14.html\n",
        "0.13"
       ]
      },
      {
       "output_type": "stream",
       "stream": "stdout",
       "text": [
        " : http://www.fht360.com/productlist/298-7.html\n",
        "0.62"
       ]
      },
      {
       "output_type": "stream",
       "stream": "stdout",
       "text": [
        " : http://www.fht360.com/productlist/336-6-2137.html\n",
        "0.55"
       ]
      },
      {
       "output_type": "stream",
       "stream": "stdout",
       "text": [
        " : http://www.fht360.com/productlist/247/13319-11-2137.html\n",
        "0.85"
       ]
      },
      {
       "output_type": "stream",
       "stream": "stdout",
       "text": [
        " : http://www.fht360.com/productlist/351/13561-2-2137.html\n",
        "0.63"
       ]
      },
      {
       "output_type": "stream",
       "stream": "stdout",
       "text": [
        " : http://www.fht360.com/productlist/246/12348-3.html\n",
        "0.74"
       ]
      },
      {
       "output_type": "stream",
       "stream": "stdout",
       "text": [
        " : http://www.fht360.com/productlist/427/12292-2-1009.html\n",
        "1.15"
       ]
      },
      {
       "output_type": "stream",
       "stream": "stdout",
       "text": [
        " : http://www.fht360.com/productlist/432/14813-2-1009.html\n",
        "1.30"
       ]
      },
      {
       "output_type": "stream",
       "stream": "stdout",
       "text": [
        " : http://www.fht360.com/companylist/40/10252-2.html\n",
        "0.76"
       ]
      },
      {
       "output_type": "stream",
       "stream": "stdout",
       "text": [
        " : http://www.fht360.com/productlist/433-10-39.html\n",
        "1.10"
       ]
      },
      {
       "output_type": "stream",
       "stream": "stdout",
       "text": [
        " : http://www.fht360.com/productlist/352-2-1.html\n",
        "1.20"
       ]
      },
      {
       "output_type": "stream",
       "stream": "stdout",
       "text": [
        " : http://www.fht360.com/productlist/233/259-3-880.html\n",
        "1.42"
       ]
      },
      {
       "output_type": "stream",
       "stream": "stdout",
       "text": [
        " : http://www.fht360.com/companylist/83/661-2.html\n",
        "1.07"
       ]
      },
      {
       "output_type": "stream",
       "stream": "stdout",
       "text": [
        " : http://www.fht360.com/productlist/293-7-1487.html\n",
        "0.62"
       ]
      },
      {
       "output_type": "stream",
       "stream": "stdout",
       "text": [
        " : http://www.fht360.com/productlist/424/14793-2-2137.html\n",
        "0.44"
       ]
      },
      {
       "output_type": "stream",
       "stream": "stdout",
       "text": [
        " : http://www.fht360.com/productlist/268/341-2.html\n",
        "0.08"
       ]
      },
      {
       "output_type": "stream",
       "stream": "stdout",
       "text": [
        " : http://www.fht360.com/productlist/435/15256-2.html\n",
        "0.76"
       ]
      },
      {
       "output_type": "stream",
       "stream": "stdout",
       "text": [
        " : http://www.fht360.com/productlist/263/303-3-1662.html\n",
        "0.69"
       ]
      },
      {
       "output_type": "stream",
       "stream": "stdout",
       "text": [
        " : http://www.fht360.com/productlist/437-3-880.html\n",
        "0.54"
       ]
      },
      {
       "output_type": "stream",
       "stream": "stdout",
       "text": [
        " : http://www.fht360.com/productlist/324/11386-3.html\n",
        "0.62"
       ]
      },
      {
       "output_type": "stream",
       "stream": "stdout",
       "text": [
        " : http://www.fht360.com/productlist/312-2-1122.html\n",
        "1.06"
       ]
      },
      {
       "output_type": "stream",
       "stream": "stdout",
       "text": [
        " : http://www.fht360.com/productlist/413-2-1487.html\n",
        "1.03"
       ]
      },
      {
       "output_type": "stream",
       "stream": "stdout",
       "text": [
        " : http://www.fht360.com/companylist/164/3-22-880.html\n",
        "0.67"
       ]
      },
      {
       "output_type": "stream",
       "stream": "stdout",
       "text": [
        " : http://www.fht360.com/productlist/233/259-5.html\n",
        "0.54"
       ]
      },
      {
       "output_type": "stream",
       "stream": "stdout",
       "text": [
        " : http://www.fht360.com/companylist/37/10718-2.html\n",
        "0.64"
       ]
      },
      {
       "output_type": "stream",
       "stream": "stdout",
       "text": [
        " : http://www.fht360.com/productlist/334/33-2-880.html\n",
        "0.51"
       ]
      },
      {
       "output_type": "stream",
       "stream": "stdout",
       "text": [
        " : http://www.fht360.com/productlist/231/11042-26.html\n",
        "0.49"
       ]
      },
      {
       "output_type": "stream",
       "stream": "stdout",
       "text": [
        " : http://www.fht360.com/companylist/34-4-2278.html\n",
        "0.47"
       ]
      },
      {
       "output_type": "stream",
       "stream": "stdout",
       "text": [
        " : http://www.fht360.com/companylist/165-3-1488.html\n",
        "0.48"
       ]
      },
      {
       "output_type": "stream",
       "stream": "stdout",
       "text": [
        " : http://www.fht360.com/companylist/165-24-1487.html\n",
        "0.63"
       ]
      },
      {
       "output_type": "stream",
       "stream": "stdout",
       "text": [
        " : http://www.fht360.com/productlist/415-6-2137.html\n",
        "0.49"
       ]
      },
      {
       "output_type": "stream",
       "stream": "stdout",
       "text": [
        " : http://www.fht360.com/productlist/396-2.html\n",
        "0.50"
       ]
      },
      {
       "output_type": "stream",
       "stream": "stdout",
       "text": [
        " : http://www.fht360.com/productlist/399-2.html\n",
        "0.66"
       ]
      },
      {
       "output_type": "stream",
       "stream": "stdout",
       "text": [
        " : http://www.fht360.com/productlist/231-2-3065.html\n",
        "0.65"
       ]
      },
      {
       "output_type": "stream",
       "stream": "stdout",
       "text": [
        " : http://www.fht360.com/productlist/324/7693-3-1857.html\n",
        "2.73"
       ]
      },
      {
       "output_type": "stream",
       "stream": "stdout",
       "text": [
        " : http://www.fht360.com/productlist/375-3-2137.html\n",
        "4.14"
       ]
      },
      {
       "output_type": "stream",
       "stream": "stdout",
       "text": [
        " : http://www.fht360.com/companylist/167-2-1570.html\n",
        "1.09"
       ]
      },
      {
       "output_type": "stream",
       "stream": "stdout",
       "text": [
        " : http://www.fht360.com/productlist/321/8069-2.html\n",
        "0.99"
       ]
      },
      {
       "output_type": "stream",
       "stream": "stdout",
       "text": [
        " : http://www.fht360.com/productlist/328/12450-6.html\n",
        "0.32"
       ]
      },
      {
       "output_type": "stream",
       "stream": "stdout",
       "text": [
        " : http://www.fht360.com/productlist/279/18626-4.html\n",
        "0.29"
       ]
      },
      {
       "output_type": "stream",
       "stream": "stdout",
       "text": [
        " : http://www.fht360.com/productlist/384-5.html\n",
        "0.80"
       ]
      },
      {
       "output_type": "stream",
       "stream": "stdout",
       "text": [
        " : http://www.fht360.com/companylist/45/10072-2.html\n",
        "1.94"
       ]
      },
      {
       "output_type": "stream",
       "stream": "stdout",
       "text": [
        " : http://www.fht360.com/companylist/45/10073-2.html\n",
        "1.29"
       ]
      },
      {
       "output_type": "stream",
       "stream": "stdout",
       "text": [
        " : http://www.fht360.com/companylist/45/10070-2.html\n",
        "0.53"
       ]
      },
      {
       "output_type": "stream",
       "stream": "stdout",
       "text": [
        " : http://www.fht360.com/companylist/45/10074-2.html\n",
        "0.32"
       ]
      },
      {
       "output_type": "stream",
       "stream": "stdout",
       "text": [
        " : http://www.fht360.com/productlist/345/29-6.html\n",
        "0.32"
       ]
      },
      {
       "output_type": "stream",
       "stream": "stdout",
       "text": [
        " : http://www.fht360.com/productlist/326/11562-6.html\n",
        "0.43"
       ]
      },
      {
       "output_type": "stream",
       "stream": "stdout",
       "text": [
        " : http://www.fht360.com/productlist/226/11850-2-1662.html\n",
        "0.47"
       ]
      },
      {
       "output_type": "stream",
       "stream": "stdout",
       "text": [
        " : http://www.fht360.com/productlist/283/185-2-1487.html\n",
        "0.57"
       ]
      },
      {
       "output_type": "stream",
       "stream": "stdout",
       "text": [
        " : http://www.fht360.com/productlist/367-2-1.html\n",
        "0.44"
       ]
      },
      {
       "output_type": "stream",
       "stream": "stdout",
       "text": [
        " : http://www.fht360.com/productlist/432/39-2-880.html\n",
        "1.31"
       ]
      },
      {
       "output_type": "stream",
       "stream": "stdout",
       "text": [
        " : http://www.fht360.com/productlist/274-2-1122.html\n",
        "0.33"
       ]
      },
      {
       "output_type": "stream",
       "stream": "stdout",
       "text": [
        " : http://www.fht360.com/productlist/245-2-39.html\n",
        "0.36"
       ]
      },
      {
       "output_type": "stream",
       "stream": "stdout",
       "text": [
        " : http://www.fht360.com/productlist/337/12206-2.html\n",
        "0.30"
       ]
      },
      {
       "output_type": "stream",
       "stream": "stdout",
       "text": [
        " : http://www.fht360.com/productlist/239/11053-4.html\n",
        "0.33"
       ]
      },
      {
       "output_type": "stream",
       "stream": "stdout",
       "text": [
        " : http://www.fht360.com/productlist/231/769-6.html\n",
        "0.43"
       ]
      },
      {
       "output_type": "stream",
       "stream": "stdout",
       "text": [
        " : http://www.fht360.com/productlist/261-8-1487.html\n",
        "0.26"
       ]
      },
      {
       "output_type": "stream",
       "stream": "stdout",
       "text": [
        " : http://www.fht360.com/productlist/260-4-1662.html\n",
        "0.55"
       ]
      },
      {
       "output_type": "stream",
       "stream": "stdout",
       "text": [
        " : http://www.fht360.com/companylist/48-2-111.html\n",
        "0.30"
       ]
      },
      {
       "output_type": "stream",
       "stream": "stdout",
       "text": [
        " : http://www.fht360.com/productlist/228/11923-5.html\n",
        "0.28"
       ]
      },
      {
       "output_type": "stream",
       "stream": "stdout",
       "text": [
        " : http://www.fht360.com/productlist/228/11927-2.html\n",
        "0.48"
       ]
      },
      {
       "output_type": "stream",
       "stream": "stdout",
       "text": [
        " : http://www.fht360.com/productlist/352/14194-2.html\n",
        "1.42"
       ]
      },
      {
       "output_type": "stream",
       "stream": "stdout",
       "text": [
        " : http://www.fht360.com/productlist/377/83-59-880.html\n",
        "0.95"
       ]
      },
      {
       "output_type": "stream",
       "stream": "stdout",
       "text": [
        " : http://www.fht360.com/productlist/253/16956-5.html\n",
        "0.25"
       ]
      },
      {
       "output_type": "stream",
       "stream": "stdout",
       "text": [
        " : http://www.fht360.com/productlist/280/16197-2.html\n",
        "1.95"
       ]
      },
      {
       "output_type": "stream",
       "stream": "stdout",
       "text": [
        " : http://www.fht360.com/companylist/61-3-2137.html\n",
        "2.09"
       ]
      },
      {
       "output_type": "stream",
       "stream": "stdout",
       "text": [
        " : http://www.fht360.com/companylist/162/3-3-918.html\n",
        "1.02"
       ]
      },
      {
       "output_type": "stream",
       "stream": "stdout",
       "text": [
        " : http://www.fht360.com/productlist/387/23-4.html\n",
        "0.28"
       ]
      },
      {
       "output_type": "stream",
       "stream": "stdout",
       "text": [
        " : http://www.fht360.com/productlist/351/13711-6.html\n",
        "1.19"
       ]
      },
      {
       "output_type": "stream",
       "stream": "stdout",
       "text": [
        " : http://www.fht360.com/companylist/48/10539-2-2137.html\n",
        "0.47"
       ]
      },
      {
       "output_type": "stream",
       "stream": "stdout",
       "text": [
        " : http://www.fht360.com/productlist/239/703-9-1487.html\n",
        "0.75"
       ]
      },
      {
       "output_type": "stream",
       "stream": "stdout",
       "text": [
        " : http://www.fht360.com/companylist/165/3-10-1662.html\n",
        "0.50"
       ]
      },
      {
       "output_type": "stream",
       "stream": "stdout",
       "text": [
        " : http://www.fht360.com/companylist/165/3-5-1663.html\n",
        "1.39"
       ]
      },
      {
       "output_type": "stream",
       "stream": "stdout",
       "text": [
        " : http://www.fht360.com/productlist/274-2-1009.html\n",
        "1.36"
       ]
      },
      {
       "output_type": "stream",
       "stream": "stdout",
       "text": [
        " : http://www.fht360.com/productlist/297/10451-2-1009.html\n",
        "0.39"
       ]
      },
      {
       "output_type": "stream",
       "stream": "stdout",
       "text": [
        " : http://www.fht360.com/productlist/430/14897-2-1009.html\n",
        "0.54"
       ]
      },
      {
       "output_type": "stream",
       "stream": "stdout",
       "text": [
        " : http://www.fht360.com/companylist/64/10287-2.html\n",
        "0.60"
       ]
      },
      {
       "output_type": "stream",
       "stream": "stdout",
       "text": [
        " : http://www.fht360.com/companylist/154-2.html\n",
        "0.55"
       ]
      },
      {
       "output_type": "stream",
       "stream": "stdout",
       "text": [
        " : http://www.fht360.com/companylist/155-7.html\n",
        "1.40"
       ]
      },
      {
       "output_type": "stream",
       "stream": "stdout",
       "text": [
        " : http://www.fht360.com/companylist/156-2.html\n",
        "1.00"
       ]
      },
      {
       "output_type": "stream",
       "stream": "stdout",
       "text": [
        " : http://www.fht360.com/companylist/153-2.html\n",
        "0.55"
       ]
      },
      {
       "output_type": "stream",
       "stream": "stdout",
       "text": [
        " : http://www.fht360.com/companylist/158-2.html\n",
        "0.42"
       ]
      },
      {
       "output_type": "stream",
       "stream": "stdout",
       "text": [
        " : http://www.fht360.com/companylist/159-5.html\n",
        "0.65"
       ]
      },
      {
       "output_type": "stream",
       "stream": "stdout",
       "text": [
        " : http://www.fht360.com/companylist/162/3-4-1260.html\n",
        "0.94"
       ]
      },
      {
       "output_type": "stream",
       "stream": "stdout",
       "text": [
        " : http://www.fht360.com/productlist/377/83-69.html\n",
        "0.92"
       ]
      },
      {
       "output_type": "stream",
       "stream": "stdout",
       "text": [
        " : http://www.fht360.com/productlist/233/16959-3-2137.html\n",
        "0.27"
       ]
      },
      {
       "output_type": "stream",
       "stream": "stdout",
       "text": [
        " : http://www.fht360.com/productlist/239/151-2.html\n",
        "0.47"
       ]
      },
      {
       "output_type": "stream",
       "stream": "stdout",
       "text": [
        " : http://www.fht360.com/productlist/353/14893-2-1.html\n",
        "1.45"
       ]
      },
      {
       "output_type": "stream",
       "stream": "stdout",
       "text": [
        " : http://www.fht360.com/productlist/226-25-2137.html\n",
        "0.57"
       ]
      },
      {
       "output_type": "stream",
       "stream": "stdout",
       "text": [
        " : http://www.fht360.com/companylist/159-2-2137.html\n",
        "0.47"
       ]
      },
      {
       "output_type": "stream",
       "stream": "stdout",
       "text": [
        " : http://www.fht360.com/companylist/162/3-2-132.html\n",
        "0.28"
       ]
      },
      {
       "output_type": "stream",
       "stream": "stdout",
       "text": [
        " : http://www.fht360.com/productlist/249-24-2137.html\n",
        "0.24"
       ]
      },
      {
       "output_type": "stream",
       "stream": "stdout",
       "text": [
        " : http://www.fht360.com/productlist/235/12002-2.html\n",
        "1.04"
       ]
      },
      {
       "output_type": "stream",
       "stream": "stdout",
       "text": [
        " : http://www.fht360.com/productlist/231-62-2137.html\n",
        "1.16"
       ]
      },
      {
       "output_type": "stream",
       "stream": "stdout",
       "text": [
        " : http://www.fht360.com/productlist/248/723-8-1487.html\n",
        "0.48"
       ]
      },
      {
       "output_type": "stream",
       "stream": "stdout",
       "text": [
        " : http://www.fht360.com/companylist/165-2-111.html\n",
        "0.34"
       ]
      },
      {
       "output_type": "stream",
       "stream": "stdout",
       "text": [
        " : http://www.fht360.com/productlist/239/13320-14.html\n",
        "0.91"
       ]
      },
      {
       "output_type": "stream",
       "stream": "stdout",
       "text": [
        " : http://www.fht360.com/companylist/38-2-2137.html\n",
        "0.34"
       ]
      },
      {
       "output_type": "stream",
       "stream": "stdout",
       "text": [
        " : http://www.fht360.com/productlist/358/14710-5.html\n",
        "0.51"
       ]
      },
      {
       "output_type": "stream",
       "stream": "stdout",
       "text": [
        " : http://www.fht360.com/productlist/301/7857-8.html\n",
        "0.86"
       ]
      },
      {
       "output_type": "stream",
       "stream": "stdout",
       "text": [
        " : http://www.fht360.com/companylist/162/3-45-2137.html\n",
        "0.87"
       ]
      },
      {
       "output_type": "stream",
       "stream": "stdout",
       "text": [
        " : http://www.fht360.com/productlist/231/14-2-1662.html\n",
        "0.64"
       ]
      },
      {
       "output_type": "stream",
       "stream": "stdout",
       "text": [
        " : http://www.fht360.com/productlist/227/11104-10.html\n",
        "0.44"
       ]
      },
      {
       "output_type": "stream",
       "stream": "stdout",
       "text": [
        " : http://www.fht360.com/productlist/239/390-2-2137.html\n",
        "0.26"
       ]
      },
      {
       "output_type": "stream",
       "stream": "stdout",
       "text": [
        " : http://www.fht360.com/productlist/377/19047-2.html\n",
        "0.25"
       ]
      },
      {
       "output_type": "stream",
       "stream": "stdout",
       "text": [
        " : http://www.fht360.com/productlist/284/17493-2.html\n",
        "0.41"
       ]
      },
      {
       "output_type": "stream",
       "stream": "stdout",
       "text": [
        " : http://www.fht360.com/productlist/427-7-1009.html\n",
        "0.46"
       ]
      },
      {
       "output_type": "stream",
       "stream": "stdout",
       "text": [
        " : http://www.fht360.com/productlist/334-3-1857.html\n",
        "0.51"
       ]
      },
      {
       "output_type": "stream",
       "stream": "stdout",
       "text": [
        " : http://www.fht360.com/productlist/309/12210-2-860.html\n",
        "0.59"
       ]
      },
      {
       "output_type": "stream",
       "stream": "stdout",
       "text": [
        " : http://www.fht360.com/productlist/241/16019-3-39.html\n",
        "0.46"
       ]
      },
      {
       "output_type": "stream",
       "stream": "stdout",
       "text": [
        " : http://www.fht360.com/productlist/326/69-4-1487.html\n",
        "0.54"
       ]
      },
      {
       "output_type": "stream",
       "stream": "stdout",
       "text": [
        " : http://www.fht360.com/companylist/167/3-2-1025.html\n",
        "0.80"
       ]
      },
      {
       "output_type": "stream",
       "stream": "stdout",
       "text": [
        " : http://www.fht360.com/companylist/37/8-2-880.html\n",
        "1.23"
       ]
      },
      {
       "output_type": "stream",
       "stream": "stdout",
       "text": [
        " : http://www.fht360.com/companylist/89/10299-2.html\n",
        "0.36"
       ]
      },
      {
       "output_type": "stream",
       "stream": "stdout",
       "text": [
        " : http://www.fht360.com/productlist/326/7818-11.html\n",
        "0.43"
       ]
      },
      {
       "output_type": "stream",
       "stream": "stdout",
       "text": [
        " : http://www.fht360.com/productlist/326/7813-2.html\n",
        "0.47"
       ]
      },
      {
       "output_type": "stream",
       "stream": "stdout",
       "text": [
        " : http://www.fht360.com/productlist/236/1951-2-1857.html\n",
        "0.42"
       ]
      },
      {
       "output_type": "stream",
       "stream": "stdout",
       "text": [
        " : http://www.fht360.com/productlist/233/661-8-880.html\n",
        "0.51"
       ]
      },
      {
       "output_type": "stream",
       "stream": "stdout",
       "text": [
        " : http://www.fht360.com/companylist/124/10505-2.html\n",
        "4.61"
       ]
      },
      {
       "output_type": "stream",
       "stream": "stdout",
       "text": [
        " : http://www.fht360.com/companylist/86/8-2-880.html\n",
        "1.17"
       ]
      },
      {
       "output_type": "stream",
       "stream": "stdout",
       "text": [
        " : http://www.fht360.com/productlist/352/14206-2-2137.html\n",
        "0.47"
       ]
      },
      {
       "output_type": "stream",
       "stream": "stdout",
       "text": [
        " : http://www.fht360.com/companylist/167/3-3-918.html\n",
        "0.48"
       ]
      },
      {
       "output_type": "stream",
       "stream": "stdout",
       "text": [
        " : http://www.fht360.com/companylist/105-2-2137.html\n",
        "0.50"
       ]
      },
      {
       "output_type": "stream",
       "stream": "stdout",
       "text": [
        " : http://www.fht360.com/companylist/39-2-872.html\n",
        "0.43"
       ]
      },
      {
       "output_type": "stream",
       "stream": "stdout",
       "text": [
        " : http://www.fht360.com/productlist/319-5.html\n",
        "0.57"
       ]
      },
      {
       "output_type": "stream",
       "stream": "stdout",
       "text": [
        " : http://www.fht360.com/productlist/433-9-1009.html\n",
        "0.33"
       ]
      },
      {
       "output_type": "stream",
       "stream": "stdout",
       "text": [
        " : http://www.fht360.com/productlist/313-16.html\n",
        "0.20"
       ]
      },
      {
       "output_type": "stream",
       "stream": "stdout",
       "text": [
        " : http://www.fht360.com/productlist/311-7.html\n",
        "0.87"
       ]
      },
      {
       "output_type": "stream",
       "stream": "stdout",
       "text": [
        " : http://www.fht360.com/productlist/235-290.html\n",
        "0.77"
       ]
      },
      {
       "output_type": "stream",
       "stream": "stdout",
       "text": [
        " : http://www.fht360.com/productlist/236-145.html\n",
        "0.97"
       ]
      },
      {
       "output_type": "stream",
       "stream": "stdout",
       "text": [
        " : http://www.fht360.com/productlist/371/13794-5-2137.html\n",
        "1.21"
       ]
      },
      {
       "output_type": "stream",
       "stream": "stdout",
       "text": [
        " : http://www.fht360.com/productlist/357/11330-39-1487.html\n",
        "0.14"
       ]
      },
      {
       "output_type": "stream",
       "stream": "stdout",
       "text": [
        " : http://www.fht360.com/productlist/438/10003-19.html\n",
        "0.81"
       ]
      },
      {
       "output_type": "stream",
       "stream": "stdout",
       "text": [
        " : http://www.fht360.com/productlist/231/168-6.html\n",
        "0.48"
       ]
      },
      {
       "output_type": "stream",
       "stream": "stdout",
       "text": [
        " : http://www.fht360.com/companylist/162/3-3-1067.html\n",
        "0.38"
       ]
      },
      {
       "output_type": "stream",
       "stream": "stdout",
       "text": [
        " : http://www.fht360.com/productlist/440/11718-2-2137.html\n",
        "0.31"
       ]
      },
      {
       "output_type": "stream",
       "stream": "stdout",
       "text": [
        " : http://www.fht360.com/productlist/283/97-10.html\n",
        "0.53"
       ]
      },
      {
       "output_type": "stream",
       "stream": "stdout",
       "text": [
        " : http://www.fht360.com/companylist/47-2-860.html\n",
        "0.39"
       ]
      },
      {
       "output_type": "stream",
       "stream": "stdout",
       "text": [
        " : http://www.fht360.com/productlist/233/16667-3-2137.html\n",
        "0.26"
       ]
      },
      {
       "output_type": "stream",
       "stream": "stdout",
       "text": [
        " : http://www.fht360.com/productlist/341/10204-6.html\n",
        "0.46"
       ]
      },
      {
       "output_type": "stream",
       "stream": "stdout",
       "text": [
        " : http://www.fht360.com/productlist/345/29-2-880.html\n",
        "0.31"
       ]
      },
      {
       "output_type": "stream",
       "stream": "stdout",
       "text": [
        " : http://www.fht360.com/productlist/324-14-1009.html\n",
        "0.24"
       ]
      },
      {
       "output_type": "stream",
       "stream": "stdout",
       "text": [
        " : http://www.fht360.com/productlist/415/93-19.html\n",
        "0.33"
       ]
      },
      {
       "output_type": "stream",
       "stream": "stdout",
       "text": [
        " : http://www.fht360.com/productlist/235/2022-2.html\n",
        "0.44"
       ]
      },
      {
       "output_type": "stream",
       "stream": "stdout",
       "text": [
        " : http://www.fht360.com/productlist/412-2-880.html\n",
        "0.57"
       ]
      },
      {
       "output_type": "stream",
       "stream": "stdout",
       "text": [
        " : http://www.fht360.com/productlist/241-30-39.html\n",
        "0.52"
       ]
      },
      {
       "output_type": "stream",
       "stream": "stdout",
       "text": [
        " : http://www.fht360.com/companylist/54-2-1663.html\n",
        "0.49"
       ]
      },
      {
       "output_type": "stream",
       "stream": "stdout",
       "text": [
        " : http://www.fht360.com/companylist/54-3-1662.html\n",
        "0.30"
       ]
      },
      {
       "output_type": "stream",
       "stream": "stdout",
       "text": [
        " : http://www.fht360.com/productlist/241/15809-3.html\n",
        "0.46"
       ]
      },
      {
       "output_type": "stream",
       "stream": "stdout",
       "text": [
        " : http://www.fht360.com/productlist/235-2-3065.html\n",
        "0.30"
       ]
      },
      {
       "output_type": "stream",
       "stream": "stdout",
       "text": [
        " : http://www.fht360.com/productlist/364/13027-3.html\n",
        "0.45"
       ]
      },
      {
       "output_type": "stream",
       "stream": "stdout",
       "text": [
        " : http://www.fht360.com/productlist/231/769-4-1487.html\n",
        "0.39"
       ]
      },
      {
       "output_type": "stream",
       "stream": "stdout",
       "text": [
        " : http://www.fht360.com/productlist/351/13541-3-2137.html\n",
        "0.31"
       ]
      },
      {
       "output_type": "stream",
       "stream": "stdout",
       "text": [
        " : http://www.fht360.com/productlist/371-19.html\n",
        "0.47"
       ]
      },
      {
       "output_type": "stream",
       "stream": "stdout",
       "text": [
        " : http://www.fht360.com/companylist/162/3-3-896.html\n",
        "0.55"
       ]
      },
      {
       "output_type": "stream",
       "stream": "stdout",
       "text": [
        " : http://www.fht360.com/companylist/37/8-4.html\n",
        "0.42"
       ]
      },
      {
       "output_type": "stream",
       "stream": "stdout",
       "text": [
        " : http://www.fht360.com/productlist/314-3-880.html\n",
        "0.48"
       ]
      },
      {
       "output_type": "stream",
       "stream": "stdout",
       "text": [
        " : http://www.fht360.com/companylist/162-2-1364.html\n",
        "0.61"
       ]
      },
      {
       "output_type": "stream",
       "stream": "stdout",
       "text": [
        " : http://www.fht360.com/companylist/137-3-1009.html\n",
        "0.45"
       ]
      },
      {
       "output_type": "stream",
       "stream": "stdout",
       "text": [
        " : http://www.fht360.com/productlist/324/12439-4-2137.html\n",
        "0.53"
       ]
      },
      {
       "output_type": "stream",
       "stream": "stdout",
       "text": [
        " : http://www.fht360.com/productlist/277-2-1662.html\n",
        "0.53"
       ]
      },
      {
       "output_type": "stream",
       "stream": "stdout",
       "text": [
        " : http://www.fht360.com/companylist/45-2-2169.html\n",
        "0.36"
       ]
      },
      {
       "output_type": "stream",
       "stream": "stdout",
       "text": [
        " : http://www.fht360.com/productlist/234/297-2-880.html\n",
        "0.61"
       ]
      },
      {
       "output_type": "stream",
       "stream": "stdout",
       "text": [
        " : http://www.fht360.com/companylist/45-3-2164.html\n",
        "0.38"
       ]
      },
      {
       "output_type": "stream",
       "stream": "stdout",
       "text": [
        " : http://www.fht360.com/productlist/254/259-3-880.html\n",
        "0.42"
       ]
      },
      {
       "output_type": "stream",
       "stream": "stdout",
       "text": [
        " : http://www.fht360.com/productlist/438/10003-2-1662.html\n",
        "0.25"
       ]
      },
      {
       "output_type": "stream",
       "stream": "stdout",
       "text": [
        " : http://www.fht360.com/productlist/316/8042-2.html\n",
        "0.98"
       ]
      },
      {
       "output_type": "stream",
       "stream": "stdout",
       "text": [
        " : http://www.fht360.com/productlist/293-45.html\n",
        "0.45"
       ]
      },
      {
       "output_type": "stream",
       "stream": "stdout",
       "text": [
        " : http://www.fht360.com/companylist/89/303-2.html\n",
        "0.84"
       ]
      },
      {
       "output_type": "stream",
       "stream": "stdout",
       "text": [
        " : http://www.fht360.com/productlist/291-4.html\n",
        "0.33"
       ]
      },
      {
       "output_type": "stream",
       "stream": "stdout",
       "text": [
        " : http://www.fht360.com/productlist/290-4.html\n",
        "0.33"
       ]
      },
      {
       "output_type": "stream",
       "stream": "stdout",
       "text": [
        " : http://www.fht360.com/productlist/297-7.html\n",
        "0.43"
       ]
      },
      {
       "output_type": "stream",
       "stream": "stdout",
       "text": [
        " : http://www.fht360.com/productlist/308-4-1487.html\n",
        "0.33"
       ]
      },
      {
       "output_type": "stream",
       "stream": "stdout",
       "text": [
        " : http://www.fht360.com/productlist/254/15967-7.html\n",
        "0.26"
       ]
      },
      {
       "output_type": "stream",
       "stream": "stdout",
       "text": [
        " : http://www.fht360.com/productlist/351/13534-2.html\n",
        "0.46"
       ]
      },
      {
       "output_type": "stream",
       "stream": "stdout",
       "text": [
        " : http://www.fht360.com/productlist/309-6-1009.html\n",
        "0.24"
       ]
      },
      {
       "output_type": "stream",
       "stream": "stdout",
       "text": [
        " : http://www.fht360.com/productlist/356/13328-3.html\n",
        "0.42"
       ]
      },
      {
       "output_type": "stream",
       "stream": "stdout",
       "text": [
        " : http://www.fht360.com/productlist/431-11-2137.html\n",
        "0.25"
       ]
      },
      {
       "output_type": "stream",
       "stream": "stdout",
       "text": [
        " : http://www.fht360.com/productlist/283/17351-3.html\n",
        "0.66"
       ]
      },
      {
       "output_type": "stream",
       "stream": "stdout",
       "text": [
        " : http://www.fht360.com/companylist/51/10723-2.html\n",
        "0.80"
       ]
      },
      {
       "output_type": "stream",
       "stream": "stdout",
       "text": [
        " : http://www.fht360.com/productlist/260/8-3-1662.html\n",
        "0.43"
       ]
      },
      {
       "output_type": "stream",
       "stream": "stdout",
       "text": [
        " : http://www.fht360.com/productlist/283/185-8-880.html\n",
        "0.30"
       ]
      },
      {
       "output_type": "stream",
       "stream": "stdout",
       "text": [
        " : http://www.fht360.com/productlist/226/11177-2.html\n",
        "0.49"
       ]
      },
      {
       "output_type": "stream",
       "stream": "stdout",
       "text": [
        " : http://www.fht360.com/productlist/309/76-6-880.html\n",
        "0.64"
       ]
      },
      {
       "output_type": "stream",
       "stream": "stdout",
       "text": [
        " : http://www.fht360.com/companylist/83/8-2-880.html\n",
        "0.27"
       ]
      },
      {
       "output_type": "stream",
       "stream": "stdout",
       "text": [
        " : http://www.fht360.com/productlist/424/14899-3.html\n",
        "0.28"
       ]
      },
      {
       "output_type": "stream",
       "stream": "stdout",
       "text": [
        " : http://www.fht360.com/productlist/424/14894-2.html\n",
        "0.35"
       ]
      },
      {
       "output_type": "stream",
       "stream": "stdout",
       "text": [
        " : http://www.fht360.com/productlist/424/14895-6.html\n",
        "0.27"
       ]
      },
      {
       "output_type": "stream",
       "stream": "stdout",
       "text": [
        " : http://www.fht360.com/productlist/424/14896-3.html\n",
        "0.49"
       ]
      },
      {
       "output_type": "stream",
       "stream": "stdout",
       "text": [
        " : http://www.fht360.com/companylist/48/3-4-1553.html\n",
        "0.43"
       ]
      },
      {
       "output_type": "stream",
       "stream": "stdout",
       "text": [
        " : http://www.fht360.com/productlist/337/12182-2-39.html\n",
        "0.66"
       ]
      },
      {
       "output_type": "stream",
       "stream": "stdout",
       "text": [
        " : http://www.fht360.com/companylist/88/10288-2.html\n",
        "1.60"
       ]
      },
      {
       "output_type": "stream",
       "stream": "stdout",
       "text": [
        " : http://www.fht360.com/productlist/415-49-1487.html\n",
        "0.56"
       ]
      },
      {
       "output_type": "stream",
       "stream": "stdout",
       "text": [
        " : http://www.fht360.com/companylist/162-3-1500.html\n",
        "1.03"
       ]
      },
      {
       "output_type": "stream",
       "stream": "stdout",
       "text": [
        " : http://www.fht360.com/productlist/341-2-1.html\n",
        "0.43"
       ]
      },
      {
       "output_type": "stream",
       "stream": "stdout",
       "text": [
        " : http://www.fht360.com/productlist/262-2-39.html\n",
        "0.74"
       ]
      },
      {
       "output_type": "stream",
       "stream": "stdout",
       "text": [
        " : http://www.fht360.com/productlist/293/10425-4-880.html\n",
        "0.89"
       ]
      },
      {
       "output_type": "stream",
       "stream": "stdout",
       "text": [
        " : http://www.fht360.com/productlist/235/89-92-1487.html\n",
        "0.86"
       ]
      },
      {
       "output_type": "stream",
       "stream": "stdout",
       "text": [
        " : http://www.fht360.com/productlist/356/13416-4.html\n",
        "1.15"
       ]
      },
      {
       "output_type": "stream",
       "stream": "stdout",
       "text": [
        " : http://www.fht360.com/productlist/231/15883-27.html\n",
        "0.44"
       ]
      },
      {
       "output_type": "stream",
       "stream": "stdout",
       "text": [
        " : http://www.fht360.com/productlist/235/17643-2.html\n",
        "0.48"
       ]
      },
      {
       "output_type": "stream",
       "stream": "stdout",
       "text": [
        " : http://www.fht360.com/companylist/167/3-2-706.html\n",
        "0.62"
       ]
      },
      {
       "output_type": "stream",
       "stream": "stdout",
       "text": [
        " : http://www.fht360.com/productlist/236/1951-6-860.html\n",
        "0.61"
       ]
      },
      {
       "output_type": "stream",
       "stream": "stdout",
       "text": [
        " : http://www.fht360.com/companylist/70-6.html\n",
        "1.09"
       ]
      },
      {
       "output_type": "stream",
       "stream": "stdout",
       "text": [
        " : http://www.fht360.com/companylist/71-4.html\n",
        "1.04"
       ]
      },
      {
       "output_type": "stream",
       "stream": "stdout",
       "text": [
        " : http://www.fht360.com/companylist/72-3.html\n",
        "1.04"
       ]
      },
      {
       "output_type": "stream",
       "stream": "stdout",
       "text": [
        " : http://www.fht360.com/companylist/73-6.html\n",
        "0.54"
       ]
      },
      {
       "output_type": "stream",
       "stream": "stdout",
       "text": [
        " : http://www.fht360.com/companylist/74-5.html\n",
        "0.45"
       ]
      },
      {
       "output_type": "stream",
       "stream": "stdout",
       "text": [
        " : http://www.fht360.com/companylist/75-5.html\n",
        "0.53"
       ]
      },
      {
       "output_type": "stream",
       "stream": "stdout",
       "text": [
        " : http://www.fht360.com/companylist/76-3.html\n",
        "0.43"
       ]
      },
      {
       "output_type": "stream",
       "stream": "stdout",
       "text": [
        " : http://www.fht360.com/companylist/77-10.html\n",
        "0.42"
       ]
      },
      {
       "output_type": "stream",
       "stream": "stdout",
       "text": [
        " : http://www.fht360.com/companylist/78-5.html\n",
        "0.58"
       ]
      },
      {
       "output_type": "stream",
       "stream": "stdout",
       "text": [
        " : http://www.fht360.com/companylist/79-5.html\n",
        "0.67"
       ]
      },
      {
       "output_type": "stream",
       "stream": "stdout",
       "text": [
        " : http://www.fht360.com/productlist/324/12421-7-1009.html\n",
        "0.61"
       ]
      },
      {
       "output_type": "stream",
       "stream": "stdout",
       "text": [
        " : http://www.fht360.com/productlist/272-4-1487.html\n",
        "1.47"
       ]
      },
      {
       "output_type": "stream",
       "stream": "stdout",
       "text": [
        " : http://www.fht360.com/productlist/246-1-2467.html\n",
        "1.29"
       ]
      },
      {
       "output_type": "stream",
       "stream": "stdout",
       "text": [
        " : http://www.fht360.com/productlist/334-5-1.html\n",
        "0.94"
       ]
      },
      {
       "output_type": "stream",
       "stream": "stdout",
       "text": [
        " : http://www.fht360.com/productlist/316/8205-3.html\n",
        "1.04"
       ]
      },
      {
       "output_type": "stream",
       "stream": "stdout",
       "text": [
        " : http://www.fht360.com/companylist/44/10020-2-2137.html\n",
        "4.68"
       ]
      },
      {
       "output_type": "stream",
       "stream": "stdout",
       "text": [
        " : http://www.fht360.com/companylist/164/3-2-1364.html\n",
        "1.97"
       ]
      },
      {
       "output_type": "stream",
       "stream": "stdout",
       "text": [
        " : http://www.fht360.com/productlist/286/1843-6-1487.html\n",
        "0.44"
       ]
      },
      {
       "output_type": "stream",
       "stream": "stdout",
       "text": [
        " : http://www.fht360.com/productlist/377/9024-2-1122.html\n",
        "0.33"
       ]
      },
      {
       "output_type": "stream",
       "stream": "stdout",
       "text": [
        " : http://www.fht360.com/productlist/293-8-1009.html\n",
        "0.46"
       ]
      },
      {
       "output_type": "stream",
       "stream": "stdout",
       "text": [
        " : http://www.fht360.com/companylist/37-2-1488.html\n",
        "0.78"
       ]
      },
      {
       "output_type": "stream",
       "stream": "stdout",
       "text": [
        " : http://www.fht360.com/companylist/37-4-1487.html\n",
        "0.50"
       ]
      },
      {
       "output_type": "stream",
       "stream": "stdout",
       "text": [
        " : http://www.fht360.com/companylist/86-3-880.html\n",
        "0.51"
       ]
      },
      {
       "output_type": "stream",
       "stream": "stdout",
       "text": [
        " : http://www.fht360.com/productlist/251-7-1487.html\n",
        "0.43"
       ]
      },
      {
       "output_type": "stream",
       "stream": "stdout",
       "text": [
        " : http://www.fht360.com/productlist/328-2-1857.html\n",
        "0.50"
       ]
      },
      {
       "output_type": "stream",
       "stream": "stdout",
       "text": [
        " : http://www.fht360.com/productlist/360-16-1487.html\n",
        "1.05"
       ]
      },
      {
       "output_type": "stream",
       "stream": "stdout",
       "text": [
        " : http://www.fht360.com/companylist/38-2-39.html\n",
        "0.98"
       ]
      },
      {
       "output_type": "stream",
       "stream": "stdout",
       "text": [
        " : http://www.fht360.com/productlist/387/28-16.html\n",
        "0.47"
       ]
      },
      {
       "output_type": "stream",
       "stream": "stdout",
       "text": [
        " : http://www.fht360.com/productlist/237/10438-3.html\n",
        "0.52"
       ]
      },
      {
       "output_type": "stream",
       "stream": "stdout",
       "text": [
        " : http://www.fht360.com/companylist/72-2-2137.html\n",
        "0.47"
       ]
      },
      {
       "output_type": "stream",
       "stream": "stdout",
       "text": [
        " : http://www.fht360.com/companylist/162-2-1100.html\n",
        "0.61"
       ]
      },
      {
       "output_type": "stream",
       "stream": "stdout",
       "text": [
        " : http://www.fht360.com/productlist/353-2-1.html\n",
        "0.90"
       ]
      },
      {
       "output_type": "stream",
       "stream": "stdout",
       "text": [
        " : http://www.fht360.com/productlist/424/2-18-2508.html\n",
        "0.65"
       ]
      },
      {
       "output_type": "stream",
       "stream": "stdout",
       "text": [
        " : http://www.fht360.com/productlist/423-2-1122.html\n",
        "0.65"
       ]
      },
      {
       "output_type": "stream",
       "stream": "stdout",
       "text": [
        " : http://www.fht360.com/productlist/231/9-3-2137.html\n",
        "1.12"
       ]
      },
      {
       "output_type": "stream",
       "stream": "stdout",
       "text": [
        " : http://www.fht360.com/productlist/334/12421-3-1857.html\n",
        "0.70"
       ]
      },
      {
       "output_type": "stream",
       "stream": "stdout",
       "text": [
        " : http://www.fht360.com/productlist/356/13331-4-2137.html\n",
        "0.83"
       ]
      },
      {
       "output_type": "stream",
       "stream": "stdout",
       "text": [
        " : http://www.fht360.com/productlist/358/14800-2.html\n",
        "0.76"
       ]
      },
      {
       "output_type": "stream",
       "stream": "stdout",
       "text": [
        " : http://www.fht360.com/productlist/433/11718-2-2137.html\n",
        "0.71"
       ]
      },
      {
       "output_type": "stream",
       "stream": "stdout",
       "text": [
        " : http://www.fht360.com/productlist/249/12299-2.html\n",
        "0.77"
       ]
      },
      {
       "output_type": "stream",
       "stream": "stdout",
       "text": [
        " : http://www.fht360.com/productlist/313/7596-2.html\n",
        "0.94"
       ]
      },
      {
       "output_type": "stream",
       "stream": "stdout",
       "text": [
        " : http://www.fht360.com/companylist/38-2-205.html\n",
        "0.79"
       ]
      },
      {
       "output_type": "stream",
       "stream": "stdout",
       "text": [
        " : http://www.fht360.com/productlist/233/16668-2.html\n",
        "0.79"
       ]
      },
      {
       "output_type": "stream",
       "stream": "stdout",
       "text": [
        " : http://www.fht360.com/productlist/233/15916-2-1.html\n",
        "0.72"
       ]
      },
      {
       "output_type": "stream",
       "stream": "stdout",
       "text": [
        " : http://www.fht360.com/productlist/304/11450-2.html\n",
        "0.78"
       ]
      },
      {
       "output_type": "stream",
       "stream": "stdout",
       "text": [
        " : http://www.fht360.com/productlist/304/14822-8.html\n",
        "0.82"
       ]
      },
      {
       "output_type": "stream",
       "stream": "stdout",
       "text": [
        " : http://www.fht360.com/productlist/340-3-1662.html\n",
        "1.02"
       ]
      },
      {
       "output_type": "stream",
       "stream": "stdout",
       "text": [
        " : http://www.fht360.com/companylist/71/10529-2.html\n",
        "0.72"
       ]
      },
      {
       "output_type": "stream",
       "stream": "stdout",
       "text": [
        " : http://www.fht360.com/productlist/337/12148-6-39.html\n",
        "0.75"
       ]
      },
      {
       "output_type": "stream",
       "stream": "stdout",
       "text": [
        " : http://www.fht360.com/productlist/352/13810-2-2137.html\n",
        "0.82"
       ]
      },
      {
       "output_type": "stream",
       "stream": "stdout",
       "text": [
        " : http://www.fht360.com/companylist/167-7-927.html\n",
        "0.58"
       ]
      },
      {
       "output_type": "stream",
       "stream": "stdout",
       "text": [
        " : http://www.fht360.com/companylist/167-2-924.html\n",
        "0.50"
       ]
      },
      {
       "output_type": "stream",
       "stream": "stdout",
       "text": [
        " : http://www.fht360.com/productlist/377/19067-5.html\n",
        "0.49"
       ]
      },
      {
       "output_type": "stream",
       "stream": "stdout",
       "text": [
        " : http://www.fht360.com/companylist/162/3-7-927.html\n",
        "0.68"
       ]
      },
      {
       "output_type": "stream",
       "stream": "stdout",
       "text": [
        " : http://www.fht360.com/companylist/48/10068-2-2137.html\n",
        "0.15"
       ]
      },
      {
       "output_type": "stream",
       "stream": "stdout",
       "text": [
        " : http://www.fht360.com/productlist/324/78-12.html\n",
        "0.74"
       ]
      },
      {
       "output_type": "stream",
       "stream": "stdout",
       "text": [
        " : http://www.fht360.com/productlist/263/307-6-1487.html\n",
        "0.79"
       ]
      },
      {
       "output_type": "stream",
       "stream": "stdout",
       "text": [
        " : http://www.fht360.com/productlist/324/71-17.html\n",
        "0.81"
       ]
      },
      {
       "output_type": "stream",
       "stream": "stdout",
       "text": [
        " : http://www.fht360.com/productlist/293/10450-2.html\n",
        "0.74"
       ]
      },
      {
       "output_type": "stream",
       "stream": "stdout",
       "text": [
        " : http://www.fht360.com/productlist/351/5085-3-1487.html\n",
        "1.16"
       ]
      },
      {
       "output_type": "stream",
       "stream": "stdout",
       "text": [
        " : http://www.fht360.com/productlist/250/15-2-1009.html\n",
        "1.06"
       ]
      },
      {
       "output_type": "stream",
       "stream": "stdout",
       "text": [
        " : http://www.fht360.com/companylist/48/10539-2.html\n",
        "0.75"
       ]
      },
      {
       "output_type": "stream",
       "stream": "stdout",
       "text": [
        " : http://www.fht360.com/productlist/375-2-860.html\n",
        "1.05"
       ]
      },
      {
       "output_type": "stream",
       "stream": "stdout",
       "text": [
        " : http://www.fht360.com/productlist/252-4-2137.html\n",
        "0.77"
       ]
      },
      {
       "output_type": "stream",
       "stream": "stdout",
       "text": [
        " : http://www.fht360.com/productlist/231/17267-2.html\n",
        "2.16"
       ]
      },
      {
       "output_type": "stream",
       "stream": "stdout",
       "text": [
        " : http://www.fht360.com/productlist/431/11611-2.html\n",
        "0.78"
       ]
      },
      {
       "output_type": "stream",
       "stream": "stdout",
       "text": [
        " : http://www.fht360.com/productlist/227/10511-3-1.html\n",
        "0.81"
       ]
      },
      {
       "output_type": "stream",
       "stream": "stdout",
       "text": [
        " : http://www.fht360.com/productlist/356/13416-2-2137.html\n",
        "0.72"
       ]
      },
      {
       "output_type": "stream",
       "stream": "stdout",
       "text": [
        " : http://www.fht360.com/productlist/352-3-1260.html\n",
        "1.38"
       ]
      },
      {
       "output_type": "stream",
       "stream": "stdout",
       "text": [
        " : http://www.fht360.com/productlist/239/391-2-2137.html\n",
        "1.01"
       ]
      },
      {
       "output_type": "stream",
       "stream": "stdout",
       "text": [
        " : http://www.fht360.com/productlist/231/14608-2-39.html\n",
        "0.79"
       ]
      },
      {
       "output_type": "stream",
       "stream": "stdout",
       "text": [
        " : http://www.fht360.com/companylist/39/10297-2.html\n",
        "2.32"
       ]
      },
      {
       "output_type": "stream",
       "stream": "stdout",
       "text": [
        " : http://www.fht360.com/companylist/39/10296-2.html\n",
        "0.98"
       ]
      },
      {
       "output_type": "stream",
       "stream": "stdout",
       "text": [
        " : http://www.fht360.com/companylist/39/10298-2.html\n",
        "1.54"
       ]
      },
      {
       "output_type": "stream",
       "stream": "stdout",
       "text": [
        " : http://www.fht360.com/productlist/328-2-880.html\n",
        "1.04"
       ]
      },
      {
       "output_type": "stream",
       "stream": "stdout",
       "text": [
        " : http://www.fht360.com/productlist/239/10259-3.html\n",
        "1.18"
       ]
      },
      {
       "output_type": "stream",
       "stream": "stdout",
       "text": [
        " : http://www.fht360.com/productlist/325-2-1009.html\n",
        "0.82"
       ]
      },
      {
       "output_type": "stream",
       "stream": "stdout",
       "text": [
        " : http://www.fht360.com/productlist/246/13448-4-2137.html\n",
        "0.47"
       ]
      },
      {
       "output_type": "stream",
       "stream": "stdout",
       "text": [
        " : http://www.fht360.com/companylist/43-2-986.html\n",
        "0.27"
       ]
      },
      {
       "output_type": "stream",
       "stream": "stdout",
       "text": [
        " : http://www.fht360.com/productlist/324/11592-3.html\n",
        "0.46"
       ]
      },
      {
       "output_type": "stream",
       "stream": "stdout",
       "text": [
        " : http://www.fht360.com/productlist/246-1-1122.html\n",
        "0.47"
       ]
      },
      {
       "output_type": "stream",
       "stream": "stdout",
       "text": [
        " : http://www.fht360.com/companylist/165-2-191.html\n",
        "0.26"
       ]
      },
      {
       "output_type": "stream",
       "stream": "stdout",
       "text": [
        " : http://www.fht360.com/productlist/264/130-7.html\n",
        "4.33"
       ]
      },
      {
       "output_type": "stream",
       "stream": "stdout",
       "text": [
        " : http://www.fht360.com/productlist/357/5964-2.html\n",
        "3.92"
       ]
      },
      {
       "output_type": "stream",
       "stream": "stdout",
       "text": [
        " : http://www.fht360.com/productlist/233/16954-4.html\n",
        "1.45"
       ]
      },
      {
       "output_type": "stream",
       "stream": "stdout",
       "text": [
        " : http://www.fht360.com/companylist/43/10186-2.html\n",
        "0.28"
       ]
      },
      {
       "output_type": "stream",
       "stream": "stdout",
       "text": [
        " : http://www.fht360.com/productlist/246/11344-2.html\n",
        "0.48"
       ]
      },
      {
       "output_type": "stream",
       "stream": "stdout",
       "text": [
        " : http://www.fht360.com/productlist/235-10-860.html\n",
        "0.47"
       ]
      },
      {
       "output_type": "stream",
       "stream": "stdout",
       "text": [
        " : http://www.fht360.com/companylist/57-3-1488.html\n",
        "0.48"
       ]
      },
      {
       "output_type": "stream",
       "stream": "stdout",
       "text": [
        " : http://www.fht360.com/companylist/57-5-1487.html\n",
        "0.47"
       ]
      },
      {
       "output_type": "stream",
       "stream": "stdout",
       "text": [
        " : http://www.fht360.com/productlist/236-3-706.html\n",
        "1.18"
       ]
      },
      {
       "output_type": "stream",
       "stream": "stdout",
       "text": [
        " : http://www.fht360.com/productlist/253-2-1487.html\n",
        "1.01"
       ]
      },
      {
       "output_type": "stream",
       "stream": "stdout",
       "text": [
        " : http://www.fht360.com/productlist/369-2-1487.html\n",
        "0.32"
       ]
      },
      {
       "output_type": "stream",
       "stream": "stdout",
       "text": [
        " : http://www.fht360.com/productlist/236/17630-8.html\n",
        "0.25"
       ]
      },
      {
       "output_type": "stream",
       "stream": "stdout",
       "text": [
        " : http://www.fht360.com/productlist/241/517-2.html\n",
        "0.40"
       ]
      },
      {
       "output_type": "stream",
       "stream": "stdout",
       "text": [
        " : http://www.fht360.com/productlist/426/14895-2-2137.html\n",
        "0.52"
       ]
      },
      {
       "output_type": "stream",
       "stream": "stdout",
       "text": [
        " : http://www.fht360.com/productlist/231-2-1987.html\n",
        "0.33"
       ]
      },
      {
       "output_type": "stream",
       "stream": "stdout",
       "text": [
        " : http://www.fht360.com/productlist/362/13755-2.html\n",
        "0.27"
       ]
      },
      {
       "output_type": "stream",
       "stream": "stdout",
       "text": [
        " : http://www.fht360.com/productlist/238/133-2.html\n",
        "0.48"
       ]
      },
      {
       "output_type": "stream",
       "stream": "stdout",
       "text": [
        " : http://www.fht360.com/companylist/162-3-1122.html\n",
        "0.53"
       ]
      },
      {
       "output_type": "stream",
       "stream": "stdout",
       "text": [
        " : http://www.fht360.com/productlist/239-2-1857.html\n",
        "0.42"
       ]
      },
      {
       "output_type": "stream",
       "stream": "stdout",
       "text": [
        " : http://www.fht360.com/productlist/328/12422-2-1.html\n",
        "0.47"
       ]
      },
      {
       "output_type": "stream",
       "stream": "stdout",
       "text": [
        " : http://www.fht360.com/companylist/165-2-1051.html\n",
        "0.73"
       ]
      },
      {
       "output_type": "stream",
       "stream": "stdout",
       "text": [
        " : http://www.fht360.com/productlist/293-3-39.html\n",
        "0.47"
       ]
      },
      {
       "output_type": "stream",
       "stream": "stdout",
       "text": [
        " : http://www.fht360.com/productlist/246-4-39.html\n",
        "0.92"
       ]
      },
      {
       "output_type": "stream",
       "stream": "stdout",
       "text": [
        " : http://www.fht360.com/productlist/233-84-880.html\n",
        "0.98"
       ]
      },
      {
       "output_type": "stream",
       "stream": "stdout",
       "text": [
        " : http://www.fht360.com/productlist/402-4-1487.html\n",
        "0.45"
       ]
      },
      {
       "output_type": "stream",
       "stream": "stdout",
       "text": [
        " : http://www.fht360.com/productlist/379/1258-4-1662.html\n",
        "0.45"
       ]
      },
      {
       "output_type": "stream",
       "stream": "stdout",
       "text": [
        " : http://www.fht360.com/productlist/334-14-860.html\n",
        "0.67"
       ]
      },
      {
       "output_type": "stream",
       "stream": "stdout",
       "text": [
        " : http://www.fht360.com/companylist/39-17-2164.html\n",
        "0.55"
       ]
      },
      {
       "output_type": "stream",
       "stream": "stdout",
       "text": [
        " : http://www.fht360.com/companylist/39-5-2167.html\n",
        "0.76"
       ]
      },
      {
       "output_type": "stream",
       "stream": "stdout",
       "text": [
        " : http://www.fht360.com/companylist/39-8-2169.html\n",
        "0.19"
       ]
      },
      {
       "output_type": "stream",
       "stream": "stdout",
       "text": [
        " : http://www.fht360.com/productlist/241/15809-2-1487.html\n",
        "0.50"
       ]
      },
      {
       "output_type": "stream",
       "stream": "stdout",
       "text": [
        " : http://www.fht360.com/companylist/37-5-39.html\n",
        "1.20"
       ]
      },
      {
       "output_type": "stream",
       "stream": "stdout",
       "text": [
        " : http://www.fht360.com/productlist/415/36-2-2137.html\n",
        "1.32"
       ]
      },
      {
       "output_type": "stream",
       "stream": "stdout",
       "text": [
        " : http://www.fht360.com/productlist/277/89-49-39.html\n",
        "0.48"
       ]
      },
      {
       "output_type": "stream",
       "stream": "stdout",
       "text": [
        " : http://www.fht360.com/companylist/63-2-880.html\n",
        "0.80"
       ]
      },
      {
       "output_type": "stream",
       "stream": "stdout",
       "text": [
        " : http://www.fht360.com/productlist/226/8683-2.html\n",
        "0.33"
       ]
      },
      {
       "output_type": "stream",
       "stream": "stdout",
       "text": [
        " : http://www.fht360.com/productlist/248/11995-16.html\n",
        "0.51"
       ]
      },
      {
       "output_type": "stream",
       "stream": "stdout",
       "text": [
        " : http://www.fht360.com/companylist/170/10935-2.html\n",
        "0.42"
       ]
      },
      {
       "output_type": "stream",
       "stream": "stdout",
       "text": [
        " : http://www.fht360.com/productlist/410/15945-3-880.html\n",
        "0.62"
       ]
      },
      {
       "output_type": "stream",
       "stream": "stdout",
       "text": [
        " : http://www.fht360.com/companylist/50-2-1.html\n",
        "0.54"
       ]
      },
      {
       "output_type": "stream",
       "stream": "stdout",
       "text": [
        " : http://www.fht360.com/companylist/50-2-8.html\n",
        "0.18"
       ]
      },
      {
       "output_type": "stream",
       "stream": "stdout",
       "text": [
        " : http://www.fht360.com/productlist/231/772-4-1487.html\n",
        "0.40"
       ]
      },
      {
       "output_type": "stream",
       "stream": "stdout",
       "text": [
        " : http://www.fht360.com/productlist/236/394-6.html\n",
        "0.47"
       ]
      },
      {
       "output_type": "stream",
       "stream": "stdout",
       "text": [
        " : http://www.fht360.com/companylist/39/20-4.html\n",
        "0.43"
       ]
      },
      {
       "output_type": "stream",
       "stream": "stdout",
       "text": [
        " : http://www.fht360.com/companylist/37/10465-2-2137.html\n",
        "0.41"
       ]
      },
      {
       "output_type": "stream",
       "stream": "stdout",
       "text": [
        " : http://www.fht360.com/productlist/234/309-4-1487.html\n",
        "0.25"
       ]
      },
      {
       "output_type": "stream",
       "stream": "stdout",
       "text": [
        " : http://www.fht360.com/productlist/263-8-1662.html\n",
        "0.71"
       ]
      },
      {
       "output_type": "stream",
       "stream": "stdout",
       "text": [
        " : http://www.fht360.com/productlist/242/14608-3-2137.html\n",
        "0.47"
       ]
      },
      {
       "output_type": "stream",
       "stream": "stdout",
       "text": [
        " : http://www.fht360.com/companylist/164-3-40.html\n",
        "0.37"
       ]
      },
      {
       "output_type": "stream",
       "stream": "stdout",
       "text": [
        " : http://www.fht360.com/productlist/264/130-3-1487.html\n",
        "0.46"
       ]
      },
      {
       "output_type": "stream",
       "stream": "stdout",
       "text": [
        " : http://www.fht360.com/productlist/231/16292-2-1662.html\n",
        "0.58"
       ]
      },
      {
       "output_type": "stream",
       "stream": "stdout",
       "text": [
        " : http://www.fht360.com/companylist/52-3-1260.html\n",
        "0.48"
       ]
      },
      {
       "output_type": "stream",
       "stream": "stdout",
       "text": [
        " : http://www.fht360.com/companylist/48/3-3-20.html\n",
        "0.24"
       ]
      },
      {
       "output_type": "stream",
       "stream": "stdout",
       "text": [
        " : http://www.fht360.com/productlist/274/16955-7.html\n",
        "0.42"
       ]
      },
      {
       "output_type": "stream",
       "stream": "stdout",
       "text": [
        " : http://www.fht360.com/productlist/283/17227-2-860.html\n",
        "0.74"
       ]
      },
      {
       "output_type": "stream",
       "stream": "stdout",
       "text": [
        " : http://www.fht360.com/companylist/242/10535-2.html\n",
        "0.33"
       ]
      },
      {
       "output_type": "stream",
       "stream": "stdout",
       "text": [
        " : http://www.fht360.com/productlist/235/97-10.html\n",
        "0.29"
       ]
      },
      {
       "output_type": "stream",
       "stream": "stdout",
       "text": [
        " : http://www.fht360.com/productlist/235/99-5.html\n",
        "1.17"
       ]
      },
      {
       "output_type": "stream",
       "stream": "stdout",
       "text": [
        " : http://www.fht360.com/productlist/248/769-4-1487.html\n",
        "1.07"
       ]
      },
      {
       "output_type": "stream",
       "stream": "stdout",
       "text": [
        " : http://www.fht360.com/productlist/446-4-2137.html\n",
        "0.41"
       ]
      },
      {
       "output_type": "stream",
       "stream": "stdout",
       "text": [
        " : http://www.fht360.com/productlist/248/11993-2-1487.html\n",
        "0.42"
       ]
      },
      {
       "output_type": "stream",
       "stream": "stdout",
       "text": [
        " : http://www.fht360.com/productlist/226/10884-2-880.html\n",
        "0.58"
       ]
      },
      {
       "output_type": "stream",
       "stream": "stdout",
       "text": [
        " : http://www.fht360.com/companylist/51/10465-2.html\n",
        "0.49"
       ]
      },
      {
       "output_type": "stream",
       "stream": "stdout",
       "text": [
        " : http://www.fht360.com/companylist/212-4.html\n",
        "0.51"
       ]
      },
      {
       "output_type": "stream",
       "stream": "stdout",
       "text": [
        " : http://www.fht360.com/companylist/211-2.html\n",
        "0.59"
       ]
      },
      {
       "output_type": "stream",
       "stream": "stdout",
       "text": [
        " : http://www.fht360.com/companylist/219-3.html\n",
        "0.40"
       ]
      },
      {
       "output_type": "stream",
       "stream": "stdout",
       "text": [
        " : http://www.fht360.com/productlist/351/13541-3-1.html\n",
        "1.09"
       ]
      },
      {
       "output_type": "stream",
       "stream": "stdout",
       "text": [
        " : http://www.fht360.com/productlist/324-123-2137.html\n",
        "1.80"
       ]
      },
      {
       "output_type": "stream",
       "stream": "stdout",
       "text": [
        " : http://www.fht360.com/productlist/365/974-2-860.html\n",
        "1.03"
       ]
      },
      {
       "output_type": "stream",
       "stream": "stdout",
       "text": [
        " : http://www.fht360.com/companylist/162/3-2-2143.html\n",
        "0.48"
       ]
      },
      {
       "output_type": "stream",
       "stream": "stdout",
       "text": [
        " : http://www.fht360.com/companylist/162/3-2-2147.html\n",
        "0.47"
       ]
      },
      {
       "output_type": "stream",
       "stream": "stdout",
       "text": [
        " : http://www.fht360.com/companylist/162/3-3-2144.html\n",
        "0.34"
       ]
      },
      {
       "output_type": "stream",
       "stream": "stdout",
       "text": [
        " : http://www.fht360.com/productlist/246/14710-5.html\n",
        "0.47"
       ]
      },
      {
       "output_type": "stream",
       "stream": "stdout",
       "text": [
        " : http://www.fht360.com/companylist/164-7-927.html\n",
        "0.47"
       ]
      },
      {
       "output_type": "stream",
       "stream": "stdout",
       "text": [
        " : http://www.fht360.com/companylist/164-2-924.html\n",
        "0.61"
       ]
      },
      {
       "output_type": "stream",
       "stream": "stdout",
       "text": [
        " : http://www.fht360.com/productlist/324/12450-6.html\n",
        "1.39"
       ]
      },
      {
       "output_type": "stream",
       "stream": "stdout",
       "text": [
        " : http://www.fht360.com/productlist/343/79-8-1487.html\n",
        "0.93"
       ]
      },
      {
       "output_type": "stream",
       "stream": "stdout",
       "text": [
        " : http://www.fht360.com/companylist/56-5-1487.html\n",
        "0.62"
       ]
      },
      {
       "output_type": "stream",
       "stream": "stdout",
       "text": [
        " : http://www.fht360.com/companylist/56-3-1488.html\n",
        "0.37"
       ]
      },
      {
       "output_type": "stream",
       "stream": "stdout",
       "text": [
        " : http://www.fht360.com/productlist/226/7258-2-1487.html\n",
        "0.56"
       ]
      },
      {
       "output_type": "stream",
       "stream": "stdout",
       "text": [
        " : http://www.fht360.com/productlist/432-3-1009.html\n",
        "0.46"
       ]
      },
      {
       "output_type": "stream",
       "stream": "stdout",
       "text": [
        " : http://www.fht360.com/productlist/385-12-1122.html\n",
        "0.54"
       ]
      },
      {
       "output_type": "stream",
       "stream": "stdout",
       "text": [
        " : http://www.fht360.com/productlist/307-4-39.html\n",
        "0.57"
       ]
      },
      {
       "output_type": "stream",
       "stream": "stdout",
       "text": [
        " : http://www.fht360.com/productlist/255-4-2137.html\n",
        "0.48"
       ]
      },
      {
       "output_type": "stream",
       "stream": "stdout",
       "text": [
        " : http://www.fht360.com/productlist/302-2-2137.html\n",
        "0.62"
       ]
      },
      {
       "output_type": "stream",
       "stream": "stdout",
       "text": [
        " : http://www.fht360.com/productlist/227/12210-4-880.html\n",
        "0.69"
       ]
      },
      {
       "output_type": "stream",
       "stream": "stdout",
       "text": [
        " : http://www.fht360.com/companylist/165-2-1570.html\n",
        "0.44"
       ]
      },
      {
       "output_type": "stream",
       "stream": "stdout",
       "text": [
        " : http://www.fht360.com/productlist/264/10373-2-1487.html\n",
        "0.45"
       ]
      },
      {
       "output_type": "stream",
       "stream": "stdout",
       "text": [
        " : http://www.fht360.com/productlist/330/7693-3-1857.html\n",
        "0.71"
       ]
      },
      {
       "output_type": "stream",
       "stream": "stdout",
       "text": [
        " : http://www.fht360.com/productlist/237/820-2-1487.html\n",
        "0.49"
       ]
      },
      {
       "output_type": "stream",
       "stream": "stdout",
       "text": [
        " : http://www.fht360.com/newslist/24-8.html\n",
        "0.35"
       ]
      },
      {
       "output_type": "stream",
       "stream": "stdout",
       "text": [
        " : http://www.fht360.com/newslist/27-10.html\n",
        "0.49"
       ]
      },
      {
       "output_type": "stream",
       "stream": "stdout",
       "text": [
        " : http://www.fht360.com/companylist/155-2-2278.html\n",
        "0.44"
       ]
      },
      {
       "output_type": "stream",
       "stream": "stdout",
       "text": [
        " : http://www.fht360.com/productlist/247-1-1122.html\n",
        "0.58"
       ]
      },
      {
       "output_type": "stream",
       "stream": "stdout",
       "text": [
        " : http://www.fht360.com/productlist/237/864-2-1487.html\n",
        "4.60"
       ]
      },
      {
       "output_type": "stream",
       "stream": "stdout",
       "text": [
        " : http://www.fht360.com/productlist/341/12620-2-860.html\n",
        "0.45"
       ]
      },
      {
       "output_type": "stream",
       "stream": "stdout",
       "text": [
        " : http://www.fht360.com/productlist/412-3-1009.html\n",
        "2.09"
       ]
      },
      {
       "output_type": "stream",
       "stream": "stdout",
       "text": [
        " : http://www.fht360.com/companylist/48/3-2-1858.html\n",
        "1.16"
       ]
      },
      {
       "output_type": "stream",
       "stream": "stdout",
       "text": [
        " : http://www.fht360.com/companylist/48/3-3-1857.html\n",
        "0.49"
       ]
      },
      {
       "output_type": "stream",
       "stream": "stdout",
       "text": [
        " : http://www.fht360.com/productlist/345-3-39.html\n",
        "0.39"
       ]
      },
      {
       "output_type": "stream",
       "stream": "stdout",
       "text": [
        " : http://www.fht360.com/productlist/322/14820-4-2137.html\n",
        "0.70"
       ]
      },
      {
       "output_type": "stream",
       "stream": "stdout",
       "text": [
        " : http://www.fht360.com/companylist/148/10270-2.html\n",
        "0.26"
       ]
      },
      {
       "output_type": "stream",
       "stream": "stdout",
       "text": [
        " : http://www.fht360.com/productlist/324/10008-3.html\n",
        "0.26"
       ]
      },
      {
       "output_type": "stream",
       "stream": "stdout",
       "text": [
        " : http://www.fht360.com/productlist/324/10009-2.html\n",
        "0.43"
       ]
      },
      {
       "output_type": "stream",
       "stream": "stdout",
       "text": [
        " : http://www.fht360.com/productlist/255/635-2-2137.html\n",
        "0.16"
       ]
      },
      {
       "output_type": "stream",
       "stream": "stdout",
       "text": [
        " : http://www.fht360.com/productlist/324/10003-19.html\n",
        "0.47"
       ]
      },
      {
       "output_type": "stream",
       "stream": "stdout",
       "text": [
        " : http://www.fht360.com/productlist/324/10007-2.html\n",
        "0.38"
       ]
      },
      {
       "output_type": "stream",
       "stream": "stdout",
       "text": [
        " : http://www.fht360.com/productlist/324/10004-2.html\n",
        "0.33"
       ]
      },
      {
       "output_type": "stream",
       "stream": "stdout",
       "text": [
        " : http://www.fht360.com/productlist/260/640-15.html\n",
        "0.56"
       ]
      },
      {
       "output_type": "stream",
       "stream": "stdout",
       "text": [
        " : http://www.fht360.com/productlist/264/10370-2.html\n",
        "0.71"
       ]
      },
      {
       "output_type": "stream",
       "stream": "stdout",
       "text": [
        " : http://www.fht360.com/productlist/238/130-3-1487.html\n",
        "1.91"
       ]
      },
      {
       "output_type": "stream",
       "stream": "stdout",
       "text": [
        " : http://www.fht360.com/productlist/335/7717-2-880.html\n",
        "0.58"
       ]
      },
      {
       "output_type": "stream",
       "stream": "stdout",
       "text": [
        " : http://www.fht360.com/productlist/239/713-3-1487.html\n",
        "0.38"
       ]
      },
      {
       "output_type": "stream",
       "stream": "stdout",
       "text": [
        " : http://www.fht360.com/productlist/234-3-1987.html\n",
        "0.43"
       ]
      },
      {
       "output_type": "stream",
       "stream": "stdout",
       "text": [
        " : http://www.fht360.com/productlist/250/1675-2.html\n",
        "2.16"
       ]
      },
      {
       "output_type": "stream",
       "stream": "stdout",
       "text": [
        " : http://www.fht360.com/productlist/318/10072-2.html\n",
        "0.52"
       ]
      },
      {
       "output_type": "stream",
       "stream": "stdout",
       "text": [
        " : http://www.fht360.com/productlist/246/12329-2-706.html\n",
        "1.41"
       ]
      },
      {
       "output_type": "stream",
       "stream": "stdout",
       "text": [
        " : http://www.fht360.com/companylist/58/266-2.html\n",
        "0.36"
       ]
      },
      {
       "output_type": "stream",
       "stream": "stdout",
       "text": [
        " : http://www.fht360.com/productlist/324/12319-2.html\n",
        "0.47"
       ]
      },
      {
       "output_type": "stream",
       "stream": "stdout",
       "text": [
        " : http://www.fht360.com/companylist/87/288-2.html\n",
        "0.44"
       ]
      },
      {
       "output_type": "stream",
       "stream": "stdout",
       "text": [
        " : http://www.fht360.com/productlist/335/3408-2-1260.html\n",
        "0.48"
       ]
      },
      {
       "output_type": "stream",
       "stream": "stdout",
       "text": [
        " : http://www.fht360.com/companylist/48-4-1010.html\n",
        "0.59"
       ]
      },
      {
       "output_type": "stream",
       "stream": "stdout",
       "text": [
        " : http://www.fht360.com/companylist/49-3-1260.html\n",
        "0.28"
       ]
      },
      {
       "output_type": "stream",
       "stream": "stdout",
       "text": [
        " : http://www.fht360.com/productlist/367/13627-3.html\n",
        "0.26"
       ]
      },
      {
       "output_type": "stream",
       "stream": "stdout",
       "text": [
        " : http://www.fht360.com/productlist/293-8-880.html\n",
        "0.38"
       ]
      },
      {
       "output_type": "stream",
       "stream": "stdout",
       "text": [
        " : http://www.fht360.com/productlist/246/13447-2-1009.html\n",
        "0.48"
       ]
      },
      {
       "output_type": "stream",
       "stream": "stdout",
       "text": [
        " : http://www.fht360.com/productlist/385-4-1.html\n",
        "0.59"
       ]
      },
      {
       "output_type": "stream",
       "stream": "stdout",
       "text": [
        " : http://www.fht360.com/companylist/77/8-2-986.html\n",
        "0.50"
       ]
      },
      {
       "output_type": "stream",
       "stream": "stdout",
       "text": [
        " : http://www.fht360.com/companylist/93/10833-2-2164.html\n",
        "0.50"
       ]
      },
      {
       "output_type": "stream",
       "stream": "stdout",
       "text": [
        " : http://www.fht360.com/productlist/274/11137-10-39.html\n",
        "0.43"
       ]
      },
      {
       "output_type": "stream",
       "stream": "stdout",
       "text": [
        " : http://www.fht360.com/productlist/231/15724-2-1009.html\n",
        "0.52"
       ]
      },
      {
       "output_type": "stream",
       "stream": "stdout",
       "text": [
        " : http://www.fht360.com/productlist/357/11330-2-39.html\n",
        "0.53"
       ]
      },
      {
       "output_type": "stream",
       "stream": "stdout",
       "text": [
        " : http://www.fht360.com/companylist/39/10502-2.html\n",
        "0.58"
       ]
      },
      {
       "output_type": "stream",
       "stream": "stdout",
       "text": [
        " : http://www.fht360.com/companylist/162-13-1009.html\n",
        "0.26"
       ]
      },
      {
       "output_type": "stream",
       "stream": "stdout",
       "text": [
        " : http://www.fht360.com/productlist/351/13627-3.html\n",
        "1.37"
       ]
      },
      {
       "output_type": "stream",
       "stream": "stdout",
       "text": [
        " : http://www.fht360.com/productlist/239/340-14-880.html\n",
        "0.25"
       ]
      },
      {
       "output_type": "stream",
       "stream": "stdout",
       "text": [
        " : http://www.fht360.com/productlist/359-3-706.html\n",
        "0.38"
       ]
      },
      {
       "output_type": "stream",
       "stream": "stdout",
       "text": [
        " : http://www.fht360.com/productlist/249-7-860.html\n",
        "1.33"
       ]
      },
      {
       "output_type": "stream",
       "stream": "stdout",
       "text": [
        " : http://www.fht360.com/companylist/48-182.html\n",
        "0.25"
       ]
      },
      {
       "output_type": "stream",
       "stream": "stdout",
       "text": [
        " : http://www.fht360.com/productlist/255/655-2-880.html\n",
        "0.99"
       ]
      },
      {
       "output_type": "stream",
       "stream": "stdout",
       "text": [
        " : http://www.fht360.com/productlist/250/17-10.html\n",
        "0.33"
       ]
      },
      {
       "output_type": "stream",
       "stream": "stdout",
       "text": [
        " : http://www.fht360.com/productlist/250/15-21.html\n",
        "0.31"
       ]
      },
      {
       "output_type": "stream",
       "stream": "stdout",
       "text": [
        " : http://www.fht360.com/productlist/250/14-16.html\n",
        "0.48"
       ]
      },
      {
       "output_type": "stream",
       "stream": "stdout",
       "text": [
        " : http://www.fht360.com/companylist/48/3-12-2164.html\n",
        "0.48"
       ]
      },
      {
       "output_type": "stream",
       "stream": "stdout",
       "text": [
        " : http://www.fht360.com/companylist/48/3-6-2169.html\n",
        "0.42"
       ]
      },
      {
       "output_type": "stream",
       "stream": "stdout",
       "text": [
        " : http://www.fht360.com/productlist/249/150-2-39.html\n",
        "0.47"
       ]
      },
      {
       "output_type": "stream",
       "stream": "stdout",
       "text": [
        " : http://www.fht360.com/companylist/165/3-6-221.html\n",
        "0.47"
       ]
      },
      {
       "output_type": "stream",
       "stream": "stdout",
       "text": [
        " : http://www.fht360.com/companylist/165/3-2-223.html\n",
        "0.47"
       ]
      },
      {
       "output_type": "stream",
       "stream": "stdout",
       "text": [
        " : http://www.fht360.com/companylist/165/3-3-228.html\n",
        "0.26"
       ]
      },
      {
       "output_type": "stream",
       "stream": "stdout",
       "text": [
        " : http://www.fht360.com/productlist/236/186-5.html\n",
        "0.42"
       ]
      },
      {
       "output_type": "stream",
       "stream": "stdout",
       "text": [
        " : http://www.fht360.com/productlist/428/14738-3-1009.html\n",
        "0.39"
       ]
      },
      {
       "output_type": "stream",
       "stream": "stdout",
       "text": [
        " : http://www.fht360.com/productlist/432/14895-2-2137.html\n",
        "0.44"
       ]
      },
      {
       "output_type": "stream",
       "stream": "stdout",
       "text": [
        " : http://www.fht360.com/productlist/302/11850-2-1662.html\n",
        "0.47"
       ]
      },
      {
       "output_type": "stream",
       "stream": "stdout",
       "text": [
        " : http://www.fht360.com/companylist/164-22-880.html\n",
        "0.47"
       ]
      },
      {
       "output_type": "stream",
       "stream": "stdout",
       "text": [
        " : http://www.fht360.com/companylist/164-2-881.html\n",
        "0.49"
       ]
      },
      {
       "output_type": "stream",
       "stream": "stdout",
       "text": [
        " : http://www.fht360.com/companylist/134-2-2137.html\n",
        "0.74"
       ]
      },
      {
       "output_type": "stream",
       "stream": "stdout",
       "text": [
        " : http://www.fht360.com/productlist/235/18808-7-2137.html\n",
        "0.53"
       ]
      },
      {
       "output_type": "stream",
       "stream": "stdout",
       "text": [
        " : http://www.fht360.com/productlist/340-8-1009.html\n",
        "0.44"
       ]
      },
      {
       "output_type": "stream",
       "stream": "stdout",
       "text": [
        " : http://www.fht360.com/productlist/438/10003-2-880.html\n",
        "1.50"
       ]
      },
      {
       "output_type": "stream",
       "stream": "stdout",
       "text": [
        " : http://www.fht360.com/productlist/235/89-49-39.html\n",
        "0.49"
       ]
      },
      {
       "output_type": "stream",
       "stream": "stdout",
       "text": [
        " : http://www.fht360.com/companylist/81-2-39.html\n",
        "0.92"
       ]
      },
      {
       "output_type": "stream",
       "stream": "stdout",
       "text": [
        " : http://www.fht360.com/productlist/235/16955-3-2137.html\n",
        "0.44"
       ]
      },
      {
       "output_type": "stream",
       "stream": "stdout",
       "text": [
        " : http://www.fht360.com/productlist/266-2-880.html\n",
        "0.51"
       ]
      },
      {
       "output_type": "stream",
       "stream": "stdout",
       "text": [
        " : http://www.fht360.com/productlist/324-2-706.html\n",
        "0.65"
       ]
      },
      {
       "output_type": "stream",
       "stream": "stdout",
       "text": [
        " : http://www.fht360.com/productlist/239/13320-2-1009.html\n",
        "0.45"
       ]
      },
      {
       "output_type": "stream",
       "stream": "stdout",
       "text": [
        " : http://www.fht360.com/companylist/243/10832-2.html\n",
        "0.44"
       ]
      },
      {
       "output_type": "stream",
       "stream": "stdout",
       "text": [
        " : http://www.fht360.com/productlist/233/15916-2-860.html\n",
        "0.36"
       ]
      },
      {
       "output_type": "stream",
       "stream": "stdout",
       "text": [
        " : http://www.fht360.com/productlist/233/16888-2-39.html\n",
        "1.52"
       ]
      },
      {
       "output_type": "stream",
       "stream": "stdout",
       "text": [
        " : http://www.fht360.com/productlist/301-29-39.html\n",
        "0.63"
       ]
      },
      {
       "output_type": "stream",
       "stream": "stdout",
       "text": [
        " : http://www.fht360.com/productlist/423-2-39.html\n",
        "0.89"
       ]
      },
      {
       "output_type": "stream",
       "stream": "stdout",
       "text": [
        " : http://www.fht360.com/productlist/324/11675-7-2137.html\n",
        "2.23"
       ]
      },
      {
       "output_type": "stream",
       "stream": "stdout",
       "text": [
        " : http://www.fht360.com/productlist/446/9180-2-1662.html\n",
        "0.43"
       ]
      },
      {
       "output_type": "stream",
       "stream": "stdout",
       "text": [
        " : http://www.fht360.com/productlist/337/13448-2-1487.html\n",
        "0.42"
       ]
      },
      {
       "output_type": "stream",
       "stream": "stdout",
       "text": [
        " : http://www.fht360.com/productlist/433/11350-2-1.html\n",
        "0.41"
       ]
      },
      {
       "output_type": "stream",
       "stream": "stdout",
       "text": [
        " : http://www.fht360.com/productlist/307-2-880.html\n",
        "0.47"
       ]
      },
      {
       "output_type": "stream",
       "stream": "stdout",
       "text": [
        " : http://www.fht360.com/productlist/410/15945-5-39.html\n",
        "0.42"
       ]
      },
      {
       "output_type": "stream",
       "stream": "stdout",
       "text": [
        " : http://www.fht360.com/productlist/260/640-2-2137.html\n",
        "0.69"
       ]
      },
      {
       "output_type": "stream",
       "stream": "stdout",
       "text": [
        " : http://www.fht360.com/companylist/176/10035-2.html\n",
        "0.31"
       ]
      },
      {
       "output_type": "stream",
       "stream": "stdout",
       "text": [
        " : http://www.fht360.com/productlist/246-3-2508.html\n",
        "0.26"
       ]
      },
      {
       "output_type": "stream",
       "stream": "stdout",
       "text": [
        " : http://www.fht360.com/productlist/245/7898-3.html\n",
        "0.42"
       ]
      },
      {
       "output_type": "stream",
       "stream": "stdout",
       "text": [
        " : http://www.fht360.com/productlist/248/12001-5.html\n",
        "0.28"
       ]
      },
      {
       "output_type": "stream",
       "stream": "stdout",
       "text": [
        " : http://www.fht360.com/productlist/248/12000-14.html\n",
        "0.27"
       ]
      },
      {
       "output_type": "stream",
       "stream": "stdout",
       "text": [
        " : http://www.fht360.com/productlist/226/10828-2.html\n",
        "0.33"
       ]
      },
      {
       "output_type": "stream",
       "stream": "stdout",
       "text": [
        " : http://www.fht360.com/productlist/423/10528-10.html\n",
        "0.52"
       ]
      },
      {
       "output_type": "stream",
       "stream": "stdout",
       "text": [
        " : http://www.fht360.com/companylist/162/3-24-1487.html\n",
        "0.48"
       ]
      },
      {
       "output_type": "stream",
       "stream": "stdout",
       "text": [
        " : http://www.fht360.com/companylist/162/3-3-1488.html\n",
        "0.61"
       ]
      },
      {
       "output_type": "stream",
       "stream": "stdout",
       "text": [
        " : http://www.fht360.com/productlist/237/193-2-39.html\n",
        "0.67"
       ]
      },
      {
       "output_type": "stream",
       "stream": "stdout",
       "text": [
        " : http://www.fht360.com/productlist/242-2-39.html\n",
        "0.52"
       ]
      },
      {
       "output_type": "stream",
       "stream": "stdout",
       "text": [
        " : http://www.fht360.com/companylist/48-2-499.html\n",
        "4.42"
       ]
      },
      {
       "output_type": "stream",
       "stream": "stdout",
       "text": [
        " : http://www.fht360.com/productlist/264-3-860.html\n",
        "0.40"
       ]
      },
      {
       "output_type": "stream",
       "stream": "stdout",
       "text": [
        " : http://www.fht360.com/productlist/351/13679-2-2137.html\n",
        "0.50"
       ]
      },
      {
       "output_type": "stream",
       "stream": "stdout",
       "text": [
        " : http://www.fht360.com/productlist/261/288-4-1487.html\n",
        "1.30"
       ]
      },
      {
       "output_type": "stream",
       "stream": "stdout",
       "text": [
        " : http://www.fht360.com/companylist/50/10833-2-2164.html\n",
        "0.65"
       ]
      },
      {
       "output_type": "stream",
       "stream": "stdout",
       "text": [
        " : http://www.fht360.com/productlist/280-2-1122.html\n",
        "0.30"
       ]
      },
      {
       "output_type": "stream",
       "stream": "stdout",
       "text": [
        " : http://www.fht360.com/productlist/289-4.html\n",
        "0.46"
       ]
      },
      {
       "output_type": "stream",
       "stream": "stdout",
       "text": [
        " : http://www.fht360.com/productlist/231/11042-2-860.html\n",
        "1.43"
       ]
      },
      {
       "output_type": "stream",
       "stream": "stdout",
       "text": [
        " : http://www.fht360.com/productlist/437-3-1487.html\n",
        "0.50"
       ]
      },
      {
       "output_type": "stream",
       "stream": "stdout",
       "text": [
        " : http://www.fht360.com/companylist/34-10-2137.html\n",
        "0.67"
       ]
      },
      {
       "output_type": "stream",
       "stream": "stdout",
       "text": [
        " : http://www.fht360.com/companylist/34-2-2138.html\n",
        "0.59"
       ]
      },
      {
       "output_type": "stream",
       "stream": "stdout",
       "text": [
        " : http://www.fht360.com/productlist/301/7908-2-1487.html\n",
        "0.32"
       ]
      },
      {
       "output_type": "stream",
       "stream": "stdout",
       "text": [
        " : http://www.fht360.com/productlist/235/16322-2.html\n",
        "0.44"
       ]
      },
      {
       "output_type": "stream",
       "stream": "stdout",
       "text": [
        " : http://www.fht360.com/productlist/304-2-1009.html\n",
        "0.55"
       ]
      },
      {
       "output_type": "stream",
       "stream": "stdout",
       "text": [
        " : http://www.fht360.com/companylist/49-6-2164.html\n",
        "0.65"
       ]
      },
      {
       "output_type": "stream",
       "stream": "stdout",
       "text": [
        " : http://www.fht360.com/companylist/49-2-2169.html\n",
        "0.37"
       ]
      },
      {
       "output_type": "stream",
       "stream": "stdout",
       "text": [
        " : http://www.fht360.com/productlist/351/13614-3-860.html\n",
        "0.11"
       ]
      },
      {
       "output_type": "stream",
       "stream": "stdout",
       "text": [
        " : http://www.fht360.com/productlist/248/772-4.html\n",
        "1.49"
       ]
      },
      {
       "output_type": "stream",
       "stream": "stdout",
       "text": [
        " : http://www.fht360.com/productlist/433/13974-2-2137.html\n",
        "1.14"
       ]
      },
      {
       "output_type": "stream",
       "stream": "stdout",
       "text": [
        " : http://www.fht360.com/companylist/130-2-2137.html\n",
        "0.25"
       ]
      },
      {
       "output_type": "stream",
       "stream": "stdout",
       "text": [
        " : http://www.fht360.com/productlist/262/2125-2.html\n",
        "0.45"
       ]
      },
      {
       "output_type": "stream",
       "stream": "stdout",
       "text": [
        " : http://www.fht360.com/productlist/301-13-2137.html\n",
        "0.13"
       ]
      },
      {
       "output_type": "stream",
       "stream": "stdout",
       "text": [
        " : http://www.fht360.com/productlist/282-4.html\n",
        "0.44"
       ]
      },
      {
       "output_type": "stream",
       "stream": "stdout",
       "text": [
        " : http://www.fht360.com/productlist/266/10320-3-1662.html\n",
        "0.58"
       ]
      },
      {
       "output_type": "stream",
       "stream": "stdout",
       "text": [
        " : http://www.fht360.com/companylist/41/10317-2.html\n",
        "0.76"
       ]
      },
      {
       "output_type": "stream",
       "stream": "stdout",
       "text": [
        " : http://www.fht360.com/productlist/283-103.html\n",
        "1.06"
       ]
      },
      {
       "output_type": "stream",
       "stream": "stdout",
       "text": [
        " : http://www.fht360.com/productlist/235/15161-2-860.html\n",
        "0.50"
       ]
      },
      {
       "output_type": "stream",
       "stream": "stdout",
       "text": [
        " : http://www.fht360.com/companylist/57/4-10.html\n",
        "0.57"
       ]
      },
      {
       "output_type": "stream",
       "stream": "stdout",
       "text": [
        " : http://www.fht360.com/companylist/186-2.html\n",
        "0.52"
       ]
      },
      {
       "output_type": "stream",
       "stream": "stdout",
       "text": [
        " : http://www.fht360.com/companylist/184-4.html\n",
        "0.47"
       ]
      },
      {
       "output_type": "stream",
       "stream": "stdout",
       "text": [
        " : http://www.fht360.com/companylist/183-3.html\n",
        "0.53"
       ]
      },
      {
       "output_type": "stream",
       "stream": "stdout",
       "text": [
        " : http://www.fht360.com/companylist/182-2.html\n",
        "0.52"
       ]
      },
      {
       "output_type": "stream",
       "stream": "stdout",
       "text": [
        " : http://www.fht360.com/companylist/181-2.html\n",
        "0.46"
       ]
      },
      {
       "output_type": "stream",
       "stream": "stdout",
       "text": [
        " : http://www.fht360.com/companylist/180-2.html\n",
        "0.57"
       ]
      },
      {
       "output_type": "stream",
       "stream": "stdout",
       "text": [
        " : http://www.fht360.com/companylist/189-4.html\n",
        "0.59"
       ]
      },
      {
       "output_type": "stream",
       "stream": "stdout",
       "text": [
        " : http://www.fht360.com/companylist/188-2.html\n",
        "0.84"
       ]
      },
      {
       "output_type": "stream",
       "stream": "stdout",
       "text": [
        " : http://www.fht360.com/productlist/371-10-2137.html\n",
        "0.57"
       ]
      },
      {
       "output_type": "stream",
       "stream": "stdout",
       "text": [
        " : http://www.fht360.com/productlist/231/15525-2-2137.html\n",
        "0.32"
       ]
      },
      {
       "output_type": "stream",
       "stream": "stdout",
       "text": [
        " : http://www.fht360.com/productlist/239/1104-2.html\n",
        "0.50"
       ]
      },
      {
       "output_type": "stream",
       "stream": "stdout",
       "text": [
        " : http://www.fht360.com/companylist/167-5-2186.html\n",
        "0.48"
       ]
      },
      {
       "output_type": "stream",
       "stream": "stdout",
       "text": [
        " : http://www.fht360.com/companylist/167-2-2189.html\n",
        "0.48"
       ]
      },
      {
       "output_type": "stream",
       "stream": "stdout",
       "text": [
        " : http://www.fht360.com/companylist/48/3-5-1663.html\n",
        "0.24"
       ]
      },
      {
       "output_type": "stream",
       "stream": "stdout",
       "text": [
        " : http://www.fht360.com/productlist/240/16951-3.html\n",
        "0.47"
       ]
      },
      {
       "output_type": "stream",
       "stream": "stdout",
       "text": [
        " : http://www.fht360.com/companylist/167-2-1987.html\n",
        "0.52"
       ]
      },
      {
       "output_type": "stream",
       "stream": "stdout",
       "text": [
        " : http://www.fht360.com/productlist/412/52-15-860.html\n",
        "0.54"
       ]
      },
      {
       "output_type": "stream",
       "stream": "stdout",
       "text": [
        " : http://www.fht360.com/productlist/258-2-1662.html\n",
        "0.91"
       ]
      },
      {
       "output_type": "stream",
       "stream": "stdout",
       "text": [
        " : http://www.fht360.com/productlist/343-2-860.html\n",
        "1.22"
       ]
      },
      {
       "output_type": "stream",
       "stream": "stdout",
       "text": [
        " : http://www.fht360.com/productlist/415-17-39.html\n",
        "0.28"
       ]
      },
      {
       "output_type": "stream",
       "stream": "stdout",
       "text": [
        " : http://www.fht360.com/productlist/246-2-1857.html\n",
        "0.26"
       ]
      },
      {
       "output_type": "stream",
       "stream": "stdout",
       "text": [
        " : http://www.fht360.com/productlist/233/656-2.html\n",
        "0.45"
       ]
      },
      {
       "output_type": "stream",
       "stream": "stdout",
       "text": [
        " : http://www.fht360.com/productlist/432-6-39.html\n",
        "0.28"
       ]
      },
      {
       "output_type": "stream",
       "stream": "stdout",
       "text": [
        " : http://www.fht360.com/productlist/233/655-2.html\n",
        "0.23"
       ]
      },
      {
       "output_type": "stream",
       "stream": "stdout",
       "text": [
        " : http://www.fht360.com/productlist/299/225-2.html\n",
        "0.45"
       ]
      },
      {
       "output_type": "stream",
       "stream": "stdout",
       "text": [
        " : http://www.fht360.com/productlist/237-7-1009.html\n",
        "0.34"
       ]
      },
      {
       "output_type": "stream",
       "stream": "stdout",
       "text": [
        " : http://www.fht360.com/productlist/227/65-2.html\n",
        "0.36"
       ]
      },
      {
       "output_type": "stream",
       "stream": "stdout",
       "text": [
        " : http://www.fht360.com/productlist/252/16667-3-2137.html\n",
        "0.26"
       ]
      },
      {
       "output_type": "stream",
       "stream": "stdout",
       "text": [
        " : http://www.fht360.com/productlist/269/188-7.html\n",
        "0.61"
       ]
      },
      {
       "output_type": "stream",
       "stream": "stdout",
       "text": [
        " : http://www.fht360.com/productlist/385-6-2137.html\n",
        "1.13"
       ]
      },
      {
       "output_type": "stream",
       "stream": "stdout",
       "text": [
        " : http://www.fht360.com/companylist/34-2-1122.html\n",
        "0.98"
       ]
      },
      {
       "output_type": "stream",
       "stream": "stdout",
       "text": [
        " : http://www.fht360.com/productlist/247/13237-4-2137.html\n",
        "1.25"
       ]
      },
      {
       "output_type": "stream",
       "stream": "stdout",
       "text": [
        " : http://www.fht360.com/productlist/356-3-880.html\n",
        "0.49"
       ]
      },
      {
       "output_type": "stream",
       "stream": "stdout",
       "text": [
        " : http://www.fht360.com/productlist/326/70-2-860.html\n",
        "0.48"
       ]
      },
      {
       "output_type": "stream",
       "stream": "stdout",
       "text": [
        " : http://www.fht360.com/companylist/165/3-2-1364.html\n",
        "0.47"
       ]
      },
      {
       "output_type": "stream",
       "stream": "stdout",
       "text": [
        " : http://www.fht360.com/companylist/51-2-2138.html\n",
        "0.71"
       ]
      },
      {
       "output_type": "stream",
       "stream": "stdout",
       "text": [
        " : http://www.fht360.com/productlist/415/36-29.html\n",
        "0.25"
       ]
      },
      {
       "output_type": "stream",
       "stream": "stdout",
       "text": [
        " : http://www.fht360.com/productlist/262-5-860.html\n",
        "0.72"
       ]
      },
      {
       "output_type": "stream",
       "stream": "stdout",
       "text": [
        " : http://www.fht360.com/productlist/433/51-2-1122.html\n",
        "0.63"
       ]
      },
      {
       "output_type": "stream",
       "stream": "stdout",
       "text": [
        " : http://www.fht360.com/productlist/234/10288-2-1662.html\n",
        "0.42"
       ]
      },
      {
       "output_type": "stream",
       "stream": "stdout",
       "text": [
        " : http://www.fht360.com/companylist/50/10796-2.html\n",
        "0.43"
       ]
      },
      {
       "output_type": "stream",
       "stream": "stdout",
       "text": [
        " : http://www.fht360.com/productlist/329/12632-2.html\n",
        "0.44"
       ]
      },
      {
       "output_type": "stream",
       "stream": "stdout",
       "text": [
        " : http://www.fht360.com/productlist/303/9392-2.html\n",
        "0.51"
       ]
      },
      {
       "output_type": "stream",
       "stream": "stdout",
       "text": [
        " : http://www.fht360.com/companylist/79/10465-2.html\n",
        "0.50"
       ]
      },
      {
       "output_type": "stream",
       "stream": "stdout",
       "text": [
        " : http://www.fht360.com/companylist/79/10463-2.html\n",
        "0.53"
       ]
      },
      {
       "output_type": "stream",
       "stream": "stdout",
       "text": [
        " : http://www.fht360.com/companylist/39-3-1.html\n",
        "0.57"
       ]
      },
      {
       "output_type": "stream",
       "stream": "stdout",
       "text": [
        " : http://www.fht360.com/productlist/324/11592-2-2137.html\n",
        "1.96"
       ]
      },
      {
       "output_type": "stream",
       "stream": "stdout",
       "text": [
        " : http://www.fht360.com/productlist/235-110-1487.html\n",
        "0.83"
       ]
      },
      {
       "output_type": "stream",
       "stream": "stdout",
       "text": [
        " : http://www.fht360.com/productlist/424/14826-5-2137.html\n",
        "0.62"
       ]
      },
      {
       "output_type": "stream",
       "stream": "stdout",
       "text": [
        " : http://www.fht360.com/companylist/49/10693-2.html\n",
        "1.32"
       ]
      },
      {
       "output_type": "stream",
       "stream": "stdout",
       "text": [
        " : http://www.fht360.com/productlist/432/14833-2-860.html\n",
        "1.12"
       ]
      },
      {
       "output_type": "stream",
       "stream": "stdout",
       "text": [
        " : http://www.fht360.com/companylist/59/10811-2.html\n",
        "0.56"
       ]
      },
      {
       "output_type": "stream",
       "stream": "stdout",
       "text": [
        " : http://www.fht360.com/companylist/59/10810-2.html\n",
        "0.48"
       ]
      },
      {
       "output_type": "stream",
       "stream": "stdout",
       "text": [
        " : http://www.fht360.com/companylist/59/10813-2.html\n",
        "0.46"
       ]
      },
      {
       "output_type": "stream",
       "stream": "stdout",
       "text": [
        " : http://www.fht360.com/companylist/59/10814-2.html\n",
        "0.48"
       ]
      },
      {
       "output_type": "stream",
       "stream": "stdout",
       "text": [
        " : http://www.fht360.com/companylist/164/3-2-938.html\n",
        "0.47"
       ]
      },
      {
       "output_type": "stream",
       "stream": "stdout",
       "text": [
        " : http://www.fht360.com/companylist/165/3-3-40.html\n",
        "0.56"
       ]
      },
      {
       "output_type": "stream",
       "stream": "stdout",
       "text": [
        " : http://www.fht360.com/companylist/49/10035-2.html\n",
        "0.45"
       ]
      },
      {
       "output_type": "stream",
       "stream": "stdout",
       "text": [
        " : http://www.fht360.com/productlist/351/13561-2-1009.html\n",
        "0.36"
       ]
      },
      {
       "output_type": "stream",
       "stream": "stdout",
       "text": [
        " : http://www.fht360.com/productlist/331/10011-3-1487.html\n",
        "0.46"
       ]
      },
      {
       "output_type": "stream",
       "stream": "stdout",
       "text": [
        " : http://www.fht360.com/productlist/236-10-1487.html\n",
        "0.55"
       ]
      },
      {
       "output_type": "stream",
       "stream": "stdout",
       "text": [
        " : http://www.fht360.com/productlist/226-3-20.html\n",
        "0.14"
       ]
      },
      {
       "output_type": "stream",
       "stream": "stdout",
       "text": [
        " : http://www.fht360.com/productlist/227/12141-3.html\n",
        "0.48"
       ]
      },
      {
       "output_type": "stream",
       "stream": "stdout",
       "text": [
        " : http://www.fht360.com/companylist/48/3-3-2144.html\n",
        "0.25"
       ]
      },
      {
       "output_type": "stream",
       "stream": "stdout",
       "text": [
        " : http://www.fht360.com/productlist/272/18808-8.html\n",
        "0.47"
       ]
      },
      {
       "output_type": "stream",
       "stream": "stdout",
       "text": [
        " : http://www.fht360.com/companylist/167-5-1663.html\n",
        "0.48"
       ]
      },
      {
       "output_type": "stream",
       "stream": "stdout",
       "text": [
        " : http://www.fht360.com/companylist/167-10-1662.html\n",
        "0.47"
       ]
      },
      {
       "output_type": "stream",
       "stream": "stdout",
       "text": [
        " : http://www.fht360.com/companylist/167-2-1668.html\n",
        "0.36"
       ]
      },
      {
       "output_type": "stream",
       "stream": "stdout",
       "text": [
        " : http://www.fht360.com/productlist/298/864-5.html\n",
        "0.49"
       ]
      },
      {
       "output_type": "stream",
       "stream": "stdout",
       "text": [
        " : http://www.fht360.com/productlist/335-2-1.html\n",
        "0.42"
       ]
      },
      {
       "output_type": "stream",
       "stream": "stdout",
       "text": [
        " : http://www.fht360.com/productlist/262-2-1009.html\n",
        "4.28"
       ]
      },
      {
       "output_type": "stream",
       "stream": "stdout",
       "text": [
        " : http://www.fht360.com/companylist/165/3-2-2508.html\n",
        "1.69"
       ]
      },
      {
       "output_type": "stream",
       "stream": "stdout",
       "text": [
        " : http://www.fht360.com/productlist/233/258-14.html\n",
        "0.45"
       ]
      },
      {
       "output_type": "stream",
       "stream": "stdout",
       "text": [
        " : http://www.fht360.com/productlist/236/1951-7-1009.html\n",
        "0.34"
       ]
      },
      {
       "output_type": "stream",
       "stream": "stdout",
       "text": [
        " : http://www.fht360.com/productlist/324/12439-5.html\n",
        "0.25"
       ]
      },
      {
       "output_type": "stream",
       "stream": "stdout",
       "text": [
        " : http://www.fht360.com/productlist/307/10828-2.html\n",
        "0.78"
       ]
      },
      {
       "output_type": "stream",
       "stream": "stdout",
       "text": [
        " : http://www.fht360.com/companylist/96/10475-2.html\n",
        "0.48"
       ]
      },
      {
       "output_type": "stream",
       "stream": "stdout",
       "text": [
        " : http://www.fht360.com/companylist/48/3-2-1581.html\n",
        "0.29"
       ]
      },
      {
       "output_type": "stream",
       "stream": "stdout",
       "text": [
        " : http://www.fht360.com/productlist/231/11114-2.html\n",
        "0.57"
       ]
      },
      {
       "output_type": "stream",
       "stream": "stdout",
       "text": [
        " : http://www.fht360.com/productlist/231/14608-3-1662.html\n",
        "0.31"
       ]
      },
      {
       "output_type": "stream",
       "stream": "stdout",
       "text": [
        " : http://www.fht360.com/productlist/326/7897-4.html\n",
        "0.38"
       ]
      },
      {
       "output_type": "stream",
       "stream": "stdout",
       "text": [
        " : http://www.fht360.com/productlist/246/41-3.html\n",
        "0.54"
       ]
      },
      {
       "output_type": "stream",
       "stream": "stdout",
       "text": [
        " : http://www.fht360.com/companylist/199/10928-2.html\n",
        "0.61"
       ]
      },
      {
       "output_type": "stream",
       "stream": "stdout",
       "text": [
        " : http://www.fht360.com/productlist/226/10805-9-1487.html\n",
        "0.58"
       ]
      },
      {
       "output_type": "stream",
       "stream": "stdout",
       "text": [
        " : http://www.fht360.com/companylist/199/10926-2.html\n",
        "0.48"
       ]
      },
      {
       "output_type": "stream",
       "stream": "stdout",
       "text": [
        " : http://www.fht360.com/companylist/199/10924-2.html\n",
        "0.45"
       ]
      },
      {
       "output_type": "stream",
       "stream": "stdout",
       "text": [
        " : http://www.fht360.com/productlist/410-4-880.html\n",
        "0.44"
       ]
      },
      {
       "output_type": "stream",
       "stream": "stdout",
       "text": [
        " : http://www.fht360.com/productlist/239/723-8-1487.html\n",
        "0.53"
       ]
      },
      {
       "output_type": "stream",
       "stream": "stdout",
       "text": [
        " : http://www.fht360.com/companylist/226/10718-2.html\n",
        "0.33"
       ]
      },
      {
       "output_type": "stream",
       "stream": "stdout",
       "text": [
        " : http://www.fht360.com/productlist/250/1216-6.html\n",
        "0.48"
       ]
      },
      {
       "output_type": "stream",
       "stream": "stdout",
       "text": [
        " : http://www.fht360.com/companylist/165-2-1987.html\n",
        "0.43"
       ]
      },
      {
       "output_type": "stream",
       "stream": "stdout",
       "text": [
        " : http://www.fht360.com/productlist/266-5-1009.html\n",
        "0.44"
       ]
      },
      {
       "output_type": "stream",
       "stream": "stdout",
       "text": [
        " : http://www.fht360.com/productlist/358-4-1009.html\n",
        "0.32"
       ]
      },
      {
       "output_type": "stream",
       "stream": "stdout",
       "text": [
        " : http://www.fht360.com/productlist/231-24-860.html\n",
        "0.61"
       ]
      },
      {
       "output_type": "stream",
       "stream": "stdout",
       "text": [
        " : http://www.fht360.com/productlist/415-2-1122.html\n",
        "0.53"
       ]
      },
      {
       "output_type": "stream",
       "stream": "stdout",
       "text": [
        " : http://www.fht360.com/companylist/63/10318-2.html\n",
        "0.38"
       ]
      },
      {
       "output_type": "stream",
       "stream": "stdout",
       "text": [
        " : http://www.fht360.com/productlist/308/10884-2-880.html\n",
        "0.45"
       ]
      },
      {
       "output_type": "stream",
       "stream": "stdout",
       "text": [
        " : http://www.fht360.com/productlist/251/8-2-1009.html\n",
        "0.66"
       ]
      },
      {
       "output_type": "stream",
       "stream": "stdout",
       "text": [
        " : http://www.fht360.com/companylist/237/10828-2-2137.html\n",
        "0.43"
       ]
      },
      {
       "output_type": "stream",
       "stream": "stdout",
       "text": [
        " : http://www.fht360.com/productlist/254-2-1662.html\n",
        "0.26"
       ]
      },
      {
       "output_type": "stream",
       "stream": "stdout",
       "text": [
        " : http://www.fht360.com/productlist/402/9040-2.html\n",
        "0.46"
       ]
      },
      {
       "output_type": "stream",
       "stream": "stdout",
       "text": [
        " : http://www.fht360.com/companylist/46/10263-2.html\n",
        "1.16"
       ]
      },
      {
       "output_type": "stream",
       "stream": "stdout",
       "text": [
        " : http://www.fht360.com/companylist/46/10260-2.html\n",
        "0.37"
       ]
      },
      {
       "output_type": "stream",
       "stream": "stdout",
       "text": [
        " : http://www.fht360.com/productlist/324-3-2299.html\n",
        "0.96"
       ]
      },
      {
       "output_type": "stream",
       "stream": "stdout",
       "text": [
        " : http://www.fht360.com/productlist/248/168-3-1487.html\n",
        "0.25"
       ]
      },
      {
       "output_type": "stream",
       "stream": "stdout",
       "text": [
        " : http://www.fht360.com/productlist/423/10772-2.html\n",
        "0.43"
       ]
      },
      {
       "output_type": "stream",
       "stream": "stdout",
       "text": [
        " : http://www.fht360.com/productlist/312-10-39.html\n",
        "0.70"
       ]
      },
      {
       "output_type": "stream",
       "stream": "stdout",
       "text": [
        " : http://www.fht360.com/productlist/246-5-1.html\n",
        "0.67"
       ]
      },
      {
       "output_type": "stream",
       "stream": "stdout",
       "text": [
        " : http://www.fht360.com/productlist/246/42-3-1662.html\n",
        "0.27"
       ]
      },
      {
       "output_type": "stream",
       "stream": "stdout",
       "text": [
        " : http://www.fht360.com/productlist/239/264-2.html\n",
        "0.34"
       ]
      },
      {
       "output_type": "stream",
       "stream": "stdout",
       "text": [
        " : http://www.fht360.com/productlist/239/266-14.html\n",
        "0.42"
       ]
      },
      {
       "output_type": "stream",
       "stream": "stdout",
       "text": [
        " : http://www.fht360.com/productlist/427-8-880.html\n",
        "0.29"
       ]
      },
      {
       "output_type": "stream",
       "stream": "stdout",
       "text": [
        " : http://www.fht360.com/productlist/331/10011-6.html\n",
        "1.45"
       ]
      },
      {
       "output_type": "stream",
       "stream": "stdout",
       "text": [
        " : http://www.fht360.com/productlist/233/7239-31.html\n",
        "1.13"
       ]
      },
      {
       "output_type": "stream",
       "stream": "stdout",
       "text": [
        " : http://www.fht360.com/productlist/340/1963-2-860.html\n",
        "0.28"
       ]
      },
      {
       "output_type": "stream",
       "stream": "stdout",
       "text": [
        " : http://www.fht360.com/productlist/226/10830-3.html\n",
        "0.55"
       ]
      },
      {
       "output_type": "stream",
       "stream": "stdout",
       "text": [
        " : http://www.fht360.com/companylist/39/10580-2.html\n",
        "0.50"
       ]
      },
      {
       "output_type": "stream",
       "stream": "stdout",
       "text": [
        " : http://www.fht360.com/companylist/129/10783-2.html\n",
        "0.47"
       ]
      },
      {
       "output_type": "stream",
       "stream": "stdout",
       "text": [
        " : http://www.fht360.com/companylist/165-2-2147.html\n",
        "0.49"
       ]
      },
      {
       "output_type": "stream",
       "stream": "stdout",
       "text": [
        " : http://www.fht360.com/companylist/34/334-2-1487.html\n",
        "0.47"
       ]
      },
      {
       "output_type": "stream",
       "stream": "stdout",
       "text": [
        " : http://www.fht360.com/companylist/165-3-2144.html\n",
        "0.58"
       ]
      },
      {
       "output_type": "stream",
       "stream": "stdout",
       "text": [
        " : http://www.fht360.com/productlist/413-2-880.html\n",
        "0.47"
       ]
      },
      {
       "output_type": "stream",
       "stream": "stdout",
       "text": [
        " : http://www.fht360.com/companylist/48-3-896.html\n",
        "0.61"
       ]
      },
      {
       "output_type": "stream",
       "stream": "stdout",
       "text": [
        " : http://www.fht360.com/productlist/319-2-2137.html\n",
        "0.92"
       ]
      },
      {
       "output_type": "stream",
       "stream": "stdout",
       "text": [
        " : http://www.fht360.com/productlist/234-44-880.html\n",
        "1.25"
       ]
      },
      {
       "output_type": "stream",
       "stream": "stdout",
       "text": [
        " : http://www.fht360.com/productlist/324/78-4-880.html\n",
        "0.46"
       ]
      },
      {
       "output_type": "stream",
       "stream": "stdout",
       "text": [
        " : http://www.fht360.com/companylist/199/10928-2-1376.html\n",
        "0.37"
       ]
      },
      {
       "output_type": "stream",
       "stream": "stdout",
       "text": [
        " : http://www.fht360.com/productlist/245/11590-3-1487.html\n",
        "0.47"
       ]
      },
      {
       "output_type": "stream",
       "stream": "stdout",
       "text": [
        " : http://www.fht360.com/companylist/165/3-7-927.html\n",
        "0.48"
       ]
      },
      {
       "output_type": "stream",
       "stream": "stdout",
       "text": [
        " : http://www.fht360.com/companylist/165/3-2-924.html\n",
        "0.46"
       ]
      },
      {
       "output_type": "stream",
       "stream": "stdout",
       "text": [
        " : http://www.fht360.com/companylist/46/10270-2.html\n",
        "0.33"
       ]
      },
      {
       "output_type": "stream",
       "stream": "stdout",
       "text": [
        " : http://www.fht360.com/productlist/426/14848-4.html\n",
        "0.77"
       ]
      },
      {
       "output_type": "stream",
       "stream": "stdout",
       "text": [
        " : http://www.fht360.com/productlist/375/32-2-1662.html\n",
        "0.55"
       ]
      },
      {
       "output_type": "stream",
       "stream": "stdout",
       "text": [
        " : http://www.fht360.com/companylist/167-13-1009.html\n",
        "0.44"
       ]
      },
      {
       "output_type": "stream",
       "stream": "stdout",
       "text": [
        " : http://www.fht360.com/productlist/274/18478-2-39.html\n",
        "0.68"
       ]
      },
      {
       "output_type": "stream",
       "stream": "stdout",
       "text": [
        " : http://www.fht360.com/companylist/57/4-4-1487.html\n",
        "1.04"
       ]
      },
      {
       "output_type": "stream",
       "stream": "stdout",
       "text": [
        " : http://www.fht360.com/companylist/57/4-2-1488.html\n",
        "0.73"
       ]
      },
      {
       "output_type": "stream",
       "stream": "stdout",
       "text": [
        " : http://www.fht360.com/companylist/167/3-4-1553.html\n",
        "0.82"
       ]
      },
      {
       "output_type": "stream",
       "stream": "stdout",
       "text": [
        " : http://www.fht360.com/companylist/188/10785-2.html\n",
        "0.47"
       ]
      },
      {
       "output_type": "stream",
       "stream": "stdout",
       "text": [
        " : http://www.fht360.com/companylist/165/3-2-499.html\n",
        "1.11"
       ]
      },
      {
       "output_type": "stream",
       "stream": "stdout",
       "text": [
        " : http://www.fht360.com/productlist/341-52.html\n",
        "0.88"
       ]
      },
      {
       "output_type": "stream",
       "stream": "stdout",
       "text": [
        " : http://www.fht360.com/productlist/345-7.html\n",
        "0.13"
       ]
      },
      {
       "output_type": "stream",
       "stream": "stdout",
       "text": [
        " : http://www.fht360.com/productlist/348-16.html\n",
        "0.47"
       ]
      },
      {
       "output_type": "stream",
       "stream": "stdout",
       "text": [
        " : http://www.fht360.com/productlist/231/15793-2-1009.html\n",
        "0.53"
       ]
      },
      {
       "output_type": "stream",
       "stream": "stdout",
       "text": [
        " : http://www.fht360.com/productlist/358-9-2137.html\n",
        "0.30"
       ]
      },
      {
       "output_type": "stream",
       "stream": "stdout",
       "text": [
        " : http://www.fht360.com/productlist/317/12016-4.html\n",
        "1.63"
       ]
      },
      {
       "output_type": "stream",
       "stream": "stdout",
       "text": [
        " : http://www.fht360.com/companylist/167/3-11-860.html\n",
        "0.81"
       ]
      },
      {
       "output_type": "stream",
       "stream": "stdout",
       "text": [
        " : http://www.fht360.com/companylist/77-2-991.html\n",
        "0.79"
       ]
      },
      {
       "output_type": "stream",
       "stream": "stdout",
       "text": [
        " : http://www.fht360.com/companylist/165/3-3-986.html\n",
        "1.27"
       ]
      },
      {
       "output_type": "stream",
       "stream": "stdout",
       "text": [
        " : http://www.fht360.com/companylist/106/10395-2.html\n",
        "1.63"
       ]
      },
      {
       "output_type": "stream",
       "stream": "stdout",
       "text": [
        " : http://www.fht360.com/companylist/137-3-221.html\n",
        "0.55"
       ]
      },
      {
       "output_type": "stream",
       "stream": "stdout",
       "text": [
        " : http://www.fht360.com/companylist/40/288-2.html\n",
        "0.48"
       ]
      },
      {
       "output_type": "stream",
       "stream": "stdout",
       "text": [
        " : http://www.fht360.com/companylist/164/3-13-1009.html\n",
        "1.22"
       ]
      },
      {
       "output_type": "stream",
       "stream": "stdout",
       "text": [
        " : http://www.fht360.com/productlist/330/7693-2-1487.html\n",
        "0.26"
       ]
      },
      {
       "output_type": "stream",
       "stream": "stdout",
       "text": [
        " : http://www.fht360.com/productlist/340/11533-6.html\n",
        "0.49"
       ]
      },
      {
       "output_type": "stream",
       "stream": "stdout",
       "text": [
        " : http://www.fht360.com/productlist/426/14848-3-2137.html\n",
        "0.44"
       ]
      },
      {
       "output_type": "stream",
       "stream": "stdout",
       "text": [
        " : http://www.fht360.com/productlist/359/12329-2-706.html\n",
        "1.07"
       ]
      },
      {
       "output_type": "stream",
       "stream": "stdout",
       "text": [
        " : http://www.fht360.com/productlist/424-10-2299.html\n",
        "0.82"
       ]
      },
      {
       "output_type": "stream",
       "stream": "stdout",
       "text": [
        " : http://www.fht360.com/companylist/48-2-2190.html\n",
        "0.48"
       ]
      },
      {
       "output_type": "stream",
       "stream": "stdout",
       "text": [
        " : http://www.fht360.com/companylist/111/10584-2.html\n",
        "0.46"
       ]
      },
      {
       "output_type": "stream",
       "stream": "stdout",
       "text": [
        " : http://www.fht360.com/productlist/241/451-3-39.html\n",
        "0.38"
       ]
      },
      {
       "output_type": "stream",
       "stream": "stdout",
       "text": [
        " : http://www.fht360.com/productlist/364/13031-2.html\n",
        "0.54"
       ]
      },
      {
       "output_type": "stream",
       "stream": "stdout",
       "text": [
        " : http://www.fht360.com/productlist/235/3606-3.html\n",
        "1.24"
       ]
      },
      {
       "output_type": "stream",
       "stream": "stdout",
       "text": [
        " : http://www.fht360.com/productlist/429/14807-2-1.html\n",
        "4.47"
       ]
      },
      {
       "output_type": "stream",
       "stream": "stdout",
       "text": [
        " : http://www.fht360.com/companylist/164/3-2-230.html\n",
        "1.41"
       ]
      },
      {
       "output_type": "stream",
       "stream": "stdout",
       "text": [
        " : http://www.fht360.com/productlist/317/10810-6.html\n",
        "0.27"
       ]
      },
      {
       "output_type": "stream",
       "stream": "stdout",
       "text": [
        " : http://www.fht360.com/productlist/236/17493-2.html\n",
        "0.91"
       ]
      },
      {
       "output_type": "stream",
       "stream": "stdout",
       "text": [
        " : http://www.fht360.com/companylist/161/10953-2.html\n",
        "0.72"
       ]
      },
      {
       "output_type": "stream",
       "stream": "stdout",
       "text": [
        " : http://www.fht360.com/productlist/379/1258-2-880.html\n",
        "1.23"
       ]
      },
      {
       "output_type": "stream",
       "stream": "stdout",
       "text": [
        " : http://www.fht360.com/companylist/39-2-1260.html\n",
        "0.50"
       ]
      },
      {
       "output_type": "stream",
       "stream": "stdout",
       "text": [
        " : http://www.fht360.com/companylist/203-2-2137.html\n",
        "0.28"
       ]
      },
      {
       "output_type": "stream",
       "stream": "stdout",
       "text": [
        " : http://www.fht360.com/productlist/231/348-4.html\n",
        "0.52"
       ]
      },
      {
       "output_type": "stream",
       "stream": "stdout",
       "text": [
        " : http://www.fht360.com/companylist/45-3-2278.html\n",
        "0.58"
       ]
      },
      {
       "output_type": "stream",
       "stream": "stdout",
       "text": [
        " : http://www.fht360.com/companylist/34/10384-2.html\n",
        "0.33"
       ]
      },
      {
       "output_type": "stream",
       "stream": "stdout",
       "text": [
        " : http://www.fht360.com/productlist/236/17360-9.html\n",
        "0.48"
       ]
      },
      {
       "output_type": "stream",
       "stream": "stdout",
       "text": [
        " : http://www.fht360.com/companylist/48-3-918.html\n",
        "1.72"
       ]
      },
      {
       "output_type": "stream",
       "stream": "stdout",
       "text": [
        " : http://www.fht360.com/companylist/106-5.html\n",
        "0.73"
       ]
      },
      {
       "output_type": "stream",
       "stream": "stdout",
       "text": [
        " : http://www.fht360.com/companylist/105-2.html\n",
        "1.27"
       ]
      },
      {
       "output_type": "stream",
       "stream": "stdout",
       "text": [
        " : http://www.fht360.com/companylist/104-4.html\n",
        "0.49"
       ]
      },
      {
       "output_type": "stream",
       "stream": "stdout",
       "text": [
        " : http://www.fht360.com/companylist/103-2.html\n",
        "0.60"
       ]
      },
      {
       "output_type": "stream",
       "stream": "stdout",
       "text": [
        " : http://www.fht360.com/companylist/102-2.html\n",
        "0.64"
       ]
      },
      {
       "output_type": "stream",
       "stream": "stdout",
       "text": [
        " : http://www.fht360.com/companylist/100-4.html\n",
        "0.54"
       ]
      },
      {
       "output_type": "stream",
       "stream": "stdout",
       "text": [
        " : http://www.fht360.com/companylist/50-3-880.html\n",
        "0.49"
       ]
      },
      {
       "output_type": "stream",
       "stream": "stdout",
       "text": [
        " : http://www.fht360.com/companylist/155/10642-2-2137.html\n",
        "0.30"
       ]
      },
      {
       "output_type": "stream",
       "stream": "stdout",
       "text": [
        " : http://www.fht360.com/productlist/237/194-2.html\n",
        "0.45"
       ]
      },
      {
       "output_type": "stream",
       "stream": "stdout",
       "text": [
        " : http://www.fht360.com/companylist/98/10604-2.html\n",
        "0.53"
       ]
      },
      {
       "output_type": "stream",
       "stream": "stdout",
       "text": [
        " : http://www.fht360.com/companylist/98/10601-2.html\n",
        "0.45"
       ]
      },
      {
       "output_type": "stream",
       "stream": "stdout",
       "text": [
        " : http://www.fht360.com/productlist/340-3-1122.html\n",
        "0.25"
       ]
      },
      {
       "output_type": "stream",
       "stream": "stdout",
       "text": [
        " : http://www.fht360.com/productlist/303/8683-2.html\n",
        "1.41"
       ]
      },
      {
       "output_type": "stream",
       "stream": "stdout",
       "text": [
        " : http://www.fht360.com/productlist/367/13536-4.html\n",
        "0.85"
       ]
      },
      {
       "output_type": "stream",
       "stream": "stdout",
       "text": [
        " : http://www.fht360.com/productlist/293-3-1122.html\n",
        "0.17"
       ]
      },
      {
       "output_type": "stream",
       "stream": "stdout",
       "text": [
        " : http://www.fht360.com/productlist/375/32-20.html\n",
        "0.42"
       ]
      },
      {
       "output_type": "stream",
       "stream": "stdout",
       "text": [
        " : http://www.fht360.com/productlist/244/615-4-1487.html\n",
        "0.27"
       ]
      },
      {
       "output_type": "stream",
       "stream": "stdout",
       "text": [
        " : http://www.fht360.com/productlist/437/14354-2.html\n",
        "1.16"
       ]
      },
      {
       "output_type": "stream",
       "stream": "stdout",
       "text": [
        " : http://www.fht360.com/productlist/438-2-1662.html\n",
        "1.49"
       ]
      },
      {
       "output_type": "stream",
       "stream": "stdout",
       "text": [
        " : http://www.fht360.com/productlist/343-15-2137.html\n",
        "1.04"
       ]
      },
      {
       "output_type": "stream",
       "stream": "stdout",
       "text": [
        " : http://www.fht360.com/productlist/410-5-39.html\n",
        "0.51"
       ]
      },
      {
       "output_type": "stream",
       "stream": "stdout",
       "text": [
        " : http://www.fht360.com/companylist/49/10722-2.html\n",
        "0.50"
       ]
      },
      {
       "output_type": "stream",
       "stream": "stdout",
       "text": [
        " : http://www.fht360.com/companylist/50/10800-2-2164.html\n",
        "0.25"
       ]
      },
      {
       "output_type": "stream",
       "stream": "stdout",
       "text": [
        " : http://www.fht360.com/productlist/281/424-2.html\n",
        "0.64"
       ]
      },
      {
       "output_type": "stream",
       "stream": "stdout",
       "text": [
        " : http://www.fht360.com/productlist/253-9-2137.html\n",
        "0.62"
       ]
      },
      {
       "output_type": "stream",
       "stream": "stdout",
       "text": [
        " : http://www.fht360.com/companylist/167/3-3-1010.html\n",
        "0.61"
       ]
      },
      {
       "output_type": "stream",
       "stream": "stdout",
       "text": [
        " : http://www.fht360.com/productlist/226/10589-2.html\n",
        "1.87"
       ]
      },
      {
       "output_type": "stream",
       "stream": "stdout",
       "text": [
        " : http://www.fht360.com/productlist/301/64-15-880.html\n",
        "0.46"
       ]
      },
      {
       "output_type": "stream",
       "stream": "stdout",
       "text": [
        " : http://www.fht360.com/productlist/433/11350-4-39.html\n",
        "0.48"
       ]
      },
      {
       "output_type": "stream",
       "stream": "stdout",
       "text": [
        " : http://www.fht360.com/companylist/142/10138-2-1567.html\n",
        "1.04"
       ]
      },
      {
       "output_type": "stream",
       "stream": "stdout",
       "text": [
        " : http://www.fht360.com/productlist/227/10511-64.html\n",
        "0.93"
       ]
      },
      {
       "output_type": "stream",
       "stream": "stdout",
       "text": [
        " : http://www.fht360.com/productlist/351/13540-2-2137.html\n",
        "0.39"
       ]
      },
      {
       "output_type": "stream",
       "stream": "stdout",
       "text": [
        " : http://www.fht360.com/productlist/228/582-5.html\n",
        "1.34"
       ]
      },
      {
       "output_type": "stream",
       "stream": "stdout",
       "text": [
        " : http://www.fht360.com/productlist/236/1951-2-880.html\n",
        "0.67"
       ]
      },
      {
       "output_type": "stream",
       "stream": "stdout",
       "text": [
        " : http://www.fht360.com/companylist/155/10639-2.html\n",
        "1.02"
       ]
      },
      {
       "output_type": "stream",
       "stream": "stdout",
       "text": [
        " : http://www.fht360.com/productlist/245-6-1487.html\n",
        "0.75"
       ]
      },
      {
       "output_type": "stream",
       "stream": "stdout",
       "text": [
        " : http://www.fht360.com/productlist/424/14724-6-2137.html\n",
        "0.51"
       ]
      },
      {
       "output_type": "stream",
       "stream": "stdout",
       "text": [
        " : http://www.fht360.com/productlist/432/14813-10-2137.html\n",
        "0.48"
       ]
      },
      {
       "output_type": "stream",
       "stream": "stdout",
       "text": [
        " : http://www.fht360.com/productlist/231/15793-2-39.html\n",
        "0.46"
       ]
      },
      {
       "output_type": "stream",
       "stream": "stdout",
       "text": [
        " : http://www.fht360.com/productlist/241/477-9-1487.html\n",
        "0.45"
       ]
      },
      {
       "output_type": "stream",
       "stream": "stdout",
       "text": [
        " : http://www.fht360.com/productlist/227/11104-7-2137.html\n",
        "0.48"
       ]
      },
      {
       "output_type": "stream",
       "stream": "stdout",
       "text": [
        " : http://www.fht360.com/companylist/167/3-2-111.html\n",
        "0.50"
       ]
      },
      {
       "output_type": "stream",
       "stream": "stdout",
       "text": [
        " : http://www.fht360.com/companylist/209/59-2.html\n",
        "0.62"
       ]
      },
      {
       "output_type": "stream",
       "stream": "stdout",
       "text": [
        " : http://www.fht360.com/companylist/50/10717-2.html\n",
        "0.33"
       ]
      },
      {
       "output_type": "stream",
       "stream": "stdout",
       "text": [
        " : http://www.fht360.com/productlist/330/7693-6.html\n",
        "0.33"
       ]
      },
      {
       "output_type": "stream",
       "stream": "stdout",
       "text": [
        " : http://www.fht360.com/productlist/233/635-6.html\n",
        "0.48"
       ]
      },
      {
       "output_type": "stream",
       "stream": "stdout",
       "text": [
        " : http://www.fht360.com/companylist/34/334-2.html\n",
        "0.47"
       ]
      },
      {
       "output_type": "stream",
       "stream": "stdout",
       "text": [
        " : http://www.fht360.com/productlist/280-3-1009.html\n",
        "0.71"
       ]
      },
      {
       "output_type": "stream",
       "stream": "stdout",
       "text": [
        " : http://www.fht360.com/companylist/162/3-2-1858.html\n",
        "1.65"
       ]
      },
      {
       "output_type": "stream",
       "stream": "stdout",
       "text": [
        " : http://www.fht360.com/companylist/162/3-3-1857.html\n",
        "0.46"
       ]
      },
      {
       "output_type": "stream",
       "stream": "stdout",
       "text": [
        " : http://www.fht360.com/productlist/233/635-2-2137.html\n",
        "0.16"
       ]
      },
      {
       "output_type": "stream",
       "stream": "stdout",
       "text": [
        " : http://www.fht360.com/productlist/293/226-7.html\n",
        "0.40"
       ]
      },
      {
       "output_type": "stream",
       "stream": "stdout",
       "text": [
        " : http://www.fht360.com/productlist/234/8033-2-860.html\n",
        "0.36"
       ]
      },
      {
       "output_type": "stream",
       "stream": "stdout",
       "text": [
        " : http://www.fht360.com/productlist/331/10004-2-1487.html\n",
        "0.29"
       ]
      },
      {
       "output_type": "stream",
       "stream": "stdout",
       "text": [
        " : http://www.fht360.com/productlist/351/13539-3.html\n",
        "0.36"
       ]
      },
      {
       "output_type": "stream",
       "stream": "stdout",
       "text": [
        " : http://www.fht360.com/productlist/228-9-880.html\n",
        "0.71"
       ]
      },
      {
       "output_type": "stream",
       "stream": "stdout",
       "text": [
        " : http://www.fht360.com/productlist/324/12422-9-2137.html\n",
        "0.26"
       ]
      },
      {
       "output_type": "stream",
       "stream": "stdout",
       "text": [
        " : http://www.fht360.com/productlist/283/96-7-1487.html\n",
        "0.82"
       ]
      },
      {
       "output_type": "stream",
       "stream": "stdout",
       "text": [
        " : http://www.fht360.com/productlist/415-2-1662.html\n",
        "0.94"
       ]
      },
      {
       "output_type": "stream",
       "stream": "stdout",
       "text": [
        " : http://www.fht360.com/productlist/233/17108-2-39.html\n",
        "0.47"
       ]
      },
      {
       "output_type": "stream",
       "stream": "stdout",
       "text": [
        " : http://www.fht360.com/companylist/239/20-4.html\n",
        "0.31"
       ]
      },
      {
       "output_type": "stream",
       "stream": "stdout",
       "text": [
        " : http://www.fht360.com/productlist/351/13027-3.html\n",
        "0.32"
       ]
      },
      {
       "output_type": "stream",
       "stream": "stdout",
       "text": [
        " : http://www.fht360.com/productlist/268-8.html\n",
        "0.32"
       ]
      },
      {
       "output_type": "stream",
       "stream": "stdout",
       "text": [
        " : http://www.fht360.com/productlist/269-11.html\n",
        "0.37"
       ]
      },
      {
       "output_type": "stream",
       "stream": "stdout",
       "text": [
        " : http://www.fht360.com/productlist/250/1675-2-1009.html\n",
        "0.25"
       ]
      },
      {
       "output_type": "stream",
       "stream": "stdout",
       "text": [
        " : http://www.fht360.com/productlist/354/12426-4.html\n",
        "0.43"
       ]
      },
      {
       "output_type": "stream",
       "stream": "stdout",
       "text": [
        " : http://www.fht360.com/productlist/424/14786-5-860.html\n",
        "0.42"
       ]
      },
      {
       "output_type": "stream",
       "stream": "stdout",
       "text": [
        " : http://www.fht360.com/productlist/353-2-2137.html\n",
        "0.48"
       ]
      },
      {
       "output_type": "stream",
       "stream": "stdout",
       "text": [
        " : http://www.fht360.com/companylist/48/3-3-1500.html\n",
        "0.49"
       ]
      },
      {
       "output_type": "stream",
       "stream": "stdout",
       "text": [
        " : http://www.fht360.com/companylist/59/10799-2.html\n",
        "0.52"
       ]
      },
      {
       "output_type": "stream",
       "stream": "stdout",
       "text": [
        " : http://www.fht360.com/companylist/143/10386-2.html\n",
        "0.31"
       ]
      },
      {
       "output_type": "stream",
       "stream": "stdout",
       "text": [
        " : http://www.fht360.com/productlist/277/16408-4.html\n",
        "0.56"
       ]
      },
      {
       "output_type": "stream",
       "stream": "stdout",
       "text": [
        " : http://www.fht360.com/productlist/262/2125-2-1487.html\n",
        "0.43"
       ]
      },
      {
       "output_type": "stream",
       "stream": "stdout",
       "text": [
        " : http://www.fht360.com/productlist/336-2-880.html\n",
        "1.45"
       ]
      },
      {
       "output_type": "stream",
       "stream": "stdout",
       "text": [
        " : http://www.fht360.com/productlist/246/12329-23-2137.html\n",
        "0.25"
       ]
      },
      {
       "output_type": "stream",
       "stream": "stdout",
       "text": [
        " : http://www.fht360.com/productlist/254/258-8-880.html\n",
        "0.55"
       ]
      },
      {
       "output_type": "stream",
       "stream": "stdout",
       "text": [
        " : http://www.fht360.com/productlist/253/639-2-880.html\n",
        "0.65"
       ]
      },
      {
       "output_type": "stream",
       "stream": "stdout",
       "text": [
        " : http://www.fht360.com/productlist/334/33-4-1662.html\n",
        "4.59"
       ]
      },
      {
       "output_type": "stream",
       "stream": "stdout",
       "text": [
        " : http://www.fht360.com/productlist/356/13341-4.html\n",
        "0.68"
       ]
      },
      {
       "output_type": "stream",
       "stream": "stdout",
       "text": [
        " : http://www.fht360.com/productlist/239/12094-8.html\n",
        "0.51"
       ]
      },
      {
       "output_type": "stream",
       "stream": "stdout",
       "text": [
        " : http://www.fht360.com/productlist/369-9.html\n",
        "0.64"
       ]
      },
      {
       "output_type": "stream",
       "stream": "stdout",
       "text": [
        " : http://www.fht360.com/productlist/244-2-39.html\n",
        "0.64"
       ]
      },
      {
       "output_type": "stream",
       "stream": "stdout",
       "text": [
        " : http://www.fht360.com/productlist/336/14592-2-1857.html\n",
        "2.12"
       ]
      },
      {
       "output_type": "stream",
       "stream": "stdout",
       "text": [
        " : http://www.fht360.com/companylist/164/3-2-1987.html\n",
        "0.73"
       ]
      },
      {
       "output_type": "stream",
       "stream": "stdout",
       "text": [
        " : http://www.fht360.com/companylist/77/10463-2.html\n",
        "0.49"
       ]
      },
      {
       "output_type": "stream",
       "stream": "stdout",
       "text": [
        " : http://www.fht360.com/companylist/44-3-39.html\n",
        "0.63"
       ]
      },
      {
       "output_type": "stream",
       "stream": "stdout",
       "text": [
        " : http://www.fht360.com/productlist/374-4-2137.html\n",
        "0.49"
       ]
      },
      {
       "output_type": "stream",
       "stream": "stdout",
       "text": [
        " : http://www.fht360.com/companylist/164/3-2-2189.html\n",
        "0.48"
       ]
      },
      {
       "output_type": "stream",
       "stream": "stdout",
       "text": [
        " : http://www.fht360.com/companylist/164/3-5-2186.html\n",
        "0.52"
       ]
      },
      {
       "output_type": "stream",
       "stream": "stdout",
       "text": [
        " : http://www.fht360.com/companylist/233/83-4.html\n",
        "0.50"
       ]
      },
      {
       "output_type": "stream",
       "stream": "stdout",
       "text": [
        " : http://www.fht360.com/productlist/435/15342-2.html\n",
        "0.63"
       ]
      },
      {
       "output_type": "stream",
       "stream": "stdout",
       "text": [
        " : http://www.fht360.com/productlist/248/159-2-1662.html\n",
        "0.55"
       ]
      },
      {
       "output_type": "stream",
       "stream": "stdout",
       "text": [
        " : http://www.fht360.com/productlist/236/17348-2-2137.html\n",
        "0.51"
       ]
      },
      {
       "output_type": "stream",
       "stream": "stdout",
       "text": [
        " : http://www.fht360.com/productlist/231/763-2.html\n",
        "0.63"
       ]
      },
      {
       "output_type": "stream",
       "stream": "stdout",
       "text": [
        " : http://www.fht360.com/productlist/286-7-1487.html\n",
        "0.64"
       ]
      },
      {
       "output_type": "stream",
       "stream": "stdout",
       "text": [
        " : http://www.fht360.com/productlist/301/64-13-1122.html\n",
        "0.74"
       ]
      },
      {
       "output_type": "stream",
       "stream": "stdout",
       "text": [
        " : http://www.fht360.com/productlist/253-2-1009.html\n",
        "0.69"
       ]
      },
      {
       "output_type": "stream",
       "stream": "stdout",
       "text": [
        " : http://www.fht360.com/productlist/242-1-1009.html\n",
        "0.21"
       ]
      },
      {
       "output_type": "stream",
       "stream": "stdout",
       "text": [
        " : http://www.fht360.com/productlist/336-16.html\n",
        "0.63"
       ]
      },
      {
       "output_type": "stream",
       "stream": "stdout",
       "text": [
        " : http://www.fht360.com/productlist/427/12171-3-1009.html\n",
        "1.23"
       ]
      },
      {
       "output_type": "stream",
       "stream": "stdout",
       "text": [
        " : http://www.fht360.com/productlist/234/10288-2-1122.html\n",
        "0.58"
       ]
      },
      {
       "output_type": "stream",
       "stream": "stdout",
       "text": [
        " : http://www.fht360.com/productlist/274/16955-3-2137.html\n",
        "0.56"
       ]
      },
      {
       "output_type": "stream",
       "stream": "stdout",
       "text": [
        " : http://www.fht360.com/productlist/351/13031-2-2137.html\n",
        "0.66"
       ]
      },
      {
       "output_type": "stream",
       "stream": "stdout",
       "text": [
        " : http://www.fht360.com/companylist/63/10475-2.html\n",
        "0.51"
       ]
      },
      {
       "output_type": "stream",
       "stream": "stdout",
       "text": [
        " : http://www.fht360.com/companylist/98-2-1487.html\n",
        "1.09"
       ]
      },
      {
       "output_type": "stream",
       "stream": "stdout",
       "text": [
        " : http://www.fht360.com/companylist/48/3-4-1260.html\n",
        "0.76"
       ]
      },
      {
       "output_type": "stream",
       "stream": "stdout",
       "text": [
        " : http://www.fht360.com/productlist/304/11333-6-1487.html\n",
        "0.77"
       ]
      },
      {
       "output_type": "stream",
       "stream": "stdout",
       "text": [
        " : http://www.fht360.com/companylist/39-3-1038.html\n",
        "0.50"
       ]
      },
      {
       "output_type": "stream",
       "stream": "stdout",
       "text": [
        " : http://www.fht360.com/companylist/49-51.html\n",
        "0.66"
       ]
      },
      {
       "output_type": "stream",
       "stream": "stdout",
       "text": [
        " : http://www.fht360.com/companylist/41-4.html\n",
        "0.45"
       ]
      },
      {
       "output_type": "stream",
       "stream": "stdout",
       "text": [
        " : http://www.fht360.com/companylist/40-32.html\n",
        "0.61"
       ]
      },
      {
       "output_type": "stream",
       "stream": "stdout",
       "text": [
        " : http://www.fht360.com/companylist/43-17.html\n",
        "0.44"
       ]
      },
      {
       "output_type": "stream",
       "stream": "stdout",
       "text": [
        " : http://www.fht360.com/companylist/45-29.html\n",
        "0.44"
       ]
      },
      {
       "output_type": "stream",
       "stream": "stdout",
       "text": [
        " : http://www.fht360.com/companylist/44-27.html\n",
        "0.58"
       ]
      },
      {
       "output_type": "stream",
       "stream": "stdout",
       "text": [
        " : http://www.fht360.com/companylist/47-20.html\n",
        "0.47"
       ]
      },
      {
       "output_type": "stream",
       "stream": "stdout",
       "text": [
        " : http://www.fht360.com/companylist/46-9.html\n",
        "0.64"
       ]
      },
      {
       "output_type": "stream",
       "stream": "stdout",
       "text": [
        " : http://www.fht360.com/productlist/360/21-11-1487.html\n",
        "0.99"
       ]
      },
      {
       "output_type": "stream",
       "stream": "stdout",
       "text": [
        " : http://www.fht360.com/productlist/444/16096-2-39.html\n",
        "0.76"
       ]
      },
      {
       "output_type": "stream",
       "stream": "stdout",
       "text": [
        " : http://www.fht360.com/companylist/38/36-2.html\n",
        "0.62"
       ]
      },
      {
       "output_type": "stream",
       "stream": "stdout",
       "text": [
        " : http://www.fht360.com/productlist/280-2-860.html\n",
        "0.62"
       ]
      },
      {
       "output_type": "stream",
       "stream": "stdout",
       "text": [
        " : http://www.fht360.com/productlist/336-2-39.html\n",
        "0.28"
       ]
      },
      {
       "output_type": "stream",
       "stream": "stdout",
       "text": [
        " : http://www.fht360.com/productlist/270-17-880.html\n",
        "1.21"
       ]
      },
      {
       "output_type": "stream",
       "stream": "stdout",
       "text": [
        " : http://www.fht360.com/productlist/424/14813-2-1009.html\n",
        "0.79"
       ]
      },
      {
       "output_type": "stream",
       "stream": "stdout",
       "text": [
        " : http://www.fht360.com/productlist/433/14263-4-2137.html\n",
        "1.78"
       ]
      },
      {
       "output_type": "stream",
       "stream": "stdout",
       "text": [
        " : http://www.fht360.com/productlist/429-2-2137.html\n",
        "2.13"
       ]
      },
      {
       "output_type": "stream",
       "stream": "stdout",
       "text": [
        " : http://www.fht360.com/productlist/255/16715-3.html\n",
        "1.29"
       ]
      },
      {
       "output_type": "stream",
       "stream": "stdout",
       "text": [
        " : http://www.fht360.com/productlist/415/2019-3-880.html\n",
        "0.81"
       ]
      },
      {
       "output_type": "stream",
       "stream": "stdout",
       "text": [
        " : http://www.fht360.com/productlist/231/3186-2.html\n",
        "1.02"
       ]
      },
      {
       "output_type": "stream",
       "stream": "stdout",
       "text": [
        " : http://www.fht360.com/companylist/40-2-860.html\n",
        "0.30"
       ]
      },
      {
       "output_type": "stream",
       "stream": "stdout",
       "text": [
        " : http://www.fht360.com/productlist/359-4-860.html\n",
        "0.46"
       ]
      },
      {
       "output_type": "stream",
       "stream": "stdout",
       "text": [
        " : http://www.fht360.com/productlist/241/350-2.html\n",
        "0.51"
       ]
      },
      {
       "output_type": "stream",
       "stream": "stdout",
       "text": [
        " : http://www.fht360.com/productlist/241/359-4.html\n",
        "0.47"
       ]
      },
      {
       "output_type": "stream",
       "stream": "stdout",
       "text": [
        " : http://www.fht360.com/productlist/237/10445-2.html\n",
        "0.47"
       ]
      },
      {
       "output_type": "stream",
       "stream": "stdout",
       "text": [
        " : http://www.fht360.com/productlist/237/10447-2.html\n",
        "0.25"
       ]
      },
      {
       "output_type": "stream",
       "stream": "stdout",
       "text": [
        " : http://www.fht360.com/productlist/348-10-2137.html\n",
        "1.33"
       ]
      },
      {
       "output_type": "stream",
       "stream": "stdout",
       "text": [
        " : http://www.fht360.com/productlist/237/10448-2.html\n",
        "0.90"
       ]
      },
      {
       "output_type": "stream",
       "stream": "stdout",
       "text": [
        " : http://www.fht360.com/companylist/51-4-2137.html\n",
        "0.50"
       ]
      },
      {
       "output_type": "stream",
       "stream": "stdout",
       "text": [
        " : http://www.fht360.com/companylist/119/10713-2.html\n",
        "0.63"
       ]
      },
      {
       "output_type": "stream",
       "stream": "stdout",
       "text": [
        " : http://www.fht360.com/productlist/247/12198-2-39.html\n",
        "1.12"
       ]
      },
      {
       "output_type": "stream",
       "stream": "stdout",
       "text": [
        " : http://www.fht360.com/productlist/274-27-39.html\n",
        "0.95"
       ]
      },
      {
       "output_type": "stream",
       "stream": "stdout",
       "text": [
        " : http://www.fht360.com/companylist/49/10954-2.html\n",
        "0.91"
       ]
      },
      {
       "output_type": "stream",
       "stream": "stdout",
       "text": [
        " : http://www.fht360.com/productlist/433/11451-3-1487.html\n",
        "1.17"
       ]
      },
      {
       "output_type": "stream",
       "stream": "stdout",
       "text": [
        " : http://www.fht360.com/companylist/37-3-860.html\n",
        "0.82"
       ]
      },
      {
       "output_type": "stream",
       "stream": "stdout",
       "text": [
        " : http://www.fht360.com/productlist/357-2-2299.html\n",
        "0.46"
       ]
      },
      {
       "output_type": "stream",
       "stream": "stdout",
       "text": [
        " : http://www.fht360.com/productlist/228/8791-2.html\n",
        "0.60"
       ]
      },
      {
       "output_type": "stream",
       "stream": "stdout",
       "text": [
        " : http://www.fht360.com/productlist/244-1-860.html\n",
        "0.48"
       ]
      },
      {
       "output_type": "stream",
       "stream": "stdout",
       "text": [
        " : http://www.fht360.com/companylist/165-3-1122.html\n",
        "0.89"
       ]
      },
      {
       "output_type": "stream",
       "stream": "stdout",
       "text": [
        " : http://www.fht360.com/productlist/270/10346-3-880.html\n",
        "1.14"
       ]
      },
      {
       "output_type": "stream",
       "stream": "stdout",
       "text": [
        " : http://www.fht360.com/companylist/137-5-1487.html\n",
        "0.47"
       ]
      },
      {
       "output_type": "stream",
       "stream": "stdout",
       "text": [
        " : http://www.fht360.com/companylist/100-2-2137.html\n",
        "0.47"
       ]
      },
      {
       "output_type": "stream",
       "stream": "stdout",
       "text": [
        " : http://www.fht360.com/companylist/164-13-1009.html\n",
        "0.54"
       ]
      },
      {
       "output_type": "stream",
       "stream": "stdout",
       "text": [
        " : http://www.fht360.com/newslist/6-50.html\n",
        "0.64"
       ]
      },
      {
       "output_type": "stream",
       "stream": "stdout",
       "text": [
        " : http://www.fht360.com/productlist/361-4-2137.html\n",
        "0.33"
       ]
      },
      {
       "output_type": "stream",
       "stream": "stdout",
       "text": [
        " : http://www.fht360.com/newslist/7-8.html\n",
        "0.51"
       ]
      },
      {
       "output_type": "stream",
       "stream": "stdout",
       "text": [
        " : http://www.fht360.com/companylist/48-3-20.html\n",
        "0.55"
       ]
      },
      {
       "output_type": "stream",
       "stream": "stdout",
       "text": [
        " : http://www.fht360.com/productlist/377/8947-2.html\n",
        "0.84"
       ]
      },
      {
       "output_type": "stream",
       "stream": "stdout",
       "text": [
        " : http://www.fht360.com/productlist/330-2-1487.html\n",
        "3.81"
       ]
      },
      {
       "output_type": "stream",
       "stream": "stdout",
       "text": [
        " : http://www.fht360.com/productlist/324/11473-3-880.html\n",
        "0.99"
       ]
      },
      {
       "output_type": "stream",
       "stream": "stdout",
       "text": [
        " : http://www.fht360.com/productlist/226-7-860.html\n",
        "1.17"
       ]
      },
      {
       "output_type": "stream",
       "stream": "stdout",
       "text": [
        " : http://www.fht360.com/companylist/167-3-1500.html\n",
        "0.58"
       ]
      },
      {
       "output_type": "stream",
       "stream": "stdout",
       "text": [
        " : http://www.fht360.com/productlist/352/5158-4-860.html\n",
        "0.84"
       ]
      },
      {
       "output_type": "stream",
       "stream": "stdout",
       "text": [
        " : http://www.fht360.com/productlist/382-2-1487.html\n",
        "0.74"
       ]
      },
      {
       "output_type": "stream",
       "stream": "stdout",
       "text": [
        " : http://www.fht360.com/productlist/426-2-1009.html\n",
        "0.99"
       ]
      },
      {
       "output_type": "stream",
       "stream": "stdout",
       "text": [
        " : http://www.fht360.com/productlist/234/15624-3-2137.html\n",
        "0.25"
       ]
      },
      {
       "output_type": "stream",
       "stream": "stdout",
       "text": [
        " : http://www.fht360.com/productlist/326/11592-3.html\n",
        "0.45"
       ]
      },
      {
       "output_type": "stream",
       "stream": "stdout",
       "text": [
        " : http://www.fht360.com/productlist/226/7869-2-1487.html\n",
        "1.00"
       ]
      },
      {
       "output_type": "stream",
       "stream": "stdout",
       "text": [
        " : http://www.fht360.com/productlist/231/15793-4-1487.html\n",
        "0.82"
       ]
      },
      {
       "output_type": "stream",
       "stream": "stdout",
       "text": [
        " : http://www.fht360.com/productlist/311-3-2137.html\n",
        "0.35"
       ]
      },
      {
       "output_type": "stream",
       "stream": "stdout",
       "text": [
        " : http://www.fht360.com/productlist/246/13488-2.html\n",
        "0.39"
       ]
      },
      {
       "output_type": "stream",
       "stream": "stdout",
       "text": [
        " : http://www.fht360.com/productlist/226/9392-2-1487.html\n",
        "0.28"
       ]
      },
      {
       "output_type": "stream",
       "stream": "stdout",
       "text": [
        " : http://www.fht360.com/productlist/246/12332-2.html\n",
        "0.39"
       ]
      },
      {
       "output_type": "stream",
       "stream": "stdout",
       "text": [
        " : http://www.fht360.com/productlist/307/11590-2-880.html\n",
        "0.45"
       ]
      },
      {
       "output_type": "stream",
       "stream": "stdout",
       "text": [
        " : http://www.fht360.com/productlist/239/16110-6-2137.html\n",
        "0.63"
       ]
      },
      {
       "output_type": "stream",
       "stream": "stdout",
       "text": [
        " : http://www.fht360.com/productlist/415-3-1009.html\n",
        "2.41"
       ]
      },
      {
       "output_type": "stream",
       "stream": "stdout",
       "text": [
        " : http://www.fht360.com/productlist/238-1-860.html\n",
        "0.28"
       ]
      },
      {
       "output_type": "stream",
       "stream": "stdout",
       "text": [
        " : http://www.fht360.com/productlist/354/12428-2.html\n",
        "0.49"
       ]
      },
      {
       "output_type": "stream",
       "stream": "stdout",
       "text": [
        " : http://www.fht360.com/companylist/167/3-2-1858.html\n",
        "0.35"
       ]
      },
      {
       "output_type": "stream",
       "stream": "stdout",
       "text": [
        " : http://www.fht360.com/productlist/236-14-1009.html\n",
        "0.32"
       ]
      },
      {
       "output_type": "stream",
       "stream": "stdout",
       "text": [
        " : http://www.fht360.com/productlist/428/14699-2.html\n",
        "0.28"
       ]
      },
      {
       "output_type": "stream",
       "stream": "stdout",
       "text": [
        " : http://www.fht360.com/productlist/335/12209-5.html\n",
        "0.42"
       ]
      },
      {
       "output_type": "stream",
       "stream": "stdout",
       "text": [
        " : http://www.fht360.com/productlist/280/8356-2.html\n",
        "0.65"
       ]
      },
      {
       "output_type": "stream",
       "stream": "stdout",
       "text": [
        " : http://www.fht360.com/productlist/379/1258-3-1487.html\n",
        "1.54"
       ]
      },
      {
       "output_type": "stream",
       "stream": "stdout",
       "text": [
        " : http://www.fht360.com/productlist/430-4-1009.html\n",
        "1.11"
       ]
      },
      {
       "output_type": "stream",
       "stream": "stdout",
       "text": [
        " : http://www.fht360.com/productlist/231/15894-2-1662.html\n",
        "1.04"
       ]
      },
      {
       "output_type": "stream",
       "stream": "stdout",
       "text": [
        " : http://www.fht360.com/productlist/251/15933-11.html\n",
        "0.98"
       ]
      },
      {
       "output_type": "stream",
       "stream": "stdout",
       "text": [
        " : http://www.fht360.com/companylist/48/3-2-1570.html\n",
        "1.25"
       ]
      },
      {
       "output_type": "stream",
       "stream": "stdout",
       "text": [
        " : http://www.fht360.com/companylist/176-2-2137.html\n",
        "0.53"
       ]
      },
      {
       "output_type": "stream",
       "stream": "stdout",
       "text": [
        " : http://www.fht360.com/companylist/143/32-3.html\n",
        "0.35"
       ]
      },
      {
       "output_type": "stream",
       "stream": "stdout",
       "text": [
        " : http://www.fht360.com/productlist/231/477-10.html\n",
        "0.59"
       ]
      },
      {
       "output_type": "stream",
       "stream": "stdout",
       "text": [
        " : http://www.fht360.com/productlist/227-6-1662.html\n",
        "0.42"
       ]
      },
      {
       "output_type": "stream",
       "stream": "stdout",
       "text": [
        " : http://www.fht360.com/productlist/255-5-880.html\n",
        "0.47"
       ]
      },
      {
       "output_type": "stream",
       "stream": "stdout",
       "text": [
        " : http://www.fht360.com/companylist/167-2-230.html\n",
        "0.49"
       ]
      },
      {
       "output_type": "stream",
       "stream": "stdout",
       "text": [
        " : http://www.fht360.com/companylist/48-2-991.html\n",
        "0.70"
       ]
      },
      {
       "output_type": "stream",
       "stream": "stdout",
       "text": [
        " : http://www.fht360.com/companylist/34/10300-2.html\n",
        "0.56"
       ]
      },
      {
       "output_type": "stream",
       "stream": "stdout",
       "text": [
        " : http://www.fht360.com/companylist/34/10301-2.html\n",
        "0.57"
       ]
      },
      {
       "output_type": "stream",
       "stream": "stdout",
       "text": [
        " : http://www.fht360.com/companylist/34/10302-2.html\n",
        "0.55"
       ]
      },
      {
       "output_type": "stream",
       "stream": "stdout",
       "text": [
        " : http://www.fht360.com/companylist/34/10305-2.html\n",
        "0.52"
       ]
      },
      {
       "output_type": "stream",
       "stream": "stdout",
       "text": [
        " : http://www.fht360.com/companylist/34/10306-2.html\n",
        "0.29"
       ]
      },
      {
       "output_type": "stream",
       "stream": "stdout",
       "text": [
        " : http://www.fht360.com/productlist/337/12309-11.html\n",
        "0.41"
       ]
      },
      {
       "output_type": "stream",
       "stream": "stdout",
       "text": [
        " : http://www.fht360.com/productlist/395-6-2137.html\n",
        "0.83"
       ]
      },
      {
       "output_type": "stream",
       "stream": "stdout",
       "text": [
        " : http://www.fht360.com/productlist/291-2-1009.html\n",
        "0.52"
       ]
      },
      {
       "output_type": "stream",
       "stream": "stdout",
       "text": [
        " : http://www.fht360.com/companylist/244/10811-2.html\n",
        "0.46"
       ]
      },
      {
       "output_type": "stream",
       "stream": "stdout",
       "text": [
        " : http://www.fht360.com/companylist/244/10813-2.html\n",
        "0.52"
       ]
      },
      {
       "output_type": "stream",
       "stream": "stdout",
       "text": [
        " : http://www.fht360.com/companylist/50/10836-2.html\n",
        "0.59"
       ]
      },
      {
       "output_type": "stream",
       "stream": "stdout",
       "text": [
        " : http://www.fht360.com/companylist/50/10839-2.html\n",
        "0.41"
       ]
      },
      {
       "output_type": "stream",
       "stream": "stdout",
       "text": [
        " : http://www.fht360.com/productlist/269-3-1487.html\n",
        "0.43"
       ]
      },
      {
       "output_type": "stream",
       "stream": "stdout",
       "text": [
        " : http://www.fht360.com/productlist/226/10513-5-1487.html\n",
        "0.45"
       ]
      },
      {
       "output_type": "stream",
       "stream": "stdout",
       "text": [
        " : http://www.fht360.com/productlist/335-4-1487.html\n",
        "0.49"
       ]
      },
      {
       "output_type": "stream",
       "stream": "stdout",
       "text": [
        " : http://www.fht360.com/productlist/269/188-7-880.html\n",
        "0.30"
       ]
      },
      {
       "output_type": "stream",
       "stream": "stdout",
       "text": [
        " : http://www.fht360.com/productlist/293/930-3.html\n",
        "0.45"
       ]
      },
      {
       "output_type": "stream",
       "stream": "stdout",
       "text": [
        " : http://www.fht360.com/productlist/428-6-2137.html\n",
        "0.46"
       ]
      },
      {
       "output_type": "stream",
       "stream": "stdout",
       "text": [
        " : http://www.fht360.com/productlist/234/8031-2-860.html\n",
        "0.58"
       ]
      },
      {
       "output_type": "stream",
       "stream": "stdout",
       "text": [
        " : http://www.fht360.com/companylist/50-2-2167.html\n",
        "0.62"
       ]
      },
      {
       "output_type": "stream",
       "stream": "stdout",
       "text": [
        " : http://www.fht360.com/companylist/50-13-2164.html\n",
        "0.62"
       ]
      },
      {
       "output_type": "stream",
       "stream": "stdout",
       "text": [
        " : http://www.fht360.com/companylist/50-6-2169.html\n",
        "0.42"
       ]
      },
      {
       "output_type": "stream",
       "stream": "stdout",
       "text": [
        " : http://www.fht360.com/productlist/335/930-3.html\n",
        "0.40"
       ]
      },
      {
       "output_type": "stream",
       "stream": "stdout",
       "text": [
        " : http://www.fht360.com/productlist/372/14206-2-2137.html\n",
        "0.37"
       ]
      },
      {
       "output_type": "stream",
       "stream": "stdout",
       "text": [
        " : http://www.fht360.com/productlist/239/267-2-880.html\n",
        "0.53"
       ]
      },
      {
       "output_type": "stream",
       "stream": "stdout",
       "text": [
        " : http://www.fht360.com/productlist/351-6-706.html\n",
        "0.48"
       ]
      },
      {
       "output_type": "stream",
       "stream": "stdout",
       "text": [
        " : http://www.fht360.com/companylist/164-6-221.html\n",
        "0.47"
       ]
      },
      {
       "output_type": "stream",
       "stream": "stdout",
       "text": [
        " : http://www.fht360.com/companylist/164-2-223.html\n",
        "0.54"
       ]
      },
      {
       "output_type": "stream",
       "stream": "stdout",
       "text": [
        " : http://www.fht360.com/companylist/164-3-228.html\n",
        "0.28"
       ]
      },
      {
       "output_type": "stream",
       "stream": "stdout",
       "text": [
        " : http://www.fht360.com/productlist/239/168-6.html\n",
        "0.31"
       ]
      },
      {
       "output_type": "stream",
       "stream": "stdout",
       "text": [
        " : http://www.fht360.com/productlist/428-17.html\n",
        "0.31"
       ]
      },
      {
       "output_type": "stream",
       "stream": "stdout",
       "text": [
        " : http://www.fht360.com/productlist/429-10.html\n",
        "0.47"
       ]
      },
      {
       "output_type": "stream",
       "stream": "stdout",
       "text": [
        " : http://www.fht360.com/companylist/164-3-1619.html\n",
        "1.13"
       ]
      },
      {
       "output_type": "stream",
       "stream": "stdout",
       "text": [
        " : http://www.fht360.com/productlist/424-1185.html\n",
        "1.33"
       ]
      },
      {
       "output_type": "stream",
       "stream": "stdout",
       "text": [
        " : http://www.fht360.com/productlist/426-20.html\n",
        "0.15"
       ]
      },
      {
       "output_type": "stream",
       "stream": "stdout",
       "text": [
        " : http://www.fht360.com/productlist/427-25.html\n",
        "0.85"
       ]
      },
      {
       "output_type": "stream",
       "stream": "stdout",
       "text": [
        " : http://www.fht360.com/productlist/241/348-3-1487.html\n",
        "0.71"
       ]
      },
      {
       "output_type": "stream",
       "stream": "stdout",
       "text": [
        " : http://www.fht360.com/companylist/210-12.html\n",
        "0.54"
       ]
      },
      {
       "output_type": "stream",
       "stream": "stdout",
       "text": [
        " : http://www.fht360.com/productlist/442/14924-2-1009.html\n",
        "1.08"
       ]
      },
      {
       "output_type": "stream",
       "stream": "stdout",
       "text": [
        " : http://www.fht360.com/productlist/433-17-1487.html\n",
        "0.84"
       ]
      },
      {
       "output_type": "stream",
       "stream": "stdout",
       "text": [
        " : http://www.fht360.com/productlist/444-9-1487.html\n",
        "0.69"
       ]
      },
      {
       "output_type": "stream",
       "stream": "stdout",
       "text": [
        " : http://www.fht360.com/productlist/227/12171-3-1009.html\n",
        "0.63"
       ]
      },
      {
       "output_type": "stream",
       "stream": "stdout",
       "text": [
        " : http://www.fht360.com/productlist/226/10528-4-2137.html\n",
        "0.62"
       ]
      },
      {
       "output_type": "stream",
       "stream": "stdout",
       "text": [
        " : http://www.fht360.com/productlist/270/16206-2-2137.html\n",
        "0.67"
       ]
      },
      {
       "output_type": "stream",
       "stream": "stdout",
       "text": [
        " : http://www.fht360.com/productlist/233/15982-2-1122.html\n",
        "0.59"
       ]
      },
      {
       "output_type": "stream",
       "stream": "stdout",
       "text": [
        " : http://www.fht360.com/companylist/137/10929-2-2137.html\n",
        "0.19"
       ]
      },
      {
       "output_type": "stream",
       "stream": "stdout",
       "text": [
        " : http://www.fht360.com/productlist/248/772-4-1487.html\n",
        "0.51"
       ]
      },
      {
       "output_type": "stream",
       "stream": "stdout",
       "text": [
        " : http://www.fht360.com/productlist/226/10513-11.html\n",
        "0.68"
       ]
      },
      {
       "output_type": "stream",
       "stream": "stdout",
       "text": [
        " : http://www.fht360.com/productlist/433/14267-2-2137.html\n",
        "0.43"
       ]
      },
      {
       "output_type": "stream",
       "stream": "stdout",
       "text": [
        " : http://www.fht360.com/productlist/359/12350-2.html\n",
        "0.45"
       ]
      },
      {
       "output_type": "stream",
       "stream": "stdout",
       "text": [
        " : http://www.fht360.com/productlist/359/12352-3.html\n",
        "1.65"
       ]
      },
      {
       "output_type": "stream",
       "stream": "stdout",
       "text": [
        " : http://www.fht360.com/productlist/424-98-880.html\n",
        "0.54"
       ]
      },
      {
       "output_type": "stream",
       "stream": "stdout",
       "text": [
        " : http://www.fht360.com/companylist/167/3-2-191.html\n",
        "0.93"
       ]
      },
      {
       "output_type": "stream",
       "stream": "stdout",
       "text": [
        " : http://www.fht360.com/productlist/283/97-4-39.html\n",
        "0.49"
       ]
      },
      {
       "output_type": "stream",
       "stream": "stdout",
       "text": [
        " : http://www.fht360.com/productlist/231/11042-12-1487.html\n",
        "3.98"
       ]
      },
      {
       "output_type": "stream",
       "stream": "stdout",
       "text": [
        " : http://www.fht360.com/productlist/337-5-1662.html\n",
        "0.38"
       ]
      },
      {
       "output_type": "stream",
       "stream": "stdout",
       "text": [
        " : http://www.fht360.com/productlist/234/8031-4.html\n",
        "1.13"
       ]
      },
      {
       "output_type": "stream",
       "stream": "stdout",
       "text": [
        " : http://www.fht360.com/companylist/167/3-2-1514.html\n",
        "0.32"
       ]
      },
      {
       "output_type": "stream",
       "stream": "stdout",
       "text": [
        " : http://www.fht360.com/productlist/428/14715-3.html\n",
        "0.47"
       ]
      },
      {
       "output_type": "stream",
       "stream": "stdout",
       "text": [
        " : http://www.fht360.com/companylist/165/3-166.html\n",
        "0.58"
       ]
      },
      {
       "output_type": "stream",
       "stream": "stdout",
       "text": [
        " : http://www.fht360.com/productlist/231/13-2-880.html\n",
        "0.51"
       ]
      },
      {
       "output_type": "stream",
       "stream": "stdout",
       "text": [
        " : http://www.fht360.com/productlist/236/17360-7-2137.html\n",
        "0.54"
       ]
      },
      {
       "output_type": "stream",
       "stream": "stdout",
       "text": [
        " : http://www.fht360.com/companylist/164/3-3-1488.html\n",
        "0.25"
       ]
      },
      {
       "output_type": "stream",
       "stream": "stdout",
       "text": [
        " : http://www.fht360.com/productlist/286/17348-2.html\n",
        "0.49"
       ]
      },
      {
       "output_type": "stream",
       "stream": "stdout",
       "text": [
        " : http://www.fht360.com/productlist/226/14822-8.html\n",
        "0.38"
       ]
      },
      {
       "output_type": "stream",
       "stream": "stdout",
       "text": [
        " : http://www.fht360.com/productlist/357/5853-3.html\n",
        "0.46"
       ]
      },
      {
       "output_type": "stream",
       "stream": "stdout",
       "text": [
        " : http://www.fht360.com/productlist/341/12630-2-1.html\n",
        "0.47"
       ]
      },
      {
       "output_type": "stream",
       "stream": "stdout",
       "text": [
        " : http://www.fht360.com/productlist/236-7-1.html\n",
        "0.88"
       ]
      },
      {
       "output_type": "stream",
       "stream": "stdout",
       "text": [
        " : http://www.fht360.com/companylist/159/10019-2.html\n",
        "0.30"
       ]
      },
      {
       "output_type": "stream",
       "stream": "stdout",
       "text": [
        " : http://www.fht360.com/productlist/279/18801-3.html\n",
        "0.51"
       ]
      },
      {
       "output_type": "stream",
       "stream": "stdout",
       "text": [
        " : http://www.fht360.com/companylist/45-11-2137.html\n",
        "0.57"
       ]
      },
      {
       "output_type": "stream",
       "stream": "stdout",
       "text": [
        " : http://www.fht360.com/companylist/45-4-2138.html\n",
        "0.42"
       ]
      },
      {
       "output_type": "stream",
       "stream": "stdout",
       "text": [
        " : http://www.fht360.com/productlist/242-1-706.html\n",
        "0.48"
       ]
      },
      {
       "output_type": "stream",
       "stream": "stdout",
       "text": [
        " : http://www.fht360.com/companylist/48-2-924.html\n",
        "0.36"
       ]
      },
      {
       "output_type": "stream",
       "stream": "stdout",
       "text": [
        " : http://www.fht360.com/productlist/231/159-10.html\n",
        "0.31"
       ]
      },
      {
       "output_type": "stream",
       "stream": "stdout",
       "text": [
        " : http://www.fht360.com/productlist/231/150-4.html\n",
        "0.42"
       ]
      },
      {
       "output_type": "stream",
       "stream": "stdout",
       "text": [
        " : http://www.fht360.com/productlist/268-3-1487.html\n",
        "0.79"
       ]
      },
      {
       "output_type": "stream",
       "stream": "stdout",
       "text": [
        " : http://www.fht360.com/productlist/228-65.html\n",
        "0.76"
       ]
      },
      {
       "output_type": "stream",
       "stream": "stdout",
       "text": [
        " : http://www.fht360.com/productlist/226-137.html\n",
        "0.83"
       ]
      },
      {
       "output_type": "stream",
       "stream": "stdout",
       "text": [
        " : http://www.fht360.com/productlist/227-170.html\n",
        "0.61"
       ]
      },
      {
       "output_type": "stream",
       "stream": "stdout",
       "text": [
        " : http://www.fht360.com/companylist/224-2.html\n",
        "3.29"
       ]
      },
      {
       "output_type": "stream",
       "stream": "stdout",
       "text": [
        " : http://www.fht360.com/companylist/225-5.html\n",
        "1.27"
       ]
      },
      {
       "output_type": "stream",
       "stream": "stdout",
       "text": [
        " : http://www.fht360.com/productlist/234/307-10.html\n",
        "0.27"
       ]
      },
      {
       "output_type": "stream",
       "stream": "stdout",
       "text": [
        " : http://www.fht360.com/productlist/234/308-3.html\n",
        "0.40"
       ]
      },
      {
       "output_type": "stream",
       "stream": "stdout",
       "text": [
        " : http://www.fht360.com/productlist/231/452-6.html\n",
        "0.14"
       ]
      },
      {
       "output_type": "stream",
       "stream": "stdout",
       "text": [
        " : http://www.fht360.com/productlist/326/70-12.html\n",
        "0.25"
       ]
      },
      {
       "output_type": "stream",
       "stream": "stdout",
       "text": [
        " : http://www.fht360.com/productlist/297/10457-3.html\n",
        "0.48"
       ]
      },
      {
       "output_type": "stream",
       "stream": "stdout",
       "text": [
        " : http://www.fht360.com/companylist/48/3-2-991.html\n",
        "0.42"
       ]
      },
      {
       "output_type": "stream",
       "stream": "stdout",
       "text": [
        " : http://www.fht360.com/productlist/236/8356-2-2137.html\n",
        "0.26"
       ]
      },
      {
       "output_type": "stream",
       "stream": "stdout",
       "text": [
        " : http://www.fht360.com/productlist/297/10451-3.html\n",
        "1.37"
       ]
      },
      {
       "output_type": "stream",
       "stream": "stdout",
       "text": [
        " : http://www.fht360.com/productlist/227-47-2137.html\n",
        "0.47"
       ]
      },
      {
       "output_type": "stream",
       "stream": "stdout",
       "text": [
        " : http://www.fht360.com/companylist/162/3-4-1.html\n",
        "1.09"
       ]
      },
      {
       "output_type": "stream",
       "stream": "stdout",
       "text": [
        " : http://www.fht360.com/productlist/411/49-3-880.html\n",
        "0.59"
       ]
      },
      {
       "output_type": "stream",
       "stream": "stdout",
       "text": [
        " : http://www.fht360.com/companylist/70/10536-2.html\n",
        "0.76"
       ]
      },
      {
       "output_type": "stream",
       "stream": "stdout",
       "text": [
        " : http://www.fht360.com/productlist/231/9-99.html\n",
        "0.89"
       ]
      },
      {
       "output_type": "stream",
       "stream": "stdout",
       "text": [
        " : http://www.fht360.com/productlist/424/2-74-860.html\n",
        "0.89"
       ]
      },
      {
       "output_type": "stream",
       "stream": "stdout",
       "text": [
        " : http://www.fht360.com/productlist/316/8042-2-1122.html\n",
        "0.63"
       ]
      },
      {
       "output_type": "stream",
       "stream": "stdout",
       "text": [
        " : http://www.fht360.com/productlist/440/11718-4.html\n",
        "0.71"
       ]
      },
      {
       "output_type": "stream",
       "stream": "stdout",
       "text": [
        " : http://www.fht360.com/productlist/433/11718-4.html\n",
        "0.33"
       ]
      },
      {
       "output_type": "stream",
       "stream": "stdout",
       "text": [
        " : http://www.fht360.com/productlist/301/7908-5.html\n",
        "0.26"
       ]
      },
      {
       "output_type": "stream",
       "stream": "stdout",
       "text": [
        " : http://www.fht360.com/productlist/260-12-2137.html\n",
        "0.38"
       ]
      },
      {
       "output_type": "stream",
       "stream": "stdout",
       "text": [
        " : http://www.fht360.com/productlist/375/9058-2-1487.html\n",
        "0.26"
       ]
      },
      {
       "output_type": "stream",
       "stream": "stdout",
       "text": [
        " : http://www.fht360.com/productlist/238-9-39.html\n",
        "0.27"
       ]
      },
      {
       "output_type": "stream",
       "stream": "stdout",
       "text": [
        " : http://www.fht360.com/productlist/442/14669-2.html\n",
        "0.37"
       ]
      },
      {
       "output_type": "stream",
       "stream": "stdout",
       "text": [
        " : http://www.fht360.com/productlist/245/11590-2-880.html\n",
        "0.47"
       ]
      },
      {
       "output_type": "stream",
       "stream": "stdout",
       "text": [
        " : http://www.fht360.com/productlist/325/78-6-1487.html\n",
        "0.38"
       ]
      },
      {
       "output_type": "stream",
       "stream": "stdout",
       "text": [
        " : http://www.fht360.com/productlist/315/3786-2-39.html\n",
        "0.59"
       ]
      },
      {
       "output_type": "stream",
       "stream": "stdout",
       "text": [
        " : http://www.fht360.com/companylist/49/10642-2.html\n",
        "0.62"
       ]
      },
      {
       "output_type": "stream",
       "stream": "stdout",
       "text": [
        " : http://www.fht360.com/companylist/49/10645-2.html\n",
        "0.48"
       ]
      },
      {
       "output_type": "stream",
       "stream": "stdout",
       "text": [
        " : http://www.fht360.com/companylist/49/10647-2.html\n",
        "0.42"
       ]
      },
      {
       "output_type": "stream",
       "stream": "stdout",
       "text": [
        " : http://www.fht360.com/companylist/49/10649-2.html\n",
        "0.51"
       ]
      },
      {
       "output_type": "stream",
       "stream": "stdout",
       "text": [
        " : http://www.fht360.com/companylist/72/10529-2.html\n",
        "0.45"
       ]
      },
      {
       "output_type": "stream",
       "stream": "stdout",
       "text": [
        " : http://www.fht360.com/productlist/424/14833-8-2137.html\n",
        "0.56"
       ]
      },
      {
       "output_type": "stream",
       "stream": "stdout",
       "text": [
        " : http://www.fht360.com/companylist/86-2-2137.html\n",
        "0.46"
       ]
      },
      {
       "output_type": "stream",
       "stream": "stdout",
       "text": [
        " : http://www.fht360.com/productlist/424/14848-3-2137.html\n",
        "0.30"
       ]
      },
      {
       "output_type": "stream",
       "stream": "stdout",
       "text": [
        " : http://www.fht360.com/productlist/425/9475-4.html\n",
        "0.35"
       ]
      },
      {
       "output_type": "stream",
       "stream": "stdout",
       "text": [
        " : http://www.fht360.com/productlist/263/308-3-1487.html\n",
        "0.62"
       ]
      },
      {
       "output_type": "stream",
       "stream": "stdout",
       "text": [
        " : http://www.fht360.com/productlist/335-4-1662.html\n",
        "0.29"
       ]
      },
      {
       "output_type": "stream",
       "stream": "stdout",
       "text": [
        " : http://www.fht360.com/productlist/301/11784-2.html\n",
        "0.48"
       ]
      },
      {
       "output_type": "stream",
       "stream": "stdout",
       "text": [
        " : http://www.fht360.com/productlist/433/12267-2-2137.html\n",
        "0.50"
       ]
      },
      {
       "output_type": "stream",
       "stream": "stdout",
       "text": [
        " : http://www.fht360.com/productlist/424/12292-2-880.html\n",
        "0.31"
       ]
      },
      {
       "output_type": "stream",
       "stream": "stdout",
       "text": [
        " : http://www.fht360.com/productlist/237-16-1487.html\n",
        "0.95"
       ]
      },
      {
       "output_type": "stream",
       "stream": "stdout",
       "text": [
        " : http://www.fht360.com/productlist/341/11546-2-1487.html\n",
        "0.83"
       ]
      },
      {
       "output_type": "stream",
       "stream": "stdout",
       "text": [
        " : http://www.fht360.com/companylist/210/4-10.html\n",
        "0.50"
       ]
      },
      {
       "output_type": "stream",
       "stream": "stdout",
       "text": [
        " : http://www.fht360.com/companylist/44-3-2278.html\n",
        "0.44"
       ]
      },
      {
       "output_type": "stream",
       "stream": "stdout",
       "text": [
        " : http://www.fht360.com/productlist/246/12329-3-860.html\n",
        "0.45"
       ]
      },
      {
       "output_type": "stream",
       "stream": "stdout",
       "text": [
        " : http://www.fht360.com/productlist/375/9644-5.html\n",
        "0.34"
       ]
      },
      {
       "output_type": "stream",
       "stream": "stdout",
       "text": [
        " : http://www.fht360.com/productlist/352/14125-2.html\n",
        "0.50"
       ]
      },
      {
       "output_type": "stream",
       "stream": "stdout",
       "text": [
        " : http://www.fht360.com/companylist/182/10783-2.html\n",
        "0.32"
       ]
      },
      {
       "output_type": "stream",
       "stream": "stdout",
       "text": [
        " : http://www.fht360.com/productlist/246/13480-3.html\n",
        "0.52"
       ]
      },
      {
       "output_type": "stream",
       "stream": "stdout",
       "text": [
        " : http://www.fht360.com/productlist/424-3-2729.html\n",
        "0.42"
       ]
      },
      {
       "output_type": "stream",
       "stream": "stdout",
       "text": [
        " : http://www.fht360.com/productlist/280/8356-2-2137.html\n",
        "0.54"
       ]
      },
      {
       "output_type": "stream",
       "stream": "stdout",
       "text": [
        " : http://www.fht360.com/productlist/425/52-15-860.html\n",
        "0.47"
       ]
      },
      {
       "output_type": "stream",
       "stream": "stdout",
       "text": [
        " : http://www.fht360.com/productlist/283-2-3065.html\n",
        "0.43"
       ]
      },
      {
       "output_type": "stream",
       "stream": "stdout",
       "text": [
        " : http://www.fht360.com/productlist/337-14-1009.html\n",
        "0.35"
       ]
      },
      {
       "output_type": "stream",
       "stream": "stdout",
       "text": [
        " : http://www.fht360.com/productlist/239/723-8.html\n",
        "0.70"
       ]
      },
      {
       "output_type": "stream",
       "stream": "stdout",
       "text": [
        " : http://www.fht360.com/productlist/245-4-880.html\n",
        "0.34"
       ]
      },
      {
       "output_type": "stream",
       "stream": "stdout",
       "text": [
        " : http://www.fht360.com/productlist/237-6-39.html\n",
        "0.63"
       ]
      },
      {
       "output_type": "stream",
       "stream": "stdout",
       "text": [
        " : http://www.fht360.com/productlist/277/3606-3.html\n",
        "0.82"
       ]
      },
      {
       "output_type": "stream",
       "stream": "stdout",
       "text": [
        " : http://www.fht360.com/productlist/248-2-1857.html\n",
        "0.83"
       ]
      },
      {
       "output_type": "stream",
       "stream": "stdout",
       "text": [
        " : http://www.fht360.com/productlist/231/15791-2.html\n",
        "1.38"
       ]
      },
      {
       "output_type": "stream",
       "stream": "stdout",
       "text": [
        " : http://www.fht360.com/productlist/231/15792-36.html\n",
        "0.96"
       ]
      },
      {
       "output_type": "stream",
       "stream": "stdout",
       "text": [
        " : http://www.fht360.com/productlist/231/15793-19.html\n",
        "0.63"
       ]
      },
      {
       "output_type": "stream",
       "stream": "stdout",
       "text": [
        " : http://www.fht360.com/productlist/266/10320-2-1487.html\n",
        "0.47"
       ]
      },
      {
       "output_type": "stream",
       "stream": "stdout",
       "text": [
        " : http://www.fht360.com/companylist/167/3-2-2143.html\n",
        "0.47"
       ]
      },
      {
       "output_type": "stream",
       "stream": "stdout",
       "text": [
        " : http://www.fht360.com/companylist/167/3-3-2144.html\n",
        "0.47"
       ]
      },
      {
       "output_type": "stream",
       "stream": "stdout",
       "text": [
        " : http://www.fht360.com/companylist/167/3-2-2147.html\n",
        "0.48"
       ]
      },
      {
       "output_type": "stream",
       "stream": "stdout",
       "text": [
        " : http://www.fht360.com/productlist/337/12140-6.html\n",
        "0.56"
       ]
      },
      {
       "output_type": "stream",
       "stream": "stdout",
       "text": [
        " : http://www.fht360.com/productlist/236/394-3-1662.html\n",
        "0.64"
       ]
      },
      {
       "output_type": "stream",
       "stream": "stdout",
       "text": [
        " : http://www.fht360.com/productlist/231/15560-2-1487.html\n",
        "0.62"
       ]
      },
      {
       "output_type": "stream",
       "stream": "stdout",
       "text": [
        " : http://www.fht360.com/productlist/234/131-4-1487.html\n",
        "0.49"
       ]
      },
      {
       "output_type": "stream",
       "stream": "stdout",
       "text": [
        " : http://www.fht360.com/companylist/44/10138-2-1567.html\n",
        "0.57"
       ]
      },
      {
       "output_type": "stream",
       "stream": "stdout",
       "text": [
        " : http://www.fht360.com/productlist/416/19098-2.html\n",
        "0.47"
       ]
      },
      {
       "output_type": "stream",
       "stream": "stdout",
       "text": [
        " : http://www.fht360.com/companylist/59/9024-2.html\n",
        "0.25"
       ]
      },
      {
       "output_type": "stream",
       "stream": "stdout",
       "text": [
        " : http://www.fht360.com/productlist/263-37-1487.html\n",
        "2.59"
       ]
      },
      {
       "output_type": "stream",
       "stream": "stdout",
       "text": [
        " : http://www.fht360.com/productlist/359-3-1487.html\n",
        "2.05"
       ]
      },
      {
       "output_type": "stream",
       "stream": "stdout",
       "text": [
        " : http://www.fht360.com/companylist/165-2-230.html\n",
        "2.58"
       ]
      },
      {
       "output_type": "stream",
       "stream": "stdout",
       "text": [
        " : http://www.fht360.com/productlist/352-3-39.html\n",
        "0.51"
       ]
      },
      {
       "output_type": "stream",
       "stream": "stdout",
       "text": [
        " : http://www.fht360.com/productlist/234/15624-10.html\n",
        "0.63"
       ]
      },
      {
       "output_type": "stream",
       "stream": "stdout",
       "text": [
        " : http://www.fht360.com/productlist/262/8031-2-860.html\n",
        "0.48"
       ]
      },
      {
       "output_type": "stream",
       "stream": "stdout",
       "text": [
        " : http://www.fht360.com/companylist/48/3-2-924.html\n",
        "0.77"
       ]
      },
      {
       "output_type": "stream",
       "stream": "stdout",
       "text": [
        " : http://www.fht360.com/companylist/44-2-2138.html\n",
        "0.46"
       ]
      },
      {
       "output_type": "stream",
       "stream": "stdout",
       "text": [
        " : http://www.fht360.com/companylist/44-9-2137.html\n",
        "0.27"
       ]
      },
      {
       "output_type": "stream",
       "stream": "stdout",
       "text": [
        " : http://www.fht360.com/productlist/226/10513-2-1.html\n",
        "0.48"
       ]
      },
      {
       "output_type": "stream",
       "stream": "stdout",
       "text": [
        " : http://www.fht360.com/companylist/164/3-2-873.html\n",
        "0.59"
       ]
      },
      {
       "output_type": "stream",
       "stream": "stdout",
       "text": [
        " : http://www.fht360.com/companylist/162-2-2143.html\n",
        "1.10"
       ]
      },
      {
       "output_type": "stream",
       "stream": "stdout",
       "text": [
        " : http://www.fht360.com/companylist/162-2-1051.html\n",
        "0.47"
       ]
      },
      {
       "output_type": "stream",
       "stream": "stdout",
       "text": [
        " : http://www.fht360.com/companylist/162-2-2147.html\n",
        "0.14"
       ]
      },
      {
       "output_type": "stream",
       "stream": "stdout",
       "text": [
        " : http://www.fht360.com/productlist/234/288-18.html\n",
        "0.51"
       ]
      },
      {
       "output_type": "stream",
       "stream": "stdout",
       "text": [
        " : http://www.fht360.com/companylist/167-2-1581.html\n",
        "0.50"
       ]
      },
      {
       "output_type": "stream",
       "stream": "stdout",
       "text": [
        " : http://www.fht360.com/productlist/233/16011-7.html\n",
        "0.67"
       ]
      },
      {
       "output_type": "stream",
       "stream": "stdout",
       "text": [
        " : http://www.fht360.com/productlist/236-3-1857.html\n",
        "0.63"
       ]
      },
      {
       "output_type": "stream",
       "stream": "stdout",
       "text": [
        " : http://www.fht360.com/productlist/341/11546-5-2137.html\n",
        "0.56"
       ]
      },
      {
       "output_type": "stream",
       "stream": "stdout",
       "text": [
        " : http://www.fht360.com/companylist/44/10016-2.html\n",
        "0.47"
       ]
      },
      {
       "output_type": "stream",
       "stream": "stdout",
       "text": [
        " : http://www.fht360.com/productlist/233/13952-2.html\n",
        "0.61"
       ]
      },
      {
       "output_type": "stream",
       "stream": "stdout",
       "text": [
        " : http://www.fht360.com/productlist/341/11546-7.html\n",
        "0.62"
       ]
      },
      {
       "output_type": "stream",
       "stream": "stdout",
       "text": [
        " : http://www.fht360.com/companylist/165/3-2-991.html\n",
        "0.62"
       ]
      },
      {
       "output_type": "stream",
       "stream": "stdout",
       "text": [
        " : http://www.fht360.com/productlist/379-5-1487.html\n",
        "0.26"
       ]
      },
      {
       "output_type": "stream",
       "stream": "stdout",
       "text": [
        " : http://www.fht360.com/productlist/238-6-1662.html\n",
        "0.48"
       ]
      },
      {
       "output_type": "stream",
       "stream": "stdout",
       "text": [
        " : http://www.fht360.com/companylist/164/3-5-1663.html\n",
        "0.48"
       ]
      },
      {
       "output_type": "stream",
       "stream": "stdout",
       "text": [
        " : http://www.fht360.com/companylist/46-3-221.html\n",
        "0.48"
       ]
      },
      {
       "output_type": "stream",
       "stream": "stdout",
       "text": [
        " : http://www.fht360.com/companylist/164/3-2-1668.html\n",
        "0.47"
       ]
      },
      {
       "output_type": "stream",
       "stream": "stdout",
       "text": [
        " : http://www.fht360.com/companylist/46-3-228.html\n",
        "0.32"
       ]
      },
      {
       "output_type": "stream",
       "stream": "stdout",
       "text": [
        " : http://www.fht360.com/productlist/359-2-39.html\n",
        "0.48"
       ]
      },
      {
       "output_type": "stream",
       "stream": "stdout",
       "text": [
        " : http://www.fht360.com/companylist/48-2-1038.html\n",
        "0.19"
       ]
      },
      {
       "output_type": "stream",
       "stream": "stdout",
       "text": [
        " : http://www.fht360.com/productlist/274/91-23-1487.html\n",
        "0.62"
       ]
      },
      {
       "output_type": "stream",
       "stream": "stdout",
       "text": [
        " : http://www.fht360.com/productlist/335/930-2-880.html\n",
        "0.52"
       ]
      },
      {
       "output_type": "stream",
       "stream": "stdout",
       "text": [
        " : http://www.fht360.com/productlist/227/14769-4.html\n",
        "0.48"
       ]
      },
      {
       "output_type": "stream",
       "stream": "stdout",
       "text": [
        " : http://www.fht360.com/companylist/167/3-3-1122.html\n",
        "0.50"
       ]
      },
      {
       "output_type": "stream",
       "stream": "stdout",
       "text": [
        " : http://www.fht360.com/productlist/283/17108-9.html\n",
        "0.88"
       ]
      },
      {
       "output_type": "stream",
       "stream": "stdout",
       "text": [
        " : http://www.fht360.com/productlist/431/11763-4-2137.html\n",
        "0.32"
       ]
      },
      {
       "output_type": "stream",
       "stream": "stdout",
       "text": [
        " : http://www.fht360.com/productlist/324-2-499.html\n",
        "0.86"
       ]
      },
      {
       "output_type": "stream",
       "stream": "stdout",
       "text": [
        " : http://www.fht360.com/productlist/236/1843-6-1487.html\n",
        "0.55"
       ]
      },
      {
       "output_type": "stream",
       "stream": "stdout",
       "text": [
        " : http://www.fht360.com/productlist/283/96-4-39.html\n",
        "0.97"
       ]
      },
      {
       "output_type": "stream",
       "stream": "stdout",
       "text": [
        " : http://www.fht360.com/companylist/241/89-2.html\n",
        "0.91"
       ]
      },
      {
       "output_type": "stream",
       "stream": "stdout",
       "text": [
        " : http://www.fht360.com/productlist/317-2-2137.html\n",
        "0.57"
       ]
      },
      {
       "output_type": "stream",
       "stream": "stdout",
       "text": [
        " : http://www.fht360.com/companylist/40-4-39.html\n",
        "0.51"
       ]
      },
      {
       "output_type": "stream",
       "stream": "stdout",
       "text": [
        " : http://www.fht360.com/productlist/241/16019-14.html\n",
        "0.50"
       ]
      },
      {
       "output_type": "stream",
       "stream": "stdout",
       "text": [
        " : http://www.fht360.com/productlist/425-24.html\n",
        "0.65"
       ]
      },
      {
       "output_type": "stream",
       "stream": "stdout",
       "text": [
        " : http://www.fht360.com/productlist/335-16-2137.html\n",
        "0.57"
       ]
      },
      {
       "output_type": "stream",
       "stream": "stdout",
       "text": [
        " : http://www.fht360.com/productlist/274/92-8-1487.html\n",
        "0.74"
       ]
      },
      {
       "output_type": "stream",
       "stream": "stdout",
       "text": [
        " : http://www.fht360.com/productlist/351/13668-8.html\n",
        "1.10"
       ]
      },
      {
       "output_type": "stream",
       "stream": "stdout",
       "text": [
        " : http://www.fht360.com/productlist/424-46-1.html\n",
        "0.92"
       ]
      },
      {
       "output_type": "stream",
       "stream": "stdout",
       "text": [
        " : http://www.fht360.com/productlist/227/14902-3-2137.html\n",
        "0.31"
       ]
      },
      {
       "output_type": "stream",
       "stream": "stdout",
       "text": [
        " : http://www.fht360.com/productlist/328/12703-2.html\n",
        "0.50"
       ]
      },
      {
       "output_type": "stream",
       "stream": "stdout",
       "text": [
        " : http://www.fht360.com/companylist/129/10644-2.html\n",
        "0.25"
       ]
      },
      {
       "output_type": "stream",
       "stream": "stdout",
       "text": [
        " : http://www.fht360.com/productlist/254-4-1122.html\n",
        "1.60"
       ]
      },
      {
       "output_type": "stream",
       "stream": "stdout",
       "text": [
        " : http://www.fht360.com/productlist/352/8460-2.html\n",
        "0.64"
       ]
      },
      {
       "output_type": "stream",
       "stream": "stdout",
       "text": [
        " : http://www.fht360.com/companylist/165/3-2-1070.html\n",
        "0.46"
       ]
      },
      {
       "output_type": "stream",
       "stream": "stdout",
       "text": [
        " : http://www.fht360.com/productlist/415/36-6-860.html\n",
        "0.64"
       ]
      },
      {
       "output_type": "stream",
       "stream": "stdout",
       "text": [
        " : http://www.fht360.com/productlist/357-8-880.html\n",
        "0.51"
       ]
      },
      {
       "output_type": "stream",
       "stream": "stdout",
       "text": [
        " : http://www.fht360.com/companylist/204/10199-2.html\n",
        "0.51"
       ]
      },
      {
       "output_type": "stream",
       "stream": "stdout",
       "text": [
        " : http://www.fht360.com/companylist/40/10387-2.html\n",
        "0.55"
       ]
      },
      {
       "output_type": "stream",
       "stream": "stdout",
       "text": [
        " : http://www.fht360.com/companylist/40/10386-2.html\n",
        "0.51"
       ]
      },
      {
       "output_type": "stream",
       "stream": "stdout",
       "text": [
        " : http://www.fht360.com/productlist/276-2-860.html\n",
        "1.88"
       ]
      },
      {
       "output_type": "stream",
       "stream": "stdout",
       "text": [
        " : http://www.fht360.com/productlist/385/6-87-880.html\n",
        "1.00"
       ]
      },
      {
       "output_type": "stream",
       "stream": "stdout",
       "text": [
        " : http://www.fht360.com/productlist/227-2-2508.html\n",
        "1.23"
       ]
      },
      {
       "output_type": "stream",
       "stream": "stdout",
       "text": [
        " : http://www.fht360.com/productlist/377-5-2137.html\n",
        "0.47"
       ]
      },
      {
       "output_type": "stream",
       "stream": "stdout",
       "text": [
        " : http://www.fht360.com/companylist/164/3-3-1500.html\n",
        "0.49"
       ]
      },
      {
       "output_type": "stream",
       "stream": "stdout",
       "text": [
        " : http://www.fht360.com/companylist/167-12-2164.html\n",
        "0.59"
       ]
      },
      {
       "output_type": "stream",
       "stream": "stdout",
       "text": [
        " : http://www.fht360.com/productlist/375/32-2-860.html\n",
        "0.42"
       ]
      },
      {
       "output_type": "stream",
       "stream": "stdout",
       "text": [
        " : http://www.fht360.com/productlist/234/15642-2-1009.html\n",
        "0.62"
       ]
      },
      {
       "output_type": "stream",
       "stream": "stdout",
       "text": [
        " : http://www.fht360.com/productlist/433-2-2299.html\n",
        "0.71"
       ]
      },
      {
       "output_type": "stream",
       "stream": "stdout",
       "text": [
        " : http://www.fht360.com/productlist/249-6-39.html\n",
        "0.48"
       ]
      },
      {
       "output_type": "stream",
       "stream": "stdout",
       "text": [
        " : http://www.fht360.com/companylist/50/10806-2.html\n",
        "0.83"
       ]
      },
      {
       "output_type": "stream",
       "stream": "stdout",
       "text": [
        " : http://www.fht360.com/companylist/50/10800-2.html\n",
        "0.63"
       ]
      },
      {
       "output_type": "stream",
       "stream": "stdout",
       "text": [
        " : http://www.fht360.com/productlist/309/12114-3-1364.html\n",
        "1.84"
       ]
      },
      {
       "output_type": "stream",
       "stream": "stdout",
       "text": [
        " : http://www.fht360.com/productlist/424/2-88-1487.html\n",
        "0.59"
       ]
      },
      {
       "output_type": "stream",
       "stream": "stdout",
       "text": [
        " : http://www.fht360.com/companylist/52/10140-2.html\n",
        "0.92"
       ]
      },
      {
       "output_type": "stream",
       "stream": "stdout",
       "text": [
        " : http://www.fht360.com/productlist/424/3728-4-1487.html\n",
        "0.44"
       ]
      },
      {
       "output_type": "stream",
       "stream": "stdout",
       "text": [
        " : http://www.fht360.com/productlist/279-2-1.html\n",
        "0.61"
       ]
      },
      {
       "output_type": "stream",
       "stream": "stdout",
       "text": [
        " : http://www.fht360.com/companylist/43/64-2-1487.html\n",
        "0.27"
       ]
      },
      {
       "output_type": "stream",
       "stream": "stdout",
       "text": [
        " : http://www.fht360.com/productlist/231/16951-3.html\n",
        "0.44"
       ]
      },
      {
       "output_type": "stream",
       "stream": "stdout",
       "text": [
        " : http://www.fht360.com/productlist/371-2-1260.html\n",
        "0.27"
       ]
      },
      {
       "output_type": "stream",
       "stream": "stdout",
       "text": [
        " : http://www.fht360.com/productlist/356-25-2137.html\n",
        "0.46"
       ]
      },
      {
       "output_type": "stream",
       "stream": "stdout",
       "text": [
        " : http://www.fht360.com/companylist/37-4-986.html\n",
        "0.30"
       ]
      },
      {
       "output_type": "stream",
       "stream": "stdout",
       "text": [
        " : http://www.fht360.com/productlist/433/14339-2.html\n",
        "0.08"
       ]
      },
      {
       "output_type": "stream",
       "stream": "stdout",
       "text": [
        " : http://www.fht360.com/productlist/312/10685-5.html\n",
        "0.50"
       ]
      },
      {
       "output_type": "stream",
       "stream": "stdout",
       "text": [
        " : http://www.fht360.com/companylist/162-24-1487.html\n",
        "1.31"
       ]
      },
      {
       "output_type": "stream",
       "stream": "stdout",
       "text": [
        " : http://www.fht360.com/companylist/162-3-1488.html\n",
        "1.20"
       ]
      },
      {
       "output_type": "stream",
       "stream": "stdout",
       "text": [
        " : http://www.fht360.com/companylist/165-13-1009.html\n",
        "0.46"
       ]
      },
      {
       "output_type": "stream",
       "stream": "stdout",
       "text": [
        " : http://www.fht360.com/productlist/415/91-6-39.html\n",
        "0.47"
       ]
      },
      {
       "output_type": "stream",
       "stream": "stdout",
       "text": [
        " : http://www.fht360.com/companylist/164-3-1122.html\n",
        "1.20"
       ]
      },
      {
       "output_type": "stream",
       "stream": "stdout",
       "text": [
        " : http://www.fht360.com/companylist/49-12-2138.html\n",
        "4.42"
       ]
      },
      {
       "output_type": "stream",
       "stream": "stdout",
       "text": [
        " : http://www.fht360.com/companylist/40-2-191.html\n",
        "1.91"
       ]
      },
      {
       "output_type": "stream",
       "stream": "stdout",
       "text": [
        " : http://www.fht360.com/productlist/227/12300-4.html\n",
        "0.16"
       ]
      },
      {
       "output_type": "stream",
       "stream": "stdout",
       "text": [
        " : http://www.fht360.com/productlist/248/707-6.html\n",
        "1.21"
       ]
      },
      {
       "output_type": "stream",
       "stream": "stdout",
       "text": [
        " : http://www.fht360.com/productlist/248/705-2.html\n",
        "0.33"
       ]
      },
      {
       "output_type": "stream",
       "stream": "stdout",
       "text": [
        " : http://www.fht360.com/productlist/277-13-880.html\n",
        "0.79"
       ]
      },
      {
       "output_type": "stream",
       "stream": "stdout",
       "text": [
        " : http://www.fht360.com/productlist/248/709-3.html\n",
        "0.36"
       ]
      },
      {
       "output_type": "stream",
       "stream": "stdout",
       "text": [
        " : http://www.fht360.com/productlist/331/10010-2-39.html\n",
        "0.47"
       ]
      },
      {
       "output_type": "stream",
       "stream": "stdout",
       "text": [
        " : http://www.fht360.com/companylist/43-4-2137.html\n",
        "0.33"
       ]
      },
      {
       "output_type": "stream",
       "stream": "stdout",
       "text": [
        " : http://www.fht360.com/productlist/233/16774-2.html\n",
        "0.47"
       ]
      },
      {
       "output_type": "stream",
       "stream": "stdout",
       "text": [
        " : http://www.fht360.com/companylist/162-4-2170.html\n",
        "0.39"
       ]
      },
      {
       "output_type": "stream",
       "stream": "stdout",
       "text": [
        " : http://www.fht360.com/productlist/234/131-3-880.html\n",
        "0.31"
       ]
      },
      {
       "output_type": "stream",
       "stream": "stdout",
       "text": [
        " : http://www.fht360.com/productlist/286/1843-9.html\n",
        "0.25"
       ]
      },
      {
       "output_type": "stream",
       "stream": "stdout",
       "text": [
        " : http://www.fht360.com/productlist/442/11610-2.html\n",
        "3.35"
       ]
      },
      {
       "output_type": "stream",
       "stream": "stdout",
       "text": [
        " : http://www.fht360.com/productlist/276/15161-12.html\n",
        "0.48"
       ]
      },
      {
       "output_type": "stream",
       "stream": "stdout",
       "text": [
        " : http://www.fht360.com/productlist/264/10373-2-2137.html\n",
        "0.34"
       ]
      },
      {
       "output_type": "stream",
       "stream": "stdout",
       "text": [
        " : http://www.fht360.com/productlist/433/51-4.html\n",
        "0.48"
       ]
      },
      {
       "output_type": "stream",
       "stream": "stdout",
       "text": [
        " : http://www.fht360.com/companylist/48/3-3-1619.html\n",
        "0.72"
       ]
      },
      {
       "output_type": "stream",
       "stream": "stdout",
       "text": [
        " : http://www.fht360.com/productlist/340-8-1487.html\n",
        "0.59"
       ]
      },
      {
       "output_type": "stream",
       "stream": "stdout",
       "text": [
        " : http://www.fht360.com/companylist/59-2-2138.html\n",
        "0.48"
       ]
      },
      {
       "output_type": "stream",
       "stream": "stdout",
       "text": [
        " : http://www.fht360.com/companylist/59-9-2137.html\n",
        "0.74"
       ]
      },
      {
       "output_type": "stream",
       "stream": "stdout",
       "text": [
        " : http://www.fht360.com/companylist/167-4-2170.html\n",
        "1.13"
       ]
      },
      {
       "output_type": "stream",
       "stream": "stdout",
       "text": [
        " : http://www.fht360.com/productlist/235/17973-3.html\n",
        "0.34"
       ]
      },
      {
       "output_type": "stream",
       "stream": "stdout",
       "text": [
        " : http://www.fht360.com/productlist/239-8-1122.html\n",
        "0.81"
       ]
      },
      {
       "output_type": "stream",
       "stream": "stdout",
       "text": [
        " : http://www.fht360.com/companylist/162-2-873.html\n",
        "1.10"
       ]
      },
      {
       "output_type": "stream",
       "stream": "stdout",
       "text": [
        " : http://www.fht360.com/companylist/114/10583-2.html\n",
        "0.99"
       ]
      },
      {
       "output_type": "stream",
       "stream": "stdout",
       "text": [
        " : http://www.fht360.com/productlist/231/15502-2.html\n",
        "1.27"
       ]
      },
      {
       "output_type": "stream",
       "stream": "stdout",
       "text": [
        " : http://www.fht360.com/companylist/248/9024-2.html\n",
        "0.84"
       ]
      },
      {
       "output_type": "stream",
       "stream": "stdout",
       "text": [
        " : http://www.fht360.com/productlist/231/15786-3-1487.html\n",
        "1.08"
       ]
      },
      {
       "output_type": "stream",
       "stream": "stdout",
       "text": [
        " : http://www.fht360.com/productlist/351/13542-3-2137.html\n",
        "0.76"
       ]
      },
      {
       "output_type": "stream",
       "stream": "stdout",
       "text": [
        " : http://www.fht360.com/productlist/324/10003-4-39.html\n",
        "0.70"
       ]
      },
      {
       "output_type": "stream",
       "stream": "stdout",
       "text": [
        " : http://www.fht360.com/productlist/231/130-3-1487.html\n",
        "0.72"
       ]
      },
      {
       "output_type": "stream",
       "stream": "stdout",
       "text": [
        " : http://www.fht360.com/companylist/63-2-1488.html\n",
        "1.13"
       ]
      },
      {
       "output_type": "stream",
       "stream": "stdout",
       "text": [
        " : http://www.fht360.com/companylist/63-3-1487.html\n",
        "1.25"
       ]
      },
      {
       "output_type": "stream",
       "stream": "stdout",
       "text": [
        " : http://www.fht360.com/companylist/45/10053-2-2137.html\n",
        "0.50"
       ]
      },
      {
       "output_type": "stream",
       "stream": "stdout",
       "text": [
        " : http://www.fht360.com/companylist/164-16-39.html\n",
        "0.58"
       ]
      },
      {
       "output_type": "stream",
       "stream": "stdout",
       "text": [
        " : http://www.fht360.com/productlist/351/13637-2-2137.html\n",
        "0.36"
       ]
      },
      {
       "output_type": "stream",
       "stream": "stdout",
       "text": [
        " : http://www.fht360.com/productlist/367/13627-3-2137.html\n",
        "1.07"
       ]
      },
      {
       "output_type": "stream",
       "stream": "stdout",
       "text": [
        " : http://www.fht360.com/productlist/385-5-1009.html\n",
        "0.29"
       ]
      },
      {
       "output_type": "stream",
       "stream": "stdout",
       "text": [
        " : http://www.fht360.com/productlist/372-4-2137.html\n",
        "0.91"
       ]
      },
      {
       "output_type": "stream",
       "stream": "stdout",
       "text": [
        " : http://www.fht360.com/productlist/323-2-2137.html\n",
        "0.82"
       ]
      },
      {
       "output_type": "stream",
       "stream": "stdout",
       "text": [
        " : http://www.fht360.com/productlist/368-2-2137.html\n",
        "1.00"
       ]
      },
      {
       "output_type": "stream",
       "stream": "stdout",
       "text": [
        " : http://www.fht360.com/companylist/132/10310-2.html\n",
        "0.78"
       ]
      },
      {
       "output_type": "stream",
       "stream": "stdout",
       "text": [
        " : http://www.fht360.com/productlist/333/71-17.html\n",
        "0.71"
       ]
      },
      {
       "output_type": "stream",
       "stream": "stdout",
       "text": [
        " : http://www.fht360.com/productlist/260/640-11-880.html\n",
        "0.81"
       ]
      },
      {
       "output_type": "stream",
       "stream": "stdout",
       "text": [
        " : http://www.fht360.com/productlist/446/741-2.html\n",
        "1.07"
       ]
      },
      {
       "output_type": "stream",
       "stream": "stdout",
       "text": [
        " : http://www.fht360.com/productlist/241/451-15.html\n",
        "0.90"
       ]
      },
      {
       "output_type": "stream",
       "stream": "stdout",
       "text": [
        " : http://www.fht360.com/productlist/337/12162-2-1009.html\n",
        "1.36"
       ]
      },
      {
       "output_type": "stream",
       "stream": "stdout",
       "text": [
        " : http://www.fht360.com/productlist/239/12094-2-1487.html\n",
        "0.67"
       ]
      },
      {
       "output_type": "stream",
       "stream": "stdout",
       "text": [
        " : http://www.fht360.com/productlist/246/13319-11-2137.html\n",
        "0.79"
       ]
      },
      {
       "output_type": "stream",
       "stream": "stdout",
       "text": [
        " : http://www.fht360.com/productlist/433/14014-7.html\n",
        "0.68"
       ]
      },
      {
       "output_type": "stream",
       "stream": "stdout",
       "text": [
        " : http://www.fht360.com/productlist/248/12064-2.html\n",
        "0.30"
       ]
      },
      {
       "output_type": "stream",
       "stream": "stdout",
       "text": [
        " : http://www.fht360.com/productlist/296-3.html\n",
        "0.73"
       ]
      },
      {
       "output_type": "stream",
       "stream": "stdout",
       "text": [
        " : http://www.fht360.com/productlist/324/12422-2-860.html\n",
        "1.09"
       ]
      },
      {
       "output_type": "stream",
       "stream": "stdout",
       "text": [
        " : http://www.fht360.com/productlist/326-8-1487.html\n",
        "0.46"
       ]
      },
      {
       "output_type": "stream",
       "stream": "stdout",
       "text": [
        " : http://www.fht360.com/productlist/234/307-3-1662.html\n",
        "0.72"
       ]
      },
      {
       "output_type": "stream",
       "stream": "stdout",
       "text": [
        " : http://www.fht360.com/productlist/248/684-2-1487.html\n",
        "2.66"
       ]
      },
      {
       "output_type": "stream",
       "stream": "stdout",
       "text": [
        " : http://www.fht360.com/companylist/179/10810-2.html\n",
        "0.56"
       ]
      },
      {
       "output_type": "stream",
       "stream": "stdout",
       "text": [
        " : http://www.fht360.com/productlist/234/10320-2-1487.html\n",
        "0.68"
       ]
      },
      {
       "output_type": "stream",
       "stream": "stdout",
       "text": [
        " : http://www.fht360.com/productlist/274/91-37.html\n",
        "1.14"
       ]
      },
      {
       "output_type": "stream",
       "stream": "stdout",
       "text": [
        " : http://www.fht360.com/productlist/286/2113-2-1009.html\n",
        "0.76"
       ]
      },
      {
       "output_type": "stream",
       "stream": "stdout",
       "text": [
        " : http://www.fht360.com/productlist/325/78-4-880.html\n",
        "0.40"
       ]
      },
      {
       "output_type": "stream",
       "stream": "stdout",
       "text": [
        " : http://www.fht360.com/productlist/235-6-1122.html\n",
        "0.59"
       ]
      },
      {
       "output_type": "stream",
       "stream": "stdout",
       "text": [
        " : http://www.fht360.com/productlist/425/52-2-1487.html\n",
        "0.50"
       ]
      },
      {
       "output_type": "stream",
       "stream": "stdout",
       "text": [
        " : http://www.fht360.com/companylist/165/3-3-896.html\n",
        "0.47"
       ]
      },
      {
       "output_type": "stream",
       "stream": "stdout",
       "text": [
        " : http://www.fht360.com/productlist/334/12421-7-1009.html\n",
        "0.66"
       ]
      },
      {
       "output_type": "stream",
       "stream": "stdout",
       "text": [
        " : http://www.fht360.com/companylist/162-3-986.html\n",
        "0.46"
       ]
      },
      {
       "output_type": "stream",
       "stream": "stdout",
       "text": [
        " : http://www.fht360.com/companylist/166/10539-2-2137.html\n",
        "0.31"
       ]
      },
      {
       "output_type": "stream",
       "stream": "stdout",
       "text": [
        " : http://www.fht360.com/productlist/266/272-3.html\n",
        "0.38"
       ]
      },
      {
       "output_type": "stream",
       "stream": "stdout",
       "text": [
        " : http://www.fht360.com/productlist/307/11590-2-860.html\n",
        "0.50"
       ]
      },
      {
       "output_type": "stream",
       "stream": "stdout",
       "text": [
        " : http://www.fht360.com/productlist/263-2-39.html\n",
        "0.42"
       ]
      },
      {
       "output_type": "stream",
       "stream": "stdout",
       "text": [
        " : http://www.fht360.com/productlist/231/15792-2-1662.html\n",
        "0.63"
       ]
      },
      {
       "output_type": "stream",
       "stream": "stdout",
       "text": [
        " : http://www.fht360.com/companylist/162-4-1567.html\n",
        "0.52"
       ]
      },
      {
       "output_type": "stream",
       "stream": "stdout",
       "text": [
        " : http://www.fht360.com/companylist/45-3-860.html\n",
        "0.93"
       ]
      },
      {
       "output_type": "stream",
       "stream": "stdout",
       "text": [
        " : http://www.fht360.com/companylist/165/3-2-706.html\n",
        "8.10"
       ]
      },
      {
       "output_type": "stream",
       "stream": "stdout",
       "text": [
        " : http://www.fht360.com/productlist/412/14106-3-1009.html\n",
        "0.29"
       ]
      },
      {
       "output_type": "stream",
       "stream": "stdout",
       "text": [
        " : http://www.fht360.com/productlist/273/99-5.html\n",
        "0.78"
       ]
      },
      {
       "output_type": "stream",
       "stream": "stdout",
       "text": [
        " : http://www.fht360.com/productlist/227/12114-6.html\n",
        "2.19"
       ]
      },
      {
       "output_type": "stream",
       "stream": "stdout",
       "text": [
        " : http://www.fht360.com/productlist/401/9024-2-1122.html\n",
        "0.63"
       ]
      },
      {
       "output_type": "stream",
       "stream": "stdout",
       "text": [
        " : http://www.fht360.com/productlist/334/12703-2-1487.html\n",
        "0.45"
       ]
      },
      {
       "output_type": "stream",
       "stream": "stdout",
       "text": [
        " : http://www.fht360.com/productlist/249-3-2508.html\n",
        "0.33"
       ]
      },
      {
       "output_type": "stream",
       "stream": "stdout",
       "text": [
        " : http://www.fht360.com/productlist/368/14125-2.html\n",
        "1.16"
       ]
      },
      {
       "output_type": "stream",
       "stream": "stdout",
       "text": [
        " : http://www.fht360.com/companylist/167-3-1619.html\n",
        "0.79"
       ]
      },
      {
       "output_type": "stream",
       "stream": "stdout",
       "text": [
        " : http://www.fht360.com/companylist/47-2-1662.html\n",
        "0.35"
       ]
      },
      {
       "output_type": "stream",
       "stream": "stdout",
       "text": [
        " : http://www.fht360.com/productlist/241/466-3.html\n",
        "1.34"
       ]
      },
      {
       "output_type": "stream",
       "stream": "stdout",
       "text": [
        " : http://www.fht360.com/productlist/255/655-2.html\n",
        "0.71"
       ]
      },
      {
       "output_type": "stream",
       "stream": "stdout",
       "text": [
        " : http://www.fht360.com/productlist/250/1242-2.html\n",
        "0.51"
       ]
      },
      {
       "output_type": "stream",
       "stream": "stdout",
       "text": [
        " : http://www.fht360.com/productlist/250-6-2137.html\n",
        "0.49"
       ]
      },
      {
       "output_type": "stream",
       "stream": "stdout",
       "text": [
        " : http://www.fht360.com/productlist/351-2-39.html\n",
        "0.47"
       ]
      },
      {
       "output_type": "stream",
       "stream": "stdout",
       "text": [
        " : http://www.fht360.com/productlist/293/10425-2-1260.html\n",
        "0.29"
       ]
      },
      {
       "output_type": "stream",
       "stream": "stdout",
       "text": [
        " : http://www.fht360.com/productlist/246-9-1662.html\n",
        "0.34"
       ]
      },
      {
       "output_type": "stream",
       "stream": "stdout",
       "text": [
        " : http://www.fht360.com/productlist/292/193-14.html\n",
        "0.60"
       ]
      },
      {
       "output_type": "stream",
       "stream": "stdout",
       "text": [
        " : http://www.fht360.com/productlist/252-8-880.html\n",
        "0.34"
       ]
      },
      {
       "output_type": "stream",
       "stream": "stdout",
       "text": [
        " : http://www.fht360.com/productlist/234/15613-8.html\n",
        "0.83"
       ]
      },
      {
       "output_type": "stream",
       "stream": "stdout",
       "text": [
        " : http://www.fht360.com/companylist/68-2-2137.html\n",
        "0.42"
       ]
      },
      {
       "output_type": "stream",
       "stream": "stdout",
       "text": [
        " : http://www.fht360.com/productlist/352/13794-12.html\n",
        "0.52"
       ]
      },
      {
       "output_type": "stream",
       "stream": "stdout",
       "text": [
        " : http://www.fht360.com/companylist/167-2-1276.html\n",
        "0.42"
       ]
      },
      {
       "output_type": "stream",
       "stream": "stdout",
       "text": [
        " : http://www.fht360.com/productlist/231/455-2-1487.html\n",
        "0.61"
       ]
      },
      {
       "output_type": "stream",
       "stream": "stdout",
       "text": [
        " : http://www.fht360.com/productlist/317-6-880.html\n",
        "0.27"
       ]
      },
      {
       "output_type": "stream",
       "stream": "stdout",
       "text": [
        " : http://www.fht360.com/productlist/234/2125-2.html\n",
        "0.48"
       ]
      },
      {
       "output_type": "stream",
       "stream": "stdout",
       "text": [
        " : http://www.fht360.com/productlist/293/10425-2-1.html\n",
        "0.59"
       ]
      },
      {
       "output_type": "stream",
       "stream": "stdout",
       "text": [
        " : http://www.fht360.com/companylist/34-17-1487.html\n",
        "0.55"
       ]
      },
      {
       "output_type": "stream",
       "stream": "stdout",
       "text": [
        " : http://www.fht360.com/companylist/34-6-1488.html\n",
        "0.48"
       ]
      },
      {
       "output_type": "stream",
       "stream": "stdout",
       "text": [
        " : http://www.fht360.com/companylist/52-2-1376.html\n",
        "0.39"
       ]
      },
      {
       "output_type": "stream",
       "stream": "stdout",
       "text": [
        " : http://www.fht360.com/productlist/250-10-880.html\n",
        "0.55"
       ]
      },
      {
       "output_type": "stream",
       "stream": "stdout",
       "text": [
        " : http://www.fht360.com/companylist/54-3-1487.html\n",
        "0.27"
       ]
      },
      {
       "output_type": "stream",
       "stream": "stdout",
       "text": [
        " : http://www.fht360.com/productlist/359-2-1260.html\n",
        "0.97"
       ]
      },
      {
       "output_type": "stream",
       "stream": "stdout",
       "text": [
        " : http://www.fht360.com/productlist/237/193-5-1487.html\n",
        "0.72"
       ]
      },
      {
       "output_type": "stream",
       "stream": "stdout",
       "text": [
        " : http://www.fht360.com/productlist/279/3609-2-1487.html\n",
        "0.45"
       ]
      },
      {
       "output_type": "stream",
       "stream": "stdout",
       "text": [
        " : http://www.fht360.com/productlist/226/10805-12.html\n",
        "0.53"
       ]
      },
      {
       "output_type": "stream",
       "stream": "stdout",
       "text": [
        " : http://www.fht360.com/productlist/264/159-2-1662.html\n",
        "0.62"
       ]
      },
      {
       "output_type": "stream",
       "stream": "stdout",
       "text": [
        " : http://www.fht360.com/companylist/98-4.html\n",
        "0.68"
       ]
      },
      {
       "output_type": "stream",
       "stream": "stdout",
       "text": [
        " : http://www.fht360.com/companylist/96-3.html\n",
        "0.45"
       ]
      },
      {
       "output_type": "stream",
       "stream": "stdout",
       "text": [
        " : http://www.fht360.com/companylist/94-2.html\n",
        "0.60"
       ]
      },
      {
       "output_type": "stream",
       "stream": "stdout",
       "text": [
        " : http://www.fht360.com/companylist/95-2.html\n",
        "0.47"
       ]
      },
      {
       "output_type": "stream",
       "stream": "stdout",
       "text": [
        " : http://www.fht360.com/companylist/93-3.html\n",
        "0.53"
       ]
      },
      {
       "output_type": "stream",
       "stream": "stdout",
       "text": [
        " : http://www.fht360.com/companylist/90-4.html\n",
        "0.41"
       ]
      },
      {
       "output_type": "stream",
       "stream": "stdout",
       "text": [
        " : http://www.fht360.com/companylist/91-2.html\n",
        "0.26"
       ]
      },
      {
       "output_type": "stream",
       "stream": "stdout",
       "text": [
        " : http://www.fht360.com/productlist/351/13675-3.html\n",
        "0.36"
       ]
      },
      {
       "output_type": "stream",
       "stream": "stdout",
       "text": [
        " : http://www.fht360.com/productlist/351/13677-11.html\n",
        "0.31"
       ]
      },
      {
       "output_type": "stream",
       "stream": "stdout",
       "text": [
        " : http://www.fht360.com/productlist/413/363-4.html\n",
        "0.27"
       ]
      },
      {
       "output_type": "stream",
       "stream": "stdout",
       "text": [
        " : http://www.fht360.com/productlist/351/13678-9.html\n",
        "0.56"
       ]
      },
      {
       "output_type": "stream",
       "stream": "stdout",
       "text": [
        " : http://www.fht360.com/companylist/34-2-918.html\n",
        "0.52"
       ]
      },
      {
       "output_type": "stream",
       "stream": "stdout",
       "text": [
        " : http://www.fht360.com/companylist/37/10471-2.html\n",
        "0.45"
       ]
      },
      {
       "output_type": "stream",
       "stream": "stdout",
       "text": [
        " : http://www.fht360.com/productlist/233-2-706.html\n",
        "0.44"
       ]
      },
      {
       "output_type": "stream",
       "stream": "stdout",
       "text": [
        " : http://www.fht360.com/productlist/343/29-2-1487.html\n",
        "0.54"
       ]
      },
      {
       "output_type": "stream",
       "stream": "stdout",
       "text": [
        " : http://www.fht360.com/companylist/165-2-924.html\n",
        "0.47"
       ]
      },
      {
       "output_type": "stream",
       "stream": "stdout",
       "text": [
        " : http://www.fht360.com/companylist/165-7-927.html\n",
        "0.28"
       ]
      },
      {
       "output_type": "stream",
       "stream": "stdout",
       "text": [
        " : http://www.fht360.com/productlist/233/17010-6.html\n",
        "0.48"
       ]
      },
      {
       "output_type": "stream",
       "stream": "stdout",
       "text": [
        " : http://www.fht360.com/companylist/48-12-860.html\n",
        "0.36"
       ]
      },
      {
       "output_type": "stream",
       "stream": "stdout",
       "text": [
        " : http://www.fht360.com/productlist/233/640-15.html\n",
        "0.27"
       ]
      },
      {
       "output_type": "stream",
       "stream": "stdout",
       "text": [
        " : http://www.fht360.com/productlist/246-6-1260.html\n",
        "0.47"
       ]
      },
      {
       "output_type": "stream",
       "stream": "stdout",
       "text": [
        " : http://www.fht360.com/companylist/164/3-2-881.html\n",
        "0.29"
       ]
      },
      {
       "output_type": "stream",
       "stream": "stdout",
       "text": [
        " : http://www.fht360.com/productlist/283/96-14.html\n",
        "0.47"
       ]
      },
      {
       "output_type": "stream",
       "stream": "stdout",
       "text": [
        " : http://www.fht360.com/productlist/241/456-2-1487.html\n",
        "0.48"
       ]
      },
      {
       "output_type": "stream",
       "stream": "stdout",
       "text": [
        " : http://www.fht360.com/companylist/162-2-2508.html\n",
        "0.48"
       ]
      },
      {
       "output_type": "stream",
       "stream": "stdout",
       "text": [
        " : http://www.fht360.com/companylist/162-2-2509.html\n",
        "0.57"
       ]
      },
      {
       "output_type": "stream",
       "stream": "stdout",
       "text": [
        " : http://www.fht360.com/companylist/50/10311-2.html\n",
        "0.72"
       ]
      },
      {
       "output_type": "stream",
       "stream": "stdout",
       "text": [
        " : http://www.fht360.com/companylist/50/10312-2.html\n",
        "1.22"
       ]
      },
      {
       "output_type": "stream",
       "stream": "stdout",
       "text": [
        " : http://www.fht360.com/productlist/241-12-2137.html\n",
        "0.32"
       ]
      },
      {
       "output_type": "stream",
       "stream": "stdout",
       "text": [
        " : http://www.fht360.com/productlist/283/94-13.html\n",
        "0.54"
       ]
      },
      {
       "output_type": "stream",
       "stream": "stdout",
       "text": [
        " : http://www.fht360.com/productlist/437/51-2-1122.html\n",
        "0.61"
       ]
      },
      {
       "output_type": "stream",
       "stream": "stdout",
       "text": [
        " : http://www.fht360.com/productlist/227-5-1364.html\n",
        "0.41"
       ]
      },
      {
       "output_type": "stream",
       "stream": "stdout",
       "text": [
        " : http://www.fht360.com/productlist/337/13450-2.html\n",
        "1.45"
       ]
      },
      {
       "output_type": "stream",
       "stream": "stdout",
       "text": [
        " : http://www.fht360.com/productlist/324/12421-65-2137.html\n",
        "1.01"
       ]
      },
      {
       "output_type": "stream",
       "stream": "stdout",
       "text": [
        " : http://www.fht360.com/productlist/334-13-1487.html\n",
        "0.56"
       ]
      },
      {
       "output_type": "stream",
       "stream": "stdout",
       "text": [
        " : http://www.fht360.com/companylist/165/3-3-918.html\n",
        "0.86"
       ]
      },
      {
       "output_type": "stream",
       "stream": "stdout",
       "text": [
        " : http://www.fht360.com/productlist/326-3-1662.html\n",
        "0.60"
       ]
      },
      {
       "output_type": "stream",
       "stream": "stdout",
       "text": [
        " : http://www.fht360.com/productlist/361/13127-2-2137.html\n",
        "0.97"
       ]
      },
      {
       "output_type": "stream",
       "stream": "stdout",
       "text": [
        " : http://www.fht360.com/productlist/241/489-2-1122.html\n",
        "1.31"
       ]
      },
      {
       "output_type": "stream",
       "stream": "stdout",
       "text": [
        " : http://www.fht360.com/productlist/251/8-44.html\n",
        "0.97"
       ]
      },
      {
       "output_type": "stream",
       "stream": "stdout",
       "text": [
        " : http://www.fht360.com/productlist/238/11415-3-1487.html\n",
        "0.42"
       ]
      },
      {
       "output_type": "stream",
       "stream": "stdout",
       "text": [
        " : http://www.fht360.com/productlist/261/288-12-880.html\n",
        "0.43"
       ]
      },
      {
       "output_type": "stream",
       "stream": "stdout",
       "text": [
        " : http://www.fht360.com/productlist/239/390-4-1.html\n",
        "0.47"
       ]
      },
      {
       "output_type": "stream",
       "stream": "stdout",
       "text": [
        " : http://www.fht360.com/productlist/250-2-39.html\n",
        "0.32"
       ]
      },
      {
       "output_type": "stream",
       "stream": "stdout",
       "text": [
        " : http://www.fht360.com/productlist/244/615-6.html\n",
        "0.42"
       ]
      },
      {
       "output_type": "stream",
       "stream": "stdout",
       "text": [
        " : http://www.fht360.com/productlist/437/12242-2-1487.html\n",
        "0.38"
       ]
      },
      {
       "output_type": "stream",
       "stream": "stdout",
       "text": [
        " : http://www.fht360.com/productlist/435/15238-2-1487.html\n",
        "0.43"
       ]
      },
      {
       "output_type": "stream",
       "stream": "stdout",
       "text": [
        " : http://www.fht360.com/productlist/238-1-1009.html\n",
        "0.38"
       ]
      },
      {
       "output_type": "stream",
       "stream": "stdout",
       "text": [
        " : http://www.fht360.com/productlist/281/16193-4-2137.html\n",
        "0.36"
       ]
      },
      {
       "output_type": "stream",
       "stream": "stdout",
       "text": [
        " : http://www.fht360.com/productlist/348/17632-3-2137.html\n",
        "0.47"
       ]
      },
      {
       "output_type": "stream",
       "stream": "stdout",
       "text": [
        " : http://www.fht360.com/companylist/167-2-1070.html\n",
        "0.64"
       ]
      },
      {
       "output_type": "stream",
       "stream": "stdout",
       "text": [
        " : http://www.fht360.com/companylist/43-2-39.html\n",
        "1.84"
       ]
      },
      {
       "output_type": "stream",
       "stream": "stdout",
       "text": [
        " : http://www.fht360.com/productlist/283/17261-2-1.html\n",
        "4.78"
       ]
      },
      {
       "output_type": "stream",
       "stream": "stdout",
       "text": [
        " : http://www.fht360.com/productlist/343/10783-3.html\n",
        "0.47"
       ]
      },
      {
       "output_type": "stream",
       "stream": "stdout",
       "text": [
        " : http://www.fht360.com/productlist/231/150-2-39.html\n",
        "0.42"
       ]
      },
      {
       "output_type": "stream",
       "stream": "stdout",
       "text": [
        " : http://www.fht360.com/productlist/292-3-39.html\n",
        "0.37"
       ]
      },
      {
       "output_type": "stream",
       "stream": "stdout",
       "text": [
        " : http://www.fht360.com/productlist/301/11633-2-2137.html\n",
        "0.36"
       ]
      },
      {
       "output_type": "stream",
       "stream": "stdout",
       "text": [
        " : http://www.fht360.com/productlist/236/16193-4-2137.html\n",
        "0.24"
       ]
      },
      {
       "output_type": "stream",
       "stream": "stdout",
       "text": [
        " : http://www.fht360.com/productlist/249/11436-6.html\n",
        "1.14"
       ]
      },
      {
       "output_type": "stream",
       "stream": "stdout",
       "text": [
        " : http://www.fht360.com/companylist/165/3-2-132.html\n",
        "0.75"
       ]
      },
      {
       "output_type": "stream",
       "stream": "stdout",
       "text": [
        " : http://www.fht360.com/companylist/38/10615-2.html\n",
        "0.47"
       ]
      },
      {
       "output_type": "stream",
       "stream": "stdout",
       "text": [
        " : http://www.fht360.com/companylist/165/3-2-191.html\n",
        "0.14"
       ]
      },
      {
       "output_type": "stream",
       "stream": "stdout",
       "text": [
        " : http://www.fht360.com/productlist/331-40.html\n",
        "0.86"
       ]
      },
      {
       "output_type": "stream",
       "stream": "stdout",
       "text": [
        " : http://www.fht360.com/productlist/334-161.html\n",
        "1.20"
       ]
      },
      {
       "output_type": "stream",
       "stream": "stdout",
       "text": [
        " : http://www.fht360.com/productlist/337-99.html\n",
        "1.21"
       ]
      },
      {
       "output_type": "stream",
       "stream": "stdout",
       "text": [
        " : http://www.fht360.com/productlist/236-6-1662.html\n",
        "0.48"
       ]
      },
      {
       "output_type": "stream",
       "stream": "stdout",
       "text": [
        " : http://www.fht360.com/companylist/164-3-1500.html\n",
        "0.44"
       ]
      },
      {
       "output_type": "stream",
       "stream": "stdout",
       "text": [
        " : http://www.fht360.com/productlist/239/266-3-1662.html\n",
        "0.34"
       ]
      },
      {
       "output_type": "stream",
       "stream": "stdout",
       "text": [
        " : http://www.fht360.com/productlist/423/10811-2.html\n",
        "0.38"
       ]
      },
      {
       "output_type": "stream",
       "stream": "stdout",
       "text": [
        " : http://www.fht360.com/productlist/246/13448-2-1487.html\n",
        "0.62"
       ]
      },
      {
       "output_type": "stream",
       "stream": "stdout",
       "text": [
        " : http://www.fht360.com/productlist/274/18478-2-1487.html\n",
        "0.48"
       ]
      },
      {
       "output_type": "stream",
       "stream": "stdout",
       "text": [
        " : http://www.fht360.com/companylist/48/3-2-1100.html\n",
        "0.47"
       ]
      },
      {
       "output_type": "stream",
       "stream": "stdout",
       "text": [
        " : http://www.fht360.com/productlist/234/282-2-1662.html\n",
        "0.13"
       ]
      },
      {
       "output_type": "stream",
       "stream": "stdout",
       "text": [
        " : http://www.fht360.com/productlist/395-12.html\n",
        "0.31"
       ]
      },
      {
       "output_type": "stream",
       "stream": "stdout",
       "text": [
        " : http://www.fht360.com/productlist/236/17820-2.html\n",
        "0.30"
       ]
      },
      {
       "output_type": "stream",
       "stream": "stdout",
       "text": [
        " : http://www.fht360.com/productlist/328/12781-3.html\n",
        "0.25"
       ]
      },
      {
       "output_type": "stream",
       "stream": "stdout",
       "text": [
        " : http://www.fht360.com/productlist/328/12780-2.html\n",
        "0.47"
       ]
      },
      {
       "output_type": "stream",
       "stream": "stdout",
       "text": [
        " : http://www.fht360.com/companylist/165/3-4-1567.html\n",
        "0.40"
       ]
      },
      {
       "output_type": "stream",
       "stream": "stdout",
       "text": [
        " : http://www.fht360.com/productlist/435/15235-2-39.html\n",
        "0.48"
       ]
      },
      {
       "output_type": "stream",
       "stream": "stdout",
       "text": [
        " : http://www.fht360.com/companylist/164/3-2-1581.html\n",
        "0.61"
       ]
      },
      {
       "output_type": "stream",
       "stream": "stdout",
       "text": [
        " : http://www.fht360.com/companylist/165-2-1858.html\n",
        "0.56"
       ]
      },
      {
       "output_type": "stream",
       "stream": "stdout",
       "text": [
        " : http://www.fht360.com/companylist/158/10179-2.html\n",
        "0.27"
       ]
      },
      {
       "output_type": "stream",
       "stream": "stdout",
       "text": [
        " : http://www.fht360.com/productlist/315/3786-2.html\n",
        "0.37"
       ]
      },
      {
       "output_type": "stream",
       "stream": "stdout",
       "text": [
        " : http://www.fht360.com/productlist/324/12438-2-2137.html\n",
        "0.51"
       ]
      },
      {
       "output_type": "stream",
       "stream": "stdout",
       "text": [
        " : http://www.fht360.com/companylist/48-17-2278.html\n",
        "1.46"
       ]
      },
      {
       "output_type": "stream",
       "stream": "stdout",
       "text": [
        " : http://www.fht360.com/companylist/48-2-2279.html\n",
        "0.88"
       ]
      },
      {
       "output_type": "stream",
       "stream": "stdout",
       "text": [
        " : http://www.fht360.com/productlist/367-2-1487.html\n",
        "0.40"
       ]
      },
      {
       "output_type": "stream",
       "stream": "stdout",
       "text": [
        " : http://www.fht360.com/productlist/226/11514-2-2137.html\n",
        "0.64"
       ]
      },
      {
       "output_type": "stream",
       "stream": "stdout",
       "text": [
        " : http://www.fht360.com/companylist/47/10003-2.html\n",
        "0.44"
       ]
      },
      {
       "output_type": "stream",
       "stream": "stdout",
       "text": [
        " : http://www.fht360.com/productlist/228/12065-3-2137.html\n",
        "0.46"
       ]
      },
      {
       "output_type": "stream",
       "stream": "stdout",
       "text": [
        " : http://www.fht360.com/companylist/61/10310-2-2137.html\n",
        "0.67"
       ]
      },
      {
       "output_type": "stream",
       "stream": "stdout",
       "text": [
        " : http://www.fht360.com/companylist/50/10833-2-2137.html\n",
        "0.49"
       ]
      },
      {
       "output_type": "stream",
       "stream": "stdout",
       "text": [
        " : http://www.fht360.com/companylist/34-4-1567.html\n",
        "0.49"
       ]
      },
      {
       "output_type": "stream",
       "stream": "stdout",
       "text": [
        " : http://www.fht360.com/companylist/34-2-1569.html\n",
        "0.35"
       ]
      },
      {
       "output_type": "stream",
       "stream": "stdout",
       "text": [
        " : http://www.fht360.com/productlist/313/17403-2-2137.html\n",
        "0.48"
       ]
      },
      {
       "output_type": "stream",
       "stream": "stdout",
       "text": [
        " : http://www.fht360.com/companylist/137/10180-2.html\n",
        "0.56"
       ]
      },
      {
       "output_type": "stream",
       "stream": "stdout",
       "text": [
        " : http://www.fht360.com/companylist/137/10183-2.html\n",
        "0.33"
       ]
      },
      {
       "output_type": "stream",
       "stream": "stdout",
       "text": [
        " : http://www.fht360.com/productlist/424/14833-12.html\n",
        "0.44"
       ]
      },
      {
       "output_type": "stream",
       "stream": "stdout",
       "text": [
        " : http://www.fht360.com/productlist/401-2-2137.html\n",
        "0.34"
       ]
      },
      {
       "output_type": "stream",
       "stream": "stdout",
       "text": [
        " : http://www.fht360.com/productlist/236/15687-4.html\n",
        "0.44"
       ]
      },
      {
       "output_type": "stream",
       "stream": "stdout",
       "text": [
        " : http://www.fht360.com/productlist/228/8152-2-39.html\n",
        "0.48"
       ]
      },
      {
       "output_type": "stream",
       "stream": "stdout",
       "text": [
        " : http://www.fht360.com/companylist/162-4-1260.html\n",
        "0.38"
       ]
      },
      {
       "output_type": "stream",
       "stream": "stdout",
       "text": [
        " : http://www.fht360.com/productlist/433/14263-2-2299.html\n",
        "0.57"
       ]
      },
      {
       "output_type": "stream",
       "stream": "stdout",
       "text": [
        " : http://www.fht360.com/companylist/136-5.html\n",
        "0.50"
       ]
      },
      {
       "output_type": "stream",
       "stream": "stdout",
       "text": [
        " : http://www.fht360.com/companylist/137-34.html\n",
        "0.58"
       ]
      },
      {
       "output_type": "stream",
       "stream": "stdout",
       "text": [
        " : http://www.fht360.com/companylist/134-3.html\n",
        "0.47"
       ]
      },
      {
       "output_type": "stream",
       "stream": "stdout",
       "text": [
        " : http://www.fht360.com/companylist/132-3.html\n",
        "0.65"
       ]
      },
      {
       "output_type": "stream",
       "stream": "stdout",
       "text": [
        " : http://www.fht360.com/companylist/130-3.html\n",
        "0.59"
       ]
      },
      {
       "output_type": "stream",
       "stream": "stdout",
       "text": [
        " : http://www.fht360.com/companylist/138-2.html\n",
        "0.45"
       ]
      },
      {
       "output_type": "stream",
       "stream": "stdout",
       "text": [
        " : http://www.fht360.com/companylist/139-9.html\n",
        "0.42"
       ]
      },
      {
       "output_type": "stream",
       "stream": "stdout",
       "text": [
        " : http://www.fht360.com/productlist/254-8-2137.html\n",
        "0.28"
       ]
      },
      {
       "output_type": "stream",
       "stream": "stdout",
       "text": [
        " : http://www.fht360.com/productlist/239-7-1.html\n",
        "0.45"
       ]
      },
      {
       "output_type": "stream",
       "stream": "stdout",
       "text": [
        " : http://www.fht360.com/productlist/274-11-2137.html\n",
        "0.38"
       ]
      },
      {
       "output_type": "stream",
       "stream": "stdout",
       "text": [
        " : http://www.fht360.com/productlist/301/11722-2-2137.html\n",
        "0.31"
       ]
      },
      {
       "output_type": "stream",
       "stream": "stdout",
       "text": [
        " : http://www.fht360.com/productlist/324-15-1662.html\n",
        "0.25"
       ]
      },
      {
       "output_type": "stream",
       "stream": "stdout",
       "text": [
        " : http://www.fht360.com/productlist/258/13952-2.html\n",
        "0.59"
       ]
      },
      {
       "output_type": "stream",
       "stream": "stdout",
       "text": [
        " : http://www.fht360.com/companylist/198/10916-2.html\n",
        "0.27"
       ]
      },
      {
       "output_type": "stream",
       "stream": "stdout",
       "text": [
        " : http://www.fht360.com/productlist/236-2-499.html\n",
        "0.46"
       ]
      },
      {
       "output_type": "stream",
       "stream": "stdout",
       "text": [
        " : http://www.fht360.com/productlist/246/12198-2-39.html\n",
        "0.49"
       ]
      },
      {
       "output_type": "stream",
       "stream": "stdout",
       "text": [
        " : http://www.fht360.com/productlist/247/12198-2-860.html\n",
        "0.59"
       ]
      },
      {
       "output_type": "stream",
       "stream": "stdout",
       "text": [
        " : http://www.fht360.com/productlist/234-7-1.html\n",
        "1.16"
       ]
      },
      {
       "output_type": "stream",
       "stream": "stdout",
       "text": [
        " : http://www.fht360.com/companylist/44/10030-2.html\n",
        "1.38"
       ]
      },
      {
       "output_type": "stream",
       "stream": "stdout",
       "text": [
        " : http://www.fht360.com/productlist/377-61-880.html\n",
        "1.11"
       ]
      },
      {
       "output_type": "stream",
       "stream": "stdout",
       "text": [
        " : http://www.fht360.com/productlist/385-191-1487.html\n",
        "0.91"
       ]
      },
      {
       "output_type": "stream",
       "stream": "stdout",
       "text": [
        " : http://www.fht360.com/productlist/358/14925-2-2137.html\n",
        "0.33"
       ]
      },
      {
       "output_type": "stream",
       "stream": "stdout",
       "text": [
        " : http://www.fht360.com/productlist/341/3064-2.html\n",
        "3.43"
       ]
      },
      {
       "output_type": "stream",
       "stream": "stdout",
       "text": [
        " : http://www.fht360.com/productlist/437/14014-6-2137.html\n",
        "1.38"
       ]
      },
      {
       "output_type": "stream",
       "stream": "stdout",
       "text": [
        " : http://www.fht360.com/companylist/165/3-3-1488.html\n",
        "0.76"
       ]
      },
      {
       "output_type": "stream",
       "stream": "stdout",
       "text": [
        " : http://www.fht360.com/productlist/231/15793-5-2137.html\n",
        "0.83"
       ]
      },
      {
       "output_type": "stream",
       "stream": "stdout",
       "text": [
        " : http://www.fht360.com/productlist/328/12422-2-860.html\n",
        "0.59"
       ]
      },
      {
       "output_type": "stream",
       "stream": "stdout",
       "text": [
        " : http://www.fht360.com/companylist/50/10800-2-2137.html\n",
        "1.16"
       ]
      },
      {
       "output_type": "stream",
       "stream": "stdout",
       "text": [
        " : http://www.fht360.com/companylist/43/10925-2.html\n",
        "0.39"
       ]
      },
      {
       "output_type": "stream",
       "stream": "stdout",
       "text": [
        " : http://www.fht360.com/productlist/227/10511-2-1857.html\n",
        "3.24"
       ]
      },
      {
       "output_type": "stream",
       "stream": "stdout",
       "text": [
        " : http://www.fht360.com/productlist/432-26-2137.html\n",
        "0.79"
       ]
      },
      {
       "output_type": "stream",
       "stream": "stdout",
       "text": [
        " : http://www.fht360.com/companylist/48/10068-2.html\n",
        "0.71"
       ]
      },
      {
       "output_type": "stream",
       "stream": "stdout",
       "text": [
        " : http://www.fht360.com/productlist/245-1-1009.html\n",
        "1.27"
       ]
      },
      {
       "output_type": "stream",
       "stream": "stdout",
       "text": [
        " : http://www.fht360.com/productlist/334/12421-12-860.html\n",
        "0.62"
       ]
      },
      {
       "output_type": "stream",
       "stream": "stdout",
       "text": [
        " : http://www.fht360.com/productlist/279-2-1857.html\n",
        "0.74"
       ]
      },
      {
       "output_type": "stream",
       "stream": "stdout",
       "text": [
        " : http://www.fht360.com/productlist/231/683-2-1487.html\n",
        "0.64"
       ]
      },
      {
       "output_type": "stream",
       "stream": "stdout",
       "text": [
        " : http://www.fht360.com/productlist/283-16-2137.html\n",
        "0.60"
       ]
      },
      {
       "output_type": "stream",
       "stream": "stdout",
       "text": [
        " : http://www.fht360.com/productlist/231/11415-5.html\n",
        "5.42"
       ]
      },
      {
       "output_type": "stream",
       "stream": "stdout",
       "text": [
        " : http://www.fht360.com/productlist/435/15235-2.html\n",
        "0.49"
       ]
      },
      {
       "output_type": "stream",
       "stream": "stdout",
       "text": [
        " : http://www.fht360.com/productlist/435/15236-3.html\n",
        "0.47"
       ]
      },
      {
       "output_type": "stream",
       "stream": "stdout",
       "text": [
        " : http://www.fht360.com/productlist/435/15239-2.html\n",
        "0.49"
       ]
      },
      {
       "output_type": "stream",
       "stream": "stdout",
       "text": [
        " : http://www.fht360.com/productlist/435/15238-2.html\n",
        "1.04"
       ]
      },
      {
       "output_type": "stream",
       "stream": "stdout",
       "text": [
        " : http://www.fht360.com/productlist/325-9-1487.html\n",
        "1.16"
       ]
      },
      {
       "output_type": "stream",
       "stream": "stdout",
       "text": [
        " : http://www.fht360.com/companylist/44-6-880.html\n",
        "0.43"
       ]
      },
      {
       "output_type": "stream",
       "stream": "stdout",
       "text": [
        " : http://www.fht360.com/companylist/175/10954-2.html\n",
        "0.66"
       ]
      },
      {
       "output_type": "stream",
       "stream": "stdout",
       "text": [
        " : http://www.fht360.com/productlist/234/10288-4-2137.html\n",
        "0.84"
       ]
      },
      {
       "output_type": "stream",
       "stream": "stdout",
       "text": [
        " : http://www.fht360.com/companylist/162-2-1858.html\n",
        "0.55"
       ]
      },
      {
       "output_type": "stream",
       "stream": "stdout",
       "text": [
        " : http://www.fht360.com/productlist/424-24-1122.html\n",
        "0.51"
       ]
      },
      {
       "output_type": "stream",
       "stream": "stdout",
       "text": [
        " : http://www.fht360.com/productlist/334/12319-2.html\n",
        "0.63"
       ]
      },
      {
       "output_type": "stream",
       "stream": "stdout",
       "text": [
        " : http://www.fht360.com/productlist/312/7239-2-1122.html\n",
        "0.13"
       ]
      },
      {
       "output_type": "stream",
       "stream": "stdout",
       "text": [
        " : http://www.fht360.com/productlist/234/303-29.html\n",
        "0.65"
       ]
      },
      {
       "output_type": "stream",
       "stream": "stdout",
       "text": [
        " : http://www.fht360.com/productlist/351/13622-4-2137.html\n",
        "0.70"
       ]
      },
      {
       "output_type": "stream",
       "stream": "stdout",
       "text": [
        " : http://www.fht360.com/productlist/432/14833-8-2137.html\n",
        "0.66"
       ]
      },
      {
       "output_type": "stream",
       "stream": "stdout",
       "text": [
        " : http://www.fht360.com/productlist/254/15933-2-1009.html\n",
        "0.53"
       ]
      },
      {
       "output_type": "stream",
       "stream": "stdout",
       "text": [
        " : http://www.fht360.com/productlist/250/1189-4.html\n",
        "0.47"
       ]
      },
      {
       "output_type": "stream",
       "stream": "stdout",
       "text": [
        " : http://www.fht360.com/companylist/162/3-2-2190.html\n",
        "0.47"
       ]
      },
      {
       "output_type": "stream",
       "stream": "stdout",
       "text": [
        " : http://www.fht360.com/companylist/164/3-4-1260.html\n",
        "0.18"
       ]
      },
      {
       "output_type": "stream",
       "stream": "stdout",
       "text": [
        " : http://www.fht360.com/productlist/261/291-3-880.html\n",
        "0.47"
       ]
      },
      {
       "output_type": "stream",
       "stream": "stdout",
       "text": [
        " : http://www.fht360.com/companylist/162/3-4-1553.html\n",
        "0.93"
       ]
      },
      {
       "output_type": "stream",
       "stream": "stdout",
       "text": [
        " : http://www.fht360.com/productlist/251-30-880.html\n",
        "0.45"
       ]
      },
      {
       "output_type": "stream",
       "stream": "stdout",
       "text": [
        " : http://www.fht360.com/productlist/227/14902-4.html\n",
        "0.67"
       ]
      },
      {
       "output_type": "stream",
       "stream": "stdout",
       "text": [
        " : http://www.fht360.com/companylist/59-2-8.html\n",
        "0.50"
       ]
      },
      {
       "output_type": "stream",
       "stream": "stdout",
       "text": [
        " : http://www.fht360.com/productlist/368/5158-4.html\n",
        "1.08"
       ]
      },
      {
       "output_type": "stream",
       "stream": "stdout",
       "text": [
        " : http://www.fht360.com/productlist/233/8-5-2137.html\n",
        "0.69"
       ]
      },
      {
       "output_type": "stream",
       "stream": "stdout",
       "text": [
        " : http://www.fht360.com/productlist/429/11342-9.html\n",
        "1.74"
       ]
      },
      {
       "output_type": "stream",
       "stream": "stdout",
       "text": [
        " : http://www.fht360.com/productlist/246/13350-3.html\n",
        "0.56"
       ]
      },
      {
       "output_type": "stream",
       "stream": "stdout",
       "text": [
        " : http://www.fht360.com/companylist/164-2-1364.html\n",
        "0.67"
       ]
      },
      {
       "output_type": "stream",
       "stream": "stdout",
       "text": [
        " : http://www.fht360.com/productlist/351/13614-5-2137.html\n",
        "0.66"
       ]
      },
      {
       "output_type": "stream",
       "stream": "stdout",
       "text": [
        " : http://www.fht360.com/productlist/356/13341-2-2137.html\n",
        "1.00"
       ]
      },
      {
       "output_type": "stream",
       "stream": "stdout",
       "text": [
        " : http://www.fht360.com/companylist/56/4-10.html\n",
        "0.47"
       ]
      },
      {
       "output_type": "stream",
       "stream": "stdout",
       "text": [
        " : http://www.fht360.com/companylist/162-16-39.html\n",
        "0.64"
       ]
      },
      {
       "output_type": "stream",
       "stream": "stdout",
       "text": [
        " : http://www.fht360.com/productlist/248/159-4-1487.html\n",
        "0.62"
       ]
      },
      {
       "output_type": "stream",
       "stream": "stdout",
       "text": [
        " : http://www.fht360.com/companylist/52/10938-2.html\n",
        "0.54"
       ]
      },
      {
       "output_type": "stream",
       "stream": "stdout",
       "text": [
        " : http://www.fht360.com/companylist/52/10932-2.html\n",
        "0.57"
       ]
      },
      {
       "output_type": "stream",
       "stream": "stdout",
       "text": [
        " : http://www.fht360.com/companylist/52/10931-2.html\n",
        "0.42"
       ]
      },
      {
       "output_type": "stream",
       "stream": "stdout",
       "text": [
        " : http://www.fht360.com/companylist/52/10930-2.html\n",
        "0.49"
       ]
      },
      {
       "output_type": "stream",
       "stream": "stdout",
       "text": [
        " : http://www.fht360.com/companylist/52/10937-2.html\n",
        "0.55"
       ]
      },
      {
       "output_type": "stream",
       "stream": "stdout",
       "text": [
        " : http://www.fht360.com/productlist/236/17819-2-2137.html\n",
        "0.48"
       ]
      },
      {
       "output_type": "stream",
       "stream": "stdout",
       "text": [
        " : http://www.fht360.com/companylist/164/3-2-1070.html\n",
        "0.35"
       ]
      },
      {
       "output_type": "stream",
       "stream": "stdout",
       "text": [
        " : http://www.fht360.com/productlist/249-3-1009.html\n",
        "0.42"
       ]
      },
      {
       "output_type": "stream",
       "stream": "stdout",
       "text": [
        " : http://www.fht360.com/productlist/253/639-3.html\n",
        "0.94"
       ]
      },
      {
       "output_type": "stream",
       "stream": "stdout",
       "text": [
        " : http://www.fht360.com/productlist/424/2-8-1857.html\n",
        "0.54"
       ]
      },
      {
       "output_type": "stream",
       "stream": "stdout",
       "text": [
        " : http://www.fht360.com/productlist/351/13561-4.html\n",
        "0.77"
       ]
      },
      {
       "output_type": "stream",
       "stream": "stdout",
       "text": [
        " : http://www.fht360.com/productlist/279/18808-7-2137.html\n",
        "0.90"
       ]
      },
      {
       "output_type": "stream",
       "stream": "stdout",
       "text": [
        " : http://www.fht360.com/productlist/227-3-1857.html\n",
        "0.66"
       ]
      },
      {
       "output_type": "stream",
       "stream": "stdout",
       "text": [
        " : http://www.fht360.com/productlist/233-2-20.html\n",
        "1.20"
       ]
      },
      {
       "output_type": "stream",
       "stream": "stdout",
       "text": [
        " : http://www.fht360.com/companylist/165-3-896.html\n",
        "0.53"
       ]
      },
      {
       "output_type": "stream",
       "stream": "stdout",
       "text": [
        " : http://www.fht360.com/productlist/356/13333-2.html\n",
        "0.61"
       ]
      },
      {
       "output_type": "stream",
       "stream": "stdout",
       "text": [
        " : http://www.fht360.com/productlist/427/12171-3-2137.html\n",
        "0.57"
       ]
      },
      {
       "output_type": "stream",
       "stream": "stdout",
       "text": [
        " : http://www.fht360.com/productlist/227/10511-5-39.html\n",
        "0.63"
       ]
      },
      {
       "output_type": "stream",
       "stream": "stdout",
       "text": [
        " : http://www.fht360.com/productlist/227/12300-2-2137.html\n",
        "1.13"
       ]
      },
      {
       "output_type": "stream",
       "stream": "stdout",
       "text": [
        " : http://www.fht360.com/productlist/341-6-880.html\n",
        "1.09"
       ]
      },
      {
       "output_type": "stream",
       "stream": "stdout",
       "text": [
        " : http://www.fht360.com/companylist/48-2-1987.html\n",
        "0.79"
       ]
      },
      {
       "output_type": "stream",
       "stream": "stdout",
       "text": [
        " : http://www.fht360.com/productlist/250/18085-3-2137.html\n",
        "0.65"
       ]
      },
      {
       "output_type": "stream",
       "stream": "stdout",
       "text": [
        " : http://www.fht360.com/productlist/427/12292-2-2137.html\n",
        "0.68"
       ]
      },
      {
       "output_type": "stream",
       "stream": "stdout",
       "text": [
        " : http://www.fht360.com/productlist/351-2-3065.html\n",
        "0.47"
       ]
      },
      {
       "output_type": "stream",
       "stream": "stdout",
       "text": [
        " : http://www.fht360.com/companylist/86-2-39.html\n",
        "0.44"
       ]
      },
      {
       "output_type": "stream",
       "stream": "stdout",
       "text": [
        " : http://www.fht360.com/productlist/305/16097-2.html\n",
        "0.49"
       ]
      },
      {
       "output_type": "stream",
       "stream": "stdout",
       "text": [
        " : http://www.fht360.com/companylist/75-2-1009.html\n",
        "0.48"
       ]
      },
      {
       "output_type": "stream",
       "stream": "stdout",
       "text": [
        " : http://www.fht360.com/companylist/48/3-24-1487.html\n",
        "2.03"
       ]
      },
      {
       "output_type": "stream",
       "stream": "stdout",
       "text": [
        " : http://www.fht360.com/productlist/341-3-39.html\n",
        "1.32"
       ]
      },
      {
       "output_type": "stream",
       "stream": "stdout",
       "text": [
        " : http://www.fht360.com/productlist/236/17244-3.html\n",
        "0.96"
       ]
      },
      {
       "output_type": "stream",
       "stream": "stdout",
       "text": [
        " : http://www.fht360.com/companylist/233/83-2-1487.html\n",
        "0.96"
       ]
      },
      {
       "output_type": "stream",
       "stream": "stdout",
       "text": [
        " : http://www.fht360.com/productlist/231/1044-5-1487.html\n",
        "0.93"
       ]
      },
      {
       "output_type": "stream",
       "stream": "stdout",
       "text": [
        " : http://www.fht360.com/companylist/48-2-1514.html\n",
        "0.59"
       ]
      },
      {
       "output_type": "stream",
       "stream": "stdout",
       "text": [
        " : http://www.fht360.com/companylist/167/3-2-1491.html\n",
        "0.54"
       ]
      },
      {
       "output_type": "stream",
       "stream": "stdout",
       "text": [
        " : http://www.fht360.com/companylist/100/10464-2.html\n",
        "0.75"
       ]
      },
      {
       "output_type": "stream",
       "stream": "stdout",
       "text": [
        " : http://www.fht360.com/productlist/343-2-1662.html\n",
        "1.27"
       ]
      },
      {
       "output_type": "stream",
       "stream": "stdout",
       "text": [
        " : http://www.fht360.com/productlist/424-55-39.html\n",
        "1.06"
       ]
      },
      {
       "output_type": "stream",
       "stream": "stdout",
       "text": [
        " : http://www.fht360.com/productlist/325-2-860.html\n",
        "1.34"
       ]
      },
      {
       "output_type": "stream",
       "stream": "stdout",
       "text": [
        " : http://www.fht360.com/companylist/52-2-1662.html\n",
        "0.44"
       ]
      },
      {
       "output_type": "stream",
       "stream": "stdout",
       "text": [
        " : http://www.fht360.com/productlist/333-4-860.html\n",
        "0.55"
       ]
      },
      {
       "output_type": "stream",
       "stream": "stdout",
       "text": [
        " : http://www.fht360.com/productlist/334/12438-2-2137.html\n",
        "0.74"
       ]
      },
      {
       "output_type": "stream",
       "stream": "stdout",
       "text": [
        " : http://www.fht360.com/productlist/239/705-2.html\n",
        "0.14"
       ]
      },
      {
       "output_type": "stream",
       "stream": "stdout",
       "text": [
        " : http://www.fht360.com/productlist/239/703-20.html\n",
        "0.51"
       ]
      },
      {
       "output_type": "stream",
       "stream": "stdout",
       "text": [
        " : http://www.fht360.com/productlist/234/392-2.html\n",
        "0.67"
       ]
      },
      {
       "output_type": "stream",
       "stream": "stdout",
       "text": [
        " : http://www.fht360.com/productlist/334/12421-2-1364.html\n",
        "5.17"
       ]
      },
      {
       "output_type": "stream",
       "stream": "stdout",
       "text": [
        " : http://www.fht360.com/companylist/50/10835-2-2137.html\n",
        "0.48"
       ]
      },
      {
       "output_type": "stream",
       "stream": "stdout",
       "text": [
        " : http://www.fht360.com/companylist/167-3-20.html\n",
        "1.06"
       ]
      },
      {
       "output_type": "stream",
       "stream": "stdout",
       "text": [
        " : http://www.fht360.com/productlist/432-3-860.html\n",
        "1.23"
       ]
      },
      {
       "output_type": "stream",
       "stream": "stdout",
       "text": [
        " : http://www.fht360.com/productlist/226/10889-3.html\n",
        "0.59"
       ]
      },
      {
       "output_type": "stream",
       "stream": "stdout",
       "text": [
        " : http://www.fht360.com/companylist/164-4-2170.html\n",
        "0.52"
       ]
      },
      {
       "output_type": "stream",
       "stream": "stdout",
       "text": [
        " : http://www.fht360.com/productlist/287/10402-2.html\n",
        "1.68"
       ]
      },
      {
       "output_type": "stream",
       "stream": "stdout",
       "text": [
        " : http://www.fht360.com/productlist/233/631-2.html\n",
        "0.76"
       ]
      },
      {
       "output_type": "stream",
       "stream": "stdout",
       "text": [
        " : http://www.fht360.com/productlist/231/507-12.html\n",
        "0.57"
       ]
      },
      {
       "output_type": "stream",
       "stream": "stdout",
       "text": [
        " : http://www.fht360.com/companylist/184/10835-2-2137.html\n",
        "0.54"
       ]
      },
      {
       "output_type": "stream",
       "stream": "stdout",
       "text": [
        " : http://www.fht360.com/companylist/49-2-2279.html\n",
        "0.68"
       ]
      },
      {
       "output_type": "stream",
       "stream": "stdout",
       "text": [
        " : http://www.fht360.com/companylist/49-4-2278.html\n",
        "0.50"
       ]
      },
      {
       "output_type": "stream",
       "stream": "stdout",
       "text": [
        " : http://www.fht360.com/productlist/432/14872-4.html\n",
        "0.52"
       ]
      },
      {
       "output_type": "stream",
       "stream": "stdout",
       "text": [
        " : http://www.fht360.com/companylist/39/10519-2-2137.html\n",
        "0.63"
       ]
      },
      {
       "output_type": "stream",
       "stream": "stdout",
       "text": [
        " : http://www.fht360.com/productlist/342-2-1987.html\n",
        "0.79"
       ]
      },
      {
       "output_type": "stream",
       "stream": "stdout",
       "text": [
        " : http://www.fht360.com/productlist/234/282-9.html\n",
        "0.61"
       ]
      },
      {
       "output_type": "stream",
       "stream": "stdout",
       "text": [
        " : http://www.fht360.com/productlist/226/11590-2-880.html\n",
        "0.83"
       ]
      },
      {
       "output_type": "stream",
       "stream": "stdout",
       "text": [
        " : http://www.fht360.com/productlist/352/13974-2-2137.html\n",
        "0.95"
       ]
      },
      {
       "output_type": "stream",
       "stream": "stdout",
       "text": [
        " : http://www.fht360.com/productlist/415/36-15-1487.html\n",
        "0.76"
       ]
      },
      {
       "output_type": "stream",
       "stream": "stdout",
       "text": [
        " : http://www.fht360.com/companylist/165/3-2-1100.html\n",
        "0.54"
       ]
      },
      {
       "output_type": "stream",
       "stream": "stdout",
       "text": [
        " : http://www.fht360.com/companylist/167/3-6-2169.html\n",
        "0.52"
       ]
      },
      {
       "output_type": "stream",
       "stream": "stdout",
       "text": [
        " : http://www.fht360.com/companylist/59-2-880.html\n",
        "1.07"
       ]
      },
      {
       "output_type": "stream",
       "stream": "stdout",
       "text": [
        " : http://www.fht360.com/productlist/234/298-2-880.html\n",
        "0.47"
       ]
      },
      {
       "output_type": "stream",
       "stream": "stdout",
       "text": [
        " : http://www.fht360.com/companylist/165/3-12-2164.html\n",
        "0.30"
       ]
      },
      {
       "output_type": "stream",
       "stream": "stdout",
       "text": [
        " : http://www.fht360.com/productlist/424/14784-5.html\n",
        "0.75"
       ]
      },
      {
       "output_type": "stream",
       "stream": "stdout",
       "text": [
        " : http://www.fht360.com/companylist/49/10927-2.html\n",
        "1.70"
       ]
      },
      {
       "output_type": "stream",
       "stream": "stdout",
       "text": [
        " : http://www.fht360.com/companylist/206/10720-2.html\n",
        "0.90"
       ]
      },
      {
       "output_type": "stream",
       "stream": "stdout",
       "text": [
        " : http://www.fht360.com/companylist/63-2-191.html\n",
        "0.34"
       ]
      },
      {
       "output_type": "stream",
       "stream": "stdout",
       "text": [
        " : http://www.fht360.com/productlist/233/15916-22.html\n",
        "0.51"
       ]
      },
      {
       "output_type": "stream",
       "stream": "stdout",
       "text": [
        " : http://www.fht360.com/companylist/164-2-1051.html\n",
        "0.71"
       ]
      },
      {
       "output_type": "stream",
       "stream": "stdout",
       "text": [
        " : http://www.fht360.com/productlist/367/13638-5.html\n",
        "0.74"
       ]
      },
      {
       "output_type": "stream",
       "stream": "stdout",
       "text": [
        " : http://www.fht360.com/companylist/130/10029-2.html\n",
        "0.31"
       ]
      },
      {
       "output_type": "stream",
       "stream": "stdout",
       "text": [
        " : http://www.fht360.com/productlist/237-9-860.html\n",
        "0.49"
       ]
      },
      {
       "output_type": "stream",
       "stream": "stdout",
       "text": [
        " : http://www.fht360.com/companylist/164-2-1581.html\n",
        "0.51"
       ]
      },
      {
       "output_type": "stream",
       "stream": "stdout",
       "text": [
        " : http://www.fht360.com/productlist/356-2-1487.html\n",
        "0.46"
       ]
      },
      {
       "output_type": "stream",
       "stream": "stdout",
       "text": [
        " : http://www.fht360.com/productlist/337/12162-2-880.html\n",
        "0.48"
       ]
      },
      {
       "output_type": "stream",
       "stream": "stdout",
       "text": [
        " : http://www.fht360.com/companylist/48/3-5-2186.html\n",
        "0.45"
       ]
      },
      {
       "output_type": "stream",
       "stream": "stdout",
       "text": [
        " : http://www.fht360.com/productlist/410/15945-2-1009.html\n",
        "0.47"
       ]
      },
      {
       "output_type": "stream",
       "stream": "stdout",
       "text": [
        " : http://www.fht360.com/companylist/167-4-1553.html\n",
        "1.06"
       ]
      },
      {
       "output_type": "stream",
       "stream": "stdout",
       "text": [
        " : http://www.fht360.com/productlist/293/10425-7-1009.html\n",
        "0.54"
       ]
      },
      {
       "output_type": "stream",
       "stream": "stdout",
       "text": [
        " : http://www.fht360.com/productlist/331-2-1857.html\n",
        "1.51"
       ]
      },
      {
       "output_type": "stream",
       "stream": "stdout",
       "text": [
        " : http://www.fht360.com/productlist/424/2-46-39.html\n",
        "0.79"
       ]
      },
      {
       "output_type": "stream",
       "stream": "stdout",
       "text": [
        " : http://www.fht360.com/productlist/249/12224-2.html\n",
        "0.44"
       ]
      },
      {
       "output_type": "stream",
       "stream": "stdout",
       "text": [
        " : http://www.fht360.com/productlist/343/29-3-39.html\n",
        "0.53"
       ]
      },
      {
       "output_type": "stream",
       "stream": "stdout",
       "text": [
        " : http://www.fht360.com/companylist/136/10069-2.html\n",
        "0.32"
       ]
      },
      {
       "output_type": "stream",
       "stream": "stdout",
       "text": [
        " : http://www.fht360.com/productlist/424/14738-7.html\n",
        "0.30"
       ]
      },
      {
       "output_type": "stream",
       "stream": "stdout",
       "text": [
        " : http://www.fht360.com/productlist/352/14333-5.html\n",
        "0.56"
       ]
      },
      {
       "output_type": "stream",
       "stream": "stdout",
       "text": [
        " : http://www.fht360.com/companylist/45/10055-2.html\n",
        "0.51"
       ]
      },
      {
       "output_type": "stream",
       "stream": "stdout",
       "text": [
        " : http://www.fht360.com/companylist/45/10051-2.html\n",
        "0.50"
       ]
      },
      {
       "output_type": "stream",
       "stream": "stdout",
       "text": [
        " : http://www.fht360.com/companylist/45/10053-2.html\n",
        "0.54"
       ]
      },
      {
       "output_type": "stream",
       "stream": "stdout",
       "text": [
        " : http://www.fht360.com/productlist/383/15449-2.html\n",
        "0.26"
       ]
      },
      {
       "output_type": "stream",
       "stream": "stdout",
       "text": [
        " : http://www.fht360.com/productlist/264/10369-2.html\n",
        "0.43"
       ]
      },
      {
       "output_type": "stream",
       "stream": "stdout",
       "text": [
        " : http://www.fht360.com/productlist/424/14862-2-1987.html\n",
        "0.35"
       ]
      },
      {
       "output_type": "stream",
       "stream": "stdout",
       "text": [
        " : http://www.fht360.com/productlist/442/14694-2-2137.html\n",
        "0.54"
       ]
      },
      {
       "output_type": "stream",
       "stream": "stdout",
       "text": [
        " : http://www.fht360.com/companylist/164/3-2-1051.html\n",
        "0.48"
       ]
      },
      {
       "output_type": "stream",
       "stream": "stdout",
       "text": [
        " : http://www.fht360.com/companylist/167-3-986.html\n",
        "0.45"
       ]
      },
      {
       "output_type": "stream",
       "stream": "stdout",
       "text": [
        " : http://www.fht360.com/productlist/385/6-12-1122.html\n",
        "0.50"
       ]
      },
      {
       "output_type": "stream",
       "stream": "stdout",
       "text": [
        " : http://www.fht360.com/productlist/351/13511-4-2137.html\n",
        "0.48"
       ]
      },
      {
       "output_type": "stream",
       "stream": "stdout",
       "text": [
        " : http://www.fht360.com/companylist/164/3-2-2509.html\n",
        "0.63"
       ]
      },
      {
       "output_type": "stream",
       "stream": "stdout",
       "text": [
        " : http://www.fht360.com/companylist/164/3-2-2508.html\n",
        "0.59"
       ]
      },
      {
       "output_type": "stream",
       "stream": "stdout",
       "text": [
        " : http://www.fht360.com/companylist/48-2-2147.html\n",
        "0.49"
       ]
      },
      {
       "output_type": "stream",
       "stream": "stdout",
       "text": [
        " : http://www.fht360.com/companylist/48-3-2144.html\n",
        "0.41"
       ]
      },
      {
       "output_type": "stream",
       "stream": "stdout",
       "text": [
        " : http://www.fht360.com/productlist/308-3-880.html\n",
        "0.28"
       ]
      },
      {
       "output_type": "stream",
       "stream": "stdout",
       "text": [
        " : http://www.fht360.com/productlist/231/13-5-1487.html\n",
        "0.36"
       ]
      },
      {
       "output_type": "stream",
       "stream": "stdout",
       "text": [
        " : http://www.fht360.com/productlist/324/68-14.html\n",
        "0.31"
       ]
      },
      {
       "output_type": "stream",
       "stream": "stdout",
       "text": [
        " : http://www.fht360.com/productlist/412/52-18.html\n",
        "0.61"
       ]
      },
      {
       "output_type": "stream",
       "stream": "stdout",
       "text": [
        " : http://www.fht360.com/companylist/48-2-1491.html\n",
        "0.46"
       ]
      },
      {
       "output_type": "stream",
       "stream": "stdout",
       "text": [
        " : http://www.fht360.com/productlist/440-2-1009.html\n",
        "0.26"
       ]
      },
      {
       "output_type": "stream",
       "stream": "stdout",
       "text": [
        " : http://www.fht360.com/productlist/425/2683-2.html\n",
        "0.31"
       ]
      },
      {
       "output_type": "stream",
       "stream": "stdout",
       "text": [
        " : http://www.fht360.com/productlist/236/1843-9.html\n",
        "0.26"
       ]
      },
      {
       "output_type": "stream",
       "stream": "stdout",
       "text": [
        " : http://www.fht360.com/productlist/250/17267-2.html\n",
        "0.54"
       ]
      },
      {
       "output_type": "stream",
       "stream": "stdout",
       "text": [
        " : http://www.fht360.com/companylist/52-2-1038.html\n",
        "0.34"
       ]
      },
      {
       "output_type": "stream",
       "stream": "stdout",
       "text": [
        " : http://www.fht360.com/productlist/239/3562-5.html\n",
        "1.48"
       ]
      },
      {
       "output_type": "stream",
       "stream": "stdout",
       "text": [
        " : http://www.fht360.com/productlist/231-263-1487.html\n",
        "1.07"
       ]
      },
      {
       "output_type": "stream",
       "stream": "stdout",
       "text": [
        " : http://www.fht360.com/companylist/162/3-2-936.html\n",
        "2.32"
       ]
      },
      {
       "output_type": "stream",
       "stream": "stdout",
       "text": [
        " : http://www.fht360.com/companylist/162/3-2-938.html\n",
        "0.90"
       ]
      },
      {
       "output_type": "stream",
       "stream": "stdout",
       "text": [
        " : http://www.fht360.com/productlist/234-11-39.html\n",
        "0.27"
       ]
      },
      {
       "output_type": "stream",
       "stream": "stdout",
       "text": [
        " : http://www.fht360.com/productlist/324/12582-2.html\n",
        "0.67"
       ]
      },
      {
       "output_type": "stream",
       "stream": "stdout",
       "text": [
        " : http://www.fht360.com/companylist/81/10416-2.html\n",
        "0.56"
       ]
      },
      {
       "output_type": "stream",
       "stream": "stdout",
       "text": [
        " : http://www.fht360.com/companylist/39/10535-2-2164.html\n",
        "0.60"
       ]
      },
      {
       "output_type": "stream",
       "stream": "stdout",
       "text": [
        " : http://www.fht360.com/companylist/39/10530-2-2164.html\n",
        "0.12"
       ]
      },
      {
       "output_type": "stream",
       "stream": "stdout",
       "text": [
        " : http://www.fht360.com/productlist/238/129-7.html\n",
        "0.65"
       ]
      },
      {
       "output_type": "stream",
       "stream": "stdout",
       "text": [
        " : http://www.fht360.com/productlist/371-2-1487.html\n",
        "0.31"
       ]
      },
      {
       "output_type": "stream",
       "stream": "stdout",
       "text": [
        " : http://www.fht360.com/productlist/424/14715-3.html\n",
        "0.43"
       ]
      },
      {
       "output_type": "stream",
       "stream": "stdout",
       "text": [
        " : http://www.fht360.com/productlist/437-2-1122.html\n",
        "0.31"
       ]
      },
      {
       "output_type": "stream",
       "stream": "stdout",
       "text": [
        " : http://www.fht360.com/productlist/234/277-2.html\n",
        "0.37"
       ]
      },
      {
       "output_type": "stream",
       "stream": "stdout",
       "text": [
        " : http://www.fht360.com/productlist/234/272-3.html\n",
        "0.39"
       ]
      },
      {
       "output_type": "stream",
       "stream": "stdout",
       "text": [
        " : http://www.fht360.com/productlist/274/91-2-880.html\n",
        "0.30"
       ]
      },
      {
       "output_type": "stream",
       "stream": "stdout",
       "text": [
        " : http://www.fht360.com/productlist/248/168-6.html\n",
        "0.49"
       ]
      },
      {
       "output_type": "stream",
       "stream": "stdout",
       "text": [
        " : http://www.fht360.com/companylist/165-2-132.html\n",
        "0.37"
       ]
      },
      {
       "output_type": "stream",
       "stream": "stdout",
       "text": [
        " : http://www.fht360.com/productlist/226/11590-3-1487.html\n",
        "0.35"
       ]
      },
      {
       "output_type": "stream",
       "stream": "stdout",
       "text": [
        " : http://www.fht360.com/productlist/431/14924-2-1009.html\n",
        "0.38"
       ]
      },
      {
       "output_type": "stream",
       "stream": "stdout",
       "text": [
        " : http://www.fht360.com/productlist/351/13627-3-2137.html\n",
        "3.81"
       ]
      },
      {
       "output_type": "stream",
       "stream": "stdout",
       "text": [
        " : http://www.fht360.com/productlist/231/15883-2-880.html\n",
        "0.43"
       ]
      },
      {
       "output_type": "stream",
       "stream": "stdout",
       "text": [
        " : http://www.fht360.com/productlist/351/13677-2-706.html\n",
        "0.73"
       ]
      },
      {
       "output_type": "stream",
       "stream": "stdout",
       "text": [
        " : http://www.fht360.com/productlist/369/13974-2-2137.html\n",
        "0.59"
       ]
      },
      {
       "output_type": "stream",
       "stream": "stdout",
       "text": [
        " : http://www.fht360.com/productlist/239/394-3-1.html\n",
        "1.43"
       ]
      },
      {
       "output_type": "stream",
       "stream": "stdout",
       "text": [
        " : http://www.fht360.com/companylist/184/10820-2.html\n",
        "0.63"
       ]
      },
      {
       "output_type": "stream",
       "stream": "stdout",
       "text": [
        " : http://www.fht360.com/companylist/137/10210-2.html\n",
        "0.57"
       ]
      },
      {
       "output_type": "stream",
       "stream": "stdout",
       "text": [
        " : http://www.fht360.com/companylist/137/10212-2.html\n",
        "0.55"
       ]
      },
      {
       "output_type": "stream",
       "stream": "stdout",
       "text": [
        " : http://www.fht360.com/companylist/50-4-2138.html\n",
        "0.26"
       ]
      },
      {
       "output_type": "stream",
       "stream": "stdout",
       "text": [
        " : http://www.fht360.com/productlist/331/10007-2.html\n",
        "0.52"
       ]
      },
      {
       "output_type": "stream",
       "stream": "stdout",
       "text": [
        " : http://www.fht360.com/companylist/50-19-2137.html\n",
        "0.74"
       ]
      },
      {
       "output_type": "stream",
       "stream": "stdout",
       "text": [
        " : http://www.fht360.com/productlist/247/42-3-1662.html\n",
        "0.48"
       ]
      },
      {
       "output_type": "stream",
       "stream": "stdout",
       "text": [
        " : http://www.fht360.com/companylist/137-2-1553.html\n",
        "0.27"
       ]
      },
      {
       "output_type": "stream",
       "stream": "stdout",
       "text": [
        " : http://www.fht360.com/productlist/441/10366-2.html\n",
        "0.32"
       ]
      },
      {
       "output_type": "stream",
       "stream": "stdout",
       "text": [
        " : http://www.fht360.com/productlist/239-22-1662.html\n",
        "0.36"
       ]
      },
      {
       "output_type": "stream",
       "stream": "stdout",
       "text": [
        " : http://www.fht360.com/productlist/285/394-3-1.html\n",
        "0.43"
       ]
      },
      {
       "output_type": "stream",
       "stream": "stdout",
       "text": [
        " : http://www.fht360.com/productlist/285-2-1009.html\n",
        "0.38"
       ]
      },
      {
       "output_type": "stream",
       "stream": "stdout",
       "text": [
        " : http://www.fht360.com/productlist/337/12188-3-1662.html\n",
        "0.45"
       ]
      },
      {
       "output_type": "stream",
       "stream": "stdout",
       "text": [
        " : http://www.fht360.com/productlist/329/7717-2.html\n",
        "0.90"
       ]
      },
      {
       "output_type": "stream",
       "stream": "stdout",
       "text": [
        " : http://www.fht360.com/productlist/235-54-39.html\n",
        "0.82"
       ]
      },
      {
       "output_type": "stream",
       "stream": "stdout",
       "text": [
        " : http://www.fht360.com/productlist/234/131-8.html\n",
        "0.48"
       ]
      },
      {
       "output_type": "stream",
       "stream": "stdout",
       "text": [
        " : http://www.fht360.com/companylist/48-3-1122.html\n",
        "0.44"
       ]
      },
      {
       "output_type": "stream",
       "stream": "stdout",
       "text": [
        " : http://www.fht360.com/productlist/352/13794-2-1260.html\n",
        "0.47"
       ]
      },
      {
       "output_type": "stream",
       "stream": "stdout",
       "text": [
        " : http://www.fht360.com/companylist/162-2-2189.html\n",
        "0.48"
       ]
      },
      {
       "output_type": "stream",
       "stream": "stdout",
       "text": [
        " : http://www.fht360.com/companylist/162-5-2186.html\n",
        "0.48"
       ]
      },
      {
       "output_type": "stream",
       "stream": "stdout",
       "text": [
        " : http://www.fht360.com/productlist/293/10425-2-1662.html\n",
        "0.65"
       ]
      },
      {
       "output_type": "stream",
       "stream": "stdout",
       "text": [
        " : http://www.fht360.com/productlist/426-3-1487.html\n",
        "0.42"
       ]
      },
      {
       "output_type": "stream",
       "stream": "stdout",
       "text": [
        " : http://www.fht360.com/productlist/262-2-1.html\n",
        "0.42"
       ]
      },
      {
       "output_type": "stream",
       "stream": "stdout",
       "text": [
        " : http://www.fht360.com/productlist/362-2-880.html\n",
        "0.48"
       ]
      },
      {
       "output_type": "stream",
       "stream": "stdout",
       "text": [
        " : http://www.fht360.com/companylist/48/3-3-1067.html\n",
        "0.29"
       ]
      },
      {
       "output_type": "stream",
       "stream": "stdout",
       "text": [
        " : http://www.fht360.com/productlist/385/6-25-1662.html\n",
        "0.44"
       ]
      },
      {
       "output_type": "stream",
       "stream": "stdout",
       "text": [
        " : http://www.fht360.com/productlist/297-2-880.html\n",
        "0.37"
       ]
      },
      {
       "output_type": "stream",
       "stream": "stdout",
       "text": [
        " : http://www.fht360.com/productlist/238/131-4-1487.html\n",
        "0.32"
       ]
      },
      {
       "output_type": "stream",
       "stream": "stdout",
       "text": [
        " : http://www.fht360.com/productlist/437/12242-8.html\n",
        "0.32"
       ]
      },
      {
       "output_type": "stream",
       "stream": "stdout",
       "text": [
        " : http://www.fht360.com/productlist/324/12422-13.html\n",
        "0.48"
       ]
      },
      {
       "output_type": "stream",
       "stream": "stdout",
       "text": [
        " : http://www.fht360.com/companylist/167/3-2-499.html\n",
        "0.29"
       ]
      },
      {
       "output_type": "stream",
       "stream": "stdout",
       "text": [
        " : http://www.fht360.com/productlist/301/64-3-1662.html\n",
        "0.31"
       ]
      },
      {
       "output_type": "stream",
       "stream": "stdout",
       "text": [
        " : http://www.fht360.com/productlist/231/15809-3.html\n",
        "0.38"
       ]
      },
      {
       "output_type": "stream",
       "stream": "stdout",
       "text": [
        " : http://www.fht360.com/productlist/280/95-5-1487.html\n",
        "0.55"
       ]
      },
      {
       "output_type": "stream",
       "stream": "stdout",
       "text": [
        " : http://www.fht360.com/companylist/50/10841-2.html\n",
        "0.45"
       ]
      },
      {
       "output_type": "stream",
       "stream": "stdout",
       "text": [
        " : http://www.fht360.com/productlist/264/15756-4-2137.html\n",
        "0.51"
       ]
      },
      {
       "output_type": "stream",
       "stream": "stdout",
       "text": [
        " : http://www.fht360.com/productlist/231-2-1857.html\n",
        "0.27"
       ]
      },
      {
       "output_type": "stream",
       "stream": "stdout",
       "text": [
        " : http://www.fht360.com/productlist/226/10833-4.html\n",
        "0.60"
       ]
      },
      {
       "output_type": "stream",
       "stream": "stdout",
       "text": [
        " : http://www.fht360.com/productlist/242/14608-3-1662.html\n",
        "0.44"
       ]
      },
      {
       "output_type": "stream",
       "stream": "stdout",
       "text": [
        " : http://www.fht360.com/productlist/437-4-1009.html\n",
        "0.46"
       ]
      },
      {
       "output_type": "stream",
       "stream": "stdout",
       "text": [
        " : http://www.fht360.com/productlist/241/451-5-1487.html\n",
        "0.47"
       ]
      },
      {
       "output_type": "stream",
       "stream": "stdout",
       "text": [
        " : http://www.fht360.com/companylist/162/3-2-873.html\n",
        "0.25"
       ]
      },
      {
       "output_type": "stream",
       "stream": "stdout",
       "text": [
        " : http://www.fht360.com/productlist/293/10447-2.html\n",
        "0.48"
       ]
      },
      {
       "output_type": "stream",
       "stream": "stdout",
       "text": [
        " : http://www.fht360.com/companylist/48/3-3-40.html\n",
        "0.73"
       ]
      },
      {
       "output_type": "stream",
       "stream": "stdout",
       "text": [
        " : http://www.fht360.com/companylist/244-2-2137.html\n",
        "0.91"
       ]
      },
      {
       "output_type": "stream",
       "stream": "stdout",
       "text": [
        " : http://www.fht360.com/productlist/334/12421-7-1662.html\n",
        "1.30"
       ]
      },
      {
       "output_type": "stream",
       "stream": "stdout",
       "text": [
        " : http://www.fht360.com/productlist/312/7239-31.html\n",
        "0.54"
       ]
      },
      {
       "output_type": "stream",
       "stream": "stdout",
       "text": [
        " : http://www.fht360.com/productlist/236/17417-5.html\n",
        "0.86"
       ]
      },
      {
       "output_type": "stream",
       "stream": "stdout",
       "text": [
        " : http://www.fht360.com/productlist/247/13300-4.html\n",
        "0.26"
       ]
      },
      {
       "output_type": "stream",
       "stream": "stdout",
       "text": [
        " : http://www.fht360.com/productlist/260-2-1122.html\n",
        "0.54"
       ]
      },
      {
       "output_type": "stream",
       "stream": "stdout",
       "text": [
        " : http://www.fht360.com/companylist/34-4-39.html\n",
        "0.29"
       ]
      },
      {
       "output_type": "stream",
       "stream": "stdout",
       "text": [
        " : http://www.fht360.com/productlist/275-5.html\n",
        "0.76"
       ]
      },
      {
       "output_type": "stream",
       "stream": "stdout",
       "text": [
        " : http://www.fht360.com/productlist/274-111.html\n",
        "1.15"
       ]
      },
      {
       "output_type": "stream",
       "stream": "stdout",
       "text": [
        " : http://www.fht360.com/productlist/277-207.html\n",
        "1.73"
       ]
      },
      {
       "output_type": "stream",
       "stream": "stdout",
       "text": [
        " : http://www.fht360.com/productlist/273-10.html\n",
        "0.13"
       ]
      },
      {
       "output_type": "stream",
       "stream": "stdout",
       "text": [
        " : http://www.fht360.com/productlist/272-16.html\n",
        "0.57"
       ]
      },
      {
       "output_type": "stream",
       "stream": "stdout",
       "text": [
        " : http://www.fht360.com/productlist/228-1-1122.html\n",
        "0.39"
       ]
      },
      {
       "output_type": "stream",
       "stream": "stdout",
       "text": [
        " : http://www.fht360.com/productlist/246/12348-3-2137.html\n",
        "0.37"
       ]
      },
      {
       "output_type": "stream",
       "stream": "stdout",
       "text": [
        " : http://www.fht360.com/productlist/261/302-2.html\n",
        "0.45"
       ]
      },
      {
       "output_type": "stream",
       "stream": "stdout",
       "text": [
        " : http://www.fht360.com/productlist/238-1-2137.html\n",
        "0.45"
       ]
      },
      {
       "output_type": "stream",
       "stream": "stdout",
       "text": [
        " : http://www.fht360.com/productlist/231/7-3-2137.html\n",
        "0.80"
       ]
      },
      {
       "output_type": "stream",
       "stream": "stdout",
       "text": [
        " : http://www.fht360.com/productlist/343-6-39.html\n",
        "0.48"
       ]
      },
      {
       "output_type": "stream",
       "stream": "stdout",
       "text": [
        " : http://www.fht360.com/companylist/37-2-1662.html\n",
        "0.52"
       ]
      },
      {
       "output_type": "stream",
       "stream": "stdout",
       "text": [
        " : http://www.fht360.com/companylist/70/10502-2.html\n",
        "0.42"
       ]
      },
      {
       "output_type": "stream",
       "stream": "stdout",
       "text": [
        " : http://www.fht360.com/productlist/433/14030-3-2137.html\n",
        "0.47"
       ]
      },
      {
       "output_type": "stream",
       "stream": "stdout",
       "text": [
        " : http://www.fht360.com/companylist/167-2-2509.html\n",
        "0.47"
       ]
      },
      {
       "output_type": "stream",
       "stream": "stdout",
       "text": [
        " : http://www.fht360.com/companylist/167-2-2508.html\n",
        "0.43"
       ]
      },
      {
       "output_type": "stream",
       "stream": "stdout",
       "text": [
        " : http://www.fht360.com/productlist/325/7788-2.html\n",
        "0.50"
       ]
      },
      {
       "output_type": "stream",
       "stream": "stdout",
       "text": [
        " : http://www.fht360.com/productlist/432/14826-8.html\n",
        "0.47"
       ]
      },
      {
       "output_type": "stream",
       "stream": "stdout",
       "text": [
        " : http://www.fht360.com/companylist/167-3-1857.html\n",
        "0.47"
       ]
      },
      {
       "output_type": "stream",
       "stream": "stdout",
       "text": [
        " : http://www.fht360.com/companylist/167-2-1858.html\n",
        "0.26"
       ]
      },
      {
       "output_type": "stream",
       "stream": "stdout",
       "text": [
        " : http://www.fht360.com/productlist/247/13238-2.html\n",
        "0.46"
       ]
      },
      {
       "output_type": "stream",
       "stream": "stdout",
       "text": [
        " : http://www.fht360.com/productlist/324/12421-3-2437.html\n",
        "0.42"
       ]
      },
      {
       "output_type": "stream",
       "stream": "stdout",
       "text": [
        " : http://www.fht360.com/productlist/238/1064-3-39.html\n",
        "0.57"
       ]
      },
      {
       "output_type": "stream",
       "stream": "stdout",
       "text": [
        " : http://www.fht360.com/companylist/49-2-927.html\n",
        "0.65"
       ]
      },
      {
       "output_type": "stream",
       "stream": "stdout",
       "text": [
        " : http://www.fht360.com/productlist/287-2-860.html\n",
        "0.37"
       ]
      },
      {
       "output_type": "stream",
       "stream": "stdout",
       "text": [
        " : http://www.fht360.com/productlist/248/284-2-1662.html\n",
        "0.53"
       ]
      },
      {
       "output_type": "stream",
       "stream": "stdout",
       "text": [
        " : http://www.fht360.com/productlist/432/39-3-1487.html\n",
        "0.44"
       ]
      },
      {
       "output_type": "stream",
       "stream": "stdout",
       "text": [
        " : http://www.fht360.com/productlist/424/14922-2-860.html\n",
        "0.48"
       ]
      },
      {
       "output_type": "stream",
       "stream": "stdout",
       "text": [
        " : http://www.fht360.com/companylist/167/3-15-2278.html\n",
        "0.35"
       ]
      },
      {
       "output_type": "stream",
       "stream": "stdout",
       "text": [
        " : http://www.fht360.com/productlist/424/12187-2-1009.html\n",
        "0.42"
       ]
      },
      {
       "output_type": "stream",
       "stream": "stdout",
       "text": [
        " : http://www.fht360.com/productlist/351/13711-3-2137.html\n",
        "0.48"
       ]
      },
      {
       "output_type": "stream",
       "stream": "stdout",
       "text": [
        " : http://www.fht360.com/productlist/314/3498-3.html\n",
        "0.51"
       ]
      },
      {
       "output_type": "stream",
       "stream": "stdout",
       "text": [
        " : http://www.fht360.com/productlist/239/763-2.html\n",
        "0.85"
       ]
      },
      {
       "output_type": "stream",
       "stream": "stdout",
       "text": [
        " : http://www.fht360.com/companylist/165-2-1514.html\n",
        "0.84"
       ]
      },
      {
       "output_type": "stream",
       "stream": "stdout",
       "text": [
        " : http://www.fht360.com/productlist/301-4-1009.html\n",
        "0.66"
       ]
      },
      {
       "output_type": "stream",
       "stream": "stdout",
       "text": [
        " : http://www.fht360.com/companylist/39/10526-2-2137.html\n",
        "0.36"
       ]
      },
      {
       "output_type": "stream",
       "stream": "stdout",
       "text": [
        " : http://www.fht360.com/productlist/335/12209-3-2137.html\n",
        "0.36"
       ]
      },
      {
       "output_type": "stream",
       "stream": "stdout",
       "text": [
        " : http://www.fht360.com/productlist/351/13679-2-1.html\n",
        "0.45"
       ]
      },
      {
       "output_type": "stream",
       "stream": "stdout",
       "text": [
        " : http://www.fht360.com/productlist/317/72-3-1122.html\n",
        "0.48"
       ]
      },
      {
       "output_type": "stream",
       "stream": "stdout",
       "text": [
        " : http://www.fht360.com/companylist/48/3-3-986.html\n",
        "0.53"
       ]
      },
      {
       "output_type": "stream",
       "stream": "stdout",
       "text": [
        " : http://www.fht360.com/productlist/424-6-234.html\n",
        "0.57"
       ]
      },
      {
       "output_type": "stream",
       "stream": "stdout",
       "text": [
        " : http://www.fht360.com/productlist/286/1843-2-1122.html\n",
        "0.30"
       ]
      },
      {
       "output_type": "stream",
       "stream": "stdout",
       "text": [
        " : http://www.fht360.com/productlist/274/18478-13.html\n",
        "0.27"
       ]
      },
      {
       "output_type": "stream",
       "stream": "stdout",
       "text": [
        " : http://www.fht360.com/productlist/377-7-1487.html\n",
        "0.44"
       ]
      },
      {
       "output_type": "stream",
       "stream": "stdout",
       "text": [
        " : http://www.fht360.com/productlist/256/631-2.html\n",
        "0.25"
       ]
      },
      {
       "output_type": "stream",
       "stream": "stdout",
       "text": [
        " : http://www.fht360.com/productlist/274/2020-2.html\n",
        "0.49"
       ]
      },
      {
       "output_type": "stream",
       "stream": "stdout",
       "text": [
        " : http://www.fht360.com/productlist/264-4-1.html\n",
        "0.47"
       ]
      },
      {
       "output_type": "stream",
       "stream": "stdout",
       "text": [
        " : http://www.fht360.com/productlist/231/11995-2-1662.html\n",
        "0.48"
       ]
      },
      {
       "output_type": "stream",
       "stream": "stdout",
       "text": [
        " : http://www.fht360.com/companylist/162/3-3-1619.html\n",
        "0.41"
       ]
      },
      {
       "output_type": "stream",
       "stream": "stdout",
       "text": [
        " : http://www.fht360.com/productlist/311-2-1009.html\n",
        "0.53"
       ]
      },
      {
       "output_type": "stream",
       "stream": "stdout",
       "text": [
        " : http://www.fht360.com/companylist/52/10309-2.html\n",
        "0.28"
       ]
      },
      {
       "output_type": "stream",
       "stream": "stdout",
       "text": [
        " : http://www.fht360.com/productlist/351/13542-3.html\n",
        "0.27"
       ]
      },
      {
       "output_type": "stream",
       "stream": "stdout",
       "text": [
        " : http://www.fht360.com/productlist/237/10410-2.html\n",
        "0.51"
       ]
      },
      {
       "output_type": "stream",
       "stream": "stdout",
       "text": [
        " : http://www.fht360.com/productlist/237/10419-3.html\n",
        "0.47"
       ]
      },
      {
       "output_type": "stream",
       "stream": "stdout",
       "text": [
        " : http://www.fht360.com/companylist/47/10020-2-2137.html\n",
        "0.42"
       ]
      },
      {
       "output_type": "stream",
       "stream": "stdout",
       "text": [
        " : http://www.fht360.com/productlist/277-3-1009.html\n",
        "4.23"
       ]
      },
      {
       "output_type": "stream",
       "stream": "stdout",
       "text": [
        " : http://www.fht360.com/productlist/336/14661-3-2137.html\n",
        "0.36"
       ]
      },
      {
       "output_type": "stream",
       "stream": "stdout",
       "text": [
        " : http://www.fht360.com/productlist/432/14896-2-2137.html\n",
        "1.40"
       ]
      },
      {
       "output_type": "stream",
       "stream": "stdout",
       "text": [
        " : http://www.fht360.com/companylist/162-11-860.html\n",
        "0.56"
       ]
      },
      {
       "output_type": "stream",
       "stream": "stdout",
       "text": [
        " : http://www.fht360.com/productlist/280-2-1662.html\n",
        "0.45"
       ]
      },
      {
       "output_type": "stream",
       "stream": "stdout",
       "text": [
        " : http://www.fht360.com/productlist/251-10-2137.html\n",
        "0.43"
       ]
      },
      {
       "output_type": "stream",
       "stream": "stdout",
       "text": [
        " : http://www.fht360.com/productlist/231/15502-2-1487.html\n",
        "0.44"
       ]
      },
      {
       "output_type": "stream",
       "stream": "stdout",
       "text": [
        " : http://www.fht360.com/productlist/351/13680-2-2137.html\n",
        "0.24"
       ]
      },
      {
       "output_type": "stream",
       "stream": "stdout",
       "text": [
        " : http://www.fht360.com/productlist/351/13680-2.html\n",
        "0.55"
       ]
      },
      {
       "output_type": "stream",
       "stream": "stdout",
       "text": [
        " : http://www.fht360.com/companylist/162-3-1067.html\n",
        "0.46"
       ]
      },
      {
       "output_type": "stream",
       "stream": "stdout",
       "text": [
        " : http://www.fht360.com/productlist/352/14333-3-2137.html\n",
        "0.30"
       ]
      },
      {
       "output_type": "stream",
       "stream": "stdout",
       "text": [
        " : http://www.fht360.com/productlist/266/277-2.html\n",
        "0.47"
       ]
      },
      {
       "output_type": "stream",
       "stream": "stdout",
       "text": [
        " : http://www.fht360.com/companylist/162-2-132.html\n",
        "0.48"
       ]
      },
      {
       "output_type": "stream",
       "stream": "stdout",
       "text": [
        " : http://www.fht360.com/companylist/165-2-991.html\n",
        "1.15"
       ]
      },
      {
       "output_type": "stream",
       "stream": "stdout",
       "text": [
        " : http://www.fht360.com/companylist/167-4-1260.html\n",
        "0.77"
       ]
      },
      {
       "output_type": "stream",
       "stream": "stdout",
       "text": [
        " : http://www.fht360.com/productlist/351/13541-8.html\n",
        "0.34"
       ]
      },
      {
       "output_type": "stream",
       "stream": "stdout",
       "text": [
        " : http://www.fht360.com/productlist/226/11850-4.html\n",
        "0.25"
       ]
      },
      {
       "output_type": "stream",
       "stream": "stdout",
       "text": [
        " : http://www.fht360.com/productlist/249/12411-3.html\n",
        "0.75"
       ]
      },
      {
       "output_type": "stream",
       "stream": "stdout",
       "text": [
        " : http://www.fht360.com/companylist/52-2-1364.html\n",
        "0.33"
       ]
      },
      {
       "output_type": "stream",
       "stream": "stdout",
       "text": [
        " : http://www.fht360.com/productlist/233/16649-11.html\n",
        "0.16"
       ]
      },
      {
       "output_type": "stream",
       "stream": "stdout",
       "text": [
        " : http://www.fht360.com/productlist/239/799-2.html\n",
        "0.71"
       ]
      },
      {
       "output_type": "stream",
       "stream": "stdout",
       "text": [
        " : http://www.fht360.com/productlist/293/820-2-1487.html\n",
        "0.44"
       ]
      },
      {
       "output_type": "stream",
       "stream": "stdout",
       "text": [
        " : http://www.fht360.com/productlist/239/13320-2-880.html\n",
        "0.50"
       ]
      },
      {
       "output_type": "stream",
       "stream": "stdout",
       "text": [
        " : http://www.fht360.com/companylist/77-3-2137.html\n",
        "0.25"
       ]
      },
      {
       "output_type": "stream",
       "stream": "stdout",
       "text": [
        " : http://www.fht360.com/productlist/263/10286-3.html\n",
        "0.79"
       ]
      },
      {
       "output_type": "stream",
       "stream": "stdout",
       "text": [
        " : http://www.fht360.com/companylist/137/10193-2.html\n",
        "0.43"
       ]
      },
      {
       "output_type": "stream",
       "stream": "stdout",
       "text": [
        " : http://www.fht360.com/companylist/137/10191-2.html\n",
        "0.56"
       ]
      },
      {
       "output_type": "stream",
       "stream": "stdout",
       "text": [
        " : http://www.fht360.com/companylist/137/10197-2.html\n",
        "0.37"
       ]
      },
      {
       "output_type": "stream",
       "stream": "stdout",
       "text": [
        " : http://www.fht360.com/productlist/239/266-2-39.html\n",
        "0.52"
       ]
      },
      {
       "output_type": "stream",
       "stream": "stdout",
       "text": [
        " : http://www.fht360.com/companylist/194-2-2137.html\n",
        "0.25"
       ]
      },
      {
       "output_type": "stream",
       "stream": "stdout",
       "text": [
        " : http://www.fht360.com/productlist/377/19043-2.html\n",
        "0.25"
       ]
      },
      {
       "output_type": "stream",
       "stream": "stdout",
       "text": [
        " : http://www.fht360.com/productlist/319/14777-2.html\n",
        "0.47"
       ]
      },
      {
       "output_type": "stream",
       "stream": "stdout",
       "text": [
        " : http://www.fht360.com/productlist/226/14822-3-2137.html\n",
        "0.44"
       ]
      },
      {
       "output_type": "stream",
       "stream": "stdout",
       "text": [
        " : http://www.fht360.com/productlist/335-2-1260.html\n",
        "0.44"
       ]
      },
      {
       "output_type": "stream",
       "stream": "stdout",
       "text": [
        " : http://www.fht360.com/productlist/345/29-3-39.html\n",
        "0.39"
       ]
      },
      {
       "output_type": "stream",
       "stream": "stdout",
       "text": [
        " : http://www.fht360.com/productlist/351/13539-2-2137.html\n",
        "0.55"
       ]
      },
      {
       "output_type": "stream",
       "stream": "stdout",
       "text": [
        " : http://www.fht360.com/companylist/186/10723-2.html\n",
        "0.32"
       ]
      },
      {
       "output_type": "stream",
       "stream": "stdout",
       "text": [
        " : http://www.fht360.com/productlist/246/11342-9.html\n",
        "0.48"
       ]
      },
      {
       "output_type": "stream",
       "stream": "stdout",
       "text": [
        " : http://www.fht360.com/companylist/162-45-2137.html\n",
        "0.30"
       ]
      },
      {
       "output_type": "stream",
       "stream": "stdout",
       "text": [
        " : http://www.fht360.com/productlist/324-10-1260.html\n",
        "0.76"
       ]
      },
      {
       "output_type": "stream",
       "stream": "stdout",
       "text": [
        " : http://www.fht360.com/productlist/301/64-103.html\n",
        "0.99"
       ]
      },
      {
       "output_type": "stream",
       "stream": "stdout",
       "text": [
        " : http://www.fht360.com/productlist/279/18626-2-1487.html\n",
        "0.45"
       ]
      },
      {
       "output_type": "stream",
       "stream": "stdout",
       "text": [
        " : http://www.fht360.com/productlist/324/10003-8-1487.html\n",
        "0.47"
       ]
      },
      {
       "output_type": "stream",
       "stream": "stdout",
       "text": [
        " : http://www.fht360.com/productlist/337/12162-2-2137.html\n",
        "0.45"
       ]
      },
      {
       "output_type": "stream",
       "stream": "stdout",
       "text": [
        " : http://www.fht360.com/productlist/328/12465-5-2137.html\n",
        "0.32"
       ]
      },
      {
       "output_type": "stream",
       "stream": "stdout",
       "text": [
        " : http://www.fht360.com/productlist/283/16206-3.html\n",
        "0.47"
       ]
      },
      {
       "output_type": "stream",
       "stream": "stdout",
       "text": [
        " : http://www.fht360.com/productlist/250/748-2.html\n",
        "0.45"
       ]
      },
      {
       "output_type": "stream",
       "stream": "stdout",
       "text": [
        " : http://www.fht360.com/productlist/324/12422-2-1.html\n",
        "0.45"
       ]
      },
      {
       "output_type": "stream",
       "stream": "stdout",
       "text": [
        " : http://www.fht360.com/productlist/307/11590-3-1487.html\n",
        "0.26"
       ]
      },
      {
       "output_type": "stream",
       "stream": "stdout",
       "text": [
        " : http://www.fht360.com/productlist/387/19091-2.html\n",
        "0.13"
       ]
      },
      {
       "output_type": "stream",
       "stream": "stdout",
       "text": [
        " : http://www.fht360.com/productlist/317-20.html\n",
        "0.50"
       ]
      },
      {
       "output_type": "stream",
       "stream": "stdout",
       "text": [
        " : http://www.fht360.com/productlist/325/12595-2-1009.html\n",
        "0.53"
       ]
      },
      {
       "output_type": "stream",
       "stream": "stdout",
       "text": [
        " : http://www.fht360.com/companylist/167/3-22-880.html\n",
        "0.65"
       ]
      },
      {
       "output_type": "stream",
       "stream": "stdout",
       "text": [
        " : http://www.fht360.com/companylist/167/3-2-881.html\n",
        "0.42"
       ]
      },
      {
       "output_type": "stream",
       "stream": "stdout",
       "text": [
        " : http://www.fht360.com/productlist/337/13443-2-1009.html\n",
        "0.34"
       ]
      },
      {
       "output_type": "stream",
       "stream": "stdout",
       "text": [
        " : http://www.fht360.com/productlist/315-5.html\n",
        "0.54"
       ]
      },
      {
       "output_type": "stream",
       "stream": "stdout",
       "text": [
        " : http://www.fht360.com/productlist/280/19-2-1122.html\n",
        "0.60"
       ]
      },
      {
       "output_type": "stream",
       "stream": "stdout",
       "text": [
        " : http://www.fht360.com/companylist/210/10887-2.html\n",
        "0.70"
       ]
      },
      {
       "output_type": "stream",
       "stream": "stdout",
       "text": [
        " : http://www.fht360.com/productlist/424/2-6-20.html\n",
        "0.46"
       ]
      },
      {
       "output_type": "stream",
       "stream": "stdout",
       "text": [
        " : http://www.fht360.com/productlist/337-4-860.html\n",
        "0.49"
       ]
      },
      {
       "output_type": "stream",
       "stream": "stdout",
       "text": [
        " : http://www.fht360.com/productlist/328/12450-5-2137.html\n",
        "0.26"
       ]
      },
      {
       "output_type": "stream",
       "stream": "stdout",
       "text": [
        " : http://www.fht360.com/productlist/235/18808-8.html\n",
        "0.49"
       ]
      },
      {
       "output_type": "stream",
       "stream": "stdout",
       "text": [
        " : http://www.fht360.com/productlist/236/17428-6-860.html\n",
        "0.42"
       ]
      },
      {
       "output_type": "stream",
       "stream": "stdout",
       "text": [
        " : http://www.fht360.com/productlist/266/10320-4-1009.html\n",
        "0.25"
       ]
      },
      {
       "output_type": "stream",
       "stream": "stdout",
       "text": [
        " : http://www.fht360.com/productlist/343/17632-4.html\n",
        "0.45"
       ]
      },
      {
       "output_type": "stream",
       "stream": "stdout",
       "text": [
        " : http://www.fht360.com/productlist/239/340-2-1487.html\n",
        "0.47"
       ]
      },
      {
       "output_type": "stream",
       "stream": "stdout",
       "text": [
        " : http://www.fht360.com/companylist/165/3-2-1025.html\n",
        "0.54"
       ]
      },
      {
       "output_type": "stream",
       "stream": "stdout",
       "text": [
        " : http://www.fht360.com/productlist/424-21-2508.html\n",
        "0.52"
       ]
      },
      {
       "output_type": "stream",
       "stream": "stdout",
       "text": [
        " : http://www.fht360.com/companylist/162-2-230.html\n",
        "0.48"
       ]
      },
      {
       "output_type": "stream",
       "stream": "stdout",
       "text": [
        " : http://www.fht360.com/companylist/162/3-2-223.html\n",
        "0.47"
       ]
      },
      {
       "output_type": "stream",
       "stream": "stdout",
       "text": [
        " : http://www.fht360.com/companylist/162/3-6-221.html\n",
        "0.48"
       ]
      },
      {
       "output_type": "stream",
       "stream": "stdout",
       "text": [
        " : http://www.fht360.com/companylist/162/3-3-228.html\n",
        "0.29"
       ]
      },
      {
       "output_type": "stream",
       "stream": "stdout",
       "text": [
        " : http://www.fht360.com/productlist/226/7464-2.html\n",
        "0.50"
       ]
      },
      {
       "output_type": "stream",
       "stream": "stdout",
       "text": [
        " : http://www.fht360.com/productlist/334-2-2508.html\n",
        "0.35"
       ]
      },
      {
       "output_type": "stream",
       "stream": "stdout",
       "text": [
        " : http://www.fht360.com/productlist/241/346-21.html\n",
        "0.26"
       ]
      },
      {
       "output_type": "stream",
       "stream": "stdout",
       "text": [
        " : http://www.fht360.com/productlist/241/347-2.html\n",
        "0.64"
       ]
      },
      {
       "output_type": "stream",
       "stream": "stdout",
       "text": [
        " : http://www.fht360.com/productlist/433/15239-2.html\n",
        "0.47"
       ]
      },
      {
       "output_type": "stream",
       "stream": "stdout",
       "text": [
        " : http://www.fht360.com/productlist/351/13645-9.html\n",
        "0.46"
       ]
      },
      {
       "output_type": "stream",
       "stream": "stdout",
       "text": [
        " : http://www.fht360.com/productlist/239/267-2-39.html\n",
        "0.47"
       ]
      },
      {
       "output_type": "stream",
       "stream": "stdout",
       "text": [
        " : http://www.fht360.com/productlist/357/6208-3-1662.html\n",
        "0.77"
       ]
      },
      {
       "output_type": "stream",
       "stream": "stdout",
       "text": [
        " : http://www.fht360.com/productlist/351/13536-3-2137.html\n",
        "0.38"
       ]
      },
      {
       "output_type": "stream",
       "stream": "stdout",
       "text": [
        " : http://www.fht360.com/productlist/241/507-12.html\n",
        "0.89"
       ]
      },
      {
       "output_type": "stream",
       "stream": "stdout",
       "text": [
        " : http://www.fht360.com/productlist/238-20-1487.html\n",
        "0.50"
       ]
      },
      {
       "output_type": "stream",
       "stream": "stdout",
       "text": [
        " : http://www.fht360.com/productlist/249/13320-2-880.html\n",
        "0.65"
       ]
      },
      {
       "output_type": "stream",
       "stream": "stdout",
       "text": [
        " : http://www.fht360.com/productlist/379-2-860.html\n",
        "0.33"
       ]
      },
      {
       "output_type": "stream",
       "stream": "stdout",
       "text": [
        " : http://www.fht360.com/productlist/379/1258-8.html\n",
        "0.39"
       ]
      },
      {
       "output_type": "stream",
       "stream": "stdout",
       "text": [
        " : http://www.fht360.com/productlist/231/11994-3-1487.html\n",
        "0.61"
       ]
      },
      {
       "output_type": "stream",
       "stream": "stdout",
       "text": [
        " : http://www.fht360.com/companylist/74/10512-2.html\n",
        "0.66"
       ]
      },
      {
       "output_type": "stream",
       "stream": "stdout",
       "text": [
        " : http://www.fht360.com/productlist/239/3562-2-2137.html\n",
        "0.93"
       ]
      },
      {
       "output_type": "stream",
       "stream": "stdout",
       "text": [
        " : http://www.fht360.com/productlist/227-28-880.html\n",
        "0.47"
       ]
      },
      {
       "output_type": "stream",
       "stream": "stdout",
       "text": [
        " : http://www.fht360.com/companylist/165/3-2-2190.html\n",
        "0.71"
       ]
      },
      {
       "output_type": "stream",
       "stream": "stdout",
       "text": [
        " : http://www.fht360.com/companylist/45/10391-2.html\n",
        "0.47"
       ]
      },
      {
       "output_type": "stream",
       "stream": "stdout",
       "text": [
        " : http://www.fht360.com/companylist/167/3-2-2509.html\n",
        "0.82"
       ]
      },
      {
       "output_type": "stream",
       "stream": "stdout",
       "text": [
        " : http://www.fht360.com/productlist/228/12066-2.html\n",
        "0.78"
       ]
      },
      {
       "output_type": "stream",
       "stream": "stdout",
       "text": [
        " : http://www.fht360.com/productlist/315-2-2137.html\n",
        "0.80"
       ]
      },
      {
       "output_type": "stream",
       "stream": "stdout",
       "text": [
        " : http://www.fht360.com/productlist/412/52-2-880.html\n",
        "0.58"
       ]
      },
      {
       "output_type": "stream",
       "stream": "stdout",
       "text": [
        " : http://www.fht360.com/productlist/248/11994-3-1662.html\n",
        "0.46"
       ]
      },
      {
       "output_type": "stream",
       "stream": "stdout",
       "text": [
        " : http://www.fht360.com/productlist/246/13238-2.html\n",
        "0.49"
       ]
      },
      {
       "output_type": "stream",
       "stream": "stdout",
       "text": [
        " : http://www.fht360.com/companylist/48-2-230.html\n",
        "0.42"
       ]
      },
      {
       "output_type": "stream",
       "stream": "stdout",
       "text": [
        " : http://www.fht360.com/companylist/75/10298-2.html\n",
        "0.48"
       ]
      },
      {
       "output_type": "stream",
       "stream": "stdout",
       "text": [
        " : http://www.fht360.com/companylist/48/3-2-873.html\n",
        "0.91"
       ]
      },
      {
       "output_type": "stream",
       "stream": "stdout",
       "text": [
        " : http://www.fht360.com/productlist/424/2-4-234.html\n",
        "0.62"
       ]
      },
      {
       "output_type": "stream",
       "stream": "stdout",
       "text": [
        " : http://www.fht360.com/productlist/412-2-1487.html\n",
        "0.61"
       ]
      },
      {
       "output_type": "stream",
       "stream": "stdout",
       "text": [
        " : http://www.fht360.com/productlist/260/17010-2-2137.html\n",
        "0.13"
       ]
      },
      {
       "output_type": "stream",
       "stream": "stdout",
       "text": [
        " : http://www.fht360.com/productlist/325/78-12.html\n",
        "0.26"
       ]
      },
      {
       "output_type": "stream",
       "stream": "stdout",
       "text": [
        " : http://www.fht360.com/productlist/242-4-1487.html\n",
        "0.61"
       ]
      },
      {
       "output_type": "stream",
       "stream": "stdout",
       "text": [
        " : http://www.fht360.com/productlist/249/13320-2-1009.html\n",
        "0.49"
       ]
      },
      {
       "output_type": "stream",
       "stream": "stdout",
       "text": [
        " : http://www.fht360.com/companylist/162-3-1619.html\n",
        "0.47"
       ]
      },
      {
       "output_type": "stream",
       "stream": "stdout",
       "text": [
        " : http://www.fht360.com/companylist/39-3-1487.html\n",
        "0.50"
       ]
      },
      {
       "output_type": "stream",
       "stream": "stdout",
       "text": [
        " : http://www.fht360.com/companylist/39-2-1488.html\n",
        "0.76"
       ]
      },
      {
       "output_type": "stream",
       "stream": "stdout",
       "text": [
        " : http://www.fht360.com/productlist/347/14042-2.html\n",
        "0.53"
       ]
      },
      {
       "output_type": "stream",
       "stream": "stdout",
       "text": [
        " : http://www.fht360.com/productlist/424-8-3065.html\n",
        "0.65"
       ]
      },
      {
       "output_type": "stream",
       "stream": "stdout",
       "text": [
        " : http://www.fht360.com/productlist/270-3-1662.html\n",
        "4.03"
       ]
      },
      {
       "output_type": "stream",
       "stream": "stdout",
       "text": [
        " : http://www.fht360.com/productlist/333/7979-2.html\n",
        "0.69"
       ]
      },
      {
       "output_type": "stream",
       "stream": "stdout",
       "text": [
        " : http://www.fht360.com/productlist/365-2-1487.html\n",
        "0.56"
       ]
      },
      {
       "output_type": "stream",
       "stream": "stdout",
       "text": [
        " : http://www.fht360.com/productlist/427/12187-2-880.html\n",
        "0.62"
       ]
      },
      {
       "output_type": "stream",
       "stream": "stdout",
       "text": [
        " : http://www.fht360.com/productlist/264/7984-4-1487.html\n",
        "1.37"
       ]
      },
      {
       "output_type": "stream",
       "stream": "stdout",
       "text": [
        " : http://www.fht360.com/companylist/162/3-6-2169.html\n",
        "0.56"
       ]
      },
      {
       "output_type": "stream",
       "stream": "stdout",
       "text": [
        " : http://www.fht360.com/companylist/162/3-12-2164.html\n",
        "0.91"
       ]
      },
      {
       "output_type": "stream",
       "stream": "stdout",
       "text": [
        " : http://www.fht360.com/productlist/253/16954-3-2137.html\n",
        "0.91"
       ]
      },
      {
       "output_type": "stream",
       "stream": "stdout",
       "text": [
        " : http://www.fht360.com/productlist/231-36-1662.html\n",
        "0.52"
       ]
      },
      {
       "output_type": "stream",
       "stream": "stdout",
       "text": [
        " : http://www.fht360.com/productlist/424/14813-14.html\n",
        "0.75"
       ]
      },
      {
       "output_type": "stream",
       "stream": "stdout",
       "text": [
        " : http://www.fht360.com/companylist/74-2-1009.html\n",
        "0.69"
       ]
      },
      {
       "output_type": "stream",
       "stream": "stdout",
       "text": [
        " : http://www.fht360.com/productlist/301/8152-4.html\n",
        "0.42"
       ]
      },
      {
       "output_type": "stream",
       "stream": "stdout",
       "text": [
        " : http://www.fht360.com/productlist/236-2-2467.html\n",
        "1.61"
       ]
      },
      {
       "output_type": "stream",
       "stream": "stdout",
       "text": [
        " : http://www.fht360.com/productlist/435/15236-2-39.html\n",
        "0.30"
       ]
      },
      {
       "output_type": "stream",
       "stream": "stdout",
       "text": [
        " : http://www.fht360.com/productlist/293/948-2.html\n",
        "0.42"
       ]
      },
      {
       "output_type": "stream",
       "stream": "stdout",
       "text": [
        " : http://www.fht360.com/productlist/231/15883-7-860.html\n",
        "0.14"
       ]
      },
      {
       "output_type": "stream",
       "stream": "stdout",
       "text": [
        " : http://www.fht360.com/productlist/293/820-7.html\n",
        "0.43"
       ]
      },
      {
       "output_type": "stream",
       "stream": "stdout",
       "text": [
        " : http://www.fht360.com/productlist/283/17227-3-2137.html\n",
        "0.47"
       ]
      },
      {
       "output_type": "stream",
       "stream": "stdout",
       "text": [
        " : http://www.fht360.com/companylist/49/10630-2.html\n",
        "0.51"
       ]
      },
      {
       "output_type": "stream",
       "stream": "stdout",
       "text": [
        " : http://www.fht360.com/companylist/49/10631-2.html\n",
        "0.59"
       ]
      },
      {
       "output_type": "stream",
       "stream": "stdout",
       "text": [
        " : http://www.fht360.com/companylist/49/10633-2.html\n",
        "0.49"
       ]
      },
      {
       "output_type": "stream",
       "stream": "stdout",
       "text": [
        " : http://www.fht360.com/companylist/49/10635-2.html\n",
        "0.48"
       ]
      },
      {
       "output_type": "stream",
       "stream": "stdout",
       "text": [
        " : http://www.fht360.com/companylist/49/10636-2.html\n",
        "0.57"
       ]
      },
      {
       "output_type": "stream",
       "stream": "stdout",
       "text": [
        " : http://www.fht360.com/companylist/49/10639-2.html\n",
        "0.48"
       ]
      },
      {
       "output_type": "stream",
       "stream": "stdout",
       "text": [
        " : http://www.fht360.com/companylist/162-4-1553.html\n",
        "0.42"
       ]
      },
      {
       "output_type": "stream",
       "stream": "stdout",
       "text": [
        " : http://www.fht360.com/productlist/352/14165-3-2137.html\n",
        "0.73"
       ]
      },
      {
       "output_type": "stream",
       "stream": "stdout",
       "text": [
        " : http://www.fht360.com/companylist/73/10502-2.html\n",
        "0.48"
       ]
      },
      {
       "output_type": "stream",
       "stream": "stdout",
       "text": [
        " : http://www.fht360.com/companylist/73/10501-2.html\n",
        "0.49"
       ]
      },
      {
       "output_type": "stream",
       "stream": "stdout",
       "text": [
        " : http://www.fht360.com/productlist/351-2-2508.html\n",
        "0.47"
       ]
      },
      {
       "output_type": "stream",
       "stream": "stdout",
       "text": [
        " : http://www.fht360.com/companylist/165/3-3-20.html\n",
        "0.39"
       ]
      },
      {
       "output_type": "stream",
       "stream": "stdout",
       "text": [
        " : http://www.fht360.com/productlist/340/1962-4-1009.html\n",
        "0.25"
       ]
      },
      {
       "output_type": "stream",
       "stream": "stdout",
       "text": [
        " : http://www.fht360.com/productlist/240/15805-2.html\n",
        "0.53"
       ]
      },
      {
       "output_type": "stream",
       "stream": "stdout",
       "text": [
        " : http://www.fht360.com/companylist/65/10194-2.html\n",
        "0.35"
       ]
      },
      {
       "output_type": "stream",
       "stream": "stdout",
       "text": [
        " : http://www.fht360.com/productlist/424/12292-7.html\n",
        "0.42"
       ]
      },
      {
       "output_type": "stream",
       "stream": "stdout",
       "text": [
        " : http://www.fht360.com/productlist/438-8-1487.html\n",
        "0.24"
       ]
      },
      {
       "output_type": "stream",
       "stream": "stdout",
       "text": [
        " : http://www.fht360.com/productlist/328/12491-2.html\n",
        "0.89"
       ]
      },
      {
       "output_type": "stream",
       "stream": "stdout",
       "text": [
        " : http://www.fht360.com/productlist/277-97-1487.html\n",
        "0.85"
       ]
      },
      {
       "output_type": "stream",
       "stream": "stdout",
       "text": [
        " : http://www.fht360.com/productlist/265-3.html\n",
        "0.57"
       ]
      },
      {
       "output_type": "stream",
       "stream": "stdout",
       "text": [
        " : http://www.fht360.com/companylist/165/3-3-1619.html\n",
        "1.29"
       ]
      },
      {
       "output_type": "stream",
       "stream": "stdout",
       "text": [
        " : http://www.fht360.com/productlist/371-2-880.html\n",
        "0.67"
       ]
      },
      {
       "output_type": "stream",
       "stream": "stdout",
       "text": [
        " : http://www.fht360.com/companylist/44-3-927.html\n",
        "0.86"
       ]
      },
      {
       "output_type": "stream",
       "stream": "stdout",
       "text": [
        " : http://www.fht360.com/productlist/260-91.html\n",
        "0.80"
       ]
      },
      {
       "output_type": "stream",
       "stream": "stdout",
       "text": [
        " : http://www.fht360.com/productlist/246/13237-7.html\n",
        "0.33"
       ]
      },
      {
       "output_type": "stream",
       "stream": "stdout",
       "text": [
        " : http://www.fht360.com/productlist/236/1951-17.html\n",
        "0.47"
       ]
      },
      {
       "output_type": "stream",
       "stream": "stdout",
       "text": [
        " : http://www.fht360.com/companylist/165/3-2-1276.html\n",
        "0.47"
       ]
      },
      {
       "output_type": "stream",
       "stream": "stdout",
       "text": [
        " : http://www.fht360.com/companylist/164/3-3-40.html\n",
        "0.25"
       ]
      },
      {
       "output_type": "stream",
       "stream": "stdout",
       "text": [
        " : http://www.fht360.com/productlist/250/1272-2.html\n",
        "0.47"
       ]
      },
      {
       "output_type": "stream",
       "stream": "stdout",
       "text": [
        " : http://www.fht360.com/companylist/162/3-3-1122.html\n",
        "0.41"
       ]
      },
      {
       "output_type": "stream",
       "stream": "stdout",
       "text": [
        " : http://www.fht360.com/productlist/366-4-2137.html\n",
        "0.25"
       ]
      },
      {
       "output_type": "stream",
       "stream": "stdout",
       "text": [
        " : http://www.fht360.com/productlist/348-2-39.html\n",
        "0.33"
       ]
      },
      {
       "output_type": "stream",
       "stream": "stdout",
       "text": [
        " : http://www.fht360.com/productlist/384/41-3.html\n",
        "0.46"
       ]
      },
      {
       "output_type": "stream",
       "stream": "stdout",
       "text": [
        " : http://www.fht360.com/productlist/367/13637-2-1.html\n",
        "1.38"
       ]
      },
      {
       "output_type": "stream",
       "stream": "stdout",
       "text": [
        " : http://www.fht360.com/productlist/424-455-2137.html\n",
        "0.91"
       ]
      },
      {
       "output_type": "stream",
       "stream": "stdout",
       "text": [
        " : http://www.fht360.com/productlist/340/11533-2-2137.html\n",
        "0.47"
       ]
      },
      {
       "output_type": "stream",
       "stream": "stdout",
       "text": [
        " : http://www.fht360.com/companylist/167/3-45-2137.html\n",
        "1.30"
       ]
      },
      {
       "output_type": "stream",
       "stream": "stdout",
       "text": [
        " : http://www.fht360.com/companylist/167/3-2-2190.html\n",
        "1.01"
       ]
      },
      {
       "output_type": "stream",
       "stream": "stdout",
       "text": [
        " : http://www.fht360.com/productlist/234/10320-2-39.html\n",
        "0.65"
       ]
      },
      {
       "output_type": "stream",
       "stream": "stdout",
       "text": [
        " : http://www.fht360.com/companylist/47/10642-2.html\n",
        "0.53"
       ]
      },
      {
       "output_type": "stream",
       "stream": "stdout",
       "text": [
        " : http://www.fht360.com/companylist/219-2-1487.html\n",
        "0.30"
       ]
      },
      {
       "output_type": "stream",
       "stream": "stdout",
       "text": [
        " : http://www.fht360.com/productlist/343/79-12.html\n",
        "0.47"
       ]
      },
      {
       "output_type": "stream",
       "stream": "stdout",
       "text": [
        " : http://www.fht360.com/productlist/309/12210-2-1487.html\n",
        "0.25"
       ]
      },
      {
       "output_type": "stream",
       "stream": "stdout",
       "text": [
        " : http://www.fht360.com/productlist/343/12032-2.html\n",
        "0.42"
       ]
      },
      {
       "output_type": "stream",
       "stream": "stdout",
       "text": [
        " : http://www.fht360.com/productlist/301/8152-2-39.html\n",
        "0.60"
       ]
      },
      {
       "output_type": "stream",
       "stream": "stdout",
       "text": [
        " : http://www.fht360.com/companylist/48/10177-2.html\n",
        "0.56"
       ]
      },
      {
       "output_type": "stream",
       "stream": "stdout",
       "text": [
        " : http://www.fht360.com/companylist/48/10179-2.html\n",
        "0.37"
       ]
      },
      {
       "output_type": "stream",
       "stream": "stdout",
       "text": [
        " : http://www.fht360.com/productlist/262/8033-2-860.html\n",
        "0.47"
       ]
      },
      {
       "output_type": "stream",
       "stream": "stdout",
       "text": [
        " : http://www.fht360.com/companylist/48/3-2-1364.html\n",
        "0.34"
       ]
      },
      {
       "output_type": "stream",
       "stream": "stdout",
       "text": [
        " : http://www.fht360.com/productlist/342/12099-2.html\n",
        "0.43"
       ]
      },
      {
       "output_type": "stream",
       "stream": "stdout",
       "text": [
        " : http://www.fht360.com/productlist/254/15933-5-2137.html\n",
        "0.59"
       ]
      },
      {
       "output_type": "stream",
       "stream": "stdout",
       "text": [
        " : http://www.fht360.com/companylist/44-2-2164.html\n",
        "0.35"
       ]
      },
      {
       "output_type": "stream",
       "stream": "stdout",
       "text": [
        " : http://www.fht360.com/productlist/426/14862-9.html\n",
        "0.51"
       ]
      },
      {
       "output_type": "stream",
       "stream": "stdout",
       "text": [
        " : http://www.fht360.com/companylist/39/10529-2.html\n",
        "0.60"
       ]
      },
      {
       "output_type": "stream",
       "stream": "stdout",
       "text": [
        " : http://www.fht360.com/companylist/39/10528-2.html\n",
        "0.26"
       ]
      },
      {
       "output_type": "stream",
       "stream": "stdout",
       "text": [
        " : http://www.fht360.com/productlist/424/3728-6.html\n",
        "0.59"
       ]
      },
      {
       "output_type": "stream",
       "stream": "stdout",
       "text": [
        " : http://www.fht360.com/companylist/39/10523-2.html\n",
        "0.57"
       ]
      },
      {
       "output_type": "stream",
       "stream": "stdout",
       "text": [
        " : http://www.fht360.com/companylist/39/10522-2.html\n",
        "0.88"
       ]
      },
      {
       "output_type": "stream",
       "stream": "stdout",
       "text": [
        " : http://www.fht360.com/companylist/39/10521-2.html\n",
        "0.89"
       ]
      },
      {
       "output_type": "stream",
       "stream": "stdout",
       "text": [
        " : http://www.fht360.com/companylist/39/10520-2.html\n",
        "1.30"
       ]
      },
      {
       "output_type": "stream",
       "stream": "stdout",
       "text": [
        " : http://www.fht360.com/companylist/39/10527-2.html\n",
        "1.47"
       ]
      },
      {
       "output_type": "stream",
       "stream": "stdout",
       "text": [
        " : http://www.fht360.com/companylist/39/10526-2.html\n",
        "0.61"
       ]
      },
      {
       "output_type": "stream",
       "stream": "stdout",
       "text": [
        " : http://www.fht360.com/productlist/239/340-2-860.html\n",
        "0.26"
       ]
      },
      {
       "output_type": "stream",
       "stream": "stdout",
       "text": [
        " : http://www.fht360.com/productlist/277/2036-2.html\n",
        "0.60"
       ]
      },
      {
       "output_type": "stream",
       "stream": "stdout",
       "text": [
        " : http://www.fht360.com/companylist/34-2-927.html\n",
        "0.27"
       ]
      },
      {
       "output_type": "stream",
       "stream": "stdout",
       "text": [
        " : http://www.fht360.com/productlist/226/11450-2.html\n",
        "0.47"
       ]
      },
      {
       "output_type": "stream",
       "stream": "stdout",
       "text": [
        " : http://www.fht360.com/companylist/165-3-918.html\n",
        "0.53"
       ]
      },
      {
       "output_type": "stream",
       "stream": "stdout",
       "text": [
        " : http://www.fht360.com/companylist/194/10006-2.html\n",
        "0.42"
       ]
      },
      {
       "output_type": "stream",
       "stream": "stdout",
       "text": [
        " : http://www.fht360.com/productlist/329/7717-2-880.html\n",
        "0.27"
       ]
      },
      {
       "output_type": "stream",
       "stream": "stdout",
       "text": [
        " : http://www.fht360.com/productlist/340/1962-9.html\n",
        "0.26"
       ]
      },
      {
       "output_type": "stream",
       "stream": "stdout",
       "text": [
        " : http://www.fht360.com/productlist/340/1963-4.html\n",
        "0.51"
       ]
      },
      {
       "output_type": "stream",
       "stream": "stdout",
       "text": [
        " : http://www.fht360.com/companylist/38/10602-2.html\n",
        "0.47"
       ]
      },
      {
       "output_type": "stream",
       "stream": "stdout",
       "text": [
        " : http://www.fht360.com/companylist/164-11-860.html\n",
        "0.58"
       ]
      },
      {
       "output_type": "stream",
       "stream": "stdout",
       "text": [
        " : http://www.fht360.com/companylist/122/64-5.html\n",
        "0.44"
       ]
      },
      {
       "output_type": "stream",
       "stream": "stdout",
       "text": [
        " : http://www.fht360.com/productlist/239/16110-2-880.html\n",
        "0.42"
       ]
      },
      {
       "output_type": "stream",
       "stream": "stdout",
       "text": [
        " : http://www.fht360.com/productlist/270-3-860.html\n",
        "0.61"
       ]
      },
      {
       "output_type": "stream",
       "stream": "stdout",
       "text": [
        " : http://www.fht360.com/companylist/193/10931-2.html\n",
        "2.96"
       ]
      },
      {
       "output_type": "stream",
       "stream": "stdout",
       "text": [
        " : http://www.fht360.com/companylist/246/10803-2.html\n",
        "4.86"
       ]
      },
      {
       "output_type": "stream",
       "stream": "stdout",
       "text": [
        " : http://www.fht360.com/productlist/415/2019-2-860.html\n",
        "0.33"
       ]
      },
      {
       "output_type": "stream",
       "stream": "stdout",
       "text": [
        " : http://www.fht360.com/productlist/227/17354-3.html\n",
        "0.33"
       ]
      },
      {
       "output_type": "stream",
       "stream": "stdout",
       "text": [
        " : http://www.fht360.com/productlist/301/8051-2.html\n",
        "0.43"
       ]
      },
      {
       "output_type": "stream",
       "stream": "stdout",
       "text": [
        " : http://www.fht360.com/productlist/279/18801-2-2137.html\n",
        "1.16"
       ]
      },
      {
       "output_type": "stream",
       "stream": "stdout",
       "text": [
        " : http://www.fht360.com/companylist/43-3-880.html\n",
        "0.77"
       ]
      },
      {
       "output_type": "stream",
       "stream": "stdout",
       "text": [
        " : http://www.fht360.com/companylist/40-5-880.html\n",
        "0.43"
       ]
      },
      {
       "output_type": "stream",
       "stream": "stdout",
       "text": [
        " : http://www.fht360.com/productlist/424/14872-2-234.html\n",
        "0.56"
       ]
      },
      {
       "output_type": "stream",
       "stream": "stdout",
       "text": [
        " : http://www.fht360.com/companylist/83/8-2-986.html\n",
        "0.81"
       ]
      },
      {
       "output_type": "stream",
       "stream": "stdout",
       "text": [
        " : http://www.fht360.com/productlist/433/14355-2.html\n",
        "1.08"
       ]
      },
      {
       "output_type": "stream",
       "stream": "stdout",
       "text": [
        " : http://www.fht360.com/productlist/433/14354-2.html\n",
        "0.44"
       ]
      },
      {
       "output_type": "stream",
       "stream": "stdout",
       "text": [
        " : http://www.fht360.com/productlist/324/10011-3-1487.html\n",
        "0.48"
       ]
      },
      {
       "output_type": "stream",
       "stream": "stdout",
       "text": [
        " : http://www.fht360.com/companylist/48/3-16-39.html\n",
        "0.36"
       ]
      },
      {
       "output_type": "stream",
       "stream": "stdout",
       "text": [
        " : http://www.fht360.com/productlist/246-2-1987.html\n",
        "0.45"
       ]
      },
      {
       "output_type": "stream",
       "stream": "stdout",
       "text": [
        " : http://www.fht360.com/productlist/352-2-1364.html\n",
        "0.25"
       ]
      },
      {
       "output_type": "stream",
       "stream": "stdout",
       "text": [
        " : http://www.fht360.com/productlist/336/14586-3.html\n",
        "0.42"
       ]
      },
      {
       "output_type": "stream",
       "stream": "stdout",
       "text": [
        " : http://www.fht360.com/productlist/231/13416-2-1009.html\n",
        "0.33"
       ]
      },
      {
       "output_type": "stream",
       "stream": "stdout",
       "text": [
        " : http://www.fht360.com/productlist/324/12492-6.html\n",
        "0.26"
       ]
      },
      {
       "output_type": "stream",
       "stream": "stdout",
       "text": [
        " : http://www.fht360.com/productlist/324/12491-2.html\n",
        "0.57"
       ]
      },
      {
       "output_type": "stream",
       "stream": "stdout",
       "text": [
        " : http://www.fht360.com/productlist/301/11713-2-1662.html\n",
        "0.48"
       ]
      },
      {
       "output_type": "stream",
       "stream": "stdout",
       "text": [
        " : http://www.fht360.com/productlist/424/14862-2-39.html\n",
        "0.30"
       ]
      },
      {
       "output_type": "stream",
       "stream": "stdout",
       "text": [
        " : http://www.fht360.com/productlist/241/16044-2.html\n",
        "0.53"
       ]
      },
      {
       "output_type": "stream",
       "stream": "stdout",
       "text": [
        " : http://www.fht360.com/productlist/352-4-1122.html\n",
        "0.80"
       ]
      },
      {
       "output_type": "stream",
       "stream": "stdout",
       "text": [
        " : http://www.fht360.com/productlist/424-2-376.html\n",
        "0.47"
       ]
      },
      {
       "output_type": "stream",
       "stream": "stdout",
       "text": [
        " : http://www.fht360.com/productlist/266-2-2137.html\n",
        "0.48"
       ]
      },
      {
       "output_type": "stream",
       "stream": "stdout",
       "text": [
        " : http://www.fht360.com/companylist/48/3-3-1488.html\n",
        "0.30"
       ]
      },
      {
       "output_type": "stream",
       "stream": "stdout",
       "text": [
        " : http://www.fht360.com/productlist/357-7-1662.html\n",
        "0.25"
       ]
      },
      {
       "output_type": "stream",
       "stream": "stdout",
       "text": [
        " : http://www.fht360.com/productlist/433/14259-3.html\n",
        "0.42"
       ]
      },
      {
       "output_type": "stream",
       "stream": "stdout",
       "text": [
        " : http://www.fht360.com/productlist/273-2-2137.html\n",
        "0.53"
       ]
      },
      {
       "output_type": "stream",
       "stream": "stdout",
       "text": [
        " : http://www.fht360.com/companylist/202/10022-2.html\n",
        "0.49"
       ]
      },
      {
       "output_type": "stream",
       "stream": "stdout",
       "text": [
        " : http://www.fht360.com/companylist/202/10027-2.html\n",
        "0.60"
       ]
      },
      {
       "output_type": "stream",
       "stream": "stdout",
       "text": [
        " : http://www.fht360.com/companylist/114/10317-2.html\n",
        "0.78"
       ]
      },
      {
       "output_type": "stream",
       "stream": "stdout",
       "text": [
        " : http://www.fht360.com/productlist/235/89-189.html\n",
        "0.85"
       ]
      },
      {
       "output_type": "stream",
       "stream": "stdout",
       "text": [
        " : http://www.fht360.com/productlist/279/3609-2.html\n",
        "0.36"
       ]
      },
      {
       "output_type": "stream",
       "stream": "stdout",
       "text": [
        " : http://www.fht360.com/productlist/424/14786-10.html\n",
        "0.48"
       ]
      },
      {
       "output_type": "stream",
       "stream": "stdout",
       "text": [
        " : http://www.fht360.com/companylist/164/3-2-1570.html\n",
        "0.42"
       ]
      },
      {
       "output_type": "stream",
       "stream": "stdout",
       "text": [
        " : http://www.fht360.com/productlist/262/3562-5.html\n",
        "0.32"
       ]
      },
      {
       "output_type": "stream",
       "stream": "stdout",
       "text": [
        " : http://www.fht360.com/productlist/437/14014-7.html\n",
        "0.32"
       ]
      },
      {
       "output_type": "stream",
       "stream": "stdout",
       "text": [
        " : http://www.fht360.com/productlist/324-14-39.html\n",
        "0.36"
       ]
      },
      {
       "output_type": "stream",
       "stream": "stdout",
       "text": [
        " : http://www.fht360.com/productlist/326/10804-7.html\n",
        "0.43"
       ]
      },
      {
       "output_type": "stream",
       "stream": "stdout",
       "text": [
        " : http://www.fht360.com/productlist/335/12534-2-880.html\n",
        "0.27"
       ]
      },
      {
       "output_type": "stream",
       "stream": "stdout",
       "text": [
        " : http://www.fht360.com/productlist/326/10803-4.html\n",
        "0.54"
       ]
      },
      {
       "output_type": "stream",
       "stream": "stdout",
       "text": [
        " : http://www.fht360.com/companylist/52-3-2169.html\n",
        "0.62"
       ]
      },
      {
       "output_type": "stream",
       "stream": "stdout",
       "text": [
        " : http://www.fht360.com/companylist/52-7-2164.html\n",
        "0.48"
       ]
      },
      {
       "output_type": "stream",
       "stream": "stdout",
       "text": [
        " : http://www.fht360.com/companylist/48-2-706.html\n",
        "0.42"
       ]
      },
      {
       "output_type": "stream",
       "stream": "stdout",
       "text": [
        " : http://www.fht360.com/productlist/233/640-11-880.html\n",
        "0.47"
       ]
      },
      {
       "output_type": "stream",
       "stream": "stdout",
       "text": [
        " : http://www.fht360.com/companylist/165/3-4-2170.html\n",
        "0.48"
       ]
      },
      {
       "output_type": "stream",
       "stream": "stdout",
       "text": [
        " : http://www.fht360.com/companylist/78-2-986.html\n",
        "0.47"
       ]
      },
      {
       "output_type": "stream",
       "stream": "stdout",
       "text": [
        " : http://www.fht360.com/companylist/164/3-166.html\n",
        "0.47"
       ]
      },
      {
       "output_type": "stream",
       "stream": "stdout",
       "text": [
        " : http://www.fht360.com/companylist/165-2-499.html\n",
        "0.44"
       ]
      },
      {
       "output_type": "stream",
       "stream": "stdout",
       "text": [
        " : http://www.fht360.com/productlist/435-3-880.html\n",
        "0.49"
       ]
      },
      {
       "output_type": "stream",
       "stream": "stdout",
       "text": [
        " : http://www.fht360.com/companylist/34-3-1553.html\n",
        "0.52"
       ]
      },
      {
       "output_type": "stream",
       "stream": "stdout",
       "text": [
        " : http://www.fht360.com/companylist/75/10502-2.html\n",
        "0.31"
       ]
      },
      {
       "output_type": "stream",
       "stream": "stdout",
       "text": [
        " : http://www.fht360.com/productlist/351/13535-2.html\n",
        "0.25"
       ]
      },
      {
       "output_type": "stream",
       "stream": "stdout",
       "text": [
        " : http://www.fht360.com/productlist/233/639-3.html\n",
        "0.66"
       ]
      },
      {
       "output_type": "stream",
       "stream": "stdout",
       "text": [
        " : http://www.fht360.com/companylist/56-2-1662.html\n",
        "0.26"
       ]
      },
      {
       "output_type": "stream",
       "stream": "stdout",
       "text": [
        " : http://www.fht360.com/productlist/424/3786-2.html\n",
        "0.33"
       ]
      },
      {
       "output_type": "stream",
       "stream": "stdout",
       "text": [
        " : http://www.fht360.com/productlist/424/3784-3.html\n",
        "0.58"
       ]
      },
      {
       "output_type": "stream",
       "stream": "stdout",
       "text": [
        " : http://www.fht360.com/companylist/49-2-2143.html\n",
        "0.47"
       ]
      },
      {
       "output_type": "stream",
       "stream": "stdout",
       "text": [
        " : http://www.fht360.com/companylist/49-4-2144.html\n",
        "0.45"
       ]
      },
      {
       "output_type": "stream",
       "stream": "stdout",
       "text": [
        " : http://www.fht360.com/productlist/333-2-1009.html\n",
        "0.80"
       ]
      },
      {
       "output_type": "stream",
       "stream": "stdout",
       "text": [
        " : http://www.fht360.com/productlist/248-7-880.html\n",
        "1.28"
       ]
      },
      {
       "output_type": "stream",
       "stream": "stdout",
       "text": [
        " : http://www.fht360.com/productlist/247/13239-2.html\n",
        "0.25"
       ]
      },
      {
       "output_type": "stream",
       "stream": "stdout",
       "text": [
        " : http://www.fht360.com/productlist/247/13236-3.html\n",
        "0.25"
       ]
      },
      {
       "output_type": "stream",
       "stream": "stdout",
       "text": [
        " : http://www.fht360.com/productlist/247/13237-7.html\n",
        "0.44"
       ]
      },
      {
       "output_type": "stream",
       "stream": "stdout",
       "text": [
        " : http://www.fht360.com/productlist/244-11-1487.html\n",
        "0.36"
       ]
      },
      {
       "output_type": "stream",
       "stream": "stdout",
       "text": [
        " : http://www.fht360.com/productlist/273/99-3-1487.html\n",
        "1.06"
       ]
      },
      {
       "output_type": "stream",
       "stream": "stdout",
       "text": [
        " : http://www.fht360.com/productlist/280/19-5-2137.html\n",
        "0.31"
       ]
      },
      {
       "output_type": "stream",
       "stream": "stdout",
       "text": [
        " : http://www.fht360.com/productlist/248/757-2.html\n",
        "1.35"
       ]
      },
      {
       "output_type": "stream",
       "stream": "stdout",
       "text": [
        " : http://www.fht360.com/companylist/40-2-1499.html\n",
        "2.99"
       ]
      },
      {
       "output_type": "stream",
       "stream": "stdout",
       "text": [
        " : http://www.fht360.com/productlist/231/9-3-1122.html\n",
        "0.91"
       ]
      },
      {
       "output_type": "stream",
       "stream": "stdout",
       "text": [
        " : http://www.fht360.com/productlist/248-5-2137.html\n",
        "0.34"
       ]
      },
      {
       "output_type": "stream",
       "stream": "stdout",
       "text": [
        " : http://www.fht360.com/productlist/325/12595-6.html\n",
        "0.33"
       ]
      },
      {
       "output_type": "stream",
       "stream": "stdout",
       "text": [
        " : http://www.fht360.com/productlist/320-2.html\n",
        "0.49"
       ]
      },
      {
       "output_type": "stream",
       "stream": "stdout",
       "text": [
        " : http://www.fht360.com/companylist/44/10953-2.html\n",
        "0.43"
       ]
      },
      {
       "output_type": "stream",
       "stream": "stdout",
       "text": [
        " : http://www.fht360.com/productlist/356-2-1.html\n",
        "0.47"
       ]
      },
      {
       "output_type": "stream",
       "stream": "stdout",
       "text": [
        " : http://www.fht360.com/productlist/274/18478-5-880.html\n",
        "0.56"
       ]
      },
      {
       "output_type": "stream",
       "stream": "stdout",
       "text": [
        " : http://www.fht360.com/companylist/59-6-2164.html\n",
        "0.36"
       ]
      },
      {
       "output_type": "stream",
       "stream": "stdout",
       "text": [
        " : http://www.fht360.com/productlist/239/1044-5.html\n",
        "0.50"
       ]
      },
      {
       "output_type": "stream",
       "stream": "stdout",
       "text": [
        " : http://www.fht360.com/companylist/59-3-2169.html\n",
        "0.66"
       ]
      },
      {
       "output_type": "stream",
       "stream": "stdout",
       "text": [
        " : http://www.fht360.com/productlist/326/70-2-1487.html\n",
        "0.42"
       ]
      },
      {
       "output_type": "stream",
       "stream": "stdout",
       "text": [
        " : http://www.fht360.com/productlist/446/1191-2.html\n",
        "0.37"
       ]
      },
      {
       "output_type": "stream",
       "stream": "stdout",
       "text": [
        " : http://www.fht360.com/productlist/231-18-1122.html\n",
        "0.66"
       ]
      },
      {
       "output_type": "stream",
       "stream": "stdout",
       "text": [
        " : http://www.fht360.com/productlist/431-2-39.html\n",
        "1.28"
       ]
      },
      {
       "output_type": "stream",
       "stream": "stdout",
       "text": [
        " : http://www.fht360.com/productlist/235/15186-4.html\n",
        "2.27"
       ]
      },
      {
       "output_type": "stream",
       "stream": "stdout",
       "text": [
        " : http://www.fht360.com/productlist/231/14608-14.html\n",
        "0.16"
       ]
      },
      {
       "output_type": "stream",
       "stream": "stdout",
       "text": [
        " : http://www.fht360.com/productlist/234/390-15.html\n",
        "0.67"
       ]
      },
      {
       "output_type": "stream",
       "stream": "stdout",
       "text": [
        " : http://www.fht360.com/productlist/308-3-2137.html\n",
        "0.62"
       ]
      },
      {
       "output_type": "stream",
       "stream": "stdout",
       "text": [
        " : http://www.fht360.com/productlist/354-11.html\n",
        "0.61"
       ]
      },
      {
       "output_type": "stream",
       "stream": "stdout",
       "text": [
        " : http://www.fht360.com/productlist/343/10774-5-2137.html\n",
        "0.48"
       ]
      },
      {
       "output_type": "stream",
       "stream": "stdout",
       "text": [
        " : http://www.fht360.com/companylist/48-2-1689.html\n",
        "0.26"
       ]
      },
      {
       "output_type": "stream",
       "stream": "stdout",
       "text": [
        " : http://www.fht360.com/productlist/231/7-8-1122.html\n",
        "0.88"
       ]
      },
      {
       "output_type": "stream",
       "stream": "stdout",
       "text": [
        " : http://www.fht360.com/productlist/424/2-7-3065.html\n",
        "0.53"
       ]
      },
      {
       "output_type": "stream",
       "stream": "stdout",
       "text": [
        " : http://www.fht360.com/productlist/227/76-15.html\n",
        "0.75"
       ]
      },
      {
       "output_type": "stream",
       "stream": "stdout",
       "text": [
        " : http://www.fht360.com/productlist/246/11342-4-1487.html\n",
        "0.76"
       ]
      },
      {
       "output_type": "stream",
       "stream": "stdout",
       "text": [
        " : http://www.fht360.com/productlist/301/64-3-2137.html\n",
        "1.98"
       ]
      },
      {
       "output_type": "stream",
       "stream": "stdout",
       "text": [
        " : http://www.fht360.com/productlist/360/46-4-2137.html\n",
        "4.59"
       ]
      },
      {
       "output_type": "stream",
       "stream": "stdout",
       "text": [
        " : http://www.fht360.com/companylist/164/3-2-706.html\n",
        "1.49"
       ]
      },
      {
       "output_type": "stream",
       "stream": "stdout",
       "text": [
        " : http://www.fht360.com/productlist/425-4-1487.html\n",
        "0.58"
       ]
      },
      {
       "output_type": "stream",
       "stream": "stdout",
       "text": [
        " : http://www.fht360.com/productlist/239/168-3-1487.html\n",
        "0.33"
       ]
      },
      {
       "output_type": "stream",
       "stream": "stdout",
       "text": [
        " : http://www.fht360.com/productlist/324-4-3065.html\n",
        "0.62"
       ]
      },
      {
       "output_type": "stream",
       "stream": "stdout",
       "text": [
        " : http://www.fht360.com/productlist/239/7984-4-1487.html\n",
        "0.45"
       ]
      },
      {
       "output_type": "stream",
       "stream": "stdout",
       "text": [
        " : http://www.fht360.com/productlist/430/14894-2.html\n",
        "0.28"
       ]
      },
      {
       "output_type": "stream",
       "stream": "stdout",
       "text": [
        " : http://www.fht360.com/productlist/250-2-1122.html\n",
        "0.71"
       ]
      },
      {
       "output_type": "stream",
       "stream": "stdout",
       "text": [
        " : http://www.fht360.com/productlist/227-14-1487.html\n",
        "0.08"
       ]
      },
      {
       "output_type": "stream",
       "stream": "stdout",
       "text": [
        " : http://www.fht360.com/productlist/433/15256-2.html\n",
        "0.82"
       ]
      },
      {
       "output_type": "stream",
       "stream": "stdout",
       "text": [
        " : http://www.fht360.com/companylist/66/10186-2.html\n",
        "0.91"
       ]
      },
      {
       "output_type": "stream",
       "stream": "stdout",
       "text": [
        " : http://www.fht360.com/productlist/424-2-3392.html\n",
        "0.51"
       ]
      },
      {
       "output_type": "stream",
       "stream": "stdout",
       "text": [
        " : http://www.fht360.com/productlist/335/12534-13.html\n",
        "0.51"
       ]
      },
      {
       "output_type": "stream",
       "stream": "stdout",
       "text": [
        " : http://www.fht360.com/productlist/231/683-4.html\n",
        "0.53"
       ]
      },
      {
       "output_type": "stream",
       "stream": "stdout",
       "text": [
        " : http://www.fht360.com/productlist/234/10320-12.html\n",
        "0.54"
       ]
      },
      {
       "output_type": "stream",
       "stream": "stdout",
       "text": [
        " : http://www.fht360.com/productlist/272/18808-7-2137.html\n",
        "0.61"
       ]
      },
      {
       "output_type": "stream",
       "stream": "stdout",
       "text": [
        " : http://www.fht360.com/productlist/234/390-4-1.html\n",
        "0.48"
       ]
      },
      {
       "output_type": "stream",
       "stream": "stdout",
       "text": [
        " : http://www.fht360.com/companylist/162/3-3-1500.html\n",
        "0.34"
       ]
      },
      {
       "output_type": "stream",
       "stream": "stdout",
       "text": [
        " : http://www.fht360.com/productlist/365-3-860.html\n",
        "1.17"
       ]
      },
      {
       "output_type": "stream",
       "stream": "stdout",
       "text": [
        " : http://www.fht360.com/productlist/424-84-860.html\n",
        "1.11"
       ]
      },
      {
       "output_type": "stream",
       "stream": "stdout",
       "text": [
        " : http://www.fht360.com/productlist/226-3-1.html\n",
        "0.69"
       ]
      },
      {
       "output_type": "stream",
       "stream": "stdout",
       "text": [
        " : http://www.fht360.com/companylist/137-2-2169.html\n",
        "0.49"
       ]
      },
      {
       "output_type": "stream",
       "stream": "stdout",
       "text": [
        " : http://www.fht360.com/companylist/137-5-2164.html\n",
        "0.73"
       ]
      },
      {
       "output_type": "stream",
       "stream": "stdout",
       "text": [
        " : http://www.fht360.com/companylist/52/10015-2.html\n",
        "1.37"
       ]
      },
      {
       "output_type": "stream",
       "stream": "stdout",
       "text": [
        " : http://www.fht360.com/companylist/52/10010-2.html\n",
        "0.42"
       ]
      },
      {
       "output_type": "stream",
       "stream": "stdout",
       "text": [
        " : http://www.fht360.com/productlist/248/710-3-1487.html\n",
        "0.33"
       ]
      },
      {
       "output_type": "stream",
       "stream": "stdout",
       "text": [
        " : http://www.fht360.com/productlist/341/12620-7.html\n",
        "0.26"
       ]
      },
      {
       "output_type": "stream",
       "stream": "stdout",
       "text": [
        " : http://www.fht360.com/productlist/396/19043-2.html\n",
        "0.48"
       ]
      },
      {
       "output_type": "stream",
       "stream": "stdout",
       "text": [
        " : http://www.fht360.com/companylist/165/3-5-2186.html\n",
        "0.71"
       ]
      },
      {
       "output_type": "stream",
       "stream": "stdout",
       "text": [
        " : http://www.fht360.com/companylist/165/3-2-2189.html\n",
        "0.39"
       ]
      },
      {
       "output_type": "stream",
       "stream": "stdout",
       "text": [
        " : http://www.fht360.com/productlist/314/2704-2-880.html\n",
        "0.44"
       ]
      },
      {
       "output_type": "stream",
       "stream": "stdout",
       "text": [
        " : http://www.fht360.com/companylist/83-3-986.html\n",
        "0.35"
       ]
      },
      {
       "output_type": "stream",
       "stream": "stdout",
       "text": [
        " : http://www.fht360.com/productlist/246/13447-2-1260.html\n",
        "**************************************************\n",
        "There were 1173 failed asserts:\n",
        "http://www.fht360.com/companylist/165/3-2-936.html is practically 404, which it shouldn't be.\n",
        "http://www.fht360.com/companylist/165/3-2-2509.html is practically 404, which it shouldn't be.\n",
        "http://www.fht360.com/companylist/165/3-2-938.html is practically 404, which it shouldn't be.\n",
        "http://www.fht360.com/companylist/164/3-6-221.html is practically 404, which it shouldn't be.\n",
        "http://www.fht360.com/companylist/164/3-2-223.html is practically 404, which it shouldn't be.\n",
        "http://www.fht360.com/companylist/164/3-3-228.html is practically 404, which it shouldn't be.\n",
        "http://www.fht360.com/companylist/167-2-223.html is practically 404, which it shouldn't be.\n",
        "http://www.fht360.com/companylist/167-3-1010.html is practically 404, which it shouldn't be.\n",
        "http://www.fht360.com/companylist/164/3-2-3065.html is practically 404, which it shouldn't be.\n",
        "http://www.fht360.com/companylist/48-4-1260.html is practically 404, which it shouldn't be.\n",
        "\n",
        "\n",
        "\n",
        "\n",
        "http://www.fht360.com/companylist/164-4-1567.html is practically 404, which it shouldn't be.\n",
        "http://www.fht360.com/companylist/167/3-16-39.html is practically 404, which it shouldn't be.\n",
        "http://www.fht360.com/companylist/165/3-3-1500.html is practically 404, which it shouldn't be.\n",
        "\n",
        "\n",
        "\n",
        "http://www.fht360.com/companylist/48-8-927.html is practically 404, which it shouldn't be.\n",
        "\n",
        "http://www.fht360.com/companylist/165/3-2-3065.html is practically 404, which it shouldn't be.\n",
        "http://www.fht360.com/companylist/164/3-2-2279.html is practically 404, which it shouldn't be.\n",
        "http://www.fht360.com/companylist/164/3-15-2278.html is practically 404, which it shouldn't be.\n",
        "\n",
        "\n",
        "\n",
        "\n",
        "\n",
        "\n",
        "\n",
        "\n",
        "http://www.fht360.com/companylist/165/3-45-2137.html is practically 404, which it shouldn't be.\n",
        "http://www.fht360.com/companylist/165/3-10-2138.html is practically 404, which it shouldn't be.\n",
        "http://www.fht360.com/companylist/162-3-1857.html is practically 404, which it shouldn't be.\n",
        "http://www.fht360.com/companylist/162-2-1581.html is practically 404, which it shouldn't be.\n",
        "http://www.fht360.com/companylist/167-2-1364.html is practically 404, which it shouldn't be.\n",
        "http://www.fht360.com/companylist/164-2-706.html is practically 404, which it shouldn't be.\n",
        "\n",
        "\n",
        "\n",
        "\n",
        "\n",
        "\n",
        "http://www.fht360.com/companylist/48-2-1570.html is practically 404, which it shouldn't be.\n",
        "http://www.fht360.com/companylist/51/10785-2-2137.html is practically 404, which it shouldn't be.\n",
        "http://www.fht360.com/companylist/164-2-1276.html is practically 404, which it shouldn't be.\n",
        "\n",
        "\n",
        "http://www.fht360.com/companylist/48/3-2-1276.html is practically 404, which it shouldn't be.\n",
        "http://www.fht360.com/companylist/34-53.html is practically 404, which it shouldn't be.\n",
        "http://www.fht360.com/companylist/37-44.html is practically 404, which it shouldn't be.\n",
        "http://www.fht360.com/companylist/165/3-3-1122.html is practically 404, which it shouldn't be.\n",
        "\n",
        "http://www.fht360.com/companylist/162-22-880.html is practically 404, which it shouldn't be.\n",
        "http://www.fht360.com/companylist/162-2-881.html is practically 404, which it shouldn't be.\n",
        "\n",
        "\n",
        "http://www.fht360.com/companylist/164-2-1070.html is practically 404, which it shouldn't be.\n",
        "http://www.fht360.com/companylist/167/3-2-2279.html is practically 404, which it shouldn't be.\n",
        "http://www.fht360.com/companylist/57-4-880.html is practically 404, which it shouldn't be.\n",
        "\n",
        "\n",
        "http://www.fht360.com/companylist/48-7-2169.html is practically 404, which it shouldn't be.\n",
        "http://www.fht360.com/companylist/48-15-2164.html is practically 404, which it shouldn't be.\n",
        "http://www.fht360.com/companylist/209-2-1662.html is practically 404, which it shouldn't be.\n",
        "http://www.fht360.com/companylist/167-6-221.html is practically 404, which it shouldn't be.\n",
        "http://www.fht360.com/companylist/167-3-228.html is practically 404, which it shouldn't be.\n",
        "http://www.fht360.com/companylist/34-3-1009.html is practically 404, which it shouldn't be.\n",
        "\n",
        "http://www.fht360.com/companylist/48/3-2-230.html is practically 404, which it shouldn't be.\n",
        "\n",
        "http://www.fht360.com/companylist/167/3-3-1067.html is practically 404, which it shouldn't be.\n",
        "http://www.fht360.com/companylist/164-2-230.html is practically 404, which it shouldn't be.\n",
        "http://www.fht360.com/companylist/48-2-1100.html is practically 404, which it shouldn't be.\n",
        "\n",
        "http://www.fht360.com/companylist/164-2-499.html is practically 404, which it shouldn't be.\n",
        "http://www.fht360.com/companylist/48/3-13-1009.html is practically 404, which it shouldn't be.\n",
        "http://www.fht360.com/companylist/165-5-2186.html is practically 404, which it shouldn't be.\n",
        "http://www.fht360.com/companylist/165-2-2189.html is practically 404, which it shouldn't be.\n",
        "http://www.fht360.com/companylist/162/3-2-1025.html is practically 404, which it shouldn't be.\n",
        "\n",
        "http://www.fht360.com/companylist/167/3-3-1500.html is practically 404, which it shouldn't be.\n",
        "http://www.fht360.com/companylist/48-2-1668.html is practically 404, which it shouldn't be.\n",
        "http://www.fht360.com/companylist/48-11-1662.html is practically 404, which it shouldn't be.\n",
        "http://www.fht360.com/companylist/48-6-1663.html is practically 404, which it shouldn't be.\n",
        "\n",
        "http://www.fht360.com/companylist/167/3-4-1.html is practically 404, which it shouldn't be.\n",
        "\n",
        "http://www.fht360.com/companylist/165/3-2-1987.html is practically 404, which it shouldn't be.\n",
        "\n",
        "\n",
        "\n",
        "http://www.fht360.com/companylist/165-2-873.html is practically 404, which it shouldn't be.\n",
        "http://www.fht360.com/companylist/164/3-10-2138.html is practically 404, which it shouldn't be.\n",
        "http://www.fht360.com/companylist/164/3-45-2137.html is practically 404, which it shouldn't be.\n",
        "http://www.fht360.com/companylist/167-3-1122.html is practically 404, which it shouldn't be.\n",
        "\n",
        "\n",
        "\n",
        "http://www.fht360.com/companylist/164-2-2190.html is practically 404, which it shouldn't be.\n",
        "http://www.fht360.com/companylist/167/3-166.html is practically 404, which it shouldn't be.\n",
        "http://www.fht360.com/companylist/164/3-3-20.html is practically 404, which it shouldn't be.\n",
        "http://www.fht360.com/companylist/210/4-2-1662.html is practically 404, which it shouldn't be.\n",
        "http://www.fht360.com/companylist/48-3-2508.html is practically 404, which it shouldn't be.\n",
        "http://www.fht360.com/companylist/48-2-2509.html is practically 404, which it shouldn't be.\n",
        "http://www.fht360.com/companylist/165-16-39.html is practically 404, which it shouldn't be.\n",
        "http://www.fht360.com/companylist/165-2-223.html is practically 404, which it shouldn't be.\n",
        "http://www.fht360.com/companylist/165-6-221.html is practically 404, which it shouldn't be.\n",
        "http://www.fht360.com/companylist/165-3-228.html is practically 404, which it shouldn't be.\n",
        "http://www.fht360.com/companylist/165/3-15-2278.html is practically 404, which it shouldn't be.\n",
        "http://www.fht360.com/companylist/165/3-2-2279.html is practically 404, which it shouldn't be.\n",
        "\n",
        "http://www.fht360.com/companylist/162/3-2-1581.html is practically 404, which it shouldn't be.\n",
        "http://www.fht360.com/companylist/162-2-111.html is practically 404, which it shouldn't be.\n",
        "\n",
        "\n",
        "\n",
        "http://www.fht360.com/companylist/164/3-2-1514.html is practically 404, which it shouldn't be.\n",
        "\n",
        "http://www.fht360.com/companylist/162/3-2-1514.html is practically 404, which it shouldn't be.\n",
        "http://www.fht360.com/companylist/162/3-166.html is practically 404, which it shouldn't be.\n",
        "\n",
        "http://www.fht360.com/companylist/43-2-1619.html is practically 404, which it shouldn't be.\n",
        "\n",
        "http://www.fht360.com/companylist/37-3-991.html is practically 404, which it shouldn't be.\n",
        "http://www.fht360.com/companylist/165-3-1010.html is practically 404, which it shouldn't be.\n",
        "\n",
        "http://www.fht360.com/companylist/162-6-2169.html is practically 404, which it shouldn't be.\n",
        "http://www.fht360.com/companylist/162-12-2164.html is practically 404, which it shouldn't be.\n",
        "\n",
        "\n",
        "\n",
        "\n",
        "http://www.fht360.com/companylist/167-3-2144.html is practically 404, which it shouldn't be.\n",
        "http://www.fht360.com/companylist/167-2-2147.html is practically 404, which it shouldn't be.\n",
        "http://www.fht360.com/companylist/167-2-2143.html is practically 404, which it shouldn't be.\n",
        "http://www.fht360.com/companylist/167/3-2-1581.html is practically 404, which it shouldn't be.\n",
        "http://www.fht360.com/companylist/189/10465-2-2137.html is practically 404, which it shouldn't be.\n",
        "\n",
        "http://www.fht360.com/companylist/165/3-22-880.html is practically 404, which it shouldn't be.\n",
        "http://www.fht360.com/companylist/162-2-1570.html is practically 404, which it shouldn't be.\n",
        "\n",
        "http://www.fht360.com/companylist/164-2-1491.html is practically 404, which it shouldn't be.\n",
        "\n",
        "http://www.fht360.com/companylist/162-2-3065.html is practically 404, which it shouldn't be.\n",
        "\n",
        "http://www.fht360.com/companylist/167-3-896.html is practically 404, which it shouldn't be.\n",
        "http://www.fht360.com/companylist/48-2-1581.html is practically 404, which it shouldn't be.\n",
        "http://www.fht360.com/companylist/48-2-1051.html is practically 404, which it shouldn't be.\n",
        "http://www.fht360.com/companylist/165-3-1857.html is practically 404, which it shouldn't be.\n",
        "http://www.fht360.com/companylist/86-8.html is practically 404, which it shouldn't be.\n",
        "http://www.fht360.com/companylist/83-5.html is practically 404, which it shouldn't be.\n",
        "http://www.fht360.com/companylist/162-2-191.html is practically 404, which it shouldn't be.\n",
        "\n",
        "\n",
        "http://www.fht360.com/companylist/167-2-132.html is practically 404, which it shouldn't be.\n",
        "http://www.fht360.com/companylist/165-2-936.html is practically 404, which it shouldn't be.\n",
        "http://www.fht360.com/companylist/165-2-938.html is practically 404, which it shouldn't be.\n",
        "\n",
        "\n",
        "http://www.fht360.com/companylist/162-2-1987.html is practically 404, which it shouldn't be.\n",
        "http://www.fht360.com/companylist/167/3-2-1668.html is practically 404, which it shouldn't be.\n",
        "\n",
        "http://www.fht360.com/companylist/162-15-2278.html is practically 404, which it shouldn't be.\n",
        "http://www.fht360.com/companylist/162-2-2279.html is practically 404, which it shouldn't be.\n",
        "\n",
        "http://www.fht360.com/companylist/164-2-1514.html is practically 404, which it shouldn't be.\n",
        "http://www.fht360.com/companylist/164/3-2-132.html is practically 404, which it shouldn't be.\n",
        "http://www.fht360.com/companylist/56-4-880.html is practically 404, which it shouldn't be.\n",
        "http://www.fht360.com/companylist/165/3-4-1553.html is practically 404, which it shouldn't be.\n",
        "http://www.fht360.com/companylist/54-4-2137.html is practically 404, which it shouldn't be.\n",
        "\n",
        "http://www.fht360.com/companylist/34-2-1570.html is practically 404, which it shouldn't be.\n",
        "http://www.fht360.com/companylist/164/3-10-1662.html is practically 404, which it shouldn't be.\n",
        "http://www.fht360.com/companylist/167/3-10-2138.html is practically 404, which it shouldn't be.\n",
        "\n",
        "http://www.fht360.com/companylist/122-3-1487.html is practically 404, which it shouldn't be.\n",
        "http://www.fht360.com/companylist/167/3-2-2508.html is practically 404, which it shouldn't be.\n",
        "http://www.fht360.com/companylist/164/3-12-2164.html is practically 404, which it shouldn't be.\n",
        "\n",
        "http://www.fht360.com/companylist/167/3-2-1364.html is practically 404, which it shouldn't be.\n",
        "http://www.fht360.com/companylist/164-2-111.html is practically 404, which it shouldn't be.\n",
        "http://www.fht360.com/companylist/167/3-3-986.html is practically 404, which it shouldn't be.\n",
        "http://www.fht360.com/companylist/48/3-3-896.html is practically 404, which it shouldn't be.\n",
        "http://www.fht360.com/companylist/165-45-2137.html is practically 404, which it shouldn't be.\n",
        "http://www.fht360.com/companylist/165-10-2138.html is practically 404, which it shouldn't be.\n",
        "http://www.fht360.com/companylist/165/3-4-1.html is practically 404, which it shouldn't be.\n",
        "http://www.fht360.com/companylist/162/3-2-2279.html is practically 404, which it shouldn't be.\n",
        "http://www.fht360.com/companylist/162/3-15-2278.html is practically 404, which it shouldn't be.\n",
        "\n",
        "http://www.fht360.com/companylist/162/3-4-1567.html is practically 404, which it shouldn't be.\n",
        "\n",
        "http://www.fht360.com/companylist/162/3-5-2186.html is practically 404, which it shouldn't be.\n",
        "\n",
        "http://www.fht360.com/companylist/167/3-2-1987.html is practically 404, which it shouldn't be.\n",
        "http://www.fht360.com/companylist/162-3-40.html is practically 404, which it shouldn't be.\n",
        "http://www.fht360.com/companylist/162-2-938.html is practically 404, which it shouldn't be.\n",
        "http://www.fht360.com/companylist/57/4-2-1662.html is practically 404, which it shouldn't be.\n",
        "http://www.fht360.com/companylist/165-2-881.html is practically 404, which it shouldn't be.\n",
        "http://www.fht360.com/companylist/165-22-880.html is practically 404, which it shouldn't be.\n",
        "\n",
        "\n",
        "http://www.fht360.com/companylist/164/3-2-1491.html is practically 404, which it shouldn't be.\n",
        "http://www.fht360.com/companylist/165-2-1364.html is practically 404, which it shouldn't be.\n",
        "http://www.fht360.com/companylist/48-4-1500.html is practically 404, which it shouldn't be.\n",
        "\n",
        "http://www.fht360.com/companylist/48/3-3-918.html is practically 404, which it shouldn't be.\n",
        "http://www.fht360.com/companylist/164-6-2169.html is practically 404, which it shouldn't be.\n",
        "http://www.fht360.com/companylist/164-12-2164.html is practically 404, which it shouldn't be.\n",
        "\n",
        "\n",
        "\n",
        "http://www.fht360.com/companylist/48/3-2-2190.html is practically 404, which it shouldn't be.\n",
        "\n",
        "http://www.fht360.com/companylist/167-2-991.html is practically 404, which it shouldn't be.\n",
        "http://www.fht360.com/companylist/48/3-2-499.html is practically 404, which it shouldn't be.\n",
        "\n",
        "http://www.fht360.com/companylist/162/3-2-924.html is practically 404, which it shouldn't be.\n",
        "http://www.fht360.com/companylist/34-3-860.html is practically 404, which it shouldn't be.\n",
        "\n",
        "http://www.fht360.com/companylist/162-2-2190.html is practically 404, which it shouldn't be.\n",
        "http://www.fht360.com/companylist/143-5.html is practically 404, which it shouldn't be.\n",
        "http://www.fht360.com/companylist/162/3-2-1276.html is practically 404, which it shouldn't be.\n",
        "http://www.fht360.com/companylist/164-4-1.html is practically 404, which it shouldn't be.\n",
        "http://www.fht360.com/companylist/164/3-2-191.html is practically 404, which it shouldn't be.\n",
        "http://www.fht360.com/companylist/167/3-2-1051.html is practically 404, which it shouldn't be.\n",
        "http://www.fht360.com/companylist/164-2-191.html is practically 404, which it shouldn't be.\n",
        "http://www.fht360.com/companylist/48/3-2-1070.html is practically 404, which it shouldn't be.\n",
        "\n",
        "http://www.fht360.com/companylist/43-2-860.html is practically 404, which it shouldn't be.\n",
        "http://www.fht360.com/companylist/162/3-2-1070.html is practically 404, which it shouldn't be.\n",
        "http://www.fht360.com/companylist/162/3-2-706.html is practically 404, which it shouldn't be.\n",
        "\n",
        "http://www.fht360.com/companylist/165/3-6-2169.html is practically 404, which it shouldn't be.\n",
        "http://www.fht360.com/companylist/162/3-2-881.html is practically 404, which it shouldn't be.\n",
        "http://www.fht360.com/companylist/162/3-22-880.html is practically 404, which it shouldn't be.\n",
        "\n",
        "\n",
        "\n",
        "\n",
        "\n",
        "\n",
        "http://www.fht360.com/companylist/162-2-706.html is practically 404, which it shouldn't be.\n",
        "http://www.fht360.com/companylist/164/3-3-2144.html is practically 404, which it shouldn't be.\n",
        "http://www.fht360.com/companylist/164/3-2-2147.html is practically 404, which it shouldn't be.\n",
        "http://www.fht360.com/companylist/164/3-2-2143.html is practically 404, which it shouldn't be.\n",
        "http://www.fht360.com/companylist/165-3-1500.html is practically 404, which it shouldn't be.\n",
        "http://www.fht360.com/companylist/162/3-3-40.html is practically 404, which it shouldn't be.\n",
        "http://www.fht360.com/companylist/167/3-13-1009.html is practically 404, which it shouldn't be.\n",
        "http://www.fht360.com/companylist/165-3-40.html is practically 404, which it shouldn't be.\n",
        "http://www.fht360.com/companylist/83-3-880.html is practically 404, which it shouldn't be.\n",
        "\n",
        "http://www.fht360.com/companylist/167-3-918.html is practically 404, which it shouldn't be.\n",
        "\n",
        "http://www.fht360.com/companylist/164-2-1987.html is practically 404, which it shouldn't be.\n",
        "http://www.fht360.com/companylist/162/3-2-3065.html is practically 404, which it shouldn't be.\n",
        "\n",
        "\n",
        "\n",
        "http://www.fht360.com/companylist/167-2-499.html is practically 404, which it shouldn't be.\n",
        "http://www.fht360.com/companylist/162/3-2-230.html is practically 404, which it shouldn't be.\n",
        "http://www.fht360.com/companylist/162/3-2-499.html is practically 404, which it shouldn't be.\n",
        "http://www.fht360.com/companylist/167-2-2279.html is practically 404, which it shouldn't be.\n",
        "http://www.fht360.com/companylist/167-15-2278.html is practically 404, which it shouldn't be.\n",
        "\n",
        "http://www.fht360.com/companylist/164/3-2-111.html is practically 404, which it shouldn't be.\n",
        "http://www.fht360.com/companylist/34-2-2186.html is practically 404, which it shouldn't be.\n",
        "\n",
        "\n",
        "http://www.fht360.com/companylist/162-10-2138.html is practically 404, which it shouldn't be.\n",
        "http://www.fht360.com/companylist/167-10-2138.html is practically 404, which it shouldn't be.\n",
        "http://www.fht360.com/companylist/167-45-2137.html is practically 404, which it shouldn't be.\n",
        "\n",
        "\n",
        "http://www.fht360.com/companylist/164/3-3-1122.html is practically 404, which it shouldn't be.\n",
        "http://www.fht360.com/companylist/48-3-228.html is practically 404, which it shouldn't be.\n",
        "http://www.fht360.com/companylist/48-7-221.html is practically 404, which it shouldn't be.\n",
        "http://www.fht360.com/companylist/48-2-223.html is practically 404, which it shouldn't be.\n",
        "http://www.fht360.com/companylist/48-3-1619.html is practically 404, which it shouldn't be.\n",
        "\n",
        "http://www.fht360.com/companylist/48/3-11-860.html is practically 404, which it shouldn't be.\n",
        "http://www.fht360.com/companylist/164-2-936.html is practically 404, which it shouldn't be.\n",
        "http://www.fht360.com/companylist/164-2-938.html is practically 404, which it shouldn't be.\n",
        "http://www.fht360.com/companylist/165/3-2-881.html is practically 404, which it shouldn't be.\n",
        "\n",
        "http://www.fht360.com/companylist/165-2-1581.html is practically 404, which it shouldn't be.\n",
        "http://www.fht360.com/companylist/48-2-1364.html is practically 404, which it shouldn't be.\n",
        "http://www.fht360.com/newslist/31-101.html is practically 404, which it shouldn't be.\n",
        "http://www.fht360.com/companylist/165-2-2279.html is practically 404, which it shouldn't be.\n",
        "http://www.fht360.com/companylist/165-15-2278.html is practically 404, which it shouldn't be.\n",
        "\n",
        "http://www.fht360.com/companylist/48-13-1009.html is practically 404, which it shouldn't be.\n",
        "http://www.fht360.com/companylist/162-3-1010.html is practically 404, which it shouldn't be.\n",
        "http://www.fht360.com/companylist/165/3-2-230.html is practically 404, which it shouldn't be.\n",
        "http://www.fht360.com/companylist/164-2-873.html is practically 404, which it shouldn't be.\n",
        "\n",
        "http://www.fht360.com/companylist/164/3-4-1553.html is practically 404, which it shouldn't be.\n",
        "\n",
        "http://www.fht360.com/companylist/165/3-2-1514.html is practically 404, which it shouldn't be.\n",
        "http://www.fht360.com/companylist/165-2-3065.html is practically 404, which it shouldn't be.\n",
        "\n",
        "\n",
        "\n",
        "\n",
        "\n",
        "\n",
        "\n",
        "\n",
        "http://www.fht360.com/companylist/165-6-2169.html is practically 404, which it shouldn't be.\n",
        "http://www.fht360.com/companylist/165-12-2164.html is practically 404, which it shouldn't be.\n",
        "\n",
        "http://www.fht360.com/companylist/57-2-1662.html is practically 404, which it shouldn't be.\n",
        "\n",
        "\n",
        "http://www.fht360.com/companylist/167-11-860.html is practically 404, which it shouldn't be.\n",
        "http://www.fht360.com/companylist/167/3-2-2189.html is practically 404, which it shouldn't be.\n",
        "http://www.fht360.com/companylist/167/3-5-2186.html is practically 404, which it shouldn't be.\n",
        "\n",
        "\n",
        "\n",
        "\n",
        "\n",
        "http://www.fht360.com/companylist/167/3-3-1619.html is practically 404, which it shouldn't be.\n",
        "\n",
        "\n",
        "\n",
        "\n",
        "\n",
        "http://www.fht360.com/companylist/167/3-2-873.html is practically 404, which it shouldn't be.\n",
        "http://www.fht360.com/companylist/167-2-3065.html is practically 404, which it shouldn't be.\n",
        "http://www.fht360.com/companylist/164/3-3-1010.html is practically 404, which it shouldn't be.\n",
        "http://www.fht360.com/companylist/48/3-2-1668.html is practically 404, which it shouldn't be.\n",
        "http://www.fht360.com/companylist/48-5-2186.html is practically 404, which it shouldn't be.\n",
        "http://www.fht360.com/companylist/48-2-2189.html is practically 404, which it shouldn't be.\n",
        "http://www.fht360.com/companylist/48/3-10-1662.html is practically 404, which it shouldn't be.\n",
        "\n",
        "http://www.fht360.com/companylist/48-2-132.html is practically 404, which it shouldn't be.\n",
        "http://www.fht360.com/companylist/167-3-1488.html is practically 404, which it shouldn't be.\n",
        "http://www.fht360.com/companylist/34-2-1524.html is practically 404, which it shouldn't be.\n",
        "\n",
        "http://www.fht360.com/companylist/173-2.html is practically 404, which it shouldn't be.\n",
        "http://www.fht360.com/companylist/162/3-2-111.html is practically 404, which it shouldn't be.\n",
        "\n",
        "\n",
        "\n",
        "http://www.fht360.com/companylist/164-2-1668.html is practically 404, which it shouldn't be.\n",
        "http://www.fht360.com/companylist/164-10-1662.html is practically 404, which it shouldn't be.\n",
        "http://www.fht360.com/companylist/164-5-1663.html is practically 404, which it shouldn't be.\n",
        "\n",
        "http://www.fht360.com/companylist/167/3-2-936.html is practically 404, which it shouldn't be.\n",
        "http://www.fht360.com/companylist/167/3-2-938.html is practically 404, which it shouldn't be.\n",
        "\n",
        "\n",
        "http://www.fht360.com/companylist/162/3-2-2508.html is practically 404, which it shouldn't be.\n",
        "http://www.fht360.com/companylist/164-3-986.html is practically 404, which it shouldn't be.\n",
        "http://www.fht360.com/companylist/48/3-2-1514.html is practically 404, which it shouldn't be.\n",
        "http://www.fht360.com/companylist/246-4-2164.html is practically 404, which it shouldn't be.\n",
        "http://www.fht360.com/companylist/165/3-11-860.html is practically 404, which it shouldn't be.\n",
        "http://www.fht360.com/companylist/48-4-1553.html is practically 404, which it shouldn't be.\n",
        "http://www.fht360.com/companylist/165/3-24-1487.html is practically 404, which it shouldn't be.\n",
        "http://www.fht360.com/companylist/165/3-3-1857.html is practically 404, which it shouldn't be.\n",
        "http://www.fht360.com/companylist/165/3-2-1858.html is practically 404, which it shouldn't be.\n",
        "\n",
        "http://www.fht360.com/companylist/34-2-1619.html is practically 404, which it shouldn't be.\n",
        "http://www.fht360.com/companylist/164-10-2138.html is practically 404, which it shouldn't be.\n",
        "http://www.fht360.com/companylist/52-42.html is practically 404, which it shouldn't be.\n",
        "http://www.fht360.com/companylist/50-32.html is practically 404, which it shouldn't be.\n",
        "http://www.fht360.com/companylist/56-15.html is practically 404, which it shouldn't be.\n",
        "http://www.fht360.com/companylist/57-14.html is practically 404, which it shouldn't be.\n",
        "http://www.fht360.com/companylist/54-16.html is practically 404, which it shouldn't be.\n",
        "http://www.fht360.com/companylist/55-2.html is practically 404, which it shouldn't be.\n",
        "\n",
        "\n",
        "\n",
        "http://www.fht360.com/companylist/164-3-1010.html is practically 404, which it shouldn't be.\n",
        "http://www.fht360.com/companylist/37-14-2137.html is practically 404, which it shouldn't be.\n",
        "http://www.fht360.com/companylist/165-4-2170.html is practically 404, which it shouldn't be.\n",
        "http://www.fht360.com/companylist/48/3-2-2279.html is practically 404, which it shouldn't be.\n",
        "http://www.fht360.com/companylist/48/3-15-2278.html is practically 404, which it shouldn't be.\n",
        "\n",
        "http://www.fht360.com/companylist/77-3-986.html is practically 404, which it shouldn't be.\n",
        "http://www.fht360.com/companylist/167-2-1514.html is practically 404, which it shouldn't be.\n",
        "\n",
        "\n",
        "http://www.fht360.com/companylist/164-2-3065.html is practically 404, which it shouldn't be.\n",
        "http://www.fht360.com/companylist/165-2-1276.html is practically 404, which it shouldn't be.\n",
        "\n",
        "\n",
        "\n",
        "\n",
        "\n",
        "\n",
        "\n",
        "http://www.fht360.com/companylist/167/3-5-1663.html is practically 404, which it shouldn't be.\n",
        "\n",
        "http://www.fht360.com/companylist/162/3-2-191.html is practically 404, which it shouldn't be.\n",
        "http://www.fht360.com/companylist/188-2-2137.html is practically 404, which it shouldn't be.\n",
        "\n",
        "\n",
        "\n",
        "http://www.fht360.com/companylist/165-2-1070.html is practically 404, which it shouldn't be.\n",
        "\n",
        "\n",
        "\n",
        "http://www.fht360.com/companylist/48/3-2-1025.html is practically 404, which it shouldn't be.\n",
        "http://www.fht360.com/companylist/162/3-3-986.html is practically 404, which it shouldn't be.\n",
        "\n",
        "http://www.fht360.com/companylist/164-2-2508.html is practically 404, which it shouldn't be.\n",
        "http://www.fht360.com/companylist/164-2-2509.html is practically 404, which it shouldn't be.\n",
        "\n",
        "http://www.fht360.com/companylist/167/3-4-1567.html is practically 404, which it shouldn't be.\n",
        "http://www.fht360.com/companylist/77-2-1487.html is practically 404, which it shouldn't be.\n",
        "\n",
        "http://www.fht360.com/companylist/164/3-3-986.html is practically 404, which it shouldn't be.\n",
        "\n",
        "\n",
        "\n",
        "\n",
        "\n",
        "\n",
        "http://www.fht360.com/companylist/162/3-2-1364.html is practically 404, which it shouldn't be.\n",
        "\n",
        "\n",
        "http://www.fht360.com/companylist/51/10465-2-2137.html is practically 404, which it shouldn't be.\n",
        "http://www.fht360.com/companylist/48-2-2143.html is practically 404, which it shouldn't be.\n",
        "http://www.fht360.com/companylist/48-2-3065.html is practically 404, which it shouldn't be.\n",
        "http://www.fht360.com/companylist/162/3-2-1491.html is practically 404, which it shouldn't be.\n",
        "http://www.fht360.com/companylist/167-2-1100.html is practically 404, which it shouldn't be.\n",
        "http://www.fht360.com/companylist/165-4-1553.html is practically 404, which it shouldn't be.\n",
        "\n",
        "http://www.fht360.com/companylist/162/3-16-39.html is practically 404, which it shouldn't be.\n",
        "\n",
        "\n",
        "http://www.fht360.com/companylist/167/3-2-223.html is practically 404, which it shouldn't be.\n",
        "http://www.fht360.com/companylist/167/3-6-221.html is practically 404, which it shouldn't be.\n",
        "http://www.fht360.com/companylist/167/3-3-228.html is practically 404, which it shouldn't be.\n",
        "http://www.fht360.com/companylist/164/3-2-936.html is practically 404, which it shouldn't be.\n",
        "http://www.fht360.com/companylist/167/3-4-2170.html is practically 404, which it shouldn't be.\n",
        "http://www.fht360.com/companylist/164/3-11-860.html is practically 404, which it shouldn't be.\n",
        "\n",
        "http://www.fht360.com/companylist/162-2-1025.html is practically 404, which it shouldn't be.\n",
        "\n",
        "http://www.fht360.com/companylist/48/3-2-2147.html is practically 404, which it shouldn't be.\n",
        "http://www.fht360.com/companylist/48/3-2-2143.html is practically 404, which it shouldn't be.\n",
        "\n",
        "\n",
        "http://www.fht360.com/companylist/165/3-3-1067.html is practically 404, which it shouldn't be.\n",
        "http://www.fht360.com/companylist/48-5-1.html is practically 404, which it shouldn't be.\n",
        "http://www.fht360.com/companylist/167/3-3-1857.html is practically 404, which it shouldn't be.\n",
        "\n",
        "\n",
        "http://www.fht360.com/companylist/162-2-1491.html is practically 404, which it shouldn't be.\n",
        "\n",
        "http://www.fht360.com/companylist/162-3-2144.html is practically 404, which it shouldn't be.\n",
        "\n",
        "http://www.fht360.com/companylist/167-6-2169.html is practically 404, which it shouldn't be.\n",
        "http://www.fht360.com/companylist/167/3-2-1570.html is practically 404, which it shouldn't be.\n",
        "http://www.fht360.com/companylist/164/3-2-2190.html is practically 404, which it shouldn't be.\n",
        "\n",
        "http://www.fht360.com/companylist/164-3-20.html is practically 404, which it shouldn't be.\n",
        "http://www.fht360.com/companylist/56/4-2-1662.html is practically 404, which it shouldn't be.\n",
        "\n",
        "http://www.fht360.com/companylist/167/3-2-1276.html is practically 404, which it shouldn't be.\n",
        "\n",
        "\n",
        "\n",
        "\n",
        "http://www.fht360.com/companylist/162-2-991.html is practically 404, which it shouldn't be.\n",
        "\n",
        "http://www.fht360.com/companylist/162-2-1514.html is practically 404, which it shouldn't be.\n",
        "\n",
        "http://www.fht360.com/companylist/48/3-2-3065.html is practically 404, which it shouldn't be.\n",
        "http://www.fht360.com/companylist/48/3-2-191.html is practically 404, which it shouldn't be.\n",
        "http://www.fht360.com/companylist/48-2-1070.html is practically 404, which it shouldn't be.\n",
        "\n",
        "\n",
        "http://www.fht360.com/companylist/164-45-2137.html is practically 404, which it shouldn't be.\n",
        "\n",
        "http://www.fht360.com/companylist/167-2-111.html is practically 404, which it shouldn't be.\n",
        "http://www.fht360.com/companylist/48-2-873.html is practically 404, which it shouldn't be.\n",
        "http://www.fht360.com/companylist/48-2-872.html is practically 404, which it shouldn't be.\n",
        "\n",
        "\n",
        "http://www.fht360.com/companylist/210-3-880.html is practically 404, which it shouldn't be.\n",
        "\n",
        "http://www.fht360.com/companylist/167-3-1067.html is practically 404, which it shouldn't be.\n",
        "\n",
        "http://www.fht360.com/companylist/48-2-1276.html is practically 404, which it shouldn't be.\n",
        "\n",
        "\n",
        "\n",
        "\n",
        "http://www.fht360.com/companylist/164-2-1570.html is practically 404, which it shouldn't be.\n",
        "http://www.fht360.com/companylist/167/3-3-20.html is practically 404, which it shouldn't be.\n",
        "http://www.fht360.com/companylist/165/3-2-1570.html is practically 404, which it shouldn't be.\n",
        "http://www.fht360.com/companylist/164/3-2-1025.html is practically 404, which it shouldn't be.\n",
        "\n",
        "\n",
        "\n",
        "http://www.fht360.com/companylist/34-8-880.html is practically 404, which it shouldn't be.\n",
        "\n",
        "http://www.fht360.com/companylist/167-2-706.html is practically 404, which it shouldn't be.\n",
        "http://www.fht360.com/companylist/48-2-938.html is practically 404, which it shouldn't be.\n",
        "\n",
        "http://www.fht360.com/companylist/48-2-936.html is practically 404, which it shouldn't be.\n",
        "\n",
        "\n",
        "http://www.fht360.com/companylist/165/3-13-1009.html is practically 404, which it shouldn't be.\n",
        "http://www.fht360.com/companylist/164-2-132.html is practically 404, which it shouldn't be.\n",
        "\n",
        "http://www.fht360.com/companylist/167/3-2-132.html is practically 404, which it shouldn't be.\n",
        "http://www.fht360.com/companylist/162-3-20.html is practically 404, which it shouldn't be.\n",
        "http://www.fht360.com/companylist/162-3-918.html is practically 404, which it shouldn't be.\n",
        "http://www.fht360.com/companylist/48/3-4-2170.html is practically 404, which it shouldn't be.\n",
        "\n",
        "\n",
        "http://www.fht360.com/companylist/48/3-166.html is practically 404, which it shouldn't be.\n",
        "http://www.fht360.com/companylist/162/3-13-1009.html is practically 404, which it shouldn't be.\n",
        "http://www.fht360.com/companylist/48/3-2-111.html is practically 404, which it shouldn't be.\n",
        "http://www.fht360.com/companylist/48-4-1567.html is practically 404, which it shouldn't be.\n",
        "http://www.fht360.com/companylist/167/3-3-1488.html is practically 404, which it shouldn't be.\n",
        "http://www.fht360.com/companylist/167/3-24-1487.html is practically 404, which it shouldn't be.\n",
        "http://www.fht360.com/companylist/164-4-1260.html is practically 404, which it shouldn't be.\n",
        "http://www.fht360.com/companylist/167-16-39.html is practically 404, which it shouldn't be.\n",
        "\n",
        "http://www.fht360.com/companylist/34-3-1663.html is practically 404, which it shouldn't be.\n",
        "http://www.fht360.com/companylist/34-4-1662.html is practically 404, which it shouldn't be.\n",
        "http://www.fht360.com/companylist/167-2-191.html is practically 404, which it shouldn't be.\n",
        "\n",
        "http://www.fht360.com/companylist/162/3-2-1668.html is practically 404, which it shouldn't be.\n",
        "http://www.fht360.com/companylist/162/3-5-1663.html is practically 404, which it shouldn't be.\n",
        "http://www.fht360.com/companylist/162/3-10-1662.html is practically 404, which it shouldn't be.\n",
        "\n",
        "http://www.fht360.com/companylist/162-3-896.html is practically 404, which it shouldn't be.\n",
        "http://www.fht360.com/companylist/48-18-39.html is practically 404, which it shouldn't be.\n",
        "http://www.fht360.com/companylist/165-2-1100.html is practically 404, which it shouldn't be.\n",
        "http://www.fht360.com/companylist/164-3-1067.html is practically 404, which it shouldn't be.\n",
        "http://www.fht360.com/companylist/48/3-2-706.html is practically 404, which it shouldn't be.\n",
        "\n",
        "http://www.fht360.com/companylist/48-4-2170.html is practically 404, which it shouldn't be.\n",
        "http://www.fht360.com/companylist/48-25-1487.html is practically 404, which it shouldn't be.\n",
        "http://www.fht360.com/companylist/48-4-1488.html is practically 404, which it shouldn't be.\n",
        "http://www.fht360.com/companylist/48-2-1736.html is practically 404, which it shouldn't be.\n",
        "\n",
        "\n",
        "http://www.fht360.com/companylist/164-4-1553.html is practically 404, which it shouldn't be.\n",
        "\n",
        "\n",
        "\n",
        "http://www.fht360.com/companylist/164/3-2-499.html is practically 404, which it shouldn't be.\n",
        "\n",
        "\n",
        "http://www.fht360.com/companylist/167/3-2-1070.html is practically 404, which it shouldn't be.\n",
        "\n",
        "http://www.fht360.com/companylist/48/3-3-1010.html is practically 404, which it shouldn't be.\n",
        "\n",
        "http://www.fht360.com/companylist/167/3-3-40.html is practically 404, which it shouldn't be.\n",
        "http://www.fht360.com/companylist/165-2-2190.html is practically 404, which it shouldn't be.\n",
        "http://www.fht360.com/companylist/162/3-3-1010.html is practically 404, which it shouldn't be.\n",
        "http://www.fht360.com/companylist/162-2-936.html is practically 404, which it shouldn't be.\n",
        "http://www.fht360.com/companylist/165/3-2-2147.html is practically 404, which it shouldn't be.\n",
        "http://www.fht360.com/companylist/165/3-3-2144.html is practically 404, which it shouldn't be.\n",
        "http://www.fht360.com/companylist/165/3-2-2143.html is practically 404, which it shouldn't be.\n",
        "http://www.fht360.com/companylist/49-8-1009.html is practically 404, which it shouldn't be.\n",
        "http://www.fht360.com/companylist/162/3-11-860.html is practically 404, which it shouldn't be.\n",
        "\n",
        "http://www.fht360.com/companylist/164/3-4-1.html is practically 404, which it shouldn't be.\n",
        "http://www.fht360.com/companylist/210-2-1662.html is practically 404, which it shouldn't be.\n",
        "\n",
        "\n",
        "\n",
        "\n",
        "\n",
        "\n",
        "\n",
        "\n",
        "http://www.fht360.com/companylist/165-11-860.html is practically 404, which it shouldn't be.\n",
        "\n",
        "\n",
        "http://www.fht360.com/companylist/162-2-499.html is practically 404, which it shouldn't be.\n",
        "\n",
        "\n",
        "\n",
        "\n",
        "\n",
        "http://www.fht360.com/companylist/164-15-2278.html is practically 404, which it shouldn't be.\n",
        "http://www.fht360.com/companylist/164-2-2279.html is practically 404, which it shouldn't be.\n",
        "http://www.fht360.com/companylist/164-2-2189.html is practically 404, which it shouldn't be.\n",
        "http://www.fht360.com/companylist/164-5-2186.html is practically 404, which it shouldn't be.\n",
        "\n",
        "http://www.fht360.com/companylist/164/3-16-39.html is practically 404, which it shouldn't be.\n",
        "\n",
        "http://www.fht360.com/companylist/165-3-20.html is practically 404, which it shouldn't be.\n",
        "http://www.fht360.com/companylist/162/3-2-2509.html is practically 404, which it shouldn't be.\n",
        "\n",
        "\n",
        "\n",
        "\n",
        "http://www.fht360.com/companylist/162-2-1070.html is practically 404, which it shouldn't be.\n",
        "http://www.fht360.com/companylist/162/3-2-1100.html is practically 404, which it shouldn't be.\n",
        "http://www.fht360.com/companylist/165-3-986.html is practically 404, which it shouldn't be.\n",
        "http://www.fht360.com/companylist/48/3-45-2137.html is practically 404, which it shouldn't be.\n",
        "http://www.fht360.com/companylist/48/3-10-2138.html is practically 404, which it shouldn't be.\n",
        "\n",
        "\n",
        "\n",
        "http://www.fht360.com/companylist/167/3-3-896.html is practically 404, which it shouldn't be.\n",
        "http://www.fht360.com/companylist/48-3-986.html is practically 404, which it shouldn't be.\n",
        "http://www.fht360.com/companylist/165/3-3-1010.html is practically 404, which it shouldn't be.\n",
        "\n",
        "http://www.fht360.com/companylist/162-3-228.html is practically 404, which it shouldn't be.\n",
        "http://www.fht360.com/companylist/162-2-223.html is practically 404, which it shouldn't be.\n",
        "http://www.fht360.com/companylist/162-6-221.html is practically 404, which it shouldn't be.\n",
        "http://www.fht360.com/companylist/34-2-191.html is practically 404, which it shouldn't be.\n",
        "http://www.fht360.com/companylist/162-4-1.html is practically 404, which it shouldn't be.\n",
        "http://www.fht360.com/companylist/165-2-1025.html is practically 404, which it shouldn't be.\n",
        "\n",
        "\n",
        "\n",
        "http://www.fht360.com/companylist/48/3-2-132.html is practically 404, which it shouldn't be.\n",
        "\n",
        "http://www.fht360.com/companylist/164/3-2-1858.html is practically 404, which it shouldn't be.\n",
        "http://www.fht360.com/companylist/164/3-3-1857.html is practically 404, which it shouldn't be.\n",
        "http://www.fht360.com/companylist/48-2-209.html is practically 404, which it shouldn't be.\n",
        "http://www.fht360.com/companylist/167-4-1.html is practically 404, which it shouldn't be.\n",
        "http://www.fht360.com/companylist/162/3-4-2170.html is practically 404, which it shouldn't be.\n",
        "\n",
        "http://www.fht360.com/companylist/49/10625-2.html is practically 404, which it shouldn't be.\n",
        "http://www.fht360.com/companylist/165-3-1619.html is practically 404, which it shouldn't be.\n",
        "http://www.fht360.com/companylist/165/3-16-39.html is practically 404, which it shouldn't be.\n",
        "\n",
        "http://www.fht360.com/companylist/164-24-1487.html is practically 404, which it shouldn't be.\n",
        "http://www.fht360.com/companylist/164-3-1488.html is practically 404, which it shouldn't be.\n",
        "\n",
        "\n",
        "\n",
        "http://www.fht360.com/companylist/165/3-4-1260.html is practically 404, which it shouldn't be.\n",
        "http://www.fht360.com/companylist/167-2-881.html is practically 404, which it shouldn't be.\n",
        "http://www.fht360.com/companylist/167-22-880.html is practically 404, which it shouldn't be.\n",
        "http://www.fht360.com/companylist/164/3-3-1619.html is practically 404, which it shouldn't be.\n",
        "http://www.fht360.com/companylist/48-2-1025.html is practically 404, which it shouldn't be.\n",
        "\n",
        "\n",
        "\n",
        "\n",
        "\n",
        "\n",
        "http://www.fht360.com/companylist/167-2-1051.html is practically 404, which it shouldn't be.\n",
        "http://www.fht360.com/companylist/165/3-2-111.html is practically 404, which it shouldn't be.\n",
        "\n",
        "http://www.fht360.com/companylist/48/3-3-1122.html is practically 404, which it shouldn't be.\n",
        "\n",
        "http://www.fht360.com/companylist/48/3-2-1987.html is practically 404, which it shouldn't be.\n",
        "http://www.fht360.com/companylist/164/3-4-1567.html is practically 404, which it shouldn't be.\n",
        "http://www.fht360.com/companylist/48-2-191.html is practically 404, which it shouldn't be.\n",
        "http://www.fht360.com/companylist/167-2-1491.html is practically 404, which it shouldn't be.\n",
        "http://www.fht360.com/companylist/162/3-2-991.html is practically 404, which it shouldn't be.\n",
        "\n",
        "http://www.fht360.com/companylist/79/10465-2-2137.html is practically 404, which it shouldn't be.\n",
        "http://www.fht360.com/companylist/165/3-2-1668.html is practically 404, which it shouldn't be.\n",
        "\n",
        "http://www.fht360.com/companylist/37-9-880.html is practically 404, which it shouldn't be.\n",
        "http://www.fht360.com/companylist/198/10930-2.html is practically 404, which it shouldn't be.\n",
        "\n",
        "http://www.fht360.com/companylist/167/3-2-991.html is practically 404, which it shouldn't be.\n",
        "http://www.fht360.com/companylist/48/3-2-881.html is practically 404, which it shouldn't be.\n",
        "http://www.fht360.com/companylist/48/3-22-880.html is practically 404, which it shouldn't be.\n",
        "http://www.fht360.com/companylist/48/3-3-228.html is practically 404, which it shouldn't be.\n",
        "http://www.fht360.com/companylist/48/3-6-221.html is practically 404, which it shouldn't be.\n",
        "http://www.fht360.com/companylist/48/3-2-223.html is practically 404, which it shouldn't be.\n",
        "http://www.fht360.com/companylist/165-2-2143.html is practically 404, which it shouldn't be.\n",
        "\n",
        "http://www.fht360.com/companylist/162/3-2-1570.html is practically 404, which it shouldn't be.\n",
        "http://www.fht360.com/companylist/162-2-924.html is practically 404, which it shouldn't be.\n",
        "http://www.fht360.com/companylist/162-7-927.html is practically 404, which it shouldn't be.\n",
        "\n",
        "\n",
        "\n",
        "\n",
        "http://www.fht360.com/companylist/164/3-24-1487.html is practically 404, which it shouldn't be.\n",
        "\n",
        "http://www.fht360.com/companylist/165/3-2-1491.html is practically 404, which it shouldn't be.\n",
        "\n",
        "http://www.fht360.com/companylist/48/3-7-927.html is practically 404, which it shouldn't be.\n",
        "\n",
        "\n",
        "\n",
        "\n",
        "http://www.fht360.com/companylist/164/3-22-880.html is practically 404, which it shouldn't be.\n",
        "http://www.fht360.com/companylist/34-4-2278.html is practically 404, which it shouldn't be.\n",
        "http://www.fht360.com/companylist/165-3-1488.html is practically 404, which it shouldn't be.\n",
        "http://www.fht360.com/companylist/165-24-1487.html is practically 404, which it shouldn't be.\n",
        "http://www.fht360.com/companylist/167-2-1570.html is practically 404, which it shouldn't be.\n",
        "\n",
        "\n",
        "\n",
        "http://www.fht360.com/companylist/48-2-111.html is practically 404, which it shouldn't be.\n",
        "http://www.fht360.com/companylist/162/3-3-918.html is practically 404, which it shouldn't be.\n",
        "http://www.fht360.com/companylist/165/3-10-1662.html is practically 404, which it shouldn't be.\n",
        "http://www.fht360.com/companylist/165/3-5-1663.html is practically 404, which it shouldn't be.\n",
        "http://www.fht360.com/companylist/159-5.html is practically 404, which it shouldn't be.\n",
        "http://www.fht360.com/companylist/162/3-4-1260.html is practically 404, which it shouldn't be.\n",
        "\n",
        "\n",
        "http://www.fht360.com/companylist/162/3-2-132.html is practically 404, which it shouldn't be.\n",
        "\n",
        "\n",
        "http://www.fht360.com/companylist/165-2-111.html is practically 404, which it shouldn't be.\n",
        "http://www.fht360.com/companylist/162/3-45-2137.html is practically 404, which it shouldn't be.\n",
        "http://www.fht360.com/companylist/167/3-2-1025.html is practically 404, which it shouldn't be.\n",
        "http://www.fht360.com/companylist/167/3-3-918.html is practically 404, which it shouldn't be.\n",
        "\n",
        "\n",
        "\n",
        "\n",
        "http://www.fht360.com/companylist/162/3-3-1067.html is practically 404, which it shouldn't be.\n",
        "\n",
        "\n",
        "http://www.fht360.com/companylist/54-3-1662.html is practically 404, which it shouldn't be.\n",
        "http://www.fht360.com/companylist/162/3-3-896.html is practically 404, which it shouldn't be.\n",
        "http://www.fht360.com/companylist/162-2-1364.html is practically 404, which it shouldn't be.\n",
        "\n",
        "\n",
        "http://www.fht360.com/companylist/48/3-4-1553.html is practically 404, which it shouldn't be.\n",
        "\n",
        "http://www.fht360.com/companylist/162-3-1500.html is practically 404, which it shouldn't be.\n",
        "\n",
        "http://www.fht360.com/companylist/167/3-2-706.html is practically 404, which it shouldn't be.\n",
        "http://www.fht360.com/companylist/71-4.html is practically 404, which it shouldn't be.\n",
        "http://www.fht360.com/companylist/77-10.html is practically 404, which it shouldn't be.\n",
        "http://www.fht360.com/companylist/78-5.html is practically 404, which it shouldn't be.\n",
        "http://www.fht360.com/companylist/164/3-2-1364.html is practically 404, which it shouldn't be.\n",
        "\n",
        "http://www.fht360.com/companylist/37-2-1488.html is practically 404, which it shouldn't be.\n",
        "\n",
        "http://www.fht360.com/companylist/162-2-1100.html is practically 404, which it shouldn't be.\n",
        "http://www.fht360.com/companylist/167-7-927.html is practically 404, which it shouldn't be.\n",
        "http://www.fht360.com/companylist/167-2-924.html is practically 404, which it shouldn't be.\n",
        "http://www.fht360.com/companylist/162/3-7-927.html is practically 404, which it shouldn't be.\n",
        "\n",
        "http://www.fht360.com/companylist/39/10298-2.html is practically 404, which it shouldn't be.\n",
        "http://www.fht360.com/companylist/43-2-986.html is practically 404, which it shouldn't be.\n",
        "http://www.fht360.com/companylist/165-2-191.html is practically 404, which it shouldn't be.\n",
        "\n",
        "http://www.fht360.com/companylist/57-3-1488.html is practically 404, which it shouldn't be.\n",
        "http://www.fht360.com/companylist/57-5-1487.html is practically 404, which it shouldn't be.\n",
        "http://www.fht360.com/companylist/162-3-1122.html is practically 404, which it shouldn't be.\n",
        "http://www.fht360.com/companylist/165-2-1051.html is practically 404, which it shouldn't be.\n",
        "\n",
        "\n",
        "http://www.fht360.com/companylist/37-5-39.html is practically 404, which it shouldn't be.\n",
        "\n",
        "http://www.fht360.com/companylist/37/10465-2-2137.html is practically 404, which it shouldn't be.\n",
        "\n",
        "http://www.fht360.com/companylist/164-3-40.html is practically 404, which it shouldn't be.\n",
        "http://www.fht360.com/companylist/48/3-3-20.html is practically 404, which it shouldn't be.\n",
        "\n",
        "http://www.fht360.com/companylist/162/3-2-2143.html is practically 404, which it shouldn't be.\n",
        "http://www.fht360.com/companylist/162/3-2-2147.html is practically 404, which it shouldn't be.\n",
        "http://www.fht360.com/companylist/162/3-3-2144.html is practically 404, which it shouldn't be.\n",
        "http://www.fht360.com/companylist/164-7-927.html is practically 404, which it shouldn't be.\n",
        "http://www.fht360.com/companylist/164-2-924.html is practically 404, which it shouldn't be.\n",
        "http://www.fht360.com/companylist/56-5-1487.html is practically 404, which it shouldn't be.\n",
        "http://www.fht360.com/companylist/56-3-1488.html is practically 404, which it shouldn't be.\n",
        "\n",
        "http://www.fht360.com/companylist/165-2-1570.html is practically 404, which it shouldn't be.\n",
        "http://www.fht360.com/companylist/48/3-2-1858.html is practically 404, which it shouldn't be.\n",
        "http://www.fht360.com/companylist/48/3-3-1857.html is practically 404, which it shouldn't be.\n",
        "\n",
        "\n",
        "http://www.fht360.com/companylist/48-4-1010.html is practically 404, which it shouldn't be.\n",
        "\n",
        "http://www.fht360.com/companylist/162-13-1009.html is practically 404, which it shouldn't be.\n",
        "\n",
        "\n",
        "http://www.fht360.com/companylist/48-182.html is practically 404, which it shouldn't be.\n",
        "\n",
        "http://www.fht360.com/companylist/48/3-12-2164.html is practically 404, which it shouldn't be.\n",
        "http://www.fht360.com/companylist/48/3-6-2169.html is practically 404, which it shouldn't be.\n",
        "http://www.fht360.com/companylist/165/3-6-221.html is practically 404, which it shouldn't be.\n",
        "http://www.fht360.com/companylist/165/3-2-223.html is practically 404, which it shouldn't be.\n",
        "http://www.fht360.com/companylist/165/3-3-228.html is practically 404, which it shouldn't be.\n",
        "http://www.fht360.com/companylist/164-22-880.html is practically 404, which it shouldn't be.\n",
        "http://www.fht360.com/companylist/164-2-881.html is practically 404, which it shouldn't be.\n",
        "\n",
        "\n",
        "http://www.fht360.com/companylist/162/3-24-1487.html is practically 404, which it shouldn't be.\n",
        "http://www.fht360.com/companylist/162/3-3-1488.html is practically 404, which it shouldn't be.\n",
        "http://www.fht360.com/companylist/48-2-499.html is practically 404, which it shouldn't be.\n",
        "http://www.fht360.com/companylist/34-10-2137.html is practically 404, which it shouldn't be.\n",
        "\n",
        "\n",
        "\n",
        "http://www.fht360.com/companylist/57/4-10.html is practically 404, which it shouldn't be.\n",
        "http://www.fht360.com/companylist/189-4.html is practically 404, which it shouldn't be.\n",
        "http://www.fht360.com/companylist/167-5-2186.html is practically 404, which it shouldn't be.\n",
        "http://www.fht360.com/companylist/167-2-2189.html is practically 404, which it shouldn't be.\n",
        "http://www.fht360.com/companylist/48/3-5-1663.html is practically 404, which it shouldn't be.\n",
        "http://www.fht360.com/companylist/167-2-1987.html is practically 404, which it shouldn't be.\n",
        "\n",
        "\n",
        "http://www.fht360.com/companylist/34-2-1122.html is practically 404, which it shouldn't be.\n",
        "http://www.fht360.com/companylist/165/3-2-1364.html is practically 404, which it shouldn't be.\n",
        "\n",
        "\n",
        "http://www.fht360.com/companylist/50/10796-2.html is practically 404, which it shouldn't be.\n",
        "\n",
        "http://www.fht360.com/companylist/164/3-2-938.html is practically 404, which it shouldn't be.\n",
        "http://www.fht360.com/companylist/165/3-3-40.html is practically 404, which it shouldn't be.\n",
        "\n",
        "http://www.fht360.com/companylist/48/3-3-2144.html is practically 404, which it shouldn't be.\n",
        "http://www.fht360.com/companylist/167-5-1663.html is practically 404, which it shouldn't be.\n",
        "http://www.fht360.com/companylist/167-10-1662.html is practically 404, which it shouldn't be.\n",
        "http://www.fht360.com/companylist/167-2-1668.html is practically 404, which it shouldn't be.\n",
        "http://www.fht360.com/companylist/165/3-2-2508.html is practically 404, which it shouldn't be.\n",
        "http://www.fht360.com/companylist/48/3-2-1581.html is practically 404, which it shouldn't be.\n",
        "http://www.fht360.com/companylist/165-2-1987.html is practically 404, which it shouldn't be.\n",
        "\n",
        "\n",
        "http://www.fht360.com/companylist/165-2-2147.html is practically 404, which it shouldn't be.\n",
        "http://www.fht360.com/companylist/165-3-2144.html is practically 404, which it shouldn't be.\n",
        "http://www.fht360.com/companylist/48-3-896.html is practically 404, which it shouldn't be.\n",
        "\n",
        "http://www.fht360.com/companylist/165/3-7-927.html is practically 404, which it shouldn't be.\n",
        "http://www.fht360.com/companylist/165/3-2-924.html is practically 404, which it shouldn't be.\n",
        "http://www.fht360.com/companylist/167-13-1009.html is practically 404, which it shouldn't be.\n",
        "http://www.fht360.com/companylist/167/3-4-1553.html is practically 404, which it shouldn't be.\n",
        "http://www.fht360.com/companylist/165/3-2-499.html is practically 404, which it shouldn't be.\n",
        "\n",
        "\n",
        "http://www.fht360.com/companylist/167/3-11-860.html is practically 404, which it shouldn't be.\n",
        "http://www.fht360.com/companylist/165/3-3-986.html is practically 404, which it shouldn't be.\n",
        "http://www.fht360.com/companylist/164/3-13-1009.html is practically 404, which it shouldn't be.\n",
        "http://www.fht360.com/companylist/48-2-2190.html is practically 404, which it shouldn't be.\n",
        "http://www.fht360.com/companylist/164/3-2-230.html is practically 404, which it shouldn't be.\n",
        "http://www.fht360.com/companylist/48-3-918.html is practically 404, which it shouldn't be.\n",
        "http://www.fht360.com/companylist/50-3-880.html is practically 404, which it shouldn't be.\n",
        "\n",
        "\n",
        "http://www.fht360.com/companylist/167/3-3-1010.html is practically 404, which it shouldn't be.\n",
        "http://www.fht360.com/companylist/167/3-2-111.html is practically 404, which it shouldn't be.\n",
        "http://www.fht360.com/companylist/162/3-2-1858.html is practically 404, which it shouldn't be.\n",
        "http://www.fht360.com/companylist/162/3-3-1857.html is practically 404, which it shouldn't be.\n",
        "\n",
        "\n",
        "\n",
        "http://www.fht360.com/companylist/48/3-3-1500.html is practically 404, which it shouldn't be.\n",
        "\n",
        "http://www.fht360.com/companylist/164/3-2-1987.html is practically 404, which it shouldn't be.\n",
        "http://www.fht360.com/companylist/164/3-2-2189.html is practically 404, which it shouldn't be.\n",
        "http://www.fht360.com/companylist/164/3-5-2186.html is practically 404, which it shouldn't be.\n",
        "\n",
        "http://www.fht360.com/companylist/48/3-4-1260.html is practically 404, which it shouldn't be.\n",
        "http://www.fht360.com/companylist/49-51.html is practically 404, which it shouldn't be.\n",
        "http://www.fht360.com/companylist/40-32.html is practically 404, which it shouldn't be.\n",
        "http://www.fht360.com/companylist/43-17.html is practically 404, which it shouldn't be.\n",
        "http://www.fht360.com/companylist/45-29.html is practically 404, which it shouldn't be.\n",
        "http://www.fht360.com/companylist/44-27.html is practically 404, which it shouldn't be.\n",
        "\n",
        "\n",
        "\n",
        "http://www.fht360.com/companylist/49/10954-2.html is practically 404, which it shouldn't be.\n",
        "http://www.fht360.com/companylist/165-3-1122.html is practically 404, which it shouldn't be.\n",
        "http://www.fht360.com/companylist/164-13-1009.html is practically 404, which it shouldn't be.\n",
        "http://www.fht360.com/companylist/48-3-20.html is practically 404, which it shouldn't be.\n",
        "http://www.fht360.com/companylist/167-3-1500.html is practically 404, which it shouldn't be.\n",
        "http://www.fht360.com/companylist/167/3-2-1858.html is practically 404, which it shouldn't be.\n",
        "\n",
        "http://www.fht360.com/companylist/48/3-2-1570.html is practically 404, which it shouldn't be.\n",
        "http://www.fht360.com/companylist/167-2-230.html is practically 404, which it shouldn't be.\n",
        "http://www.fht360.com/companylist/48-2-991.html is practically 404, which it shouldn't be.\n",
        "http://www.fht360.com/companylist/164-6-221.html is practically 404, which it shouldn't be.\n",
        "http://www.fht360.com/companylist/164-2-223.html is practically 404, which it shouldn't be.\n",
        "http://www.fht360.com/companylist/164-3-228.html is practically 404, which it shouldn't be.\n",
        "http://www.fht360.com/companylist/164-3-1619.html is practically 404, which it shouldn't be.\n",
        "\n",
        "\n",
        "http://www.fht360.com/companylist/210-12.html is practically 404, which it shouldn't be.\n",
        "\n",
        "\n",
        "http://www.fht360.com/companylist/167/3-2-191.html is practically 404, which it shouldn't be.\n",
        "\n",
        "http://www.fht360.com/companylist/167/3-2-1514.html is practically 404, which it shouldn't be.\n",
        "http://www.fht360.com/companylist/165/3-166.html is practically 404, which it shouldn't be.\n",
        "http://www.fht360.com/companylist/164/3-3-1488.html is practically 404, which it shouldn't be.\n",
        "http://www.fht360.com/companylist/45-11-2137.html is practically 404, which it shouldn't be.\n",
        "http://www.fht360.com/companylist/48-2-924.html is practically 404, which it shouldn't be.\n",
        "\n",
        "\n",
        "\n",
        "\n",
        "http://www.fht360.com/companylist/48/3-2-991.html is practically 404, which it shouldn't be.\n",
        "http://www.fht360.com/companylist/162/3-4-1.html is practically 404, which it shouldn't be.\n",
        "\n",
        "\n",
        "\n",
        "http://www.fht360.com/companylist/49/10649-2.html is practically 404, which it shouldn't be.\n",
        "\n",
        "http://www.fht360.com/companylist/210/4-10.html is practically 404, which it shouldn't be.\n",
        "\n",
        "\n",
        "\n",
        "http://www.fht360.com/companylist/167/3-2-2143.html is practically 404, which it shouldn't be.\n",
        "http://www.fht360.com/companylist/167/3-3-2144.html is practically 404, which it shouldn't be.\n",
        "http://www.fht360.com/companylist/167/3-2-2147.html is practically 404, which it shouldn't be.\n",
        "\n",
        "\n",
        "http://www.fht360.com/companylist/165-2-230.html is practically 404, which it shouldn't be.\n",
        "http://www.fht360.com/companylist/48/3-2-924.html is practically 404, which it shouldn't be.\n",
        "http://www.fht360.com/companylist/44-9-2137.html is practically 404, which it shouldn't be.\n",
        "\n",
        "http://www.fht360.com/companylist/164/3-2-873.html is practically 404, which it shouldn't be.\n",
        "http://www.fht360.com/companylist/162-2-2143.html is practically 404, which it shouldn't be.\n",
        "http://www.fht360.com/companylist/162-2-1051.html is practically 404, which it shouldn't be.\n",
        "http://www.fht360.com/companylist/162-2-2147.html is practically 404, which it shouldn't be.\n",
        "\n",
        "http://www.fht360.com/companylist/167-2-1581.html is practically 404, which it shouldn't be.\n",
        "http://www.fht360.com/companylist/165/3-2-991.html is practically 404, which it shouldn't be.\n",
        "\n",
        "http://www.fht360.com/companylist/164/3-5-1663.html is practically 404, which it shouldn't be.\n",
        "http://www.fht360.com/companylist/164/3-2-1668.html is practically 404, which it shouldn't be.\n",
        "\n",
        "http://www.fht360.com/companylist/48-2-1038.html is practically 404, which it shouldn't be.\n",
        "\n",
        "http://www.fht360.com/companylist/167/3-3-1122.html is practically 404, which it shouldn't be.\n",
        "\n",
        "\n",
        "\n",
        "http://www.fht360.com/companylist/165/3-2-1070.html is practically 404, which it shouldn't be.\n",
        "\n",
        "\n",
        "http://www.fht360.com/companylist/164/3-3-1500.html is practically 404, which it shouldn't be.\n",
        "http://www.fht360.com/companylist/167-12-2164.html is practically 404, which it shouldn't be.\n",
        "\n",
        "http://www.fht360.com/companylist/37-4-986.html is practically 404, which it shouldn't be.\n",
        "\n",
        "http://www.fht360.com/companylist/162-24-1487.html is practically 404, which it shouldn't be.\n",
        "http://www.fht360.com/companylist/162-3-1488.html is practically 404, which it shouldn't be.\n",
        "http://www.fht360.com/companylist/165-13-1009.html is practically 404, which it shouldn't be.\n",
        "http://www.fht360.com/companylist/164-3-1122.html is practically 404, which it shouldn't be.\n",
        "http://www.fht360.com/companylist/49-12-2138.html is practically 404, which it shouldn't be.\n",
        "\n",
        "\n",
        "http://www.fht360.com/companylist/43-4-2137.html is practically 404, which it shouldn't be.\n",
        "http://www.fht360.com/companylist/162-4-2170.html is practically 404, which it shouldn't be.\n",
        "http://www.fht360.com/companylist/48/3-3-1619.html is practically 404, which it shouldn't be.\n",
        "http://www.fht360.com/companylist/59-9-2137.html is practically 404, which it shouldn't be.\n",
        "http://www.fht360.com/companylist/167-4-2170.html is practically 404, which it shouldn't be.\n",
        "\n",
        "http://www.fht360.com/companylist/162-2-873.html is practically 404, which it shouldn't be.\n",
        "http://www.fht360.com/companylist/63-2-1488.html is practically 404, which it shouldn't be.\n",
        "http://www.fht360.com/companylist/63-3-1487.html is practically 404, which it shouldn't be.\n",
        "http://www.fht360.com/companylist/164-16-39.html is practically 404, which it shouldn't be.\n",
        "\n",
        "\n",
        "\n",
        "\n",
        "http://www.fht360.com/companylist/165/3-3-896.html is practically 404, which it shouldn't be.\n",
        "http://www.fht360.com/companylist/162-3-986.html is practically 404, which it shouldn't be.\n",
        "http://www.fht360.com/companylist/162-4-1567.html is practically 404, which it shouldn't be.\n",
        "http://www.fht360.com/companylist/165/3-2-706.html is practically 404, which it shouldn't be.\n",
        "http://www.fht360.com/companylist/167-3-1619.html is practically 404, which it shouldn't be.\n",
        "\n",
        "\n",
        "http://www.fht360.com/companylist/167-2-1276.html is practically 404, which it shouldn't be.\n",
        "http://www.fht360.com/companylist/34-17-1487.html is practically 404, which it shouldn't be.\n",
        "http://www.fht360.com/companylist/34-6-1488.html is practically 404, which it shouldn't be.\n",
        "\n",
        "\n",
        "http://www.fht360.com/companylist/93-3.html is practically 404, which it shouldn't be.\n",
        "http://www.fht360.com/companylist/91-2.html is practically 404, which it shouldn't be.\n",
        "http://www.fht360.com/companylist/34-2-918.html is practically 404, which it shouldn't be.\n",
        "http://www.fht360.com/companylist/165-2-924.html is practically 404, which it shouldn't be.\n",
        "http://www.fht360.com/companylist/165-7-927.html is practically 404, which it shouldn't be.\n",
        "http://www.fht360.com/companylist/48-12-860.html is practically 404, which it shouldn't be.\n",
        "\n",
        "http://www.fht360.com/companylist/164/3-2-881.html is practically 404, which it shouldn't be.\n",
        "http://www.fht360.com/companylist/162-2-2508.html is practically 404, which it shouldn't be.\n",
        "http://www.fht360.com/companylist/162-2-2509.html is practically 404, which it shouldn't be.\n",
        "\n",
        "\n",
        "http://www.fht360.com/companylist/165/3-3-918.html is practically 404, which it shouldn't be.\n",
        "http://www.fht360.com/companylist/167-2-1070.html is practically 404, which it shouldn't be.\n",
        "\n",
        "http://www.fht360.com/companylist/165/3-2-132.html is practically 404, which it shouldn't be.\n",
        "http://www.fht360.com/companylist/165/3-2-191.html is practically 404, which it shouldn't be.\n",
        "\n",
        "\n",
        "\n",
        "http://www.fht360.com/companylist/164-3-1500.html is practically 404, which it shouldn't be.\n",
        "http://www.fht360.com/companylist/48/3-2-1100.html is practically 404, which it shouldn't be.\n",
        "\n",
        "http://www.fht360.com/companylist/165/3-4-1567.html is practically 404, which it shouldn't be.\n",
        "http://www.fht360.com/companylist/164/3-2-1581.html is practically 404, which it shouldn't be.\n",
        "http://www.fht360.com/companylist/165-2-1858.html is practically 404, which it shouldn't be.\n",
        "http://www.fht360.com/companylist/48-17-2278.html is practically 404, which it shouldn't be.\n",
        "http://www.fht360.com/companylist/48-2-2279.html is practically 404, which it shouldn't be.\n",
        "http://www.fht360.com/companylist/34-4-1567.html is practically 404, which it shouldn't be.\n",
        "http://www.fht360.com/companylist/34-2-1569.html is practically 404, which it shouldn't be.\n",
        "http://www.fht360.com/companylist/162-4-1260.html is practically 404, which it shouldn't be.\n",
        "\n",
        "\n",
        "\n",
        "\n",
        "\n",
        "http://www.fht360.com/companylist/165/3-3-1488.html is practically 404, which it shouldn't be.\n",
        "\n",
        "http://www.fht360.com/companylist/44-6-880.html is practically 404, which it shouldn't be.\n",
        "http://www.fht360.com/companylist/175/10954-2.html is practically 404, which it shouldn't be.\n",
        "http://www.fht360.com/companylist/162-2-1858.html is practically 404, which it shouldn't be.\n",
        "\n",
        "\n",
        "http://www.fht360.com/companylist/162/3-2-2190.html is practically 404, which it shouldn't be.\n",
        "http://www.fht360.com/companylist/164/3-4-1260.html is practically 404, which it shouldn't be.\n",
        "\n",
        "http://www.fht360.com/companylist/162/3-4-1553.html is practically 404, which it shouldn't be.\n",
        "http://www.fht360.com/companylist/164-2-1364.html is practically 404, which it shouldn't be.\n",
        "http://www.fht360.com/companylist/56/4-10.html is practically 404, which it shouldn't be.\n",
        "http://www.fht360.com/companylist/162-16-39.html is practically 404, which it shouldn't be.\n",
        "http://www.fht360.com/companylist/52/10930-2.html is practically 404, which it shouldn't be.\n",
        "http://www.fht360.com/companylist/164/3-2-1070.html is practically 404, which it shouldn't be.\n",
        "\n",
        "http://www.fht360.com/companylist/165-3-896.html is practically 404, which it shouldn't be.\n",
        "http://www.fht360.com/companylist/48-2-1987.html is practically 404, which it shouldn't be.\n",
        "http://www.fht360.com/companylist/48/3-24-1487.html is practically 404, which it shouldn't be.\n",
        "http://www.fht360.com/companylist/48-2-1514.html is practically 404, which it shouldn't be.\n",
        "http://www.fht360.com/companylist/167/3-2-1491.html is practically 404, which it shouldn't be.\n",
        "\n",
        "\n",
        "\n",
        "http://www.fht360.com/companylist/167-3-20.html is practically 404, which it shouldn't be.\n",
        "http://www.fht360.com/companylist/164-4-2170.html is practically 404, which it shouldn't be.\n",
        "\n",
        "http://www.fht360.com/companylist/165/3-2-1100.html is practically 404, which it shouldn't be.\n",
        "http://www.fht360.com/companylist/167/3-6-2169.html is practically 404, which it shouldn't be.\n",
        "http://www.fht360.com/companylist/165/3-12-2164.html is practically 404, which it shouldn't be.\n",
        "http://www.fht360.com/companylist/164-2-1051.html is practically 404, which it shouldn't be.\n",
        "\n",
        "http://www.fht360.com/companylist/164-2-1581.html is practically 404, which it shouldn't be.\n",
        "http://www.fht360.com/companylist/48/3-5-2186.html is practically 404, which it shouldn't be.\n",
        "http://www.fht360.com/companylist/167-4-1553.html is practically 404, which it shouldn't be.\n",
        "\n",
        "http://www.fht360.com/companylist/164/3-2-1051.html is practically 404, which it shouldn't be.\n",
        "http://www.fht360.com/companylist/167-3-986.html is practically 404, which it shouldn't be.\n",
        "http://www.fht360.com/companylist/164/3-2-2509.html is practically 404, which it shouldn't be.\n",
        "http://www.fht360.com/companylist/164/3-2-2508.html is practically 404, which it shouldn't be.\n",
        "http://www.fht360.com/companylist/48-2-2147.html is practically 404, which it shouldn't be.\n",
        "http://www.fht360.com/companylist/48-3-2144.html is practically 404, which it shouldn't be.\n",
        "\n",
        "http://www.fht360.com/companylist/48-2-1491.html is practically 404, which it shouldn't be.\n",
        "\n",
        "http://www.fht360.com/companylist/162/3-2-936.html is practically 404, which it shouldn't be.\n",
        "http://www.fht360.com/companylist/162/3-2-938.html is practically 404, which it shouldn't be.\n",
        "\n",
        "\n",
        "http://www.fht360.com/companylist/165-2-132.html is practically 404, which it shouldn't be.\n",
        "\n",
        "\n",
        "\n",
        "http://www.fht360.com/companylist/48-3-1122.html is practically 404, which it shouldn't be.\n",
        "http://www.fht360.com/companylist/162-2-2189.html is practically 404, which it shouldn't be.\n",
        "http://www.fht360.com/companylist/162-5-2186.html is practically 404, which it shouldn't be.\n",
        "http://www.fht360.com/companylist/48/3-3-1067.html is practically 404, which it shouldn't be.\n",
        "\n",
        "http://www.fht360.com/companylist/167/3-2-499.html is practically 404, which it shouldn't be.\n",
        "\n",
        "http://www.fht360.com/companylist/162/3-2-873.html is practically 404, which it shouldn't be.\n",
        "http://www.fht360.com/companylist/48/3-3-40.html is practically 404, which it shouldn't be.\n",
        "\n",
        "http://www.fht360.com/companylist/34-4-39.html is practically 404, which it shouldn't be.\n",
        "\n",
        "\n",
        "\n",
        "http://www.fht360.com/companylist/37-2-1662.html is practically 404, which it shouldn't be.\n",
        "http://www.fht360.com/companylist/167-2-2509.html is practically 404, which it shouldn't be.\n",
        "http://www.fht360.com/companylist/167-2-2508.html is practically 404, which it shouldn't be.\n",
        "http://www.fht360.com/companylist/167-3-1857.html is practically 404, which it shouldn't be.\n",
        "http://www.fht360.com/companylist/167-2-1858.html is practically 404, which it shouldn't be.\n",
        "http://www.fht360.com/companylist/167/3-15-2278.html is practically 404, which it shouldn't be.\n",
        "http://www.fht360.com/companylist/165-2-1514.html is practically 404, which it shouldn't be.\n",
        "http://www.fht360.com/companylist/48/3-3-986.html is practically 404, which it shouldn't be.\n",
        "\n",
        "\n",
        "http://www.fht360.com/companylist/162/3-3-1619.html is practically 404, which it shouldn't be.\n",
        "http://www.fht360.com/companylist/162-11-860.html is practically 404, which it shouldn't be.\n",
        "http://www.fht360.com/companylist/162-3-1067.html is practically 404, which it shouldn't be.\n",
        "http://www.fht360.com/companylist/162-2-132.html is practically 404, which it shouldn't be.\n",
        "http://www.fht360.com/companylist/165-2-991.html is practically 404, which it shouldn't be.\n",
        "http://www.fht360.com/companylist/167-4-1260.html is practically 404, which it shouldn't be.\n",
        "\n",
        "http://www.fht360.com/companylist/137/10193-2.html is practically 404, which it shouldn't be.\n",
        "http://www.fht360.com/companylist/137/10191-2.html is practically 404, which it shouldn't be.\n",
        "http://www.fht360.com/companylist/162-45-2137.html is practically 404, which it shouldn't be.\n",
        "\n",
        "\n",
        "\n",
        "http://www.fht360.com/companylist/167/3-22-880.html is practically 404, which it shouldn't be.\n",
        "http://www.fht360.com/companylist/167/3-2-881.html is practically 404, which it shouldn't be.\n",
        "http://www.fht360.com/companylist/165/3-2-1025.html is practically 404, which it shouldn't be.\n",
        "\n",
        "http://www.fht360.com/companylist/162-2-230.html is practically 404, which it shouldn't be.\n",
        "http://www.fht360.com/companylist/162/3-2-223.html is practically 404, which it shouldn't be.\n",
        "http://www.fht360.com/companylist/162/3-6-221.html is practically 404, which it shouldn't be.\n",
        "http://www.fht360.com/companylist/162/3-3-228.html is practically 404, which it shouldn't be.\n",
        "\n",
        "\n",
        "\n",
        "http://www.fht360.com/companylist/165/3-2-2190.html is practically 404, which it shouldn't be.\n",
        "http://www.fht360.com/companylist/167/3-2-2509.html is practically 404, which it shouldn't be.\n",
        "http://www.fht360.com/companylist/48-2-230.html is practically 404, which it shouldn't be.\n",
        "http://www.fht360.com/companylist/75/10298-2.html is practically 404, which it shouldn't be.\n",
        "http://www.fht360.com/companylist/48/3-2-873.html is practically 404, which it shouldn't be.\n",
        "\n",
        "\n",
        "http://www.fht360.com/companylist/162-3-1619.html is practically 404, which it shouldn't be.\n",
        "http://www.fht360.com/companylist/39-3-1487.html is practically 404, which it shouldn't be.\n",
        "\n",
        "http://www.fht360.com/companylist/162/3-6-2169.html is practically 404, which it shouldn't be.\n",
        "http://www.fht360.com/companylist/162/3-12-2164.html is practically 404, which it shouldn't be.\n",
        "\n",
        "\n",
        "\n",
        "\n",
        "http://www.fht360.com/companylist/162-4-1553.html is practically 404, which it shouldn't be.\n",
        "http://www.fht360.com/companylist/165/3-3-20.html is practically 404, which it shouldn't be.\n",
        "\n",
        "http://www.fht360.com/companylist/165/3-3-1619.html is practically 404, which it shouldn't be.\n",
        "\n",
        "http://www.fht360.com/companylist/165/3-2-1276.html is practically 404, which it shouldn't be.\n",
        "http://www.fht360.com/companylist/164/3-3-40.html is practically 404, which it shouldn't be.\n",
        "http://www.fht360.com/companylist/162/3-3-1122.html is practically 404, which it shouldn't be.\n",
        "\n",
        "\n",
        "http://www.fht360.com/companylist/167/3-45-2137.html is practically 404, which it shouldn't be.\n",
        "http://www.fht360.com/companylist/167/3-2-2190.html is practically 404, which it shouldn't be.\n",
        "http://www.fht360.com/companylist/48/3-2-1364.html is practically 404, which it shouldn't be.\n",
        "http://www.fht360.com/companylist/165-3-918.html is practically 404, which it shouldn't be.\n",
        "http://www.fht360.com/companylist/164-11-860.html is practically 404, which it shouldn't be.\n",
        "http://www.fht360.com/companylist/43-3-880.html is practically 404, which it shouldn't be.\n",
        "http://www.fht360.com/companylist/48/3-16-39.html is practically 404, which it shouldn't be.\n",
        "\n",
        "http://www.fht360.com/companylist/48/3-3-1488.html is practically 404, which it shouldn't be.\n",
        "\n",
        "\n",
        "http://www.fht360.com/companylist/164/3-2-1570.html is practically 404, which it shouldn't be.\n",
        "\n",
        "http://www.fht360.com/companylist/48-2-706.html is practically 404, which it shouldn't be.\n",
        "http://www.fht360.com/companylist/165/3-4-2170.html is practically 404, which it shouldn't be.\n",
        "http://www.fht360.com/companylist/164/3-166.html is practically 404, which it shouldn't be.\n",
        "http://www.fht360.com/companylist/165-2-499.html is practically 404, which it shouldn't be.\n",
        "\n",
        "http://www.fht360.com/companylist/34-3-1553.html is practically 404, which it shouldn't be.\n",
        "http://www.fht360.com/companylist/56-2-1662.html is practically 404, which it shouldn't be.\n",
        "http://www.fht360.com/companylist/49-4-2144.html is practically 404, which it shouldn't be.\n",
        "\n",
        "\n",
        "\n",
        "\n",
        "\n",
        "http://www.fht360.com/companylist/48-2-1689.html is practically 404, which it shouldn't be.\n",
        "\n",
        "http://www.fht360.com/companylist/164/3-2-706.html is practically 404, which it shouldn't be.\n",
        "\n",
        "\n",
        "\n",
        "http://www.fht360.com/companylist/162/3-3-1500.html is practically 404, which it shouldn't be.\n",
        "\n",
        "\n",
        "http://www.fht360.com/companylist/165/3-5-2186.html is practically 404, which it shouldn't be.\n",
        "http://www.fht360.com/companylist/165/3-2-2189.html is practically 404, which it shouldn't be.\n",
        "http://www.fht360.com/companylist/83-3-986.html is practically 404, which it shouldn't be.\n"
       ]
      }
     ],
     "prompt_number": 34
    },
    {
     "cell_type": "heading",
     "level": 2,
     "metadata": {},
     "source": [
      "#Assert that next page will not be found on server"
     ]
    },
    {
     "cell_type": "code",
     "collapsed": false,
     "input": [
      "def next_page_of_matched_url(match):\n",
      "    url = match.string\n",
      "    start, end = match.span('currpage')\n",
      "    return url[0:start]+str(int(url[start:end])+1)+url[end:]\n",
      "    \n",
      "for match in last_page_matches:\n",
      "    # find next page of matched url\n",
      "    next_page = next_page_of_matched_url(match)\n",
      "    req = requests.get(next_page)\n",
      "    print req.status_code, next_page\n",
      "    assert should_have_been_404(req.text)"
     ],
     "language": "python",
     "metadata": {},
     "outputs": []
    }
   ],
   "metadata": {}
  }
 ]
}