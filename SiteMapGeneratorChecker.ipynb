{
 "metadata": {
  "name": "",
  "signature": "sha256:7fc571f91a1a80bcf2690b6dfd22f3e5c3c480775537f3a5fd9f8203087a358c"
 },
 "nbformat": 3,
 "nbformat_minor": 0,
 "worksheets": [
  {
   "cells": [
    {
     "cell_type": "heading",
     "level": 2,
     "metadata": {},
     "source": [
      "Intelligently parse routing rules I noted a few months ago and turn then into regex matches"
     ]
    },
    {
     "cell_type": "code",
     "collapsed": false,
     "input": [
      "routing_rules_path = \"E:/OneDrive/Notes/fht360_study/routing_rules.cs\"\n",
      "\n",
      "def _get_rules():\n",
      "    with open(routing_rules_path) as f:\n",
      "        for line in f:\n",
      "            if '{' in line and '}' in line and 'currpage' in line.lower():\n",
      "                yield line.strip().lower().strip(\",\").strip('\"')\n",
      "                \n",
      "def _get_parse_rules():\n",
      "    controller_patt = r'(product|company)'\n",
      "    integer_patt = r'(?P<{kw}>\\d+)'\n",
      "\n",
      "    keyword_patterns = {kw: integer_patt.format(kw=kw) for kw in [\"realcategoryid\", \"categoryid\", \"currpage\", \"industryid\", \"region\", \"tagid\"]}\n",
      "\n",
      "    for rule in _get_rules():\n",
      "        try:\n",
      "            rule = rule.format(controller=controller_patt, **keyword_patterns)\n",
      "            yield rule\n",
      "        except KeyError as e:\n",
      "            print 'Don\\'t care about this token %s yet' % e\n",
      "            pass\n",
      "\n",
      "parse_rules = list(_get_parse_rules())\n",
      "\n",
      "for parse_rule in parse_rules:\n",
      "    print parse_rule"
     ],
     "language": "python",
     "metadata": {},
     "outputs": [
      {
       "output_type": "stream",
       "stream": "stdout",
       "text": [
        "Don't care about this token 'tradeid' yet\n",
        "(product|company)list/(?P<categoryid>\\d+)-(?P<currpage>\\d+)-(?P<region>\\d+).html\n",
        "(product|company)list/(?P<categoryid>\\d+)-(?P<currpage>\\d+).html\n",
        "(product|company)list/(?P<categoryid>\\d+)/(?P<realcategoryid>\\d+)-(?P<currpage>\\d+)-(?P<region>\\d+).html\n",
        "(product|company)list/(?P<categoryid>\\d+)/(?P<realcategoryid>\\d+)-(?P<currpage>\\d+).html\n",
        "newslist/(?P<industryid>\\d+)-(?P<tagid>\\d+)-(?P<currpage>\\d+).html\n",
        "newslist/(?P<industryid>\\d+)-(?P<currpage>\\d+).html\n"
       ]
      }
     ],
     "prompt_number": 89
    },
    {
     "cell_type": "heading",
     "level": 2,
     "metadata": {},
     "source": [
      "Group all matches by some kind of hash of all other fields except for currpage"
     ]
    },
    {
     "cell_type": "code",
     "collapsed": false,
     "input": [
      "import os\n",
      "import re\n",
      "import requests\n",
      "import itertools\n",
      "from collections import defaultdict\n",
      "\n",
      "url_folder = u\"C:/Users/yj/Desktop/fht360urls\"\n",
      "\n",
      "urls_files =  os.listdir(url_folder)\n",
      "\n",
      "def all_links_from_files(*files):\n",
      "    for fn in files:\n",
      "        full_path = os.path.join(url_folder, fn)\n",
      "        with open(full_path) as f:\n",
      "            for line in f:\n",
      "                line = line.strip()\n",
      "                if line:\n",
      "                    yield line\n",
      "\n",
      "url_group_matches = defaultdict(list)\n",
      "\n",
      "total = 0\n",
      "failed = 0\n",
      "def try_parse_by_all_rules(url):\n",
      "    global total\n",
      "    global failed\n",
      "    total += 1\n",
      "    url = url.lower()\n",
      "    for rule in parse_rules:\n",
      "        m = re.search(rule, url)\n",
      "        if m:\n",
      "            return m\n",
      "    assert 'company' not in url and 'product' not in url\n",
      "    failed += 1\n",
      "\n",
      "for url in all_links_from_files(*urls_files):\n",
      "    m = try_parse_by_all_rules(url)\n",
      "    if m:\n",
      "        groups = m.groupdict()\n",
      "        currpage = groups.pop(\"currpage\") # get rid of currpage and group the rest of keys and values into some kind of url_group\n",
      "        url_group_identifier = ';'.join(sorted([str(k)+'='+v for k, v in groups.items()]))\n",
      "        url_group_matches[url_group_identifier].append(m)\n",
      "\n",
      "print 'total', total, 'failed', failed\n",
      "assert not failed"
     ],
     "language": "python",
     "metadata": {},
     "outputs": [
      {
       "output_type": "stream",
       "stream": "stdout",
       "text": [
        "total 2001 failed 0\n"
       ]
      }
     ],
     "prompt_number": 253
    },
    {
     "cell_type": "code",
     "collapsed": false,
     "input": [
      "from operator import itemgetter\n",
      "\n",
      "last_page_matches = []\n",
      "for url_group, matches in url_group_matches.items():\n",
      "    if len(matches) > 1:\n",
      "        # find the url with largest page no\n",
      "        last_page_matche = sorted(matches, key=lambda match: match.groupdict()[\"currpage\"])[-1]\n",
      "        #print len(matches), last_page_url\n",
      "        last_page_matches.append(last_page_matche)"
     ],
     "language": "python",
     "metadata": {},
     "outputs": [],
     "prompt_number": 170
    },
    {
     "cell_type": "code",
     "collapsed": false,
     "input": [
      "import requests"
     ],
     "language": "python",
     "metadata": {},
     "outputs": [],
     "prompt_number": 100
    },
    {
     "cell_type": "code",
     "collapsed": false,
     "input": [
      "from contextlib import contextmanager\n",
      "\n",
      "import time\n",
      "\n",
      "@contextmanager\n",
      "def timed_context(work_description):\n",
      "    start = time.time()\n",
      "    yield\n",
      "    delta = time.time() - start\n",
      "    print delta, 'seconds taken for', work_description\n",
      "    "
     ],
     "language": "python",
     "metadata": {},
     "outputs": [],
     "prompt_number": 209
    },
    {
     "cell_type": "heading",
     "level": 2,
     "metadata": {},
     "source": [
      "Assert all last pages we found return 200 OK"
     ]
    },
    {
     "cell_type": "code",
     "collapsed": false,
     "input": [
      "for match in last_page_matches:\n",
      "    url = match.string\n",
      "    with timed_context(url):\n",
      "        req = requests.get(url)\n",
      "        assert req.status_code == 200\n",
      "    "
     ],
     "language": "python",
     "metadata": {},
     "outputs": [
      {
       "output_type": "stream",
       "stream": "stdout",
       "text": [
        "0.401000022888 seconds taken for http://www.fht360.com/productlist/13/466-2-1487.html\n",
        "0.177999973297"
       ]
      },
      {
       "output_type": "stream",
       "stream": "stdout",
       "text": [
        " seconds taken for http://www.fht360.com/productlist/2/185-2.html\n",
        "0.452999830246"
       ]
      },
      {
       "output_type": "stream",
       "stream": "stdout",
       "text": [
        " seconds taken for http://www.fht360.com/productlist/2-3-860.html\n",
        "0.138999938965"
       ]
      },
      {
       "output_type": "stream",
       "stream": "stdout",
       "text": [
        " seconds taken for http://www.fht360.com/productlist/13/466-2.html\n",
        "1.31700015068"
       ]
      },
      {
       "output_type": "stream",
       "stream": "stdout",
       "text": [
        " seconds taken for http://www.fht360.com/productlist/2-3-2137.html\n",
        "0.460000038147"
       ]
      },
      {
       "output_type": "stream",
       "stream": "stdout",
       "text": [
        " seconds taken for http://www.fht360.com/productlist/2-3-1009.html\n",
        "0.480999946594"
       ]
      },
      {
       "output_type": "stream",
       "stream": "stdout",
       "text": [
        " seconds taken for http://www.fht360.com/productlist/2-3-1487.html\n",
        "0.34299993515"
       ]
      },
      {
       "output_type": "stream",
       "stream": "stdout",
       "text": [
        " seconds taken for http://www.fht360.com/productlist/31-5-1487.html\n",
        "0.309000015259"
       ]
      },
      {
       "output_type": "stream",
       "stream": "stdout",
       "text": [
        " seconds taken for http://www.fht360.com/productlist/13-2-39.html\n",
        "0.34299993515"
       ]
      },
      {
       "output_type": "stream",
       "stream": "stdout",
       "text": [
        " seconds taken for http://www.fht360.com/productlist/24-3-2137.html\n",
        "0.361000061035"
       ]
      },
      {
       "output_type": "stream",
       "stream": "stdout",
       "text": [
        " seconds taken for http://www.fht360.com/productlist/2-2-1662.html\n",
        "0.384000062943"
       ]
      },
      {
       "output_type": "stream",
       "stream": "stdout",
       "text": [
        " seconds taken for http://www.fht360.com/productlist/13-3-880.html\n",
        "0.684000015259"
       ]
      },
      {
       "output_type": "stream",
       "stream": "stdout",
       "text": [
        " seconds taken for http://www.fht360.com/productlist/31-2-2137.html\n",
        "0.151000022888"
       ]
      },
      {
       "output_type": "stream",
       "stream": "stdout",
       "text": [
        " seconds taken for http://www.fht360.com/newslist/268-8.html\n",
        "0.15499997139"
       ]
      },
      {
       "output_type": "stream",
       "stream": "stdout",
       "text": [
        " seconds taken for http://www.fht360.com/newslist/269-5.html\n",
        "0.34500002861"
       ]
      },
      {
       "output_type": "stream",
       "stream": "stdout",
       "text": [
        " seconds taken for http://www.fht360.com/productlist/31-3-880.html\n",
        "0.181999921799"
       ]
      },
      {
       "output_type": "stream",
       "stream": "stdout",
       "text": [
        " seconds taken for http://www.fht360.com/productlist/13-9.html\n",
        "0.168999910355"
       ]
      },
      {
       "output_type": "stream",
       "stream": "stdout",
       "text": [
        " seconds taken for http://www.fht360.com/newslist/273-9.html\n",
        "0.304000139236"
       ]
      },
      {
       "output_type": "stream",
       "stream": "stdout",
       "text": [
        " seconds taken for http://www.fht360.com/newslist/272-96.html\n",
        "0.203999996185"
       ]
      },
      {
       "output_type": "stream",
       "stream": "stdout",
       "text": [
        " seconds taken for http://www.fht360.com/newslist/271-4.html\n",
        "0.146000146866"
       ]
      },
      {
       "output_type": "stream",
       "stream": "stdout",
       "text": [
        " seconds taken for http://www.fht360.com/newslist/270-2.html\n",
        "0.112999916077"
       ]
      },
      {
       "output_type": "stream",
       "stream": "stdout",
       "text": [
        " seconds taken for http://www.fht360.com/newslist/276-4.html\n",
        "0.121000051498"
       ]
      },
      {
       "output_type": "stream",
       "stream": "stdout",
       "text": [
        " seconds taken for http://www.fht360.com/newslist/275-2.html\n",
        "0.126999855042"
       ]
      },
      {
       "output_type": "stream",
       "stream": "stdout",
       "text": [
        " seconds taken for http://www.fht360.com/newslist/274-5.html\n",
        "0.166000127792"
       ]
      },
      {
       "output_type": "stream",
       "stream": "stdout",
       "text": [
        " seconds taken for http://www.fht360.com/productlist/24-5.html\n",
        "0.18799996376"
       ]
      },
      {
       "output_type": "stream",
       "stream": "stdout",
       "text": [
        " seconds taken for http://www.fht360.com/productlist/2/89-3.html\n",
        "0.305000066757"
       ]
      },
      {
       "output_type": "stream",
       "stream": "stdout",
       "text": [
        " seconds taken for http://www.fht360.com/productlist/2/185-2-1009.html\n",
        "0.293999910355"
       ]
      },
      {
       "output_type": "stream",
       "stream": "stdout",
       "text": [
        " seconds taken for http://www.fht360.com/newslist/1075-9.html\n",
        "0.523000001907"
       ]
      },
      {
       "output_type": "stream",
       "stream": "stdout",
       "text": [
        " seconds taken for http://www.fht360.com/productlist/2-7-880.html\n",
        "0.167999982834"
       ]
      },
      {
       "output_type": "stream",
       "stream": "stdout",
       "text": [
        " seconds taken for http://www.fht360.com/productlist/13/597-2.html\n",
        "0.351000070572"
       ]
      },
      {
       "output_type": "stream",
       "stream": "stdout",
       "text": [
        " seconds taken for http://www.fht360.com/productlist/8-2-1009.html\n",
        "0.200000047684"
       ]
      },
      {
       "output_type": "stream",
       "stream": "stdout",
       "text": [
        " seconds taken for http://www.fht360.com/productlist/31-9.html\n",
        "0.317000150681"
       ]
      },
      {
       "output_type": "stream",
       "stream": "stdout",
       "text": [
        " seconds taken for http://www.fht360.com/productlist/2/390-2-880.html\n",
        "0.198999881744"
       ]
      },
      {
       "output_type": "stream",
       "stream": "stdout",
       "text": [
        " seconds taken for http://www.fht360.com/productlist/2-9.html\n",
        "0.200000047684"
       ]
      },
      {
       "output_type": "stream",
       "stream": "stdout",
       "text": [
        " seconds taken for http://www.fht360.com/productlist/3-2.html\n",
        "0.210999965668"
       ]
      },
      {
       "output_type": "stream",
       "stream": "stdout",
       "text": [
        " seconds taken for http://www.fht360.com/productlist/8-2.html\n",
        "0.177000045776"
       ]
      },
      {
       "output_type": "stream",
       "stream": "stdout",
       "text": [
        " seconds taken for http://www.fht360.com/newslist/1060-2.html\n",
        "0.145999908447"
       ]
      },
      {
       "output_type": "stream",
       "stream": "stdout",
       "text": [
        " seconds taken for http://www.fht360.com/newslist/1061-2.html\n",
        "0.148000001907"
       ]
      },
      {
       "output_type": "stream",
       "stream": "stdout",
       "text": [
        " seconds taken for http://www.fht360.com/newslist/1062-4.html\n",
        "0.105000019073"
       ]
      },
      {
       "output_type": "stream",
       "stream": "stdout",
       "text": [
        " seconds taken for http://www.fht360.com/newslist/1063-2.html\n",
        "0.123999834061"
       ]
      },
      {
       "output_type": "stream",
       "stream": "stdout",
       "text": [
        " seconds taken for http://www.fht360.com/newslist/1064-4.html\n",
        "0.203000068665"
       ]
      },
      {
       "output_type": "stream",
       "stream": "stdout",
       "text": [
        " seconds taken for http://www.fht360.com/newslist/1065-2.html\n",
        "0.177999973297"
       ]
      },
      {
       "output_type": "stream",
       "stream": "stdout",
       "text": [
        " seconds taken for http://www.fht360.com/newslist/1054-9.html\n",
        "0.351999998093"
       ]
      },
      {
       "output_type": "stream",
       "stream": "stdout",
       "text": [
        " seconds taken for http://www.fht360.com/productlist/13-3-1487.html\n",
        "0.128999948502"
       ]
      },
      {
       "output_type": "stream",
       "stream": "stdout",
       "text": [
        " seconds taken for http://www.fht360.com/newslist/315-2.html\n",
        "0.341000080109"
       ]
      },
      {
       "output_type": "stream",
       "stream": "stdout",
       "text": [
        " seconds taken for http://www.fht360.com/productlist/31-2-860.html\n",
        "0.144999980927"
       ]
      },
      {
       "output_type": "stream",
       "stream": "stdout",
       "text": [
        " seconds taken for http://www.fht360.com/productlist/2/390-2.html\n",
        "0.743999958038"
       ]
      },
      {
       "output_type": "stream",
       "stream": "stdout",
       "text": [
        " seconds taken for http://www.fht360.com/productlist/13-3-2137.html\n"
       ]
      }
     ],
     "prompt_number": 210
    },
    {
     "cell_type": "heading",
     "level": 2,
     "metadata": {},
     "source": [
      "Assert that next page will not be found on server"
     ]
    },
    {
     "cell_type": "code",
     "collapsed": false,
     "input": [
      "def next_page_of_matched_url(match):\n",
      "    url = match.string\n",
      "    start, end = match.span('currpage')\n",
      "    return url[0:start]+str(int(url[start:end])+1)+url[end:]\n",
      "    \n",
      "for match in last_page_matches:\n",
      "    # find next page of matched url\n",
      "    next_page = next_page_of_matched_url(match)\n",
      "    req = requests.get(next_page)\n",
      "    print req.status_code, next_page"
     ],
     "language": "python",
     "metadata": {},
     "outputs": [
      {
       "output_type": "stream",
       "stream": "stdout",
       "text": [
        "200 http://www.fht360.com/productlist/13/466-3-1487.html\n",
        "200"
       ]
      },
      {
       "output_type": "stream",
       "stream": "stdout",
       "text": [
        " http://www.fht360.com/productlist/2/185-3.html\n",
        "200"
       ]
      },
      {
       "output_type": "stream",
       "stream": "stdout",
       "text": [
        " http://www.fht360.com/productlist/2-4-860.html\n",
        "200"
       ]
      },
      {
       "output_type": "stream",
       "stream": "stdout",
       "text": [
        " http://www.fht360.com/productlist/13/466-3.html\n",
        "200"
       ]
      },
      {
       "output_type": "stream",
       "stream": "stdout",
       "text": [
        " http://www.fht360.com/productlist/2-4-2137.html\n",
        "200"
       ]
      },
      {
       "output_type": "stream",
       "stream": "stdout",
       "text": [
        " http://www.fht360.com/productlist/2-4-1009.html\n",
        "200"
       ]
      },
      {
       "output_type": "stream",
       "stream": "stdout",
       "text": [
        " http://www.fht360.com/productlist/2-4-1487.html\n",
        "200"
       ]
      },
      {
       "output_type": "stream",
       "stream": "stdout",
       "text": [
        " http://www.fht360.com/productlist/31-6-1487.html\n",
        "200"
       ]
      },
      {
       "output_type": "stream",
       "stream": "stdout",
       "text": [
        " http://www.fht360.com/productlist/13-3-39.html\n",
        "200"
       ]
      },
      {
       "output_type": "stream",
       "stream": "stdout",
       "text": [
        " http://www.fht360.com/productlist/24-4-2137.html\n",
        "200"
       ]
      },
      {
       "output_type": "stream",
       "stream": "stdout",
       "text": [
        " http://www.fht360.com/productlist/2-3-1662.html\n",
        "200"
       ]
      },
      {
       "output_type": "stream",
       "stream": "stdout",
       "text": [
        " http://www.fht360.com/productlist/13-4-880.html\n",
        "200"
       ]
      },
      {
       "output_type": "stream",
       "stream": "stdout",
       "text": [
        " http://www.fht360.com/productlist/31-3-2137.html\n",
        "200"
       ]
      },
      {
       "output_type": "stream",
       "stream": "stdout",
       "text": [
        " http://www.fht360.com/newslist/268-9.html\n",
        "200"
       ]
      },
      {
       "output_type": "stream",
       "stream": "stdout",
       "text": [
        " http://www.fht360.com/newslist/269-6.html\n",
        "200"
       ]
      },
      {
       "output_type": "stream",
       "stream": "stdout",
       "text": [
        " http://www.fht360.com/productlist/31-4-880.html\n",
        "200"
       ]
      },
      {
       "output_type": "stream",
       "stream": "stdout",
       "text": [
        " http://www.fht360.com/productlist/13-10.html\n",
        "200"
       ]
      },
      {
       "output_type": "stream",
       "stream": "stdout",
       "text": [
        " http://www.fht360.com/newslist/273-10.html\n",
        "200"
       ]
      },
      {
       "output_type": "stream",
       "stream": "stdout",
       "text": [
        " http://www.fht360.com/newslist/272-97.html\n",
        "200"
       ]
      },
      {
       "output_type": "stream",
       "stream": "stdout",
       "text": [
        " http://www.fht360.com/newslist/271-5.html\n",
        "200"
       ]
      },
      {
       "output_type": "stream",
       "stream": "stdout",
       "text": [
        " http://www.fht360.com/newslist/270-3.html\n",
        "200"
       ]
      },
      {
       "output_type": "stream",
       "stream": "stdout",
       "text": [
        " http://www.fht360.com/newslist/276-5.html\n",
        "200"
       ]
      },
      {
       "output_type": "stream",
       "stream": "stdout",
       "text": [
        " http://www.fht360.com/newslist/275-3.html\n",
        "200"
       ]
      },
      {
       "output_type": "stream",
       "stream": "stdout",
       "text": [
        " http://www.fht360.com/newslist/274-6.html\n",
        "200"
       ]
      },
      {
       "output_type": "stream",
       "stream": "stdout",
       "text": [
        " http://www.fht360.com/productlist/24-6.html\n",
        "200"
       ]
      },
      {
       "output_type": "stream",
       "stream": "stdout",
       "text": [
        " http://www.fht360.com/productlist/2/89-4.html\n",
        "200"
       ]
      },
      {
       "output_type": "stream",
       "stream": "stdout",
       "text": [
        " http://www.fht360.com/productlist/2/185-3-1009.html\n",
        "200"
       ]
      },
      {
       "output_type": "stream",
       "stream": "stdout",
       "text": [
        " http://www.fht360.com/newslist/1075-10.html\n",
        "200"
       ]
      },
      {
       "output_type": "stream",
       "stream": "stdout",
       "text": [
        " http://www.fht360.com/productlist/2-8-880.html\n",
        "200"
       ]
      },
      {
       "output_type": "stream",
       "stream": "stdout",
       "text": [
        " http://www.fht360.com/productlist/13/597-3.html\n",
        "200"
       ]
      },
      {
       "output_type": "stream",
       "stream": "stdout",
       "text": [
        " http://www.fht360.com/productlist/8-3-1009.html\n",
        "200"
       ]
      },
      {
       "output_type": "stream",
       "stream": "stdout",
       "text": [
        " http://www.fht360.com/productlist/31-10.html\n",
        "200"
       ]
      },
      {
       "output_type": "stream",
       "stream": "stdout",
       "text": [
        " http://www.fht360.com/productlist/2/390-3-880.html\n",
        "200"
       ]
      },
      {
       "output_type": "stream",
       "stream": "stdout",
       "text": [
        " http://www.fht360.com/productlist/2-10.html\n",
        "200"
       ]
      },
      {
       "output_type": "stream",
       "stream": "stdout",
       "text": [
        " http://www.fht360.com/productlist/3-3.html\n",
        "200"
       ]
      },
      {
       "output_type": "stream",
       "stream": "stdout",
       "text": [
        " http://www.fht360.com/productlist/8-3.html\n",
        "200"
       ]
      },
      {
       "output_type": "stream",
       "stream": "stdout",
       "text": [
        " http://www.fht360.com/newslist/1060-3.html\n",
        "200"
       ]
      },
      {
       "output_type": "stream",
       "stream": "stdout",
       "text": [
        " http://www.fht360.com/newslist/1061-3.html\n",
        "200"
       ]
      },
      {
       "output_type": "stream",
       "stream": "stdout",
       "text": [
        " http://www.fht360.com/newslist/1062-5.html\n",
        "200"
       ]
      },
      {
       "output_type": "stream",
       "stream": "stdout",
       "text": [
        " http://www.fht360.com/newslist/1063-3.html\n",
        "200"
       ]
      },
      {
       "output_type": "stream",
       "stream": "stdout",
       "text": [
        " http://www.fht360.com/newslist/1064-5.html\n",
        "200"
       ]
      },
      {
       "output_type": "stream",
       "stream": "stdout",
       "text": [
        " http://www.fht360.com/newslist/1065-3.html\n",
        "200"
       ]
      },
      {
       "output_type": "stream",
       "stream": "stdout",
       "text": [
        " http://www.fht360.com/newslist/1054-10.html\n",
        "200"
       ]
      },
      {
       "output_type": "stream",
       "stream": "stdout",
       "text": [
        " http://www.fht360.com/productlist/13-4-1487.html\n",
        "200"
       ]
      },
      {
       "output_type": "stream",
       "stream": "stdout",
       "text": [
        " http://www.fht360.com/newslist/315-3.html\n",
        "200"
       ]
      },
      {
       "output_type": "stream",
       "stream": "stdout",
       "text": [
        " http://www.fht360.com/productlist/31-3-860.html\n",
        "200"
       ]
      },
      {
       "output_type": "stream",
       "stream": "stdout",
       "text": [
        " http://www.fht360.com/productlist/2/390-3.html\n",
        "200"
       ]
      },
      {
       "output_type": "stream",
       "stream": "stdout",
       "text": [
        " http://www.fht360.com/productlist/13-4-2137.html\n"
       ]
      }
     ],
     "prompt_number": 255
    },
    {
     "cell_type": "markdown",
     "metadata": {},
     "source": [
      "match"
     ]
    },
    {
     "cell_type": "code",
     "collapsed": false,
     "input": [
      "match.string"
     ],
     "language": "python",
     "metadata": {},
     "outputs": [
      {
       "metadata": {},
       "output_type": "pyout",
       "prompt_number": 235,
       "text": [
        "'http://www.fht360.com/productlist/2/185-2.html'"
       ]
      }
     ],
     "prompt_number": 235
    },
    {
     "cell_type": "code",
     "collapsed": false,
     "input": [
      "match.groupdict()"
     ],
     "language": "python",
     "metadata": {},
     "outputs": [
      {
       "metadata": {},
       "output_type": "pyout",
       "prompt_number": 236,
       "text": [
        "{'categoryid': '2', 'currpage': '2', 'realcategoryid': '185'}"
       ]
      }
     ],
     "prompt_number": 236
    },
    {
     "cell_type": "code",
     "collapsed": false,
     "input": [
      "match.re"
     ],
     "language": "python",
     "metadata": {},
     "outputs": [
      {
       "metadata": {},
       "output_type": "pyout",
       "prompt_number": 237,
       "text": [
        "re.compile(r'(product|company)list/(?P<categoryid>\\d+)/(?P<realcategoryid>\\d+)-(?P<currpage>\\d+).html')"
       ]
      }
     ],
     "prompt_number": 237
    },
    {
     "cell_type": "code",
     "collapsed": false,
     "input": [
      "match.start(0), match.start(1), match.start(2),"
     ],
     "language": "python",
     "metadata": {},
     "outputs": [
      {
       "metadata": {},
       "output_type": "pyout",
       "prompt_number": 241,
       "text": [
        "(22, 22, 34)"
       ]
      }
     ],
     "prompt_number": 241
    },
    {
     "cell_type": "code",
     "collapsed": false,
     "input": [
      "match.span(0), match.span(1), match.span(2),"
     ],
     "language": "python",
     "metadata": {},
     "outputs": [
      {
       "metadata": {},
       "output_type": "pyout",
       "prompt_number": 242,
       "text": [
        "((22, 46), (22, 29), (34, 35))"
       ]
      }
     ],
     "prompt_number": 242
    },
    {
     "cell_type": "code",
     "collapsed": false,
     "input": [
      "match.lastindex, match.lastgroup"
     ],
     "language": "python",
     "metadata": {},
     "outputs": [
      {
       "metadata": {},
       "output_type": "pyout",
       "prompt_number": 243,
       "text": [
        "(4, 'currpage')"
       ]
      }
     ],
     "prompt_number": 243
    },
    {
     "cell_type": "code",
     "collapsed": false,
     "input": [
      "match.group('currpage')"
     ],
     "language": "python",
     "metadata": {},
     "outputs": [
      {
       "metadata": {},
       "output_type": "pyout",
       "prompt_number": 246,
       "text": [
        "'2'"
       ]
      }
     ],
     "prompt_number": 246
    },
    {
     "cell_type": "code",
     "collapsed": false,
     "input": [
      "match.span('currpage')"
     ],
     "language": "python",
     "metadata": {},
     "outputs": [
      {
       "metadata": {},
       "output_type": "pyout",
       "prompt_number": 247,
       "text": [
        "(40, 41)"
       ]
      }
     ],
     "prompt_number": 247
    },
    {
     "cell_type": "code",
     "collapsed": false,
     "input": [],
     "language": "python",
     "metadata": {},
     "outputs": []
    }
   ],
   "metadata": {}
  }
 ]
}